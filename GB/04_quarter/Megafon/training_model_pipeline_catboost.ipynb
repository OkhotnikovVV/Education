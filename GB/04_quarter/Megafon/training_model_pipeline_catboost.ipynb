{
 "cells": [
  {
   "cell_type": "code",
   "execution_count": 1,
   "id": "958faace-d033-4b27-8823-6dde23293dd9",
   "metadata": {
    "tags": []
   },
   "outputs": [],
   "source": [
    "import numpy as np\n",
    "import pandas as pd\n",
    "import pickle\n",
    "import itertools\n",
    "import matplotlib.pyplot as plt\n",
    "from sklearn.pipeline import Pipeline\n",
    "from sklearn.metrics import confusion_matrix\n",
    "from sklearn.model_selection import train_test_split\n",
    "from sklearn.impute import SimpleImputer\n",
    "from imblearn.under_sampling import RandomUnderSampler\n",
    "from sklearn.pipeline import FeatureUnion, make_pipeline\n",
    "from sklearn.base import BaseEstimator, TransformerMixin\n",
    "from sklearn.preprocessing import StandardScaler, OneHotEncoder\n",
    "from sklearn.decomposition import TruncatedSVD\n",
    "from sklearn.metrics import classification_report\n",
    "from sklearn.metrics import precision_recall_curve, roc_curve, auc\n",
    "import catboost as catb"
   ]
  },
  {
   "cell_type": "code",
   "execution_count": 2,
   "id": "5235fd82-533b-47d7-96b6-1fb2400d074f",
   "metadata": {
    "tags": []
   },
   "outputs": [],
   "source": [
    "RANDOM_STATE = 888"
   ]
  },
  {
   "cell_type": "code",
   "execution_count": 3,
   "id": "739c93cb-4629-4a19-913b-f421190cfbf8",
   "metadata": {
    "tags": []
   },
   "outputs": [],
   "source": [
    "ANSWER_TEST_PATH = './data/answers_test.csv'\n",
    "users_data_df_PATH = './data/data_test.csv'\n",
    "DATA_TRAIN_FEATURES_PATH = './data/data_train_features.csv'\n",
    "DATA_TEST_FEATURES_PATH = './data/data_test_features.csv'"
   ]
  },
  {
   "cell_type": "markdown",
   "id": "f15d445c-fd95-440d-a622-db5b324aeafd",
   "metadata": {
    "tags": []
   },
   "source": [
    "# 1. Получаем данные."
   ]
  },
  {
   "cell_type": "code",
   "execution_count": 4,
   "id": "f3fb759f-c92e-496e-b760-2d9a9ce97116",
   "metadata": {
    "tags": []
   },
   "outputs": [
    {
     "data": {
      "text/html": [
       "<div>\n",
       "<style scoped>\n",
       "    .dataframe tbody tr th:only-of-type {\n",
       "        vertical-align: middle;\n",
       "    }\n",
       "\n",
       "    .dataframe tbody tr th {\n",
       "        vertical-align: top;\n",
       "    }\n",
       "\n",
       "    .dataframe thead th {\n",
       "        text-align: right;\n",
       "    }\n",
       "</style>\n",
       "<table border=\"1\" class=\"dataframe\">\n",
       "  <thead>\n",
       "    <tr style=\"text-align: right;\">\n",
       "      <th></th>\n",
       "      <th>id</th>\n",
       "      <th>vas_id</th>\n",
       "      <th>target</th>\n",
       "      <th>0</th>\n",
       "      <th>1</th>\n",
       "      <th>2</th>\n",
       "      <th>3</th>\n",
       "      <th>4</th>\n",
       "      <th>5</th>\n",
       "      <th>6</th>\n",
       "      <th>...</th>\n",
       "      <th>246</th>\n",
       "      <th>247</th>\n",
       "      <th>248</th>\n",
       "      <th>249</th>\n",
       "      <th>250</th>\n",
       "      <th>251</th>\n",
       "      <th>252</th>\n",
       "      <th>week_on_month</th>\n",
       "      <th>day</th>\n",
       "      <th>month</th>\n",
       "    </tr>\n",
       "  </thead>\n",
       "  <tbody>\n",
       "    <tr>\n",
       "      <th>0</th>\n",
       "      <td>2582523</td>\n",
       "      <td>2.0</td>\n",
       "      <td>0.0</td>\n",
       "      <td>NaN</td>\n",
       "      <td>NaN</td>\n",
       "      <td>NaN</td>\n",
       "      <td>NaN</td>\n",
       "      <td>NaN</td>\n",
       "      <td>NaN</td>\n",
       "      <td>NaN</td>\n",
       "      <td>...</td>\n",
       "      <td>NaN</td>\n",
       "      <td>NaN</td>\n",
       "      <td>NaN</td>\n",
       "      <td>NaN</td>\n",
       "      <td>NaN</td>\n",
       "      <td>NaN</td>\n",
       "      <td>NaN</td>\n",
       "      <td>1</td>\n",
       "      <td>9</td>\n",
       "      <td>7</td>\n",
       "    </tr>\n",
       "    <tr>\n",
       "      <th>1</th>\n",
       "      <td>1292549</td>\n",
       "      <td>2.0</td>\n",
       "      <td>0.0</td>\n",
       "      <td>NaN</td>\n",
       "      <td>NaN</td>\n",
       "      <td>NaN</td>\n",
       "      <td>NaN</td>\n",
       "      <td>NaN</td>\n",
       "      <td>NaN</td>\n",
       "      <td>NaN</td>\n",
       "      <td>...</td>\n",
       "      <td>NaN</td>\n",
       "      <td>NaN</td>\n",
       "      <td>NaN</td>\n",
       "      <td>NaN</td>\n",
       "      <td>NaN</td>\n",
       "      <td>NaN</td>\n",
       "      <td>NaN</td>\n",
       "      <td>1</td>\n",
       "      <td>9</td>\n",
       "      <td>7</td>\n",
       "    </tr>\n",
       "    <tr>\n",
       "      <th>2</th>\n",
       "      <td>4053116</td>\n",
       "      <td>1.0</td>\n",
       "      <td>0.0</td>\n",
       "      <td>NaN</td>\n",
       "      <td>NaN</td>\n",
       "      <td>NaN</td>\n",
       "      <td>NaN</td>\n",
       "      <td>NaN</td>\n",
       "      <td>NaN</td>\n",
       "      <td>NaN</td>\n",
       "      <td>...</td>\n",
       "      <td>NaN</td>\n",
       "      <td>NaN</td>\n",
       "      <td>NaN</td>\n",
       "      <td>NaN</td>\n",
       "      <td>NaN</td>\n",
       "      <td>NaN</td>\n",
       "      <td>NaN</td>\n",
       "      <td>1</td>\n",
       "      <td>9</td>\n",
       "      <td>7</td>\n",
       "    </tr>\n",
       "    <tr>\n",
       "      <th>3</th>\n",
       "      <td>4158361</td>\n",
       "      <td>2.0</td>\n",
       "      <td>0.0</td>\n",
       "      <td>NaN</td>\n",
       "      <td>NaN</td>\n",
       "      <td>NaN</td>\n",
       "      <td>NaN</td>\n",
       "      <td>NaN</td>\n",
       "      <td>NaN</td>\n",
       "      <td>NaN</td>\n",
       "      <td>...</td>\n",
       "      <td>NaN</td>\n",
       "      <td>NaN</td>\n",
       "      <td>NaN</td>\n",
       "      <td>NaN</td>\n",
       "      <td>NaN</td>\n",
       "      <td>NaN</td>\n",
       "      <td>NaN</td>\n",
       "      <td>1</td>\n",
       "      <td>9</td>\n",
       "      <td>7</td>\n",
       "    </tr>\n",
       "    <tr>\n",
       "      <th>4</th>\n",
       "      <td>3754468</td>\n",
       "      <td>4.0</td>\n",
       "      <td>0.0</td>\n",
       "      <td>NaN</td>\n",
       "      <td>NaN</td>\n",
       "      <td>NaN</td>\n",
       "      <td>NaN</td>\n",
       "      <td>NaN</td>\n",
       "      <td>NaN</td>\n",
       "      <td>NaN</td>\n",
       "      <td>...</td>\n",
       "      <td>NaN</td>\n",
       "      <td>NaN</td>\n",
       "      <td>NaN</td>\n",
       "      <td>NaN</td>\n",
       "      <td>NaN</td>\n",
       "      <td>NaN</td>\n",
       "      <td>NaN</td>\n",
       "      <td>1</td>\n",
       "      <td>9</td>\n",
       "      <td>7</td>\n",
       "    </tr>\n",
       "  </tbody>\n",
       "</table>\n",
       "<p>5 rows × 259 columns</p>\n",
       "</div>"
      ],
      "text/plain": [
       "        id  vas_id  target   0   1   2   3   4   5   6  ...  246  247  248  \\\n",
       "0  2582523     2.0     0.0 NaN NaN NaN NaN NaN NaN NaN  ...  NaN  NaN  NaN   \n",
       "1  1292549     2.0     0.0 NaN NaN NaN NaN NaN NaN NaN  ...  NaN  NaN  NaN   \n",
       "2  4053116     1.0     0.0 NaN NaN NaN NaN NaN NaN NaN  ...  NaN  NaN  NaN   \n",
       "3  4158361     2.0     0.0 NaN NaN NaN NaN NaN NaN NaN  ...  NaN  NaN  NaN   \n",
       "4  3754468     4.0     0.0 NaN NaN NaN NaN NaN NaN NaN  ...  NaN  NaN  NaN   \n",
       "\n",
       "   249  250  251  252  week_on_month  day  month  \n",
       "0  NaN  NaN  NaN  NaN              1    9      7  \n",
       "1  NaN  NaN  NaN  NaN              1    9      7  \n",
       "2  NaN  NaN  NaN  NaN              1    9      7  \n",
       "3  NaN  NaN  NaN  NaN              1    9      7  \n",
       "4  NaN  NaN  NaN  NaN              1    9      7  \n",
       "\n",
       "[5 rows x 259 columns]"
      ]
     },
     "execution_count": 4,
     "metadata": {},
     "output_type": "execute_result"
    }
   ],
   "source": [
    "data_train  = pd.read_csv(DATA_TRAIN_FEATURES_PATH)\n",
    "\n",
    "data_train.head()"
   ]
  },
  {
   "cell_type": "code",
   "execution_count": 5,
   "id": "b0af5781-f289-4b54-96b4-13397ed2bf15",
   "metadata": {
    "tags": []
   },
   "outputs": [],
   "source": [
    "# Разделим признаки и целевую переменную\n",
    "data_prelim = data_train.copy()\n",
    "\n",
    "X = data_prelim.drop('target', axis=1)\n",
    "y = data_prelim['target']"
   ]
  },
  {
   "cell_type": "code",
   "execution_count": 6,
   "id": "d62140c1-abea-4186-b5ee-fddbc8c05a39",
   "metadata": {
    "tags": []
   },
   "outputs": [],
   "source": [
    "X.loc[(X['252'] > 1, '252')] = 2.0"
   ]
  },
  {
   "cell_type": "code",
   "execution_count": 7,
   "id": "b6ea00c8-41a4-4d53-9005-9d5c40c86a40",
   "metadata": {
    "tags": []
   },
   "outputs": [
    {
     "data": {
      "text/html": [
       "<div>\n",
       "<style scoped>\n",
       "    .dataframe tbody tr th:only-of-type {\n",
       "        vertical-align: middle;\n",
       "    }\n",
       "\n",
       "    .dataframe tbody tr th {\n",
       "        vertical-align: top;\n",
       "    }\n",
       "\n",
       "    .dataframe thead th {\n",
       "        text-align: right;\n",
       "    }\n",
       "</style>\n",
       "<table border=\"1\" class=\"dataframe\">\n",
       "  <thead>\n",
       "    <tr style=\"text-align: right;\">\n",
       "      <th></th>\n",
       "      <th>id</th>\n",
       "      <th>vas_id</th>\n",
       "      <th>0</th>\n",
       "      <th>1</th>\n",
       "      <th>2</th>\n",
       "      <th>3</th>\n",
       "      <th>4</th>\n",
       "      <th>5</th>\n",
       "      <th>6</th>\n",
       "      <th>7</th>\n",
       "      <th>...</th>\n",
       "      <th>246</th>\n",
       "      <th>247</th>\n",
       "      <th>248</th>\n",
       "      <th>249</th>\n",
       "      <th>250</th>\n",
       "      <th>251</th>\n",
       "      <th>252</th>\n",
       "      <th>week_on_month</th>\n",
       "      <th>day</th>\n",
       "      <th>month</th>\n",
       "    </tr>\n",
       "  </thead>\n",
       "  <tbody>\n",
       "    <tr>\n",
       "      <th>0</th>\n",
       "      <td>2582523</td>\n",
       "      <td>2.0</td>\n",
       "      <td>NaN</td>\n",
       "      <td>NaN</td>\n",
       "      <td>NaN</td>\n",
       "      <td>NaN</td>\n",
       "      <td>NaN</td>\n",
       "      <td>NaN</td>\n",
       "      <td>NaN</td>\n",
       "      <td>NaN</td>\n",
       "      <td>...</td>\n",
       "      <td>NaN</td>\n",
       "      <td>NaN</td>\n",
       "      <td>NaN</td>\n",
       "      <td>NaN</td>\n",
       "      <td>NaN</td>\n",
       "      <td>NaN</td>\n",
       "      <td>NaN</td>\n",
       "      <td>1</td>\n",
       "      <td>9</td>\n",
       "      <td>7</td>\n",
       "    </tr>\n",
       "    <tr>\n",
       "      <th>1</th>\n",
       "      <td>1292549</td>\n",
       "      <td>2.0</td>\n",
       "      <td>NaN</td>\n",
       "      <td>NaN</td>\n",
       "      <td>NaN</td>\n",
       "      <td>NaN</td>\n",
       "      <td>NaN</td>\n",
       "      <td>NaN</td>\n",
       "      <td>NaN</td>\n",
       "      <td>NaN</td>\n",
       "      <td>...</td>\n",
       "      <td>NaN</td>\n",
       "      <td>NaN</td>\n",
       "      <td>NaN</td>\n",
       "      <td>NaN</td>\n",
       "      <td>NaN</td>\n",
       "      <td>NaN</td>\n",
       "      <td>NaN</td>\n",
       "      <td>1</td>\n",
       "      <td>9</td>\n",
       "      <td>7</td>\n",
       "    </tr>\n",
       "    <tr>\n",
       "      <th>2</th>\n",
       "      <td>4053116</td>\n",
       "      <td>1.0</td>\n",
       "      <td>NaN</td>\n",
       "      <td>NaN</td>\n",
       "      <td>NaN</td>\n",
       "      <td>NaN</td>\n",
       "      <td>NaN</td>\n",
       "      <td>NaN</td>\n",
       "      <td>NaN</td>\n",
       "      <td>NaN</td>\n",
       "      <td>...</td>\n",
       "      <td>NaN</td>\n",
       "      <td>NaN</td>\n",
       "      <td>NaN</td>\n",
       "      <td>NaN</td>\n",
       "      <td>NaN</td>\n",
       "      <td>NaN</td>\n",
       "      <td>NaN</td>\n",
       "      <td>1</td>\n",
       "      <td>9</td>\n",
       "      <td>7</td>\n",
       "    </tr>\n",
       "    <tr>\n",
       "      <th>3</th>\n",
       "      <td>4158361</td>\n",
       "      <td>2.0</td>\n",
       "      <td>NaN</td>\n",
       "      <td>NaN</td>\n",
       "      <td>NaN</td>\n",
       "      <td>NaN</td>\n",
       "      <td>NaN</td>\n",
       "      <td>NaN</td>\n",
       "      <td>NaN</td>\n",
       "      <td>NaN</td>\n",
       "      <td>...</td>\n",
       "      <td>NaN</td>\n",
       "      <td>NaN</td>\n",
       "      <td>NaN</td>\n",
       "      <td>NaN</td>\n",
       "      <td>NaN</td>\n",
       "      <td>NaN</td>\n",
       "      <td>NaN</td>\n",
       "      <td>1</td>\n",
       "      <td>9</td>\n",
       "      <td>7</td>\n",
       "    </tr>\n",
       "    <tr>\n",
       "      <th>4</th>\n",
       "      <td>3754468</td>\n",
       "      <td>4.0</td>\n",
       "      <td>NaN</td>\n",
       "      <td>NaN</td>\n",
       "      <td>NaN</td>\n",
       "      <td>NaN</td>\n",
       "      <td>NaN</td>\n",
       "      <td>NaN</td>\n",
       "      <td>NaN</td>\n",
       "      <td>NaN</td>\n",
       "      <td>...</td>\n",
       "      <td>NaN</td>\n",
       "      <td>NaN</td>\n",
       "      <td>NaN</td>\n",
       "      <td>NaN</td>\n",
       "      <td>NaN</td>\n",
       "      <td>NaN</td>\n",
       "      <td>NaN</td>\n",
       "      <td>1</td>\n",
       "      <td>9</td>\n",
       "      <td>7</td>\n",
       "    </tr>\n",
       "  </tbody>\n",
       "</table>\n",
       "<p>5 rows × 258 columns</p>\n",
       "</div>"
      ],
      "text/plain": [
       "        id  vas_id   0   1   2   3   4   5   6   7  ...  246  247  248  249  \\\n",
       "0  2582523     2.0 NaN NaN NaN NaN NaN NaN NaN NaN  ...  NaN  NaN  NaN  NaN   \n",
       "1  1292549     2.0 NaN NaN NaN NaN NaN NaN NaN NaN  ...  NaN  NaN  NaN  NaN   \n",
       "2  4053116     1.0 NaN NaN NaN NaN NaN NaN NaN NaN  ...  NaN  NaN  NaN  NaN   \n",
       "3  4158361     2.0 NaN NaN NaN NaN NaN NaN NaN NaN  ...  NaN  NaN  NaN  NaN   \n",
       "4  3754468     4.0 NaN NaN NaN NaN NaN NaN NaN NaN  ...  NaN  NaN  NaN  NaN   \n",
       "\n",
       "   250  251  252  week_on_month  day  month  \n",
       "0  NaN  NaN  NaN              1    9      7  \n",
       "1  NaN  NaN  NaN              1    9      7  \n",
       "2  NaN  NaN  NaN              1    9      7  \n",
       "3  NaN  NaN  NaN              1    9      7  \n",
       "4  NaN  NaN  NaN              1    9      7  \n",
       "\n",
       "[5 rows x 258 columns]"
      ]
     },
     "execution_count": 7,
     "metadata": {},
     "output_type": "execute_result"
    }
   ],
   "source": [
    "X.head()"
   ]
  },
  {
   "cell_type": "code",
   "execution_count": 8,
   "id": "205ad6ee-451d-49fa-aaf2-32f3d71e1299",
   "metadata": {
    "tags": []
   },
   "outputs": [
    {
     "name": "stdout",
     "output_type": "stream",
     "text": [
      "ID уникален?  True\n",
      "Есть ли дубли в строках? 0\n",
      "Сколько процент признаков могут принимать null-значениями? 98%\n"
     ]
    }
   ],
   "source": [
    "print(\"ID уникален? \", X.index.is_unique)\n",
    "print(\"Есть ли дубли в строках?\", X.duplicated().sum())\n",
    "print(\"Сколько процент признаков могут принимать null-значениями? %d%%\" % float((X.isnull().sum() > 0).sum()/X.shape[1]*100))"
   ]
  },
  {
   "cell_type": "markdown",
   "id": "4208c76d-b9ff-4262-add5-f36e33da9ca1",
   "metadata": {},
   "source": [
    "# 2. Опредлеяем типы переменных."
   ]
  },
  {
   "cell_type": "code",
   "execution_count": 9,
   "id": "a9058e75-773e-4097-bb08-af6a9bedbfb8",
   "metadata": {
    "tags": []
   },
   "outputs": [],
   "source": [
    "X_nunique = X.apply(lambda x: x.nunique(dropna=False))"
   ]
  },
  {
   "cell_type": "code",
   "execution_count": 10,
   "id": "7eea5d7f-b287-4bb2-ad06-558f26652403",
   "metadata": {
    "tags": []
   },
   "outputs": [
    {
     "data": {
      "text/plain": [
       "id               806613\n",
       "vas_id                8\n",
       "0                 32843\n",
       "1                 84458\n",
       "2                 40196\n",
       "                  ...  \n",
       "251                 210\n",
       "252                   4\n",
       "week_on_month         5\n",
       "day                  22\n",
       "month                 6\n",
       "Length: 258, dtype: int64"
      ]
     },
     "execution_count": 10,
     "metadata": {},
     "output_type": "execute_result"
    }
   ],
   "source": [
    "X_nunique"
   ]
  },
  {
   "cell_type": "code",
   "execution_count": 11,
   "id": "7304fbf7-905c-4b9c-96bb-848fc2c12575",
   "metadata": {
    "tags": []
   },
   "outputs": [
    {
     "data": {
      "text/plain": [
       "258"
      ]
     },
     "execution_count": 11,
     "metadata": {},
     "output_type": "execute_result"
    }
   ],
   "source": [
    "f_all = set(X_nunique.index.tolist())\n",
    "len(f_all)"
   ]
  },
  {
   "cell_type": "code",
   "execution_count": 12,
   "id": "4271535e-d177-459a-874a-031d8efc9204",
   "metadata": {
    "tags": []
   },
   "outputs": [
    {
     "data": {
      "text/plain": [
       "(0, 258)"
      ]
     },
     "execution_count": 12,
     "metadata": {},
     "output_type": "execute_result"
    }
   ],
   "source": [
    "#### Константные признаки\n",
    "f_const = set(X_nunique[X_nunique == 1].index.tolist())\n",
    "\n",
    "f_other = f_all - f_const\n",
    "len(f_const), len(f_other)"
   ]
  },
  {
   "cell_type": "code",
   "execution_count": 13,
   "id": "b2efb024-6e97-44ba-9a5b-90d2cdb941b8",
   "metadata": {
    "tags": []
   },
   "outputs": [
    {
     "name": "stderr",
     "output_type": "stream",
     "text": [
      "C:\\Users\\Азм\\AppData\\Local\\Temp\\ipykernel_10144\\2136953610.py:2: FutureWarning: Passing a set as an indexer is deprecated and will raise in a future version. Use a list instead.\n",
      "  f_binary = set(X.loc[:, f_other].columns[(\n",
      "C:\\Users\\Азм\\AppData\\Local\\Temp\\ipykernel_10144\\2136953610.py:3: FutureWarning: Passing a set as an indexer is deprecated and will raise in a future version. Use a list instead.\n",
      "  (X.loc[:, f_other].max() == 1) & \\\n",
      "C:\\Users\\Азм\\AppData\\Local\\Temp\\ipykernel_10144\\2136953610.py:4: FutureWarning: Passing a set as an indexer is deprecated and will raise in a future version. Use a list instead.\n",
      "  (X.loc[:, f_other].min() == 0) & \\\n",
      "C:\\Users\\Азм\\AppData\\Local\\Temp\\ipykernel_10144\\2136953610.py:5: FutureWarning: Passing a set as an indexer is deprecated and will raise in a future version. Use a list instead.\n",
      "  (X.loc[:, f_other].isnull().sum() == 0))])\n"
     ]
    },
    {
     "data": {
      "text/plain": [
       "(0, 258)"
      ]
     },
     "execution_count": 13,
     "metadata": {},
     "output_type": "execute_result"
    }
   ],
   "source": [
    "#### Бинарные\n",
    "f_binary = set(X.loc[:, f_other].columns[(\n",
    "                      (X.loc[:, f_other].max() == 1) & \\\n",
    "                      (X.loc[:, f_other].min() == 0) & \\\n",
    "                      (X.loc[:, f_other].isnull().sum() == 0))])\n",
    "\n",
    "# f_other = f_all - (f_binary | f_const)\n",
    "f_other = f_other - f_binary\n",
    "\n",
    "len(f_binary), len(f_other)"
   ]
  },
  {
   "cell_type": "code",
   "execution_count": 14,
   "id": "4d561115-ac4c-41b6-8a8e-3d471c09ea68",
   "metadata": {
    "tags": []
   },
   "outputs": [
    {
     "name": "stderr",
     "output_type": "stream",
     "text": [
      "C:\\Users\\Азм\\AppData\\Local\\Temp\\ipykernel_10144\\728233320.py:2: FutureWarning: Passing a set as an indexer is deprecated and will raise in a future version. Use a list instead.\n",
      "  f_categorical = set(X_nunique.loc[f_other][X_nunique.loc[f_other] <= 5].index.tolist())\n",
      "C:\\Users\\Азм\\AppData\\Local\\Temp\\ipykernel_10144\\728233320.py:2: FutureWarning: Passing a set as an indexer is deprecated and will raise in a future version. Use a list instead.\n",
      "  f_categorical = set(X_nunique.loc[f_other][X_nunique.loc[f_other] <= 5].index.tolist())\n"
     ]
    },
    {
     "data": {
      "text/plain": [
       "(30, 228)"
      ]
     },
     "execution_count": 14,
     "metadata": {},
     "output_type": "execute_result"
    }
   ],
   "source": [
    "#### Категориальные\n",
    "f_categorical = set(X_nunique.loc[f_other][X_nunique.loc[f_other] <= 5].index.tolist())\n",
    "f_numeric_extra = f_categorical\n",
    "f_other = f_other - f_categorical\n",
    "\n",
    "len(f_categorical), len(f_other)"
   ]
  },
  {
   "cell_type": "code",
   "execution_count": 15,
   "id": "9993a225-b8e1-4708-8fe5-f73f7f69296a",
   "metadata": {
    "tags": []
   },
   "outputs": [
    {
     "name": "stderr",
     "output_type": "stream",
     "text": [
      "C:\\Users\\Азм\\AppData\\Local\\Temp\\ipykernel_10144\\3306782789.py:2: FutureWarning: Passing a set as an indexer is deprecated and will raise in a future version. Use a list instead.\n",
      "  f_numeric = (X[f_other].fillna(0).astype(int).sum() - X[f_other].fillna(0).sum()).abs()\n",
      "F:\\Git_docs\\venv\\lib\\site-packages\\pandas\\core\\dtypes\\cast.py:1196: RuntimeWarning: invalid value encountered in cast\n",
      "  return values.astype(dtype, copy=copy)\n",
      "C:\\Users\\Азм\\AppData\\Local\\Temp\\ipykernel_10144\\3306782789.py:2: FutureWarning: Passing a set as an indexer is deprecated and will raise in a future version. Use a list instead.\n",
      "  f_numeric = (X[f_other].fillna(0).astype(int).sum() - X[f_other].fillna(0).sum()).abs()\n"
     ]
    },
    {
     "data": {
      "text/plain": [
       "(224, 4)"
      ]
     },
     "execution_count": 15,
     "metadata": {},
     "output_type": "execute_result"
    }
   ],
   "source": [
    "#### Вещественные признаки\n",
    "f_numeric = (X[f_other].fillna(0).astype(int).sum() - X[f_other].fillna(0).sum()).abs() \n",
    "f_numeric = set(f_numeric[f_numeric > 0].index.tolist())\n",
    "f_other = f_other - f_numeric\n",
    "# f_other = f_all - (f_numeric | f_const)\n",
    "len(f_numeric), len(f_other)"
   ]
  },
  {
   "cell_type": "code",
   "execution_count": 16,
   "id": "990039e1-af2b-400a-96fe-5f83f2e1bd9f",
   "metadata": {
    "tags": []
   },
   "outputs": [
    {
     "data": {
      "text/plain": [
       "0"
      ]
     },
     "execution_count": 16,
     "metadata": {},
     "output_type": "execute_result"
    }
   ],
   "source": [
    "f_numeric = f_numeric | f_other\n",
    "f_other = f_other - f_numeric\n",
    "len(f_other)"
   ]
  },
  {
   "cell_type": "code",
   "execution_count": 17,
   "id": "ed46fdcf-ba28-407f-a0e2-7bbb5ae479cc",
   "metadata": {
    "tags": []
   },
   "outputs": [
    {
     "name": "stdout",
     "output_type": "stream",
     "text": [
      "f_all: 258\n",
      "\n",
      "f_const: 0\n",
      "f_binary: 0\n",
      "f_categorical: 30\n",
      "f_numeric: 228\n"
     ]
    }
   ],
   "source": [
    "print('f_all:', len(f_all))\n",
    "print()\n",
    "print('f_const:', len(f_const))\n",
    "print('f_binary:', len(f_binary))\n",
    "print('f_categorical:', len(f_categorical))\n",
    "print('f_numeric:', len(f_numeric))\n",
    "\n",
    "f_ok = list(f_binary | f_categorical | f_numeric)\n",
    "f_binary, f_categorical, f_numeric = list(f_binary), list(f_categorical), list(f_numeric)"
   ]
  },
  {
   "cell_type": "markdown",
   "id": "96111c3e-3a68-4f57-8f0d-c001add45636",
   "metadata": {},
   "source": [
    "# 3. Распределение на тенировочную и тестовую выборки."
   ]
  },
  {
   "cell_type": "code",
   "execution_count": 18,
   "id": "b1bcf5e4-efa7-465e-883c-fb9cbc9f06de",
   "metadata": {
    "tags": []
   },
   "outputs": [],
   "source": [
    "train_idx, test_idx = train_test_split(X.index, test_size=0.25, random_state=RANDOM_STATE)\n",
    "\n",
    "y_train, y_test = y.loc[train_idx], y.loc[test_idx]\n",
    "x_train, x_test = X.loc[train_idx], X.loc[test_idx]"
   ]
  },
  {
   "cell_type": "markdown",
   "id": "0056885f-52c8-4b27-a61f-6e91977de9c8",
   "metadata": {},
   "source": [
    "# 4. Балансировка массивов."
   ]
  },
  {
   "cell_type": "code",
   "execution_count": 19,
   "id": "4576b741-9719-483d-aaa9-b66434d39c20",
   "metadata": {
    "tags": []
   },
   "outputs": [
    {
     "data": {
      "text/plain": [
       "0.0    0.927631\n",
       "1.0    0.072369\n",
       "Name: target, dtype: float64"
      ]
     },
     "execution_count": 19,
     "metadata": {},
     "output_type": "execute_result"
    },
    {
     "data": {
      "image/png": "[encoded data removed]",
      "text/plain": [
       "<Figure size 640x480 with 1 Axes>"
      ]
     },
     "metadata": {},
     "output_type": "display_data"
    }
   ],
   "source": [
    "(y.value_counts()/y.shape[0]).plot(kind='bar', title='Распределение целевой переменной');\n",
    "y.value_counts()/y.shape"
   ]
  },
  {
   "cell_type": "markdown",
   "id": "e214dd96-3efd-4b43-87c4-5682a7c5aae5",
   "metadata": {},
   "source": [
    "Видно, что процент в данных имеется очень сильный дисбаланс в распределении классов.\n",
    "\n",
    "Для того чтобы повысить к-во обучения модели. выполним балансировку данных на обучающей выборке.\n",
    "\n",
    "Примечание - в принципе, это делать не обязательно, т.к. CatBoostClassifier досточно хорошо умеет работать с\n",
    "\n",
    "несбалансированными данныим (параметр - class_weights), но UnderSampling позволяет уменьшить объем данных, и т.о. повысить скорость обучения."
   ]
  },
  {
   "cell_type": "code",
   "execution_count": 20,
   "id": "2bc60ce5-b3a8-4e3c-8f99-c72196818481",
   "metadata": {
    "tags": []
   },
   "outputs": [
    {
     "name": "stdout",
     "output_type": "stream",
     "text": [
      "Train\n",
      "0.0    0.5\n",
      "1.0    0.5\n",
      "Name: target, dtype: float64\n",
      "\n",
      "Test\n",
      "0.0    0.928028\n",
      "1.0    0.071972\n",
      "Name: target, dtype: float64\n"
     ]
    }
   ],
   "source": [
    "ros = RandomUnderSampler(random_state=42)\n",
    "x_train, y_train = ros.fit_resample(x_train, y_train)\n",
    "\n",
    "print(\"Train\")\n",
    "print(y_train.value_counts()/y_train.shape[0])\n",
    "print()\n",
    "print(\"Test\")\n",
    "print(y_test.value_counts()/y_test.shape[0])"
   ]
  },
  {
   "cell_type": "markdown",
   "id": "ae16e0d2-37df-4d54-b610-ae9c7638776b",
   "metadata": {},
   "source": [
    "# 5. Обучение модели."
   ]
  },
  {
   "cell_type": "code",
   "execution_count": 21,
   "id": "8ed4e4ce-c012-441a-9422-1cfb143cddd8",
   "metadata": {
    "tags": []
   },
   "outputs": [],
   "source": [
    "class ColumnSelector(BaseEstimator, TransformerMixin):\n",
    "    def __init__(self, columns):\n",
    "        self.columns = columns\n",
    "\n",
    "    def fit(self, X, y=None):\n",
    "        return self\n",
    "    \n",
    "    def transform(self, X):\n",
    "        assert isinstance(X, pd.DataFrame)\n",
    "\n",
    "        try:\n",
    "            return X[self.columns]\n",
    "        except KeyError:\n",
    "            cols_error = list(set(self.columns) - set(X.columns))\n",
    "            raise KeyError(\"DataFrame не содердит следующие колонки: %s\" % cols_error)"
   ]
  },
  {
   "cell_type": "code",
   "execution_count": 22,
   "id": "3d3e488e-87da-4866-9eec-59368ea89139",
   "metadata": {
    "tags": []
   },
   "outputs": [],
   "source": [
    "f_prep_pipeline = make_pipeline(\n",
    "    ColumnSelector(columns=f_ok),\n",
    "    FeatureUnion(transformer_list=[\n",
    "        (\"numeric_features\", make_pipeline(\n",
    "            ColumnSelector(f_numeric),\n",
    "            SimpleImputer(strategy=\"median\"), # Заполнение пропусков.\n",
    "            StandardScaler()\n",
    "        )),\n",
    "        (\"categorical_features\", make_pipeline(\n",
    "            ColumnSelector(f_categorical),\n",
    "            SimpleImputer(strategy=\"most_frequent\"),\n",
    "            OneHotEncoder(handle_unknown='ignore')\n",
    "        )),\n",
    "        (\"boolean_features\", make_pipeline(\n",
    "            ColumnSelector(f_binary),\n",
    "        ))\n",
    "    ])\n",
    ")"
   ]
  },
  {
   "cell_type": "code",
   "execution_count": 23,
   "id": "10405060-bbda-4633-b75a-cc7bc830cd24",
   "metadata": {
    "tags": []
   },
   "outputs": [],
   "source": [
    "catb_model = catb.CatBoostClassifier(#silent=True,\n",
    "                                    random_state=21,\n",
    "                                    # class_weights=[1, disbalance],\n",
    "                                    score_function='L2',\n",
    "                                    depth = 7,\n",
    "                                    eval_metric='AUC',\n",
    "                                    use_best_model=True,\n",
    "                                    boosting_type = 'Ordered', #  / Plain \n",
    "                                    l2_leaf_reg = 3, # -- регуляризация. 3.0 = по умолчанию. \n",
    "                                    # eta = 0.5,\n",
    "                                    learning_rate=0.01,\n",
    "                                    custom_metric=['Precision', 'Recall'],\n",
    "                                    iterations=10000,\n",
    "                                    early_stopping_rounds=200,\n",
    "                                    verbose=100,                                    \n",
    "                                )"
   ]
  },
  {
   "cell_type": "code",
   "execution_count": 24,
   "id": "bfa29166-4552-4610-9b4d-ba146a431f1f",
   "metadata": {
    "tags": []
   },
   "outputs": [],
   "source": [
    "cat_boost_pipe = make_pipeline(\n",
    "    f_prep_pipeline,\n",
    "    # TruncatedSVD(n_components=150, n_iter=7, random_state=42),# PCA(n_components=20, whiten=True),\n",
    "    catb_model\n",
    ")"
   ]
  },
  {
   "cell_type": "code",
   "execution_count": 25,
   "id": "c102a643-e7b6-49cb-ad15-cc9326f0d61d",
   "metadata": {
    "tags": []
   },
   "outputs": [],
   "source": [
    "X_train_transformed = cat_boost_pipe[:-1].fit_transform(x_train)\n",
    "x_test_transformed = cat_boost_pipe[:-1].transform(x_test)"
   ]
  },
  {
   "cell_type": "code",
   "execution_count": 26,
   "id": "cade54d0-5086-4578-bc3a-82b5b7a83df8",
   "metadata": {
    "tags": []
   },
   "outputs": [
    {
     "name": "stdout",
     "output_type": "stream",
     "text": [
      "0:\ttest: 0.9205827\tbest: 0.9205827 (0)\ttotal: 1.01s\tremaining: 2h 48m 53s\n",
      "100:\ttest: 0.9299252\tbest: 0.9299252 (100)\ttotal: 1m 32s\tremaining: 2h 31m 38s\n",
      "200:\ttest: 0.9320868\tbest: 0.9320868 (200)\ttotal: 3m 3s\tremaining: 2h 29m 1s\n",
      "300:\ttest: 0.9328462\tbest: 0.9328539 (295)\ttotal: 4m 34s\tremaining: 2h 27m 12s\n",
      "400:\ttest: 0.9329163\tbest: 0.9329378 (376)\ttotal: 6m 5s\tremaining: 2h 25m 48s\n",
      "500:\ttest: 0.9328937\tbest: 0.9329378 (376)\ttotal: 7m 36s\tremaining: 2h 24m 10s\n",
      "Stopped by overfitting detector  (200 iterations wait)\n",
      "\n",
      "bestTest = 0.9329378081\n",
      "bestIteration = 376\n",
      "\n",
      "Shrink model to first 377 iterations.\n",
      "CPU times: total: 50min 33s\n",
      "Wall time: 8min 49s\n"
     ]
    },
    {
     "data": {
      "text/plain": [
       "<catboost.core.CatBoostClassifier at 0x3e25f520>"
      ]
     },
     "execution_count": 26,
     "metadata": {},
     "output_type": "execute_result"
    }
   ],
   "source": [
    "%%time\n",
    "cat_boost_pipe[-1].fit(\n",
    "       X=X_train_transformed,\n",
    "       y=y_train,\n",
    "       eval_set=[(x_test_transformed, y_test)],\n",
    "     )"
   ]
  },
  {
   "cell_type": "markdown",
   "id": "9932ec50-55a7-44cc-9dd8-ba8ba2d36ea0",
   "metadata": {},
   "source": [
    "# 6. Построение предсказаний на тестовой выборке, оценка качества модели."
   ]
  },
  {
   "cell_type": "code",
   "execution_count": 27,
   "id": "e3e4db07-dd87-44ee-a840-7fa5fc185629",
   "metadata": {
    "tags": []
   },
   "outputs": [],
   "source": [
    "test_score = cat_boost_pipe.predict(x_test)"
   ]
  },
  {
   "cell_type": "code",
   "execution_count": 28,
   "id": "e36e0355-2ea4-4618-9e09-7fe612017520",
   "metadata": {
    "tags": []
   },
   "outputs": [],
   "source": [
    "def plot_confusion_matrix(cm, classes,\n",
    "                          model_name=\"\",\n",
    "                          normalize=False,\n",
    "                          cmap=plt.cm.Blues):\n",
    "    \"\"\"\n",
    "    This function prints and plots the confusion matrix.\n",
    "    Normalization can be applied by setting `normalize=True`.\n",
    "    \"\"\"\n",
    "    if normalize:\n",
    "        cm = cm.astype('float') / cm.sum(axis=1)[:, np.newaxis]\n",
    "        print(\"Normalized confusion matrix\")\n",
    "    else:\n",
    "        print('Confusion matrix, without normalization')\n",
    "\n",
    "    print(cm)\n",
    "\n",
    "    plt.imshow(cm, interpolation='nearest',  cmap=cmap)\n",
    "    \n",
    "    plt.grid(False)\n",
    "    plt.title('%s: confusion matrix' % model_name)\n",
    "    tick_marks = np.arange(len(classes))\n",
    "    plt.xticks(tick_marks, classes, rotation=45)\n",
    "    plt.yticks(tick_marks, classes)\n",
    "\n",
    "    fmt = '.2f' if normalize else 'd'\n",
    "    thresh = cm.max() / 2.\n",
    "    for i, j in itertools.product(range(cm.shape[0]), range(cm.shape[1])):\n",
    "        plt.text(j, i, format(cm[i, j], fmt),\n",
    "                 horizontalalignment=\"center\",\n",
    "                 color=\"white\" if cm[i, j] > thresh else \"black\")\n",
    "\n",
    "    plt.ylabel('True label')\n",
    "    plt.xlabel('Predicted label')\n",
    "    plt.tight_layout()"
   ]
  },
  {
   "cell_type": "code",
   "execution_count": 29,
   "id": "f68d47b3-61d5-4e3b-96a7-026123fc19da",
   "metadata": {
    "tags": []
   },
   "outputs": [
    {
     "name": "stdout",
     "output_type": "stream",
     "text": [
      "Confusion matrix, without normalization\n",
      "[[167116  25834]\n",
      " [  1317  13647]]\n"
     ]
    },
    {
     "data": {
      "image/png": "[encoded data removed]",
      "text/plain": [
       "<Figure size 640x480 with 1 Axes>"
      ]
     },
     "metadata": {},
     "output_type": "display_data"
    }
   ],
   "source": [
    "# TN               | FP(Type II error)|\n",
    "#------------------|------------------|\n",
    "# FN(Type I error) | TP               |\n",
    "\n",
    "cm = confusion_matrix(y_test, test_score > 0.5)\n",
    "plot_confusion_matrix(cm, classes=[\"0\", \"1\"], model_name=\"Baseline\");"
   ]
  },
  {
   "cell_type": "code",
   "execution_count": 30,
   "id": "3d8b5c6d-951c-4418-80a9-6a46e275813e",
   "metadata": {
    "tags": []
   },
   "outputs": [
    {
     "name": "stdout",
     "output_type": "stream",
     "text": [
      "              precision    recall  f1-score   support\n",
      "\n",
      "         0.0       0.99      0.87      0.92    192950\n",
      "         1.0       0.35      0.91      0.50     14964\n",
      "\n",
      "    accuracy                           0.87    207914\n",
      "   macro avg       0.67      0.89      0.71    207914\n",
      "weighted avg       0.95      0.87      0.89    207914\n",
      "\n"
     ]
    }
   ],
   "source": [
    "print(classification_report(y_test, test_score > 0.5))"
   ]
  },
  {
   "cell_type": "code",
   "execution_count": 31,
   "id": "f5607914-3dbd-48af-af9f-350080720f3a",
   "metadata": {
    "tags": []
   },
   "outputs": [],
   "source": [
    "fpr, tpr, roc_thresholds = roc_curve(y_test, test_score)\n",
    "precision, recall, pr_thresholds = precision_recall_curve(y_test, test_score)"
   ]
  },
  {
   "cell_type": "code",
   "execution_count": 32,
   "id": "639618fa-27ea-4934-a1bc-1ba2d725a56a",
   "metadata": {
    "tags": []
   },
   "outputs": [
    {
     "name": "stdout",
     "output_type": "stream",
     "text": [
      "Baseline: AUC_ROC = 0.889\n"
     ]
    },
    {
     "data": {
      "image/png": "[encoded data removed]",
      "text/plain": [
       "<Figure size 700x700 with 1 Axes>"
      ]
     },
     "metadata": {},
     "output_type": "display_data"
    }
   ],
   "source": [
    "def plot_roc_curve(fpr, tpr, model_name=\"\", color=None):\n",
    "    plt.plot(fpr, tpr, label='%s: ROC curve (area = %0.2f)' %\n",
    "             (model_name, auc(fpr, tpr)), color=color)\n",
    "    plt.plot([0, 1], [0, 1], 'k--')\n",
    "    plt.axis([0.0, 1.0, 0.0, 1.05])\n",
    "    plt.xlabel('False Positive Rate')\n",
    "    plt.ylabel('True Positive Rate')\n",
    "    plt.title('%s: Receiver operating characteristic curve' % model_name)\n",
    "    plt.legend(loc=\"lower right\")\n",
    "\n",
    "plt.figure(figsize=(7, 7))\n",
    "plot_roc_curve(fpr, tpr, \"Baseline\", color='r')\n",
    "print(\"Baseline: AUC_ROC = %.3f\" % auc(fpr, tpr))"
   ]
  },
  {
   "cell_type": "code",
   "execution_count": 33,
   "id": "c2d8a0c5-ca43-4eca-92a4-8ca536c5d54f",
   "metadata": {
    "tags": []
   },
   "outputs": [
    {
     "name": "stdout",
     "output_type": "stream",
     "text": [
      "Baseline: AUC_PR = 0.632\n"
     ]
    },
    {
     "data": {
      "image/png": "[encoded data removed]",
      "text/plain": [
       "<Figure size 700x700 with 1 Axes>"
      ]
     },
     "metadata": {},
     "output_type": "display_data"
    }
   ],
   "source": [
    "def plot_precision_recall_curve(recall, precision, model_name=\"\", color=None):\n",
    "    plt.plot(recall, precision, label='%s: Precision-Recall curve (area = %0.2f)' %\n",
    "             (model_name, auc(recall, precision)), color=color)\n",
    "    plt.xlabel('Recall')\n",
    "    plt.ylabel('Precision')\n",
    "    plt.title(\"%s: Precision-Recall curve\" % model_name)\n",
    "    plt.axis([0.0, 1.0, 0.0, 1.05])\n",
    "    plt.legend(loc=\"lower left\")\n",
    "\n",
    "plt.figure(figsize=(7, 7))\n",
    "    \n",
    "plot_precision_recall_curve(recall, precision, \"Baseline\", color='r')\n",
    "print(\"Baseline: AUC_PR = %.3f\" % auc(recall, precision))"
   ]
  },
  {
   "cell_type": "code",
   "execution_count": 34,
   "id": "7ee5d600-4611-48f3-81d4-915eac6191bf",
   "metadata": {
    "tags": []
   },
   "outputs": [],
   "source": [
    "feature_importance = catb_model.feature_importances_\n",
    "sorted_idx = np.argsort(feature_importance)\n",
    "features_count  = len(f_all)"
   ]
  },
  {
   "cell_type": "code",
   "execution_count": 35,
   "id": "dd6c6c49-c31a-49be-929b-547bc6f8ba79",
   "metadata": {
    "tags": []
   },
   "outputs": [],
   "source": [
    "sorted_idx_ex = []\n",
    "for ind in  sorted_idx:\n",
    "    if ind < features_count:\n",
    "        sorted_idx_ex.append(ind)"
   ]
  },
  {
   "cell_type": "code",
   "execution_count": 36,
   "id": "80edfac4-10ef-406d-8c78-9c0a887d715c",
   "metadata": {
    "tags": []
   },
   "outputs": [],
   "source": [
    "importance_features = np.array(x_test.columns)[sorted_idx_ex] # в конечном счете обучать модель будем только на этих фитчах."
   ]
  },
  {
   "cell_type": "code",
   "execution_count": 37,
   "id": "be06de6f-1f5e-4c6f-b86e-dbe3da53f96d",
   "metadata": {
    "tags": []
   },
   "outputs": [
    {
     "data": {
      "text/plain": [
       "Text(0.5, 1.0, 'Feature Importance')"
      ]
     },
     "execution_count": 37,
     "metadata": {},
     "output_type": "execute_result"
    },
    {
     "data": {
      "image/png": "[encoded data removed]",
      "text/plain": [
       "<Figure size 1200x1500 with 1 Axes>"
      ]
     },
     "metadata": {},
     "output_type": "display_data"
    }
   ],
   "source": [
    "top_count = 50\n",
    "fig = plt.figure(figsize=(12, 15))\n",
    "plt.barh(range(top_count), feature_importance[sorted_idx_ex][-top_count:], align='center')\n",
    "plt.yticks(range(top_count), np.array(x_test.columns)[sorted_idx_ex][-top_count:])\n",
    "plt.xscale('log')\n",
    "plt.title('Feature Importance')"
   ]
  },
  {
   "cell_type": "markdown",
   "id": "21074afd-165c-4c38-ae57-22966617f5b1",
   "metadata": {},
   "source": [
    "# 7. Запись обученной модели в файл."
   ]
  },
  {
   "cell_type": "code",
   "execution_count": 38,
   "id": "b981ab5c-b007-4083-bed0-70f51ede2abc",
   "metadata": {
    "tags": []
   },
   "outputs": [],
   "source": [
    "with open('./data/catboost_model.pickle', 'ab') as f:\n",
    "    pickle.dump(cat_boost_pipe, f, protocol=pickle.HIGHEST_PROTOCOL)"
   ]
  },
  {
   "cell_type": "markdown",
   "id": "614f0089-7ffd-4129-8093-7f4fa556055b",
   "metadata": {},
   "source": [
    "# 8. Финальное предсказание."
   ]
  },
  {
   "cell_type": "code",
   "execution_count": 39,
   "id": "460554b7-0075-4f0a-80de-55362d8706bf",
   "metadata": {
    "tags": []
   },
   "outputs": [],
   "source": [
    "with open('./data/catboost_model.pickle', 'rb') as f:\n",
    "    cat_boost_pipe =  pickle.load(f)"
   ]
  },
  {
   "cell_type": "code",
   "execution_count": 40,
   "id": "96d532ef-6532-4dd3-9bd0-5db3e1553dff",
   "metadata": {
    "tags": []
   },
   "outputs": [],
   "source": [
    "data_test  = pd.read_csv(DATA_TEST_FEATURES_PATH)"
   ]
  },
  {
   "cell_type": "code",
   "execution_count": 41,
   "id": "344dc384-bcc6-4d30-a93d-3a016f76fc72",
   "metadata": {
    "tags": []
   },
   "outputs": [],
   "source": [
    "data_test.loc[(data_test['252'] > 1, '252')] = 2.0"
   ]
  },
  {
   "cell_type": "code",
   "execution_count": 42,
   "id": "c1587257-3279-4256-8aaf-01751baef614",
   "metadata": {
    "tags": []
   },
   "outputs": [],
   "source": [
    "y_result_pred = cat_boost_pipe.predict(data_test) "
   ]
  },
  {
   "cell_type": "code",
   "execution_count": 43,
   "id": "2d49afec-9044-49b6-9aab-a0ef91c56687",
   "metadata": {
    "tags": []
   },
   "outputs": [
    {
     "data": {
      "text/plain": [
       "array([0., 0., 1., ..., 0., 1., 0.])"
      ]
     },
     "execution_count": 43,
     "metadata": {},
     "output_type": "execute_result"
    }
   ],
   "source": [
    "y_result_pred"
   ]
  },
  {
   "cell_type": "code",
   "execution_count": 44,
   "id": "f2b6366d-5beb-4df7-abbc-58a7e8aabcb2",
   "metadata": {
    "tags": []
   },
   "outputs": [],
   "source": [
    "x_test = pd.read_csv(users_data_df_PATH)\n",
    "x_test = x_test.drop('Unnamed: 0', axis=1)"
   ]
  },
  {
   "cell_type": "code",
   "execution_count": 45,
   "id": "209e46a0-d185-4302-b406-d42af6c53e7a",
   "metadata": {
    "tags": []
   },
   "outputs": [],
   "source": [
    "x_test['target'] = y_result_pred"
   ]
  },
  {
   "cell_type": "code",
   "execution_count": 46,
   "id": "c956236d-b648-4883-ad33-b0a8d56dcf80",
   "metadata": {
    "tags": []
   },
   "outputs": [],
   "source": [
    "x_test.to_csv(ANSWER_TEST_PATH, index=False)"
   ]
  },
  {
   "cell_type": "code",
   "execution_count": 47,
   "id": "ba0a6023-2cb8-4335-93b2-b5200e83ce4c",
   "metadata": {
    "tags": []
   },
   "outputs": [
    {
     "data": {
      "text/html": [
       "<div>\n",
       "<style scoped>\n",
       "    .dataframe tbody tr th:only-of-type {\n",
       "        vertical-align: middle;\n",
       "    }\n",
       "\n",
       "    .dataframe tbody tr th {\n",
       "        vertical-align: top;\n",
       "    }\n",
       "\n",
       "    .dataframe thead th {\n",
       "        text-align: right;\n",
       "    }\n",
       "</style>\n",
       "<table border=\"1\" class=\"dataframe\">\n",
       "  <thead>\n",
       "    <tr style=\"text-align: right;\">\n",
       "      <th></th>\n",
       "      <th>id</th>\n",
       "      <th>vas_id</th>\n",
       "      <th>buy_time</th>\n",
       "      <th>target</th>\n",
       "    </tr>\n",
       "  </thead>\n",
       "  <tbody>\n",
       "    <tr>\n",
       "      <th>0</th>\n",
       "      <td>3130519</td>\n",
       "      <td>2.0</td>\n",
       "      <td>1548018000</td>\n",
       "      <td>0.0</td>\n",
       "    </tr>\n",
       "    <tr>\n",
       "      <th>1</th>\n",
       "      <td>2000860</td>\n",
       "      <td>4.0</td>\n",
       "      <td>1548018000</td>\n",
       "      <td>0.0</td>\n",
       "    </tr>\n",
       "    <tr>\n",
       "      <th>2</th>\n",
       "      <td>1099444</td>\n",
       "      <td>2.0</td>\n",
       "      <td>1546808400</td>\n",
       "      <td>1.0</td>\n",
       "    </tr>\n",
       "    <tr>\n",
       "      <th>3</th>\n",
       "      <td>1343255</td>\n",
       "      <td>5.0</td>\n",
       "      <td>1547413200</td>\n",
       "      <td>1.0</td>\n",
       "    </tr>\n",
       "    <tr>\n",
       "      <th>4</th>\n",
       "      <td>1277040</td>\n",
       "      <td>2.0</td>\n",
       "      <td>1546808400</td>\n",
       "      <td>1.0</td>\n",
       "    </tr>\n",
       "  </tbody>\n",
       "</table>\n",
       "</div>"
      ],
      "text/plain": [
       "        id  vas_id    buy_time  target\n",
       "0  3130519     2.0  1548018000     0.0\n",
       "1  2000860     4.0  1548018000     0.0\n",
       "2  1099444     2.0  1546808400     1.0\n",
       "3  1343255     5.0  1547413200     1.0\n",
       "4  1277040     2.0  1546808400     1.0"
      ]
     },
     "execution_count": 47,
     "metadata": {},
     "output_type": "execute_result"
    }
   ],
   "source": [
    "x_test.head()"
   ]
  },
  {
   "cell_type": "code",
   "execution_count": null,
   "id": "f02631d6-d85f-4990-8811-cb3dccc77289",
   "metadata": {},
   "outputs": [],
   "source": []
  }
 ],
 "metadata": {
  "kernelspec": {
   "display_name": "myenv",
   "language": "python",
   "name": "myenv"
  },
  "language_info": {
   "codemirror_mode": {
    "name": "ipython",
    "version": 3
   },
   "file_extension": ".py",
   "mimetype": "text/x-python",
   "name": "python",
   "nbconvert_exporter": "python",
   "pygments_lexer": "ipython3",
   "version": "3.8.10"
  }
 },
 "nbformat": 4,
 "nbformat_minor": 5
}
