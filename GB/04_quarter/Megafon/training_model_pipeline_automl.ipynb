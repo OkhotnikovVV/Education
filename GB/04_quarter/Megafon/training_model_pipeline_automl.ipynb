{
 "cells": [
  {
   "cell_type": "code",
   "execution_count": 1,
   "id": "268a36f8-fbbf-43c1-8e56-7683015e0166",
   "metadata": {
    "tags": []
   },
   "outputs": [
    {
     "name": "stderr",
     "output_type": "stream",
     "text": [
      "F:\\Git_docs\\venv\\lib\\site-packages\\tqdm\\auto.py:21: TqdmWarning: IProgress not found. Please update jupyter and ipywidgets. See https://ipywidgets.readthedocs.io/en/stable/user_install.html\n",
      "  from .autonotebook import tqdm as notebook_tqdm\n"
     ]
    }
   ],
   "source": [
    "import numpy as np\n",
    "import pandas as pd\n",
    "from datetime import date\n",
    "import pickle\n",
    "import itertools\n",
    "import matplotlib.pyplot as plt\n",
    "from sklearn.metrics import confusion_matrix\n",
    "from sklearn.model_selection import train_test_split\n",
    "from imblearn.under_sampling import RandomUnderSampler\n",
    "from sklearn.metrics import classification_report\n",
    "from sklearn.metrics import precision_recall_curve, roc_curve, auc\n",
    "from lightautoml.automl.presets.tabular_presets import TabularAutoML, TabularUtilizedAutoML\n",
    "from lightautoml.tasks import Task\n",
    "from lightautoml.tasks.common_metric import mean_quantile_error"
   ]
  },
  {
   "cell_type": "code",
   "execution_count": 2,
   "id": "53fafd5e-4450-425a-a06e-7cd5e727a5b4",
   "metadata": {
    "tags": []
   },
   "outputs": [],
   "source": [
    "RANDOM_STATE = 888"
   ]
  },
  {
   "cell_type": "code",
   "execution_count": 3,
   "id": "43df3b5d-762f-469d-9780-e9f1003844fc",
   "metadata": {
    "tags": []
   },
   "outputs": [],
   "source": [
    "ANSWER_TEST_PATH = './data/answers_test.csv'\n",
    "users_data_df_PATH = './data/data_test.csv'\n",
    "DATA_TRAIN_FEATURES_PATH = './data/data_train_features.csv'\n",
    "DATA_TEST_FEATURES_PATH = './data/data_test_features.csv'"
   ]
  },
  {
   "cell_type": "markdown",
   "id": "8d9294fd-e350-4e64-ae73-e7ade92043ae",
   "metadata": {
    "tags": []
   },
   "source": [
    "# 1. Получаем данные."
   ]
  },
  {
   "cell_type": "code",
   "execution_count": 4,
   "id": "b4af02e3-630f-4fe8-84d4-e330f5729abe",
   "metadata": {
    "tags": []
   },
   "outputs": [
    {
     "data": {
      "text/html": [
       "<div>\n",
       "<style scoped>\n",
       "    .dataframe tbody tr th:only-of-type {\n",
       "        vertical-align: middle;\n",
       "    }\n",
       "\n",
       "    .dataframe tbody tr th {\n",
       "        vertical-align: top;\n",
       "    }\n",
       "\n",
       "    .dataframe thead th {\n",
       "        text-align: right;\n",
       "    }\n",
       "</style>\n",
       "<table border=\"1\" class=\"dataframe\">\n",
       "  <thead>\n",
       "    <tr style=\"text-align: right;\">\n",
       "      <th></th>\n",
       "      <th>id</th>\n",
       "      <th>vas_id</th>\n",
       "      <th>target</th>\n",
       "      <th>0</th>\n",
       "      <th>1</th>\n",
       "      <th>2</th>\n",
       "      <th>3</th>\n",
       "      <th>4</th>\n",
       "      <th>5</th>\n",
       "      <th>6</th>\n",
       "      <th>...</th>\n",
       "      <th>246</th>\n",
       "      <th>247</th>\n",
       "      <th>248</th>\n",
       "      <th>249</th>\n",
       "      <th>250</th>\n",
       "      <th>251</th>\n",
       "      <th>252</th>\n",
       "      <th>week_on_month</th>\n",
       "      <th>day</th>\n",
       "      <th>month</th>\n",
       "    </tr>\n",
       "  </thead>\n",
       "  <tbody>\n",
       "    <tr>\n",
       "      <th>0</th>\n",
       "      <td>2582523</td>\n",
       "      <td>2.0</td>\n",
       "      <td>0.0</td>\n",
       "      <td>NaN</td>\n",
       "      <td>NaN</td>\n",
       "      <td>NaN</td>\n",
       "      <td>NaN</td>\n",
       "      <td>NaN</td>\n",
       "      <td>NaN</td>\n",
       "      <td>NaN</td>\n",
       "      <td>...</td>\n",
       "      <td>NaN</td>\n",
       "      <td>NaN</td>\n",
       "      <td>NaN</td>\n",
       "      <td>NaN</td>\n",
       "      <td>NaN</td>\n",
       "      <td>NaN</td>\n",
       "      <td>NaN</td>\n",
       "      <td>1</td>\n",
       "      <td>9</td>\n",
       "      <td>7</td>\n",
       "    </tr>\n",
       "    <tr>\n",
       "      <th>1</th>\n",
       "      <td>1292549</td>\n",
       "      <td>2.0</td>\n",
       "      <td>0.0</td>\n",
       "      <td>NaN</td>\n",
       "      <td>NaN</td>\n",
       "      <td>NaN</td>\n",
       "      <td>NaN</td>\n",
       "      <td>NaN</td>\n",
       "      <td>NaN</td>\n",
       "      <td>NaN</td>\n",
       "      <td>...</td>\n",
       "      <td>NaN</td>\n",
       "      <td>NaN</td>\n",
       "      <td>NaN</td>\n",
       "      <td>NaN</td>\n",
       "      <td>NaN</td>\n",
       "      <td>NaN</td>\n",
       "      <td>NaN</td>\n",
       "      <td>1</td>\n",
       "      <td>9</td>\n",
       "      <td>7</td>\n",
       "    </tr>\n",
       "    <tr>\n",
       "      <th>2</th>\n",
       "      <td>4053116</td>\n",
       "      <td>1.0</td>\n",
       "      <td>0.0</td>\n",
       "      <td>NaN</td>\n",
       "      <td>NaN</td>\n",
       "      <td>NaN</td>\n",
       "      <td>NaN</td>\n",
       "      <td>NaN</td>\n",
       "      <td>NaN</td>\n",
       "      <td>NaN</td>\n",
       "      <td>...</td>\n",
       "      <td>NaN</td>\n",
       "      <td>NaN</td>\n",
       "      <td>NaN</td>\n",
       "      <td>NaN</td>\n",
       "      <td>NaN</td>\n",
       "      <td>NaN</td>\n",
       "      <td>NaN</td>\n",
       "      <td>1</td>\n",
       "      <td>9</td>\n",
       "      <td>7</td>\n",
       "    </tr>\n",
       "    <tr>\n",
       "      <th>3</th>\n",
       "      <td>4158361</td>\n",
       "      <td>2.0</td>\n",
       "      <td>0.0</td>\n",
       "      <td>NaN</td>\n",
       "      <td>NaN</td>\n",
       "      <td>NaN</td>\n",
       "      <td>NaN</td>\n",
       "      <td>NaN</td>\n",
       "      <td>NaN</td>\n",
       "      <td>NaN</td>\n",
       "      <td>...</td>\n",
       "      <td>NaN</td>\n",
       "      <td>NaN</td>\n",
       "      <td>NaN</td>\n",
       "      <td>NaN</td>\n",
       "      <td>NaN</td>\n",
       "      <td>NaN</td>\n",
       "      <td>NaN</td>\n",
       "      <td>1</td>\n",
       "      <td>9</td>\n",
       "      <td>7</td>\n",
       "    </tr>\n",
       "    <tr>\n",
       "      <th>4</th>\n",
       "      <td>3754468</td>\n",
       "      <td>4.0</td>\n",
       "      <td>0.0</td>\n",
       "      <td>NaN</td>\n",
       "      <td>NaN</td>\n",
       "      <td>NaN</td>\n",
       "      <td>NaN</td>\n",
       "      <td>NaN</td>\n",
       "      <td>NaN</td>\n",
       "      <td>NaN</td>\n",
       "      <td>...</td>\n",
       "      <td>NaN</td>\n",
       "      <td>NaN</td>\n",
       "      <td>NaN</td>\n",
       "      <td>NaN</td>\n",
       "      <td>NaN</td>\n",
       "      <td>NaN</td>\n",
       "      <td>NaN</td>\n",
       "      <td>1</td>\n",
       "      <td>9</td>\n",
       "      <td>7</td>\n",
       "    </tr>\n",
       "  </tbody>\n",
       "</table>\n",
       "<p>5 rows × 259 columns</p>\n",
       "</div>"
      ],
      "text/plain": [
       "        id  vas_id  target   0   1   2   3   4   5   6  ...  246  247  248  \\\n",
       "0  2582523     2.0     0.0 NaN NaN NaN NaN NaN NaN NaN  ...  NaN  NaN  NaN   \n",
       "1  1292549     2.0     0.0 NaN NaN NaN NaN NaN NaN NaN  ...  NaN  NaN  NaN   \n",
       "2  4053116     1.0     0.0 NaN NaN NaN NaN NaN NaN NaN  ...  NaN  NaN  NaN   \n",
       "3  4158361     2.0     0.0 NaN NaN NaN NaN NaN NaN NaN  ...  NaN  NaN  NaN   \n",
       "4  3754468     4.0     0.0 NaN NaN NaN NaN NaN NaN NaN  ...  NaN  NaN  NaN   \n",
       "\n",
       "   249  250  251  252  week_on_month  day  month  \n",
       "0  NaN  NaN  NaN  NaN              1    9      7  \n",
       "1  NaN  NaN  NaN  NaN              1    9      7  \n",
       "2  NaN  NaN  NaN  NaN              1    9      7  \n",
       "3  NaN  NaN  NaN  NaN              1    9      7  \n",
       "4  NaN  NaN  NaN  NaN              1    9      7  \n",
       "\n",
       "[5 rows x 259 columns]"
      ]
     },
     "execution_count": 4,
     "metadata": {},
     "output_type": "execute_result"
    }
   ],
   "source": [
    "data_train  = pd.read_csv(DATA_TRAIN_FEATURES_PATH)\n",
    "\n",
    "data_train.head()"
   ]
  },
  {
   "cell_type": "code",
   "execution_count": 5,
   "id": "e0580f8c-96e0-4d13-a8f1-1883b5a797f3",
   "metadata": {
    "tags": []
   },
   "outputs": [
    {
     "name": "stdout",
     "output_type": "stream",
     "text": [
      "ID уникален?  True\n",
      "Есть ли дубли в строках? 0\n",
      "Сколько процент признаков могут принимать null-значениями? 97%\n"
     ]
    }
   ],
   "source": [
    "print(\"ID уникален? \", data_train.index.is_unique)\n",
    "print(\"Есть ли дубли в строках?\", data_train.duplicated().sum())\n",
    "print(\"Сколько процент признаков могут принимать null-значениями? %d%%\" % float((data_train.isnull().sum() > 0).sum()/data_train.shape[1]*100))"
   ]
  },
  {
   "cell_type": "markdown",
   "id": "0eabb08d-e4f0-4ddf-8e7a-103136ecbad6",
   "metadata": {},
   "source": [
    "# 2. Разделим данные на тренировочную и тестовую выборки."
   ]
  },
  {
   "cell_type": "code",
   "execution_count": 6,
   "id": "8bac1d7f-648a-4101-8c84-ac9171f9c3f2",
   "metadata": {
    "tags": []
   },
   "outputs": [],
   "source": [
    "train_data, test_data = train_test_split(data_train, test_size=0.25, random_state=RANDOM_STATE)"
   ]
  },
  {
   "cell_type": "markdown",
   "id": "df03199b-5f58-445c-90f5-d04a295612d9",
   "metadata": {},
   "source": [
    "# 3. Балансировка массивов."
   ]
  },
  {
   "cell_type": "code",
   "execution_count": 7,
   "id": "c72c6570-d176-49ae-a163-0909faca3be1",
   "metadata": {
    "tags": []
   },
   "outputs": [
    {
     "data": {
      "text/plain": [
       "0.0    0.927631\n",
       "1.0    0.072369\n",
       "Name: target, dtype: float64"
      ]
     },
     "execution_count": 7,
     "metadata": {},
     "output_type": "execute_result"
    },
    {
     "data": {
      "image/png": "[encoded data removed]",
      "text/plain": [
       "<Figure size 640x480 with 1 Axes>"
      ]
     },
     "metadata": {},
     "output_type": "display_data"
    }
   ],
   "source": [
    "(data_train['target'].value_counts()/data_train['target'].shape[0]).plot(kind='bar', title='Распределение целевой переменной');\n",
    "data_train['target'].value_counts()/data_train['target'].shape"
   ]
  },
  {
   "cell_type": "markdown",
   "id": "d62103ba-5ae7-47c4-981e-ce34308ecb5a",
   "metadata": {},
   "source": [
    "Видно, что процент в данных имеет очень сильный дисбаланс в распределении классов.\n",
    "\n",
    "Для того чтобы повысить качество обучения модели, выполним балансировку данных на обучающей выборке."
   ]
  },
  {
   "cell_type": "code",
   "execution_count": 8,
   "id": "35e93cd3-36d1-4625-b1e9-21d636a485ac",
   "metadata": {
    "tags": []
   },
   "outputs": [
    {
     "name": "stderr",
     "output_type": "stream",
     "text": [
      "C:\\Users\\Азм\\AppData\\Local\\Temp\\ipykernel_9656\\2150065157.py:6: PerformanceWarning: DataFrame is highly fragmented.  This is usually the result of calling `frame.insert` many times, which has poor performance.  Consider joining all columns at once using pd.concat(axis=1) instead. To get a de-fragmented frame, use `newframe = frame.copy()`\n",
      "  train_data.insert(2, \"target\", y_train.values)\n"
     ]
    }
   ],
   "source": [
    "ros = RandomUnderSampler(random_state=RANDOM_STATE)\n",
    "\n",
    "x_train, y_train = ros.fit_resample(train_data.drop('target', axis=1), train_data['target'])\n",
    "train_data = x_train\n",
    "\n",
    "train_data.insert(2, \"target\", y_train.values)"
   ]
  },
  {
   "cell_type": "code",
   "execution_count": 9,
   "id": "0a5306a2-9d91-4000-b751-89ec17be23b7",
   "metadata": {
    "tags": []
   },
   "outputs": [
    {
     "name": "stdout",
     "output_type": "stream",
     "text": [
      "Train\n",
      "0.0    0.5\n",
      "1.0    0.5\n",
      "Name: target, dtype: float64\n",
      "\n",
      "Test\n",
      "0.0    0.928028\n",
      "1.0    0.071972\n",
      "Name: target, dtype: float64\n"
     ]
    }
   ],
   "source": [
    "print(\"Train\")\n",
    "print(train_data['target'].value_counts()/train_data['target'].shape[0])\n",
    "print()\n",
    "print(\"Test\")\n",
    "print(test_data['target'].value_counts()/test_data['target'].shape[0])"
   ]
  },
  {
   "cell_type": "markdown",
   "id": "a00528b4-03d4-4428-bf7e-e2a66bc65e15",
   "metadata": {},
   "source": [
    "# 4. Обучение модели."
   ]
  },
  {
   "cell_type": "code",
   "execution_count": 10,
   "id": "282ca123-96af-4eef-9516-ec7aca218f1e",
   "metadata": {
    "tags": []
   },
   "outputs": [],
   "source": [
    "TASK = Task('binary', loss='logloss', metric='auc', greater_is_better=False)\n",
    "TIMEOUT = 300000\n",
    "N_THREADS = 4\n",
    "N_FOLDS = 5\n",
    "RANDOM_STATE = RANDOM_STATE \n",
    "TARGET_NAME = 'target'\n",
    "TEST_SIZE=0.2"
   ]
  },
  {
   "cell_type": "code",
   "execution_count": 11,
   "id": "f48c76ae-5ef9-4e29-be14-d41b84d4af0e",
   "metadata": {
    "tags": []
   },
   "outputs": [],
   "source": [
    "roles = {'target': TARGET_NAME, 'drop': ['id']}"
   ]
  },
  {
   "cell_type": "code",
   "execution_count": 12,
   "id": "1b8cdc34-b511-414e-832d-62d397585e50",
   "metadata": {
    "tags": []
   },
   "outputs": [],
   "source": [
    "automl_model = TabularAutoML(task=TASK,\n",
    "                            timeout=TIMEOUT,\n",
    "                            cpu_limit = N_THREADS,\n",
    "                            reader_params = {'n_jobs': N_THREADS, 'cv': N_FOLDS, 'random_state': RANDOM_STATE},\n",
    "                            general_params= {'use_algos': [ ['lgb_tuned', 'cb_tuned'] ]},\n",
    "                            tuning_params= {'max_tuning_iter': 10},\n",
    "                        )"
   ]
  },
  {
   "cell_type": "code",
   "execution_count": 13,
   "id": "a12796f3-4a6e-4529-9ee9-c138ed38167e",
   "metadata": {
    "tags": []
   },
   "outputs": [],
   "source": [
    "train_preds = automl_model.fit_predict(train_data, roles = roles)"
   ]
  },
  {
   "cell_type": "markdown",
   "id": "5726c04a-ffb5-4b60-a171-4fd4f37a1820",
   "metadata": {},
   "source": [
    "# 5. Построение предсказаний на тестовой выборке, оценка к-ва модели."
   ]
  },
  {
   "cell_type": "code",
   "execution_count": 14,
   "id": "3ec5a1f7-10c4-4ff7-b7bb-6116905a7a68",
   "metadata": {
    "tags": []
   },
   "outputs": [],
   "source": [
    "test_preds = automl_model.predict(test_data).data[:,0]"
   ]
  },
  {
   "cell_type": "code",
   "execution_count": 15,
   "id": "b093c8a4-5b67-452a-8ace-34edbc7bc857",
   "metadata": {
    "tags": []
   },
   "outputs": [],
   "source": [
    "test_preds = [1 if i > 0.5 else 0 for i in test_preds]"
   ]
  },
  {
   "cell_type": "code",
   "execution_count": 16,
   "id": "ecc7c588-6cbe-4798-a0c4-5387b0b33a98",
   "metadata": {
    "tags": []
   },
   "outputs": [],
   "source": [
    "y_test = test_data['target']"
   ]
  },
  {
   "cell_type": "code",
   "execution_count": 17,
   "id": "2c791417-0759-46b6-b6d3-d0d1bbd2cb6e",
   "metadata": {
    "tags": []
   },
   "outputs": [],
   "source": [
    "def plot_confusion_matrix(cm, classes,\n",
    "                          model_name=\"\",\n",
    "                          normalize=False,\n",
    "                          cmap=plt.cm.Blues):\n",
    "    \"\"\"\n",
    "    This function prints and plots the confusion matrix.\n",
    "    Normalization can be applied by setting `normalize=True`.\n",
    "    \"\"\"\n",
    "    if normalize:\n",
    "        cm = cm.astype('float') / cm.sum(axis=1)[:, np.newaxis]\n",
    "        print(\"Normalized confusion matrix\")\n",
    "    else:\n",
    "        print('Confusion matrix, without normalization')\n",
    "\n",
    "    print(cm)\n",
    "\n",
    "    plt.imshow(cm, interpolation='nearest',  cmap=cmap)\n",
    "    \n",
    "    plt.grid(False)\n",
    "    plt.title('%s: confusion matrix' % model_name)\n",
    "    tick_marks = np.arange(len(classes))\n",
    "    plt.xticks(tick_marks, classes, rotation=45)\n",
    "    plt.yticks(tick_marks, classes)\n",
    "\n",
    "    fmt = '.2f' if normalize else 'd'\n",
    "    thresh = cm.max() / 2.\n",
    "    for i, j in itertools.product(range(cm.shape[0]), range(cm.shape[1])):\n",
    "        plt.text(j, i, format(cm[i, j], fmt),\n",
    "                 horizontalalignment=\"center\",\n",
    "                 color=\"white\" if cm[i, j] > thresh else \"black\")\n",
    "\n",
    "    plt.ylabel('True label')\n",
    "    plt.xlabel('Predicted label')\n",
    "    plt.tight_layout()"
   ]
  },
  {
   "cell_type": "code",
   "execution_count": 18,
   "id": "8a38616c-1e36-47e0-9a89-d80636010faf",
   "metadata": {
    "tags": []
   },
   "outputs": [
    {
     "name": "stdout",
     "output_type": "stream",
     "text": [
      "Confusion matrix, without normalization\n",
      "[[167406  25544]\n",
      " [  1353  13611]]\n"
     ]
    },
    {
     "data": {
      "image/png": "[encoded data removed]",
      "text/plain": [
       "<Figure size 640x480 with 1 Axes>"
      ]
     },
     "metadata": {},
     "output_type": "display_data"
    }
   ],
   "source": [
    "# TN               | FP(Type II error)|\n",
    "#------------------|------------------|\n",
    "# FN(Type I error) | TP               |\n",
    "\n",
    "cm = confusion_matrix(y_test, test_preds)\n",
    "plot_confusion_matrix(cm, classes=[\"0\", \"1\"], model_name=\"Baseline\");"
   ]
  },
  {
   "cell_type": "code",
   "execution_count": 19,
   "id": "1ba9aaf4-eaea-4440-ae20-b88bba2ca36c",
   "metadata": {
    "tags": []
   },
   "outputs": [
    {
     "name": "stdout",
     "output_type": "stream",
     "text": [
      "              precision    recall  f1-score   support\n",
      "\n",
      "         0.0       0.99      0.87      0.93    192950\n",
      "         1.0       0.35      0.91      0.50     14964\n",
      "\n",
      "    accuracy                           0.87    207914\n",
      "   macro avg       0.67      0.89      0.71    207914\n",
      "weighted avg       0.95      0.87      0.90    207914\n",
      "\n"
     ]
    }
   ],
   "source": [
    "print(classification_report(y_test, test_preds))"
   ]
  },
  {
   "cell_type": "code",
   "execution_count": 20,
   "id": "d527acaa-de20-4482-bfbe-cb8c2b44ab37",
   "metadata": {
    "tags": []
   },
   "outputs": [],
   "source": [
    "fpr, tpr, roc_thresholds = roc_curve(y_test, test_preds)\n",
    "precision, recall, pr_thresholds = precision_recall_curve(y_test, test_preds)"
   ]
  },
  {
   "cell_type": "code",
   "execution_count": 21,
   "id": "e8f738aa-6b4d-4517-b0a2-3e8e16ad4b4a",
   "metadata": {
    "tags": []
   },
   "outputs": [
    {
     "name": "stdout",
     "output_type": "stream",
     "text": [
      "Baseline: AUC_ROC = 0.889\n"
     ]
    },
    {
     "data": {
      "image/png": "[encoded data removed]",
      "text/plain": [
       "<Figure size 700x700 with 1 Axes>"
      ]
     },
     "metadata": {},
     "output_type": "display_data"
    }
   ],
   "source": [
    "def plot_roc_curve(fpr, tpr, model_name=\"\", color=None):\n",
    "    plt.plot(fpr, tpr, label='%s: ROC curve (area = %0.2f)' %\n",
    "             (model_name, auc(fpr, tpr)), color=color)\n",
    "    plt.plot([0, 1], [0, 1], 'k--')\n",
    "    plt.axis([0.0, 1.0, 0.0, 1.05])\n",
    "    plt.xlabel('False Positive Rate')\n",
    "    plt.ylabel('True Positive Rate')\n",
    "    plt.title('%s: Receiver operating characteristic curve' % model_name)\n",
    "    plt.legend(loc=\"lower right\")\n",
    "\n",
    "plt.figure(figsize=(7, 7))\n",
    "plot_roc_curve(fpr, tpr, \"Baseline\", color='r')\n",
    "print(\"Baseline: AUC_ROC = %.3f\" % auc(fpr, tpr))"
   ]
  },
  {
   "cell_type": "code",
   "execution_count": 22,
   "id": "d71fa23f-a8b3-462c-8add-2dbf7e0c8c51",
   "metadata": {
    "tags": []
   },
   "outputs": [
    {
     "name": "stdout",
     "output_type": "stream",
     "text": [
      "Baseline: AUC_PR = 0.632\n"
     ]
    },
    {
     "data": {
      "image/png": "[encoded data removed]",
      "text/plain": [
       "<Figure size 700x700 with 1 Axes>"
      ]
     },
     "metadata": {},
     "output_type": "display_data"
    }
   ],
   "source": [
    "def plot_precision_recall_curve(recall, precision, model_name=\"\", color=None):\n",
    "    plt.plot(recall, precision, label='%s: Precision-Recall curve (area = %0.2f)' %\n",
    "             (model_name, auc(recall, precision)), color=color)\n",
    "    plt.xlabel('Recall')\n",
    "    plt.ylabel('Precision')\n",
    "    plt.title(\"%s: Precision-Recall curve\" % model_name)\n",
    "    plt.axis([0.0, 1.0, 0.0, 1.05])\n",
    "    plt.legend(loc=\"lower left\")\n",
    "\n",
    "plt.figure(figsize=(7, 7))\n",
    "    \n",
    "plot_precision_recall_curve(recall, precision, \"Baseline\", color='r')\n",
    "print(\"Baseline: AUC_PR = %.3f\" % auc(recall, precision))"
   ]
  },
  {
   "cell_type": "markdown",
   "id": "e39dd287-c6da-46c5-8a0a-e17f0266ea0d",
   "metadata": {},
   "source": [
    "# 6. Запись обученной модели в файл."
   ]
  },
  {
   "cell_type": "code",
   "execution_count": 24,
   "id": "d6e8eaf7-0c4a-40c2-aea1-6c9090544910",
   "metadata": {
    "tags": []
   },
   "outputs": [],
   "source": [
    "with open('./data/lama_model.pickle', 'ab') as f:\n",
    "    pickle.dump(automl_model, f, protocol=pickle.HIGHEST_PROTOCOL)"
   ]
  },
  {
   "cell_type": "markdown",
   "id": "a0a25a2b-12b9-4de9-ad25-d6d4d12e8b13",
   "metadata": {},
   "source": [
    "# 7. Финальное предсказание."
   ]
  },
  {
   "cell_type": "code",
   "execution_count": 25,
   "id": "31805187-e282-4649-aafc-febb410f0834",
   "metadata": {
    "tags": []
   },
   "outputs": [],
   "source": [
    "with open('./data/lama_model.pickle', 'rb') as f:\n",
    "    automl_model =  pickle.load(f)"
   ]
  },
  {
   "cell_type": "code",
   "execution_count": 26,
   "id": "3ee0c0b0-44c9-47dd-82ac-0632f99846ac",
   "metadata": {
    "tags": []
   },
   "outputs": [],
   "source": [
    "data_test = pd.read_csv(DATA_TEST_FEATURES_PATH)"
   ]
  },
  {
   "cell_type": "code",
   "execution_count": 27,
   "id": "7dffceac-62bd-4863-a36c-4946f604e993",
   "metadata": {
    "tags": []
   },
   "outputs": [],
   "source": [
    "data_test.loc[(data_test['252'] > 1, '252')] = 2.0"
   ]
  },
  {
   "cell_type": "code",
   "execution_count": 28,
   "id": "6ac156a8-f619-4679-a9ff-7d5d31831e63",
   "metadata": {
    "tags": []
   },
   "outputs": [],
   "source": [
    "test_preds = automl_model.predict(data_test).data[:,0]"
   ]
  },
  {
   "cell_type": "code",
   "execution_count": 29,
   "id": "67a57698-2be1-48c0-8b05-ddfa913f30db",
   "metadata": {
    "tags": []
   },
   "outputs": [],
   "source": [
    "y_result_pred = [1 if i > 0.5 else 0 for i in test_preds]"
   ]
  },
  {
   "cell_type": "code",
   "execution_count": 30,
   "id": "7c6c52e5-d1e6-40c9-b868-06155a86dae8",
   "metadata": {
    "tags": []
   },
   "outputs": [],
   "source": [
    "x_test = pd.read_csv(users_data_df_PATH)\n",
    "x_test = x_test.drop('Unnamed: 0', axis=1)"
   ]
  },
  {
   "cell_type": "code",
   "execution_count": 31,
   "id": "84e5d9e2-f1d5-4309-b118-dc2205e4b576",
   "metadata": {
    "tags": []
   },
   "outputs": [],
   "source": [
    "x_test['target'] = y_result_pred"
   ]
  },
  {
   "cell_type": "code",
   "execution_count": 32,
   "id": "3e433a4d-b39b-4854-a9cc-c6082558a305",
   "metadata": {
    "tags": []
   },
   "outputs": [
    {
     "data": {
      "text/html": [
       "<div>\n",
       "<style scoped>\n",
       "    .dataframe tbody tr th:only-of-type {\n",
       "        vertical-align: middle;\n",
       "    }\n",
       "\n",
       "    .dataframe tbody tr th {\n",
       "        vertical-align: top;\n",
       "    }\n",
       "\n",
       "    .dataframe thead th {\n",
       "        text-align: right;\n",
       "    }\n",
       "</style>\n",
       "<table border=\"1\" class=\"dataframe\">\n",
       "  <thead>\n",
       "    <tr style=\"text-align: right;\">\n",
       "      <th></th>\n",
       "      <th>id</th>\n",
       "      <th>vas_id</th>\n",
       "      <th>buy_time</th>\n",
       "      <th>target</th>\n",
       "    </tr>\n",
       "  </thead>\n",
       "  <tbody>\n",
       "    <tr>\n",
       "      <th>0</th>\n",
       "      <td>3130519</td>\n",
       "      <td>2.0</td>\n",
       "      <td>1548018000</td>\n",
       "      <td>0</td>\n",
       "    </tr>\n",
       "    <tr>\n",
       "      <th>1</th>\n",
       "      <td>2000860</td>\n",
       "      <td>4.0</td>\n",
       "      <td>1548018000</td>\n",
       "      <td>0</td>\n",
       "    </tr>\n",
       "    <tr>\n",
       "      <th>2</th>\n",
       "      <td>1099444</td>\n",
       "      <td>2.0</td>\n",
       "      <td>1546808400</td>\n",
       "      <td>0</td>\n",
       "    </tr>\n",
       "    <tr>\n",
       "      <th>3</th>\n",
       "      <td>1343255</td>\n",
       "      <td>5.0</td>\n",
       "      <td>1547413200</td>\n",
       "      <td>0</td>\n",
       "    </tr>\n",
       "    <tr>\n",
       "      <th>4</th>\n",
       "      <td>1277040</td>\n",
       "      <td>2.0</td>\n",
       "      <td>1546808400</td>\n",
       "      <td>0</td>\n",
       "    </tr>\n",
       "  </tbody>\n",
       "</table>\n",
       "</div>"
      ],
      "text/plain": [
       "        id  vas_id    buy_time  target\n",
       "0  3130519     2.0  1548018000       0\n",
       "1  2000860     4.0  1548018000       0\n",
       "2  1099444     2.0  1546808400       0\n",
       "3  1343255     5.0  1547413200       0\n",
       "4  1277040     2.0  1546808400       0"
      ]
     },
     "execution_count": 32,
     "metadata": {},
     "output_type": "execute_result"
    }
   ],
   "source": [
    "x_test.head()"
   ]
  },
  {
   "cell_type": "code",
   "execution_count": 33,
   "id": "a10f1c75-789b-445f-901b-5b2f299ca021",
   "metadata": {
    "tags": []
   },
   "outputs": [],
   "source": [
    "x_test.to_csv(ANSWER_TEST_PATH, index=False)"
   ]
  },
  {
   "cell_type": "code",
   "execution_count": null,
   "id": "de399bfa-8866-417b-a15a-60f417daea67",
   "metadata": {},
   "outputs": [],
   "source": []
  }
 ],
 "metadata": {
  "kernelspec": {
   "display_name": "myenv",
   "language": "python",
   "name": "myenv"
  },
  "language_info": {
   "codemirror_mode": {
    "name": "ipython",
    "version": 3
   },
   "file_extension": ".py",
   "mimetype": "text/x-python",
   "name": "python",
   "nbconvert_exporter": "python",
   "pygments_lexer": "ipython3",
   "version": "3.8.10"
  }
 },
 "nbformat": 4,
 "nbformat_minor": 5
}
