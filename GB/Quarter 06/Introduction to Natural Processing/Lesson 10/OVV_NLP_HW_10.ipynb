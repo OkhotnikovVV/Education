{
 "cells": [
  {
   "cell_type": "markdown",
   "metadata": {},
   "source": [
    "# Введение в обработку естественного языка"
   ]
  },
  {
   "cell_type": "markdown",
   "metadata": {},
   "source": [
    "## Урок 10. Машинный перевод. Модель seq2seq и механизм внимания"
   ]
  },
  {
   "cell_type": "markdown",
   "metadata": {
    "tags": []
   },
   "source": [
    "Разобраться с моделью перевода (без механизма внимания) как она устроена, запустить для перевода с русского на английский (при желании можно взять другие пары языков)"
   ]
  },
  {
   "cell_type": "markdown",
   "metadata": {
    "id": "J0Qjg6vuaHNt"
   },
   "source": [
    "# Neural machine translation"
   ]
  },
  {
   "cell_type": "code",
   "execution_count": 1,
   "metadata": {
    "id": "tnxXKDjq3jEL"
   },
   "outputs": [],
   "source": [
    "import re\n",
    "import os\n",
    "import io\n",
    "import time\n",
    "import unicodedata\n",
    "import numpy as np\n",
    "import tensorflow as tf\n",
    "\n",
    "import matplotlib.pyplot as plt\n",
    "import matplotlib.ticker as ticker\n",
    "from sklearn.model_selection import train_test_split\n"
   ]
  },
  {
   "cell_type": "markdown",
   "metadata": {
    "id": "wfodePkj3jEa"
   },
   "source": [
    "## Download and prepare the dataset\n",
    "\n",
    "We'll use a language dataset provided by http://www.manythings.org/anki/"
   ]
  },
  {
   "cell_type": "code",
   "execution_count": 2,
   "metadata": {
    "id": "kRVATYOgJs1b"
   },
   "outputs": [],
   "source": [
    "# Download the file\n",
    "path_to_file = \"rus.txt\""
   ]
  },
  {
   "cell_type": "code",
   "execution_count": 3,
   "metadata": {
    "id": "rd0jw-eC3jEh"
   },
   "outputs": [],
   "source": [
    "def preprocess_sentence(w):\n",
    "  w = w.lower().strip()\n",
    "\n",
    "  # creating a space between a word and the punctuation following it\n",
    "  # eg: \"he is a boy.\" => \"he is a boy .\"\n",
    "  # Reference:- https://stackoverflow.com/questions/3645931/python-padding-punctuation-with-white-spaces-keeping-punctuation\n",
    "  w = re.sub(r\"([?.!,])\", r\" \\1 \", w)\n",
    "  w = re.sub(r'[\" \"]+', \" \", w)\n",
    "\n",
    "  # replacing everything with space except (a-z, A-Z, \".\", \"?\", \"!\", \",\")\n",
    "  w = re.sub(r\"[^a-zA-Zа-яА-Я?.!,']+\", \" \", w)\n",
    "\n",
    "  w = w.strip()\n",
    "\n",
    "  # adding a start and an end token to the sentence\n",
    "  # so that the model know when to start and stop predicting.\n",
    "  w = '<start> ' + w + ' <end>'\n",
    "  return w"
   ]
  },
  {
   "cell_type": "code",
   "execution_count": 4,
   "metadata": {
    "colab": {
     "base_uri": "https://localhost:8080/",
     "height": 36
    },
    "id": "yV9lZXQXNbnH",
    "outputId": "94d4631a-3aab-4c70-86dd-3fafe55d9bd5"
   },
   "outputs": [
    {
     "data": {
      "text/plain": [
       "\"<start> i can't go . <end>\""
      ]
     },
     "execution_count": 4,
     "metadata": {},
     "output_type": "execute_result"
    }
   ],
   "source": [
    "preprocess_sentence(\"I can't go.\")"
   ]
  },
  {
   "cell_type": "code",
   "execution_count": 5,
   "metadata": {
    "id": "OHn4Dct23jEm"
   },
   "outputs": [],
   "source": [
    "# 1. Remove the accents\n",
    "# 2. Clean the sentences\n",
    "# 3. Return word pairs in the format: [ENG, RUS]\n",
    "def create_dataset(path, num_examples):\n",
    "  lines = io.open(path, encoding='UTF-8').read().strip().split('\\n')\n",
    "\n",
    "  word_pairs = [[preprocess_sentence(w) for w in l.split('\\t')[:2]]  for l in lines[:num_examples]]\n",
    "\n",
    "  return zip(*word_pairs)"
   ]
  },
  {
   "cell_type": "code",
   "execution_count": 6,
   "metadata": {
    "colab": {
     "base_uri": "https://localhost:8080/"
    },
    "id": "cTbSbBz55QtF",
    "outputId": "f4afb29e-3c2c-4514-8ca7-3a53e59a2149"
   },
   "outputs": [
    {
     "name": "stdout",
     "output_type": "stream",
     "text": [
      "<start> go . <end>\n",
      "<start> марш ! <end>\n"
     ]
    }
   ],
   "source": [
    "en, ru = create_dataset(path_to_file, None)\n",
    "print(en[0])\n",
    "print(ru[0])"
   ]
  },
  {
   "cell_type": "code",
   "execution_count": 7,
   "metadata": {
    "id": "bIOn8RCNDJXG"
   },
   "outputs": [],
   "source": [
    "def tokenize(lang):\n",
    "  lang_tokenizer = tf.keras.preprocessing.text.Tokenizer(\n",
    "      filters='')\n",
    "  lang_tokenizer.fit_on_texts(lang)\n",
    "\n",
    "  tensor = lang_tokenizer.texts_to_sequences(lang)\n",
    "\n",
    "  tensor = tf.keras.preprocessing.sequence.pad_sequences(tensor,\n",
    "                                                         padding='post')\n",
    "\n",
    "  return tensor, lang_tokenizer"
   ]
  },
  {
   "cell_type": "code",
   "execution_count": 8,
   "metadata": {
    "id": "eAY9k49G3jE_"
   },
   "outputs": [],
   "source": [
    "def load_dataset(path, num_examples=None):\n",
    "  # creating cleaned input, output pairs\n",
    "  targ_lang, inp_lang = create_dataset(path, num_examples)\n",
    "\n",
    "  input_tensor, inp_lang_tokenizer = tokenize(inp_lang)\n",
    "  target_tensor, targ_lang_tokenizer = tokenize(targ_lang)\n",
    "\n",
    "  return input_tensor, target_tensor, inp_lang_tokenizer, targ_lang_tokenizer"
   ]
  },
  {
   "cell_type": "markdown",
   "metadata": {
    "id": "GOi42V79Ydlr"
   },
   "source": [
    "### Limit the size of the dataset to experiment faster (optional)\n"
   ]
  },
  {
   "cell_type": "code",
   "execution_count": 9,
   "metadata": {
    "colab": {
     "base_uri": "https://localhost:8080/"
    },
    "id": "C8j9g9AnIeZV",
    "outputId": "2636bf07-32de-40d8-eae2-1c134e7a3b9e"
   },
   "outputs": [
    {
     "data": {
      "text/plain": [
       "(479223, 479223)"
      ]
     },
     "execution_count": 9,
     "metadata": {},
     "output_type": "execute_result"
    }
   ],
   "source": [
    "len(en), len(ru)"
   ]
  },
  {
   "cell_type": "code",
   "execution_count": 10,
   "metadata": {
    "id": "cnxC7q-j3jFD"
   },
   "outputs": [],
   "source": [
    "# Try experimenting with the size of that dataset\n",
    "num_examples = 100000\n",
    "input_tensor, target_tensor, inp_lang, targ_lang = load_dataset(path_to_file, num_examples)\n",
    "\n",
    "# Calculate max_length of the target tensors\n",
    "max_length_targ, max_length_inp = target_tensor.shape[1], input_tensor.shape[1]"
   ]
  },
  {
   "cell_type": "code",
   "execution_count": 11,
   "metadata": {
    "colab": {
     "base_uri": "https://localhost:8080/"
    },
    "id": "4QILQkOs3jFG",
    "outputId": "ea3e3574-eec6-43a7-8883-b6294cccc87c"
   },
   "outputs": [
    {
     "name": "stdout",
     "output_type": "stream",
     "text": [
      "80000 80000 20000 20000\n"
     ]
    }
   ],
   "source": [
    "# Creating training and validation sets using an 80-20 split\n",
    "input_tensor_train, input_tensor_val, target_tensor_train, target_tensor_val = train_test_split(input_tensor, target_tensor, test_size=0.2)\n",
    "\n",
    "# Show length\n",
    "print(len(input_tensor_train), len(target_tensor_train), len(input_tensor_val), len(target_tensor_val))"
   ]
  },
  {
   "cell_type": "code",
   "execution_count": 12,
   "metadata": {
    "id": "lJPmLZGMeD5q"
   },
   "outputs": [],
   "source": [
    "def convert(lang, tensor):\n",
    "  for t in tensor:\n",
    "    if t!=0:\n",
    "      print (\"%d ----> %s\" % (t, lang.index_word[t]))"
   ]
  },
  {
   "cell_type": "code",
   "execution_count": 13,
   "metadata": {
    "colab": {
     "base_uri": "https://localhost:8080/"
    },
    "id": "VXukARTDd7MT",
    "outputId": "4ddf254e-b67a-4d5a-b34e-16ad63377580"
   },
   "outputs": [
    {
     "name": "stdout",
     "output_type": "stream",
     "text": [
      "Input Language; index to word mapping\n",
      "1 ----> <start>\n",
      "13 ----> мы\n",
      "1189 ----> хотели\n",
      "30 ----> как\n",
      "126 ----> лучше\n",
      "3 ----> .\n",
      "2 ----> <end>\n",
      "\n",
      "Target Language; index to word mapping\n",
      "1 ----> <start>\n",
      "19 ----> we\n",
      "866 ----> meant\n",
      "152 ----> well\n",
      "3 ----> .\n",
      "2 ----> <end>\n"
     ]
    }
   ],
   "source": [
    "print (\"Input Language; index to word mapping\")\n",
    "convert(inp_lang, input_tensor_train[0])\n",
    "print ()\n",
    "print (\"Target Language; index to word mapping\")\n",
    "convert(targ_lang, target_tensor_train[0])"
   ]
  },
  {
   "cell_type": "markdown",
   "metadata": {
    "id": "rgCLkfv5uO3d"
   },
   "source": [
    "### Create a tf.data dataset"
   ]
  },
  {
   "cell_type": "code",
   "execution_count": 14,
   "metadata": {
    "id": "TqHsArVZ3jFS"
   },
   "outputs": [],
   "source": [
    "BUFFER_SIZE = len(input_tensor_train)\n",
    "BATCH_SIZE = 64\n",
    "steps_per_epoch = len(input_tensor_train)//BATCH_SIZE\n",
    "embedding_dim = 300\n",
    "units = 1024\n",
    "vocab_inp_size = len(inp_lang.word_index)+1\n",
    "vocab_tar_size = len(targ_lang.word_index)+1\n",
    "\n",
    "dataset = tf.data.Dataset.from_tensor_slices((input_tensor_train, target_tensor_train)).shuffle(BUFFER_SIZE)\n",
    "dataset = dataset.batch(BATCH_SIZE, drop_remainder=True)"
   ]
  },
  {
   "cell_type": "code",
   "execution_count": 15,
   "metadata": {
    "colab": {
     "base_uri": "https://localhost:8080/"
    },
    "id": "qc6-NK1GtWQt",
    "outputId": "f34f644b-c3d5-4a5d-f7a9-7587a9b21c1b"
   },
   "outputs": [
    {
     "data": {
      "text/plain": [
       "(TensorShape([64, 15]), TensorShape([64, 11]))"
      ]
     },
     "execution_count": 15,
     "metadata": {},
     "output_type": "execute_result"
    }
   ],
   "source": [
    "example_input_batch, example_target_batch = next(iter(dataset))\n",
    "example_input_batch.shape, example_target_batch.shape"
   ]
  },
  {
   "cell_type": "markdown",
   "metadata": {
    "id": "68zZxRZCveW5"
   },
   "source": [
    "**Для эксперимента возьмём двунаправленный слой GRU**"
   ]
  },
  {
   "cell_type": "code",
   "execution_count": 16,
   "metadata": {
    "id": "x3EfyzA6glQm"
   },
   "outputs": [],
   "source": [
    "from keras.layers import GRU, Concatenate"
   ]
  },
  {
   "cell_type": "code",
   "execution_count": 17,
   "metadata": {
    "id": "nZ2rI24i3jFg"
   },
   "outputs": [],
   "source": [
    "class Encoder(tf.keras.Model):\n",
    "  def __init__(self, vocab_size, embedding_dim, enc_units, batch_sz):\n",
    "    super(Encoder, self).__init__()\n",
    "    self.batch_sz = batch_sz\n",
    "    self.enc_units = enc_units\n",
    "    self.embedding = tf.keras.layers.Embedding(vocab_size, embedding_dim)\n",
    "    self.gru = tf.keras.layers.Bidirectional(GRU(self.enc_units,\n",
    "                                   return_sequences=False,\n",
    "                                   return_state=True,\n",
    "                                   recurrent_initializer='glorot_uniform'))\n",
    "    \n",
    "\n",
    "  def call(self, x, hidden):\n",
    "    x = self.embedding(x)\n",
    "    output, state_frw, state_bcw = self.gru(x, initial_state = hidden)\n",
    "    return state_frw, state_bcw\n",
    "\n",
    "  # def initialize_hidden_state(self):\n",
    "  #   return tf.zeros((self.batch_sz, self.enc_units))\n",
    "\n",
    "  def initialize_hidden_state(self):\n",
    "      return [tf.zeros((self.batch_sz, self.enc_units)) for i in range(2)]"
   ]
  },
  {
   "cell_type": "code",
   "execution_count": 18,
   "metadata": {
    "colab": {
     "base_uri": "https://localhost:8080/"
    },
    "id": "vKHA_t1KkZkV",
    "outputId": "ecc45dc6-5d8b-4ebb-8c48-579f35262a4d"
   },
   "outputs": [
    {
     "name": "stdout",
     "output_type": "stream",
     "text": [
      "Encoder forward_h shape: (batch size, units) (64, 1024)\n",
      "Encoder backward_h shape: (batch size, units) (64, 1024)\n"
     ]
    }
   ],
   "source": [
    "encoder = Encoder(vocab_inp_size, embedding_dim, units, BATCH_SIZE)\n",
    "# sample input\n",
    "encoder = Encoder(vocab_inp_size, embedding_dim, units, BATCH_SIZE)\n",
    "sample_hidden = encoder.initialize_hidden_state()\n",
    "forward_hidden, backward_hidden = encoder(example_input_batch, sample_hidden)\n",
    "print('Encoder forward_h shape: (batch size, units) {}'.format(forward_hidden.shape))\n",
    "print('Encoder backward_h shape: (batch size, units) {}'.format(backward_hidden.shape))\n"
   ]
  },
  {
   "cell_type": "code",
   "execution_count": 19,
   "metadata": {
    "id": "yJ_B3mhW3jFk"
   },
   "outputs": [],
   "source": [
    "class Decoder(tf.keras.Model):\n",
    "  def __init__(self, vocab_size, embedding_dim, dec_units, batch_sz):\n",
    "    super(Decoder, self).__init__()\n",
    "    self.batch_sz = batch_sz\n",
    "    self.dec_units = dec_units\n",
    "    self.embedding = tf.keras.layers.Embedding(vocab_size, embedding_dim)\n",
    "    self.gru = tf.keras.layers.GRU(2*self.dec_units,\n",
    "                                   return_sequences=True,\n",
    "                                   return_state=True,\n",
    "                                   recurrent_initializer='glorot_uniform')\n",
    "    self.fc = tf.keras.layers.Dense(vocab_size)\n",
    "\n",
    "  def call(self, x, encoder_fwd_state, encoder_back_state):\n",
    "    # enc_output shape == (batch_size, max_length, hidden_size)\n",
    "\n",
    "    # x shape after passing through embedding == (batch_size, 1, embedding_dim)\n",
    "    x = self.embedding(x)\n",
    "\n",
    "    # x shape after concatenation == (batch_size, 1, embedding_dim + hidden_size)\n",
    "\n",
    "    # passing the concatenated vector to the GRU\n",
    "    output, state = self.gru(x, initial_state=Concatenate(axis=-1)([encoder_fwd_state, encoder_back_state]))\n",
    "\n",
    "    # output shape == (batch_size * 1, hidden_size)\n",
    "    output = tf.reshape(output, (-1, output.shape[2]))\n",
    "\n",
    "    # output shape == (batch_size, vocab)\n",
    "    x = self.fc(output)\n",
    "\n",
    "    return x, state"
   ]
  },
  {
   "cell_type": "code",
   "execution_count": 20,
   "metadata": {
    "id": "P5UY8wko3jFp"
   },
   "outputs": [],
   "source": [
    "decoder = Decoder(vocab_tar_size, embedding_dim, units, BATCH_SIZE)\n",
    "\n",
    "decoder_sample_x, decoder_sample_h = decoder(tf.random.uniform((BATCH_SIZE, 1)),\n",
    "                                      forward_hidden, backward_hidden)"
   ]
  },
  {
   "cell_type": "code",
   "execution_count": 21,
   "metadata": {
    "colab": {
     "base_uri": "https://localhost:8080/"
    },
    "id": "XKcypC0AGeLR",
    "outputId": "c8116e1c-731e-4c62-91c3-0b7553a567e4"
   },
   "outputs": [
    {
     "data": {
      "text/plain": [
       "TensorShape([64, 7386])"
      ]
     },
     "execution_count": 21,
     "metadata": {},
     "output_type": "execute_result"
    }
   ],
   "source": [
    "decoder_sample_x.shape"
   ]
  },
  {
   "cell_type": "code",
   "execution_count": 22,
   "metadata": {
    "colab": {
     "base_uri": "https://localhost:8080/"
    },
    "id": "6y0HF-zMF_vp",
    "outputId": "27f4771f-005f-4147-ef4f-3dbe54f13cb0"
   },
   "outputs": [
    {
     "data": {
      "text/plain": [
       "TensorShape([64, 2048])"
      ]
     },
     "execution_count": 22,
     "metadata": {},
     "output_type": "execute_result"
    }
   ],
   "source": [
    "decoder_sample_h.shape"
   ]
  },
  {
   "cell_type": "markdown",
   "metadata": {
    "id": "_ch_71VbIRfK"
   },
   "source": [
    "## Define the optimizer and the loss function"
   ]
  },
  {
   "cell_type": "code",
   "execution_count": 23,
   "metadata": {
    "id": "WmTHr5iV3jFr"
   },
   "outputs": [],
   "source": [
    "optimizer = tf.keras.optimizers.Adam()\n",
    "\n",
    "loss_object = tf.keras.losses.SparseCategoricalCrossentropy(\n",
    "    from_logits=True, reduction='none')\n",
    "\n",
    "def loss_function(real, pred):\n",
    "  mask = tf.math.logical_not(tf.math.equal(real, 0))\n",
    "  loss_ = loss_object(real, pred)\n",
    "\n",
    "  mask = tf.cast(mask, dtype=loss_.dtype)\n",
    "  loss_ *= mask\n",
    "\n",
    "  return tf.reduce_mean(loss_)"
   ]
  },
  {
   "cell_type": "markdown",
   "metadata": {
    "id": "DMVWzzsfNl4e"
   },
   "source": [
    "## Checkpoints (Object-based saving)"
   ]
  },
  {
   "cell_type": "code",
   "execution_count": 24,
   "metadata": {
    "id": "Zj8bXQTgNwrF"
   },
   "outputs": [],
   "source": [
    "checkpoint_dir = './training_nmt_checkpoints'\n",
    "\n",
    "checkpoint_prefix = os.path.join(checkpoint_dir, \"ckpt\")\n",
    "\n",
    "checkpoint = tf.train.Checkpoint(optimizer=optimizer,\n",
    "                                 encoder=encoder,\n",
    "                                 decoder=decoder)"
   ]
  },
  {
   "cell_type": "code",
   "execution_count": 25,
   "metadata": {
    "id": "sC9ArXSsVfqn"
   },
   "outputs": [],
   "source": [
    "@tf.function\n",
    "def train_step(inp, targ, enc_hidden):\n",
    "  loss = 0\n",
    "\n",
    "  with tf.GradientTape() as tape:\n",
    "    enc_hidden = encoder(inp, enc_hidden)\n",
    "\n",
    "    forward_hidden, backward_hidden = enc_hidden\n",
    "\n",
    "    dec_input = tf.expand_dims([targ_lang.word_index['<start>']] * BATCH_SIZE, 1)\n",
    "\n",
    "    # Teacher forcing - feeding the target as the next input\n",
    "    for t in range(1, targ.shape[1]): # Максимальная длина последовательности \n",
    "      # passing enc_output to the decoder\n",
    "      predictions, dec_hidden = decoder(dec_input, forward_hidden, backward_hidden)\n",
    " \n",
    "      # считаем лосс по каждому предсказанному слову\n",
    "      loss += loss_function(targ[:, t], predictions)\n",
    "\n",
    "      # using teacher forcing\n",
    "      dec_input = tf.expand_dims(targ[:, t], 1)\n",
    "\n",
    "  batch_loss = (loss / int(targ.shape[1]))\n",
    "\n",
    "  variables = encoder.trainable_variables + decoder.trainable_variables\n",
    "\n",
    "  gradients = tape.gradient(loss, variables)\n",
    "\n",
    "  optimizer.apply_gradients(zip(gradients, variables))\n",
    "\n",
    "  return batch_loss"
   ]
  },
  {
   "cell_type": "code",
   "execution_count": 26,
   "metadata": {
    "colab": {
     "base_uri": "https://localhost:8080/"
    },
    "id": "ddefjBMa3jF0",
    "outputId": "84eafe29-6a33-4e2c-e444-626ad27794aa"
   },
   "outputs": [
    {
     "name": "stdout",
     "output_type": "stream",
     "text": [
      "Epoch 1 Batch 0 Loss 4.4912\n",
      "Epoch 1 Batch 100 Loss 2.0109\n",
      "Epoch 1 Batch 200 Loss 1.6823\n",
      "Epoch 1 Batch 300 Loss 1.6724\n",
      "Epoch 1 Batch 400 Loss 1.5041\n",
      "Epoch 1 Batch 500 Loss 1.2977\n",
      "Epoch 1 Batch 600 Loss 1.2079\n",
      "Epoch 1 Batch 700 Loss 1.0871\n",
      "Epoch 1 Batch 800 Loss 0.9890\n",
      "Epoch 1 Batch 900 Loss 0.8796\n",
      "Epoch 1 Batch 1000 Loss 0.8301\n",
      "Epoch 1 Batch 1100 Loss 0.7912\n",
      "Epoch 1 Batch 1200 Loss 0.9118\n",
      "Epoch 1 Loss 1.2828\n",
      "Time taken for 1 epoch 3255.0085706710815 sec\n",
      "\n",
      "Epoch 2 Batch 0 Loss 0.6578\n",
      "Epoch 2 Batch 100 Loss 0.5536\n",
      "Epoch 2 Batch 200 Loss 0.6121\n",
      "Epoch 2 Batch 300 Loss 0.5845\n",
      "Epoch 2 Batch 400 Loss 0.6057\n",
      "Epoch 2 Batch 500 Loss 0.4880\n",
      "Epoch 2 Batch 600 Loss 0.4169\n",
      "Epoch 2 Batch 700 Loss 0.4113\n",
      "Epoch 2 Batch 800 Loss 0.4769\n",
      "Epoch 2 Batch 900 Loss 0.4274\n",
      "Epoch 2 Batch 1000 Loss 0.5203\n",
      "Epoch 2 Batch 1100 Loss 0.4200\n",
      "Epoch 2 Batch 1200 Loss 0.5084\n",
      "Epoch 2 Loss 0.5202\n",
      "Time taken for 1 epoch 3335.203380584717 sec\n",
      "\n",
      "Epoch 3 Batch 0 Loss 0.2558\n",
      "Epoch 3 Batch 100 Loss 0.2361\n",
      "Epoch 3 Batch 200 Loss 0.3099\n",
      "Epoch 3 Batch 300 Loss 0.2778\n",
      "Epoch 3 Batch 400 Loss 0.2534\n",
      "Epoch 3 Batch 500 Loss 0.2567\n",
      "Epoch 3 Batch 600 Loss 0.3124\n",
      "Epoch 3 Batch 700 Loss 0.2923\n",
      "Epoch 3 Batch 800 Loss 0.2129\n",
      "Epoch 3 Batch 900 Loss 0.2890\n",
      "Epoch 3 Batch 1000 Loss 0.2526\n",
      "Epoch 3 Batch 1100 Loss 0.2408\n",
      "Epoch 3 Batch 1200 Loss 0.2623\n",
      "Epoch 3 Loss 0.2776\n",
      "Time taken for 1 epoch 3264.5815494060516 sec\n",
      "\n",
      "Epoch 4 Batch 0 Loss 0.1344\n",
      "Epoch 4 Batch 100 Loss 0.1733\n",
      "Epoch 4 Batch 200 Loss 0.1438\n",
      "Epoch 4 Batch 300 Loss 0.1422\n",
      "Epoch 4 Batch 400 Loss 0.2112\n",
      "Epoch 4 Batch 500 Loss 0.1695\n",
      "Epoch 4 Batch 600 Loss 0.1674\n",
      "Epoch 4 Batch 700 Loss 0.1703\n",
      "Epoch 4 Batch 800 Loss 0.2057\n",
      "Epoch 4 Batch 900 Loss 0.1453\n",
      "Epoch 4 Batch 1000 Loss 0.2258\n",
      "Epoch 4 Batch 1100 Loss 0.1454\n",
      "Epoch 4 Batch 1200 Loss 0.1863\n",
      "Epoch 4 Loss 0.1796\n",
      "Time taken for 1 epoch 3265.688689470291 sec\n",
      "\n",
      "Epoch 5 Batch 0 Loss 0.1108\n",
      "Epoch 5 Batch 100 Loss 0.1416\n",
      "Epoch 5 Batch 200 Loss 0.0981\n",
      "Epoch 5 Batch 300 Loss 0.1345\n",
      "Epoch 5 Batch 400 Loss 0.1241\n",
      "Epoch 5 Batch 500 Loss 0.1642\n",
      "Epoch 5 Batch 600 Loss 0.1766\n",
      "Epoch 5 Batch 700 Loss 0.1335\n",
      "Epoch 5 Batch 800 Loss 0.1594\n",
      "Epoch 5 Batch 900 Loss 0.1780\n",
      "Epoch 5 Batch 1000 Loss 0.1538\n",
      "Epoch 5 Batch 1100 Loss 0.1737\n",
      "Epoch 5 Batch 1200 Loss 0.1689\n",
      "Epoch 5 Loss 0.1372\n",
      "Time taken for 1 epoch 3427.928791999817 sec\n",
      "\n",
      "Epoch 6 Batch 0 Loss 0.0865\n",
      "Epoch 6 Batch 100 Loss 0.0752\n",
      "Epoch 6 Batch 200 Loss 0.1245\n",
      "Epoch 6 Batch 300 Loss 0.1384\n",
      "Epoch 6 Batch 400 Loss 0.0814\n",
      "Epoch 6 Batch 500 Loss 0.1199\n",
      "Epoch 6 Batch 600 Loss 0.1434\n",
      "Epoch 6 Batch 700 Loss 0.1371\n",
      "Epoch 6 Batch 800 Loss 0.1592\n",
      "Epoch 6 Batch 900 Loss 0.1234\n",
      "Epoch 6 Batch 1000 Loss 0.1084\n",
      "Epoch 6 Batch 1100 Loss 0.1268\n",
      "Epoch 6 Batch 1200 Loss 0.1555\n",
      "Epoch 6 Loss 0.1178\n",
      "Time taken for 1 epoch 3516.2025010585785 sec\n",
      "\n",
      "Epoch 7 Batch 0 Loss 0.0473\n",
      "Epoch 7 Batch 100 Loss 0.0546\n",
      "Epoch 7 Batch 200 Loss 0.1088\n",
      "Epoch 7 Batch 300 Loss 0.1341\n",
      "Epoch 7 Batch 400 Loss 0.1315\n",
      "Epoch 7 Batch 500 Loss 0.0595\n",
      "Epoch 7 Batch 600 Loss 0.0703\n",
      "Epoch 7 Batch 700 Loss 0.1166\n",
      "Epoch 7 Batch 800 Loss 0.1270\n",
      "Epoch 7 Batch 900 Loss 0.1006\n",
      "Epoch 7 Batch 1000 Loss 0.1029\n",
      "Epoch 7 Batch 1100 Loss 0.0962\n",
      "Epoch 7 Batch 1200 Loss 0.1217\n",
      "Epoch 7 Loss 0.1052\n",
      "Time taken for 1 epoch 3133.8259451389313 sec\n",
      "\n",
      "Epoch 8 Batch 0 Loss 0.0920\n",
      "Epoch 8 Batch 100 Loss 0.0552\n",
      "Epoch 8 Batch 200 Loss 0.0693\n",
      "Epoch 8 Batch 300 Loss 0.0883\n",
      "Epoch 8 Batch 400 Loss 0.1221\n",
      "Epoch 8 Batch 500 Loss 0.0726\n",
      "Epoch 8 Batch 600 Loss 0.0764\n",
      "Epoch 8 Batch 700 Loss 0.1295\n",
      "Epoch 8 Batch 800 Loss 0.0783\n",
      "Epoch 8 Batch 900 Loss 0.0664\n",
      "Epoch 8 Batch 1000 Loss 0.1421\n",
      "Epoch 8 Batch 1100 Loss 0.0977\n",
      "Epoch 8 Batch 1200 Loss 0.0887\n",
      "Epoch 8 Loss 0.0970\n",
      "Time taken for 1 epoch 3120.4757499694824 sec\n",
      "\n",
      "Epoch 9 Batch 0 Loss 0.0545\n",
      "Epoch 9 Batch 100 Loss 0.0604\n",
      "Epoch 9 Batch 200 Loss 0.1362\n",
      "Epoch 9 Batch 300 Loss 0.0719\n",
      "Epoch 9 Batch 400 Loss 0.0991\n",
      "Epoch 9 Batch 500 Loss 0.1300\n",
      "Epoch 9 Batch 600 Loss 0.1120\n",
      "Epoch 9 Batch 700 Loss 0.0549\n",
      "Epoch 9 Batch 800 Loss 0.0676\n",
      "Epoch 9 Batch 900 Loss 0.1246\n",
      "Epoch 9 Batch 1000 Loss 0.1059\n",
      "Epoch 9 Batch 1100 Loss 0.1182\n",
      "Epoch 9 Batch 1200 Loss 0.0972\n",
      "Epoch 9 Loss 0.0901\n",
      "Time taken for 1 epoch 3113.1793236732483 sec\n",
      "\n",
      "Epoch 10 Batch 0 Loss 0.0978\n",
      "Epoch 10 Batch 100 Loss 0.0635\n",
      "Epoch 10 Batch 200 Loss 0.0501\n",
      "Epoch 10 Batch 300 Loss 0.0696\n",
      "Epoch 10 Batch 400 Loss 0.0865\n",
      "Epoch 10 Batch 500 Loss 0.1202\n",
      "Epoch 10 Batch 600 Loss 0.0482\n",
      "Epoch 10 Batch 700 Loss 0.0890\n",
      "Epoch 10 Batch 800 Loss 0.0581\n",
      "Epoch 10 Batch 900 Loss 0.0491\n",
      "Epoch 10 Batch 1000 Loss 0.0713\n",
      "Epoch 10 Batch 1100 Loss 0.1095\n",
      "Epoch 10 Batch 1200 Loss 0.0800\n",
      "Epoch 10 Loss 0.0855\n",
      "Time taken for 1 epoch 3113.0423061847687 sec\n",
      "\n",
      "Epoch 11 Batch 0 Loss 0.1062\n",
      "Epoch 11 Batch 100 Loss 0.0507\n",
      "Epoch 11 Batch 200 Loss 0.0962\n",
      "Epoch 11 Batch 300 Loss 0.0604\n",
      "Epoch 11 Batch 400 Loss 0.0567\n",
      "Epoch 11 Batch 500 Loss 0.0704\n",
      "Epoch 11 Batch 600 Loss 0.0828\n",
      "Epoch 11 Batch 700 Loss 0.0698\n",
      "Epoch 11 Batch 800 Loss 0.0710\n",
      "Epoch 11 Batch 900 Loss 0.0902\n",
      "Epoch 11 Batch 1000 Loss 0.0959\n",
      "Epoch 11 Batch 1100 Loss 0.1053\n",
      "Epoch 11 Batch 1200 Loss 0.1042\n",
      "Epoch 11 Loss 0.0814\n",
      "Time taken for 1 epoch 3132.950334072113 sec\n",
      "\n",
      "Epoch 12 Batch 0 Loss 0.0267\n",
      "Epoch 12 Batch 100 Loss 0.0593\n",
      "Epoch 12 Batch 200 Loss 0.0516\n",
      "Epoch 12 Batch 300 Loss 0.0820\n",
      "Epoch 12 Batch 400 Loss 0.0469\n",
      "Epoch 12 Batch 500 Loss 0.0859\n",
      "Epoch 12 Batch 600 Loss 0.0589\n",
      "Epoch 12 Batch 700 Loss 0.0732\n",
      "Epoch 12 Batch 800 Loss 0.0549\n",
      "Epoch 12 Batch 900 Loss 0.0482\n",
      "Epoch 12 Batch 1000 Loss 0.0875\n",
      "Epoch 12 Batch 1100 Loss 0.0717\n",
      "Epoch 12 Batch 1200 Loss 0.1135\n",
      "Epoch 12 Loss 0.0774\n",
      "Time taken for 1 epoch 3138.1099894046783 sec\n",
      "\n",
      "Epoch 13 Batch 0 Loss 0.0831\n",
      "Epoch 13 Batch 100 Loss 0.1207\n",
      "Epoch 13 Batch 200 Loss 0.1086\n",
      "Epoch 13 Batch 300 Loss 0.0449\n",
      "Epoch 13 Batch 400 Loss 0.0638\n",
      "Epoch 13 Batch 500 Loss 0.1027\n",
      "Epoch 13 Batch 600 Loss 0.0698\n",
      "Epoch 13 Batch 700 Loss 0.0695\n",
      "Epoch 13 Batch 800 Loss 0.0732\n",
      "Epoch 13 Batch 900 Loss 0.1049\n",
      "Epoch 13 Batch 1000 Loss 0.0961\n",
      "Epoch 13 Batch 1100 Loss 0.0757\n",
      "Epoch 13 Batch 1200 Loss 0.0750\n",
      "Epoch 13 Loss 0.0748\n",
      "Time taken for 1 epoch 3138.992101430893 sec\n",
      "\n",
      "Epoch 14 Batch 0 Loss 0.0772\n",
      "Epoch 14 Batch 100 Loss 0.0279\n",
      "Epoch 14 Batch 200 Loss 0.0631\n",
      "Epoch 14 Batch 300 Loss 0.0384\n",
      "Epoch 14 Batch 400 Loss 0.0499\n",
      "Epoch 14 Batch 500 Loss 0.0772\n",
      "Epoch 14 Batch 600 Loss 0.0304\n",
      "Epoch 14 Batch 700 Loss 0.0758\n",
      "Epoch 14 Batch 800 Loss 0.0976\n",
      "Epoch 14 Batch 900 Loss 0.0828\n",
      "Epoch 14 Batch 1000 Loss 0.1138\n",
      "Epoch 14 Batch 1100 Loss 0.0426\n",
      "Epoch 14 Batch 1200 Loss 0.0720\n",
      "Epoch 14 Loss 0.0712\n",
      "Time taken for 1 epoch 3139.75319814682 sec\n",
      "\n",
      "Epoch 15 Batch 0 Loss 0.0526\n",
      "Epoch 15 Batch 100 Loss 0.0502\n",
      "Epoch 15 Batch 200 Loss 0.0510\n",
      "Epoch 15 Batch 300 Loss 0.0742\n",
      "Epoch 15 Batch 400 Loss 0.0549\n",
      "Epoch 15 Batch 500 Loss 0.0674\n",
      "Epoch 15 Batch 600 Loss 0.0849\n",
      "Epoch 15 Batch 700 Loss 0.0516\n",
      "Epoch 15 Batch 800 Loss 0.0728\n",
      "Epoch 15 Batch 900 Loss 0.0885\n",
      "Epoch 15 Batch 1000 Loss 0.0841\n",
      "Epoch 15 Batch 1100 Loss 0.0570\n",
      "Epoch 15 Batch 1200 Loss 0.0846\n",
      "Epoch 15 Loss 0.0691\n",
      "Time taken for 1 epoch 3196.810943365097 sec\n",
      "\n"
     ]
    }
   ],
   "source": [
    "EPOCHS = 15\n",
    "\n",
    "for epoch in range(EPOCHS):\n",
    "  start = time.time()\n",
    "\n",
    "  enc_hidden = encoder.initialize_hidden_state()\n",
    "  total_loss = 0\n",
    "\n",
    "  for (batch, (inp, targ)) in enumerate(dataset.take(steps_per_epoch)):\n",
    "    batch_loss = train_step(inp, targ, enc_hidden)\n",
    "    total_loss += batch_loss\n",
    "\n",
    "    if batch % 100 == 0:\n",
    "      print('Epoch {} Batch {} Loss {:.4f}'.format(epoch + 1,\n",
    "                                                   batch,\n",
    "                                                   batch_loss.numpy()))\n",
    "  # saving (checkpoint) the model every 2 epochs\n",
    "  if (epoch + 1) % 2 == 0:\n",
    "    checkpoint.save(file_prefix = checkpoint_prefix)\n",
    "\n",
    "  print('Epoch {} Loss {:.4f}'.format(epoch + 1,\n",
    "                                      total_loss / steps_per_epoch))\n",
    "  print('Time taken for 1 epoch {} sec\\n'.format(time.time() - start))"
   ]
  },
  {
   "cell_type": "markdown",
   "metadata": {
    "id": "mU3Ce8M6I3rz"
   },
   "source": [
    "## Translate\n",
    "\n",
    "* The evaluate function is similar to the training loop, except we don't use *teacher forcing* here. The input to the decoder at each time step is its previous predictions along with the hidden state and the encoder output.\n",
    "* Stop predicting when the model predicts the *end token*.\n",
    "* And store the *attention weights for every time step*.\n",
    "\n",
    "Note: The encoder output is calculated only once for one input."
   ]
  },
  {
   "cell_type": "code",
   "execution_count": 27,
   "metadata": {
    "id": "EbQpyYs13jF_"
   },
   "outputs": [],
   "source": [
    "def evaluate(sentence):\n",
    "  attention_plot = np.zeros((max_length_targ, max_length_inp))\n",
    "\n",
    "  sentence = preprocess_sentence(sentence)\n",
    "\n",
    "  inputs = [inp_lang.word_index[i] for i in sentence.split(' ')]\n",
    "  inputs = tf.keras.preprocessing.sequence.pad_sequences([inputs],\n",
    "                                                         maxlen=max_length_inp,\n",
    "                                                         padding='post')\n",
    "  inputs = tf.convert_to_tensor(inputs)\n",
    "\n",
    "  result = ''\n",
    "\n",
    "  hidden = [tf.zeros((1, units)) for i in range(2)]\n",
    "  enc_hidden = encoder(inputs, hidden)\n",
    "\n",
    "  forward_hidden, backward_hidden = enc_hidden\n",
    "\n",
    "  dec_input = tf.expand_dims([targ_lang.word_index['<start>']], 0)\n",
    "\n",
    "  for t in range(max_length_targ):\n",
    "    predictions, dec_hidden = decoder(dec_input, forward_hidden, backward_hidden)\n",
    "\n",
    "    # storing the attention weights to plot later on\n",
    "    predicted_id = tf.argmax(predictions[0]).numpy()\n",
    "    result += targ_lang.index_word[predicted_id] + ' '\n",
    "\n",
    "    if targ_lang.index_word[predicted_id] == '<end>':\n",
    "      return result, sentence\n",
    "\n",
    "    # the predicted ID is fed back into the model\n",
    "    dec_input = tf.expand_dims([predicted_id], 0)\n",
    "\n",
    "  return result, sentence"
   ]
  },
  {
   "cell_type": "code",
   "execution_count": 28,
   "metadata": {
    "id": "sl9zUHzg3jGI"
   },
   "outputs": [],
   "source": [
    "def translate(sentence):\n",
    "  result, sentence = evaluate(sentence)\n",
    "\n",
    "  print('Input: %s' % (sentence))\n",
    "  print('Predicted translation: {}'.format(result))"
   ]
  },
  {
   "cell_type": "markdown",
   "metadata": {
    "id": "n250XbnjOaqP"
   },
   "source": [
    "## Restore the latest checkpoint and test"
   ]
  },
  {
   "cell_type": "code",
   "execution_count": 29,
   "metadata": {
    "colab": {
     "base_uri": "https://localhost:8080/"
    },
    "id": "UJpT9D5_OgP6",
    "outputId": "473f4e1a-6877-4fbc-cc66-c1c47a0cfc29"
   },
   "outputs": [],
   "source": [
    "# restoring the latest checkpoint in checkpoint_dir\n",
    "# checkpoint.restore(tf.train.latest_checkpoint(checkpoint_dir))"
   ]
  },
  {
   "cell_type": "code",
   "execution_count": 30,
   "metadata": {
    "colab": {
     "base_uri": "https://localhost:8080/"
    },
    "id": "WrAM0FDomq3E",
    "outputId": "59ed9dfc-cdc7-4085-902e-bc7e132db72c"
   },
   "outputs": [
    {
     "name": "stdout",
     "output_type": "stream",
     "text": [
      "Input: <start> здесь хорошо . <end>\n",
      "Predicted translation: it's good here . <end> \n"
     ]
    }
   ],
   "source": [
    "translate('Здесь хорошо.')"
   ]
  },
  {
   "cell_type": "code",
   "execution_count": 31,
   "metadata": {
    "colab": {
     "base_uri": "https://localhost:8080/"
    },
    "id": "5bhFfwcIMX5i",
    "outputId": "5332e5f5-90df-401b-ce3b-3718e985dfd1"
   },
   "outputs": [
    {
     "name": "stdout",
     "output_type": "stream",
     "text": [
      "Input: <start> я не смогу поехать . <end>\n",
      "Predicted translation: i can't go . <end> \n"
     ]
    }
   ],
   "source": [
    "translate('Я не смогу поехать.')"
   ]
  },
  {
   "cell_type": "code",
   "execution_count": 32,
   "metadata": {
    "colab": {
     "base_uri": "https://localhost:8080/"
    },
    "id": "zSx2iM36EZQZ",
    "outputId": "56d285b7-9990-4aa8-8a53-6b05ec89d7bd"
   },
   "outputs": [
    {
     "name": "stdout",
     "output_type": "stream",
     "text": [
      "Input: <start> вы еще дома ? <end>\n",
      "Predicted translation: are you still at home ? <end> \n"
     ]
    }
   ],
   "source": [
    "translate(u'Вы еще дома?')"
   ]
  },
  {
   "cell_type": "code",
   "execution_count": 33,
   "metadata": {
    "colab": {
     "base_uri": "https://localhost:8080/"
    },
    "id": "A3LLCx3ZE0Ls",
    "outputId": "c47e6f0e-d37f-45c9-8f9a-cc994e2efbe0"
   },
   "outputs": [
    {
     "name": "stdout",
     "output_type": "stream",
     "text": [
      "Input: <start> вы вс еще дома ? <end>\n",
      "Predicted translation: are you still at home ? <end> \n"
     ]
    }
   ],
   "source": [
    "translate(u'Вы всё еще дома?')"
   ]
  },
  {
   "cell_type": "code",
   "execution_count": 34,
   "metadata": {
    "colab": {
     "base_uri": "https://localhost:8080/"
    },
    "id": "DUQVLVqUE1YW",
    "outputId": "ae952952-d5f2-4418-8cfc-a0d0cc3c991b"
   },
   "outputs": [
    {
     "name": "stdout",
     "output_type": "stream",
     "text": [
      "Input: <start> попробуй сделать это . <end>\n",
      "Predicted translation: try and try and try and try and try and try \n"
     ]
    }
   ],
   "source": [
    "translate(u'Попробуй сделать это.')"
   ]
  },
  {
   "cell_type": "code",
   "execution_count": 35,
   "metadata": {
    "colab": {
     "base_uri": "https://localhost:8080/"
    },
    "id": "f09_hUFx9EJh",
    "outputId": "219d9d61-1245-4bc5-db40-4a3641f6862e"
   },
   "outputs": [
    {
     "name": "stdout",
     "output_type": "stream",
     "text": [
      "Input: <start> я люблю , когда идет снег . <end>\n",
      "Predicted translation: i like snow . <end> \n"
     ]
    }
   ],
   "source": [
    "translate(u'Я люблю, когда идет снег.')"
   ]
  },
  {
   "cell_type": "code",
   "execution_count": 36,
   "metadata": {
    "colab": {
     "base_uri": "https://localhost:8080/"
    },
    "id": "e7c5p8rmkHQG",
    "outputId": "64641f8b-9a23-49e8-e993-7575743386a3"
   },
   "outputs": [
    {
     "name": "stdout",
     "output_type": "stream",
     "text": [
      "Input: <start> я никогда такого не делаю . <end>\n",
      "Predicted translation: i never do that . <end> \n"
     ]
    }
   ],
   "source": [
    "translate(u'Я никогда такого не делаю.')"
   ]
  },
  {
   "cell_type": "code",
   "execution_count": 37,
   "metadata": {
    "colab": {
     "base_uri": "https://localhost:8080/"
    },
    "id": "TxGkYLKgA33D",
    "outputId": "dc793d7c-7688-4ec6-d79f-c1e6f2713906"
   },
   "outputs": [
    {
     "name": "stdout",
     "output_type": "stream",
     "text": [
      "Input: <start> я хочу поехать в отпуск . <end>\n",
      "Predicted translation: i want to go to go to go to go to \n"
     ]
    }
   ],
   "source": [
    "translate('Я хочу поехать в отпуск.')"
   ]
  },
  {
   "cell_type": "code",
   "execution_count": 38,
   "metadata": {
    "colab": {
     "base_uri": "https://localhost:8080/"
    },
    "id": "uZbjLtv2BwGZ",
    "outputId": "044da953-4460-490f-b246-650460251e50"
   },
   "outputs": [
    {
     "name": "stdout",
     "output_type": "stream",
     "text": [
      "Input: <start> я тебя люблю <end>\n",
      "Predicted translation: i love you . <end> \n"
     ]
    }
   ],
   "source": [
    "translate('Я тебя люблю')"
   ]
  },
  {
   "cell_type": "code",
   "execution_count": 39,
   "metadata": {
    "colab": {
     "base_uri": "https://localhost:8080/"
    },
    "id": "EsB5BRQdBTKD",
    "outputId": "88a7cc3c-49af-4bd0-816e-a44150142c1c"
   },
   "outputs": [
    {
     "name": "stdout",
     "output_type": "stream",
     "text": [
      "Input: <start> у меня есть собака <end>\n",
      "Predicted translation: i have a dog . <end> \n"
     ]
    }
   ],
   "source": [
    "translate('У меня есть собака')"
   ]
  },
  {
   "cell_type": "code",
   "execution_count": 40,
   "metadata": {
    "colab": {
     "base_uri": "https://localhost:8080/"
    },
    "id": "2xJPd5a2C_Ov",
    "outputId": "9d962e10-0b82-4e3a-bea4-7b2a571de30a"
   },
   "outputs": [
    {
     "name": "stdout",
     "output_type": "stream",
     "text": [
      "Input: <start> как у тебя дела ? <end>\n",
      "Predicted translation: how are you doing ? <end> \n"
     ]
    }
   ],
   "source": [
    "translate('Как у тебя дела?')"
   ]
  },
  {
   "cell_type": "code",
   "execution_count": 41,
   "metadata": {
    "colab": {
     "base_uri": "https://localhost:8080/"
    },
    "id": "ZBcSHjAC2hyI",
    "outputId": "b62a0f43-5a9a-416b-eb9c-24b799bc2cf4"
   },
   "outputs": [
    {
     "name": "stdout",
     "output_type": "stream",
     "text": [
      "Input: <start> жизнь прекрасна <end>\n",
      "Predicted translation: life is sweet . <end> \n"
     ]
    }
   ],
   "source": [
    "translate('Жизнь прекрасна')"
   ]
  },
  {
   "cell_type": "code",
   "execution_count": 42,
   "metadata": {
    "colab": {
     "base_uri": "https://localhost:8080/"
    },
    "id": "DhRnaJOG25_m",
    "outputId": "d602e8e0-a13e-478d-cf98-83d484029566"
   },
   "outputs": [
    {
     "name": "stdout",
     "output_type": "stream",
     "text": [
      "Input: <start> когда у тебя день рождения ? <end>\n",
      "Predicted translation: when are your day ? <end> \n"
     ]
    }
   ],
   "source": [
    "translate(u'Когда у тебя день рождения?')"
   ]
  },
  {
   "cell_type": "markdown",
   "metadata": {
    "id": "Reh7_D9w5Ab6"
   },
   "source": [
    "**Вывод:** В целом, не так плохо. Перевод получается лучше, чем если брать сеть с однонаправленным gru."
   ]
  },
  {
   "cell_type": "code",
   "execution_count": null,
   "metadata": {},
   "outputs": [],
   "source": []
  }
 ],
 "metadata": {
  "accelerator": "GPU",
  "colab": {
   "provenance": []
  },
  "kernelspec": {
   "display_name": "myenv",
   "language": "python",
   "name": "myenv"
  },
  "language_info": {
   "codemirror_mode": {
    "name": "ipython",
    "version": 3
   },
   "file_extension": ".py",
   "mimetype": "text/x-python",
   "name": "python",
   "nbconvert_exporter": "python",
   "pygments_lexer": "ipython3",
   "version": "3.8.10"
  }
 },
 "nbformat": 4,
 "nbformat_minor": 4
}
