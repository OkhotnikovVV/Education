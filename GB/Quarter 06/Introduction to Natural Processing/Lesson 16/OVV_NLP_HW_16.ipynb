{
 "cells": [
  {
   "cell_type": "markdown",
   "metadata": {},
   "source": [
    "# Введение в обработку естественного языка"
   ]
  },
  {
   "cell_type": "markdown",
   "metadata": {},
   "source": [
    "## Урок 16. Курсовой проект. Создание чат-бота в Telegram"
   ]
  },
  {
   "cell_type": "markdown",
   "metadata": {},
   "source": [
    "Реализовать сценарии поведения для диалоговой системы:\n",
    "\n",
    "* сценарий болталка\n",
    "\n",
    "* покупка товара\n",
    "\n",
    "* погода в городе"
   ]
  },
  {
   "cell_type": "code",
   "execution_count": 1,
   "metadata": {},
   "outputs": [],
   "source": [
    "# !pip install pymorphy2\n",
    "# !pip install pandarallel\n",
    "# !pip install gdown\n",
    "# !pip install num2words\n",
    "\n",
    "# # Скачать файл Otvety.txt по ссылке  (1,7G)\n",
    "# # https://drive.google.com/file/d/1DQL9ybca4USImUDaxxHmkIZNmClKBtKG\n",
    "# !gdown --id 1DQL9ybca4USImUDaxxHmkIZNmClKBtKG"
   ]
  },
  {
   "cell_type": "code",
   "execution_count": 2,
   "metadata": {
    "id": "xAhRcgdAVJzn",
    "tags": []
   },
   "outputs": [
    {
     "name": "stdout",
     "output_type": "stream",
     "text": [
      "INFO: Pandarallel will run on 6 workers.\n",
      "INFO: Pandarallel will use standard multiprocessing data transfer (pipe) to transfer data between the main process and workers.\n",
      "\n",
      "WARNING: You are on Windows. If you detect any issue with pandarallel, be sure you checked out the Troubleshooting page:\n",
      "https://nalepae.github.io/pandarallel/troubleshooting/\n"
     ]
    }
   ],
   "source": [
    "import pandas as pd\n",
    "import numpy as np\n",
    "import string\n",
    "import pickle\n",
    "import annoy\n",
    "import mmap\n",
    "import re\n",
    "import os\n",
    "\n",
    "from pymorphy2 import MorphAnalyzer\n",
    "from gensim.models import Word2Vec, FastText\n",
    "from tqdm.notebook import tqdm\n",
    "from nltk.corpus import stopwords\n",
    "from num2words import num2words\n",
    "    \n",
    "tqdm.pandas()\n",
    "\n",
    "from pandarallel import pandarallel\n",
    "pandarallel.initialize(progress_bar=True)"
   ]
  },
  {
   "cell_type": "code",
   "execution_count": 3,
   "metadata": {
    "tags": []
   },
   "outputs": [],
   "source": [
    "def get_num_lines(file_path):\n",
    "    fp = open(file_path, \"r+\")\n",
    "    buf = mmap.mmap(fp.fileno(), 0)\n",
    "    lines = 0\n",
    "    while buf.readline():\n",
    "        lines += 1\n",
    "    return lines"
   ]
  },
  {
   "cell_type": "code",
   "execution_count": 4,
   "metadata": {
    "tags": []
   },
   "outputs": [
    {
     "name": "stdout",
     "output_type": "stream",
     "text": [
      "\n",
      "\n",
      "---\n",
      "\n",
      "вопрос о ТДВ)) давно и хорошо отдыхаем)) ЛИЧНО ВАМ здесь кого советовали завести?)) . \n",
      "\n",
      "хомячка.... \n",
      "\n",
      "мужика, йопаря, собачку и 50 кошек))). \n",
      "\n",
      "Общение !). \n",
      "\n",
      "паучка. \n",
      "\n",
      "Да пол мне бы памыть!<br>А таг то ни чо. Типа ни каво!. \n",
      "\n",
      "я тут вообще что бы пообщаться..... \n",
      "\n",
      "А мне советовали сиси завести...))). \n",
      "\n"
     ]
    }
   ],
   "source": [
    "with open('Otvety.txt', 'r', encoding='utf-8') as f:\n",
    "    for i in range(10):\n",
    "        print(f.readline())"
   ]
  },
  {
   "cell_type": "code",
   "execution_count": 5,
   "metadata": {
    "id": "JBnSQav-VJz6",
    "tags": []
   },
   "outputs": [],
   "source": [
    "# Преобразование файла аопросов-ответов в строчный вид\n",
    "if not os.path.isfile('prepared_answers.txt'):\n",
    "\n",
    "    question = None\n",
    "    written = False\n",
    "\n",
    "    with open(\"prepared_answers.txt\", \"w\", encoding='utf-8') as fout:  \n",
    "        with open(\"Otvety.txt\", \"r\", encoding='utf-8') as fin:\n",
    "            for line in tqdm(fin, ncols=80):\n",
    "                if line.startswith(\"---\"):\n",
    "                    written = False\n",
    "                    continue\n",
    "                if not written and question is not None:\n",
    "                    fout.write(question.replace(\"\\t\", \" \").strip() + \"\\t\" + line.replace(\"\\t\", \" \"))\n",
    "                    written = True\n",
    "                    question = None\n",
    "                    continue\n",
    "                if not written:\n",
    "                    question = line.strip()\n",
    "                    continue"
   ]
  },
  {
   "cell_type": "code",
   "execution_count": 6,
   "metadata": {
    "tags": []
   },
   "outputs": [
    {
     "name": "stdout",
     "output_type": "stream",
     "text": [
      "\tвопрос о ТДВ)) давно и хорошо отдыхаем)) ЛИЧНО ВАМ здесь кого советовали завести?)) . \n",
      "\n",
      "Как парни относятся к цветным линзам? Если у девушки то зеленые глаза, то голубые...)) .\tменя вобще прикалывает эта тема :). \n",
      "\n",
      "Что делать, сегодня нашёл 2 миллиона рублей? .\tЕсли это \"счастье \" действительно на вас свалилось, лучше пойти в милицию и заявить о находке. Такие деньги просто так не терют, а что самое интересное их неприменно будут искать и поверьте мне найдут, видел подобное в жизни. Можно нарваться на бабушку конечно, которая хотела помоч внуку с покупкой квартиры, а можно на бандитов, которые будут с вами разговаривать иначе чем бабушка с милицией. Выбор за вами, есть еще конечно шанс, что это подарок с выше за котрый с вас никто не спросит, тогда лучше отдать хотябы 500 на благотворительность. дабы не спугнуть удачу!. \n",
      "\n",
      "Эбу в двенашке называется Итэлма что за эбу? .\tЭБУ — электронный блок управления двигателем автомобиля, его другое название — контроллер. Он принимает информацию от многочисленных датчиков, обрабатывает ее по особым алгоритмам и, отталкиваясь от полученных данных, отдает команды исполнительным устройствам системы.. \n",
      "\n",
      "академия вампиров. сколько на даный момент частей книги академия вампиров? .\t4. Охотники и Жертвы, Ледяной укус, Поцелуй тьмы, Кровная клятва. \n",
      "\n",
      "как защититься от энергетического вампира .\tЗащита мыслью. <br>Каждый человек должен в отношении вампиров взять для себя за правило: \"Нам не страшен серый волк\", то есть знать, что конкретный \"серый волк\" - вампир существует, но воспринимать его следует не как хищника, а как добрую домашнюю собачку. Такая \"собачка\" быстро почувствует, что вы не \"того поля ягода\" и быстро отстанет сама. <br>\"Витание в облаках\". <br>Тоже хороший способ. Мысленно представить себя находящимся в окружении приятных нашим ощущениям белых облаков или сине-голубого неба. Это просто и эффективно. <br>\"Подкормка негативом\". <br>Вампир хочет кушать? Так дайте ему. Соберите в себе все плохие мысли, эмоции, все то отрицательное, что каким-то образом закралось в организм. И всю эту \"тяжесть\" отдайте вампиру - пусть подавится. <br>Зеркало <br>При встрече или при общении с неприятным человеком мысленно представить, что между вами зеркальная стена, обращенная отражающей поверхностью к этому человеку. <br>\"Дикобраз\" <br>Этот способ выглядит следующим образом: человек, который почувствовал опасность, мысленно покрывает свое биополе иглами и шипами. Энергетический вампир, который попробует высосать вашу биоэнергию, будет ощущать боль при прикосновении биополей. <br>Замыкание контура биополя. <br> <br>Существует два способа. Каждый человек выбирает наиболее удобный ему. Первый способ заключается в скрещивании ног и рук при общении с человеком, от которого можно ждать неприятностей. Второй способ заключается в следующем: большой и указательный пальцы одной руки соединить с большим и указательным пальцами другой руки, образуя кольцо, а остальные пальцы каждой руки наложить друг на друга. Оба эти способа очень эффективны, так как благодаря ним замыкается контур биополя, не оставляя пробоин, и энергетический вампир просто не может пробиться через эту защиту и вытянуть нашу биоэнергию. <br> <br>Все приемы нужно делать незаметно, не демонстрируя своих действий и не привлекая внимания окружающих.. \n",
      "\n",
      "Кто выращивает магнолию в открытом грунте в Средней Полосе России ? Какой именно у Вас вид и сорт ? Зимует с укрытием или без укрытия ? Как цветет ? Сколько лет Вашей магнолии ? Каковы размеры деревьев ? Какие особенности выращивания ? Пожалуйста, указывайте в ответе Ваш регион и, если можно, прикрепляйте фото..\tЯ выращиваю. Хабаровск. ДВ. <br>В кратце. Прочитала на одном сайте метод выращивания магнолии в Средней полосе: если купили черенок растения, то первые 3-4 года выращивается как кадочное растение, как роза. Летом на улице, а на зиму - в погреб или другое прохладное помещение, типа холодильника. До весны. По весне - снова в сад. И так, пока она не нарастит мощную корневую систему. Через 3-4 года ее уже можно высаживать в грунт, а на зиму надо укрывать, по возможности. <br>Моей уже 1 год, так что пока просто ращу. <br>Сорт : магнолия Susan.<br>. \n",
      "\n",
      "Как отформатировать диск C из доса если он в формате NTFS при команде fdisk - жесткие диски не найдены .\tскачай программу акронис диск директор, загрузочную версию. \n",
      "\n",
      "Как вы относитесь к парикмахерам, работающим на дому? Помешает ли вам например присутствие дома ребенка? Или мужа. Нормально ли для вас мыть голову в ванной \"раком\"?.\tЕсли человек профессионал почему бы нет.Главное остаться довольной результатом.Ситуации разные бывают.Может она мамочка в декрете.Может выгоднее работать на себя,без аренды и других вкусностей.Да как правило цена услуг ниже.А общение свободней.Можно получить еще и хорошего друга и собеседника.. \n",
      "\n",
      "Кошку Олега не видели)? .\t♦•давно ли Олег стал котом•♦. \n",
      "\n"
     ]
    }
   ],
   "source": [
    "with open('prepared_answers.txt', 'r', encoding='utf-8') as f:\n",
    "    for i in range(10):\n",
    "        print(f.readline())"
   ]
  },
  {
   "cell_type": "code",
   "execution_count": 7,
   "metadata": {
    "id": "qNovia_FVJz7",
    "tags": []
   },
   "outputs": [],
   "source": [
    "# Функция для обработки текста\n",
    "\n",
    "def preprocess_txt(line):\n",
    "    \n",
    "    # HTML-теги: первый шаг - удалить из входного текста все HTML-теги\n",
    "    # URL и ссылки: далее - удаляем из текста все URL и ссылки\n",
    "    spls = re.sub(r'(<[^<]+?>)|(www.\\S+)|(http\\S+)|([0-9]+[-]?[\\S]+)|([^а-яА-ЯёЁ0-9\\s])', '', line)\n",
    "    \n",
    "    words = []\n",
    "    for word in spls.split():\n",
    "        if word.isdigit():\n",
    "            words.append(num2words(word, lang='ru'))\n",
    "        else:\n",
    "            words.append(word)\n",
    "    # spls = ' '.join(words)\n",
    "    spls = \" \".join(i.strip() for i in words if i not in exclude).split()\n",
    "    spls = [morpher.parse(i.lower())[0].normal_form for i in spls]\n",
    "    spls = [i for i in spls if i not in stop_words and i != \"\"]\n",
    "    \n",
    "    return spls"
   ]
  },
  {
   "cell_type": "code",
   "execution_count": 8,
   "metadata": {
    "colab": {
     "referenced_widgets": [
      "f32db27df42f4863a58d2d9996f088e3"
     ]
    },
    "id": "uvwpdubYVJz8",
    "outputId": "83dd0de8-4106-4dbc-c584-61c1a23cb9bd",
    "tags": []
   },
   "outputs": [],
   "source": [
    "# Обработка текста\n",
    "\n",
    "sentences = []\n",
    "morpher = MorphAnalyzer()\n",
    "exclude = set(string.punctuation)\n",
    "stop_words = set(stopwords.words('russian'))\n",
    "\n",
    "file_path_from = 'prepared_answers.txt'\n",
    "file_path_to = 'Otvety2.txt'\n",
    "\n",
    "if not os.path.isfile(file_path_to):\n",
    "    \n",
    "    N = get_num_lines(file_path_from)\n",
    "    with open(file_path_to, 'w', encoding='utf-8') as fileto:\n",
    "        with open(file_path_from, 'r', encoding='utf-8') as filefrom:\n",
    "            for k in tqdm(range(N)):\n",
    "                line = filefrom.readline()\n",
    "                if line == '': break\n",
    "                spls = preprocess_txt(line)\n",
    "                sentences.append(spls)\n",
    "                fileto.write(' '.join(spls)+'\\n')"
   ]
  },
  {
   "cell_type": "code",
   "execution_count": 9,
   "metadata": {
    "tags": []
   },
   "outputs": [
    {
     "data": {
      "application/vnd.jupyter.widget-view+json": {
       "model_id": "14053505708f4fe9b80686ca7f63e942",
       "version_major": 2,
       "version_minor": 0
      },
      "text/plain": [
       "  0%|          | 0/1163342 [00:00<?, ?it/s]"
      ]
     },
     "metadata": {},
     "output_type": "display_data"
    }
   ],
   "source": [
    "# Загрузить результат\n",
    "\n",
    "sentences = []\n",
    "\n",
    "file_path_from = 'Otvety2.txt'\n",
    "if os.path.isfile(file_path_from):  \n",
    "    N = get_num_lines(file_path_from) \n",
    "    with open(file_path_to, mode = 'r', encoding='utf-8') as filefrom:\n",
    "        for k in tqdm(range(N)):\n",
    "            line = filefrom.readline()\n",
    "            if line == '': break\n",
    "            sentences.append(line.split())"
   ]
  },
  {
   "cell_type": "code",
   "execution_count": 10,
   "metadata": {
    "tags": []
   },
   "outputs": [
    {
     "data": {
      "text/plain": [
       "['а5',\n",
       " 'аа',\n",
       " 'аааааааа',\n",
       " 'абдулл',\n",
       " 'абзац',\n",
       " 'абракадабра',\n",
       " 'абрамович',\n",
       " 'абсолютно',\n",
       " 'ава',\n",
       " 'авангард']"
      ]
     },
     "execution_count": 10,
     "metadata": {},
     "output_type": "execute_result"
    }
   ],
   "source": [
    "vec = []\n",
    "_ = [vec.extend(x)  for x in sentences[:1000]]\n",
    "vec = list(set(vec))\n",
    "vec.sort()\n",
    "vec[:10]"
   ]
  },
  {
   "cell_type": "code",
   "execution_count": 11,
   "metadata": {},
   "outputs": [],
   "source": [
    "#df['text'] = value_counts(normalize=True)"
   ]
  },
  {
   "cell_type": "code",
   "execution_count": 12,
   "metadata": {
    "tags": []
   },
   "outputs": [
    {
     "data": {
      "text/plain": [
       "[['вопрос', 'тдв', 'давно', 'отдыхать', 'лично', 'советовать', 'завести'],\n",
       " ['парень',\n",
       "  'относиться',\n",
       "  'цветной',\n",
       "  'линза',\n",
       "  'девушка',\n",
       "  'зелёный',\n",
       "  'глаз',\n",
       "  'голубой',\n",
       "  'вобщий',\n",
       "  'прикалывать',\n",
       "  'тема'],\n",
       " ['делать',\n",
       "  'сегодня',\n",
       "  'найти',\n",
       "  'миллион',\n",
       "  'рубль',\n",
       "  'это',\n",
       "  'счастие',\n",
       "  'действительно',\n",
       "  'свалиться',\n",
       "  'хороший',\n",
       "  'пойти',\n",
       "  'милиция',\n",
       "  'заявить',\n",
       "  'находка',\n",
       "  'деньга',\n",
       "  'просто',\n",
       "  'тероть',\n",
       "  'самый',\n",
       "  'интересный',\n",
       "  'неприменный',\n",
       "  'искать',\n",
       "  'поверьте',\n",
       "  'найти',\n",
       "  'видеть',\n",
       "  'подобный',\n",
       "  'жизнь',\n",
       "  'нарваться',\n",
       "  'бабушка',\n",
       "  'который',\n",
       "  'хотеть',\n",
       "  'помочий',\n",
       "  'внук',\n",
       "  'покупка',\n",
       "  'квартира',\n",
       "  'бандит',\n",
       "  'который',\n",
       "  'разговаривать',\n",
       "  'иначе',\n",
       "  'бабушка',\n",
       "  'милиция',\n",
       "  'выбор',\n",
       "  'ещё',\n",
       "  'шанс',\n",
       "  'это',\n",
       "  'подарок',\n",
       "  'выше',\n",
       "  'котрый',\n",
       "  'никто',\n",
       "  'спросить',\n",
       "  'хороший',\n",
       "  'отдать',\n",
       "  'хотяб',\n",
       "  'благотворительность',\n",
       "  'дабы',\n",
       "  'спугнуть',\n",
       "  'удача']]"
      ]
     },
     "execution_count": 12,
     "metadata": {},
     "output_type": "execute_result"
    }
   ],
   "source": [
    "sentences[:3]"
   ]
  },
  {
   "cell_type": "code",
   "execution_count": 13,
   "metadata": {
    "id": "zwXvXkJBVJ0B",
    "tags": []
   },
   "outputs": [],
   "source": [
    "# Обучим модель FastText\n",
    "\n",
    "file_path_from = 'ft_model'\n",
    "if not os.path.isfile(file_path_from):  \n",
    "    \n",
    "    sentences = [i for i in tqdm(sentences) if len(i) > 2]\n",
    "    modelFT = FastText(sentences=sentences, min_count=1, window=5)\n",
    "    modelFT.save(\"ft_model\")"
   ]
  },
  {
   "cell_type": "code",
   "execution_count": 14,
   "metadata": {
    "tags": []
   },
   "outputs": [],
   "source": [
    "# Загрузить модель\n",
    "\n",
    "modelFT = FastText.load(\"ft_model\")\n",
    "ft_index = annoy.AnnoyIndex(100 ,'angular')"
   ]
  },
  {
   "cell_type": "code",
   "execution_count": 15,
   "metadata": {},
   "outputs": [],
   "source": [
    "#Размерность вектора модели. Если установить 100 — каждое слово в корпусе будет представлено в виде 100-мерного вектора, и т.п.\n",
    "#Наименьшее допустимое количество символов в слове, для которого будет создаваться векторное представление; так можно убрать частотные, но не очень значимые слова типа союзов и предлогов.\n",
    "#Размер окна. Этот параметр задает, сколько соседних слов считается частью контекста. Если выставить 40, то алгоритм возьмет 40 слов спереди от слова и 40 слов сзади от слова;"
   ]
  },
  {
   "cell_type": "code",
   "execution_count": 16,
   "metadata": {},
   "outputs": [
    {
     "data": {
      "text/plain": [
       "['более',\n",
       " 'мой',\n",
       " 'во',\n",
       " 'может',\n",
       " 'потому',\n",
       " 'и',\n",
       " 'совсем',\n",
       " 'был',\n",
       " 'когда',\n",
       " 'моя',\n",
       " 'ничего',\n",
       " 'что',\n",
       " 'тогда',\n",
       " 'к',\n",
       " 'конечно',\n",
       " 'она',\n",
       " 'еще',\n",
       " 'тебя',\n",
       " 'до',\n",
       " 'мне']"
      ]
     },
     "execution_count": 16,
     "metadata": {},
     "output_type": "execute_result"
    }
   ],
   "source": [
    "list(set(stop_words))[:20]"
   ]
  },
  {
   "cell_type": "code",
   "execution_count": 17,
   "metadata": {
    "tags": []
   },
   "outputs": [],
   "source": [
    "stop_words = set(stopwords.words('russian'))"
   ]
  },
  {
   "cell_type": "code",
   "execution_count": 18,
   "metadata": {
    "tags": []
   },
   "outputs": [],
   "source": [
    "# Создаем Индексы для вопросов-ответов\n",
    "\n",
    "file_path_from = 'speaker.ann'\n",
    "if not os.path.isfile(file_path_from):  \n",
    "    morpher = MorphAnalyzer()\n",
    "    sw = set(stop_words)\n",
    "    exclude = set(string.punctuation)\n",
    "    modelFT = FastText.load(\"ft_model\")\n",
    "    ft_index = annoy.AnnoyIndex(100 ,'angular')\n",
    "\n",
    "    index_map = {}\n",
    "    counter = 0\n",
    "    with open(\"prepared_answers.txt\", \"r\", encoding='utf-8') as f:\n",
    "        for line in tqdm(f):\n",
    "            n_ft = 0\n",
    "            spls = line.split(\"\\t\")\n",
    "            index_map[counter] = spls[1]\n",
    "            question = preprocess_txt(spls[0])\n",
    "            vector_ft = np.zeros(100)\n",
    "            for word in question:\n",
    "                if word in modelFT.wv:\n",
    "                    vector_ft += modelFT.wv[word]\n",
    "                    n_ft += 1\n",
    "            if n_ft > 0:\n",
    "                vector_ft = vector_ft / n_ft\n",
    "            ft_index.add_item(counter, vector_ft)\n",
    "\n",
    "            counter += 1\n",
    "\n",
    "            if counter > 50_000:\n",
    "                break\n",
    "\n",
    "    ft_index.build(10)\n",
    "    ft_index.save('speaker.ann')\n",
    "    \n",
    "    with open(\"index_speaker.pkl\", \"wb\") as f:\n",
    "        pickle.dump(index_map, f)"
   ]
  },
  {
   "cell_type": "code",
   "execution_count": 19,
   "metadata": {
    "id": "ofHcj4W8VJ0E",
    "outputId": "f40f185c-ae76-4c53-c08f-5428d1745c7b",
    "tags": []
   },
   "outputs": [],
   "source": [
    "#  Загрузим индексы\n",
    "ft_index = annoy.AnnoyIndex(100, 'angular')\n",
    "ft_index.load('speaker.ann')\n",
    "index_map = pd.read_pickle(\"index_speaker.pkl\")"
   ]
  },
  {
   "cell_type": "code",
   "execution_count": 20,
   "metadata": {
    "tags": []
   },
   "outputs": [
    {
     "data": {
      "text/plain": [
       "array([86, 23, 77, 61, 10,  1, 90, 91, 58, 44, 21, 51, 98, 45, 85, 29, 82,\n",
       "       26, 43, 89, 25, 55, 59,  2, 11, 71, 12, 70, 41, 27, 39, 88, 48, 95,\n",
       "       38, 52, 17, 81, 66, 97, 30, 64,  3, 14, 49,  6, 96, 80, 37, 57, 79,\n",
       "       72, 74,  4, 94, 36, 78, 67, 54, 68,  5, 13, 46, 75, 47, 99, 60,  8,\n",
       "       34, 42, 18, 22, 92, 56, 16, 73, 32, 28, 76, 24, 20, 87, 84, 62, 65,\n",
       "       35,  7, 19, 31, 50, 53, 83, 15,  9, 63,  0, 33, 69, 40, 93])"
      ]
     },
     "execution_count": 20,
     "metadata": {},
     "output_type": "execute_result"
    }
   ],
   "source": [
    "np.random.permutation(100)"
   ]
  },
  {
   "cell_type": "code",
   "execution_count": 21,
   "metadata": {
    "id": "b9DvlLGVVJ0F",
    "outputId": "27a213d5-372d-428b-de89-0b1f19af8a73",
    "tags": []
   },
   "outputs": [
    {
     "data": {
      "text/plain": [
       "([46761, 14837, 39796, 47038, 22494],\n",
       " [1.1474858522415161,\n",
       "  1.1532166004180908,\n",
       "  1.1532303094863892,\n",
       "  1.1533552408218384,\n",
       "  1.1540521383285522])"
      ]
     },
     "execution_count": 21,
     "metadata": {},
     "output_type": "execute_result"
    }
   ],
   "source": [
    "#  Пример получения индексов\n",
    "a = ft_index.get_nns_by_vector(np.random.permutation(100), 5, include_distances=True)\n",
    "a"
   ]
  },
  {
   "cell_type": "code",
   "execution_count": 22,
   "metadata": {
    "tags": []
   },
   "outputs": [
    {
     "data": {
      "text/plain": [
       "['Обычно так и бывает. В любом случае в мачо, который об этом треплется, даже если он действительно мачо, ничего хорошего нет. \\n',\n",
       " 'С двуличными людьми.. \\n',\n",
       " 'Лайнер приземлился, <br> Город \"Здравствуй! \"<br> мне сказал. <br> Я вернулась раньше, <br> И об этом ты не<br> знал. <br> Я к тебе спешила, <br> Я примчалась на<br> такси. <br> Ты открыл мне<br> дверь, <br> И вдруг войти не<br> пригласил.. .<br> <br> И глаза свои ты<br> опустил, <br> И даже бледным<br> стал. <br> И за твоим плечом<br> вижу я свою<br> подругу.. .<br> И смущенно так<br> сказал. <br> Что ты меня никак<br> не ждал. <br> Ну как ты мог? <br> Ведь мы же так<br> верили друг<br> другу.. .<br> <br> Я прошла на кухню, <br> Руки мелко так<br> дрожат. <br> Ты стоял в дверях, <br> Ее пальто в руках<br> держал. <br> К вам я повернулась<br> и сказала тихо ей: <br> \"Ты здесь<br> оставайся, <br> Видно ты ему<br> нужней. \" <br> <br> Я сбежала вниз, <br> Ты мне вдогонку<br> что-то закричал. <br> А я ведь знала, ты<br> изменил мне, <br> Мой любимый! <br> Ветер мне лицо<br> обжег, <br> И дождь сильнее<br> застучал. <br> Ну как ты мог меня, <br> Как ты мог предать,<br> мой милый? <br> <br> Я сбежала вниз, <br> Ты мне вдогонку<br> что-то закричал. <br> А я ведь знала, ты<br> изменил мне, <br> Мой любимый! <br> Ветер мне лицо<br> обжег, <br> И дождь сильнее<br> застучал. <br> Ну как ты мог меня, <br> Как ты мог предать,<br> мой милый? <br> <br> Ну как ты мог меня, <br> Как ты мог предать,<br> мой милый?<br>http://zaycev.net/search.html?tip=track&amp;query_search=Измена&amp;sub=Найти!. \\n',\n",
       " 'С подачи ВВП. \\n',\n",
       " 'Что всё????. \\n']"
      ]
     },
     "execution_count": 22,
     "metadata": {},
     "output_type": "execute_result"
    }
   ],
   "source": [
    "[index_map[x] for x in a[0]]"
   ]
  },
  {
   "cell_type": "code",
   "execution_count": 23,
   "metadata": {},
   "outputs": [],
   "source": [
    "# https://gbcdn.mrgcdn.ru/uploads/asset/5209459/attachment/1b2f5aa57ff77e7c2d2ee26ceb09eb9e.csv"
   ]
  },
  {
   "cell_type": "code",
   "execution_count": 24,
   "metadata": {
    "id": "Z-qxfw70VJ0G",
    "outputId": "d9ad78f5-5ed3-4690-e5d4-2d05ba34155c",
    "tags": []
   },
   "outputs": [
    {
     "data": {
      "application/vnd.jupyter.widget-view+json": {
       "model_id": "22413699e01948858a34ef0626d00cae",
       "version_major": 2,
       "version_minor": 0
      },
      "text/plain": [
       "  0%|          | 0/35548 [00:00<?, ?it/s]"
      ]
     },
     "metadata": {},
     "output_type": "display_data"
    },
    {
     "data": {
      "text/html": [
       "<div>\n",
       "<style scoped>\n",
       "    .dataframe tbody tr th:only-of-type {\n",
       "        vertical-align: middle;\n",
       "    }\n",
       "\n",
       "    .dataframe tbody tr th {\n",
       "        vertical-align: top;\n",
       "    }\n",
       "\n",
       "    .dataframe thead th {\n",
       "        text-align: right;\n",
       "    }\n",
       "</style>\n",
       "<table border=\"1\" class=\"dataframe\">\n",
       "  <thead>\n",
       "    <tr style=\"text-align: right;\">\n",
       "      <th></th>\n",
       "      <th>title</th>\n",
       "      <th>descrirption</th>\n",
       "      <th>product_id</th>\n",
       "      <th>category_id</th>\n",
       "      <th>subcategory_id</th>\n",
       "      <th>properties</th>\n",
       "      <th>image_links</th>\n",
       "      <th>text</th>\n",
       "    </tr>\n",
       "  </thead>\n",
       "  <tbody>\n",
       "    <tr>\n",
       "      <th>0</th>\n",
       "      <td>Юбка детская ORBY</td>\n",
       "      <td>Новая, не носили ни разу. В реале красивей чем...</td>\n",
       "      <td>58e3cfe6132ca50e053f5f82</td>\n",
       "      <td>22.0</td>\n",
       "      <td>2211</td>\n",
       "      <td>{'detskie_razmer_rost': '81-86 (1,5 года)'}</td>\n",
       "      <td>http://cache3.youla.io/files/images/360_360/58...</td>\n",
       "      <td>[юбка, детский, новый, носить, реал, красивый,...</td>\n",
       "    </tr>\n",
       "    <tr>\n",
       "      <th>1</th>\n",
       "      <td>Ботильоны</td>\n",
       "      <td>Новые,привезены из Чехии ,указан размер 40,но ...</td>\n",
       "      <td>5667531b2b7f8d127d838c34</td>\n",
       "      <td>9.0</td>\n",
       "      <td>902</td>\n",
       "      <td>{'zhenskaya_odezhda_tzvet': 'Зеленый', 'visota...</td>\n",
       "      <td>http://cache3.youla.io/files/images/360_360/5b...</td>\n",
       "      <td>[ботильон, новыепривезти, чехия, указать, разм...</td>\n",
       "    </tr>\n",
       "    <tr>\n",
       "      <th>2</th>\n",
       "      <td>Брюки</td>\n",
       "      <td>Размер 40-42. Брюки почти новые - не знаю как ...</td>\n",
       "      <td>59534826aaab284cba337e06</td>\n",
       "      <td>9.0</td>\n",
       "      <td>906</td>\n",
       "      <td>{'zhenskaya_odezhda_dzhinsy_bryuki_tip': 'Брюк...</td>\n",
       "      <td>http://cache3.youla.io/files/images/360_360/59...</td>\n",
       "      <td>[брюки, размер, брюки, новый, знать, мерило, п...</td>\n",
       "    </tr>\n",
       "    <tr>\n",
       "      <th>3</th>\n",
       "      <td>Продам детские шапки</td>\n",
       "      <td>Продам шапки,кажда 200р.Розовая и белая проданны.</td>\n",
       "      <td>57de544096ad842e26de8027</td>\n",
       "      <td>22.0</td>\n",
       "      <td>2217</td>\n",
       "      <td>{'detskie_pol': 'Девочкам', 'detskaya_odezhda_...</td>\n",
       "      <td>http://cache3.youla.io/files/images/360_360/57...</td>\n",
       "      <td>[продать, детский, шапка, продать, шапкикажда,...</td>\n",
       "    </tr>\n",
       "    <tr>\n",
       "      <th>4</th>\n",
       "      <td>Блузка</td>\n",
       "      <td>Темно-синяя, 42 размер,состояние отличное,как ...</td>\n",
       "      <td>5ad4d2626c86cb168d212022</td>\n",
       "      <td>9.0</td>\n",
       "      <td>907</td>\n",
       "      <td>{'zhenskaya_odezhda_tzvet': 'Синий', 'zhenskay...</td>\n",
       "      <td>http://cache3.youla.io/files/images/360_360/5a...</td>\n",
       "      <td>[блузка, темносиний, размерсостояние, отличное...</td>\n",
       "    </tr>\n",
       "  </tbody>\n",
       "</table>\n",
       "</div>"
      ],
      "text/plain": [
       "                  title                                       descrirption  \\\n",
       "0     Юбка детская ORBY  Новая, не носили ни разу. В реале красивей чем...   \n",
       "1             Ботильоны  Новые,привезены из Чехии ,указан размер 40,но ...   \n",
       "2                 Брюки  Размер 40-42. Брюки почти новые - не знаю как ...   \n",
       "3  Продам детские шапки  Продам шапки,кажда 200р.Розовая и белая проданны.   \n",
       "4                Блузка  Темно-синяя, 42 размер,состояние отличное,как ...   \n",
       "\n",
       "                 product_id  category_id subcategory_id  \\\n",
       "0  58e3cfe6132ca50e053f5f82         22.0           2211   \n",
       "1  5667531b2b7f8d127d838c34          9.0            902   \n",
       "2  59534826aaab284cba337e06          9.0            906   \n",
       "3  57de544096ad842e26de8027         22.0           2217   \n",
       "4  5ad4d2626c86cb168d212022          9.0            907   \n",
       "\n",
       "                                          properties  \\\n",
       "0        {'detskie_razmer_rost': '81-86 (1,5 года)'}   \n",
       "1  {'zhenskaya_odezhda_tzvet': 'Зеленый', 'visota...   \n",
       "2  {'zhenskaya_odezhda_dzhinsy_bryuki_tip': 'Брюк...   \n",
       "3  {'detskie_pol': 'Девочкам', 'detskaya_odezhda_...   \n",
       "4  {'zhenskaya_odezhda_tzvet': 'Синий', 'zhenskay...   \n",
       "\n",
       "                                         image_links  \\\n",
       "0  http://cache3.youla.io/files/images/360_360/58...   \n",
       "1  http://cache3.youla.io/files/images/360_360/5b...   \n",
       "2  http://cache3.youla.io/files/images/360_360/59...   \n",
       "3  http://cache3.youla.io/files/images/360_360/57...   \n",
       "4  http://cache3.youla.io/files/images/360_360/5a...   \n",
       "\n",
       "                                                text  \n",
       "0  [юбка, детский, новый, носить, реал, красивый,...  \n",
       "1  [ботильон, новыепривезти, чехия, указать, разм...  \n",
       "2  [брюки, размер, брюки, новый, знать, мерило, п...  \n",
       "3  [продать, детский, шапка, продать, шапкикажда,...  \n",
       "4  [блузка, темносиний, размерсостояние, отличное...  "
      ]
     },
     "execution_count": 24,
     "metadata": {},
     "output_type": "execute_result"
    }
   ],
   "source": [
    "# Создадим модель продуктовых данных\n",
    "\n",
    "shop_data = pd.read_csv(\"ProductsDataset.csv\")\n",
    "#shop_data = shop_data.iloc[:5000, :]\n",
    "\n",
    "shop_data['text'] = shop_data['title'] + \" \" + shop_data[\"descrirption\"]\n",
    "shop_data['text'] = shop_data['text'].progress_apply(lambda x: preprocess_txt(str(x)))\n",
    "shop_data.head()"
   ]
  },
  {
   "cell_type": "code",
   "execution_count": 25,
   "metadata": {
    "id": "rqml_x5JVJ0H",
    "tags": []
   },
   "outputs": [],
   "source": [
    "# Подготовка для создания модели для определения домена данных\n",
    "\n",
    "from sklearn.feature_extraction.text import CountVectorizer\n",
    "from sklearn.linear_model import LogisticRegression\n",
    "\n",
    "vectorizer = CountVectorizer(ngram_range=(1, 2))"
   ]
  },
  {
   "cell_type": "code",
   "execution_count": 26,
   "metadata": {
    "id": "Xfxh1xO9VJ0I",
    "tags": []
   },
   "outputs": [
    {
     "data": {
      "application/vnd.jupyter.widget-view+json": {
       "model_id": "c0dd4ffa897b4fa9a5862014da3cd5f4",
       "version_major": 2,
       "version_minor": 0
      },
      "text/plain": [
       "  0%|          | 0/25480 [00:00<?, ?it/s]"
      ]
     },
     "metadata": {},
     "output_type": "display_data"
    },
    {
     "data": {
      "application/vnd.jupyter.widget-view+json": {
       "model_id": "f9f41f07ff2c46c3add80fca050f8d43",
       "version_major": 2,
       "version_minor": 0
      },
      "text/plain": [
       "  0%|          | 0/35548 [00:00<?, ?it/s]"
      ]
     },
     "metadata": {},
     "output_type": "display_data"
    }
   ],
   "source": [
    "idxs = set(np.random.randint(0, len(index_map), len(shop_data)))\n",
    "# Вопрос-ответный домен\n",
    "negative_texts = [\" \".join(preprocess_txt(index_map[i])) for i in tqdm(idxs)]\n",
    "# Продуктовый домен\n",
    "positive_texts = [\" \".join(val) for val in tqdm(shop_data['text'].values)]"
   ]
  },
  {
   "cell_type": "code",
   "execution_count": 27,
   "metadata": {
    "id": "3ud68payVJ0J",
    "tags": []
   },
   "outputs": [],
   "source": [
    "# ВО = 0, Прод = 1\n",
    "\n",
    "dataset = negative_texts + positive_texts\n",
    "labels = np.zeros(len(dataset))\n",
    "labels[len(negative_texts):] = np.ones(len(positive_texts))"
   ]
  },
  {
   "cell_type": "code",
   "execution_count": 28,
   "metadata": {
    "id": "N_oxnOuzVJ0K",
    "tags": []
   },
   "outputs": [],
   "source": [
    "from sklearn.model_selection import train_test_split\n",
    "\n",
    "X_train, X_test, y_train, y_test = train_test_split(dataset, labels, test_size=0.2, \n",
    "                                                    stratify=labels, random_state=13)"
   ]
  },
  {
   "cell_type": "code",
   "execution_count": 29,
   "metadata": {
    "id": "tNzqfsIZVJ0K",
    "outputId": "d3173275-3a00-47e2-8243-372f61a627c5",
    "tags": []
   },
   "outputs": [],
   "source": [
    "# Модель\n",
    "\n",
    "x_train_vec = vectorizer.fit_transform(X_train)\n",
    "x_test_vec = vectorizer.transform(X_test)\n",
    "\n",
    "lr = LogisticRegression(max_iter=200).fit(x_train_vec, y_train)"
   ]
  },
  {
   "cell_type": "code",
   "execution_count": 30,
   "metadata": {
    "id": "q_bWwksAVJ0L",
    "outputId": "e410d691-e516-45aa-ac0e-d8ef0378cc4c",
    "tags": []
   },
   "outputs": [
    {
     "data": {
      "text/plain": [
       "0.9505161396034737"
      ]
     },
     "execution_count": 30,
     "metadata": {},
     "output_type": "execute_result"
    }
   ],
   "source": [
    "# Качество\n",
    "\n",
    "from sklearn.metrics import accuracy_score\n",
    "accuracy_score(y_true=y_test, y_pred=lr.predict(x_test_vec))"
   ]
  },
  {
   "cell_type": "code",
   "execution_count": 31,
   "metadata": {
    "tags": []
   },
   "outputs": [],
   "source": [
    "# Добавим IDF взвешивание (для каждого слова найдем IDF вес)"
   ]
  },
  {
   "cell_type": "code",
   "execution_count": 32,
   "metadata": {
    "id": "XFgbubh7VJ0N",
    "tags": []
   },
   "outputs": [],
   "source": [
    "from sklearn.feature_extraction.text import TfidfVectorizer\n",
    "\n",
    "tfidf_vect = TfidfVectorizer().fit(X_train)"
   ]
  },
  {
   "cell_type": "code",
   "execution_count": 33,
   "metadata": {
    "id": "yx8AkUiiVJ0N",
    "outputId": "dce321cc-2846-4c1c-a42e-c6aff189837e",
    "tags": []
   },
   "outputs": [
    {
     "data": {
      "text/plain": [
       "10.64556485451944"
      ]
     },
     "execution_count": 33,
     "metadata": {},
     "output_type": "execute_result"
    }
   ],
   "source": [
    "np.mean(tfidf_vect.idf_)"
   ]
  },
  {
   "cell_type": "code",
   "execution_count": 34,
   "metadata": {
    "id": "aQQG_bluVJ0O",
    "outputId": "90701b9a-a491-417a-a291-fc3209df90fb",
    "tags": []
   },
   "outputs": [],
   "source": [
    "idfs = {v[0]: v[1] for v in zip(tfidf_vect.vocabulary_, tfidf_vect.idf_)}"
   ]
  },
  {
   "cell_type": "code",
   "execution_count": 35,
   "metadata": {
    "tags": []
   },
   "outputs": [
    {
     "data": {
      "text/plain": [
       "91133"
      ]
     },
     "execution_count": 35,
     "metadata": {},
     "output_type": "execute_result"
    }
   ],
   "source": [
    "len(idfs.keys())"
   ]
  },
  {
   "cell_type": "code",
   "execution_count": 36,
   "metadata": {
    "tags": []
   },
   "outputs": [
    {
     "data": {
      "text/plain": [
       "['детский', 'плащ', 'продавать', 'хороший', 'состояние']"
      ]
     },
     "execution_count": 36,
     "metadata": {},
     "output_type": "execute_result"
    }
   ],
   "source": [
    "list(idfs.keys())[:5]"
   ]
  },
  {
   "cell_type": "code",
   "execution_count": 37,
   "metadata": {
    "tags": []
   },
   "outputs": [
    {
     "data": {
      "text/plain": [
       "[10.69734450361617,\n",
       " 10.69734450361617,\n",
       " 10.18651887985018,\n",
       " 10.004197323056227,\n",
       " 9.39806151948591]"
      ]
     },
     "execution_count": 37,
     "metadata": {},
     "output_type": "execute_result"
    }
   ],
   "source": [
    "list(idfs.values())[:5]"
   ]
  },
  {
   "cell_type": "code",
   "execution_count": 38,
   "metadata": {
    "colab": {
     "referenced_widgets": [
      "9ae8735faac34a36be98a6d1f1fcd62e"
     ]
    },
    "id": "JjWyFjJBVJ0P",
    "outputId": "69c1e269-b020-4542-9b84-812cc5485b08",
    "tags": []
   },
   "outputs": [],
   "source": [
    "# Создаем Индексы для продуктовых данных\n",
    "\n",
    "file_path_from = 'shop.ann'\n",
    "if not os.path.isfile(file_path_from):  \n",
    "    \n",
    "    ft_index_shop = annoy.AnnoyIndex(100 ,'angular')\n",
    "\n",
    "    midf = np.mean(tfidf_vect.idf_)\n",
    "\n",
    "    index_map_shop = {}\n",
    "    counter = 0\n",
    "\n",
    "    for i in tqdm(range(len(shop_data))):\n",
    "        n_ft = 0\n",
    "        index_map_shop[counter] = (shop_data.loc[i, \"title\"], shop_data.loc[i, \"image_links\"])\n",
    "        vector_ft = np.zeros(100)\n",
    "        for word in shop_data.loc[i, \"text\"]:\n",
    "            if word in modelFT.wv:\n",
    "                vector_ft += modelFT.wv[word] * idfs.get(word, midf)\n",
    "                n_ft += idfs.get(word, midf)\n",
    "        if n_ft > 0:\n",
    "            vector_ft = vector_ft / n_ft\n",
    "        ft_index_shop.add_item(counter, vector_ft)\n",
    "        counter += 1\n",
    "\n",
    "    ft_index_shop.build(10)\n",
    "    ft_index_shop.save('shop.ann')\n",
    "\n",
    "    file_path_from = 'index_shop.pkl'\n",
    "    if not os.path.isfile(file_path_from):  \n",
    "    \n",
    "        with open(\"index_shop.pkl\", \"wb\") as f:\n",
    "            pickle.dump(index_map_shop, f)\n"
   ]
  },
  {
   "cell_type": "code",
   "execution_count": 39,
   "metadata": {
    "tags": []
   },
   "outputs": [],
   "source": [
    "# Загрузим индексы\n",
    "\n",
    "midf = np.mean(tfidf_vect.idf_)\n",
    "\n",
    "ft_index_shop = annoy.AnnoyIndex(100, 'angular')\n",
    "ft_index_shop.load('shop.ann') \n",
    "\n",
    "index_map_shop = pd.read_pickle(\"index_shop.pkl\")"
   ]
  },
  {
   "cell_type": "code",
   "execution_count": 40,
   "metadata": {
    "id": "47tviu39VJ0Q",
    "tags": []
   },
   "outputs": [],
   "source": [
    "# Основная функция преобразования текста в вектор х100\n",
    "\n",
    "def embed_txt(txt, idfs, midf):\n",
    "    n_ft = 0\n",
    "    vector_ft = np.zeros(100)\n",
    "    for word in txt:\n",
    "        if word in modelFT.wv:\n",
    "            vector_ft += modelFT.wv[word] * idfs.get(word, midf)\n",
    "            n_ft += idfs.get(word, midf)\n",
    "    return vector_ft / n_ft"
   ]
  },
  {
   "cell_type": "code",
   "execution_count": 41,
   "metadata": {
    "id": "H3jf5wMsVJ0R",
    "outputId": "d6f9717b-3d10-472e-bc27-893bf19f21bb",
    "tags": []
   },
   "outputs": [
    {
     "data": {
      "text/plain": [
       "([35248, 6445, 32285, 6631, 33471],\n",
       " [1.1567997932434082,\n",
       "  1.1702076196670532,\n",
       "  1.175757884979248,\n",
       "  1.1810858249664307,\n",
       "  1.1830313205718994])"
      ]
     },
     "execution_count": 41,
     "metadata": {},
     "output_type": "execute_result"
    }
   ],
   "source": [
    "# Пример получения индекса\n",
    "\n",
    "ft_index_shop.get_nns_by_vector(np.ones(100)*20, 5, include_distances=True)"
   ]
  },
  {
   "cell_type": "markdown",
   "metadata": {},
   "source": [
    "# Создание своего бота в телеграмм"
   ]
  },
  {
   "cell_type": "code",
   "execution_count": 42,
   "metadata": {
    "tags": []
   },
   "outputs": [],
   "source": [
    "from dotenv import load_dotenv\n",
    "import os\n",
    "\n",
    "from aiogram import Bot\n",
    "from aiogram import Dispatcher\n",
    "from aiogram import executor\n",
    "from aiogram import types\n",
    "from aiogram.dispatcher import FSMContext\n",
    "from aiogram.dispatcher.filters.state import State, StatesGroup\n",
    "from aiogram.contrib.fsm_storage.memory import MemoryStorage\n",
    "\n",
    "import nest_asyncio\n",
    "import asyncio\n",
    "\n",
    "from pyowm.owm import OWM\n",
    "import requests"
   ]
  },
  {
   "cell_type": "code",
   "execution_count": 43,
   "metadata": {},
   "outputs": [],
   "source": [
    "# Определяем, к какому классу относится запрос и отправляем результат\n",
    "\n",
    "def textMessage(message):\n",
    "    input_txt = preprocess_txt(message.text)\n",
    "    vect = vectorizer.transform([\" \".join(input_txt)])\n",
    "    prediction = lr.predict(vect)\n",
    "    \n",
    "    # Если True - то выполняем сценарий покупки\n",
    "    if prediction[0] == 1:\n",
    "        vect_ft = embed_txt(input_txt, idfs, midf)\n",
    "        ft_index_shop_val = ft_index_shop.get_nns_by_vector(vect_ft, 5)\n",
    "        for item in ft_index_shop_val:\n",
    "            title, image = index_map_shop[item]\n",
    "        return f\"Для вас у нас есть:\\n<b>title:</b> <em>{title}</em>\\n{image}\"\n",
    "    else:\n",
    "        # Считаем вектор для сценария общения\n",
    "        vect_ft = embed_txt(input_txt, {}, 1)\n",
    "        ft_index_val, distances = ft_index.get_nns_by_vector(vect_ft, 1, include_distances=True)\n",
    "    \n",
    "    # Если полученное сообщение \"звучит расплывчато\"\n",
    "    if distances[0] > 0.9:\n",
    "        return \"Не понимаю\"\n",
    "    \n",
    "    # Сценарий общения\n",
    "    return index_map[ft_index_val[0]]"
   ]
  },
  {
   "cell_type": "code",
   "execution_count": 44,
   "metadata": {
    "tags": []
   },
   "outputs": [],
   "source": [
    "# Получить данные о погоде\n",
    "\n",
    "def get_wearher(place):\n",
    "\n",
    "    api_weather = os.environ.get('api_weather')  # token для api.openweathermap.org\n",
    "    url = 'https://api.openweathermap.org/data/2.5/weather?q=' + place + '&units=metric&lang=ru&appid=' + api_weather\n",
    "    response = requests.get(url)\n",
    "\n",
    "    if response.status_code == 200:\n",
    "        data = response.json()\n",
    "        name = data['name']\n",
    "        temp = data['main']['temp']\n",
    "        desc = data['weather'][0]['description']\n",
    "        res = f'В городе {name} сейчас {desc}\\nТемпература: {temp} °C'\n",
    "    else:\n",
    "        res = 'Мне не известен этот город'\n",
    "    return res"
   ]
  },
  {
   "cell_type": "code",
   "execution_count": 45,
   "metadata": {
    "tags": []
   },
   "outputs": [],
   "source": [
    "# Настроим бота для подключения к telegram\n",
    "\n",
    "load_dotenv()\n",
    "\n",
    "storage = MemoryStorage()\n",
    "bot = Bot(token=os.environ.get('token'))\n",
    "dp = Dispatcher(bot, storage=storage)\n",
    "\n",
    "# Машина состояний\n",
    "class Form(StatesGroup):\n",
    "    flag = State()\n",
    "\n",
    "    \n",
    "# Обработка сообщений пользователя\n",
    "\n",
    "@dp.message_handler(state=Form.flag)\n",
    "async def reply_weather(message: types.Message, state: FSMContext):\n",
    "    await message.answer(get_wearher(message.text))\n",
    "    await state.finish()\n",
    "\n",
    "@dp.message_handler()\n",
    "async def send_welcome(message: types.Message, state: FSMContext):\n",
    "    if 'погода' in ' '.join(preprocess_txt(message.text)):\n",
    "        await Form.flag.set()\n",
    "        await message.reply('Могу подсказать погоду в одном из городов, если введёте название')\n",
    "    else:\n",
    "        await message.answer(textMessage(message), parse_mode='html')\n",
    "        \n",
    "nest_asyncio.apply()"
   ]
  },
  {
   "cell_type": "code",
   "execution_count": 46,
   "metadata": {
    "tags": []
   },
   "outputs": [],
   "source": [
    "# # Запуск бота\n",
    "\n",
    "# async def main() -> None:\n",
    "#     # And the run events dispatching\n",
    "#     await dp.start_polling(bot)\n",
    "\n",
    "# asyncio.run(main())"
   ]
  },
  {
   "cell_type": "markdown",
   "metadata": {
    "jp-MarkdownHeadingCollapsed": true,
    "tags": []
   },
   "source": [
    "Бот доступен для тестирования по адресу в Telegram **@sdrtyherthrth_bot**"
   ]
  },
  {
   "cell_type": "code",
   "execution_count": null,
   "metadata": {},
   "outputs": [],
   "source": []
  }
 ],
 "metadata": {
  "colab": {
   "name": "lesson_16.ipynb",
   "provenance": []
  },
  "kernelspec": {
   "display_name": "myenv",
   "language": "python",
   "name": "myenv"
  },
  "language_info": {
   "codemirror_mode": {
    "name": "ipython",
    "version": 3
   },
   "file_extension": ".py",
   "mimetype": "text/x-python",
   "name": "python",
   "nbconvert_exporter": "python",
   "pygments_lexer": "ipython3",
   "version": "3.8.10"
  }
 },
 "nbformat": 4,
 "nbformat_minor": 4
}
