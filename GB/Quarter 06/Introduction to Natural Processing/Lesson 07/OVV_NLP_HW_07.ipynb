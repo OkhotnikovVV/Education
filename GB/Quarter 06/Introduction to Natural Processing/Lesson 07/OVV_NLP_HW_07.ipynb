{
 "cells": [
  {
   "cell_type": "markdown",
   "metadata": {},
   "source": [
    "# Введение в обработку естественного языка"
   ]
  },
  {
   "cell_type": "markdown",
   "metadata": {},
   "source": [
    "## Урок 7. Сверточные нейронные сети для анализа текста"
   ]
  },
  {
   "cell_type": "markdown",
   "metadata": {
    "id": "aOwBS8EE8JX1"
   },
   "source": [
    "### Задание:\n",
    "\n",
    "Берем отзывы за лето (из архива с материалами или предыдущего занятия)\n",
    "\n",
    "* Учим conv сеть для классификации\n",
    "* Рассмотреть 2-а варианта сеточек:\n",
    "  * Инициализировать слой tf.keras.layers.Embedding по умолчанию (ну то есть вам ничего не делать с весами)\n",
    "  * Инициализировать tf.keras.layers.Embedding предобученными векторами взять к примеру с https://rusvectores.org/ru/\n",
    "* Сравнить две архитектуры с предобученными весами и когда tf.keras.layers.Embedding обучается сразу со всей сеточкой, что получилось лучше"
   ]
  },
  {
   "cell_type": "markdown",
   "metadata": {
    "id": "9WxPIDPa8OyX"
   },
   "source": [
    "## Подготовка"
   ]
  },
  {
   "cell_type": "code",
   "execution_count": 1,
   "metadata": {
    "colab": {
     "base_uri": "https://localhost:8080/"
    },
    "id": "AnwSKkBN8Ega",
    "outputId": "56f2bb5f-cce8-40ac-e1d6-0ffd5ea1e4f4"
   },
   "outputs": [
    {
     "data": {
      "text/plain": [
       "True"
      ]
     },
     "execution_count": 1,
     "metadata": {},
     "output_type": "execute_result"
    }
   ],
   "source": [
    "import numpy as np\n",
    "import pandas as pd\n",
    "import gensim\n",
    "import re\n",
    "import tensorflow as tf\n",
    "import keras\n",
    "import nltk\n",
    "import keras.backend as K\n",
    "\n",
    "from pathlib import Path\n",
    "from string import punctuation\n",
    "from stop_words import get_stop_words\n",
    "from pymorphy2 import MorphAnalyzer\n",
    "from keras.models import Sequential, Model\n",
    "from keras.layers import Dense, Dropout, Activation, Input, Embedding, Conv1D, GlobalMaxPool1D\n",
    "from keras.preprocessing.text import Tokenizer\n",
    "from keras_preprocessing.sequence import pad_sequences\n",
    "from keras.callbacks import TensorBoard \n",
    "from keras.losses import SparseCategoricalCrossentropy\n",
    "from keras.callbacks import EarlyStopping  \n",
    "from sklearn.preprocessing import LabelEncoder\n",
    "from sklearn.model_selection import train_test_split\n",
    "\n",
    "from nltk.tokenize import word_tokenize\n",
    "from nltk.probability import FreqDist\n",
    "nltk.download(\"punkt\", quiet=True)"
   ]
  },
  {
   "cell_type": "code",
   "execution_count": 2,
   "metadata": {
    "id": "R14ZtohC8g2R"
   },
   "outputs": [],
   "source": [
    "# Функция подсчета f1_score\n",
    "def get_f1(y_true, y_pred): #taken from old keras source code\n",
    "    true_positives = K.sum(K.round(K.clip(y_true * y_pred, 0, 1)))\n",
    "    possible_positives = K.sum(K.round(K.clip(y_true, 0, 1)))\n",
    "    predicted_positives = K.sum(K.round(K.clip(y_pred, 0, 1)))\n",
    "    precision = true_positives / (predicted_positives + K.epsilon())\n",
    "    recall = true_positives / (possible_positives + K.epsilon())\n",
    "    f1_val = 2*(precision*recall)/(precision+recall+K.epsilon())\n",
    "    return f1_val"
   ]
  },
  {
   "cell_type": "markdown",
   "metadata": {
    "id": "DS60ZukR-irq"
   },
   "source": [
    "# Загрузка данных"
   ]
  },
  {
   "cell_type": "code",
   "execution_count": 3,
   "metadata": {
    "colab": {
     "base_uri": "https://localhost:8080/",
     "height": 363
    },
    "id": "3qJTat2J_X7v",
    "outputId": "f28b0266-5ccc-4e4b-d7d1-a20405335e85"
   },
   "outputs": [
    {
     "data": {
      "text/html": [
       "<div>\n",
       "<style scoped>\n",
       "    .dataframe tbody tr th:only-of-type {\n",
       "        vertical-align: middle;\n",
       "    }\n",
       "\n",
       "    .dataframe tbody tr th {\n",
       "        vertical-align: top;\n",
       "    }\n",
       "\n",
       "    .dataframe thead th {\n",
       "        text-align: right;\n",
       "    }\n",
       "</style>\n",
       "<table border=\"1\" class=\"dataframe\">\n",
       "  <thead>\n",
       "    <tr style=\"text-align: right;\">\n",
       "      <th></th>\n",
       "      <th>Rating</th>\n",
       "      <th>Content</th>\n",
       "      <th>Date</th>\n",
       "    </tr>\n",
       "  </thead>\n",
       "  <tbody>\n",
       "    <tr>\n",
       "      <th>0</th>\n",
       "      <td>5</td>\n",
       "      <td>It just works!</td>\n",
       "      <td>2017-08-14</td>\n",
       "    </tr>\n",
       "    <tr>\n",
       "      <th>1</th>\n",
       "      <td>4</td>\n",
       "      <td>В целом удобноное приложение...из минусов хотя...</td>\n",
       "      <td>2017-08-14</td>\n",
       "    </tr>\n",
       "    <tr>\n",
       "      <th>2</th>\n",
       "      <td>5</td>\n",
       "      <td>Отлично все</td>\n",
       "      <td>2017-08-14</td>\n",
       "    </tr>\n",
       "    <tr>\n",
       "      <th>3</th>\n",
       "      <td>5</td>\n",
       "      <td>Стал зависать на 1% работы антивируса. Дальше ...</td>\n",
       "      <td>2017-08-14</td>\n",
       "    </tr>\n",
       "    <tr>\n",
       "      <th>4</th>\n",
       "      <td>5</td>\n",
       "      <td>Очень удобно, работает быстро.</td>\n",
       "      <td>2017-08-14</td>\n",
       "    </tr>\n",
       "    <tr>\n",
       "      <th>5</th>\n",
       "      <td>5</td>\n",
       "      <td>Всё удобно норм 👍👍👍</td>\n",
       "      <td>2017-08-14</td>\n",
       "    </tr>\n",
       "    <tr>\n",
       "      <th>6</th>\n",
       "      <td>5</td>\n",
       "      <td>Очень удобное приложение.</td>\n",
       "      <td>2017-08-14</td>\n",
       "    </tr>\n",
       "    <tr>\n",
       "      <th>7</th>\n",
       "      <td>5</td>\n",
       "      <td>Все устраивает</td>\n",
       "      <td>2017-08-14</td>\n",
       "    </tr>\n",
       "    <tr>\n",
       "      <th>8</th>\n",
       "      <td>5</td>\n",
       "      <td>У меня работает все четко. В отличии от банком...</td>\n",
       "      <td>2017-08-14</td>\n",
       "    </tr>\n",
       "    <tr>\n",
       "      <th>9</th>\n",
       "      <td>5</td>\n",
       "      <td>Очень все хорошо👍</td>\n",
       "      <td>2017-08-14</td>\n",
       "    </tr>\n",
       "  </tbody>\n",
       "</table>\n",
       "</div>"
      ],
      "text/plain": [
       "   Rating                                            Content        Date\n",
       "0       5                                     It just works!  2017-08-14\n",
       "1       4  В целом удобноное приложение...из минусов хотя...  2017-08-14\n",
       "2       5                                        Отлично все  2017-08-14\n",
       "3       5  Стал зависать на 1% работы антивируса. Дальше ...  2017-08-14\n",
       "4       5                     Очень удобно, работает быстро.  2017-08-14\n",
       "5       5                                Всё удобно норм 👍👍👍  2017-08-14\n",
       "6       5                          Очень удобное приложение.  2017-08-14\n",
       "7       5                                     Все устраивает  2017-08-14\n",
       "8       5  У меня работает все четко. В отличии от банком...  2017-08-14\n",
       "9       5                                  Очень все хорошо👍  2017-08-14"
      ]
     },
     "execution_count": 3,
     "metadata": {},
     "output_type": "execute_result"
    }
   ],
   "source": [
    "df = pd.read_excel('отзывы за лето.xls')\n",
    "df.head(10)"
   ]
  },
  {
   "cell_type": "code",
   "execution_count": 4,
   "metadata": {
    "colab": {
     "base_uri": "https://localhost:8080/"
    },
    "id": "9FZkIZSQ_4al",
    "outputId": "c724df9c-37d3-425a-c616-bd0d24232561"
   },
   "outputs": [
    {
     "data": {
      "text/plain": [
       "5    14586\n",
       "1     2276\n",
       "4     2138\n",
       "3      911\n",
       "2      748\n",
       "Name: Rating, dtype: int64"
      ]
     },
     "execution_count": 4,
     "metadata": {},
     "output_type": "execute_result"
    }
   ],
   "source": [
    "df['Rating'].value_counts()"
   ]
  },
  {
   "cell_type": "code",
   "execution_count": 5,
   "metadata": {
    "colab": {
     "base_uri": "https://localhost:8080/"
    },
    "id": "JSVwxRe3_7oE",
    "outputId": "1737ed5b-23e5-49a7-95a7-e12c93e422fd"
   },
   "outputs": [
    {
     "data": {
      "text/plain": [
       "((13841, 3), (6818, 3))"
      ]
     },
     "execution_count": 5,
     "metadata": {},
     "output_type": "execute_result"
    }
   ],
   "source": [
    "df_train, df_test = train_test_split(df, test_size=0.33, random_state=42)\n",
    "df_train = df_train.reset_index(drop=True)\n",
    "df_test = df_test.reset_index(drop=True)\n",
    "df_train.shape, df_test.shape"
   ]
  },
  {
   "cell_type": "code",
   "execution_count": 6,
   "metadata": {
    "colab": {
     "base_uri": "https://localhost:8080/",
     "height": 424
    },
    "id": "e_zt7Xs_AA8P",
    "outputId": "f5bfffd9-3d79-421d-a14c-cf73839a3d0f"
   },
   "outputs": [
    {
     "data": {
      "text/html": [
       "<div>\n",
       "<style scoped>\n",
       "    .dataframe tbody tr th:only-of-type {\n",
       "        vertical-align: middle;\n",
       "    }\n",
       "\n",
       "    .dataframe tbody tr th {\n",
       "        vertical-align: top;\n",
       "    }\n",
       "\n",
       "    .dataframe thead th {\n",
       "        text-align: right;\n",
       "    }\n",
       "</style>\n",
       "<table border=\"1\" class=\"dataframe\">\n",
       "  <thead>\n",
       "    <tr style=\"text-align: right;\">\n",
       "      <th></th>\n",
       "      <th>Rating</th>\n",
       "      <th>Content</th>\n",
       "      <th>Date</th>\n",
       "    </tr>\n",
       "  </thead>\n",
       "  <tbody>\n",
       "    <tr>\n",
       "      <th>0</th>\n",
       "      <td>5</td>\n",
       "      <td>Наконец-то исправили эту чушь с неоргинальной ...</td>\n",
       "      <td>2017-08-09</td>\n",
       "    </tr>\n",
       "    <tr>\n",
       "      <th>1</th>\n",
       "      <td>5</td>\n",
       "      <td>Удобно в использовании</td>\n",
       "      <td>2017-07-27</td>\n",
       "    </tr>\n",
       "    <tr>\n",
       "      <th>2</th>\n",
       "      <td>5</td>\n",
       "      <td>Отлично</td>\n",
       "      <td>2017-08-08</td>\n",
       "    </tr>\n",
       "    <tr>\n",
       "      <th>3</th>\n",
       "      <td>5</td>\n",
       "      <td>Класс</td>\n",
       "      <td>2017-07-25</td>\n",
       "    </tr>\n",
       "    <tr>\n",
       "      <th>4</th>\n",
       "      <td>5</td>\n",
       "      <td>Удобно</td>\n",
       "      <td>2017-07-08</td>\n",
       "    </tr>\n",
       "    <tr>\n",
       "      <th>...</th>\n",
       "      <td>...</td>\n",
       "      <td>...</td>\n",
       "      <td>...</td>\n",
       "    </tr>\n",
       "    <tr>\n",
       "      <th>13836</th>\n",
       "      <td>4</td>\n",
       "      <td>Все нравится</td>\n",
       "      <td>2017-07-29</td>\n",
       "    </tr>\n",
       "    <tr>\n",
       "      <th>13837</th>\n",
       "      <td>5</td>\n",
       "      <td>Очень смешно программа пугается рута :)</td>\n",
       "      <td>2017-07-28</td>\n",
       "    </tr>\n",
       "    <tr>\n",
       "      <th>13838</th>\n",
       "      <td>1</td>\n",
       "      <td>Не могу скачать ошибка номер 24</td>\n",
       "      <td>2017-08-06</td>\n",
       "    </tr>\n",
       "    <tr>\n",
       "      <th>13839</th>\n",
       "      <td>5</td>\n",
       "      <td>Сбербанк всегда рядом</td>\n",
       "      <td>2017-08-12</td>\n",
       "    </tr>\n",
       "    <tr>\n",
       "      <th>13840</th>\n",
       "      <td>5</td>\n",
       "      <td>В целом все очень отлично!)</td>\n",
       "      <td>2017-07-21</td>\n",
       "    </tr>\n",
       "  </tbody>\n",
       "</table>\n",
       "<p>13841 rows × 3 columns</p>\n",
       "</div>"
      ],
      "text/plain": [
       "       Rating                                            Content        Date\n",
       "0           5  Наконец-то исправили эту чушь с неоргинальной ...  2017-08-09\n",
       "1           5                             Удобно в использовании  2017-07-27\n",
       "2           5                                            Отлично  2017-08-08\n",
       "3           5                                              Класс  2017-07-25\n",
       "4           5                                             Удобно  2017-07-08\n",
       "...       ...                                                ...         ...\n",
       "13836       4                                       Все нравится  2017-07-29\n",
       "13837       5            Очень смешно программа пугается рута :)  2017-07-28\n",
       "13838       1                    Не могу скачать ошибка номер 24  2017-08-06\n",
       "13839       5                              Сбербанк всегда рядом  2017-08-12\n",
       "13840       5                        В целом все очень отлично!)  2017-07-21\n",
       "\n",
       "[13841 rows x 3 columns]"
      ]
     },
     "execution_count": 6,
     "metadata": {},
     "output_type": "execute_result"
    }
   ],
   "source": [
    "df_train"
   ]
  },
  {
   "cell_type": "markdown",
   "metadata": {
    "id": "ywzT-fNv_9yM"
   },
   "source": [
    "## Предобработка данных"
   ]
  },
  {
   "cell_type": "code",
   "execution_count": 7,
   "metadata": {
    "id": "Nxpc49NsAEqw"
   },
   "outputs": [],
   "source": [
    "sw = set(get_stop_words(\"ru\"))\n",
    "exclude = set(punctuation)\n",
    "morpher = MorphAnalyzer()\n",
    "\n",
    "def preprocess_text(txt):\n",
    "    txt = str(txt)\n",
    "    txt = \"\".join(c for c in txt if c not in exclude)\n",
    "    txt = txt.lower()\n",
    "    txt = re.sub(\"\\sне\", \"не\", txt)\n",
    "    txt = [morpher.parse(word)[0].normal_form for word in txt.split() if word not in sw]\n",
    "    return \" \".join(txt)\n",
    "\n",
    "df_train['Content'] = df_train['Content'].apply(preprocess_text)\n",
    "df_test['Content'] = df_test['Content'].apply(preprocess_text)"
   ]
  },
  {
   "cell_type": "code",
   "execution_count": 8,
   "metadata": {
    "id": "DXPINpJDAIYS"
   },
   "outputs": [],
   "source": [
    "# Готовим словарь\n",
    "train_corpus = \" \".join(df_train[\"Content\"])\n",
    "train_corpus = train_corpus.lower()\n",
    "tokens = word_tokenize(train_corpus)"
   ]
  },
  {
   "cell_type": "code",
   "execution_count": 9,
   "metadata": {
    "colab": {
     "base_uri": "https://localhost:8080/"
    },
    "id": "-KaT8IE1Apoc",
    "outputId": "81b7fa2f-037a-4d66-aacb-db6a1211fd42"
   },
   "outputs": [
    {
     "data": {
      "text/plain": [
       "FreqDist({'приложение': 4123, 'удобно': 2201, 'работать': 1288, 'удобный': 1182, 'отлично': 860, 'нравиться': 763, 'хороший': 681, 'отличный': 677, 'телефон': 627, 'супер': 540, ...})"
      ]
     },
     "execution_count": 9,
     "metadata": {},
     "output_type": "execute_result"
    }
   ],
   "source": [
    "# Отфильтруем и возьмем только топ N токенов\n",
    "tokens_filtered = [word for word in tokens if word.isalnum()] #фильтруем, чтобы остались только буквы и цифры\n",
    "\n",
    "# Создаем словарь токен:количество в корпусе\n",
    "dist = FreqDist(tokens_filtered)\n",
    "dist"
   ]
  },
  {
   "cell_type": "code",
   "execution_count": 10,
   "metadata": {
    "colab": {
     "base_uri": "https://localhost:8080/"
    },
    "id": "_p8BuoJyArJ7",
    "outputId": "d2ba05b2-575a-43a3-8452-cdce0ef4862e"
   },
   "outputs": [
    {
     "data": {
      "text/plain": [
       "['приложение',\n",
       " 'удобно',\n",
       " 'работать',\n",
       " 'удобный',\n",
       " 'отлично',\n",
       " 'нравиться',\n",
       " 'хороший',\n",
       " 'отличный',\n",
       " 'телефон',\n",
       " 'супер']"
      ]
     },
     "execution_count": 10,
     "metadata": {},
     "output_type": "execute_result"
    }
   ],
   "source": [
    "max_words = 200\n",
    "\n",
    "tokens_filtered_top = [pair[0] for pair in dist.most_common(max_words-1)]\n",
    "tokens_filtered_top[:10]"
   ]
  },
  {
   "cell_type": "code",
   "execution_count": 11,
   "metadata": {
    "id": "xMxruk_QAwaM"
   },
   "outputs": [],
   "source": [
    "# Создаем словарь из топ-200 токенов: токен:его рейтинг(место в топ-200)\n",
    "vocabulary = {v: k for k, v in dict(enumerate(tokens_filtered_top, 1)).items()}\n",
    "# vocabulary"
   ]
  },
  {
   "cell_type": "markdown",
   "metadata": {
    "id": "RQqg4IWvBD3r"
   },
   "source": [
    "Подготовим Х и у к обучению. На входной Embedding слой модели (x_train и x_test) поступают положительные целые числа."
   ]
  },
  {
   "cell_type": "code",
   "execution_count": 12,
   "metadata": {
    "id": "DeZx2sJwA0YH"
   },
   "outputs": [],
   "source": [
    "max_len = 40\n",
    "\n",
    "# Преобразуем трейновый и тестовый датасеты:\n",
    "# Приводим к нижнему регистру, токенизируем, удаляем символы, не являющиеся цифрами или буквами\n",
    "# Проверяем: если токен есть в словаре, то записываем его номер из словаря в результат\n",
    "# в противном случае - пропускаем, до полной длины добиваем нулями\n",
    "def text_to_sequence(text, maxlen):\n",
    "    result = []\n",
    "    tokens = word_tokenize(text.lower())\n",
    "    tokens_filtered = [word for word in tokens if word.isalnum()]\n",
    "    for word in tokens_filtered:\n",
    "        if word in vocabulary:\n",
    "            result.append(vocabulary[word])\n",
    "    padding = [0] * (maxlen - len(result))\n",
    "    return padding + result[-maxlen:]"
   ]
  },
  {
   "cell_type": "code",
   "execution_count": 13,
   "metadata": {
    "colab": {
     "base_uri": "https://localhost:8080/"
    },
    "id": "EdlQIKH4BQSf",
    "outputId": "eb06b6db-bb6d-45ed-decb-6d04a4a78576"
   },
   "outputs": [
    {
     "data": {
      "text/plain": [
       "array([[  0,   0,   0, ...,   1,   2,  15],\n",
       "       [  0,   0,   0, ...,   0,   2, 181],\n",
       "       [  0,   0,   0, ...,   0,   0,   5],\n",
       "       ...,\n",
       "       [  0,   0,   0, ..., 164,  27,  84],\n",
       "       [  0,   0,   0, ...,   0,   0,  20],\n",
       "       [  0,   0,   0, ...,   0, 113,   5]])"
      ]
     },
     "execution_count": 13,
     "metadata": {},
     "output_type": "execute_result"
    }
   ],
   "source": [
    "x_train = np.asarray([text_to_sequence(text, max_len) for text in df_train[\"Content\"]], dtype=np.int32)\n",
    "x_test = np.asarray([text_to_sequence(text, max_len) for text in df_test[\"Content\"]], dtype=np.int32)\n",
    "x_train"
   ]
  },
  {
   "cell_type": "markdown",
   "metadata": {
    "id": "xgsbUd7SBZuE"
   },
   "source": [
    "Для подсчета функции потерь y_train и y_test должны быть представлены one-hot кодированием."
   ]
  },
  {
   "cell_type": "code",
   "execution_count": 14,
   "metadata": {
    "colab": {
     "base_uri": "https://localhost:8080/"
    },
    "id": "BjOeyNZ5BWDl",
    "outputId": "a5c1d8a8-c22f-4a70-e9d0-6b0fc4fbd6ee"
   },
   "outputs": [
    {
     "data": {
      "text/plain": [
       "array([1, 2, 3, 4, 5], dtype=int64)"
      ]
     },
     "execution_count": 14,
     "metadata": {},
     "output_type": "execute_result"
    }
   ],
   "source": [
    "le = LabelEncoder()\n",
    "train_enc_labels = le.fit_transform(df_train['Rating']) \n",
    "test_enc_labels = le.transform(df_test['Rating'])\n",
    "le.classes_"
   ]
  },
  {
   "cell_type": "code",
   "execution_count": 15,
   "metadata": {
    "colab": {
     "base_uri": "https://localhost:8080/"
    },
    "id": "Osfy5GJ-Bc37",
    "outputId": "bb80987a-b7ff-4003-e706-e6273ba48291"
   },
   "outputs": [
    {
     "data": {
      "text/plain": [
       "array([4, 4, 4, ..., 0, 4, 4], dtype=int64)"
      ]
     },
     "execution_count": 15,
     "metadata": {},
     "output_type": "execute_result"
    }
   ],
   "source": [
    "train_enc_labels"
   ]
  },
  {
   "cell_type": "code",
   "execution_count": 16,
   "metadata": {
    "colab": {
     "base_uri": "https://localhost:8080/"
    },
    "id": "alR8wgIHBe0w",
    "outputId": "e56c4346-c614-4d5f-c216-9f8759035205"
   },
   "outputs": [
    {
     "data": {
      "text/plain": [
       "array([[0., 0., 0., 0., 1.],\n",
       "       [0., 0., 0., 0., 1.],\n",
       "       [0., 0., 0., 0., 1.],\n",
       "       ...,\n",
       "       [1., 0., 0., 0., 0.],\n",
       "       [0., 0., 0., 0., 1.],\n",
       "       [0., 0., 0., 0., 1.]], dtype=float32)"
      ]
     },
     "execution_count": 16,
     "metadata": {},
     "output_type": "execute_result"
    }
   ],
   "source": [
    "num_classes = 5\n",
    "y_train = tf.keras.utils.to_categorical(train_enc_labels, num_classes=num_classes)\n",
    "y_test = tf.keras.utils.to_categorical(test_enc_labels, num_classes=num_classes)\n",
    "y_train"
   ]
  },
  {
   "cell_type": "markdown",
   "metadata": {
    "id": "SGCBtk65BmFS"
   },
   "source": [
    "## Keras CONV модель с Embedding слоем по умолчанию"
   ]
  },
  {
   "cell_type": "code",
   "execution_count": 17,
   "metadata": {
    "id": "_U7QVGRABp0A"
   },
   "outputs": [],
   "source": [
    "model = Sequential()\n",
    "model.add(Embedding(input_dim=max_words, output_dim=128, input_length=max_len)) \n",
    "model.add(Conv1D(128, 3))\n",
    "model.add(Activation(\"relu\"))\n",
    "model.add(GlobalMaxPool1D())\n",
    "model.add(Dense(10))\n",
    "model.add(Activation(\"relu\"))\n",
    "model.add(Dense(num_classes))\n",
    "model.add(Activation('softmax'))"
   ]
  },
  {
   "cell_type": "code",
   "execution_count": 18,
   "metadata": {
    "id": "ddnHRTjqB4eG"
   },
   "outputs": [],
   "source": [
    "model.compile(loss='categorical_crossentropy', #y_pred должен быть распределением вероятностей, y_true -- one-hot кодированный тензор\n",
    "              optimizer='adam',\n",
    "              metrics=[get_f1])"
   ]
  },
  {
   "cell_type": "code",
   "execution_count": 19,
   "metadata": {
    "colab": {
     "base_uri": "https://localhost:8080/"
    },
    "id": "OfjsyC_oB6oK",
    "outputId": "9b181ae1-8a0c-4124-9b66-70235b0a060b"
   },
   "outputs": [
    {
     "name": "stdout",
     "output_type": "stream",
     "text": [
      "Epoch 1/20\n",
      "25/25 [==============================] - 3s 78ms/step - loss: 1.2421 - get_f1: 0.2939 - val_loss: 1.0015 - val_get_f1: 0.7005\n",
      "Epoch 2/20\n",
      "25/25 [==============================] - 2s 66ms/step - loss: 0.8949 - get_f1: 0.7206 - val_loss: 0.8087 - val_get_f1: 0.7429\n",
      "Epoch 3/20\n",
      "25/25 [==============================] - 2s 68ms/step - loss: 0.7335 - get_f1: 0.7561 - val_loss: 0.7285 - val_get_f1: 0.7505\n",
      "Epoch 4/20\n",
      "25/25 [==============================] - 2s 76ms/step - loss: 0.6886 - get_f1: 0.7689 - val_loss: 0.7163 - val_get_f1: 0.7560\n",
      "Epoch 5/20\n",
      "25/25 [==============================] - 2s 68ms/step - loss: 0.6704 - get_f1: 0.7732 - val_loss: 0.7078 - val_get_f1: 0.7566\n",
      "Epoch 6/20\n",
      "25/25 [==============================] - 2s 66ms/step - loss: 0.6578 - get_f1: 0.7782 - val_loss: 0.7015 - val_get_f1: 0.7581\n",
      "Epoch 7/20\n",
      "25/25 [==============================] - 2s 67ms/step - loss: 0.6482 - get_f1: 0.7815 - val_loss: 0.6993 - val_get_f1: 0.7604\n",
      "Epoch 8/20\n",
      "25/25 [==============================] - 2s 67ms/step - loss: 0.6418 - get_f1: 0.7830 - val_loss: 0.6965 - val_get_f1: 0.7630\n",
      "Epoch 9/20\n",
      "25/25 [==============================] - 2s 73ms/step - loss: 0.6372 - get_f1: 0.7825 - val_loss: 0.6965 - val_get_f1: 0.7604\n"
     ]
    }
   ],
   "source": [
    "tensorboard=TensorBoard(log_dir='./logs', write_graph=True, write_images=True)\n",
    "early_stopping=EarlyStopping(monitor='val_loss')  \n",
    "\n",
    "epochs = 20\n",
    "batch_size = 512\n",
    "\n",
    "history = model.fit(x_train, y_train,\n",
    "                    batch_size=batch_size,\n",
    "                    epochs=epochs,\n",
    "                    verbose=1,\n",
    "                    validation_split=0.1,\n",
    "                    callbacks=[tensorboard, early_stopping])"
   ]
  },
  {
   "cell_type": "code",
   "execution_count": 20,
   "metadata": {
    "colab": {
     "base_uri": "https://localhost:8080/"
    },
    "id": "SuA1tKszGEqT",
    "outputId": "aab68157-816f-44ff-fe25-4d9a8bfc6955"
   },
   "outputs": [
    {
     "name": "stdout",
     "output_type": "stream",
     "text": [
      "14/14 [==============================] - 0s 18ms/step - loss: 0.6620 - get_f1: 0.7771\n",
      "\n",
      "\n",
      "Test loss: 0.6619693040847778\n",
      "Test f1_score: 0.7770693898200989\n"
     ]
    }
   ],
   "source": [
    "score = model.evaluate(x_test, y_test, batch_size=batch_size, verbose=1)\n",
    "print('\\n')\n",
    "print('Test loss:', score[0])\n",
    "print('Test f1_score:', score[1])"
   ]
  },
  {
   "cell_type": "markdown",
   "metadata": {
    "id": "86Sv8QuuCINQ"
   },
   "source": [
    "## Keras CONV модель с предобученным Embedding слоем"
   ]
  },
  {
   "cell_type": "markdown",
   "metadata": {},
   "source": [
    "Предобученные векторы можно скачать [здесь](http://vectors.nlpl.eu/repository/20/180.zip)."
   ]
  },
  {
   "cell_type": "code",
   "execution_count": 21,
   "metadata": {
    "id": "F7zkFPAHFHoP"
   },
   "outputs": [],
   "source": [
    "# Загрузим предобученные векторы\n",
    "word_vectors = gensim.models.KeyedVectors.load_word2vec_format('180/model.bin', binary=True).vectors "
   ]
  },
  {
   "cell_type": "code",
   "execution_count": 22,
   "metadata": {
    "colab": {
     "base_uri": "https://localhost:8080/"
    },
    "id": "ToFJFHZ6FLdY",
    "outputId": "2246b88a-6ccf-4f13-fb0e-daa53904f41f"
   },
   "outputs": [
    {
     "data": {
      "text/plain": [
       "[array([ 1.0967804e+00, -2.2944486e+00,  1.9791678e+00,  3.4804371e-01,\n",
       "         4.0753922e-01,  1.3286122e+00, -9.3368673e-01,  5.4947221e-01,\n",
       "        -6.8077618e-01, -7.4963701e-01, -8.0936104e-02,  6.5788299e-02,\n",
       "        -8.8564938e-01,  5.0793958e-01, -1.0864110e+00, -4.3317631e-01,\n",
       "         2.0482888e-02, -5.7119979e-03, -1.0036458e+00,  3.1729680e-01,\n",
       "         1.1956499e+00,  1.0685917e+00, -8.9309484e-01,  7.4419886e-01,\n",
       "         4.4171312e-01, -2.0080043e-01, -2.6623638e+00,  1.7598321e-01,\n",
       "        -2.0019765e+00, -5.6796205e-01, -2.0350738e-01, -7.3997623e-01,\n",
       "         8.0226004e-01,  1.4174094e+00,  1.0990121e-01,  1.2313192e+00,\n",
       "         1.6655500e+00, -2.6187131e-01,  1.7604357e+00, -3.1903556e-01,\n",
       "         2.4266930e+00, -1.2458172e+00,  1.0440445e+00,  2.7978971e+00,\n",
       "        -8.2489556e-01,  4.3603179e-01,  9.2311478e-01, -1.8360819e-01,\n",
       "        -6.3582733e-02,  2.9669294e-01,  5.6388801e-01,  2.5535300e+00,\n",
       "         2.3046949e+00, -1.8354168e+00, -6.8992484e-01, -1.3858901e+00,\n",
       "        -1.5620509e+00, -1.3749862e+00, -2.1975157e+00,  1.1068740e+00,\n",
       "        -1.1910330e+00, -1.6919045e+00,  1.2986860e+00, -1.6650962e+00,\n",
       "         7.6533502e-01,  1.7246596e+00,  3.6263967e-01,  6.3627464e-01,\n",
       "         1.8661187e+00, -2.1320938e-01,  1.2465114e-01,  1.4016855e+00,\n",
       "         1.3836783e+00, -2.2180700e-01, -6.3591339e-02, -6.4895552e-01,\n",
       "         1.0426704e+00,  3.2523163e-02, -2.4626455e+00,  3.2399185e+00,\n",
       "        -1.4561642e+00, -1.5617782e-04, -2.1234381e+00, -2.1946747e+00,\n",
       "        -2.5850182e+00, -2.3289078e-01,  2.8050849e-01,  1.0394206e+00,\n",
       "        -2.6780462e+00, -7.6176941e-02, -8.8362336e-01,  6.4979047e-01,\n",
       "         2.2822413e+00,  1.5245788e+00, -5.2706778e-02,  1.4810644e+00,\n",
       "        -1.0669724e+00,  1.3186673e+00,  3.3882877e-01, -8.5442819e-02,\n",
       "         2.0553036e+00,  3.1352252e-01, -2.5240443e+00,  9.5207083e-01,\n",
       "        -7.1361119e-01, -1.1406686e+00, -3.2639513e+00,  2.0501766e+00,\n",
       "         1.0306441e+00, -1.7454411e+00, -3.5804921e-01,  2.1014802e+00,\n",
       "         1.0362360e+00, -7.5109017e-01, -4.8607501e-01,  8.7713644e-02,\n",
       "         5.2515376e-01,  2.3160763e+00,  1.1250384e+00, -3.3031321e+00,\n",
       "         7.8317904e-01, -2.4642365e-01, -6.4000112e-01,  1.0263929e+00,\n",
       "         9.6193701e-01,  1.8545392e+00,  5.4489750e-01, -3.0396858e-01],\n",
       "       dtype=float32),\n",
       " array([ 0.56827927, -0.3209115 , -0.01912439, -1.9356475 , -0.8124491 ,\n",
       "         1.657973  , -1.3159128 ,  1.1186373 , -2.0223322 , -3.2186239 ,\n",
       "        -0.8087832 , -1.6359693 ,  0.30781016, -1.9637547 ,  1.1508301 ,\n",
       "         0.09154594,  1.499977  , -1.9233339 , -1.395698  ,  0.4522272 ,\n",
       "         1.3875449 , -0.6991994 ,  1.1241058 , -0.8872212 ,  1.5669478 ,\n",
       "         0.10525192, -0.72891355, -1.7446259 , -0.39187282, -0.21783888,\n",
       "         0.99993414, -2.8352168 ,  0.28585172, -1.2888701 , -0.7390094 ,\n",
       "         0.7050435 ,  2.6338942 ,  0.37333074,  2.078776  , -0.19290456,\n",
       "        -0.73848265, -1.7742666 ,  1.6497376 ,  3.7614036 , -1.2978705 ,\n",
       "        -0.00728586,  1.3725481 , -1.5491337 , -0.81334364, -0.7748071 ,\n",
       "        -0.61844414,  0.7076229 ,  0.53189814, -0.519196  ,  1.2863954 ,\n",
       "         0.99337226,  1.1154282 , -0.930117  ,  1.572236  , -1.2262355 ,\n",
       "        -0.86334157,  0.61980397, -0.09515494,  0.5440264 , -0.50054914,\n",
       "         0.32205996, -1.49439   ,  0.63581914,  2.5604725 ,  0.62158006,\n",
       "        -0.9675487 ,  1.7475013 , -1.055982  ,  1.8056836 ,  0.29194352,\n",
       "         0.72323376, -0.2652101 , -1.5487951 , -1.2479311 ,  0.6863535 ,\n",
       "        -0.5887072 , -0.25386146, -1.0167173 , -2.9647908 , -0.96875453,\n",
       "        -1.6287156 , -0.60758674, -0.5515135 , -0.4176201 ,  0.6098959 ,\n",
       "        -2.8192685 ,  2.5853198 ,  0.85308856,  0.87172407, -0.897581  ,\n",
       "        -0.40489018,  1.4343278 ,  1.2818788 , -0.1038449 ,  3.5178578 ,\n",
       "         3.2740445 , -0.8202849 , -1.8105402 ,  0.01102561,  0.237255  ,\n",
       "        -4.524287  , -2.5001287 ,  1.012236  ,  0.9220278 ,  0.08768477,\n",
       "         1.7009947 , -0.1830261 ,  0.27147695,  2.9195416 ,  0.801868  ,\n",
       "        -0.21166666,  1.8762391 ,  2.0312402 , -0.83916956, -1.8924448 ,\n",
       "        -0.8591967 ,  1.3861572 ,  1.4221402 , -0.22199516,  0.88558954,\n",
       "        -2.7754016 ,  0.76693803, -0.03952743], dtype=float32),\n",
       " array([ 2.6395080e+00, -3.5969369e+00, -1.3203041e-01, -4.2913830e-01,\n",
       "         9.5060807e-01, -2.2900711e-01, -2.5004447e+00,  3.9116285e+00,\n",
       "        -8.9953893e-01,  2.7862992e+00,  2.0605381e+00,  1.8990420e+00,\n",
       "         8.7666231e-01, -1.5066367e+00, -9.4136685e-01, -1.3621889e+00,\n",
       "         1.8738748e+00, -3.4702569e-01,  4.0077496e+00, -3.2853916e+00,\n",
       "        -9.6756607e-01,  3.9047437e+00, -2.8360598e+00,  7.9273587e-01,\n",
       "         4.2651346e-01,  2.1660433e+00, -7.9471600e-01, -1.1207846e+00,\n",
       "        -3.6603713e-01, -8.8447118e-01,  9.8033404e-01,  1.5461730e+00,\n",
       "        -7.9197633e-01, -6.8127269e-01, -2.4167998e+00,  1.2058518e+00,\n",
       "         1.0936364e+00, -1.1110761e+00,  9.0732974e-01,  9.3896762e-02,\n",
       "         2.3346324e+00, -7.4445832e-01,  1.5635771e+00,  4.7028279e-01,\n",
       "         3.1315284e+00, -3.2004907e+00, -8.8128388e-01, -1.4575105e+00,\n",
       "         3.4884574e+00, -2.0537179e+00,  1.6051058e+00,  2.6329818e+00,\n",
       "         2.0520415e+00,  2.4283249e+00,  1.0092834e+00, -1.4466705e+00,\n",
       "         1.4382554e+00,  1.2298491e+00, -3.9642189e+00,  1.5861732e+00,\n",
       "        -1.3646423e+00, -1.1799427e+00,  6.3736361e-01,  2.1186395e-01,\n",
       "         1.7562934e+00, -1.0474283e+00,  1.8860534e+00,  1.8322881e+00,\n",
       "         5.1412392e+00, -2.7036951e+00,  1.5064459e+00,  2.2433917e-01,\n",
       "        -3.5631731e-01,  2.0856569e+00, -8.0486232e-01, -5.3803736e-01,\n",
       "         3.1599829e+00,  5.6129918e-02,  1.2066299e+00,  2.0534358e+00,\n",
       "        -6.2961015e-03,  2.4017237e-01,  7.9163617e-01, -2.0521183e+00,\n",
       "         1.2292339e+00, -3.4259686e+00,  1.3811818e-01, -3.4382990e-01,\n",
       "        -1.2286350e+00, -7.1083391e-01,  1.1776066e+00,  9.9413007e-01,\n",
       "         1.9645803e+00,  1.7459899e+00,  2.4982944e+00,  1.2948874e+00,\n",
       "         7.9444396e-01,  1.4383093e+00,  6.4458692e-01,  1.6354978e+00,\n",
       "        -1.4814060e+00,  1.0675937e+00, -3.8864142e-01,  2.9150259e+00,\n",
       "        -3.8616660e-01, -3.0555453e+00, -5.6708264e+00, -2.2083077e+00,\n",
       "         8.0665278e-01,  6.4094585e-01,  1.7113914e+00,  3.6698744e-01,\n",
       "         7.1567649e-01,  7.3534895e-05, -4.2703351e-01,  6.4957309e-01,\n",
       "         2.8331528e+00,  2.1839030e+00, -2.2413461e+00, -3.3966296e+00,\n",
       "        -9.8763406e-01,  4.4066589e-02,  8.2389188e-01, -5.1307183e-02,\n",
       "        -1.8865644e+00,  1.6241522e+00,  3.5207922e+00,  2.0329142e+00],\n",
       "       dtype=float32)]"
      ]
     },
     "execution_count": 22,
     "metadata": {},
     "output_type": "execute_result"
    }
   ],
   "source": [
    "# Обрежем word_vectors по размеру эмбеддингов предыдущей задачи\n",
    "word_vectors_matrix = [word_vectors[i][:128] for i in range(200)]\n",
    "word_vectors_matrix[:3]"
   ]
  },
  {
   "cell_type": "code",
   "execution_count": 23,
   "metadata": {
    "id": "kz3kq1woFQ1X"
   },
   "outputs": [],
   "source": [
    "# Инициализируем веса в эмбеддинге\n",
    "initializer = tf.keras.initializers.Constant(word_vectors_matrix)\n",
    "\n",
    "model = Sequential()\n",
    "model.add(Embedding(input_dim=max_words, output_dim=128, embeddings_initializer =initializer, input_length=max_len))\n",
    "model.add(Conv1D(128, 3))\n",
    "model.add(Activation(\"relu\"))\n",
    "model.add(GlobalMaxPool1D())\n",
    "model.add(Dense(10))\n",
    "model.add(Activation(\"relu\"))\n",
    "model.add(Dense(num_classes))\n",
    "model.add(Activation('softmax'))"
   ]
  },
  {
   "cell_type": "code",
   "execution_count": 24,
   "metadata": {
    "id": "lmH7LLpTFe6U"
   },
   "outputs": [],
   "source": [
    "model.compile(loss='categorical_crossentropy',\n",
    "              optimizer='adam',\n",
    "              metrics=[get_f1])"
   ]
  },
  {
   "cell_type": "code",
   "execution_count": 25,
   "metadata": {
    "colab": {
     "base_uri": "https://localhost:8080/"
    },
    "id": "RzK84DY2Fg-h",
    "outputId": "e92f5194-ee82-4267-a42a-7a7a9c5d35e0"
   },
   "outputs": [
    {
     "name": "stdout",
     "output_type": "stream",
     "text": [
      "Epoch 1/20\n",
      "25/25 [==============================] - 3s 83ms/step - loss: 1.3161 - get_f1: 0.3627 - val_loss: 0.9901 - val_get_f1: 0.7144\n",
      "Epoch 2/20\n",
      "25/25 [==============================] - 2s 91ms/step - loss: 0.9065 - get_f1: 0.7199 - val_loss: 0.8611 - val_get_f1: 0.7234\n",
      "Epoch 3/20\n",
      "25/25 [==============================] - 2s 80ms/step - loss: 0.8328 - get_f1: 0.7326 - val_loss: 0.8222 - val_get_f1: 0.7335\n",
      "Epoch 4/20\n",
      "25/25 [==============================] - 2s 82ms/step - loss: 0.7842 - get_f1: 0.7386 - val_loss: 0.7946 - val_get_f1: 0.7363\n",
      "Epoch 5/20\n",
      "25/25 [==============================] - 2s 78ms/step - loss: 0.7498 - get_f1: 0.7479 - val_loss: 0.7807 - val_get_f1: 0.7412\n",
      "Epoch 6/20\n",
      "25/25 [==============================] - 2s 83ms/step - loss: 0.7218 - get_f1: 0.7511 - val_loss: 0.7578 - val_get_f1: 0.7382\n",
      "Epoch 7/20\n",
      "25/25 [==============================] - 2s 78ms/step - loss: 0.7010 - get_f1: 0.7549 - val_loss: 0.7537 - val_get_f1: 0.7435\n",
      "Epoch 8/20\n",
      "25/25 [==============================] - 2s 77ms/step - loss: 0.6842 - get_f1: 0.7607 - val_loss: 0.7463 - val_get_f1: 0.7425\n",
      "Epoch 9/20\n",
      "25/25 [==============================] - 2s 78ms/step - loss: 0.6690 - get_f1: 0.7623 - val_loss: 0.7488 - val_get_f1: 0.7445\n"
     ]
    }
   ],
   "source": [
    "tensorboard=TensorBoard(log_dir='./logs', write_graph=True, write_images=True)\n",
    "early_stopping=EarlyStopping(monitor='val_loss')  \n",
    "\n",
    "epochs = 20\n",
    "batch_size = 512\n",
    "\n",
    "history = model.fit(x_train, y_train,\n",
    "                    batch_size=batch_size,\n",
    "                    epochs=epochs,\n",
    "                    verbose=1,\n",
    "                    validation_split=0.1,\n",
    "                    callbacks=[tensorboard, early_stopping])"
   ]
  },
  {
   "cell_type": "code",
   "execution_count": 26,
   "metadata": {
    "colab": {
     "base_uri": "https://localhost:8080/"
    },
    "id": "Jo7nD3sjFjiq",
    "outputId": "7e03a34d-20b2-417f-9423-8e20d1dfeb75"
   },
   "outputs": [
    {
     "name": "stdout",
     "output_type": "stream",
     "text": [
      "14/14 [==============================] - 0s 21ms/step - loss: 0.7077 - get_f1: 0.7547\n",
      "\n",
      "\n",
      "Test loss: 0.7076925039291382\n",
      "Test f1_score: 0.7546936869621277\n"
     ]
    }
   ],
   "source": [
    "score = model.evaluate(x_test, y_test, batch_size=batch_size, verbose=1)\n",
    "print('\\n')\n",
    "print('Test loss:', score[0])\n",
    "print('Test f1_score:', score[1])"
   ]
  },
  {
   "cell_type": "markdown",
   "metadata": {
    "id": "zxd9Eo1yFnM4"
   },
   "source": [
    "## Выводы:\n",
    "\n",
    "Нейронная сеть без инициализации дает лучшую метрику (f1_score = 0.7770693898200989), нежели предобученная сетка (f1_score = 0.7546936869621277)."
   ]
  },
  {
   "cell_type": "code",
   "execution_count": null,
   "metadata": {},
   "outputs": [],
   "source": []
  }
 ],
 "metadata": {
  "colab": {
   "provenance": []
  },
  "kernelspec": {
   "display_name": "myenv",
   "language": "python",
   "name": "myenv"
  },
  "language_info": {
   "codemirror_mode": {
    "name": "ipython",
    "version": 3
   },
   "file_extension": ".py",
   "mimetype": "text/x-python",
   "name": "python",
   "nbconvert_exporter": "python",
   "pygments_lexer": "ipython3",
   "version": "3.8.10"
  }
 },
 "nbformat": 4,
 "nbformat_minor": 4
}
