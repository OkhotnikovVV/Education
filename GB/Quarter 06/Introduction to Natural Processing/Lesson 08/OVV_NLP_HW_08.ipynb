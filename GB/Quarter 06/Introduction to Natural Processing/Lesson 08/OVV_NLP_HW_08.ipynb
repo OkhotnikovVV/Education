{
 "cells": [
  {
   "cell_type": "markdown",
   "metadata": {},
   "source": [
    "# Введение в обработку естественного языка"
   ]
  },
  {
   "cell_type": "markdown",
   "metadata": {},
   "source": [
    "## Урок 8. Рекуррентные нейронные сети RNN LSTM GRU"
   ]
  },
  {
   "cell_type": "markdown",
   "metadata": {},
   "source": [
    "**Материалы:**\n",
    "У вас лекционный ноутбук в архиве он с картинками и презентация тоже есть в архиве    \n",
    "\n",
    "**Задание:**\n",
    "На вебинаре мы говорили, что долгое время CNN и RNN архитектуры были конурируещими. Выяснить, какая архитектура больше подходит для задачи сантимент анализа на данных с вебинара\n",
    "\n",
    "1. Построить свёрточные архитектуры \n",
    "2. Построить различные архитектуры с RNN\n",
    "3. Построить совместные архитектуры CNN -> RNN  и (RNN -> CNN)\n",
    "4. Сделать выводы, что получилось лучше\n"
   ]
  },
  {
   "cell_type": "code",
   "execution_count": 1,
   "metadata": {
    "id": "uCdcOxNTsxYu"
   },
   "outputs": [],
   "source": [
    "import numpy as np\n",
    "import pandas as pd\n",
    "import keras\n",
    "import re\n",
    "import matplotlib.pyplot as plt\n",
    "\n",
    "from string import punctuation\n",
    "from stop_words import get_stop_words\n",
    "from pymorphy2 import MorphAnalyzer\n",
    "from keras.models import Sequential, Model\n",
    "from keras.layers import Dense, Dropout, Activation, Input, Embedding, Conv1D, GlobalMaxPool1D, SimpleRNN, LSTM, GRU, Masking, RepeatVector\n",
    "from keras.preprocessing.text import Tokenizer\n",
    "from keras.preprocessing.sequence import pad_sequences\n",
    "from keras.callbacks import TensorBoard \n",
    "from tensorflow.keras.metrics import categorical_crossentropy\n",
    "from keras.callbacks import EarlyStopping \n",
    "from tensorflow.keras import layers"
   ]
  },
  {
   "cell_type": "code",
   "execution_count": 2,
   "metadata": {},
   "outputs": [],
   "source": [
    "df_train = pd.read_csv(\"data/train.csv\")\n",
    "df_test = pd.read_csv(\"data/test.csv\")\n",
    "df_val = pd.read_csv(\"data/val.csv\")"
   ]
  },
  {
   "cell_type": "code",
   "execution_count": 3,
   "metadata": {
    "colab": {
     "base_uri": "https://localhost:8080/",
     "height": 206
    },
    "id": "XzcYZifJsxYv",
    "outputId": "ac7c36ac-ec7d-49f8-b1fe-f79e876b93bd"
   },
   "outputs": [
    {
     "data": {
      "text/html": [
       "<div>\n",
       "<style scoped>\n",
       "    .dataframe tbody tr th:only-of-type {\n",
       "        vertical-align: middle;\n",
       "    }\n",
       "\n",
       "    .dataframe tbody tr th {\n",
       "        vertical-align: top;\n",
       "    }\n",
       "\n",
       "    .dataframe thead th {\n",
       "        text-align: right;\n",
       "    }\n",
       "</style>\n",
       "<table border=\"1\" class=\"dataframe\">\n",
       "  <thead>\n",
       "    <tr style=\"text-align: right;\">\n",
       "      <th></th>\n",
       "      <th>id</th>\n",
       "      <th>text</th>\n",
       "      <th>class</th>\n",
       "    </tr>\n",
       "  </thead>\n",
       "  <tbody>\n",
       "    <tr>\n",
       "      <th>0</th>\n",
       "      <td>0</td>\n",
       "      <td>@alisachachka не уезжаааааааай. :(❤ я тоже не ...</td>\n",
       "      <td>0</td>\n",
       "    </tr>\n",
       "    <tr>\n",
       "      <th>1</th>\n",
       "      <td>1</td>\n",
       "      <td>RT @GalyginVadim: Ребята и девчата!\\nВсе в кин...</td>\n",
       "      <td>1</td>\n",
       "    </tr>\n",
       "    <tr>\n",
       "      <th>2</th>\n",
       "      <td>2</td>\n",
       "      <td>RT @ARTEM_KLYUSHIN: Кто ненавидит пробки ретви...</td>\n",
       "      <td>0</td>\n",
       "    </tr>\n",
       "    <tr>\n",
       "      <th>3</th>\n",
       "      <td>3</td>\n",
       "      <td>RT @epupybobv: Хочется котлету по-киевски. Зап...</td>\n",
       "      <td>1</td>\n",
       "    </tr>\n",
       "    <tr>\n",
       "      <th>4</th>\n",
       "      <td>4</td>\n",
       "      <td>@KarineKurganova @Yess__Boss босапопа есбоса н...</td>\n",
       "      <td>1</td>\n",
       "    </tr>\n",
       "  </tbody>\n",
       "</table>\n",
       "</div>"
      ],
      "text/plain": [
       "   id                                               text  class\n",
       "0   0  @alisachachka не уезжаааааааай. :(❤ я тоже не ...      0\n",
       "1   1  RT @GalyginVadim: Ребята и девчата!\\nВсе в кин...      1\n",
       "2   2  RT @ARTEM_KLYUSHIN: Кто ненавидит пробки ретви...      0\n",
       "3   3  RT @epupybobv: Хочется котлету по-киевски. Зап...      1\n",
       "4   4  @KarineKurganova @Yess__Boss босапопа есбоса н...      1"
      ]
     },
     "execution_count": 3,
     "metadata": {},
     "output_type": "execute_result"
    }
   ],
   "source": [
    "df_train.head()"
   ]
  },
  {
   "cell_type": "code",
   "execution_count": 4,
   "metadata": {
    "id": "TvGm87EIsxYv"
   },
   "outputs": [],
   "source": [
    "sw = set(get_stop_words(\"ru\"))\n",
    "exclude = set(punctuation)\n",
    "morpher = MorphAnalyzer()\n",
    "\n",
    "def preprocess_text(txt):\n",
    "    txt = str(txt)\n",
    "    txt = \"\".join(c for c in txt if c not in exclude)\n",
    "    txt = txt.lower()\n",
    "    txt = re.sub(\"\\sне\", \"не\", txt)\n",
    "    txt = [morpher.parse(word)[0].normal_form for word in txt.split() if word not in sw]\n",
    "    return \" \".join(txt)\n",
    "\n",
    "df_train['text'] = df_train['text'].apply(preprocess_text)\n",
    "df_val['text'] = df_val['text'].apply(preprocess_text)\n",
    "df_test['text'] = df_test['text'].apply(preprocess_text)"
   ]
  },
  {
   "cell_type": "code",
   "execution_count": 5,
   "metadata": {
    "colab": {
     "base_uri": "https://localhost:8080/",
     "height": 144
    },
    "id": "KR-lSB6yWuFZ",
    "outputId": "5123f961-6651-4873-e749-3208e7ca7df8"
   },
   "outputs": [
    {
     "data": {
      "text/html": [
       "<div>\n",
       "<style scoped>\n",
       "    .dataframe tbody tr th:only-of-type {\n",
       "        vertical-align: middle;\n",
       "    }\n",
       "\n",
       "    .dataframe tbody tr th {\n",
       "        vertical-align: top;\n",
       "    }\n",
       "\n",
       "    .dataframe thead th {\n",
       "        text-align: right;\n",
       "    }\n",
       "</style>\n",
       "<table border=\"1\" class=\"dataframe\">\n",
       "  <thead>\n",
       "    <tr style=\"text-align: right;\">\n",
       "      <th></th>\n",
       "      <th>id</th>\n",
       "      <th>text</th>\n",
       "      <th>class</th>\n",
       "    </tr>\n",
       "  </thead>\n",
       "  <tbody>\n",
       "    <tr>\n",
       "      <th>0</th>\n",
       "      <td>0</td>\n",
       "      <td>alisachachkaич уезжаааааааать ❤ тожена хотеть ...</td>\n",
       "      <td>0</td>\n",
       "    </tr>\n",
       "    <tr>\n",
       "      <th>1</th>\n",
       "      <td>1</td>\n",
       "      <td>rt galyginvadim ребята девчата кино любовь зав...</td>\n",
       "      <td>1</td>\n",
       "    </tr>\n",
       "    <tr>\n",
       "      <th>2</th>\n",
       "      <td>2</td>\n",
       "      <td>rt artemklyushin ктоненавидеть пробка ретвит rt</td>\n",
       "      <td>0</td>\n",
       "    </tr>\n",
       "  </tbody>\n",
       "</table>\n",
       "</div>"
      ],
      "text/plain": [
       "   id                                               text  class\n",
       "0   0  alisachachkaич уезжаааааааать ❤ тожена хотеть ...      0\n",
       "1   1  rt galyginvadim ребята девчата кино любовь зав...      1\n",
       "2   2    rt artemklyushin ктоненавидеть пробка ретвит rt      0"
      ]
     },
     "execution_count": 5,
     "metadata": {},
     "output_type": "execute_result"
    }
   ],
   "source": [
    "df_train.loc[0:2]"
   ]
  },
  {
   "cell_type": "code",
   "execution_count": 6,
   "metadata": {
    "id": "Qgmp7ed3sxYw"
   },
   "outputs": [],
   "source": [
    "text_corpus_train = df_train['text'].values\n",
    "text_corpus_valid = df_val['text'].values\n",
    "text_corpus_test = df_test['text'].values"
   ]
  },
  {
   "cell_type": "code",
   "execution_count": 7,
   "metadata": {
    "id": "M2aEm91GsxYx"
   },
   "outputs": [],
   "source": [
    "tokenizer = Tokenizer(num_words=None, \n",
    "                     filters='#$%&()*+-<=>@[\\\\]^_`{|}~\\t\\n',\n",
    "                     lower = False, split = ' ')\n",
    "tokenizer.fit_on_texts(text_corpus_train)\n",
    "\n",
    "sequences_train = tokenizer.texts_to_sequences(text_corpus_train)\n",
    "sequences_val = tokenizer.texts_to_sequences(text_corpus_valid)\n",
    "sequences_test = tokenizer.texts_to_sequences(text_corpus_test)\n",
    "\n",
    "word_count = len(tokenizer.index_word) + 1\n",
    "training_length = max([len(i.split()) for i in text_corpus_train])\n",
    "\n",
    "X_train = pad_sequences(sequences_train, maxlen=training_length)\n",
    "X_valid = pad_sequences(sequences_val, maxlen=training_length)"
   ]
  },
  {
   "cell_type": "code",
   "execution_count": 8,
   "metadata": {
    "colab": {
     "base_uri": "https://localhost:8080/"
    },
    "id": "3Mpsc0PoBOc0",
    "outputId": "167dcb72-24f1-4694-8520-b7db8a48d1f6"
   },
   "outputs": [
    {
     "data": {
      "text/plain": [
       "(258108, 27)"
      ]
     },
     "execution_count": 8,
     "metadata": {},
     "output_type": "execute_result"
    }
   ],
   "source": [
    "word_count, training_length"
   ]
  },
  {
   "cell_type": "code",
   "execution_count": 9,
   "metadata": {
    "id": "FsXabgAvsxYx"
   },
   "outputs": [],
   "source": [
    "y_train = df_train['class'].values\n",
    "y_val = df_val['class'].values"
   ]
  },
  {
   "cell_type": "code",
   "execution_count": 10,
   "metadata": {
    "id": "zSg57FIgSM6o"
   },
   "outputs": [],
   "source": [
    "result = {'name': list(), 'loss': list(), 'accuracy': list()}"
   ]
  },
  {
   "cell_type": "markdown",
   "metadata": {
    "id": "Mj2PWoeDw4eg"
   },
   "source": [
    "# Общие параметры"
   ]
  },
  {
   "cell_type": "code",
   "execution_count": 11,
   "metadata": {
    "id": "ROJBL3V2wx_n"
   },
   "outputs": [],
   "source": [
    "batch_size = 512\n",
    "epochs=10\n",
    "validation_split = 0.1\n",
    "verbose=1\n",
    "early_stopping=EarlyStopping(monitor='val_loss')"
   ]
  },
  {
   "cell_type": "markdown",
   "metadata": {
    "id": "evAcBW0IPvsq"
   },
   "source": [
    "# SimpleRNN"
   ]
  },
  {
   "cell_type": "code",
   "execution_count": 12,
   "metadata": {
    "id": "pehw-QtVsxYy"
   },
   "outputs": [],
   "source": [
    "model = Sequential()\n",
    "\n",
    "model.add(\n",
    "    Embedding(input_dim=word_count,\n",
    "              input_length=training_length,\n",
    "              output_dim=30,\n",
    "              trainable=True,\n",
    "              mask_zero=True))\n",
    "model.add(Masking(mask_value=0.0))\n",
    "\n",
    "model.add(SimpleRNN(64))\n",
    "model.add(Dense(64, activation='relu'))\n",
    "model.add(Dropout(0.5))\n",
    "model.add(Dense(1, activation='sigmoid'))\n",
    "\n",
    "model.compile(\n",
    "    optimizer='adam', loss='binary_crossentropy', metrics=['accuracy'])"
   ]
  },
  {
   "cell_type": "code",
   "execution_count": 13,
   "metadata": {
    "colab": {
     "base_uri": "https://localhost:8080/"
    },
    "id": "WkwVf5oksxYz",
    "outputId": "98c6a9a2-cc36-4453-8762-d6fea8017bb5"
   },
   "outputs": [
    {
     "name": "stdout",
     "output_type": "stream",
     "text": [
      "Epoch 1/10\n",
      "319/319 [==============================] - 49s 148ms/step - loss: 0.5586 - accuracy: 0.6989 - val_loss: 0.4988 - val_accuracy: 0.7514\n",
      "Epoch 2/10\n",
      "319/319 [==============================] - 47s 148ms/step - loss: 0.2948 - accuracy: 0.8794 - val_loss: 0.5579 - val_accuracy: 0.7436\n"
     ]
    }
   ],
   "source": [
    "history = model.fit(X_train, y_train,\n",
    "                    batch_size=batch_size,\n",
    "                    epochs=epochs,\n",
    "                    verbose=verbose,\n",
    "                    validation_split=validation_split,\n",
    "                    callbacks=[early_stopping])"
   ]
  },
  {
   "cell_type": "code",
   "execution_count": 14,
   "metadata": {
    "colab": {
     "base_uri": "https://localhost:8080/"
    },
    "id": "TrYCzDwSsxYz",
    "outputId": "b7f93841-a9e3-4338-86d0-228ce1f5dcd4"
   },
   "outputs": [
    {
     "name": "stdout",
     "output_type": "stream",
     "text": [
      "45/45 [==============================] - 0s 11ms/step - loss: 0.5861 - accuracy: 0.7359\n",
      "\n",
      "\n",
      "Test score: 0.5861487984657288\n",
      "Test accuracy: 0.735925555229187\n"
     ]
    }
   ],
   "source": [
    "score = model.evaluate(X_valid, y_val, batch_size=512, verbose=1)\n",
    "print('\\n')\n",
    "print('Test score:', score[0])\n",
    "print('Test accuracy:', score[1])"
   ]
  },
  {
   "cell_type": "code",
   "execution_count": 15,
   "metadata": {
    "id": "VxPI5qvISWEM"
   },
   "outputs": [],
   "source": [
    "result['name'].append('SimpleRNN')\n",
    "result['loss'].append(score[0])\n",
    "result['accuracy'].append(score[1])"
   ]
  },
  {
   "cell_type": "markdown",
   "metadata": {
    "id": "6MZE-Jc6Y9hO"
   },
   "source": [
    "# LSTM"
   ]
  },
  {
   "cell_type": "markdown",
   "metadata": {
    "id": "TXhckihrsxY0"
   },
   "source": [
    "Какие проблемы у рекурентных сетей?\n",
    "\n",
    "- затухают градиенты\n",
    "- медленно, нужно всегда дойти до конца\n",
    "\n",
    "Как решить? -> LSTM\n",
    "\n",
    "\n",
    "<img src=\"images/lstm.png\">\n",
    "\n",
    "\n",
    "https://colah.github.io/posts/2015-08-Understanding-LSTMs/\n",
    "\n",
    "\n",
    "Давайте, кратко посмотрим как это работает:\n",
    "\n",
    "\n",
    "<img src=\"images/LSTMMaths.png\">"
   ]
  },
  {
   "cell_type": "code",
   "execution_count": 16,
   "metadata": {
    "colab": {
     "base_uri": "https://localhost:8080/"
    },
    "id": "1v7z5bhUsxY0",
    "outputId": "63a8d4c6-f7f0-4349-9c91-ae26596d4cd9"
   },
   "outputs": [
    {
     "name": "stdout",
     "output_type": "stream",
     "text": [
      "Epoch 1/10\n",
      "319/319 [==============================] - 73s 221ms/step - loss: 0.5545 - accuracy: 0.7071 - val_loss: 0.4965 - val_accuracy: 0.7520\n",
      "Epoch 2/10\n",
      "319/319 [==============================] - 69s 215ms/step - loss: 0.3273 - accuracy: 0.8633 - val_loss: 0.5414 - val_accuracy: 0.7479\n"
     ]
    }
   ],
   "source": [
    "model = Sequential()\n",
    "\n",
    "model.add(\n",
    "    Embedding(input_dim=word_count,\n",
    "              input_length=training_length,\n",
    "              output_dim=30,\n",
    "              trainable=True,\n",
    "              mask_zero=True))\n",
    "model.add(Masking(mask_value=0.0))\n",
    "model.add(LSTM(64, recurrent_dropout=0.2))\n",
    "model.add(Dense(64, activation='relu'))\n",
    "model.add(Dropout(0.5))\n",
    "model.add(Dense(1, activation='sigmoid'))\n",
    "\n",
    "model.compile(\n",
    "    optimizer='adam', loss='binary_crossentropy', metrics=['accuracy'])\n",
    "\n",
    "early_stopping=EarlyStopping(monitor='val_loss')  \n",
    "\n",
    "\n",
    "history = model.fit(X_train, y_train,\n",
    "                    batch_size=batch_size,\n",
    "                    epochs=epochs,\n",
    "                    verbose=verbose,\n",
    "                    validation_split=validation_split,\n",
    "                    callbacks=[early_stopping])"
   ]
  },
  {
   "cell_type": "code",
   "execution_count": 17,
   "metadata": {
    "colab": {
     "base_uri": "https://localhost:8080/"
    },
    "id": "yVRNC4V1sxY1",
    "outputId": "30479809-676a-4fb8-d4c5-108080f5aded"
   },
   "outputs": [
    {
     "name": "stdout",
     "output_type": "stream",
     "text": [
      "45/45 [==============================] - 1s 20ms/step - loss: 0.5873 - accuracy: 0.7365\n",
      "\n",
      "\n",
      "Test score: 0.5873300433158875\n",
      "Test accuracy: 0.7364987134933472\n"
     ]
    }
   ],
   "source": [
    "score = model.evaluate(X_valid, y_val, batch_size=512, verbose=1)\n",
    "print('\\n')\n",
    "print('Test score:', score[0])\n",
    "print('Test accuracy:', score[1])"
   ]
  },
  {
   "cell_type": "code",
   "execution_count": 18,
   "metadata": {
    "id": "8WUiA7q5UHyf"
   },
   "outputs": [],
   "source": [
    "result['name'].append('LSTM')\n",
    "result['loss'].append(score[0])\n",
    "result['accuracy'].append(score[1])"
   ]
  },
  {
   "cell_type": "markdown",
   "metadata": {
    "id": "J2QW-TjqZDfq"
   },
   "source": [
    "# GRU"
   ]
  },
  {
   "cell_type": "markdown",
   "metadata": {
    "id": "GwjO-ZJYsxY1"
   },
   "source": [
    "Какие проблемы:\n",
    "\n",
    "- вычислительно сложно -> медленнее\n",
    "- на очень длинных последовательностях все равно затухает градиент\n",
    "\n",
    "\n",
    "Зачем платить больше - уберем некоторые врата (точнее совместим) -> ускоримся, уменьшим число параметров -> GRU\n",
    "\n",
    "\n",
    "<img src=\"images/gru.png\">\n",
    "\n",
    "\n",
    "GRU Math\n",
    "\n",
    "\n",
    "<img src=\"images/GRUMath.png\">\n"
   ]
  },
  {
   "cell_type": "code",
   "execution_count": 19,
   "metadata": {
    "colab": {
     "base_uri": "https://localhost:8080/"
    },
    "id": "SAxpYAwvsxY1",
    "outputId": "cbffb67a-c2cb-4649-c348-31e1d69bdba3"
   },
   "outputs": [
    {
     "name": "stdout",
     "output_type": "stream",
     "text": [
      "Epoch 1/10\n",
      "319/319 [==============================] - 68s 207ms/step - loss: 0.5542 - accuracy: 0.7058 - val_loss: 0.4921 - val_accuracy: 0.7510\n",
      "Epoch 2/10\n",
      "319/319 [==============================] - 65s 204ms/step - loss: 0.3210 - accuracy: 0.8675 - val_loss: 0.5341 - val_accuracy: 0.7474\n"
     ]
    }
   ],
   "source": [
    "model = Sequential()\n",
    "\n",
    "model.add(\n",
    "    Embedding(input_dim=word_count,\n",
    "              input_length=training_length,\n",
    "              output_dim=30,\n",
    "              trainable=True,\n",
    "              mask_zero=True))\n",
    "model.add(Masking(mask_value=0.0))\n",
    "model.add(GRU(64, recurrent_dropout=0.2))\n",
    "model.add(Dense(64, activation='relu'))\n",
    "model.add(Dropout(0.5))\n",
    "model.add(Dense(1, activation='sigmoid'))\n",
    "\n",
    "model.compile(\n",
    "    optimizer='adam', loss='binary_crossentropy', metrics=['accuracy'])\n",
    "\n",
    "early_stopping=EarlyStopping(monitor='val_loss')  \n",
    "\n",
    "\n",
    "history = model.fit(X_train, y_train,\n",
    "                    batch_size=batch_size,\n",
    "                    epochs=epochs,\n",
    "                    verbose=verbose,\n",
    "                    validation_split=validation_split,\n",
    "                    callbacks=[early_stopping])"
   ]
  },
  {
   "cell_type": "code",
   "execution_count": 20,
   "metadata": {
    "id": "mW-9odV6UwzG"
   },
   "outputs": [
    {
     "data": {
      "image/png": "[encoded data removed]",
      "text/plain": [
       "<Figure size 1000x700 with 1 Axes>"
      ]
     },
     "metadata": {},
     "output_type": "display_data"
    }
   ],
   "source": [
    "plt.figure(figsize=(10,7))\n",
    "plt.plot(history.history['accuracy'], '-.', label = f'accuracy', color='m')\n",
    "plt.plot(history.history['val_accuracy'], '-', label = f'val_accuracy', color='g')\n",
    "        \n",
    "plt.legend()\n",
    "plt.grid('On')\n",
    "plt.title('Accuracy of epochs')\n",
    "plt.xlabel('Epochs')\n",
    "plt.ylabel('Accuracy')\n",
    "plt.show()"
   ]
  },
  {
   "cell_type": "code",
   "execution_count": 21,
   "metadata": {
    "colab": {
     "base_uri": "https://localhost:8080/"
    },
    "id": "9ZcwwlYxsxY1",
    "outputId": "e225b685-1ed7-4fe6-f808-7906a58d416b"
   },
   "outputs": [
    {
     "name": "stdout",
     "output_type": "stream",
     "text": [
      "45/45 [==============================] - 1s 16ms/step - loss: 0.5876 - accuracy: 0.7394\n",
      "\n",
      "\n",
      "Test score: 0.5875657796859741\n",
      "Test accuracy: 0.7394083738327026\n"
     ]
    }
   ],
   "source": [
    "score = model.evaluate(X_valid, y_val, batch_size=512, verbose=1)\n",
    "print('\\n')\n",
    "print('Test score:', score[0])\n",
    "print('Test accuracy:', score[1])"
   ]
  },
  {
   "cell_type": "code",
   "execution_count": 22,
   "metadata": {
    "id": "156NIzxcUzX0"
   },
   "outputs": [],
   "source": [
    "result['name'].append('GRU')\n",
    "result['loss'].append(score[0])\n",
    "result['accuracy'].append(score[1])"
   ]
  },
  {
   "cell_type": "markdown",
   "metadata": {
    "id": "kMoOwQ69wfRH"
   },
   "source": [
    "# CNN"
   ]
  },
  {
   "cell_type": "code",
   "execution_count": 23,
   "metadata": {
    "id": "0GidB2JpweQj"
   },
   "outputs": [],
   "source": [
    "model = Sequential()\n",
    "model.add(Embedding(input_dim=word_count, \n",
    "                    input_length=training_length, \n",
    "                    output_dim=30))\n",
    "\n",
    "model.add(Conv1D(256, 3, activation='relu'))\n",
    "model.add(GlobalMaxPool1D())\n",
    "model.add(Dense(64, activation='relu'))\n",
    "model.add(Dense(1, activation='softmax'))\n",
    "\n",
    "model.compile(loss='binary_crossentropy',\n",
    "              optimizer='adam',\n",
    "              metrics=['accuracy'])"
   ]
  },
  {
   "cell_type": "code",
   "execution_count": 24,
   "metadata": {
    "colab": {
     "base_uri": "https://localhost:8080/"
    },
    "id": "w4j5I2LFwmoT",
    "outputId": "13eafeaa-358a-4be5-9b26-9b6df9161949"
   },
   "outputs": [
    {
     "name": "stdout",
     "output_type": "stream",
     "text": [
      "Epoch 1/10\n",
      "319/319 [==============================] - 53s 164ms/step - loss: 0.5490 - accuracy: 0.5076 - val_loss: 0.4858 - val_accuracy: 0.5049\n",
      "Epoch 2/10\n",
      "319/319 [==============================] - 53s 165ms/step - loss: 0.2994 - accuracy: 0.5076 - val_loss: 0.5438 - val_accuracy: 0.5049\n"
     ]
    }
   ],
   "source": [
    "history = model.fit(X_train, y_train,\n",
    "                    batch_size=batch_size,\n",
    "                    epochs=epochs,\n",
    "                    verbose=verbose,\n",
    "                    validation_split=validation_split,\n",
    "                    callbacks=[early_stopping])\n"
   ]
  },
  {
   "cell_type": "code",
   "execution_count": 25,
   "metadata": {
    "colab": {
     "base_uri": "https://localhost:8080/"
    },
    "id": "4vF-_o_bQbs1",
    "outputId": "0737faa2-a099-46e9-db8a-f8766869ad95"
   },
   "outputs": [
    {
     "name": "stdout",
     "output_type": "stream",
     "text": [
      "45/45 [==============================] - 1s 12ms/step - loss: 0.6058 - accuracy: 0.5047\n",
      "\n",
      "\n",
      "Test score: 0.605818510055542\n",
      "Test accuracy: 0.5047392249107361\n"
     ]
    }
   ],
   "source": [
    "score = model.evaluate(X_valid, y_val, batch_size=512, verbose=1)\n",
    "print('\\n')\n",
    "print('Test score:', score[0])\n",
    "print('Test accuracy:', score[1])"
   ]
  },
  {
   "cell_type": "code",
   "execution_count": 26,
   "metadata": {
    "id": "y1qP7Bpiyyi7"
   },
   "outputs": [],
   "source": [
    "result['name'].append('CNN')\n",
    "result['loss'].append(score[0])\n",
    "result['accuracy'].append(score[1])"
   ]
  },
  {
   "cell_type": "markdown",
   "metadata": {
    "id": "w-aT0PuMauK5"
   },
   "source": [
    "# Add Dropout"
   ]
  },
  {
   "cell_type": "code",
   "execution_count": 27,
   "metadata": {
    "id": "CxZf4Ijeazi_"
   },
   "outputs": [],
   "source": [
    "model_5 = Sequential([\n",
    "    layers.Embedding(input_dim=word_count, \n",
    "                     input_length=training_length, output_dim=30),\n",
    "    layers.Dropout(0.2),\n",
    "    layers.Conv1D(128, 5, activation='relu'),\n",
    "    layers.GlobalMaxPool1D(),\n",
    "    layers.Dense(32, activation='relu'),\n",
    "    layers.Dropout(0.2),\n",
    "    layers.Dense(1, activation='sigmoid')\n",
    "])"
   ]
  },
  {
   "cell_type": "code",
   "execution_count": 28,
   "metadata": {
    "id": "pq0-KlEYcCE8"
   },
   "outputs": [],
   "source": [
    "model_5.compile(optimizer='RMSprop',\n",
    "                     loss='binary_crossentropy',\n",
    "                     metrics=['accuracy'])"
   ]
  },
  {
   "cell_type": "code",
   "execution_count": 29,
   "metadata": {
    "colab": {
     "base_uri": "https://localhost:8080/"
    },
    "id": "KNs3FAlfd5Ud",
    "outputId": "f17d5416-998b-4924-c8fd-8d5a96ac1c50"
   },
   "outputs": [
    {
     "name": "stdout",
     "output_type": "stream",
     "text": [
      "Epoch 1/10\n",
      "319/319 [==============================] - 24s 73ms/step - loss: 0.6135 - accuracy: 0.6462 - val_loss: 0.5423 - val_accuracy: 0.7187\n",
      "Epoch 2/10\n",
      "319/319 [==============================] - 24s 75ms/step - loss: 0.5020 - accuracy: 0.7539 - val_loss: 0.5043 - val_accuracy: 0.7444\n",
      "Epoch 3/10\n",
      "319/319 [==============================] - 24s 77ms/step - loss: 0.4351 - accuracy: 0.8034 - val_loss: 0.5002 - val_accuracy: 0.7476\n",
      "Epoch 4/10\n",
      "319/319 [==============================] - 23s 74ms/step - loss: 0.3691 - accuracy: 0.8447 - val_loss: 0.5258 - val_accuracy: 0.7500\n"
     ]
    }
   ],
   "source": [
    "history_5 = model_5.fit(X_train, y_train,\n",
    "                    batch_size=batch_size,\n",
    "                    epochs=epochs,\n",
    "                    verbose=verbose,\n",
    "                    validation_split=validation_split,\n",
    "                    callbacks=[early_stopping])"
   ]
  },
  {
   "cell_type": "code",
   "execution_count": 30,
   "metadata": {
    "colab": {
     "base_uri": "https://localhost:8080/"
    },
    "id": "O67snHAScDqv",
    "outputId": "d6e0b040-28f0-46a2-c150-7e22496d558d"
   },
   "outputs": [
    {
     "name": "stdout",
     "output_type": "stream",
     "text": [
      "45/45 [==============================] - 0s 7ms/step - loss: 0.5606 - accuracy: 0.7405\n",
      "\n",
      "\n",
      "Test score: 0.5606273412704468\n",
      "Test accuracy: 0.7405105233192444\n"
     ]
    }
   ],
   "source": [
    "score = model_5.evaluate(X_valid, y_val, batch_size=512, verbose=1)\n",
    "print('\\n')\n",
    "print('Test score:', score[0])\n",
    "print('Test accuracy:', score[1])\n",
    "\n",
    "result['name'].append('Add Dropout')\n",
    "result['loss'].append(score[0])\n",
    "result['accuracy'].append(score[1])"
   ]
  },
  {
   "cell_type": "markdown",
   "metadata": {
    "id": "HQsVKZNw_cIM"
   },
   "source": [
    "# CNN + RNN"
   ]
  },
  {
   "cell_type": "code",
   "execution_count": 31,
   "metadata": {
    "id": "BoI6z0tvhGi4"
   },
   "outputs": [],
   "source": [
    "model = Sequential([\n",
    "    layers.Embedding(input_dim=word_count, \n",
    "                     input_length=training_length, output_dim=30),\n",
    "    layers.Dropout(0.2),\n",
    "    layers.Conv1D(128, 5, activation='relu'),\n",
    "    layers.GlobalMaxPool1D(),\n",
    "\n",
    "    layers.RepeatVector(1),\n",
    "    layers.LSTM(64, recurrent_dropout=0.2),\n",
    "    \n",
    "    layers.Dense(32, activation='relu'),\n",
    "    layers.Dropout(0.2),\n",
    "    layers.Dense(1, activation='sigmoid')\n",
    "])\n",
    "\n",
    "model.compile(optimizer='RMSprop',\n",
    "                     loss='binary_crossentropy',\n",
    "                     metrics=['accuracy'])"
   ]
  },
  {
   "cell_type": "code",
   "execution_count": 32,
   "metadata": {
    "colab": {
     "base_uri": "https://localhost:8080/"
    },
    "id": "OEMB2B5t_gwQ",
    "outputId": "6e6f2cf0-18ba-491e-bf03-a9441bce6506"
   },
   "outputs": [
    {
     "name": "stdout",
     "output_type": "stream",
     "text": [
      "Epoch 1/10\n",
      "319/319 [==============================] - 27s 77ms/step - loss: 0.6579 - accuracy: 0.5888 - val_loss: 0.5799 - val_accuracy: 0.6837\n",
      "Epoch 2/10\n",
      "319/319 [==============================] - 26s 81ms/step - loss: 0.5428 - accuracy: 0.7213 - val_loss: 0.5172 - val_accuracy: 0.7375\n",
      "Epoch 3/10\n",
      "319/319 [==============================] - 25s 79ms/step - loss: 0.4611 - accuracy: 0.7870 - val_loss: 0.5003 - val_accuracy: 0.7500\n",
      "Epoch 4/10\n",
      "319/319 [==============================] - 25s 78ms/step - loss: 0.3942 - accuracy: 0.8312 - val_loss: 0.5091 - val_accuracy: 0.7522\n"
     ]
    }
   ],
   "source": [
    "history = model.fit(X_train, y_train,\n",
    "                    batch_size=batch_size,\n",
    "                    epochs=epochs,\n",
    "                    verbose=verbose,\n",
    "                    validation_split=validation_split,\n",
    "                    callbacks=[early_stopping])"
   ]
  },
  {
   "cell_type": "code",
   "execution_count": 33,
   "metadata": {
    "colab": {
     "base_uri": "https://localhost:8080/"
    },
    "id": "EXNonFzfQfXI",
    "outputId": "1e0f170f-98b4-4c83-c849-fe63ed80cc48"
   },
   "outputs": [
    {
     "name": "stdout",
     "output_type": "stream",
     "text": [
      "45/45 [==============================] - 0s 9ms/step - loss: 0.5799 - accuracy: 0.7292\n",
      "\n",
      "\n",
      "Test score: 0.5798522233963013\n",
      "Test accuracy: 0.7292245030403137\n"
     ]
    }
   ],
   "source": [
    "score = model.evaluate(X_valid, y_val, batch_size=512, verbose=1)\n",
    "print('\\n')\n",
    "print('Test score:', score[0])\n",
    "print('Test accuracy:', score[1])"
   ]
  },
  {
   "cell_type": "code",
   "execution_count": 34,
   "metadata": {
    "id": "wPD6m7BH_jB1"
   },
   "outputs": [],
   "source": [
    "result['name'].append('CNN + RNN')\n",
    "result['loss'].append(score[0])\n",
    "result['accuracy'].append(score[1])"
   ]
  },
  {
   "cell_type": "markdown",
   "metadata": {
    "id": "4XZCBKxLOq8C"
   },
   "source": [
    "# GRU + CNN"
   ]
  },
  {
   "cell_type": "code",
   "execution_count": 35,
   "metadata": {
    "id": "GcabIIiLOs9_"
   },
   "outputs": [],
   "source": [
    "model = Sequential([\n",
    "    layers.Embedding(input_dim=word_count, \n",
    "                     input_length=training_length, output_dim=30),\n",
    "    layers.Dropout(0.2),\n",
    "    layers.Conv1D(128, 5, activation='relu'),\n",
    "    \n",
    "    layers.GRU(64, recurrent_dropout=0.2),\n",
    "    layers.RepeatVector(1),\n",
    "    layers.GlobalMaxPool1D(),\n",
    "    \n",
    "    layers.Dense(32, activation='relu'),\n",
    "    layers.Dropout(0.2),\n",
    "    layers.Dense(1, activation='sigmoid')\n",
    "])\n",
    "\n",
    "model.compile(optimizer='adam',\n",
    "                     loss='binary_crossentropy',\n",
    "                     metrics=['accuracy'])"
   ]
  },
  {
   "cell_type": "code",
   "execution_count": 36,
   "metadata": {
    "colab": {
     "base_uri": "https://localhost:8080/"
    },
    "id": "t72hEOwSPydu",
    "outputId": "f1b24599-6cdb-40f2-f481-4d4a77664e17"
   },
   "outputs": [
    {
     "name": "stdout",
     "output_type": "stream",
     "text": [
      "Epoch 1/10\n",
      "319/319 [==============================] - 83s 253ms/step - loss: 0.5531 - accuracy: 0.7041 - val_loss: 0.4943 - val_accuracy: 0.7508\n",
      "Epoch 2/10\n",
      "319/319 [==============================] - 82s 256ms/step - loss: 0.3189 - accuracy: 0.8649 - val_loss: 0.5266 - val_accuracy: 0.7486\n"
     ]
    }
   ],
   "source": [
    "history = model.fit(X_train, y_train,\n",
    "                    batch_size=batch_size,\n",
    "                    epochs=epochs,\n",
    "                    verbose=verbose,\n",
    "                    validation_split=validation_split,\n",
    "                    callbacks=[early_stopping])"
   ]
  },
  {
   "cell_type": "code",
   "execution_count": 37,
   "metadata": {
    "colab": {
     "base_uri": "https://localhost:8080/"
    },
    "id": "-FZfu5KcQjFS",
    "outputId": "e294ef78-1a7b-480b-d884-1b364ae4da9f"
   },
   "outputs": [
    {
     "name": "stdout",
     "output_type": "stream",
     "text": [
      "45/45 [==============================] - 1s 27ms/step - loss: 0.5656 - accuracy: 0.7443\n",
      "\n",
      "\n",
      "Test score: 0.5656017065048218\n",
      "Test accuracy: 0.7442578077316284\n"
     ]
    }
   ],
   "source": [
    "score = model.evaluate(X_valid, y_val, batch_size=512, verbose=1)\n",
    "print('\\n')\n",
    "print('Test score:', score[0])\n",
    "print('Test accuracy:', score[1])"
   ]
  },
  {
   "cell_type": "code",
   "execution_count": 38,
   "metadata": {
    "id": "7_G142LfQO4C"
   },
   "outputs": [],
   "source": [
    "result['name'].append('GRU + CNN optimizer=adam')\n",
    "result['loss'].append(score[0])\n",
    "result['accuracy'].append(score[1])"
   ]
  },
  {
   "cell_type": "markdown",
   "metadata": {
    "id": "axK2YkJqZGhB"
   },
   "source": [
    "# Result"
   ]
  },
  {
   "cell_type": "code",
   "execution_count": 39,
   "metadata": {
    "colab": {
     "base_uri": "https://localhost:8080/",
     "height": 300
    },
    "id": "Fd-7nvaaYlMa",
    "outputId": "6c3c42aa-1e78-4d0e-bcdf-ca918edf7ab5"
   },
   "outputs": [
    {
     "data": {
      "text/html": [
       "<div>\n",
       "<style scoped>\n",
       "    .dataframe tbody tr th:only-of-type {\n",
       "        vertical-align: middle;\n",
       "    }\n",
       "\n",
       "    .dataframe tbody tr th {\n",
       "        vertical-align: top;\n",
       "    }\n",
       "\n",
       "    .dataframe thead th {\n",
       "        text-align: right;\n",
       "    }\n",
       "</style>\n",
       "<table border=\"1\" class=\"dataframe\">\n",
       "  <thead>\n",
       "    <tr style=\"text-align: right;\">\n",
       "      <th></th>\n",
       "      <th>name</th>\n",
       "      <th>loss</th>\n",
       "      <th>accuracy</th>\n",
       "    </tr>\n",
       "  </thead>\n",
       "  <tbody>\n",
       "    <tr>\n",
       "      <th>0</th>\n",
       "      <td>SimpleRNN</td>\n",
       "      <td>0.586149</td>\n",
       "      <td>0.735926</td>\n",
       "    </tr>\n",
       "    <tr>\n",
       "      <th>1</th>\n",
       "      <td>LSTM</td>\n",
       "      <td>0.587330</td>\n",
       "      <td>0.736499</td>\n",
       "    </tr>\n",
       "    <tr>\n",
       "      <th>2</th>\n",
       "      <td>GRU</td>\n",
       "      <td>0.587566</td>\n",
       "      <td>0.739408</td>\n",
       "    </tr>\n",
       "    <tr>\n",
       "      <th>3</th>\n",
       "      <td>CNN</td>\n",
       "      <td>0.605819</td>\n",
       "      <td>0.504739</td>\n",
       "    </tr>\n",
       "    <tr>\n",
       "      <th>4</th>\n",
       "      <td>Add Dropout</td>\n",
       "      <td>0.560627</td>\n",
       "      <td>0.740511</td>\n",
       "    </tr>\n",
       "    <tr>\n",
       "      <th>5</th>\n",
       "      <td>CNN + RNN</td>\n",
       "      <td>0.579852</td>\n",
       "      <td>0.729225</td>\n",
       "    </tr>\n",
       "    <tr>\n",
       "      <th>6</th>\n",
       "      <td>GRU + CNN optimizer=adam</td>\n",
       "      <td>0.565602</td>\n",
       "      <td>0.744258</td>\n",
       "    </tr>\n",
       "  </tbody>\n",
       "</table>\n",
       "</div>"
      ],
      "text/plain": [
       "                       name      loss  accuracy\n",
       "0                 SimpleRNN  0.586149  0.735926\n",
       "1                      LSTM  0.587330  0.736499\n",
       "2                       GRU  0.587566  0.739408\n",
       "3                       CNN  0.605819  0.504739\n",
       "4               Add Dropout  0.560627  0.740511\n",
       "5                 CNN + RNN  0.579852  0.729225\n",
       "6  GRU + CNN optimizer=adam  0.565602  0.744258"
      ]
     },
     "execution_count": 39,
     "metadata": {},
     "output_type": "execute_result"
    }
   ],
   "source": [
    "df_result = pd.DataFrame(result)\n",
    "df_result"
   ]
  },
  {
   "cell_type": "markdown",
   "metadata": {
    "id": "BFY-6B4GQOMW"
   },
   "source": [
    "#Ответ:\n",
    "Лучший рез-т показала SimpleRNN - 0.741084."
   ]
  },
  {
   "cell_type": "markdown",
   "metadata": {
    "id": "8bHi91hrsxY2"
   },
   "source": [
    "3 подхода:\n",
    "\n",
    "<img src=\"images/RNNCompar.png\">\n",
    "\n",
    "\n",
    "Как регуляризовать?\n",
    "- дропаут\n",
    "- рекурентный дропаут\n",
    "\n",
    "\n",
    "<img src=\"images/Dropouts.png\">"
   ]
  }
 ],
 "metadata": {
  "colab": {
   "collapsed_sections": [],
   "name": "hw_les_8.ipynb",
   "provenance": []
  },
  "kernelspec": {
   "display_name": "myenv",
   "language": "python",
   "name": "myenv"
  },
  "language_info": {
   "codemirror_mode": {
    "name": "ipython",
    "version": 3
   },
   "file_extension": ".py",
   "mimetype": "text/x-python",
   "name": "python",
   "nbconvert_exporter": "python",
   "pygments_lexer": "ipython3",
   "version": "3.8.10"
  }
 },
 "nbformat": 4,
 "nbformat_minor": 4
}
