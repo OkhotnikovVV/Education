{
 "cells": [
  {
   "cell_type": "markdown",
   "metadata": {},
   "source": [
    "# Введение в обработку естественного языка"
   ]
  },
  {
   "cell_type": "markdown",
   "metadata": {},
   "source": [
    "## Урок 6. Классификация текста. Анализ тональности текста"
   ]
  },
  {
   "cell_type": "markdown",
   "metadata": {},
   "source": [
    "**Задание**\n",
    "Взять ноутбук colab_text_classification_part1.ipynb который разбирали на занятии и добавить пункты которые мы пропустили.\n",
    "1. Проверьте, повысилось ли качество на стандартных подходах при лемматизации / и без неё\n",
    "2. Удалите / (замените на тег) из текстов сущности (имена, локации, что-то ещё). Запустите классификатор и модельки на сеточках\n",
    "3. Сделайте выводы\n"
   ]
  },
  {
   "cell_type": "markdown",
   "metadata": {
    "id": "kqbkG4qoS0AB"
   },
   "source": [
    "# Классификация текстов\n",
    "\n",
    "Начнём с самого простого - анализа тональности текста.\n",
    "\n",
    "Будем классифицировать отзывы с IMDB на положительные/отрицательные.\n",
    "\n",
    "Датасет находится по [ссылке](https://drive.google.com/uc?export=download&id=1vrQ5czMHoO3pEnmofFskymXMkq_u1dPc)."
   ]
  },
  {
   "cell_type": "code",
   "execution_count": 1,
   "metadata": {
    "tags": []
   },
   "outputs": [],
   "source": [
    "import pandas as pd\n",
    "\n",
    "import warnings\n",
    "warnings.filterwarnings('ignore')\n",
    "warnings.simplefilter('ignore')"
   ]
  },
  {
   "cell_type": "code",
   "execution_count": 2,
   "metadata": {
    "colab": {
     "base_uri": "https://localhost:8080/"
    },
    "executionInfo": {
     "elapsed": 736,
     "status": "ok",
     "timestamp": 1674986894541,
     "user": {
      "displayName": "Maxim Gasilin",
      "userId": "15501735730920561422"
     },
     "user_tz": -180
    },
    "id": "5R9e3pctHIV2",
    "outputId": "96c0bd11-e9b0-40de-f8b1-5c1b05149299"
   },
   "outputs": [
    {
     "name": "stdout",
     "output_type": "stream",
     "text": [
      "Train size = 25000\n",
      "Test size = 25000\n"
     ]
    }
   ],
   "source": [
    "train_df = pd.read_csv(\"train.tsv\", delimiter=\"\\t\")\n",
    "test_df = pd.read_csv(\"test.tsv\", delimiter=\"\\t\")\n",
    "\n",
    "print('Train size = {}'.format(len(train_df)))\n",
    "print('Test size = {}'.format(len(test_df)))"
   ]
  },
  {
   "cell_type": "markdown",
   "metadata": {
    "id": "6oHbJCPPwhjp"
   },
   "source": [
    "Посмотрите глазами на тексты? Какие есть зацепки, как определить, что это за сентимент?\n",
    "\n",
    "Самое простое, как всегда - найти ключевые слова."
   ]
  },
  {
   "cell_type": "code",
   "execution_count": 3,
   "metadata": {
    "colab": {
     "base_uri": "https://localhost:8080/"
    },
    "executionInfo": {
     "elapsed": 569,
     "status": "ok",
     "timestamp": 1674987242234,
     "user": {
      "displayName": "Maxim Gasilin",
      "userId": "15501735730920561422"
     },
     "user_tz": -180
    },
    "id": "DywUCyMLr_TD",
    "outputId": "b63a231b-c75d-42a4-a893-33e7d6a95085"
   },
   "outputs": [
    {
     "name": "stdout",
     "output_type": "stream",
     "text": [
      "Test accuracy = 66.73%\n"
     ]
    }
   ],
   "source": [
    "#@title Начинаем классифицировать! { vertical-output: true, display-mode: \"form\" }\n",
    "positive_words = 'love', 'great', 'best', 'wonderful' #@param {type:\"raw\"}\n",
    "negative_words = 'worst', 'awful', '1/10', 'crap' #@param {type:\"raw\"}\n",
    "\n",
    "positives_count = test_df.review.apply(lambda text: sum(word in text for word in positive_words))\n",
    "negatives_count = test_df.review.apply(lambda text: sum(word in text for word in negative_words))\n",
    "is_positive = positives_count > negatives_count\n",
    "correct_count = (is_positive == test_df.is_positive).values.sum()\n",
    "\n",
    "accuracy = correct_count / len(test_df)\n",
    "\n",
    "print('Test accuracy = {:.2%}'.format(accuracy))\n",
    "if accuracy > 0.71:\n",
    "    from IPython.display import Image, display\n",
    "    display(Image('https://s3.amazonaws.com/achgen360/t/rmmoZsub.png', width=500))"
   ]
  },
  {
   "cell_type": "markdown",
   "metadata": {
    "id": "Oo8HRABxv1kW"
   },
   "source": [
    "**Задание** Придумайте хорошие ключевые слова или фразы и наберите хотя бы 71% точности на тесте (и не забудьте посмотреть на код классификации!)"
   ]
  },
  {
   "cell_type": "markdown",
   "metadata": {
    "id": "Hqa9iD18PuX5"
   },
   "source": [
    "Пойдём простым путём - возьмём те слова, которые на уроке были выявлены, как максимально позитивные и максимально негативные."
   ]
  },
  {
   "cell_type": "code",
   "execution_count": 4,
   "metadata": {
    "colab": {
     "base_uri": "https://localhost:8080/"
    },
    "executionInfo": {
     "elapsed": 2912,
     "status": "ok",
     "timestamp": 1674991128139,
     "user": {
      "displayName": "Maxim Gasilin",
      "userId": "15501735730920561422"
     },
     "user_tz": -180
    },
    "id": "PFRa64QOpvKi",
    "outputId": "55f81726-445f-4149-f12a-720ab99ccf70"
   },
   "outputs": [
    {
     "name": "stdout",
     "output_type": "stream",
     "text": [
      "correct count:18931, len(test_df):25000.\n",
      "Test accuracy = 75.72%\n"
     ]
    }
   ],
   "source": [
    "positive_words = ('love', 'great', 'best', '7/10', '810', 'refreshing', 'wonderfully', 'funniest',\n",
    "                  'erotic', 'excellent', 'carrey', 'flawless', 'hooked',\n",
    "                  'superb', 'perfect', 'subtle', 'highly', 'vengeance',\n",
    "                  'incredible', 'surprisingly', 'perfectly', 'rare', 'driven',\n",
    "                  'finest', 'australia', 'touching', 'favorite', 'appreciated',\n",
    "                  'chavez', 'enjoyable', 'scariest', '9/10', 'underrated',\n",
    "                  '10/10', 'amazing', 'steals', 'tears', 'whoopi', 'delightful',\n",
    "                  'flight', 'squirrel', 'units', 'kitty', 'enjoyed',\n",
    "                  'dealing', 'bound')\n",
    "\n",
    "\n",
    "negative_words = ('4/10', 'disappointment', '3/10', 'waste', 'poorly', 'worst', 'lacks',\n",
    "                   '2/10','laughable', 'fails', 'awful', 'avoid', 'boring',\n",
    "                   'disappointing', 'forgettable', '2/10', 'alright', 'unfunny',\n",
    "                   'pointless', 'mediocre', 'lame', 'save', 'lousy', 'mst3k',\n",
    "                   'horrible', 'badly', 'wooden', 'weak', 'baldwin', 'redeeming',\n",
    "                   'mildly', 'dull', 'worse', 'mess', 'dreadful', 'britney',\n",
    "                   '1/10', 'annoying', 'unwatchable', 'photo', 'poor', 'generous',\n",
    "                   'sources', 'terrible', 'bored', 'boredom', 'insult', 'wonder',\n",
    "                   'uninteresting', 'ridiculous', 'cardboard', 'unfortunately',\n",
    "                   'miscast', 'ludicrous', 'refer', 'hoping', 'obnoxious', 'basically')\n",
    "\n",
    "\n",
    "positives_count = test_df.review.apply(lambda text: sum(word in text for word in positive_words))\n",
    "negatives_count = test_df.review.apply(lambda text: sum(word in text for word in negative_words))\n",
    "\n",
    "is_positive = positives_count > negatives_count\n",
    "\n",
    "correct_count = (is_positive == test_df.is_positive).values.sum()\n",
    "print(f'correct count:{correct_count}, len(test_df):{len(test_df)}.')\n",
    "\n",
    "accuracy = correct_count / len(test_df)\n",
    "print('Test accuracy = {:.2%}'.format(accuracy))"
   ]
  },
  {
   "cell_type": "markdown",
   "metadata": {
    "id": "eaIrBClMUHZB"
   },
   "source": [
    "**Задание** Кому-нибудь нравятся эти `<br /><br />`? Лично мне - нет. Напишите регулярку, которая будет их удалять"
   ]
  },
  {
   "cell_type": "code",
   "execution_count": 5,
   "metadata": {
    "colab": {
     "base_uri": "https://localhost:8080/"
    },
    "executionInfo": {
     "elapsed": 283,
     "status": "ok",
     "timestamp": 1674986646723,
     "user": {
      "displayName": "Maxim Gasilin",
      "userId": "15501735730920561422"
     },
     "user_tz": -180
    },
    "id": "09OkUmtde6ny",
    "outputId": "f67b354e-4259-404a-9768-a7a06a7360b5"
   },
   "outputs": [
    {
     "name": "stdout",
     "output_type": "stream",
     "text": [
      "This show comes up with interesting locations as fast as the travel channel. It is billed as reality but in actuality it is pure prime time soap opera. It's tries to use exotic locales as a facade to bring people into a phony contest & then proceeds to hook viewers on the contestants soap opera style.<br /><br />It also borrows from an early CBS game show pioneer- Beat The Clock- by inventing situations for its contestants to try & overcome. Then it rewards the winner money. If they can spice it up with a little interaction between the characters, even better. While the game format is in slow motion versus Beat The Clock- the real accomplishment of this series is to escape reality. <br /><br />This show has elements of several types of successful past programs. Reality television, hardly, but if your hooked on the contestants, locale or contest, this is your cup of tea. If your not, this entire series is as I say, drivel dripping with gravy. It is another show hiding behind the reality label which is the trend it started in 2000.<br /><br />It is slick & well produced, so it might last a while yet. After all, so do re-runs of Gilligan's Island, Green Acres, The Beverly Hillbillies & The Brady Bunch. This just doesn't employ professional actors. The intelligence level is about the same.\n",
      "------------------\n",
      "This show comes up with interesting locations as fast as the travel channel. It is billed as reality but in actuality it is pure prime time soap opera. It's tries to use exotic locales as a facade to bring people into a phony contest & then proceeds to hook viewers on the contestants soap opera style.  It also borrows from an early CBS game show pioneer- Beat The Clock- by inventing situations for its contestants to try & overcome. Then it rewards the winner money. If they can spice it up with a little interaction between the characters, even better. While the game format is in slow motion versus Beat The Clock- the real accomplishment of this series is to escape reality.   This show has elements of several types of successful past programs. Reality television, hardly, but if your hooked on the contestants, locale or contest, this is your cup of tea. If your not, this entire series is as I say, drivel dripping with gravy. It is another show hiding behind the reality label which is the trend it started in 2000.  It is slick & well produced, so it might last a while yet. After all, so do re-runs of Gilligan's Island, Green Acres, The Beverly Hillbillies & The Brady Bunch. This just doesn't employ professional actors. The intelligence level is about the same.\n",
      "------------------\n"
     ]
    }
   ],
   "source": [
    "import re\n",
    "\n",
    "pattern = re.compile('<br\\s?\\/>|<br>')\n",
    "\n",
    "print(train_df['review'].iloc[1])\n",
    "print('------------------')\n",
    "\n",
    "print(pattern.subn(' ', train_df['review'].iloc[1])[0])\n",
    "print('------------------')"
   ]
  },
  {
   "cell_type": "markdown",
   "metadata": {
    "id": "vO6D9NuMi4II"
   },
   "source": [
    "Применим ее:"
   ]
  },
  {
   "cell_type": "code",
   "execution_count": 6,
   "metadata": {
    "executionInfo": {
     "elapsed": 290,
     "status": "ok",
     "timestamp": 1674986649095,
     "user": {
      "displayName": "Maxim Gasilin",
      "userId": "15501735730920561422"
     },
     "user_tz": -180
    },
    "id": "7LTwQqs_hD-K"
   },
   "outputs": [],
   "source": [
    "train_df['review'] = train_df['review'].apply(lambda text: pattern.subn(' ', text)[0])\n",
    "test_df['review'] = test_df['review'].apply(lambda text: pattern.subn(' ', text)[0])"
   ]
  },
  {
   "cell_type": "markdown",
   "metadata": {
    "id": "D1yPbQcpraO2"
   },
   "source": [
    "### Сделаем дополнительную предобработку текста"
   ]
  },
  {
   "cell_type": "code",
   "execution_count": 7,
   "metadata": {
    "colab": {
     "base_uri": "https://localhost:8080/"
    },
    "executionInfo": {
     "elapsed": 2624,
     "status": "ok",
     "timestamp": 1674986652872,
     "user": {
      "displayName": "Maxim Gasilin",
      "userId": "15501735730920561422"
     },
     "user_tz": -180
    },
    "id": "Wgw9c7uDrsWa",
    "outputId": "28ee9e3e-7800-4ee2-ee74-6b6976c2ea4e"
   },
   "outputs": [
    {
     "data": {
      "text/plain": [
       "True"
      ]
     },
     "execution_count": 7,
     "metadata": {},
     "output_type": "execute_result"
    }
   ],
   "source": [
    "import nltk\n",
    "from nltk.corpus import stopwords\n",
    "\n",
    "nltk.download('stopwords', quiet=True)"
   ]
  },
  {
   "cell_type": "code",
   "execution_count": 8,
   "metadata": {
    "executionInfo": {
     "elapsed": 265,
     "status": "ok",
     "timestamp": 1674986654342,
     "user": {
      "displayName": "Maxim Gasilin",
      "userId": "15501735730920561422"
     },
     "user_tz": -180
    },
    "id": "zqhU19a8rUwX"
   },
   "outputs": [],
   "source": [
    "tokenizer = nltk.tokenize.WordPunctTokenizer()\n",
    "mystopwords = stopwords.words(\"english\") + ['the', 'a']\n",
    "\n",
    "def remove_punktuation(text):\n",
    "    return re.sub(r'[^\\w\\s\\d]', '', text)\n",
    "\n",
    "def lower_case(text):\n",
    "    text = str(text).lower()\n",
    "    return ' '.join(tokenizer.tokenize(text))\n",
    "\n",
    "def remove_stopwords(text):\n",
    "    text = tokenizer.tokenize(text)\n",
    "    text = [w for w in text if w not in mystopwords]\n",
    "    return ' '.join(text)\n",
    "    \n",
    "def normalize(text):\n",
    "    text = remove_punktuation(text)\n",
    "    text = lower_case(text)\n",
    "    text = remove_stopwords(text)\n",
    "    return text"
   ]
  },
  {
   "cell_type": "code",
   "execution_count": 9,
   "metadata": {
    "executionInfo": {
     "elapsed": 19587,
     "status": "ok",
     "timestamp": 1674986676042,
     "user": {
      "displayName": "Maxim Gasilin",
      "userId": "15501735730920561422"
     },
     "user_tz": -180
    },
    "id": "L-tevpuOrhqy"
   },
   "outputs": [],
   "source": [
    "train_df['review'] = train_df['review'].apply(normalize)\n",
    "test_df['review'] = test_df['review'].apply(normalize)"
   ]
  },
  {
   "cell_type": "markdown",
   "metadata": {
    "id": "vGxzf4oXmXqw"
   },
   "source": [
    "Пора переходить к машинке!\n",
    "\n",
    "Как будем представлять текст? Проще всего - мешком слов.\n",
    "\n",
    "Заведём большой-большой словарь - список всех слов в обучающей выборке. Тогда каждое предложение можно представить в виде вектора, в котором будет записано, сколько раз встретилось каждое из возможных слов:\n",
    "\n",
    "![bow](https://raw.githubusercontent.com/DanAnastasyev/DeepNLP-Course/master/Week%2001/Images/BOW.png)\n",
    "\n",
    "Простой и приятный способ сделать это - запихнуть тексты в `CountVectorizer`.\n",
    "\n",
    "Он имеет такую сигнатуру:\n",
    "\n",
    "```python\n",
    "CountVectorizer(input='content', encoding='utf-8', decode_error='strict', strip_accents=None, lowercase=True, preprocessor=None, tokenizer=None, stop_words=None, token_pattern=r'(?u)\\b\\w\\w+\\b', ngram_range=(1, 1), analyzer='word', max_df=1.0, min_df=1, max_features=None, vocabulary=None, binary=False, dtype=<class ‘numpy.int64'>)\n",
    "```\n",
    "\n",
    "Для начала обратим внимание на параметры `lowercase=True` и `max_df=1.0, min_df=1, max_features=None` - они про то, что по умолчанию все слова будут приводиться к нижнему регистру и в словарь попадут все слова, встречавшиеся в текстах.\n",
    "\n",
    "При желании можно было бы убрать слишком редкие или слишком частотные слова - пока не будем этого делать.\n",
    "\n",
    "Посмотрим на простом примере, как он будет работать:"
   ]
  },
  {
   "cell_type": "code",
   "execution_count": 10,
   "metadata": {
    "colab": {
     "base_uri": "https://localhost:8080/"
    },
    "executionInfo": {
     "elapsed": 253,
     "status": "ok",
     "timestamp": 1674986683522,
     "user": {
      "displayName": "Maxim Gasilin",
      "userId": "15501735730920561422"
     },
     "user_tz": -180
    },
    "id": "5Odnum4iyGDr",
    "outputId": "d2dcb9f6-ab49-4e57-bc0b-4487087d7075"
   },
   "outputs": [
    {
     "name": "stdout",
     "output_type": "stream",
     "text": [
      "[[0 1 1 1 1]\n",
      " [1 0 1 1 1]]\n",
      "['awful', 'excellent', 'movie', 'the', 'was']\n"
     ]
    }
   ],
   "source": [
    "from sklearn.feature_extraction.text import CountVectorizer\n",
    "\n",
    "vectorizer = CountVectorizer()\n",
    "\n",
    "dummy_data = ['The movie was excellent',\n",
    "              'the movie was awful']\n",
    "\n",
    "dummy_matrix = vectorizer.fit_transform(dummy_data)\n",
    "\n",
    "print(dummy_matrix.toarray())\n",
    "print(vectorizer.get_feature_names())"
   ]
  },
  {
   "cell_type": "markdown",
   "metadata": {
    "id": "q3zC1ItWybVc"
   },
   "source": [
    "*Как именно vectorizer определяет границы слов? Обратите внимание на параметр `token_pattern=r'(?u)\\b\\w\\w+\\b'` - как он будет работать?*\n",
    "\n",
    "Запустим его на реальных данных:"
   ]
  },
  {
   "cell_type": "code",
   "execution_count": 11,
   "metadata": {
    "colab": {
     "base_uri": "https://localhost:8080/"
    },
    "executionInfo": {
     "elapsed": 2445,
     "status": "ok",
     "timestamp": 1674986688224,
     "user": {
      "displayName": "Maxim Gasilin",
      "userId": "15501735730920561422"
     },
     "user_tz": -180
    },
    "id": "Ccd2gaCdQq2W",
    "outputId": "ca08383f-29d7-441a-a0a3-9670eb97effb"
   },
   "outputs": [
    {
     "data": {
      "text/plain": [
       "CountVectorizer()"
      ]
     },
     "execution_count": 11,
     "metadata": {},
     "output_type": "execute_result"
    }
   ],
   "source": [
    "vectorizer = CountVectorizer()\n",
    "vectorizer.fit(train_df['review'].values)"
   ]
  },
  {
   "cell_type": "markdown",
   "metadata": {
    "id": "J_JC9n6C0bFR"
   },
   "source": [
    "Посмотрим на первые сто слов, попавшие в словарь:"
   ]
  },
  {
   "cell_type": "code",
   "execution_count": 12,
   "metadata": {
    "colab": {
     "base_uri": "https://localhost:8080/"
    },
    "executionInfo": {
     "elapsed": 258,
     "status": "ok",
     "timestamp": 1674986689883,
     "user": {
      "displayName": "Maxim Gasilin",
      "userId": "15501735730920561422"
     },
     "user_tz": -180
    },
    "id": "stV4ICO3mKsf",
    "outputId": "b05f34f7-190c-4502-ba0b-ba68fa57fdbb"
   },
   "outputs": [
    {
     "data": {
      "text/plain": [
       "['00',\n",
       " '000',\n",
       " '0000000000001',\n",
       " '000001',\n",
       " '00000110',\n",
       " '0001',\n",
       " '00015',\n",
       " '001',\n",
       " '0010',\n",
       " '002',\n",
       " '00383042',\n",
       " '006',\n",
       " '007',\n",
       " '0079',\n",
       " '0080',\n",
       " '0083',\n",
       " '00s',\n",
       " '01',\n",
       " '010',\n",
       " '01000',\n",
       " '010makes',\n",
       " '0110',\n",
       " '012310',\n",
       " '0130',\n",
       " '013007',\n",
       " '02',\n",
       " '029',\n",
       " '03',\n",
       " '0310',\n",
       " '03oct2009',\n",
       " '04',\n",
       " '041',\n",
       " '048',\n",
       " '05',\n",
       " '050',\n",
       " '0510',\n",
       " '053105',\n",
       " '06',\n",
       " '06th',\n",
       " '07',\n",
       " '079',\n",
       " '07kiloton',\n",
       " '08',\n",
       " '081006',\n",
       " '087',\n",
       " '089',\n",
       " '08th',\n",
       " '09',\n",
       " '09082009',\n",
       " '091505',\n",
       " '0f',\n",
       " '0ne',\n",
       " '0r',\n",
       " '0s',\n",
       " '0stars',\n",
       " '0when',\n",
       " '10',\n",
       " '100',\n",
       " '1000',\n",
       " '10000',\n",
       " '100000',\n",
       " '1000000',\n",
       " '10000000',\n",
       " '1000000000000',\n",
       " '1000000000000010000000000000',\n",
       " '10002000',\n",
       " '1000lb',\n",
       " '1000s',\n",
       " '1001',\n",
       " '100200',\n",
       " '100am',\n",
       " '100b',\n",
       " '100hell',\n",
       " '100kin',\n",
       " '100m',\n",
       " '100min',\n",
       " '100minute',\n",
       " '100mph',\n",
       " '100percent',\n",
       " '100plus',\n",
       " '100s',\n",
       " '100square',\n",
       " '100th',\n",
       " '100thgrade',\n",
       " '100x',\n",
       " '100yards',\n",
       " '100year',\n",
       " '100yearold',\n",
       " '100years',\n",
       " '101',\n",
       " '1010',\n",
       " '1010seek',\n",
       " '1011',\n",
       " '1012',\n",
       " '1013',\n",
       " '1014',\n",
       " '101499',\n",
       " '1015',\n",
       " '101503',\n",
       " '101575']"
      ]
     },
     "execution_count": 12,
     "metadata": {},
     "output_type": "execute_result"
    }
   ],
   "source": [
    "vectorizer.get_feature_names()[:100]"
   ]
  },
  {
   "cell_type": "markdown",
   "metadata": {
    "id": "oesbuQ9g0krj"
   },
   "source": [
    "Попробуем кого-нибудь таки сконвертировать"
   ]
  },
  {
   "cell_type": "code",
   "execution_count": 13,
   "metadata": {
    "colab": {
     "base_uri": "https://localhost:8080/"
    },
    "executionInfo": {
     "elapsed": 244,
     "status": "ok",
     "timestamp": 1674986692969,
     "user": {
      "displayName": "Maxim Gasilin",
      "userId": "15501735730920561422"
     },
     "user_tz": -180
    },
    "id": "lUWtDWcp0g7U",
    "outputId": "48b58452-a62b-451f-9bb7-1572fcfd3ec5"
   },
   "outputs": [
    {
     "data": {
      "text/plain": [
       "<1x111517 sparse matrix of type '<class 'numpy.int64'>'\n",
       "\twith 157 stored elements in Compressed Sparse Row format>"
      ]
     },
     "execution_count": 13,
     "metadata": {},
     "output_type": "execute_result"
    }
   ],
   "source": [
    "vectorizer.transform([train_df['review'].iloc[3]])"
   ]
  },
  {
   "cell_type": "markdown",
   "metadata": {
    "id": "lZCRef3pyCRC"
   },
   "source": [
    "То, что и хотели - вектор с bow (т.е. bag-of-words) представлением исходного текста.\n",
    "\n",
    "И чем эта информация может помочь? Ну, всё тем же - какие-то слова носят положительный окрас, какие-то - отрицательный. Большинство вообще нейтральный, да.\n",
    "\n",
    "![bow with weights](https://github.com/DanAnastasyev/DeepNLP-Course/raw/master/Week%2001/Images/BOW_weights.png)\n",
    "\n",
    "Хочется, наверное, подобрать коэффициенты, которые будут определять уровень окраса, да? Подбирать нужно по обучающей выборке, а не как мы перед этим делали.\n",
    "\n",
    "Например, для выборки\n",
    "```\n",
    "1   The movie was excellent\n",
    "0   the movie was awful\n",
    "```\n",
    "легко подобрать коэффициенты на глазок: что-нибудь вроде `+1` для `excellent`,  `-1` для `awful` и по нулям всем остальным.\n",
    "\n",
    "Построим линейную модель, которая станет этим заниматься. Она будет учиться строить разделяющую гиперплоскость в пространстве bow-векторов.\n",
    "\n",
    "Проверим, как справится логистическая регрессия с нашей супер-выборкой из пары предложений"
   ]
  },
  {
   "cell_type": "code",
   "execution_count": 14,
   "metadata": {
    "colab": {
     "base_uri": "https://localhost:8080/"
    },
    "executionInfo": {
     "elapsed": 375,
     "status": "ok",
     "timestamp": 1674986696578,
     "user": {
      "displayName": "Maxim Gasilin",
      "userId": "15501735730920561422"
     },
     "user_tz": -180
    },
    "id": "i6WVgK4LtUn2",
    "outputId": "c0eb49fb-2397-453b-e75d-70b9bce9645a"
   },
   "outputs": [
    {
     "name": "stdout",
     "output_type": "stream",
     "text": [
      "['awful', 'excellent', 'movie', 'the', 'was']\n",
      "[[-0.40104279  0.40104279  0.          0.          0.        ]]\n"
     ]
    }
   ],
   "source": [
    "from sklearn.linear_model import LogisticRegression\n",
    "from sklearn.pipeline import Pipeline\n",
    "\n",
    "dummy_data = ['The movie was excellent',\n",
    "              'the movie was awful']\n",
    "dummy_labels = [1, 0]\n",
    "\n",
    "vectorizer = CountVectorizer()\n",
    "classifier = LogisticRegression()\n",
    "\n",
    "model = Pipeline([\n",
    "    ('vectorizer', vectorizer),\n",
    "    ('classifier', classifier)\n",
    "])\n",
    "\n",
    "model.fit(dummy_data, dummy_labels)\n",
    "\n",
    "print(vectorizer.get_feature_names())\n",
    "print(classifier.coef_)"
   ]
  },
  {
   "cell_type": "markdown",
   "metadata": {
    "id": "C9Y-kq-tv-XY"
   },
   "source": [
    "Получилось что надо.\n",
    "\n",
    "Запустим теперь её на реальных данных."
   ]
  },
  {
   "cell_type": "code",
   "execution_count": 15,
   "metadata": {
    "colab": {
     "base_uri": "https://localhost:8080/"
    },
    "executionInfo": {
     "elapsed": 10443,
     "status": "ok",
     "timestamp": 1674986709797,
     "user": {
      "displayName": "Maxim Gasilin",
      "userId": "15501735730920561422"
     },
     "user_tz": -180
    },
    "id": "kvxHIIbSiUXq",
    "outputId": "e5c758f1-9c7c-450d-fca4-00fa38f27b02"
   },
   "outputs": [
    {
     "data": {
      "text/plain": [
       "Pipeline(steps=[('vectorizer', CountVectorizer()),\n",
       "                ('classifier', LogisticRegression())])"
      ]
     },
     "execution_count": 15,
     "metadata": {},
     "output_type": "execute_result"
    }
   ],
   "source": [
    "model.fit(train_df['review'], train_df['is_positive'])"
   ]
  },
  {
   "cell_type": "code",
   "execution_count": 16,
   "metadata": {
    "colab": {
     "base_uri": "https://localhost:8080/"
    },
    "executionInfo": {
     "elapsed": 2182,
     "status": "ok",
     "timestamp": 1674986714113,
     "user": {
      "displayName": "Maxim Gasilin",
      "userId": "15501735730920561422"
     },
     "user_tz": -180
    },
    "id": "-d3BBV_uUu-O",
    "outputId": "60dbf9ce-89f7-415d-977a-fe526822d554"
   },
   "outputs": [
    {
     "name": "stdout",
     "output_type": "stream",
     "text": [
      "Test accuracy = 86.99%\n"
     ]
    }
   ],
   "source": [
    "from sklearn.metrics import accuracy_score\n",
    "\n",
    "def eval_model(model, test_df):\n",
    "    preds = model.predict(test_df['review'])\n",
    "    print('Test accuracy = {:.2%}'.format(accuracy_score(test_df['is_positive'], preds)))\n",
    "    \n",
    "eval_model(model, test_df)"
   ]
  },
  {
   "cell_type": "markdown",
   "metadata": {
    "id": "Pnmmz3u71ctO"
   },
   "source": [
    "Прогресс!\n",
    "\n",
    "Хочется как-то посмотреть, что заинтересовало классификатор. К счастью, сделать это совсем просто:"
   ]
  },
  {
   "cell_type": "code",
   "execution_count": 17,
   "metadata": {
    "colab": {
     "base_uri": "https://localhost:8080/",
     "height": 299
    },
    "executionInfo": {
     "elapsed": 252,
     "status": "ok",
     "timestamp": 1674990935793,
     "user": {
      "displayName": "Maxim Gasilin",
      "userId": "15501735730920561422"
     },
     "user_tz": -180
    },
    "id": "8W1Ngl-aVuYx",
    "outputId": "5f7b4cc2-3106-4fc0-d558-cf48bccf077c"
   },
   "outputs": [
    {
     "data": {
      "text/html": [
       "\n",
       "    <style>\n",
       "    table.eli5-weights tr:hover {\n",
       "        filter: brightness(85%);\n",
       "    }\n",
       "</style>\n",
       "\n",
       "\n",
       "\n",
       "    \n",
       "\n",
       "    \n",
       "\n",
       "    \n",
       "\n",
       "    \n",
       "\n",
       "    \n",
       "\n",
       "    \n",
       "\n",
       "\n",
       "    \n",
       "\n",
       "    \n",
       "\n",
       "    \n",
       "\n",
       "    \n",
       "        \n",
       "\n",
       "    \n",
       "\n",
       "        \n",
       "            \n",
       "                \n",
       "                \n",
       "    \n",
       "        <p style=\"margin-bottom: 0.5em; margin-top: 0em\">\n",
       "            <b>\n",
       "    \n",
       "        y=1\n",
       "    \n",
       "</b>\n",
       "\n",
       "top features\n",
       "        </p>\n",
       "    \n",
       "    <table class=\"eli5-weights\"\n",
       "           style=\"border-collapse: collapse; border: none; margin-top: 0em; table-layout: auto; margin-bottom: 2em;\">\n",
       "        <thead>\n",
       "        <tr style=\"border: none;\">\n",
       "            \n",
       "                <th style=\"padding: 0 1em 0 0.5em; text-align: right; border: none;\" title=\"Feature weights. Note that weights do not account for feature value scales, so if feature values have different scales, features with highest weights might not be the most important.\">\n",
       "                    Weight<sup>?</sup>\n",
       "                </th>\n",
       "            \n",
       "            <th style=\"padding: 0 0.5em 0 0.5em; text-align: left; border: none;\">Feature</th>\n",
       "            \n",
       "        </tr>\n",
       "        </thead>\n",
       "        <tbody>\n",
       "        \n",
       "            <tr style=\"background-color: hsl(120, 100.00%, 80.00%); border: none;\">\n",
       "    <td style=\"padding: 0 1em 0 0.5em; text-align: right; border: none;\">\n",
       "        +2.728\n",
       "    </td>\n",
       "    <td style=\"padding: 0 0.5em 0 0.5em; text-align: left; border: none;\">\n",
       "        710\n",
       "    </td>\n",
       "    \n",
       "</tr>\n",
       "        \n",
       "            <tr style=\"background-color: hsl(120, 100.00%, 85.70%); border: none;\">\n",
       "    <td style=\"padding: 0 1em 0 0.5em; text-align: right; border: none;\">\n",
       "        +1.689\n",
       "    </td>\n",
       "    <td style=\"padding: 0 0.5em 0 0.5em; text-align: left; border: none;\">\n",
       "        810\n",
       "    </td>\n",
       "    \n",
       "</tr>\n",
       "        \n",
       "            <tr style=\"background-color: hsl(120, 100.00%, 86.21%); border: none;\">\n",
       "    <td style=\"padding: 0 1em 0 0.5em; text-align: right; border: none;\">\n",
       "        +1.603\n",
       "    </td>\n",
       "    <td style=\"padding: 0 0.5em 0 0.5em; text-align: left; border: none;\">\n",
       "        refreshing\n",
       "    </td>\n",
       "    \n",
       "</tr>\n",
       "        \n",
       "        \n",
       "            <tr style=\"background-color: hsl(120, 100.00%, 86.21%); border: none;\">\n",
       "                <td colspan=\"2\" style=\"padding: 0 0.5em 0 0.5em; text-align: center; border: none; white-space: nowrap;\">\n",
       "                    <i>&hellip; 56430 more positive &hellip;</i>\n",
       "                </td>\n",
       "            </tr>\n",
       "        \n",
       "\n",
       "        \n",
       "            <tr style=\"background-color: hsl(0, 100.00%, 86.14%); border: none;\">\n",
       "                <td colspan=\"2\" style=\"padding: 0 0.5em 0 0.5em; text-align: center; border: none; white-space: nowrap;\">\n",
       "                    <i>&hellip; 55078 more negative &hellip;</i>\n",
       "                </td>\n",
       "            </tr>\n",
       "        \n",
       "        \n",
       "            <tr style=\"background-color: hsl(0, 100.00%, 86.14%); border: none;\">\n",
       "    <td style=\"padding: 0 1em 0 0.5em; text-align: right; border: none;\">\n",
       "        -1.616\n",
       "    </td>\n",
       "    <td style=\"padding: 0 0.5em 0 0.5em; text-align: left; border: none;\">\n",
       "        lacks\n",
       "    </td>\n",
       "    \n",
       "</tr>\n",
       "        \n",
       "            <tr style=\"background-color: hsl(0, 100.00%, 84.87%); border: none;\">\n",
       "    <td style=\"padding: 0 1em 0 0.5em; text-align: right; border: none;\">\n",
       "        -1.832\n",
       "    </td>\n",
       "    <td style=\"padding: 0 0.5em 0 0.5em; text-align: left; border: none;\">\n",
       "        poorly\n",
       "    </td>\n",
       "    \n",
       "</tr>\n",
       "        \n",
       "            <tr style=\"background-color: hsl(0, 100.00%, 84.38%); border: none;\">\n",
       "    <td style=\"padding: 0 1em 0 0.5em; text-align: right; border: none;\">\n",
       "        -1.916\n",
       "    </td>\n",
       "    <td style=\"padding: 0 0.5em 0 0.5em; text-align: left; border: none;\">\n",
       "        310\n",
       "    </td>\n",
       "    \n",
       "</tr>\n",
       "        \n",
       "            <tr style=\"background-color: hsl(0, 100.00%, 83.11%); border: none;\">\n",
       "    <td style=\"padding: 0 1em 0 0.5em; text-align: right; border: none;\">\n",
       "        -2.143\n",
       "    </td>\n",
       "    <td style=\"padding: 0 0.5em 0 0.5em; text-align: left; border: none;\">\n",
       "        disappointment\n",
       "    </td>\n",
       "    \n",
       "</tr>\n",
       "        \n",
       "            <tr style=\"background-color: hsl(0, 100.00%, 82.78%); border: none;\">\n",
       "    <td style=\"padding: 0 1em 0 0.5em; text-align: right; border: none;\">\n",
       "        -2.203\n",
       "    </td>\n",
       "    <td style=\"padding: 0 0.5em 0 0.5em; text-align: left; border: none;\">\n",
       "        worst\n",
       "    </td>\n",
       "    \n",
       "</tr>\n",
       "        \n",
       "            <tr style=\"background-color: hsl(0, 100.00%, 82.65%); border: none;\">\n",
       "    <td style=\"padding: 0 1em 0 0.5em; text-align: right; border: none;\">\n",
       "        -2.226\n",
       "    </td>\n",
       "    <td style=\"padding: 0 0.5em 0 0.5em; text-align: left; border: none;\">\n",
       "        waste\n",
       "    </td>\n",
       "    \n",
       "</tr>\n",
       "        \n",
       "            <tr style=\"background-color: hsl(0, 100.00%, 80.35%); border: none;\">\n",
       "    <td style=\"padding: 0 1em 0 0.5em; text-align: right; border: none;\">\n",
       "        -2.660\n",
       "    </td>\n",
       "    <td style=\"padding: 0 0.5em 0 0.5em; text-align: left; border: none;\">\n",
       "        410\n",
       "    </td>\n",
       "    \n",
       "</tr>\n",
       "        \n",
       "\n",
       "        </tbody>\n",
       "    </table>\n",
       "\n",
       "            \n",
       "        \n",
       "\n",
       "        \n",
       "\n",
       "\n",
       "\n",
       "    \n",
       "\n",
       "    \n",
       "\n",
       "    \n",
       "\n",
       "    \n",
       "\n",
       "\n",
       "    \n",
       "\n",
       "    \n",
       "\n",
       "    \n",
       "\n",
       "    \n",
       "\n",
       "    \n",
       "\n",
       "    \n",
       "\n",
       "\n",
       "    \n",
       "\n",
       "    \n",
       "\n",
       "    \n",
       "\n",
       "    \n",
       "\n",
       "    \n",
       "\n",
       "    \n",
       "\n",
       "\n",
       "\n"
      ],
      "text/plain": [
       "<IPython.core.display.HTML object>"
      ]
     },
     "execution_count": 17,
     "metadata": {},
     "output_type": "execute_result"
    }
   ],
   "source": [
    "import eli5\n",
    "eli5.show_weights(classifier, vec=vectorizer, top=10)"
   ]
  },
  {
   "cell_type": "markdown",
   "metadata": {
    "id": "0VgCE9tDk-aO"
   },
   "source": [
    "Посмотрим на конкретные примеры его работы:"
   ]
  },
  {
   "cell_type": "code",
   "execution_count": 18,
   "metadata": {
    "colab": {
     "base_uri": "https://localhost:8080/",
     "height": 396
    },
    "executionInfo": {
     "elapsed": 275,
     "status": "ok",
     "timestamp": 1674991155111,
     "user": {
      "displayName": "Maxim Gasilin",
      "userId": "15501735730920561422"
     },
     "user_tz": -180
    },
    "id": "v-4sVWBOWJpo",
    "outputId": "b0479db1-ca5b-492f-e01b-26f2ce7d12bd"
   },
   "outputs": [
    {
     "name": "stdout",
     "output_type": "stream",
     "text": [
      "Positive\n"
     ]
    },
    {
     "data": {
      "text/html": [
       "\n",
       "    <style>\n",
       "    table.eli5-weights tr:hover {\n",
       "        filter: brightness(85%);\n",
       "    }\n",
       "</style>\n",
       "\n",
       "\n",
       "\n",
       "    \n",
       "\n",
       "    \n",
       "\n",
       "    \n",
       "\n",
       "    \n",
       "\n",
       "    \n",
       "\n",
       "    \n",
       "\n",
       "\n",
       "    \n",
       "\n",
       "    \n",
       "\n",
       "    \n",
       "\n",
       "    \n",
       "        \n",
       "\n",
       "    \n",
       "\n",
       "        \n",
       "\n",
       "        \n",
       "    \n",
       "        \n",
       "        \n",
       "    \n",
       "        <p style=\"margin-bottom: 0.5em; margin-top: 0em\">\n",
       "            <b>\n",
       "    \n",
       "        y=positive\n",
       "    \n",
       "</b>\n",
       "\n",
       "    \n",
       "    (probability <b>1.000</b>, score <b>15.267</b>)\n",
       "\n",
       "top features\n",
       "        </p>\n",
       "    \n",
       "    <table class=\"eli5-weights\"\n",
       "           style=\"border-collapse: collapse; border: none; margin-top: 0em; table-layout: auto; margin-bottom: 2em;\">\n",
       "        <thead>\n",
       "        <tr style=\"border: none;\">\n",
       "            \n",
       "                <th style=\"padding: 0 1em 0 0.5em; text-align: right; border: none;\" title=\"Feature contribution already accounts for the feature value (for linear models, contribution = weight * feature value), and the sum of feature contributions is equal to the score or, for some classifiers, to the probability. Feature values are shown if &quot;show_feature_values&quot; is True.\">\n",
       "                    Contribution<sup>?</sup>\n",
       "                </th>\n",
       "            \n",
       "            <th style=\"padding: 0 0.5em 0 0.5em; text-align: left; border: none;\">Feature</th>\n",
       "            \n",
       "        </tr>\n",
       "        </thead>\n",
       "        <tbody>\n",
       "        \n",
       "            <tr style=\"background-color: hsl(120, 100.00%, 80.00%); border: none;\">\n",
       "    <td style=\"padding: 0 1em 0 0.5em; text-align: right; border: none;\">\n",
       "        +15.232\n",
       "    </td>\n",
       "    <td style=\"padding: 0 0.5em 0 0.5em; text-align: left; border: none;\">\n",
       "        Highlighted in text (sum)\n",
       "    </td>\n",
       "    \n",
       "</tr>\n",
       "        \n",
       "            <tr style=\"background-color: hsl(120, 100.00%, 99.72%); border: none;\">\n",
       "    <td style=\"padding: 0 1em 0 0.5em; text-align: right; border: none;\">\n",
       "        +0.035\n",
       "    </td>\n",
       "    <td style=\"padding: 0 0.5em 0 0.5em; text-align: left; border: none;\">\n",
       "        &lt;BIAS&gt;\n",
       "    </td>\n",
       "    \n",
       "</tr>\n",
       "        \n",
       "        \n",
       "\n",
       "        \n",
       "        \n",
       "\n",
       "        </tbody>\n",
       "    </table>\n",
       "\n",
       "    \n",
       "\n",
       "\n",
       "\n",
       "    <p style=\"margin-bottom: 2.5em; margin-top:-0.5em;\">\n",
       "        <span style=\"background-color: hsl(120, 100.00%, 69.08%); opacity: 0.94\" title=\"0.760\">entertaining</span><span style=\"opacity: 0.80\"> </span><span style=\"background-color: hsl(120, 100.00%, 60.00%); opacity: 1.00\" title=\"1.098\">touching</span><span style=\"opacity: 0.80\"> </span><span style=\"background-color: hsl(0, 100.00%, 97.06%); opacity: 0.80\" title=\"-0.026\">version</span><span style=\"opacity: 0.80\"> </span><span style=\"background-color: hsl(120, 100.00%, 77.10%); opacity: 0.89\" title=\"0.495\">classic</span><span style=\"opacity: 0.80\"> </span><span style=\"background-color: hsl(120, 100.00%, 88.73%); opacity: 0.83\" title=\"0.180\">tale</span><span style=\"opacity: 0.80\"> </span><span style=\"background-color: hsl(120, 100.00%, 85.86%); opacity: 0.85\" title=\"0.248\">also</span><span style=\"opacity: 0.80\"> </span><span style=\"background-color: hsl(120, 100.00%, 87.42%); opacity: 0.84\" title=\"0.210\">quite</span><span style=\"opacity: 0.80\"> </span><span style=\"background-color: hsl(120, 100.00%, 77.27%); opacity: 0.89\" title=\"0.490\">intelligent</span><span style=\"opacity: 0.80\"> </span><span style=\"background-color: hsl(120, 100.00%, 87.41%); opacity: 0.84\" title=\"0.211\">tarzan</span><span style=\"opacity: 0.80\"> </span><span style=\"background-color: hsl(120, 100.00%, 88.61%); opacity: 0.83\" title=\"0.182\">jane</span><span style=\"opacity: 0.80\"> </span><span style=\"background-color: hsl(120, 100.00%, 90.77%); opacity: 0.82\" title=\"0.135\">school</span><span style=\"opacity: 0.80\"> </span><span style=\"background-color: hsl(120, 100.00%, 87.65%); opacity: 0.84\" title=\"0.205\">famous</span><span style=\"opacity: 0.80\"> </span><span style=\"background-color: hsl(120, 100.00%, 96.21%); opacity: 0.81\" title=\"0.038\">story</span><span style=\"opacity: 0.80\"> </span><span style=\"background-color: hsl(120, 100.00%, 95.77%); opacity: 0.81\" title=\"0.044\">child</span><span style=\"opacity: 0.80\"> </span><span style=\"background-color: hsl(0, 100.00%, 95.54%); opacity: 0.81\" title=\"-0.048\">reared</span><span style=\"opacity: 0.80\"> </span><span style=\"background-color: hsl(120, 100.00%, 84.51%); opacity: 0.85\" title=\"0.283\">manhood</span><span style=\"opacity: 0.80\"> </span><span style=\"background-color: hsl(0, 100.00%, 88.40%); opacity: 0.83\" title=\"-0.187\">jungle</span><span style=\"opacity: 0.80\"> </span><span style=\"background-color: hsl(0, 100.00%, 90.36%); opacity: 0.83\" title=\"-0.144\">apes</span><span style=\"opacity: 0.80\"> </span><span style=\"background-color: hsl(0, 100.00%, 83.92%); opacity: 0.85\" title=\"-0.299\">titled</span><span style=\"opacity: 0.80\"> </span><span style=\"background-color: hsl(0, 100.00%, 97.11%); opacity: 0.80\" title=\"-0.026\">british</span><span style=\"opacity: 0.80\"> </span><span style=\"background-color: hsl(0, 100.00%, 86.46%); opacity: 0.84\" title=\"-0.234\">couple</span><span style=\"opacity: 0.80\"> </span><span style=\"background-color: hsl(120, 100.00%, 90.53%); opacity: 0.83\" title=\"0.140\">wife</span><span style=\"opacity: 0.80\"> </span><span style=\"background-color: hsl(0, 100.00%, 86.19%); opacity: 0.84\" title=\"-0.240\">pregnant</span><span style=\"opacity: 0.80\"> </span><span style=\"background-color: hsl(120, 100.00%, 98.86%); opacity: 0.80\" title=\"0.007\">stranded</span><span style=\"opacity: 0.80\"> </span><span style=\"background-color: hsl(120, 100.00%, 91.96%); opacity: 0.82\" title=\"0.111\">african</span><span style=\"opacity: 0.80\"> </span><span style=\"background-color: hsl(0, 100.00%, 85.90%); opacity: 0.85\" title=\"-0.247\">wilds</span><span style=\"opacity: 0.80\"> </span><span style=\"background-color: hsl(0, 100.00%, 99.57%); opacity: 0.80\" title=\"-0.002\">shipwreck</span><span style=\"opacity: 0.80\"> </span><span style=\"background-color: hsl(120, 100.00%, 81.79%); opacity: 0.86\" title=\"0.357\">parents</span><span style=\"opacity: 0.80\"> </span><span style=\"background-color: hsl(120, 100.00%, 87.55%); opacity: 0.84\" title=\"0.207\">deaths</span><span style=\"opacity: 0.80\"> </span><span style=\"background-color: hsl(0, 100.00%, 95.21%); opacity: 0.81\" title=\"-0.053\">baby</span><span style=\"opacity: 0.80\"> </span><span style=\"background-color: hsl(120, 100.00%, 86.67%); opacity: 0.84\" title=\"0.229\">raised</span><span style=\"opacity: 0.80\"> </span><span style=\"background-color: hsl(0, 100.00%, 88.40%); opacity: 0.83\" title=\"-0.187\">jungle</span><span style=\"opacity: 0.80\"> </span><span style=\"background-color: hsl(0, 100.00%, 90.36%); opacity: 0.83\" title=\"-0.144\">apes</span><span style=\"opacity: 0.80\"> </span><span style=\"background-color: hsl(120, 100.00%, 89.43%); opacity: 0.83\" title=\"0.164\">twenty</span><span style=\"opacity: 0.80\"> </span><span style=\"background-color: hsl(120, 100.00%, 93.98%); opacity: 0.81\" title=\"0.073\">years</span><span style=\"opacity: 0.80\"> </span><span style=\"background-color: hsl(120, 100.00%, 81.97%); opacity: 0.86\" title=\"0.352\">later</span><span style=\"opacity: 0.80\"> </span><span style=\"background-color: hsl(120, 100.00%, 97.19%); opacity: 0.80\" title=\"0.025\">young</span><span style=\"opacity: 0.80\"> </span><span style=\"background-color: hsl(120, 100.00%, 98.11%); opacity: 0.80\" title=\"0.014\">man</span><span style=\"opacity: 0.80\"> </span><span style=\"background-color: hsl(120, 100.00%, 89.56%); opacity: 0.83\" title=\"0.161\">ie</span><span style=\"opacity: 0.80\"> </span><span style=\"background-color: hsl(120, 100.00%, 87.41%); opacity: 0.84\" title=\"0.211\">tarzan</span><span style=\"opacity: 0.80\"> </span><span style=\"background-color: hsl(0, 100.00%, 89.74%); opacity: 0.83\" title=\"-0.157\">rescues</span><span style=\"opacity: 0.80\"> </span><span style=\"background-color: hsl(120, 100.00%, 92.01%); opacity: 0.82\" title=\"0.110\">wounded</span><span style=\"opacity: 0.80\"> </span><span style=\"background-color: hsl(0, 100.00%, 91.00%); opacity: 0.82\" title=\"-0.130\">belgian</span><span style=\"opacity: 0.80\"> </span><span style=\"background-color: hsl(0, 100.00%, 97.82%); opacity: 0.80\" title=\"-0.017\">explorer</span><span style=\"opacity: 0.80\"> </span><span style=\"background-color: hsl(120, 100.00%, 95.85%); opacity: 0.81\" title=\"0.043\">nursing</span><span style=\"opacity: 0.80\"> </span><span style=\"background-color: hsl(0, 100.00%, 98.37%); opacity: 0.80\" title=\"-0.011\">back</span><span style=\"opacity: 0.80\"> </span><span style=\"background-color: hsl(120, 100.00%, 86.32%); opacity: 0.84\" title=\"0.237\">health</span><span style=\"opacity: 0.80\"> </span><span style=\"background-color: hsl(0, 100.00%, 91.00%); opacity: 0.82\" title=\"-0.130\">belgian</span><span style=\"opacity: 0.80\"> </span><span style=\"background-color: hsl(120, 100.00%, 73.92%); opacity: 0.91\" title=\"0.596\">discovers</span><span style=\"opacity: 0.80\"> </span><span style=\"background-color: hsl(120, 100.00%, 95.28%); opacity: 0.81\" title=\"0.052\">evidence</span><span style=\"opacity: 0.80\"> </span><span style=\"background-color: hsl(120, 100.00%, 95.10%); opacity: 0.81\" title=\"0.055\">rescuer</span><span style=\"opacity: 0.80\"> </span><span style=\"background-color: hsl(120, 100.00%, 97.19%); opacity: 0.80\" title=\"0.025\">young</span><span style=\"opacity: 0.80\"> </span><span style=\"background-color: hsl(120, 100.00%, 96.12%); opacity: 0.81\" title=\"0.039\">lord</span><span style=\"opacity: 0.80\"> </span><span style=\"background-color: hsl(120, 100.00%, 98.27%); opacity: 0.80\" title=\"0.012\">greystoke</span><span style=\"opacity: 0.80\"> </span><span style=\"background-color: hsl(120, 100.00%, 82.63%); opacity: 0.86\" title=\"0.333\">returns</span><span style=\"opacity: 0.80\"> </span><span style=\"background-color: hsl(0, 100.00%, 98.42%); opacity: 0.80\" title=\"-0.011\">rightful</span><span style=\"opacity: 0.80\"> </span><span style=\"background-color: hsl(0, 100.00%, 81.66%); opacity: 0.87\" title=\"-0.360\">estate</span><span style=\"opacity: 0.80\"> </span><span style=\"background-color: hsl(0, 100.00%, 90.91%); opacity: 0.82\" title=\"-0.132\">scotland</span><span style=\"opacity: 0.80\"> </span><span style=\"background-color: hsl(120, 100.00%, 86.53%); opacity: 0.84\" title=\"0.232\">must</span><span style=\"opacity: 0.80\"> </span><span style=\"background-color: hsl(120, 100.00%, 93.80%); opacity: 0.81\" title=\"0.077\">adjust</span><span style=\"opacity: 0.80\"> </span><span style=\"background-color: hsl(120, 100.00%, 89.96%); opacity: 0.83\" title=\"0.152\">civilized</span><span style=\"opacity: 0.80\"> </span><span style=\"background-color: hsl(120, 100.00%, 92.53%); opacity: 0.82\" title=\"0.100\">society</span><span style=\"opacity: 0.80\"> </span><span style=\"background-color: hsl(0, 100.00%, 99.77%); opacity: 0.80\" title=\"-0.001\">movie</span><span style=\"opacity: 0.80\"> </span><span style=\"background-color: hsl(0, 100.00%, 92.31%); opacity: 0.82\" title=\"-0.104\">sort</span><span style=\"opacity: 0.80\"> </span><span style=\"background-color: hsl(120, 100.00%, 89.35%); opacity: 0.83\" title=\"0.166\">divided</span><span style=\"opacity: 0.80\"> </span><span style=\"background-color: hsl(0, 100.00%, 97.72%); opacity: 0.80\" title=\"-0.018\">two</span><span style=\"opacity: 0.80\"> </span><span style=\"background-color: hsl(120, 100.00%, 90.21%); opacity: 0.83\" title=\"0.147\">parts</span><span style=\"opacity: 0.80\"> </span><span style=\"background-color: hsl(120, 100.00%, 89.12%); opacity: 0.83\" title=\"0.171\">first</span><span style=\"opacity: 0.80\"> </span><span style=\"background-color: hsl(0, 100.00%, 77.70%); opacity: 0.89\" title=\"-0.476\">half</span><span style=\"opacity: 0.80\"> </span><span style=\"background-color: hsl(120, 100.00%, 87.31%); opacity: 0.84\" title=\"0.213\">see</span><span style=\"opacity: 0.80\"> </span><span style=\"background-color: hsl(120, 100.00%, 87.41%); opacity: 0.84\" title=\"0.211\">tarzan</span><span style=\"opacity: 0.80\"> </span><span style=\"background-color: hsl(0, 100.00%, 88.40%); opacity: 0.83\" title=\"-0.187\">jungle</span><span style=\"opacity: 0.80\"> </span><span style=\"background-color: hsl(0, 100.00%, 86.09%); opacity: 0.84\" title=\"-0.243\">environment</span><span style=\"opacity: 0.80\"> </span><span style=\"background-color: hsl(120, 100.00%, 89.98%); opacity: 0.83\" title=\"0.152\">expert</span><span style=\"opacity: 0.80\"> </span><span style=\"background-color: hsl(120, 100.00%, 92.12%); opacity: 0.82\" title=\"0.108\">unaware</span><span style=\"opacity: 0.80\"> </span><span style=\"background-color: hsl(120, 100.00%, 85.12%); opacity: 0.85\" title=\"0.267\">realism</span><span style=\"opacity: 0.80\"> </span><span style=\"background-color: hsl(120, 100.00%, 98.95%); opacity: 0.80\" title=\"0.006\">depiction</span><span style=\"opacity: 0.80\"> </span><span style=\"background-color: hsl(0, 100.00%, 92.81%); opacity: 0.82\" title=\"-0.095\">ape</span><span style=\"opacity: 0.80\"> </span><span style=\"background-color: hsl(120, 100.00%, 84.24%); opacity: 0.85\" title=\"0.290\">community</span><span style=\"opacity: 0.80\"> </span><span style=\"background-color: hsl(120, 100.00%, 87.16%); opacity: 0.84\" title=\"0.216\">life</span><span style=\"opacity: 0.80\"> </span><span style=\"background-color: hsl(120, 100.00%, 92.18%); opacity: 0.82\" title=\"0.107\">certainly</span><span style=\"opacity: 0.80\"> </span><span style=\"background-color: hsl(120, 100.00%, 69.08%); opacity: 0.94\" title=\"0.760\">entertaining</span><span style=\"opacity: 0.80\"> </span><span style=\"background-color: hsl(120, 100.00%, 68.77%); opacity: 0.94\" title=\"0.771\">moving</span><span style=\"opacity: 0.80\"> </span><span style=\"background-color: hsl(120, 100.00%, 91.00%); opacity: 0.82\" title=\"0.130\">section</span><span style=\"opacity: 0.80\"> </span><span style=\"background-color: hsl(120, 100.00%, 95.11%); opacity: 0.81\" title=\"0.055\">second</span><span style=\"opacity: 0.80\"> </span><span style=\"background-color: hsl(0, 100.00%, 77.70%); opacity: 0.89\" title=\"-0.476\">half</span><span style=\"opacity: 0.80\"> </span><span style=\"background-color: hsl(120, 100.00%, 87.41%); opacity: 0.84\" title=\"0.211\">tarzan</span><span style=\"opacity: 0.80\"> </span><span style=\"background-color: hsl(120, 100.00%, 86.53%); opacity: 0.84\" title=\"0.232\">must</span><span style=\"opacity: 0.80\"> </span><span style=\"background-color: hsl(0, 100.00%, 93.78%); opacity: 0.81\" title=\"-0.077\">meet</span><span style=\"opacity: 0.80\"> </span><span style=\"background-color: hsl(120, 100.00%, 90.75%); opacity: 0.82\" title=\"0.135\">real</span><span style=\"opacity: 0.80\"> </span><span style=\"background-color: hsl(120, 100.00%, 84.03%); opacity: 0.85\" title=\"0.296\">family</span><span style=\"opacity: 0.80\"> </span><span style=\"background-color: hsl(120, 100.00%, 93.88%); opacity: 0.81\" title=\"0.075\">develop</span><span style=\"opacity: 0.80\"> </span><span style=\"background-color: hsl(120, 100.00%, 85.66%); opacity: 0.85\" title=\"0.254\">language</span><span style=\"opacity: 0.80\"> </span><span style=\"background-color: hsl(0, 100.00%, 91.14%); opacity: 0.82\" title=\"-0.127\">skills</span><span style=\"opacity: 0.80\"> </span><span style=\"background-color: hsl(120, 100.00%, 93.80%); opacity: 0.81\" title=\"0.077\">adjust</span><span style=\"opacity: 0.80\"> </span><span style=\"background-color: hsl(120, 100.00%, 93.93%); opacity: 0.81\" title=\"0.074\">aristocratic</span><span style=\"opacity: 0.80\"> </span><span style=\"background-color: hsl(0, 100.00%, 97.11%); opacity: 0.80\" title=\"-0.026\">british</span><span style=\"opacity: 0.80\"> </span><span style=\"background-color: hsl(120, 100.00%, 92.53%); opacity: 0.82\" title=\"0.100\">society</span><span style=\"opacity: 0.80\"> </span><span style=\"background-color: hsl(0, 100.00%, 95.24%); opacity: 0.81\" title=\"-0.052\">wooing</span><span style=\"opacity: 0.80\"> </span><span style=\"background-color: hsl(120, 100.00%, 88.61%); opacity: 0.83\" title=\"0.182\">jane</span><span style=\"opacity: 0.80\"> </span><span style=\"background-color: hsl(120, 100.00%, 91.51%); opacity: 0.82\" title=\"0.120\">andie</span><span style=\"opacity: 0.80\"> </span><span style=\"background-color: hsl(0, 100.00%, 93.72%); opacity: 0.81\" title=\"-0.078\">macdowell</span><span style=\"opacity: 0.80\"> </span><span style=\"background-color: hsl(0, 100.00%, 79.47%); opacity: 0.88\" title=\"-0.423\">portrayed</span><span style=\"opacity: 0.80\"> </span><span style=\"background-color: hsl(120, 100.00%, 96.09%); opacity: 0.81\" title=\"0.040\">noble</span><span style=\"opacity: 0.80\"> </span><span style=\"background-color: hsl(120, 100.00%, 76.62%); opacity: 0.89\" title=\"0.510\">savage</span><span style=\"opacity: 0.80\"> </span><span style=\"background-color: hsl(0, 100.00%, 87.05%); opacity: 0.84\" title=\"-0.219\">whether</span><span style=\"opacity: 0.80\"> </span><span style=\"background-color: hsl(0, 100.00%, 88.97%); opacity: 0.83\" title=\"-0.174\">wild</span><span style=\"opacity: 0.80\"> </span><span style=\"background-color: hsl(120, 100.00%, 87.17%); opacity: 0.84\" title=\"0.216\">elegant</span><span style=\"opacity: 0.80\"> </span><span style=\"background-color: hsl(0, 100.00%, 98.80%); opacity: 0.80\" title=\"-0.007\">edwardian</span><span style=\"opacity: 0.80\"> </span><span style=\"background-color: hsl(0, 100.00%, 87.40%); opacity: 0.84\" title=\"-0.211\">parlors</span><span style=\"opacity: 0.80\"> </span><span style=\"background-color: hsl(120, 100.00%, 78.58%); opacity: 0.88\" title=\"0.450\">contrast</span><span style=\"opacity: 0.80\"> </span><span style=\"background-color: hsl(0, 100.00%, 93.48%); opacity: 0.81\" title=\"-0.082\">upper</span><span style=\"opacity: 0.80\"> </span><span style=\"background-color: hsl(0, 100.00%, 92.93%); opacity: 0.82\" title=\"-0.092\">crust</span><span style=\"opacity: 0.80\"> </span><span style=\"background-color: hsl(0, 100.00%, 77.31%); opacity: 0.89\" title=\"-0.488\">depicted</span><span style=\"opacity: 0.80\"> </span><span style=\"background-color: hsl(120, 100.00%, 79.91%); opacity: 0.87\" title=\"0.410\">often</span><span style=\"opacity: 0.80\"> </span><span style=\"background-color: hsl(0, 100.00%, 82.46%); opacity: 0.86\" title=\"-0.338\">far</span><span style=\"opacity: 0.80\"> </span><span style=\"background-color: hsl(0, 100.00%, 93.71%); opacity: 0.81\" title=\"-0.078\">barbaric</span><span style=\"opacity: 0.80\"> </span><span style=\"background-color: hsl(0, 100.00%, 88.40%); opacity: 0.83\" title=\"-0.187\">jungle</span><span style=\"opacity: 0.80\"> </span><span style=\"background-color: hsl(120, 100.00%, 87.41%); opacity: 0.84\" title=\"0.211\">tarzan</span><span style=\"opacity: 0.80\"> </span><span style=\"background-color: hsl(0, 100.00%, 83.14%); opacity: 0.86\" title=\"-0.319\">left</span><span style=\"opacity: 0.80\"> </span><span style=\"background-color: hsl(0, 100.00%, 90.17%); opacity: 0.83\" title=\"-0.148\">christopher</span><span style=\"opacity: 0.80\"> </span><span style=\"background-color: hsl(120, 100.00%, 95.89%); opacity: 0.81\" title=\"0.043\">lambert</span><span style=\"opacity: 0.80\"> </span><span style=\"background-color: hsl(120, 100.00%, 64.35%); opacity: 0.97\" title=\"0.931\">fantastic</span><span style=\"opacity: 0.80\"> </span><span style=\"background-color: hsl(120, 100.00%, 73.47%); opacity: 0.91\" title=\"0.611\">sympathetic</span><span style=\"opacity: 0.80\"> </span><span style=\"background-color: hsl(120, 100.00%, 77.90%); opacity: 0.89\" title=\"0.470\">portrayal</span><span style=\"opacity: 0.80\"> </span><span style=\"background-color: hsl(120, 100.00%, 87.41%); opacity: 0.84\" title=\"0.211\">tarzan</span><span style=\"opacity: 0.80\"> </span><span style=\"background-color: hsl(0, 100.00%, 88.40%); opacity: 0.83\" title=\"-0.187\">jungle</span><span style=\"opacity: 0.80\"> </span><span style=\"background-color: hsl(120, 100.00%, 89.96%); opacity: 0.83\" title=\"0.152\">civilized</span><span style=\"opacity: 0.80\"> </span><span style=\"background-color: hsl(0, 100.00%, 94.81%); opacity: 0.81\" title=\"-0.059\">environments</span><span style=\"opacity: 0.80\"> </span><span style=\"background-color: hsl(120, 100.00%, 86.50%); opacity: 0.84\" title=\"0.233\">conveys</span><span style=\"opacity: 0.80\"> </span><span style=\"background-color: hsl(120, 100.00%, 90.75%); opacity: 0.82\" title=\"0.135\">real</span><span style=\"opacity: 0.80\"> </span><span style=\"background-color: hsl(0, 100.00%, 92.42%); opacity: 0.82\" title=\"-0.102\">sense</span><span style=\"opacity: 0.80\"> </span><span style=\"background-color: hsl(120, 100.00%, 97.52%); opacity: 0.80\" title=\"0.021\">confusion</span><span style=\"opacity: 0.80\"> </span><span style=\"background-color: hsl(0, 100.00%, 77.46%); opacity: 0.89\" title=\"-0.484\">conflict</span><span style=\"opacity: 0.80\"> </span><span style=\"background-color: hsl(120, 100.00%, 84.22%); opacity: 0.85\" title=\"0.291\">torn</span><span style=\"opacity: 0.80\"> </span><span style=\"background-color: hsl(0, 100.00%, 97.72%); opacity: 0.80\" title=\"-0.018\">two</span><span style=\"opacity: 0.80\"> </span><span style=\"background-color: hsl(120, 100.00%, 85.20%); opacity: 0.85\" title=\"0.265\">different</span><span style=\"opacity: 0.80\"> </span><span style=\"background-color: hsl(120, 100.00%, 78.90%); opacity: 0.88\" title=\"0.440\">worlds</span><span style=\"opacity: 0.80\"> </span><span style=\"background-color: hsl(0, 100.00%, 84.46%); opacity: 0.85\" title=\"-0.284\">original</span><span style=\"opacity: 0.80\"> </span><span style=\"background-color: hsl(0, 100.00%, 92.81%); opacity: 0.82\" title=\"-0.095\">ape</span><span style=\"opacity: 0.80\"> </span><span style=\"background-color: hsl(120, 100.00%, 84.03%); opacity: 0.85\" title=\"0.296\">family</span><span style=\"opacity: 0.80\"> </span><span style=\"background-color: hsl(120, 100.00%, 93.87%); opacity: 0.81\" title=\"0.075\">new</span><span style=\"opacity: 0.80\"> </span><span style=\"background-color: hsl(120, 100.00%, 84.36%); opacity: 0.85\" title=\"0.287\">human</span><span style=\"opacity: 0.80\"> </span><span style=\"background-color: hsl(0, 100.00%, 93.66%); opacity: 0.81\" title=\"-0.079\">one</span><span style=\"opacity: 0.80\"> </span><span style=\"background-color: hsl(120, 100.00%, 90.44%); opacity: 0.83\" title=\"0.142\">sir</span><span style=\"opacity: 0.80\"> </span><span style=\"background-color: hsl(120, 100.00%, 72.96%); opacity: 0.91\" title=\"0.627\">ralph</span><span style=\"opacity: 0.80\"> </span><span style=\"background-color: hsl(120, 100.00%, 94.89%); opacity: 0.81\" title=\"0.058\">richardson</span><span style=\"opacity: 0.80\"> </span><span style=\"background-color: hsl(0, 100.00%, 93.66%); opacity: 0.81\" title=\"-0.079\">one</span><span style=\"opacity: 0.80\"> </span><span style=\"background-color: hsl(0, 100.00%, 97.51%); opacity: 0.80\" title=\"-0.021\">old</span><span style=\"opacity: 0.80\"> </span><span style=\"background-color: hsl(0, 100.00%, 97.11%); opacity: 0.80\" title=\"-0.026\">british</span><span style=\"opacity: 0.80\"> </span><span style=\"background-color: hsl(0, 100.00%, 78.43%); opacity: 0.88\" title=\"-0.454\">legends</span><span style=\"opacity: 0.80\"> </span><span style=\"background-color: hsl(120, 100.00%, 67.45%); opacity: 0.95\" title=\"0.818\">brilliant</span><span style=\"opacity: 0.80\"> </span><span style=\"background-color: hsl(120, 100.00%, 86.30%); opacity: 0.84\" title=\"0.238\">always</span><span style=\"opacity: 0.80\"> </span><span style=\"background-color: hsl(0, 100.00%, 92.35%); opacity: 0.82\" title=\"-0.103\">role</span><span style=\"opacity: 0.80\"> </span><span style=\"background-color: hsl(0, 100.00%, 96.13%); opacity: 0.81\" title=\"-0.039\">tarzans</span><span style=\"opacity: 0.80\"> </span><span style=\"background-color: hsl(0, 100.00%, 90.93%); opacity: 0.82\" title=\"-0.132\">grandfather</span><span style=\"opacity: 0.80\"> </span><span style=\"background-color: hsl(120, 100.00%, 96.00%); opacity: 0.81\" title=\"0.041\">sixth</span><span style=\"opacity: 0.80\"> </span><span style=\"background-color: hsl(120, 100.00%, 92.54%); opacity: 0.82\" title=\"0.100\">earl</span><span style=\"opacity: 0.80\"> </span><span style=\"background-color: hsl(120, 100.00%, 98.27%); opacity: 0.80\" title=\"0.012\">greystoke</span><span style=\"opacity: 0.80\"> </span><span style=\"background-color: hsl(120, 100.00%, 93.71%); opacity: 0.81\" title=\"0.078\">film</span><span style=\"opacity: 0.80\"> </span><span style=\"background-color: hsl(120, 100.00%, 74.37%); opacity: 0.91\" title=\"0.581\">focuses</span><span style=\"opacity: 0.80\"> </span><span style=\"background-color: hsl(0, 100.00%, 96.13%); opacity: 0.81\" title=\"-0.039\">tarzans</span><span style=\"opacity: 0.80\"> </span><span style=\"background-color: hsl(0, 100.00%, 86.48%); opacity: 0.84\" title=\"-0.233\">struggles</span><span style=\"opacity: 0.80\"> </span><span style=\"background-color: hsl(120, 100.00%, 88.30%); opacity: 0.83\" title=\"0.190\">adapting</span><span style=\"opacity: 0.80\"> </span><span style=\"background-color: hsl(120, 100.00%, 96.07%); opacity: 0.81\" title=\"0.040\">civilization</span><span style=\"opacity: 0.80\"> </span><span style=\"background-color: hsl(0, 100.00%, 81.86%); opacity: 0.86\" title=\"-0.355\">inner</span><span style=\"opacity: 0.80\"> </span><span style=\"background-color: hsl(0, 100.00%, 77.46%); opacity: 0.89\" title=\"-0.484\">conflict</span><span style=\"opacity: 0.80\"> </span><span style=\"background-color: hsl(0, 100.00%, 88.40%); opacity: 0.83\" title=\"-0.187\">jungle</span><span style=\"opacity: 0.80\"> </span><span style=\"background-color: hsl(0, 100.00%, 85.50%); opacity: 0.85\" title=\"-0.258\">exploits</span><span style=\"opacity: 0.80\"> </span><span style=\"background-color: hsl(120, 100.00%, 95.73%); opacity: 0.81\" title=\"0.045\">unusual</span><span style=\"opacity: 0.80\"> </span><span style=\"background-color: hsl(120, 100.00%, 87.04%); opacity: 0.84\" title=\"0.219\">take</span><span style=\"opacity: 0.80\"> </span><span style=\"background-color: hsl(0, 100.00%, 97.51%); opacity: 0.80\" title=\"-0.021\">old</span><span style=\"opacity: 0.80\"> </span><span style=\"background-color: hsl(120, 100.00%, 77.10%); opacity: 0.89\" title=\"0.495\">classic</span><span style=\"opacity: 0.80\"> </span><span style=\"background-color: hsl(120, 100.00%, 78.88%); opacity: 0.88\" title=\"0.441\">makes</span><span style=\"opacity: 0.80\"> </span><span style=\"background-color: hsl(120, 100.00%, 91.70%); opacity: 0.82\" title=\"0.116\">typical</span><span style=\"opacity: 0.80\"> </span><span style=\"background-color: hsl(120, 100.00%, 93.26%); opacity: 0.82\" title=\"0.086\">dramatic</span><span style=\"opacity: 0.80\"> </span><span style=\"background-color: hsl(120, 100.00%, 81.58%); opacity: 0.87\" title=\"0.363\">adventure</span><span style=\"opacity: 0.80\"> </span><span style=\"background-color: hsl(120, 100.00%, 85.86%); opacity: 0.85\" title=\"0.248\">also</span><span style=\"opacity: 0.80\"> </span><span style=\"background-color: hsl(120, 100.00%, 68.77%); opacity: 0.94\" title=\"0.771\">moving</span><span style=\"opacity: 0.80\"> </span><span style=\"background-color: hsl(0, 100.00%, 91.06%); opacity: 0.82\" title=\"-0.129\">personal</span><span style=\"opacity: 0.80\"> </span><span style=\"background-color: hsl(120, 100.00%, 96.21%); opacity: 0.81\" title=\"0.038\">story</span><span style=\"opacity: 0.80\"> </span><span style=\"background-color: hsl(0, 100.00%, 88.00%); opacity: 0.84\" title=\"-0.197\">wasnt</span><span style=\"opacity: 0.80\"> </span><span style=\"background-color: hsl(120, 100.00%, 72.32%); opacity: 0.92\" title=\"0.649\">surprised</span><span style=\"opacity: 0.80\"> </span><span style=\"background-color: hsl(0, 100.00%, 88.48%); opacity: 0.83\" title=\"-0.186\">note</span><span style=\"opacity: 0.80\"> </span><span style=\"background-color: hsl(0, 100.00%, 82.36%); opacity: 0.86\" title=\"-0.341\">director</span><span style=\"opacity: 0.80\"> </span><span style=\"background-color: hsl(0, 100.00%, 86.38%); opacity: 0.84\" title=\"-0.236\">individual</span><span style=\"opacity: 0.80\"> </span><span style=\"background-color: hsl(120, 100.00%, 87.27%); opacity: 0.84\" title=\"0.214\">hugh</span><span style=\"opacity: 0.80\"> </span><span style=\"background-color: hsl(120, 100.00%, 94.98%); opacity: 0.81\" title=\"0.057\">hudson</span><span style=\"opacity: 0.80\"> </span><span style=\"background-color: hsl(120, 100.00%, 85.86%); opacity: 0.85\" title=\"0.248\">also</span><span style=\"opacity: 0.80\"> </span><span style=\"background-color: hsl(0, 100.00%, 80.86%); opacity: 0.87\" title=\"-0.383\">directed</span><span style=\"opacity: 0.80\"> </span><span style=\"background-color: hsl(0, 100.00%, 95.77%); opacity: 0.81\" title=\"-0.044\">chariots</span><span style=\"opacity: 0.80\"> </span><span style=\"background-color: hsl(0, 100.00%, 92.39%); opacity: 0.82\" title=\"-0.102\">fire</span><span style=\"opacity: 0.80\"> </span><span style=\"background-color: hsl(0, 100.00%, 90.49%); opacity: 0.83\" title=\"-0.141\">another</span><span style=\"opacity: 0.80\"> </span><span style=\"background-color: hsl(120, 100.00%, 67.45%); opacity: 0.95\" title=\"0.818\">brilliant</span><span style=\"opacity: 0.80\"> </span><span style=\"background-color: hsl(0, 100.00%, 99.77%); opacity: 0.80\" title=\"-0.001\">movie</span>\n",
       "    </p>\n",
       "\n",
       "\n",
       "    \n",
       "\n",
       "    \n",
       "\n",
       "    \n",
       "\n",
       "    \n",
       "\n",
       "\n",
       "    \n",
       "\n",
       "    \n",
       "\n",
       "    \n",
       "\n",
       "    \n",
       "\n",
       "    \n",
       "\n",
       "    \n",
       "\n",
       "\n",
       "    \n",
       "\n",
       "    \n",
       "\n",
       "    \n",
       "\n",
       "    \n",
       "\n",
       "    \n",
       "\n",
       "    \n",
       "\n",
       "\n",
       "\n"
      ],
      "text/plain": [
       "<IPython.core.display.HTML object>"
      ]
     },
     "execution_count": 18,
     "metadata": {},
     "output_type": "execute_result"
    }
   ],
   "source": [
    "print('Positive' if test_df['is_positive'].iloc[1] else 'Negative')\n",
    "eli5.show_prediction(classifier, test_df['review'].iloc[1], vec=vectorizer, \n",
    "                     targets=['positive'], target_names=['negative', 'positive'])"
   ]
  },
  {
   "cell_type": "code",
   "execution_count": 19,
   "metadata": {
    "colab": {
     "base_uri": "https://localhost:8080/",
     "height": 312
    },
    "executionInfo": {
     "elapsed": 241,
     "status": "ok",
     "timestamp": 1674991158369,
     "user": {
      "displayName": "Maxim Gasilin",
      "userId": "15501735730920561422"
     },
     "user_tz": -180
    },
    "id": "AoZhtlYlW-xG",
    "outputId": "18815ab8-87c7-4942-e6e8-738d7ffe5daf"
   },
   "outputs": [
    {
     "name": "stdout",
     "output_type": "stream",
     "text": [
      "Negative\n"
     ]
    },
    {
     "data": {
      "text/html": [
       "\n",
       "    <style>\n",
       "    table.eli5-weights tr:hover {\n",
       "        filter: brightness(85%);\n",
       "    }\n",
       "</style>\n",
       "\n",
       "\n",
       "\n",
       "    \n",
       "\n",
       "    \n",
       "\n",
       "    \n",
       "\n",
       "    \n",
       "\n",
       "    \n",
       "\n",
       "    \n",
       "\n",
       "\n",
       "    \n",
       "\n",
       "    \n",
       "\n",
       "    \n",
       "\n",
       "    \n",
       "        \n",
       "\n",
       "    \n",
       "\n",
       "        \n",
       "\n",
       "        \n",
       "    \n",
       "        \n",
       "        \n",
       "    \n",
       "        <p style=\"margin-bottom: 0.5em; margin-top: 0em\">\n",
       "            <b>\n",
       "    \n",
       "        y=positive\n",
       "    \n",
       "</b>\n",
       "\n",
       "    \n",
       "    (probability <b>0.000</b>, score <b>-9.845</b>)\n",
       "\n",
       "top features\n",
       "        </p>\n",
       "    \n",
       "    <table class=\"eli5-weights\"\n",
       "           style=\"border-collapse: collapse; border: none; margin-top: 0em; table-layout: auto; margin-bottom: 2em;\">\n",
       "        <thead>\n",
       "        <tr style=\"border: none;\">\n",
       "            \n",
       "                <th style=\"padding: 0 1em 0 0.5em; text-align: right; border: none;\" title=\"Feature contribution already accounts for the feature value (for linear models, contribution = weight * feature value), and the sum of feature contributions is equal to the score or, for some classifiers, to the probability. Feature values are shown if &quot;show_feature_values&quot; is True.\">\n",
       "                    Contribution<sup>?</sup>\n",
       "                </th>\n",
       "            \n",
       "            <th style=\"padding: 0 0.5em 0 0.5em; text-align: left; border: none;\">Feature</th>\n",
       "            \n",
       "        </tr>\n",
       "        </thead>\n",
       "        <tbody>\n",
       "        \n",
       "            <tr style=\"background-color: hsl(120, 100.00%, 99.61%); border: none;\">\n",
       "    <td style=\"padding: 0 1em 0 0.5em; text-align: right; border: none;\">\n",
       "        +0.035\n",
       "    </td>\n",
       "    <td style=\"padding: 0 0.5em 0 0.5em; text-align: left; border: none;\">\n",
       "        &lt;BIAS&gt;\n",
       "    </td>\n",
       "    \n",
       "</tr>\n",
       "        \n",
       "        \n",
       "\n",
       "        \n",
       "        \n",
       "            <tr style=\"background-color: hsl(0, 100.00%, 80.00%); border: none;\">\n",
       "    <td style=\"padding: 0 1em 0 0.5em; text-align: right; border: none;\">\n",
       "        -9.880\n",
       "    </td>\n",
       "    <td style=\"padding: 0 0.5em 0 0.5em; text-align: left; border: none;\">\n",
       "        Highlighted in text (sum)\n",
       "    </td>\n",
       "    \n",
       "</tr>\n",
       "        \n",
       "\n",
       "        </tbody>\n",
       "    </table>\n",
       "\n",
       "    \n",
       "\n",
       "\n",
       "\n",
       "    <p style=\"margin-bottom: 2.5em; margin-top:-0.5em;\">\n",
       "        <span style=\"background-color: hsl(0, 100.00%, 99.79%); opacity: 0.80\" title=\"-0.001\">movie</span><span style=\"opacity: 0.80\"> </span><span style=\"background-color: hsl(0, 100.00%, 63.60%); opacity: 0.97\" title=\"-1.071\">terrible</span><span style=\"opacity: 0.80\"> </span><span style=\"background-color: hsl(120, 100.00%, 94.79%); opacity: 0.81\" title=\"0.067\">difficult</span><span style=\"opacity: 0.80\"> </span><span style=\"background-color: hsl(0, 100.00%, 90.39%); opacity: 0.83\" title=\"-0.160\">believe</span><span style=\"opacity: 0.80\"> </span><span style=\"background-color: hsl(0, 100.00%, 78.90%); opacity: 0.88\" title=\"-0.492\">katie</span><span style=\"opacity: 0.80\"> </span><span style=\"background-color: hsl(120, 100.00%, 94.80%); opacity: 0.81\" title=\"0.066\">became</span><span style=\"opacity: 0.80\"> </span><span style=\"background-color: hsl(120, 100.00%, 79.67%); opacity: 0.88\" title=\"0.466\">heartfelt</span><span style=\"opacity: 0.80\"> </span><span style=\"background-color: hsl(120, 100.00%, 94.82%); opacity: 0.81\" title=\"0.066\">teenager</span><span style=\"opacity: 0.80\"> </span><span style=\"background-color: hsl(0, 100.00%, 91.20%); opacity: 0.82\" title=\"-0.141\">power</span><span style=\"opacity: 0.80\"> </span><span style=\"background-color: hsl(0, 100.00%, 60.12%); opacity: 1.00\" title=\"-1.221\">save</span><span style=\"opacity: 0.80\"> </span><span style=\"background-color: hsl(120, 100.00%, 91.18%); opacity: 0.82\" title=\"0.141\">pity</span><span style=\"opacity: 0.80\"> </span><span style=\"background-color: hsl(120, 100.00%, 86.69%); opacity: 0.84\" title=\"0.254\">chinese</span><span style=\"opacity: 0.80\"> </span><span style=\"background-color: hsl(120, 100.00%, 94.61%); opacity: 0.81\" title=\"0.070\">people</span><span style=\"opacity: 0.80\"> </span><span style=\"background-color: hsl(0, 100.00%, 99.79%); opacity: 0.80\" title=\"-0.001\">movie</span><span style=\"opacity: 0.80\"> </span><span style=\"background-color: hsl(0, 100.00%, 85.59%); opacity: 0.85\" title=\"-0.285\">didnt</span><span style=\"opacity: 0.80\"> </span><span style=\"background-color: hsl(0, 100.00%, 97.92%); opacity: 0.80\" title=\"-0.018\">show</span><span style=\"opacity: 0.80\"> </span><span style=\"background-color: hsl(0, 100.00%, 93.09%); opacity: 0.82\" title=\"-0.100\">convincing</span><span style=\"opacity: 0.80\"> </span><span style=\"background-color: hsl(120, 100.00%, 98.29%); opacity: 0.80\" title=\"0.014\">argument</span><span style=\"opacity: 0.80\"> </span><span style=\"background-color: hsl(0, 100.00%, 87.89%); opacity: 0.84\" title=\"-0.222\">prove</span><span style=\"opacity: 0.80\"> </span><span style=\"background-color: hsl(0, 100.00%, 88.97%); opacity: 0.83\" title=\"-0.195\">rest</span><span style=\"opacity: 0.80\"> </span><span style=\"background-color: hsl(0, 100.00%, 86.77%); opacity: 0.84\" title=\"-0.252\">plot</span><span style=\"opacity: 0.80\"> </span><span style=\"background-color: hsl(0, 100.00%, 85.59%); opacity: 0.85\" title=\"-0.285\">didnt</span><span style=\"opacity: 0.80\"> </span><span style=\"background-color: hsl(0, 100.00%, 91.45%); opacity: 0.82\" title=\"-0.135\">make</span><span style=\"opacity: 0.80\"> </span><span style=\"background-color: hsl(0, 100.00%, 79.05%); opacity: 0.88\" title=\"-0.487\">effort</span><span style=\"opacity: 0.80\"> </span><span style=\"background-color: hsl(0, 100.00%, 97.92%); opacity: 0.80\" title=\"-0.018\">show</span><span style=\"opacity: 0.80\"> </span><span style=\"background-color: hsl(120, 100.00%, 93.48%); opacity: 0.81\" title=\"0.092\">us</span><span style=\"opacity: 0.80\"> </span><span style=\"background-color: hsl(0, 100.00%, 77.80%); opacity: 0.89\" title=\"-0.529\">cheap</span><span style=\"opacity: 0.80\"> </span><span style=\"background-color: hsl(120, 100.00%, 85.98%); opacity: 0.84\" title=\"0.274\">common</span><span style=\"opacity: 0.80\"> </span><span style=\"background-color: hsl(0, 100.00%, 92.98%); opacity: 0.82\" title=\"-0.102\">sense</span><span style=\"opacity: 0.80\"> </span><span style=\"background-color: hsl(0, 100.00%, 86.77%); opacity: 0.84\" title=\"-0.252\">plot</span><span style=\"opacity: 0.80\"> </span><span style=\"background-color: hsl(0, 100.00%, 64.47%); opacity: 0.97\" title=\"-1.035\">ridiculous</span><span style=\"opacity: 0.80\"> </span><span style=\"background-color: hsl(0, 100.00%, 95.87%); opacity: 0.81\" title=\"-0.048\">thing</span><span style=\"opacity: 0.80\"> </span><span style=\"background-color: hsl(120, 100.00%, 91.73%); opacity: 0.82\" title=\"0.129\">extract</span><span style=\"opacity: 0.80\"> </span><span style=\"background-color: hsl(0, 100.00%, 98.43%); opacity: 0.80\" title=\"-0.012\">demonstrate</span><span style=\"opacity: 0.80\"> </span><span style=\"background-color: hsl(0, 100.00%, 82.98%); opacity: 0.86\" title=\"-0.362\">arrogant</span><span style=\"opacity: 0.80\"> </span><span style=\"background-color: hsl(120, 100.00%, 85.52%); opacity: 0.85\" title=\"0.287\">human</span><span style=\"opacity: 0.80\"> </span><span style=\"background-color: hsl(0, 100.00%, 78.90%); opacity: 0.88\" title=\"-0.492\">katie</span><span style=\"opacity: 0.80\"> </span><span style=\"background-color: hsl(120, 100.00%, 87.53%); opacity: 0.84\" title=\"0.232\">must</span><span style=\"opacity: 0.80\"> </span><span style=\"background-color: hsl(0, 100.00%, 87.92%); opacity: 0.84\" title=\"-0.222\">inherited</span><span style=\"opacity: 0.80\"> </span><span style=\"background-color: hsl(0, 100.00%, 94.62%); opacity: 0.81\" title=\"-0.070\">arrogance</span><span style=\"opacity: 0.80\"> </span><span style=\"background-color: hsl(0, 100.00%, 77.59%); opacity: 0.89\" title=\"-0.536\">mother</span><span style=\"opacity: 0.80\"> </span><span style=\"background-color: hsl(0, 100.00%, 60.00%); opacity: 1.00\" title=\"-1.226\">annoying</span><span style=\"opacity: 0.80\"> </span><span style=\"background-color: hsl(120, 100.00%, 96.40%); opacity: 0.81\" title=\"0.039\">character</span><span style=\"opacity: 0.80\"> </span><span style=\"background-color: hsl(120, 100.00%, 85.26%); opacity: 0.85\" title=\"0.295\">seen</span><span style=\"opacity: 0.80\"> </span><span style=\"background-color: hsl(120, 100.00%, 97.26%); opacity: 0.80\" title=\"0.027\">long</span><span style=\"opacity: 0.80\"> </span><span style=\"background-color: hsl(120, 100.00%, 92.55%); opacity: 0.82\" title=\"0.111\">time</span><span style=\"opacity: 0.80\"> </span><span style=\"background-color: hsl(0, 100.00%, 91.02%); opacity: 0.82\" title=\"-0.145\">acting</span><span style=\"opacity: 0.80\"> </span><span style=\"background-color: hsl(0, 100.00%, 90.24%); opacity: 0.83\" title=\"-0.163\">scenery</span><span style=\"opacity: 0.80\"> </span><span style=\"background-color: hsl(0, 100.00%, 80.70%); opacity: 0.87\" title=\"-0.433\">ok</span><span style=\"opacity: 0.80\"> </span><span style=\"background-color: hsl(0, 100.00%, 86.77%); opacity: 0.84\" title=\"-0.252\">plot</span><span style=\"opacity: 0.80\"> </span><span style=\"background-color: hsl(0, 100.00%, 75.32%); opacity: 0.90\" title=\"-0.615\">ruins</span><span style=\"opacity: 0.80\"> </span><span style=\"background-color: hsl(120, 100.00%, 87.93%); opacity: 0.84\" title=\"0.221\">everything</span><span style=\"opacity: 0.80\"> </span><span style=\"background-color: hsl(120, 100.00%, 93.54%); opacity: 0.81\" title=\"0.091\">full</span><span style=\"opacity: 0.80\"> </span><span style=\"background-color: hsl(0, 100.00%, 77.80%); opacity: 0.89\" title=\"-0.529\">cheap</span><span style=\"opacity: 0.80\"> </span><span style=\"background-color: hsl(0, 100.00%, 86.72%); opacity: 0.84\" title=\"-0.254\">clichés</span><span style=\"opacity: 0.80\"> </span><span style=\"background-color: hsl(0, 100.00%, 89.04%); opacity: 0.83\" title=\"-0.193\">hypocritical</span><span style=\"opacity: 0.80\"> </span><span style=\"background-color: hsl(0, 100.00%, 88.98%); opacity: 0.83\" title=\"-0.194\">scenes</span><span style=\"opacity: 0.80\"> </span><span style=\"background-color: hsl(120, 100.00%, 84.14%); opacity: 0.85\" title=\"0.327\">expect</span><span style=\"opacity: 0.80\"> </span><span style=\"background-color: hsl(120, 100.00%, 88.25%); opacity: 0.83\" title=\"0.213\">see</span><span style=\"opacity: 0.80\"> </span><span style=\"background-color: hsl(0, 100.00%, 99.79%); opacity: 0.80\" title=\"-0.001\">movie</span><span style=\"opacity: 0.80\"> </span><span style=\"background-color: hsl(120, 100.00%, 88.12%); opacity: 0.84\" title=\"0.216\">life</span><span style=\"opacity: 0.80\"> </span><span style=\"background-color: hsl(0, 100.00%, 71.54%); opacity: 0.92\" title=\"-0.754\">skip</span><span style=\"opacity: 0.80\"> </span><span style=\"background-color: hsl(0, 100.00%, 94.14%); opacity: 0.81\" title=\"-0.079\">one</span>\n",
       "    </p>\n",
       "\n",
       "\n",
       "    \n",
       "\n",
       "    \n",
       "\n",
       "    \n",
       "\n",
       "    \n",
       "\n",
       "\n",
       "    \n",
       "\n",
       "    \n",
       "\n",
       "    \n",
       "\n",
       "    \n",
       "\n",
       "    \n",
       "\n",
       "    \n",
       "\n",
       "\n",
       "    \n",
       "\n",
       "    \n",
       "\n",
       "    \n",
       "\n",
       "    \n",
       "\n",
       "    \n",
       "\n",
       "    \n",
       "\n",
       "\n",
       "\n"
      ],
      "text/plain": [
       "<IPython.core.display.HTML object>"
      ]
     },
     "execution_count": 19,
     "metadata": {},
     "output_type": "execute_result"
    }
   ],
   "source": [
    "print('Positive' if test_df['is_positive'].iloc[6] else 'Negative')\n",
    "eli5.show_prediction(classifier, test_df['review'].iloc[6], vec=vectorizer, \n",
    "                     targets=['positive'], target_names=['negative', 'positive'])"
   ]
  },
  {
   "cell_type": "markdown",
   "metadata": {
    "id": "UNNUqZvplhAC"
   },
   "source": [
    "Посмотрим на примеры неправильной классификации, наконец:"
   ]
  },
  {
   "cell_type": "code",
   "execution_count": 20,
   "metadata": {
    "colab": {
     "base_uri": "https://localhost:8080/",
     "height": 572
    },
    "executionInfo": {
     "elapsed": 3859,
     "status": "ok",
     "timestamp": 1674991164979,
     "user": {
      "displayName": "Maxim Gasilin",
      "userId": "15501735730920561422"
     },
     "user_tz": -180
    },
    "id": "yf9ZzS8fXKFm",
    "outputId": "27096078-c85d-4c9a-a229-1ab8d75c8906"
   },
   "outputs": [
    {
     "data": {
      "text/html": [
       "\n",
       "    <style>\n",
       "    table.eli5-weights tr:hover {\n",
       "        filter: brightness(85%);\n",
       "    }\n",
       "</style>\n",
       "\n",
       "\n",
       "\n",
       "    \n",
       "\n",
       "    \n",
       "\n",
       "    \n",
       "\n",
       "    \n",
       "\n",
       "    \n",
       "\n",
       "    \n",
       "\n",
       "\n",
       "    \n",
       "\n",
       "    \n",
       "\n",
       "    \n",
       "\n",
       "    \n",
       "        \n",
       "\n",
       "    \n",
       "\n",
       "        \n",
       "\n",
       "        \n",
       "    \n",
       "        \n",
       "        \n",
       "    \n",
       "        <p style=\"margin-bottom: 0.5em; margin-top: 0em\">\n",
       "            <b>\n",
       "    \n",
       "        y=positive\n",
       "    \n",
       "</b>\n",
       "\n",
       "    \n",
       "    (probability <b>1.000</b>, score <b>15.691</b>)\n",
       "\n",
       "top features\n",
       "        </p>\n",
       "    \n",
       "    <table class=\"eli5-weights\"\n",
       "           style=\"border-collapse: collapse; border: none; margin-top: 0em; table-layout: auto; margin-bottom: 2em;\">\n",
       "        <thead>\n",
       "        <tr style=\"border: none;\">\n",
       "            \n",
       "                <th style=\"padding: 0 1em 0 0.5em; text-align: right; border: none;\" title=\"Feature contribution already accounts for the feature value (for linear models, contribution = weight * feature value), and the sum of feature contributions is equal to the score or, for some classifiers, to the probability. Feature values are shown if &quot;show_feature_values&quot; is True.\">\n",
       "                    Contribution<sup>?</sup>\n",
       "                </th>\n",
       "            \n",
       "            <th style=\"padding: 0 0.5em 0 0.5em; text-align: left; border: none;\">Feature</th>\n",
       "            \n",
       "        </tr>\n",
       "        </thead>\n",
       "        <tbody>\n",
       "        \n",
       "            <tr style=\"background-color: hsl(120, 100.00%, 80.00%); border: none;\">\n",
       "    <td style=\"padding: 0 1em 0 0.5em; text-align: right; border: none;\">\n",
       "        +15.656\n",
       "    </td>\n",
       "    <td style=\"padding: 0 0.5em 0 0.5em; text-align: left; border: none;\">\n",
       "        Highlighted in text (sum)\n",
       "    </td>\n",
       "    \n",
       "</tr>\n",
       "        \n",
       "            <tr style=\"background-color: hsl(120, 100.00%, 99.72%); border: none;\">\n",
       "    <td style=\"padding: 0 1em 0 0.5em; text-align: right; border: none;\">\n",
       "        +0.035\n",
       "    </td>\n",
       "    <td style=\"padding: 0 0.5em 0 0.5em; text-align: left; border: none;\">\n",
       "        &lt;BIAS&gt;\n",
       "    </td>\n",
       "    \n",
       "</tr>\n",
       "        \n",
       "        \n",
       "\n",
       "        \n",
       "        \n",
       "\n",
       "        </tbody>\n",
       "    </table>\n",
       "\n",
       "    \n",
       "\n",
       "\n",
       "\n",
       "    <p style=\"margin-bottom: 2.5em; margin-top:-0.5em;\">\n",
       "        <span style=\"background-color: hsl(120, 100.00%, 94.29%); opacity: 0.81\" title=\"0.087\">saw</span><span style=\"opacity: 0.80\"> </span><span style=\"background-color: hsl(120, 100.00%, 80.03%); opacity: 0.87\" title=\"0.519\">bit</span><span style=\"opacity: 0.80\"> </span><span style=\"background-color: hsl(120, 100.00%, 94.69%); opacity: 0.81\" title=\"0.078\">film</span><span style=\"opacity: 0.80\"> </span><span style=\"background-color: hsl(120, 100.00%, 85.96%); opacity: 0.84\" title=\"0.314\">interested</span><span style=\"opacity: 0.80\"> </span><span style=\"background-color: hsl(120, 100.00%, 89.29%); opacity: 0.83\" title=\"0.213\">see</span><span style=\"opacity: 0.80\"> </span><span style=\"background-color: hsl(120, 100.00%, 94.12%); opacity: 0.81\" title=\"0.091\">full</span><span style=\"opacity: 0.80\"> </span><span style=\"background-color: hsl(0, 100.00%, 96.24%); opacity: 0.81\" title=\"-0.048\">thing</span><span style=\"opacity: 0.80\"> </span><span style=\"background-color: hsl(120, 100.00%, 89.29%); opacity: 0.83\" title=\"0.213\">see</span><span style=\"opacity: 0.80\"> </span><span style=\"background-color: hsl(120, 100.00%, 89.24%); opacity: 0.83\" title=\"0.215\">critics</span><span style=\"opacity: 0.80\"> </span><span style=\"background-color: hsl(120, 100.00%, 94.39%); opacity: 0.81\" title=\"0.085\">give</span><span style=\"opacity: 0.80\"> </span><span style=\"background-color: hsl(0, 100.00%, 98.07%); opacity: 0.80\" title=\"-0.018\">two</span><span style=\"opacity: 0.80\"> </span><span style=\"background-color: hsl(0, 100.00%, 96.36%); opacity: 0.81\" title=\"-0.046\">stars</span><span style=\"opacity: 0.80\"> </span><span style=\"background-color: hsl(0, 100.00%, 88.20%); opacity: 0.83\" title=\"-0.245\">result</span><span style=\"opacity: 0.80\"> </span><span style=\"background-color: hsl(0, 100.00%, 96.92%); opacity: 0.81\" title=\"-0.036\">agree</span><span style=\"opacity: 0.80\"> </span><span style=\"background-color: hsl(0, 100.00%, 68.96%); opacity: 0.94\" title=\"-0.974\">basically</span><span style=\"opacity: 0.80\"> </span><span style=\"background-color: hsl(120, 100.00%, 94.69%); opacity: 0.81\" title=\"0.078\">film</span><span style=\"opacity: 0.80\"> </span><span style=\"background-color: hsl(120, 100.00%, 96.07%); opacity: 0.81\" title=\"0.051\">begins</span><span style=\"opacity: 0.80\"> </span><span style=\"background-color: hsl(120, 100.00%, 76.51%); opacity: 0.89\" title=\"0.654\">kermit</span><span style=\"opacity: 0.80\"> </span><span style=\"background-color: hsl(120, 100.00%, 98.09%); opacity: 0.80\" title=\"0.018\">frog</span><span style=\"opacity: 0.80\"> </span><span style=\"background-color: hsl(120, 100.00%, 88.52%); opacity: 0.83\" title=\"0.235\">steve</span><span style=\"opacity: 0.80\"> </span><span style=\"background-color: hsl(120, 100.00%, 99.37%); opacity: 0.80\" title=\"0.004\">whitmire</span><span style=\"opacity: 0.80\"> </span><span style=\"background-color: hsl(0, 100.00%, 84.86%); opacity: 0.85\" title=\"-0.349\">telling</span><span style=\"opacity: 0.80\"> </span><span style=\"background-color: hsl(120, 100.00%, 90.12%); opacity: 0.83\" title=\"0.190\">muppet</span><span style=\"opacity: 0.80\"> </span><span style=\"background-color: hsl(0, 100.00%, 99.82%); opacity: 0.80\" title=\"-0.001\">chums</span><span style=\"opacity: 0.80\"> </span><span style=\"background-color: hsl(0, 100.00%, 92.54%); opacity: 0.82\" title=\"-0.127\">lost</span><span style=\"opacity: 0.80\"> </span><span style=\"background-color: hsl(120, 100.00%, 89.00%); opacity: 0.83\" title=\"0.221\">everything</span><span style=\"opacity: 0.80\"> </span><span style=\"background-color: hsl(0, 100.00%, 84.61%); opacity: 0.85\" title=\"-0.358\">ends</span><span style=\"opacity: 0.80\"> </span><span style=\"background-color: hsl(0, 100.00%, 80.67%); opacity: 0.87\" title=\"-0.495\">sitting</span><span style=\"opacity: 0.80\"> </span><span style=\"background-color: hsl(120, 100.00%, 85.66%); opacity: 0.85\" title=\"0.323\">depressed</span><span style=\"opacity: 0.80\"> </span><span style=\"background-color: hsl(0, 100.00%, 88.73%); opacity: 0.83\" title=\"-0.229\">possibly</span><span style=\"opacity: 0.80\"> </span><span style=\"background-color: hsl(0, 100.00%, 90.79%); opacity: 0.82\" title=\"-0.172\">thinking</span><span style=\"opacity: 0.80\"> </span><span style=\"background-color: hsl(120, 100.00%, 95.65%); opacity: 0.81\" title=\"0.059\">suicide</span><span style=\"opacity: 0.80\"> </span><span style=\"background-color: hsl(0, 100.00%, 93.17%); opacity: 0.82\" title=\"-0.112\">bench</span><span style=\"opacity: 0.80\"> </span><span style=\"background-color: hsl(0, 100.00%, 79.22%); opacity: 0.88\" title=\"-0.549\">meanwhile</span><span style=\"opacity: 0.80\"> </span><span style=\"background-color: hsl(0, 100.00%, 91.98%); opacity: 0.82\" title=\"-0.141\">another</span><span style=\"opacity: 0.80\"> </span><span style=\"background-color: hsl(120, 100.00%, 82.62%); opacity: 0.86\" title=\"0.425\">world</span><span style=\"opacity: 0.80\"> </span><span style=\"background-color: hsl(120, 100.00%, 86.78%); opacity: 0.84\" title=\"0.288\">heaven</span><span style=\"opacity: 0.80\"> </span><span style=\"background-color: hsl(120, 100.00%, 79.10%); opacity: 0.88\" title=\"0.554\">angel</span><span style=\"opacity: 0.80\"> </span><span style=\"background-color: hsl(120, 100.00%, 75.76%); opacity: 0.90\" title=\"0.685\">daniel</span><span style=\"opacity: 0.80\"> </span><span style=\"background-color: hsl(0, 100.00%, 89.56%); opacity: 0.83\" title=\"-0.206\">david</span><span style=\"opacity: 0.80\"> </span><span style=\"background-color: hsl(0, 100.00%, 86.88%); opacity: 0.84\" title=\"-0.285\">arquette</span><span style=\"opacity: 0.80\"> </span><span style=\"background-color: hsl(0, 100.00%, 89.90%); opacity: 0.83\" title=\"-0.196\">already</span><span style=\"opacity: 0.80\"> </span><span style=\"background-color: hsl(120, 100.00%, 87.99%); opacity: 0.84\" title=\"0.251\">muppets</span><span style=\"opacity: 0.80\"> </span><span style=\"background-color: hsl(120, 100.00%, 99.31%); opacity: 0.80\" title=\"0.004\">space</span><span style=\"opacity: 0.80\"> </span><span style=\"background-color: hsl(120, 100.00%, 84.40%); opacity: 0.85\" title=\"0.365\">visits</span><span style=\"opacity: 0.80\"> </span><span style=\"background-color: hsl(0, 100.00%, 93.29%); opacity: 0.82\" title=\"-0.109\">boss</span><span style=\"opacity: 0.80\"> </span><span style=\"background-color: hsl(120, 100.00%, 68.10%); opacity: 0.94\" title=\"1.013\">whoopi</span><span style=\"opacity: 0.80\"> </span><span style=\"background-color: hsl(120, 100.00%, 92.63%); opacity: 0.82\" title=\"0.125\">goldberg</span><span style=\"opacity: 0.80\"> </span><span style=\"background-color: hsl(0, 100.00%, 91.98%); opacity: 0.82\" title=\"-0.141\">another</span><span style=\"opacity: 0.80\"> </span><span style=\"background-color: hsl(0, 100.00%, 80.72%); opacity: 0.87\" title=\"-0.494\">reason</span><span style=\"opacity: 0.80\"> </span><span style=\"background-color: hsl(0, 100.00%, 89.87%); opacity: 0.83\" title=\"-0.197\">wanted</span><span style=\"opacity: 0.80\"> </span><span style=\"background-color: hsl(120, 100.00%, 89.29%); opacity: 0.83\" title=\"0.213\">see</span><span style=\"opacity: 0.80\"> </span><span style=\"background-color: hsl(120, 100.00%, 94.69%); opacity: 0.81\" title=\"0.078\">film</span><span style=\"opacity: 0.80\"> </span><span style=\"background-color: hsl(0, 100.00%, 98.11%); opacity: 0.80\" title=\"-0.018\">show</span><span style=\"opacity: 0.80\"> </span><span style=\"background-color: hsl(120, 100.00%, 76.51%); opacity: 0.89\" title=\"0.654\">kermit</span><span style=\"opacity: 0.80\"> </span><span style=\"background-color: hsl(0, 100.00%, 97.65%); opacity: 0.80\" title=\"-0.024\">really</span><span style=\"opacity: 0.80\"> </span><span style=\"background-color: hsl(120, 100.00%, 88.24%); opacity: 0.83\" title=\"0.244\">needs</span><span style=\"opacity: 0.80\"> </span><span style=\"background-color: hsl(120, 100.00%, 99.16%); opacity: 0.80\" title=\"0.006\">help</span><span style=\"opacity: 0.80\"> </span><span style=\"background-color: hsl(0, 100.00%, 85.57%); opacity: 0.85\" title=\"-0.326\">flashbacks</span><span style=\"opacity: 0.80\"> </span><span style=\"background-color: hsl(120, 100.00%, 80.67%); opacity: 0.87\" title=\"0.495\">shows</span><span style=\"opacity: 0.80\"> </span><span style=\"background-color: hsl(120, 100.00%, 76.51%); opacity: 0.89\" title=\"0.654\">kermit</span><span style=\"opacity: 0.80\"> </span><span style=\"background-color: hsl(120, 100.00%, 86.28%); opacity: 0.84\" title=\"0.303\">miss</span><span style=\"opacity: 0.80\"> </span><span style=\"background-color: hsl(120, 100.00%, 79.83%); opacity: 0.88\" title=\"0.526\">piggy</span><span style=\"opacity: 0.80\"> </span><span style=\"background-color: hsl(120, 100.00%, 87.14%); opacity: 0.84\" title=\"0.277\">eric</span><span style=\"opacity: 0.80\"> </span><span style=\"background-color: hsl(0, 100.00%, 99.13%); opacity: 0.80\" title=\"-0.006\">jacobson</span><span style=\"opacity: 0.80\"> </span><span style=\"background-color: hsl(0, 100.00%, 86.89%); opacity: 0.84\" title=\"-0.284\">original</span><span style=\"opacity: 0.80\"> </span><span style=\"background-color: hsl(0, 100.00%, 91.76%); opacity: 0.82\" title=\"-0.146\">better</span><span style=\"opacity: 0.80\"> </span><span style=\"background-color: hsl(120, 100.00%, 86.70%); opacity: 0.84\" title=\"0.290\">frank</span><span style=\"opacity: 0.80\"> </span><span style=\"background-color: hsl(120, 100.00%, 92.54%); opacity: 0.82\" title=\"0.127\">oz</span><span style=\"opacity: 0.80\"> </span><span style=\"background-color: hsl(120, 100.00%, 86.89%); opacity: 0.84\" title=\"0.284\">gonzo</span><span style=\"opacity: 0.80\"> </span><span style=\"background-color: hsl(0, 100.00%, 88.68%); opacity: 0.83\" title=\"-0.231\">dave</span><span style=\"opacity: 0.80\"> </span><span style=\"background-color: hsl(120, 100.00%, 99.30%); opacity: 0.80\" title=\"0.004\">goelz</span><span style=\"opacity: 0.80\"> </span><span style=\"background-color: hsl(120, 100.00%, 97.48%); opacity: 0.80\" title=\"0.027\">fozzie</span><span style=\"opacity: 0.80\"> </span><span style=\"background-color: hsl(0, 100.00%, 86.27%); opacity: 0.84\" title=\"-0.304\">bear</span><span style=\"opacity: 0.80\"> </span><span style=\"background-color: hsl(120, 100.00%, 88.07%); opacity: 0.84\" title=\"0.248\">also</span><span style=\"opacity: 0.80\"> </span><span style=\"background-color: hsl(0, 100.00%, 99.13%); opacity: 0.80\" title=\"-0.006\">jacobson</span><span style=\"opacity: 0.80\"> </span><span style=\"background-color: hsl(120, 100.00%, 98.36%); opacity: 0.80\" title=\"0.015\">pepe</span><span style=\"opacity: 0.80\"> prawn </span><span style=\"background-color: hsl(120, 100.00%, 89.18%); opacity: 0.83\" title=\"0.216\">bill</span><span style=\"opacity: 0.80\"> barretta </span><span style=\"background-color: hsl(120, 100.00%, 87.99%); opacity: 0.84\" title=\"0.251\">muppets</span><span style=\"opacity: 0.80\"> </span><span style=\"background-color: hsl(0, 100.00%, 87.91%); opacity: 0.84\" title=\"-0.253\">prepared</span><span style=\"opacity: 0.80\"> </span><span style=\"background-color: hsl(0, 100.00%, 85.00%); opacity: 0.85\" title=\"-0.345\">stage</span><span style=\"opacity: 0.80\"> </span><span style=\"background-color: hsl(0, 100.00%, 98.11%); opacity: 0.80\" title=\"-0.018\">show</span><span style=\"opacity: 0.80\"> </span><span style=\"background-color: hsl(120, 100.00%, 95.05%); opacity: 0.81\" title=\"0.071\">many</span><span style=\"opacity: 0.80\"> </span><span style=\"background-color: hsl(120, 100.00%, 95.08%); opacity: 0.81\" title=\"0.070\">people</span><span style=\"opacity: 0.80\"> </span><span style=\"background-color: hsl(120, 100.00%, 89.29%); opacity: 0.83\" title=\"0.213\">see</span><span style=\"opacity: 0.80\"> </span><span style=\"background-color: hsl(0, 100.00%, 80.15%); opacity: 0.87\" title=\"-0.514\">christmas</span><span style=\"opacity: 0.80\"> </span><span style=\"background-color: hsl(0, 100.00%, 90.42%); opacity: 0.83\" title=\"-0.182\">holiday</span><span style=\"opacity: 0.80\"> </span><span style=\"background-color: hsl(0, 100.00%, 84.44%); opacity: 0.85\" title=\"-0.363\">seems</span><span style=\"opacity: 0.80\"> </span><span style=\"background-color: hsl(0, 100.00%, 91.81%); opacity: 0.82\" title=\"-0.145\">going</span><span style=\"opacity: 0.80\"> </span><span style=\"background-color: hsl(120, 100.00%, 82.69%); opacity: 0.86\" title=\"0.423\">well</span><span style=\"opacity: 0.80\"> </span><span style=\"background-color: hsl(0, 100.00%, 97.65%); opacity: 0.80\" title=\"-0.024\">really</span><span style=\"opacity: 0.80\"> </span><span style=\"background-color: hsl(0, 100.00%, 88.83%); opacity: 0.83\" title=\"-0.226\">mean</span><span style=\"opacity: 0.80\"> </span><span style=\"background-color: hsl(120, 100.00%, 87.69%); opacity: 0.84\" title=\"0.260\">rachel</span><span style=\"opacity: 0.80\"> </span><span style=\"background-color: hsl(120, 100.00%, 99.85%); opacity: 0.80\" title=\"0.000\">bitterman</span><span style=\"opacity: 0.80\"> </span><span style=\"background-color: hsl(120, 100.00%, 81.32%); opacity: 0.87\" title=\"0.472\">joan</span><span style=\"opacity: 0.80\"> </span><span style=\"background-color: hsl(0, 100.00%, 98.72%); opacity: 0.80\" title=\"-0.010\">cusack</span><span style=\"opacity: 0.80\"> </span><span style=\"background-color: hsl(120, 100.00%, 96.89%); opacity: 0.81\" title=\"0.036\">determined</span><span style=\"opacity: 0.80\"> </span><span style=\"background-color: hsl(0, 100.00%, 93.22%); opacity: 0.82\" title=\"-0.111\">either</span><span style=\"opacity: 0.80\"> </span><span style=\"background-color: hsl(120, 100.00%, 96.50%); opacity: 0.81\" title=\"0.043\">shut</span><span style=\"opacity: 0.80\"> </span><span style=\"background-color: hsl(0, 100.00%, 98.11%); opacity: 0.80\" title=\"-0.018\">show</span><span style=\"opacity: 0.80\"> </span><span style=\"background-color: hsl(0, 100.00%, 93.91%); opacity: 0.81\" title=\"-0.095\">theatre</span><span style=\"opacity: 0.80\"> </span><span style=\"background-color: hsl(120, 100.00%, 76.51%); opacity: 0.89\" title=\"0.654\">kermit</span><span style=\"opacity: 0.80\"> </span><span style=\"background-color: hsl(120, 100.00%, 89.00%); opacity: 0.83\" title=\"0.221\">everything</span><span style=\"opacity: 0.80\"> </span><span style=\"background-color: hsl(120, 100.00%, 98.38%); opacity: 0.80\" title=\"0.014\">possible</span><span style=\"opacity: 0.80\"> </span><span style=\"background-color: hsl(0, 100.00%, 92.21%); opacity: 0.82\" title=\"-0.135\">make</span><span style=\"opacity: 0.80\"> </span><span style=\"background-color: hsl(120, 100.00%, 91.18%); opacity: 0.82\" title=\"0.162\">sure</span><span style=\"opacity: 0.80\"> </span><span style=\"background-color: hsl(0, 100.00%, 91.34%); opacity: 0.82\" title=\"-0.157\">doesnt</span><span style=\"opacity: 0.80\"> </span><span style=\"background-color: hsl(120, 100.00%, 86.85%); opacity: 0.84\" title=\"0.286\">happen</span><span style=\"opacity: 0.80\"> </span><span style=\"background-color: hsl(120, 100.00%, 89.68%); opacity: 0.83\" title=\"0.202\">course</span><span style=\"opacity: 0.80\"> </span><span style=\"background-color: hsl(120, 100.00%, 76.51%); opacity: 0.89\" title=\"0.654\">kermit</span><span style=\"opacity: 0.80\"> </span><span style=\"background-color: hsl(0, 100.00%, 60.00%); opacity: 1.00\" title=\"-1.400\">fails</span><span style=\"opacity: 0.80\"> </span><span style=\"background-color: hsl(120, 100.00%, 88.76%); opacity: 0.83\" title=\"0.228\">last</span><span style=\"opacity: 0.80\"> </span><span style=\"background-color: hsl(120, 100.00%, 93.21%); opacity: 0.82\" title=\"0.111\">time</span><span style=\"opacity: 0.80\"> </span><span style=\"background-color: hsl(120, 100.00%, 99.85%); opacity: 0.80\" title=\"0.000\">bitterman</span><span style=\"opacity: 0.80\"> </span><span style=\"background-color: hsl(120, 100.00%, 85.14%); opacity: 0.85\" title=\"0.340\">tells</span><span style=\"opacity: 0.80\"> </span><span style=\"background-color: hsl(120, 100.00%, 96.39%); opacity: 0.81\" title=\"0.045\">finished</span><span style=\"opacity: 0.80\"> </span><span style=\"background-color: hsl(120, 100.00%, 87.25%); opacity: 0.84\" title=\"0.273\">officially</span><span style=\"opacity: 0.80\"> </span><span style=\"background-color: hsl(120, 100.00%, 89.07%); opacity: 0.83\" title=\"0.219\">take</span><span style=\"opacity: 0.80\"> </span><span style=\"background-color: hsl(0, 100.00%, 93.91%); opacity: 0.81\" title=\"-0.095\">theatre</span><span style=\"opacity: 0.80\"> </span><span style=\"background-color: hsl(120, 100.00%, 75.76%); opacity: 0.90\" title=\"0.685\">daniel</span><span style=\"opacity: 0.80\"> </span><span style=\"background-color: hsl(120, 100.00%, 75.91%); opacity: 0.90\" title=\"0.678\">sent</span><span style=\"opacity: 0.80\"> </span><span style=\"background-color: hsl(120, 100.00%, 89.45%); opacity: 0.83\" title=\"0.209\">kermits</span><span style=\"opacity: 0.80\"> </span><span style=\"background-color: hsl(120, 100.00%, 97.67%); opacity: 0.80\" title=\"0.024\">guardian</span><span style=\"opacity: 0.80\"> </span><span style=\"background-color: hsl(120, 100.00%, 79.10%); opacity: 0.88\" title=\"0.554\">angel</span><span style=\"opacity: 0.80\"> </span><span style=\"background-color: hsl(0, 100.00%, 89.44%); opacity: 0.83\" title=\"-0.209\">try</span><span style=\"opacity: 0.80\"> </span><span style=\"background-color: hsl(120, 100.00%, 99.16%); opacity: 0.80\" title=\"0.006\">help</span><span style=\"opacity: 0.80\"> </span><span style=\"background-color: hsl(120, 100.00%, 76.51%); opacity: 0.89\" title=\"0.654\">kermit</span><span style=\"opacity: 0.80\"> </span><span style=\"background-color: hsl(0, 100.00%, 90.83%); opacity: 0.82\" title=\"-0.171\">mood</span><span style=\"opacity: 0.80\"> </span><span style=\"background-color: hsl(120, 100.00%, 94.52%); opacity: 0.81\" title=\"0.082\">eventually</span><span style=\"opacity: 0.80\"> </span><span style=\"background-color: hsl(0, 100.00%, 84.61%); opacity: 0.85\" title=\"-0.358\">ends</span><span style=\"opacity: 0.80\"> </span><span style=\"background-color: hsl(0, 100.00%, 89.58%); opacity: 0.83\" title=\"-0.205\">saying</span><span style=\"opacity: 0.80\"> </span><span style=\"background-color: hsl(120, 100.00%, 86.76%); opacity: 0.84\" title=\"0.288\">wish</span><span style=\"opacity: 0.80\"> </span><span style=\"background-color: hsl(120, 100.00%, 95.47%); opacity: 0.81\" title=\"0.062\">never</span><span style=\"opacity: 0.80\"> </span><span style=\"background-color: hsl(120, 100.00%, 97.19%); opacity: 0.80\" title=\"0.032\">born</span><span style=\"opacity: 0.80\"> </span><span style=\"background-color: hsl(0, 100.00%, 90.72%); opacity: 0.82\" title=\"-0.174\">obviously</span><span style=\"opacity: 0.80\"> </span><span style=\"background-color: hsl(120, 100.00%, 94.02%); opacity: 0.81\" title=\"0.093\">recognise</span><span style=\"opacity: 0.80\"> </span><span style=\"background-color: hsl(0, 100.00%, 92.84%); opacity: 0.82\" title=\"-0.120\">spoof</span><span style=\"opacity: 0.80\"> </span><span style=\"background-color: hsl(120, 100.00%, 69.04%); opacity: 0.94\" title=\"0.971\">wonderful</span><span style=\"opacity: 0.80\"> </span><span style=\"background-color: hsl(120, 100.00%, 89.17%); opacity: 0.83\" title=\"0.216\">life</span><span style=\"opacity: 0.80\"> </span><span style=\"background-color: hsl(120, 100.00%, 76.51%); opacity: 0.89\" title=\"0.654\">kermit</span><span style=\"opacity: 0.80\"> </span><span style=\"background-color: hsl(0, 100.00%, 93.66%); opacity: 0.81\" title=\"-0.101\">george</span><span style=\"opacity: 0.80\"> </span><span style=\"background-color: hsl(0, 100.00%, 92.29%); opacity: 0.82\" title=\"-0.133\">bailey</span><span style=\"opacity: 0.80\"> </span><span style=\"background-color: hsl(0, 100.00%, 98.72%); opacity: 0.80\" title=\"-0.010\">cusack</span><span style=\"opacity: 0.80\"> </span><span style=\"background-color: hsl(0, 100.00%, 92.75%); opacity: 0.82\" title=\"-0.122\">mr</span><span style=\"opacity: 0.80\"> </span><span style=\"background-color: hsl(0, 100.00%, 92.81%); opacity: 0.82\" title=\"-0.120\">potter</span><span style=\"opacity: 0.80\"> </span><span style=\"background-color: hsl(120, 100.00%, 95.24%); opacity: 0.81\" title=\"0.067\">end</span><span style=\"opacity: 0.80\"> </span><span style=\"background-color: hsl(0, 100.00%, 90.72%); opacity: 0.82\" title=\"-0.174\">obviously</span><span style=\"opacity: 0.80\"> </span><span style=\"background-color: hsl(120, 100.00%, 76.51%); opacity: 0.89\" title=\"0.654\">kermit</span><span style=\"opacity: 0.80\"> </span><span style=\"background-color: hsl(0, 100.00%, 92.43%); opacity: 0.82\" title=\"-0.130\">realises</span><span style=\"opacity: 0.80\"> </span><span style=\"background-color: hsl(0, 100.00%, 90.94%); opacity: 0.82\" title=\"-0.168\">much</span><span style=\"opacity: 0.80\"> </span><span style=\"background-color: hsl(0, 100.00%, 97.18%); opacity: 0.80\" title=\"-0.032\">means</span><span style=\"opacity: 0.80\"> </span><span style=\"background-color: hsl(120, 100.00%, 84.14%); opacity: 0.85\" title=\"0.373\">everyone</span><span style=\"opacity: 0.80\"> </span><span style=\"background-color: hsl(0, 100.00%, 91.42%); opacity: 0.82\" title=\"-0.155\">goes</span><span style=\"opacity: 0.80\"> </span><span style=\"background-color: hsl(0, 100.00%, 98.62%); opacity: 0.80\" title=\"-0.011\">back</span><span style=\"opacity: 0.80\"> </span><span style=\"background-color: hsl(120, 100.00%, 92.43%); opacity: 0.82\" title=\"0.130\">find</span><span style=\"opacity: 0.80\"> </span><span style=\"background-color: hsl(0, 100.00%, 93.91%); opacity: 0.81\" title=\"-0.095\">theatre</span><span style=\"opacity: 0.80\"> </span><span style=\"background-color: hsl(0, 100.00%, 81.57%); opacity: 0.87\" title=\"-0.463\">saved</span><span style=\"opacity: 0.80\"> </span><span style=\"background-color: hsl(0, 100.00%, 88.80%); opacity: 0.83\" title=\"-0.227\">historical</span><span style=\"opacity: 0.80\"> </span><span style=\"background-color: hsl(120, 100.00%, 89.01%); opacity: 0.83\" title=\"0.221\">landmark</span><span style=\"opacity: 0.80\"> </span><span style=\"background-color: hsl(120, 100.00%, 88.07%); opacity: 0.84\" title=\"0.248\">also</span><span style=\"opacity: 0.80\"> </span><span style=\"background-color: hsl(120, 100.00%, 79.18%); opacity: 0.88\" title=\"0.551\">starring</span><span style=\"opacity: 0.80\"> </span><span style=\"background-color: hsl(120, 100.00%, 99.37%); opacity: 0.80\" title=\"0.004\">whitmire</span><span style=\"opacity: 0.80\"> </span><span style=\"background-color: hsl(120, 100.00%, 92.52%); opacity: 0.82\" title=\"0.128\">rizzo</span><span style=\"opacity: 0.80\"> </span><span style=\"background-color: hsl(0, 100.00%, 77.75%); opacity: 0.89\" title=\"-0.606\">rat</span><span style=\"opacity: 0.80\"> </span><span style=\"background-color: hsl(120, 100.00%, 99.07%); opacity: 0.80\" title=\"0.007\">beaker</span><span style=\"opacity: 0.80\"> </span><span style=\"background-color: hsl(120, 100.00%, 99.30%); opacity: 0.80\" title=\"0.004\">goelz</span><span style=\"opacity: 0.80\"> </span><span style=\"background-color: hsl(0, 100.00%, 95.64%); opacity: 0.81\" title=\"-0.059\">dr</span><span style=\"opacity: 0.80\"> </span><span style=\"background-color: hsl(120, 100.00%, 98.92%); opacity: 0.80\" title=\"0.008\">bunsen</span><span style=\"opacity: 0.80\"> honeydew </span><span style=\"background-color: hsl(120, 100.00%, 99.26%); opacity: 0.80\" title=\"0.005\">waldorf</span><span style=\"opacity: 0.80\"> barretta </span><span style=\"background-color: hsl(0, 100.00%, 95.64%); opacity: 0.81\" title=\"-0.059\">dr</span><span style=\"opacity: 0.80\"> </span><span style=\"background-color: hsl(0, 100.00%, 76.75%); opacity: 0.89\" title=\"-0.645\">teeth</span><span style=\"opacity: 0.80\"> </span><span style=\"background-color: hsl(120, 100.00%, 98.54%); opacity: 0.80\" title=\"0.012\">rowlf</span><span style=\"opacity: 0.80\"> </span><span style=\"background-color: hsl(0, 100.00%, 87.58%); opacity: 0.84\" title=\"-0.263\">dog</span><span style=\"opacity: 0.80\"> </span><span style=\"background-color: hsl(120, 100.00%, 88.44%); opacity: 0.83\" title=\"0.238\">swedish</span><span style=\"opacity: 0.80\"> </span><span style=\"background-color: hsl(120, 100.00%, 87.11%); opacity: 0.84\" title=\"0.277\">chef</span><span style=\"opacity: 0.80\"> </span><span style=\"background-color: hsl(0, 100.00%, 99.13%); opacity: 0.80\" title=\"-0.006\">jacobson</span><span style=\"opacity: 0.80\"> </span><span style=\"background-color: hsl(0, 100.00%, 73.61%); opacity: 0.91\" title=\"-0.773\">animal</span><span style=\"opacity: 0.80\"> </span><span style=\"background-color: hsl(120, 100.00%, 91.17%); opacity: 0.82\" title=\"0.162\">yoda</span><span style=\"opacity: 0.80\"> </span><span style=\"background-color: hsl(120, 100.00%, 96.72%); opacity: 0.81\" title=\"0.039\">character</span><span style=\"opacity: 0.80\"> </span><span style=\"background-color: hsl(0, 100.00%, 93.25%); opacity: 0.82\" title=\"-0.110\">sounds</span><span style=\"opacity: 0.80\"> </span><span style=\"background-color: hsl(120, 100.00%, 89.24%); opacity: 0.83\" title=\"0.215\">similar</span><span style=\"opacity: 0.80\"> </span><span style=\"background-color: hsl(0, 100.00%, 99.79%); opacity: 0.80\" title=\"-0.001\">ozs</span><span style=\"opacity: 0.80\"> </span><span style=\"background-color: hsl(0, 100.00%, 97.52%); opacity: 0.80\" title=\"-0.026\">version</span><span style=\"opacity: 0.80\"> </span><span style=\"background-color: hsl(120, 100.00%, 96.26%); opacity: 0.81\" title=\"0.047\">william</span><span style=\"opacity: 0.80\"> h </span><span style=\"background-color: hsl(120, 100.00%, 86.43%); opacity: 0.84\" title=\"0.299\">macy</span><span style=\"opacity: 0.80\"> </span><span style=\"background-color: hsl(120, 100.00%, 93.34%); opacity: 0.82\" title=\"0.108\">glenn</span><span style=\"opacity: 0.80\"> </span><span style=\"background-color: hsl(0, 100.00%, 83.89%); opacity: 0.85\" title=\"-0.382\">matthew</span><span style=\"opacity: 0.80\"> </span><span style=\"background-color: hsl(120, 100.00%, 97.51%); opacity: 0.80\" title=\"0.027\">lillard</span><span style=\"opacity: 0.80\"> </span><span style=\"background-color: hsl(0, 100.00%, 80.44%); opacity: 0.87\" title=\"-0.504\">luc</span><span style=\"opacity: 0.80\"> </span><span style=\"background-color: hsl(0, 100.00%, 97.28%); opacity: 0.80\" title=\"-0.030\">fromage</span><span style=\"opacity: 0.80\"> </span><span style=\"background-color: hsl(120, 100.00%, 94.18%); opacity: 0.81\" title=\"0.089\">carson</span><span style=\"opacity: 0.80\"> </span><span style=\"background-color: hsl(0, 100.00%, 95.67%); opacity: 0.81\" title=\"-0.058\">daly</span><span style=\"opacity: 0.80\"> </span><span style=\"background-color: hsl(0, 100.00%, 90.93%); opacity: 0.82\" title=\"-0.168\">molly</span><span style=\"opacity: 0.80\"> </span><span style=\"background-color: hsl(120, 100.00%, 73.25%); opacity: 0.91\" title=\"0.788\">shannon</span><span style=\"opacity: 0.80\"> </span><span style=\"background-color: hsl(0, 100.00%, 87.16%); opacity: 0.84\" title=\"-0.276\">scrubs</span><span style=\"opacity: 0.80\"> </span><span style=\"background-color: hsl(0, 100.00%, 91.47%); opacity: 0.82\" title=\"-0.154\">zach</span><span style=\"opacity: 0.80\"> braff </span><span style=\"background-color: hsl(120, 100.00%, 89.72%); opacity: 0.83\" title=\"0.201\">sarah</span><span style=\"opacity: 0.80\"> chalke </span><span style=\"background-color: hsl(0, 100.00%, 99.23%); opacity: 0.80\" title=\"-0.005\">neil</span><span style=\"opacity: 0.80\"> </span><span style=\"background-color: hsl(120, 100.00%, 88.74%); opacity: 0.83\" title=\"0.229\">flynn</span><span style=\"opacity: 0.80\"> </span><span style=\"background-color: hsl(120, 100.00%, 92.42%); opacity: 0.82\" title=\"0.130\">john</span><span style=\"opacity: 0.80\"> c </span><span style=\"background-color: hsl(0, 100.00%, 95.20%); opacity: 0.81\" title=\"-0.068\">mcginley</span><span style=\"opacity: 0.80\"> </span><span style=\"background-color: hsl(120, 100.00%, 83.69%); opacity: 0.86\" title=\"0.389\">judy</span><span style=\"opacity: 0.80\"> </span><span style=\"background-color: hsl(0, 100.00%, 96.86%); opacity: 0.81\" title=\"-0.037\">reyes</span><span style=\"opacity: 0.80\"> </span><span style=\"background-color: hsl(120, 100.00%, 82.95%); opacity: 0.86\" title=\"0.414\">mel</span><span style=\"opacity: 0.80\"> </span><span style=\"background-color: hsl(0, 100.00%, 94.84%); opacity: 0.81\" title=\"-0.075\">brooks</span><span style=\"opacity: 0.80\"> </span><span style=\"background-color: hsl(0, 100.00%, 90.74%); opacity: 0.82\" title=\"-0.173\">joe</span><span style=\"opacity: 0.80\"> </span><span style=\"background-color: hsl(0, 100.00%, 81.58%); opacity: 0.87\" title=\"-0.462\">snow</span><span style=\"opacity: 0.80\"> </span><span style=\"background-color: hsl(120, 100.00%, 88.92%); opacity: 0.83\" title=\"0.224\">brian</span><span style=\"opacity: 0.80\"> </span><span style=\"background-color: hsl(0, 100.00%, 93.93%); opacity: 0.81\" title=\"-0.095\">henson</span><span style=\"opacity: 0.80\"> </span><span style=\"background-color: hsl(120, 100.00%, 94.30%); opacity: 0.81\" title=\"0.087\">scooter</span><span style=\"opacity: 0.80\"> </span><span style=\"background-color: hsl(120, 100.00%, 98.38%); opacity: 0.80\" title=\"0.014\">janice</span><span style=\"opacity: 0.80\"> </span><span style=\"background-color: hsl(120, 100.00%, 81.44%); opacity: 0.87\" title=\"0.467\">jerry</span><span style=\"opacity: 0.80\"> </span><span style=\"background-color: hsl(120, 100.00%, 92.46%); opacity: 0.82\" title=\"0.129\">nelson</span><span style=\"opacity: 0.80\"> </span><span style=\"background-color: hsl(0, 100.00%, 87.24%); opacity: 0.84\" title=\"-0.274\">robin</span><span style=\"opacity: 0.80\"> </span><span style=\"background-color: hsl(120, 100.00%, 98.09%); opacity: 0.80\" title=\"0.018\">frog</span><span style=\"opacity: 0.80\"> </span><span style=\"background-color: hsl(120, 100.00%, 99.30%); opacity: 0.80\" title=\"0.004\">statler</span><span style=\"opacity: 0.80\"> </span><span style=\"background-color: hsl(120, 100.00%, 84.84%); opacity: 0.85\" title=\"0.350\">pops</span><span style=\"opacity: 0.80\"> </span><span style=\"background-color: hsl(120, 100.00%, 86.48%); opacity: 0.84\" title=\"0.297\">floyd</span><span style=\"opacity: 0.80\"> </span><span style=\"background-color: hsl(0, 100.00%, 92.92%); opacity: 0.82\" title=\"-0.118\">pepper</span><span style=\"opacity: 0.80\"> </span><span style=\"background-color: hsl(120, 100.00%, 97.29%); opacity: 0.80\" title=\"0.030\">kevin</span><span style=\"opacity: 0.80\"> </span><span style=\"background-color: hsl(0, 100.00%, 98.57%); opacity: 0.80\" title=\"-0.012\">clash</span><span style=\"opacity: 0.80\"> </span><span style=\"background-color: hsl(120, 100.00%, 96.46%); opacity: 0.81\" title=\"0.044\">sam</span><span style=\"opacity: 0.80\"> </span><span style=\"background-color: hsl(120, 100.00%, 84.53%); opacity: 0.85\" title=\"0.360\">eagle</span><span style=\"opacity: 0.80\"> </span><span style=\"background-color: hsl(120, 100.00%, 91.35%); opacity: 0.82\" title=\"0.157\">memorable</span><span style=\"opacity: 0.80\"> </span><span style=\"background-color: hsl(0, 100.00%, 96.40%); opacity: 0.81\" title=\"-0.045\">moment</span><span style=\"opacity: 0.80\"> </span><span style=\"background-color: hsl(0, 100.00%, 85.00%); opacity: 0.85\" title=\"-0.345\">stage</span><span style=\"opacity: 0.80\"> </span><span style=\"background-color: hsl(0, 100.00%, 92.84%); opacity: 0.82\" title=\"-0.120\">spoof</span><span style=\"opacity: 0.80\"> </span><span style=\"background-color: hsl(120, 100.00%, 90.15%); opacity: 0.83\" title=\"0.189\">moulin</span><span style=\"opacity: 0.80\"> </span><span style=\"background-color: hsl(120, 100.00%, 91.15%); opacity: 0.82\" title=\"0.162\">rouge</span><span style=\"opacity: 0.80\"> </span><span style=\"background-color: hsl(0, 100.00%, 91.22%); opacity: 0.82\" title=\"-0.160\">besides</span><span style=\"opacity: 0.80\"> </span><span style=\"background-color: hsl(120, 100.00%, 82.69%); opacity: 0.86\" title=\"0.423\">well</span><span style=\"opacity: 0.80\"> </span><span style=\"background-color: hsl(120, 100.00%, 89.07%); opacity: 0.83\" title=\"0.219\">known</span><span style=\"opacity: 0.80\"> </span><span style=\"background-color: hsl(0, 100.00%, 95.15%); opacity: 0.81\" title=\"-0.069\">faces</span><span style=\"opacity: 0.80\"> </span><span style=\"background-color: hsl(120, 100.00%, 69.93%); opacity: 0.93\" title=\"0.931\">fantastic</span><span style=\"opacity: 0.80\"> </span><span style=\"background-color: hsl(0, 100.00%, 95.20%); opacity: 0.81\" title=\"-0.068\">nominated</span><span style=\"opacity: 0.80\"> </span><span style=\"background-color: hsl(120, 100.00%, 87.50%); opacity: 0.84\" title=\"0.266\">emmy</span><span style=\"opacity: 0.80\"> </span><span style=\"background-color: hsl(120, 100.00%, 74.82%); opacity: 0.90\" title=\"0.723\">outstanding</span><span style=\"opacity: 0.80\"> </span><span style=\"background-color: hsl(120, 100.00%, 95.53%); opacity: 0.81\" title=\"0.061\">music</span><span style=\"opacity: 0.80\"> </span><span style=\"background-color: hsl(120, 100.00%, 82.44%); opacity: 0.86\" title=\"0.432\">lyrics</span><span style=\"opacity: 0.80\"> </span><span style=\"background-color: hsl(120, 100.00%, 97.25%); opacity: 0.80\" title=\"0.031\">song</span><span style=\"opacity: 0.80\"> </span><span style=\"background-color: hsl(120, 100.00%, 84.14%); opacity: 0.85\" title=\"0.373\">everyone</span><span style=\"opacity: 0.80\"> </span><span style=\"background-color: hsl(120, 100.00%, 83.40%); opacity: 0.86\" title=\"0.399\">matters</span><span style=\"opacity: 0.80\"> </span><span style=\"background-color: hsl(120, 100.00%, 87.99%); opacity: 0.84\" title=\"0.251\">muppets</span><span style=\"opacity: 0.80\"> </span><span style=\"background-color: hsl(120, 100.00%, 87.08%); opacity: 0.84\" title=\"0.278\">number</span><span style=\"opacity: 0.80\"> </span><span style=\"background-color: hsl(120, 100.00%, 94.96%); opacity: 0.81\" title=\"0.073\">47</span><span style=\"opacity: 0.80\"> </span><span style=\"background-color: hsl(120, 100.00%, 99.56%); opacity: 0.80\" title=\"0.002\">100</span><span style=\"opacity: 0.80\"> </span><span style=\"background-color: hsl(120, 100.00%, 76.70%); opacity: 0.89\" title=\"0.647\">greatest</span><span style=\"opacity: 0.80\"> </span><span style=\"background-color: hsl(120, 100.00%, 99.27%); opacity: 0.80\" title=\"0.005\">pop</span><span style=\"opacity: 0.80\"> </span><span style=\"background-color: hsl(0, 100.00%, 97.91%); opacity: 0.80\" title=\"-0.021\">culture</span><span style=\"opacity: 0.80\"> </span><span style=\"background-color: hsl(120, 100.00%, 81.84%); opacity: 0.86\" title=\"0.453\">icons</span><span style=\"opacity: 0.80\"> </span><span style=\"background-color: hsl(0, 100.00%, 78.47%); opacity: 0.88\" title=\"-0.578\">adequate</span>\n",
       "    </p>\n",
       "\n",
       "\n",
       "    \n",
       "\n",
       "    \n",
       "\n",
       "    \n",
       "\n",
       "    \n",
       "\n",
       "\n",
       "    \n",
       "\n",
       "    \n",
       "\n",
       "    \n",
       "\n",
       "    \n",
       "\n",
       "    \n",
       "\n",
       "    \n",
       "\n",
       "\n",
       "    \n",
       "\n",
       "    \n",
       "\n",
       "    \n",
       "\n",
       "    \n",
       "\n",
       "    \n",
       "\n",
       "    \n",
       "\n",
       "\n",
       "\n"
      ],
      "text/plain": [
       "<IPython.core.display.HTML object>"
      ]
     },
     "execution_count": 20,
     "metadata": {},
     "output_type": "execute_result"
    }
   ],
   "source": [
    "import numpy as np\n",
    "\n",
    "preds_vount_vect = model.predict(test_df['review'])\n",
    "\n",
    "incorrect_pred_index = np.random.choice(np.where(preds_vount_vect != test_df['is_positive'])[0])\n",
    "\n",
    "eli5.show_prediction(classifier, \n",
    "                     test_df['review'].iloc[incorrect_pred_index],\n",
    "                     vec=vectorizer, \n",
    "                     targets=['positive'], \n",
    "                     target_names=['negative', 'positive'])"
   ]
  },
  {
   "cell_type": "markdown",
   "metadata": {
    "id": "ZbFXKNrngP46"
   },
   "source": [
    "## Придумываем новые признаки"
   ]
  },
  {
   "cell_type": "markdown",
   "metadata": {
    "id": "dz7GSFzIlv4V"
   },
   "source": [
    "### Tf-idf\n",
    "\n",
    "Сейчас мы на все слова смотрим с одинаковым весом - хотя какие-то из них более редкие, какие-то более частые, и эта частотность - полезная, вообще говоря, информация.\n",
    "\n",
    "Самый простой способ добавить статистическую информацию о частотностях - сделать *tf-idf* взвешивание:\n",
    "\n",
    "$$\\text{tf-idf}(t, d) = \\text{tf}(t, d) \\times \\text{idf}(t)$$\n",
    "\n",
    "*tf* - term-frequency - частотность слова `t` в конкретном документе `d` (рецензии в нашем случае). Это ровно то, что мы уже считали.\n",
    "\n",
    "*idf* - inverse document-frequency - коэффициент, который тем больше, чем в меньшем числе документов встречалось данное слово. Считается как-нибудь так:\n",
    "$$\\text{idf}(t) = \\text{log}\\frac{1 + n_d}{1 + n_{d(t)}} + 1$$\n",
    "где $n_d$ - число всех документов, а $n_{d(t)}$ - число документов со словом `t`.\n",
    "\n",
    "Использовать его просто - нужно заменить `CountVectorizer` на `TfidfVectorizer`.\n",
    "\n",
    "**Задание** Попробуйте запустить `TfidfVectorizer`. Посмотрите на ошибки, которые он научился исправлять, и на ошибки, которые он начал делать - по сравнению с `CountVectorizer`."
   ]
  },
  {
   "cell_type": "code",
   "execution_count": 21,
   "metadata": {
    "colab": {
     "base_uri": "https://localhost:8080/"
    },
    "executionInfo": {
     "elapsed": 10560,
     "status": "ok",
     "timestamp": 1674991183135,
     "user": {
      "displayName": "Maxim Gasilin",
      "userId": "15501735730920561422"
     },
     "user_tz": -180
    },
    "id": "p3DjjiJglvT3",
    "outputId": "855bfd00-2dc1-46ee-d3c4-dc39133d477c"
   },
   "outputs": [
    {
     "name": "stdout",
     "output_type": "stream",
     "text": [
      "Test accuracy = 88.58%\n"
     ]
    }
   ],
   "source": [
    "from sklearn.feature_extraction.text import TfidfVectorizer\n",
    "\n",
    "vectorizer = TfidfVectorizer()\n",
    "classifier = LogisticRegression()\n",
    "\n",
    "model = Pipeline([\n",
    "    ('vectorizer', vectorizer),\n",
    "    ('classifier', classifier)\n",
    "])\n",
    "\n",
    "model.fit(train_df['review'], train_df['is_positive'])\n",
    "\n",
    "eval_model(model, test_df)"
   ]
  },
  {
   "cell_type": "code",
   "execution_count": 22,
   "metadata": {
    "colab": {
     "base_uri": "https://localhost:8080/",
     "height": 874
    },
    "executionInfo": {
     "elapsed": 337,
     "status": "ok",
     "timestamp": 1674991206345,
     "user": {
      "displayName": "Maxim Gasilin",
      "userId": "15501735730920561422"
     },
     "user_tz": -180
    },
    "id": "j2LLEBXpsWI7",
    "outputId": "04eb08e3-2ac7-4f2e-f34f-9893a3535737"
   },
   "outputs": [
    {
     "data": {
      "text/html": [
       "\n",
       "    <style>\n",
       "    table.eli5-weights tr:hover {\n",
       "        filter: brightness(85%);\n",
       "    }\n",
       "</style>\n",
       "\n",
       "\n",
       "\n",
       "    \n",
       "\n",
       "    \n",
       "\n",
       "    \n",
       "\n",
       "    \n",
       "\n",
       "    \n",
       "\n",
       "    \n",
       "\n",
       "\n",
       "    \n",
       "\n",
       "    \n",
       "\n",
       "    \n",
       "\n",
       "    \n",
       "        \n",
       "\n",
       "    \n",
       "\n",
       "        \n",
       "            \n",
       "                \n",
       "                \n",
       "    \n",
       "        <p style=\"margin-bottom: 0.5em; margin-top: 0em\">\n",
       "            <b>\n",
       "    \n",
       "        y=1\n",
       "    \n",
       "</b>\n",
       "\n",
       "top features\n",
       "        </p>\n",
       "    \n",
       "    <table class=\"eli5-weights\"\n",
       "           style=\"border-collapse: collapse; border: none; margin-top: 0em; table-layout: auto; margin-bottom: 2em;\">\n",
       "        <thead>\n",
       "        <tr style=\"border: none;\">\n",
       "            \n",
       "                <th style=\"padding: 0 1em 0 0.5em; text-align: right; border: none;\" title=\"Feature weights. Note that weights do not account for feature value scales, so if feature values have different scales, features with highest weights might not be the most important.\">\n",
       "                    Weight<sup>?</sup>\n",
       "                </th>\n",
       "            \n",
       "            <th style=\"padding: 0 0.5em 0 0.5em; text-align: left; border: none;\">Feature</th>\n",
       "            \n",
       "        </tr>\n",
       "        </thead>\n",
       "        <tbody>\n",
       "        \n",
       "            <tr style=\"background-color: hsl(120, 100.00%, 83.11%); border: none;\">\n",
       "    <td style=\"padding: 0 1em 0 0.5em; text-align: right; border: none;\">\n",
       "        +7.220\n",
       "    </td>\n",
       "    <td style=\"padding: 0 0.5em 0 0.5em; text-align: left; border: none;\">\n",
       "        great\n",
       "    </td>\n",
       "    \n",
       "</tr>\n",
       "        \n",
       "            <tr style=\"background-color: hsl(120, 100.00%, 84.65%); border: none;\">\n",
       "    <td style=\"padding: 0 1em 0 0.5em; text-align: right; border: none;\">\n",
       "        +6.295\n",
       "    </td>\n",
       "    <td style=\"padding: 0 0.5em 0 0.5em; text-align: left; border: none;\">\n",
       "        excellent\n",
       "    </td>\n",
       "    \n",
       "</tr>\n",
       "        \n",
       "            <tr style=\"background-color: hsl(120, 100.00%, 86.46%); border: none;\">\n",
       "    <td style=\"padding: 0 1em 0 0.5em; text-align: right; border: none;\">\n",
       "        +5.262\n",
       "    </td>\n",
       "    <td style=\"padding: 0 0.5em 0 0.5em; text-align: left; border: none;\">\n",
       "        best\n",
       "    </td>\n",
       "    \n",
       "</tr>\n",
       "        \n",
       "            <tr style=\"background-color: hsl(120, 100.00%, 87.48%); border: none;\">\n",
       "    <td style=\"padding: 0 1em 0 0.5em; text-align: right; border: none;\">\n",
       "        +4.709\n",
       "    </td>\n",
       "    <td style=\"padding: 0 0.5em 0 0.5em; text-align: left; border: none;\">\n",
       "        perfect\n",
       "    </td>\n",
       "    \n",
       "</tr>\n",
       "        \n",
       "            <tr style=\"background-color: hsl(120, 100.00%, 87.54%); border: none;\">\n",
       "    <td style=\"padding: 0 1em 0 0.5em; text-align: right; border: none;\">\n",
       "        +4.676\n",
       "    </td>\n",
       "    <td style=\"padding: 0 0.5em 0 0.5em; text-align: left; border: none;\">\n",
       "        wonderful\n",
       "    </td>\n",
       "    \n",
       "</tr>\n",
       "        \n",
       "            <tr style=\"background-color: hsl(120, 100.00%, 88.38%); border: none;\">\n",
       "    <td style=\"padding: 0 1em 0 0.5em; text-align: right; border: none;\">\n",
       "        +4.232\n",
       "    </td>\n",
       "    <td style=\"padding: 0 0.5em 0 0.5em; text-align: left; border: none;\">\n",
       "        amazing\n",
       "    </td>\n",
       "    \n",
       "</tr>\n",
       "        \n",
       "            <tr style=\"background-color: hsl(120, 100.00%, 88.38%); border: none;\">\n",
       "    <td style=\"padding: 0 1em 0 0.5em; text-align: right; border: none;\">\n",
       "        +4.230\n",
       "    </td>\n",
       "    <td style=\"padding: 0 0.5em 0 0.5em; text-align: left; border: none;\">\n",
       "        well\n",
       "    </td>\n",
       "    \n",
       "</tr>\n",
       "        \n",
       "            <tr style=\"background-color: hsl(120, 100.00%, 88.42%); border: none;\">\n",
       "    <td style=\"padding: 0 1em 0 0.5em; text-align: right; border: none;\">\n",
       "        +4.209\n",
       "    </td>\n",
       "    <td style=\"padding: 0 0.5em 0 0.5em; text-align: left; border: none;\">\n",
       "        favorite\n",
       "    </td>\n",
       "    \n",
       "</tr>\n",
       "        \n",
       "            <tr style=\"background-color: hsl(120, 100.00%, 88.64%); border: none;\">\n",
       "    <td style=\"padding: 0 1em 0 0.5em; text-align: right; border: none;\">\n",
       "        +4.096\n",
       "    </td>\n",
       "    <td style=\"padding: 0 0.5em 0 0.5em; text-align: left; border: none;\">\n",
       "        love\n",
       "    </td>\n",
       "    \n",
       "</tr>\n",
       "        \n",
       "            <tr style=\"background-color: hsl(120, 100.00%, 89.11%); border: none;\">\n",
       "    <td style=\"padding: 0 1em 0 0.5em; text-align: right; border: none;\">\n",
       "        +3.857\n",
       "    </td>\n",
       "    <td style=\"padding: 0 0.5em 0 0.5em; text-align: left; border: none;\">\n",
       "        loved\n",
       "    </td>\n",
       "    \n",
       "</tr>\n",
       "        \n",
       "            <tr style=\"background-color: hsl(120, 100.00%, 89.17%); border: none;\">\n",
       "    <td style=\"padding: 0 1em 0 0.5em; text-align: right; border: none;\">\n",
       "        +3.824\n",
       "    </td>\n",
       "    <td style=\"padding: 0 0.5em 0 0.5em; text-align: left; border: none;\">\n",
       "        fun\n",
       "    </td>\n",
       "    \n",
       "</tr>\n",
       "        \n",
       "            <tr style=\"background-color: hsl(120, 100.00%, 89.57%); border: none;\">\n",
       "    <td style=\"padding: 0 1em 0 0.5em; text-align: right; border: none;\">\n",
       "        +3.627\n",
       "    </td>\n",
       "    <td style=\"padding: 0 0.5em 0 0.5em; text-align: left; border: none;\">\n",
       "        710\n",
       "    </td>\n",
       "    \n",
       "</tr>\n",
       "        \n",
       "            <tr style=\"background-color: hsl(120, 100.00%, 89.61%); border: none;\">\n",
       "    <td style=\"padding: 0 1em 0 0.5em; text-align: right; border: none;\">\n",
       "        +3.605\n",
       "    </td>\n",
       "    <td style=\"padding: 0 0.5em 0 0.5em; text-align: left; border: none;\">\n",
       "        enjoyed\n",
       "    </td>\n",
       "    \n",
       "</tr>\n",
       "        \n",
       "            <tr style=\"background-color: hsl(120, 100.00%, 89.62%); border: none;\">\n",
       "    <td style=\"padding: 0 1em 0 0.5em; text-align: right; border: none;\">\n",
       "        +3.599\n",
       "    </td>\n",
       "    <td style=\"padding: 0 0.5em 0 0.5em; text-align: left; border: none;\">\n",
       "        highly\n",
       "    </td>\n",
       "    \n",
       "</tr>\n",
       "        \n",
       "        \n",
       "            <tr style=\"background-color: hsl(120, 100.00%, 89.62%); border: none;\">\n",
       "                <td colspan=\"2\" style=\"padding: 0 0.5em 0 0.5em; text-align: center; border: none; white-space: nowrap;\">\n",
       "                    <i>&hellip; 56457 more positive &hellip;</i>\n",
       "                </td>\n",
       "            </tr>\n",
       "        \n",
       "\n",
       "        \n",
       "            <tr style=\"background-color: hsl(0, 100.00%, 89.93%); border: none;\">\n",
       "                <td colspan=\"2\" style=\"padding: 0 0.5em 0 0.5em; text-align: center; border: none; white-space: nowrap;\">\n",
       "                    <i>&hellip; 55021 more negative &hellip;</i>\n",
       "                </td>\n",
       "            </tr>\n",
       "        \n",
       "        \n",
       "            <tr style=\"background-color: hsl(0, 100.00%, 89.93%); border: none;\">\n",
       "    <td style=\"padding: 0 1em 0 0.5em; text-align: right; border: none;\">\n",
       "        -3.448\n",
       "    </td>\n",
       "    <td style=\"padding: 0 0.5em 0 0.5em; text-align: left; border: none;\">\n",
       "        even\n",
       "    </td>\n",
       "    \n",
       "</tr>\n",
       "        \n",
       "            <tr style=\"background-color: hsl(0, 100.00%, 89.88%); border: none;\">\n",
       "    <td style=\"padding: 0 1em 0 0.5em; text-align: right; border: none;\">\n",
       "        -3.474\n",
       "    </td>\n",
       "    <td style=\"padding: 0 0.5em 0 0.5em; text-align: left; border: none;\">\n",
       "        disappointing\n",
       "    </td>\n",
       "    \n",
       "</tr>\n",
       "        \n",
       "            <tr style=\"background-color: hsl(0, 100.00%, 89.83%); border: none;\">\n",
       "    <td style=\"padding: 0 1em 0 0.5em; text-align: right; border: none;\">\n",
       "        -3.498\n",
       "    </td>\n",
       "    <td style=\"padding: 0 0.5em 0 0.5em; text-align: left; border: none;\">\n",
       "        lame\n",
       "    </td>\n",
       "    \n",
       "</tr>\n",
       "        \n",
       "            <tr style=\"background-color: hsl(0, 100.00%, 89.81%); border: none;\">\n",
       "    <td style=\"padding: 0 1em 0 0.5em; text-align: right; border: none;\">\n",
       "        -3.505\n",
       "    </td>\n",
       "    <td style=\"padding: 0 0.5em 0 0.5em; text-align: left; border: none;\">\n",
       "        avoid\n",
       "    </td>\n",
       "    \n",
       "</tr>\n",
       "        \n",
       "            <tr style=\"background-color: hsl(0, 100.00%, 89.73%); border: none;\">\n",
       "    <td style=\"padding: 0 1em 0 0.5em; text-align: right; border: none;\">\n",
       "        -3.548\n",
       "    </td>\n",
       "    <td style=\"padding: 0 0.5em 0 0.5em; text-align: left; border: none;\">\n",
       "        instead\n",
       "    </td>\n",
       "    \n",
       "</tr>\n",
       "        \n",
       "            <tr style=\"background-color: hsl(0, 100.00%, 89.67%); border: none;\">\n",
       "    <td style=\"padding: 0 1em 0 0.5em; text-align: right; border: none;\">\n",
       "        -3.578\n",
       "    </td>\n",
       "    <td style=\"padding: 0 0.5em 0 0.5em; text-align: left; border: none;\">\n",
       "        ridiculous\n",
       "    </td>\n",
       "    \n",
       "</tr>\n",
       "        \n",
       "            <tr style=\"background-color: hsl(0, 100.00%, 89.63%); border: none;\">\n",
       "    <td style=\"padding: 0 1em 0 0.5em; text-align: right; border: none;\">\n",
       "        -3.596\n",
       "    </td>\n",
       "    <td style=\"padding: 0 0.5em 0 0.5em; text-align: left; border: none;\">\n",
       "        fails\n",
       "    </td>\n",
       "    \n",
       "</tr>\n",
       "        \n",
       "            <tr style=\"background-color: hsl(0, 100.00%, 89.45%); border: none;\">\n",
       "    <td style=\"padding: 0 1em 0 0.5em; text-align: right; border: none;\">\n",
       "        -3.686\n",
       "    </td>\n",
       "    <td style=\"padding: 0 0.5em 0 0.5em; text-align: left; border: none;\">\n",
       "        minutes\n",
       "    </td>\n",
       "    \n",
       "</tr>\n",
       "        \n",
       "            <tr style=\"background-color: hsl(0, 100.00%, 89.44%); border: none;\">\n",
       "    <td style=\"padding: 0 1em 0 0.5em; text-align: right; border: none;\">\n",
       "        -3.689\n",
       "    </td>\n",
       "    <td style=\"padding: 0 0.5em 0 0.5em; text-align: left; border: none;\">\n",
       "        disappointment\n",
       "    </td>\n",
       "    \n",
       "</tr>\n",
       "        \n",
       "            <tr style=\"background-color: hsl(0, 100.00%, 89.39%); border: none;\">\n",
       "    <td style=\"padding: 0 1em 0 0.5em; text-align: right; border: none;\">\n",
       "        -3.718\n",
       "    </td>\n",
       "    <td style=\"padding: 0 0.5em 0 0.5em; text-align: left; border: none;\">\n",
       "        stupid\n",
       "    </td>\n",
       "    \n",
       "</tr>\n",
       "        \n",
       "            <tr style=\"background-color: hsl(0, 100.00%, 89.32%); border: none;\">\n",
       "    <td style=\"padding: 0 1em 0 0.5em; text-align: right; border: none;\">\n",
       "        -3.750\n",
       "    </td>\n",
       "    <td style=\"padding: 0 0.5em 0 0.5em; text-align: left; border: none;\">\n",
       "        script\n",
       "    </td>\n",
       "    \n",
       "</tr>\n",
       "        \n",
       "            <tr style=\"background-color: hsl(0, 100.00%, 89.10%); border: none;\">\n",
       "    <td style=\"padding: 0 1em 0 0.5em; text-align: right; border: none;\">\n",
       "        -3.860\n",
       "    </td>\n",
       "    <td style=\"padding: 0 0.5em 0 0.5em; text-align: left; border: none;\">\n",
       "        supposed\n",
       "    </td>\n",
       "    \n",
       "</tr>\n",
       "        \n",
       "            <tr style=\"background-color: hsl(0, 100.00%, 89.07%); border: none;\">\n",
       "    <td style=\"padding: 0 1em 0 0.5em; text-align: right; border: none;\">\n",
       "        -3.874\n",
       "    </td>\n",
       "    <td style=\"padding: 0 0.5em 0 0.5em; text-align: left; border: none;\">\n",
       "        annoying\n",
       "    </td>\n",
       "    \n",
       "</tr>\n",
       "        \n",
       "            <tr style=\"background-color: hsl(0, 100.00%, 88.97%); border: none;\">\n",
       "    <td style=\"padding: 0 1em 0 0.5em; text-align: right; border: none;\">\n",
       "        -3.928\n",
       "    </td>\n",
       "    <td style=\"padding: 0 0.5em 0 0.5em; text-align: left; border: none;\">\n",
       "        unfortunately\n",
       "    </td>\n",
       "    \n",
       "</tr>\n",
       "        \n",
       "            <tr style=\"background-color: hsl(0, 100.00%, 88.53%); border: none;\">\n",
       "    <td style=\"padding: 0 1em 0 0.5em; text-align: right; border: none;\">\n",
       "        -4.152\n",
       "    </td>\n",
       "    <td style=\"padding: 0 0.5em 0 0.5em; text-align: left; border: none;\">\n",
       "        dull\n",
       "    </td>\n",
       "    \n",
       "</tr>\n",
       "        \n",
       "            <tr style=\"background-color: hsl(0, 100.00%, 88.40%); border: none;\">\n",
       "    <td style=\"padding: 0 1em 0 0.5em; text-align: right; border: none;\">\n",
       "        -4.219\n",
       "    </td>\n",
       "    <td style=\"padding: 0 0.5em 0 0.5em; text-align: left; border: none;\">\n",
       "        poorly\n",
       "    </td>\n",
       "    \n",
       "</tr>\n",
       "        \n",
       "            <tr style=\"background-color: hsl(0, 100.00%, 88.21%); border: none;\">\n",
       "    <td style=\"padding: 0 1em 0 0.5em; text-align: right; border: none;\">\n",
       "        -4.320\n",
       "    </td>\n",
       "    <td style=\"padding: 0 0.5em 0 0.5em; text-align: left; border: none;\">\n",
       "        horrible\n",
       "    </td>\n",
       "    \n",
       "</tr>\n",
       "        \n",
       "            <tr style=\"background-color: hsl(0, 100.00%, 87.35%); border: none;\">\n",
       "    <td style=\"padding: 0 1em 0 0.5em; text-align: right; border: none;\">\n",
       "        -4.775\n",
       "    </td>\n",
       "    <td style=\"padding: 0 0.5em 0 0.5em; text-align: left; border: none;\">\n",
       "        worse\n",
       "    </td>\n",
       "    \n",
       "</tr>\n",
       "        \n",
       "            <tr style=\"background-color: hsl(0, 100.00%, 87.17%); border: none;\">\n",
       "    <td style=\"padding: 0 1em 0 0.5em; text-align: right; border: none;\">\n",
       "        -4.875\n",
       "    </td>\n",
       "    <td style=\"padding: 0 0.5em 0 0.5em; text-align: left; border: none;\">\n",
       "        terrible\n",
       "    </td>\n",
       "    \n",
       "</tr>\n",
       "        \n",
       "            <tr style=\"background-color: hsl(0, 100.00%, 86.83%); border: none;\">\n",
       "    <td style=\"padding: 0 1em 0 0.5em; text-align: right; border: none;\">\n",
       "        -5.061\n",
       "    </td>\n",
       "    <td style=\"padding: 0 0.5em 0 0.5em; text-align: left; border: none;\">\n",
       "        nothing\n",
       "    </td>\n",
       "    \n",
       "</tr>\n",
       "        \n",
       "            <tr style=\"background-color: hsl(0, 100.00%, 86.35%); border: none;\">\n",
       "    <td style=\"padding: 0 1em 0 0.5em; text-align: right; border: none;\">\n",
       "        -5.326\n",
       "    </td>\n",
       "    <td style=\"padding: 0 0.5em 0 0.5em; text-align: left; border: none;\">\n",
       "        poor\n",
       "    </td>\n",
       "    \n",
       "</tr>\n",
       "        \n",
       "            <tr style=\"background-color: hsl(0, 100.00%, 85.74%); border: none;\">\n",
       "    <td style=\"padding: 0 1em 0 0.5em; text-align: right; border: none;\">\n",
       "        -5.666\n",
       "    </td>\n",
       "    <td style=\"padding: 0 0.5em 0 0.5em; text-align: left; border: none;\">\n",
       "        boring\n",
       "    </td>\n",
       "    \n",
       "</tr>\n",
       "        \n",
       "            <tr style=\"background-color: hsl(0, 100.00%, 84.35%); border: none;\">\n",
       "    <td style=\"padding: 0 1em 0 0.5em; text-align: right; border: none;\">\n",
       "        -6.475\n",
       "    </td>\n",
       "    <td style=\"padding: 0 0.5em 0 0.5em; text-align: left; border: none;\">\n",
       "        awful\n",
       "    </td>\n",
       "    \n",
       "</tr>\n",
       "        \n",
       "            <tr style=\"background-color: hsl(0, 100.00%, 84.17%); border: none;\">\n",
       "    <td style=\"padding: 0 1em 0 0.5em; text-align: right; border: none;\">\n",
       "        -6.581\n",
       "    </td>\n",
       "    <td style=\"padding: 0 0.5em 0 0.5em; text-align: left; border: none;\">\n",
       "        waste\n",
       "    </td>\n",
       "    \n",
       "</tr>\n",
       "        \n",
       "            <tr style=\"background-color: hsl(0, 100.00%, 82.31%); border: none;\">\n",
       "    <td style=\"padding: 0 1em 0 0.5em; text-align: right; border: none;\">\n",
       "        -7.711\n",
       "    </td>\n",
       "    <td style=\"padding: 0 0.5em 0 0.5em; text-align: left; border: none;\">\n",
       "        bad\n",
       "    </td>\n",
       "    \n",
       "</tr>\n",
       "        \n",
       "            <tr style=\"background-color: hsl(0, 100.00%, 80.00%); border: none;\">\n",
       "    <td style=\"padding: 0 1em 0 0.5em; text-align: right; border: none;\">\n",
       "        -9.190\n",
       "    </td>\n",
       "    <td style=\"padding: 0 0.5em 0 0.5em; text-align: left; border: none;\">\n",
       "        worst\n",
       "    </td>\n",
       "    \n",
       "</tr>\n",
       "        \n",
       "\n",
       "        </tbody>\n",
       "    </table>\n",
       "\n",
       "            \n",
       "        \n",
       "\n",
       "        \n",
       "\n",
       "\n",
       "\n",
       "    \n",
       "\n",
       "    \n",
       "\n",
       "    \n",
       "\n",
       "    \n",
       "\n",
       "\n",
       "    \n",
       "\n",
       "    \n",
       "\n",
       "    \n",
       "\n",
       "    \n",
       "\n",
       "    \n",
       "\n",
       "    \n",
       "\n",
       "\n",
       "    \n",
       "\n",
       "    \n",
       "\n",
       "    \n",
       "\n",
       "    \n",
       "\n",
       "    \n",
       "\n",
       "    \n",
       "\n",
       "\n",
       "\n"
      ],
      "text/plain": [
       "<IPython.core.display.HTML object>"
      ]
     },
     "execution_count": 22,
     "metadata": {},
     "output_type": "execute_result"
    }
   ],
   "source": [
    "eli5.show_weights(classifier, vec=vectorizer, top=40)"
   ]
  },
  {
   "cell_type": "code",
   "execution_count": 23,
   "metadata": {
    "colab": {
     "base_uri": "https://localhost:8080/",
     "height": 396
    },
    "executionInfo": {
     "elapsed": 249,
     "status": "ok",
     "timestamp": 1674991210763,
     "user": {
      "displayName": "Maxim Gasilin",
      "userId": "15501735730920561422"
     },
     "user_tz": -180
    },
    "id": "tzvE5QbSsZBT",
    "outputId": "d16483bb-96c1-426d-e90d-9711d8cc6213"
   },
   "outputs": [
    {
     "name": "stdout",
     "output_type": "stream",
     "text": [
      "Positive\n"
     ]
    },
    {
     "data": {
      "text/html": [
       "\n",
       "    <style>\n",
       "    table.eli5-weights tr:hover {\n",
       "        filter: brightness(85%);\n",
       "    }\n",
       "</style>\n",
       "\n",
       "\n",
       "\n",
       "    \n",
       "\n",
       "    \n",
       "\n",
       "    \n",
       "\n",
       "    \n",
       "\n",
       "    \n",
       "\n",
       "    \n",
       "\n",
       "\n",
       "    \n",
       "\n",
       "    \n",
       "\n",
       "    \n",
       "\n",
       "    \n",
       "        \n",
       "\n",
       "    \n",
       "\n",
       "        \n",
       "\n",
       "        \n",
       "    \n",
       "        \n",
       "        \n",
       "    \n",
       "        <p style=\"margin-bottom: 0.5em; margin-top: 0em\">\n",
       "            <b>\n",
       "    \n",
       "        y=positive\n",
       "    \n",
       "</b>\n",
       "\n",
       "    \n",
       "    (probability <b>0.952</b>, score <b>2.996</b>)\n",
       "\n",
       "top features\n",
       "        </p>\n",
       "    \n",
       "    <table class=\"eli5-weights\"\n",
       "           style=\"border-collapse: collapse; border: none; margin-top: 0em; table-layout: auto; margin-bottom: 2em;\">\n",
       "        <thead>\n",
       "        <tr style=\"border: none;\">\n",
       "            \n",
       "                <th style=\"padding: 0 1em 0 0.5em; text-align: right; border: none;\" title=\"Feature contribution already accounts for the feature value (for linear models, contribution = weight * feature value), and the sum of feature contributions is equal to the score or, for some classifiers, to the probability. Feature values are shown if &quot;show_feature_values&quot; is True.\">\n",
       "                    Contribution<sup>?</sup>\n",
       "                </th>\n",
       "            \n",
       "            <th style=\"padding: 0 0.5em 0 0.5em; text-align: left; border: none;\">Feature</th>\n",
       "            \n",
       "        </tr>\n",
       "        </thead>\n",
       "        <tbody>\n",
       "        \n",
       "            <tr style=\"background-color: hsl(120, 100.00%, 80.00%); border: none;\">\n",
       "    <td style=\"padding: 0 1em 0 0.5em; text-align: right; border: none;\">\n",
       "        +3.041\n",
       "    </td>\n",
       "    <td style=\"padding: 0 0.5em 0 0.5em; text-align: left; border: none;\">\n",
       "        Highlighted in text (sum)\n",
       "    </td>\n",
       "    \n",
       "</tr>\n",
       "        \n",
       "        \n",
       "\n",
       "        \n",
       "        \n",
       "            <tr style=\"background-color: hsl(0, 100.00%, 98.95%); border: none;\">\n",
       "    <td style=\"padding: 0 1em 0 0.5em; text-align: right; border: none;\">\n",
       "        -0.045\n",
       "    </td>\n",
       "    <td style=\"padding: 0 0.5em 0 0.5em; text-align: left; border: none;\">\n",
       "        &lt;BIAS&gt;\n",
       "    </td>\n",
       "    \n",
       "</tr>\n",
       "        \n",
       "\n",
       "        </tbody>\n",
       "    </table>\n",
       "\n",
       "    \n",
       "\n",
       "\n",
       "\n",
       "    <p style=\"margin-bottom: 2.5em; margin-top:-0.5em;\">\n",
       "        <span style=\"background-color: hsl(120, 100.00%, 68.08%); opacity: 0.94\" title=\"0.100\">entertaining</span><span style=\"opacity: 0.80\"> </span><span style=\"background-color: hsl(120, 100.00%, 65.97%); opacity: 0.96\" title=\"0.109\">touching</span><span style=\"opacity: 0.80\"> </span><span style=\"background-color: hsl(0, 100.00%, 97.40%); opacity: 0.80\" title=\"-0.003\">version</span><span style=\"opacity: 0.80\"> </span><span style=\"background-color: hsl(120, 100.00%, 69.65%); opacity: 0.93\" title=\"0.093\">classic</span><span style=\"opacity: 0.80\"> </span><span style=\"background-color: hsl(120, 100.00%, 82.29%); opacity: 0.86\" title=\"0.043\">tale</span><span style=\"opacity: 0.80\"> </span><span style=\"background-color: hsl(120, 100.00%, 74.75%); opacity: 0.90\" title=\"0.071\">also</span><span style=\"opacity: 0.80\"> </span><span style=\"background-color: hsl(120, 100.00%, 81.23%); opacity: 0.87\" title=\"0.047\">quite</span><span style=\"opacity: 0.80\"> </span><span style=\"background-color: hsl(120, 100.00%, 78.91%); opacity: 0.88\" title=\"0.055\">intelligent</span><span style=\"opacity: 0.80\"> </span><span style=\"background-color: hsl(120, 100.00%, 88.65%); opacity: 0.83\" title=\"0.023\">tarzan</span><span style=\"opacity: 0.80\"> </span><span style=\"background-color: hsl(120, 100.00%, 84.26%); opacity: 0.85\" title=\"0.036\">jane</span><span style=\"opacity: 0.80\"> </span><span style=\"background-color: hsl(120, 100.00%, 94.13%); opacity: 0.81\" title=\"0.009\">school</span><span style=\"opacity: 0.80\"> </span><span style=\"background-color: hsl(120, 100.00%, 85.81%); opacity: 0.85\" title=\"0.031\">famous</span><span style=\"opacity: 0.80\"> </span><span style=\"background-color: hsl(120, 100.00%, 89.01%); opacity: 0.83\" title=\"0.022\">story</span><span style=\"opacity: 0.80\"> </span><span style=\"background-color: hsl(0, 100.00%, 96.67%); opacity: 0.81\" title=\"-0.004\">child</span><span style=\"opacity: 0.80\"> </span><span style=\"background-color: hsl(0, 100.00%, 95.73%); opacity: 0.81\" title=\"-0.006\">reared</span><span style=\"opacity: 0.80\"> </span><span style=\"background-color: hsl(120, 100.00%, 89.21%); opacity: 0.83\" title=\"0.021\">manhood</span><span style=\"opacity: 0.80\"> </span><span style=\"background-color: hsl(0, 100.00%, 95.31%); opacity: 0.81\" title=\"-0.006\">jungle</span><span style=\"opacity: 0.80\"> </span><span style=\"background-color: hsl(0, 100.00%, 83.55%); opacity: 0.86\" title=\"-0.039\">apes</span><span style=\"opacity: 0.80\"> </span><span style=\"background-color: hsl(0, 100.00%, 87.03%); opacity: 0.84\" title=\"-0.027\">titled</span><span style=\"opacity: 0.80\"> </span><span style=\"background-color: hsl(0, 100.00%, 97.74%); opacity: 0.80\" title=\"-0.002\">british</span><span style=\"opacity: 0.80\"> </span><span style=\"background-color: hsl(0, 100.00%, 85.79%); opacity: 0.85\" title=\"-0.031\">couple</span><span style=\"opacity: 0.80\"> </span><span style=\"background-color: hsl(0, 100.00%, 97.30%); opacity: 0.80\" title=\"-0.003\">wife</span><span style=\"opacity: 0.80\"> </span><span style=\"background-color: hsl(0, 100.00%, 87.51%); opacity: 0.84\" title=\"-0.026\">pregnant</span><span style=\"opacity: 0.80\"> </span><span style=\"background-color: hsl(0, 100.00%, 91.23%); opacity: 0.82\" title=\"-0.016\">stranded</span><span style=\"opacity: 0.80\"> </span><span style=\"background-color: hsl(120, 100.00%, 88.13%); opacity: 0.84\" title=\"0.024\">african</span><span style=\"opacity: 0.80\"> </span><span style=\"background-color: hsl(0, 100.00%, 94.81%); opacity: 0.81\" title=\"-0.007\">wilds</span><span style=\"opacity: 0.80\"> </span><span style=\"background-color: hsl(0, 100.00%, 97.43%); opacity: 0.80\" title=\"-0.003\">shipwreck</span><span style=\"opacity: 0.80\"> </span><span style=\"background-color: hsl(120, 100.00%, 83.33%); opacity: 0.86\" title=\"0.039\">parents</span><span style=\"opacity: 0.80\"> </span><span style=\"background-color: hsl(0, 100.00%, 92.42%); opacity: 0.82\" title=\"-0.013\">deaths</span><span style=\"opacity: 0.80\"> </span><span style=\"background-color: hsl(120, 100.00%, 98.02%); opacity: 0.80\" title=\"0.002\">baby</span><span style=\"opacity: 0.80\"> </span><span style=\"background-color: hsl(120, 100.00%, 94.68%); opacity: 0.81\" title=\"0.008\">raised</span><span style=\"opacity: 0.80\"> </span><span style=\"background-color: hsl(0, 100.00%, 95.31%); opacity: 0.81\" title=\"-0.006\">jungle</span><span style=\"opacity: 0.80\"> </span><span style=\"background-color: hsl(0, 100.00%, 83.55%); opacity: 0.86\" title=\"-0.039\">apes</span><span style=\"opacity: 0.80\"> </span><span style=\"background-color: hsl(0, 100.00%, 97.98%); opacity: 0.80\" title=\"-0.002\">twenty</span><span style=\"opacity: 0.80\"> </span><span style=\"background-color: hsl(120, 100.00%, 82.73%); opacity: 0.86\" title=\"0.041\">years</span><span style=\"opacity: 0.80\"> </span><span style=\"background-color: hsl(120, 100.00%, 80.23%); opacity: 0.87\" title=\"0.050\">later</span><span style=\"opacity: 0.80\"> </span><span style=\"background-color: hsl(120, 100.00%, 83.65%); opacity: 0.86\" title=\"0.038\">young</span><span style=\"opacity: 0.80\"> </span><span style=\"background-color: hsl(120, 100.00%, 88.26%); opacity: 0.83\" title=\"0.024\">man</span><span style=\"opacity: 0.80\"> </span><span style=\"background-color: hsl(120, 100.00%, 93.92%); opacity: 0.81\" title=\"0.009\">ie</span><span style=\"opacity: 0.80\"> </span><span style=\"background-color: hsl(120, 100.00%, 88.65%); opacity: 0.83\" title=\"0.023\">tarzan</span><span style=\"opacity: 0.80\"> </span><span style=\"background-color: hsl(0, 100.00%, 93.26%); opacity: 0.82\" title=\"-0.011\">rescues</span><span style=\"opacity: 0.80\"> </span><span style=\"background-color: hsl(120, 100.00%, 95.38%); opacity: 0.81\" title=\"0.006\">wounded</span><span style=\"opacity: 0.80\"> </span><span style=\"background-color: hsl(0, 100.00%, 97.73%); opacity: 0.80\" title=\"-0.002\">belgian</span><span style=\"opacity: 0.80\"> </span><span style=\"background-color: hsl(0, 100.00%, 95.21%); opacity: 0.81\" title=\"-0.007\">explorer</span><span style=\"opacity: 0.80\"> </span><span style=\"background-color: hsl(120, 100.00%, 98.36%); opacity: 0.80\" title=\"0.001\">nursing</span><span style=\"opacity: 0.80\"> </span><span style=\"background-color: hsl(120, 100.00%, 93.14%); opacity: 0.82\" title=\"0.011\">back</span><span style=\"opacity: 0.80\"> </span><span style=\"background-color: hsl(120, 100.00%, 82.79%); opacity: 0.86\" title=\"0.041\">health</span><span style=\"opacity: 0.80\"> </span><span style=\"background-color: hsl(0, 100.00%, 97.73%); opacity: 0.80\" title=\"-0.002\">belgian</span><span style=\"opacity: 0.80\"> </span><span style=\"background-color: hsl(120, 100.00%, 82.08%); opacity: 0.86\" title=\"0.044\">discovers</span><span style=\"opacity: 0.80\"> </span><span style=\"background-color: hsl(0, 100.00%, 90.87%); opacity: 0.82\" title=\"-0.017\">evidence</span><span style=\"opacity: 0.80\"> </span><span style=\"background-color: hsl(120, 100.00%, 95.98%); opacity: 0.81\" title=\"0.005\">rescuer</span><span style=\"opacity: 0.80\"> </span><span style=\"background-color: hsl(120, 100.00%, 83.65%); opacity: 0.86\" title=\"0.038\">young</span><span style=\"opacity: 0.80\"> </span><span style=\"background-color: hsl(120, 100.00%, 92.08%); opacity: 0.82\" title=\"0.014\">lord</span><span style=\"opacity: 0.80\"> </span><span style=\"background-color: hsl(0, 100.00%, 96.99%); opacity: 0.80\" title=\"-0.003\">greystoke</span><span style=\"opacity: 0.80\"> </span><span style=\"background-color: hsl(120, 100.00%, 93.36%); opacity: 0.82\" title=\"0.011\">returns</span><span style=\"opacity: 0.80\"> </span><span style=\"background-color: hsl(120, 100.00%, 94.82%); opacity: 0.81\" title=\"0.007\">rightful</span><span style=\"opacity: 0.80\"> </span><span style=\"background-color: hsl(0, 100.00%, 88.16%); opacity: 0.84\" title=\"-0.024\">estate</span><span style=\"opacity: 0.80\"> </span><span style=\"background-color: hsl(0, 100.00%, 94.27%); opacity: 0.81\" title=\"-0.009\">scotland</span><span style=\"opacity: 0.80\"> </span><span style=\"background-color: hsl(120, 100.00%, 88.06%); opacity: 0.84\" title=\"0.024\">must</span><span style=\"opacity: 0.80\"> </span><span style=\"background-color: hsl(120, 100.00%, 90.55%); opacity: 0.83\" title=\"0.017\">adjust</span><span style=\"opacity: 0.80\"> </span><span style=\"background-color: hsl(120, 100.00%, 89.31%); opacity: 0.83\" title=\"0.021\">civilized</span><span style=\"opacity: 0.80\"> </span><span style=\"background-color: hsl(120, 100.00%, 81.08%); opacity: 0.87\" title=\"0.047\">society</span><span style=\"opacity: 0.80\"> </span><span style=\"background-color: hsl(0, 100.00%, 95.17%); opacity: 0.81\" title=\"-0.007\">movie</span><span style=\"opacity: 0.80\"> </span><span style=\"background-color: hsl(0, 100.00%, 87.31%); opacity: 0.84\" title=\"-0.027\">sort</span><span style=\"opacity: 0.80\"> </span><span style=\"background-color: hsl(120, 100.00%, 97.26%); opacity: 0.80\" title=\"0.003\">divided</span><span style=\"opacity: 0.80\"> </span><span style=\"background-color: hsl(120, 100.00%, 95.09%); opacity: 0.81\" title=\"0.007\">two</span><span style=\"opacity: 0.80\"> </span><span style=\"background-color: hsl(120, 100.00%, 87.50%); opacity: 0.84\" title=\"0.026\">parts</span><span style=\"opacity: 0.80\"> </span><span style=\"background-color: hsl(120, 100.00%, 88.92%); opacity: 0.83\" title=\"0.022\">first</span><span style=\"opacity: 0.80\"> </span><span style=\"background-color: hsl(0, 100.00%, 71.76%); opacity: 0.92\" title=\"-0.084\">half</span><span style=\"opacity: 0.80\"> </span><span style=\"background-color: hsl(120, 100.00%, 81.64%); opacity: 0.87\" title=\"0.045\">see</span><span style=\"opacity: 0.80\"> </span><span style=\"background-color: hsl(120, 100.00%, 88.65%); opacity: 0.83\" title=\"0.023\">tarzan</span><span style=\"opacity: 0.80\"> </span><span style=\"background-color: hsl(0, 100.00%, 95.31%); opacity: 0.81\" title=\"-0.006\">jungle</span><span style=\"opacity: 0.80\"> </span><span style=\"background-color: hsl(120, 100.00%, 89.71%); opacity: 0.83\" title=\"0.020\">environment</span><span style=\"opacity: 0.80\"> </span><span style=\"background-color: hsl(120, 100.00%, 92.02%); opacity: 0.82\" title=\"0.014\">expert</span><span style=\"opacity: 0.80\"> </span><span style=\"background-color: hsl(120, 100.00%, 95.79%); opacity: 0.81\" title=\"0.006\">unaware</span><span style=\"opacity: 0.80\"> </span><span style=\"background-color: hsl(120, 100.00%, 83.72%); opacity: 0.86\" title=\"0.038\">realism</span><span style=\"opacity: 0.80\"> </span><span style=\"background-color: hsl(120, 100.00%, 91.82%); opacity: 0.82\" title=\"0.014\">depiction</span><span style=\"opacity: 0.80\"> </span><span style=\"background-color: hsl(0, 100.00%, 90.77%); opacity: 0.82\" title=\"-0.017\">ape</span><span style=\"opacity: 0.80\"> </span><span style=\"background-color: hsl(120, 100.00%, 89.99%); opacity: 0.83\" title=\"0.019\">community</span><span style=\"opacity: 0.80\"> </span><span style=\"background-color: hsl(120, 100.00%, 75.65%); opacity: 0.90\" title=\"0.068\">life</span><span style=\"opacity: 0.80\"> </span><span style=\"background-color: hsl(120, 100.00%, 85.86%); opacity: 0.85\" title=\"0.031\">certainly</span><span style=\"opacity: 0.80\"> </span><span style=\"background-color: hsl(120, 100.00%, 68.08%); opacity: 0.94\" title=\"0.100\">entertaining</span><span style=\"opacity: 0.80\"> </span><span style=\"background-color: hsl(120, 100.00%, 68.56%); opacity: 0.94\" title=\"0.097\">moving</span><span style=\"opacity: 0.80\"> </span><span style=\"background-color: hsl(120, 100.00%, 94.09%); opacity: 0.81\" title=\"0.009\">section</span><span style=\"opacity: 0.80\"> </span><span style=\"background-color: hsl(120, 100.00%, 95.91%); opacity: 0.81\" title=\"0.005\">second</span><span style=\"opacity: 0.80\"> </span><span style=\"background-color: hsl(0, 100.00%, 71.76%); opacity: 0.92\" title=\"-0.084\">half</span><span style=\"opacity: 0.80\"> </span><span style=\"background-color: hsl(120, 100.00%, 88.65%); opacity: 0.83\" title=\"0.023\">tarzan</span><span style=\"opacity: 0.80\"> </span><span style=\"background-color: hsl(120, 100.00%, 88.06%); opacity: 0.84\" title=\"0.024\">must</span><span style=\"opacity: 0.80\"> </span><span style=\"background-color: hsl(120, 100.00%, 91.27%); opacity: 0.82\" title=\"0.016\">meet</span><span style=\"opacity: 0.80\"> </span><span style=\"background-color: hsl(120, 100.00%, 89.94%); opacity: 0.83\" title=\"0.019\">real</span><span style=\"opacity: 0.80\"> </span><span style=\"background-color: hsl(120, 100.00%, 80.31%); opacity: 0.87\" title=\"0.050\">family</span><span style=\"opacity: 0.80\"> </span><span style=\"background-color: hsl(120, 100.00%, 91.42%); opacity: 0.82\" title=\"0.015\">develop</span><span style=\"opacity: 0.80\"> </span><span style=\"background-color: hsl(120, 100.00%, 83.48%); opacity: 0.86\" title=\"0.039\">language</span><span style=\"opacity: 0.80\"> </span><span style=\"background-color: hsl(0, 100.00%, 95.98%); opacity: 0.81\" title=\"-0.005\">skills</span><span style=\"opacity: 0.80\"> </span><span style=\"background-color: hsl(120, 100.00%, 90.55%); opacity: 0.83\" title=\"0.017\">adjust</span><span style=\"opacity: 0.80\"> </span><span style=\"background-color: hsl(120, 100.00%, 96.42%); opacity: 0.81\" title=\"0.004\">aristocratic</span><span style=\"opacity: 0.80\"> </span><span style=\"background-color: hsl(0, 100.00%, 97.74%); opacity: 0.80\" title=\"-0.002\">british</span><span style=\"opacity: 0.80\"> </span><span style=\"background-color: hsl(120, 100.00%, 81.08%); opacity: 0.87\" title=\"0.047\">society</span><span style=\"opacity: 0.80\"> </span><span style=\"background-color: hsl(0, 100.00%, 96.87%); opacity: 0.81\" title=\"-0.004\">wooing</span><span style=\"opacity: 0.80\"> </span><span style=\"background-color: hsl(120, 100.00%, 84.26%); opacity: 0.85\" title=\"0.036\">jane</span><span style=\"opacity: 0.80\"> </span><span style=\"background-color: hsl(0, 100.00%, 98.76%); opacity: 0.80\" title=\"-0.001\">andie</span><span style=\"opacity: 0.80\"> </span><span style=\"background-color: hsl(120, 100.00%, 99.53%); opacity: 0.80\" title=\"0.000\">macdowell</span><span style=\"opacity: 0.80\"> </span><span style=\"background-color: hsl(0, 100.00%, 90.85%); opacity: 0.82\" title=\"-0.017\">portrayed</span><span style=\"opacity: 0.80\"> </span><span style=\"background-color: hsl(120, 100.00%, 95.40%); opacity: 0.81\" title=\"0.006\">noble</span><span style=\"opacity: 0.80\"> </span><span style=\"background-color: hsl(120, 100.00%, 88.62%); opacity: 0.83\" title=\"0.023\">savage</span><span style=\"opacity: 0.80\"> </span><span style=\"background-color: hsl(0, 100.00%, 96.54%); opacity: 0.81\" title=\"-0.004\">whether</span><span style=\"opacity: 0.80\"> </span><span style=\"background-color: hsl(120, 100.00%, 95.83%); opacity: 0.81\" title=\"0.005\">wild</span><span style=\"opacity: 0.80\"> </span><span style=\"background-color: hsl(120, 100.00%, 87.84%); opacity: 0.84\" title=\"0.025\">elegant</span><span style=\"opacity: 0.80\"> </span><span style=\"background-color: hsl(120, 100.00%, 97.53%); opacity: 0.80\" title=\"0.003\">edwardian</span><span style=\"opacity: 0.80\"> </span><span style=\"background-color: hsl(0, 100.00%, 93.04%); opacity: 0.82\" title=\"-0.011\">parlors</span><span style=\"opacity: 0.80\"> </span><span style=\"background-color: hsl(120, 100.00%, 80.38%); opacity: 0.87\" title=\"0.050\">contrast</span><span style=\"opacity: 0.80\"> </span><span style=\"background-color: hsl(0, 100.00%, 97.96%); opacity: 0.80\" title=\"-0.002\">upper</span><span style=\"opacity: 0.80\"> </span><span style=\"background-color: hsl(0, 100.00%, 95.92%); opacity: 0.81\" title=\"-0.005\">crust</span><span style=\"opacity: 0.80\"> </span><span style=\"background-color: hsl(0, 100.00%, 94.30%); opacity: 0.81\" title=\"-0.008\">depicted</span><span style=\"opacity: 0.80\"> </span><span style=\"background-color: hsl(120, 100.00%, 77.78%); opacity: 0.89\" title=\"0.059\">often</span><span style=\"opacity: 0.80\"> </span><span style=\"background-color: hsl(0, 100.00%, 79.85%); opacity: 0.88\" title=\"-0.052\">far</span><span style=\"opacity: 0.80\"> </span><span style=\"background-color: hsl(0, 100.00%, 91.75%); opacity: 0.82\" title=\"-0.014\">barbaric</span><span style=\"opacity: 0.80\"> </span><span style=\"background-color: hsl(0, 100.00%, 95.31%); opacity: 0.81\" title=\"-0.006\">jungle</span><span style=\"opacity: 0.80\"> </span><span style=\"background-color: hsl(120, 100.00%, 88.65%); opacity: 0.83\" title=\"0.023\">tarzan</span><span style=\"opacity: 0.80\"> </span><span style=\"background-color: hsl(0, 100.00%, 79.59%); opacity: 0.88\" title=\"-0.053\">left</span><span style=\"opacity: 0.80\"> </span><span style=\"background-color: hsl(0, 100.00%, 93.48%); opacity: 0.81\" title=\"-0.010\">christopher</span><span style=\"opacity: 0.80\"> </span><span style=\"background-color: hsl(0, 100.00%, 98.03%); opacity: 0.80\" title=\"-0.002\">lambert</span><span style=\"opacity: 0.80\"> </span><span style=\"background-color: hsl(120, 100.00%, 60.17%); opacity: 1.00\" title=\"0.137\">fantastic</span><span style=\"opacity: 0.80\"> </span><span style=\"background-color: hsl(120, 100.00%, 86.24%); opacity: 0.84\" title=\"0.030\">sympathetic</span><span style=\"opacity: 0.80\"> </span><span style=\"background-color: hsl(120, 100.00%, 76.89%); opacity: 0.89\" title=\"0.063\">portrayal</span><span style=\"opacity: 0.80\"> </span><span style=\"background-color: hsl(120, 100.00%, 88.65%); opacity: 0.83\" title=\"0.023\">tarzan</span><span style=\"opacity: 0.80\"> </span><span style=\"background-color: hsl(0, 100.00%, 95.31%); opacity: 0.81\" title=\"-0.006\">jungle</span><span style=\"opacity: 0.80\"> </span><span style=\"background-color: hsl(120, 100.00%, 89.31%); opacity: 0.83\" title=\"0.021\">civilized</span><span style=\"opacity: 0.80\"> </span><span style=\"background-color: hsl(120, 100.00%, 95.54%); opacity: 0.81\" title=\"0.006\">environments</span><span style=\"opacity: 0.80\"> </span><span style=\"background-color: hsl(120, 100.00%, 86.83%); opacity: 0.84\" title=\"0.028\">conveys</span><span style=\"opacity: 0.80\"> </span><span style=\"background-color: hsl(120, 100.00%, 89.94%); opacity: 0.83\" title=\"0.019\">real</span><span style=\"opacity: 0.80\"> </span><span style=\"background-color: hsl(0, 100.00%, 86.93%); opacity: 0.84\" title=\"-0.028\">sense</span><span style=\"opacity: 0.80\"> </span><span style=\"background-color: hsl(0, 100.00%, 91.03%); opacity: 0.82\" title=\"-0.016\">confusion</span><span style=\"opacity: 0.80\"> </span><span style=\"background-color: hsl(0, 100.00%, 86.90%); opacity: 0.84\" title=\"-0.028\">conflict</span><span style=\"opacity: 0.80\"> </span><span style=\"background-color: hsl(120, 100.00%, 90.09%); opacity: 0.83\" title=\"0.019\">torn</span><span style=\"opacity: 0.80\"> </span><span style=\"background-color: hsl(120, 100.00%, 95.09%); opacity: 0.81\" title=\"0.007\">two</span><span style=\"opacity: 0.80\"> </span><span style=\"background-color: hsl(120, 100.00%, 75.82%); opacity: 0.90\" title=\"0.067\">different</span><span style=\"opacity: 0.80\"> </span><span style=\"background-color: hsl(120, 100.00%, 81.22%); opacity: 0.87\" title=\"0.047\">worlds</span><span style=\"opacity: 0.80\"> </span><span style=\"background-color: hsl(0, 100.00%, 75.24%); opacity: 0.90\" title=\"-0.069\">original</span><span style=\"opacity: 0.80\"> </span><span style=\"background-color: hsl(0, 100.00%, 90.77%); opacity: 0.82\" title=\"-0.017\">ape</span><span style=\"opacity: 0.80\"> </span><span style=\"background-color: hsl(120, 100.00%, 80.31%); opacity: 0.87\" title=\"0.050\">family</span><span style=\"opacity: 0.80\"> </span><span style=\"background-color: hsl(120, 100.00%, 90.20%); opacity: 0.83\" title=\"0.018\">new</span><span style=\"opacity: 0.80\"> </span><span style=\"background-color: hsl(120, 100.00%, 74.07%); opacity: 0.91\" title=\"0.074\">human</span><span style=\"opacity: 0.80\"> </span><span style=\"background-color: hsl(120, 100.00%, 98.53%); opacity: 0.80\" title=\"0.001\">one</span><span style=\"opacity: 0.80\"> </span><span style=\"background-color: hsl(120, 100.00%, 87.69%); opacity: 0.84\" title=\"0.026\">sir</span><span style=\"opacity: 0.80\"> </span><span style=\"background-color: hsl(120, 100.00%, 77.24%); opacity: 0.89\" title=\"0.061\">ralph</span><span style=\"opacity: 0.80\"> </span><span style=\"background-color: hsl(120, 100.00%, 88.83%); opacity: 0.83\" title=\"0.022\">richardson</span><span style=\"opacity: 0.80\"> </span><span style=\"background-color: hsl(120, 100.00%, 98.53%); opacity: 0.80\" title=\"0.001\">one</span><span style=\"opacity: 0.80\"> </span><span style=\"background-color: hsl(0, 100.00%, 94.52%); opacity: 0.81\" title=\"-0.008\">old</span><span style=\"opacity: 0.80\"> </span><span style=\"background-color: hsl(0, 100.00%, 97.74%); opacity: 0.80\" title=\"-0.002\">british</span><span style=\"opacity: 0.80\"> </span><span style=\"background-color: hsl(0, 100.00%, 99.86%); opacity: 0.80\" title=\"-0.000\">legends</span><span style=\"opacity: 0.80\"> </span><span style=\"background-color: hsl(120, 100.00%, 60.00%); opacity: 1.00\" title=\"0.137\">brilliant</span><span style=\"opacity: 0.80\"> </span><span style=\"background-color: hsl(120, 100.00%, 75.01%); opacity: 0.90\" title=\"0.070\">always</span><span style=\"opacity: 0.80\"> </span><span style=\"background-color: hsl(120, 100.00%, 91.02%); opacity: 0.82\" title=\"0.016\">role</span><span style=\"opacity: 0.80\"> </span><span style=\"background-color: hsl(120, 100.00%, 95.95%); opacity: 0.81\" title=\"0.005\">tarzans</span><span style=\"opacity: 0.80\"> </span><span style=\"background-color: hsl(120, 100.00%, 95.30%); opacity: 0.81\" title=\"0.006\">grandfather</span><span style=\"opacity: 0.80\"> </span><span style=\"background-color: hsl(0, 100.00%, 97.94%); opacity: 0.80\" title=\"-0.002\">sixth</span><span style=\"opacity: 0.80\"> </span><span style=\"background-color: hsl(120, 100.00%, 97.33%); opacity: 0.80\" title=\"0.003\">earl</span><span style=\"opacity: 0.80\"> </span><span style=\"background-color: hsl(0, 100.00%, 96.99%); opacity: 0.80\" title=\"-0.003\">greystoke</span><span style=\"opacity: 0.80\"> </span><span style=\"background-color: hsl(120, 100.00%, 92.67%); opacity: 0.82\" title=\"0.012\">film</span><span style=\"opacity: 0.80\"> </span><span style=\"background-color: hsl(120, 100.00%, 79.90%); opacity: 0.87\" title=\"0.051\">focuses</span><span style=\"opacity: 0.80\"> </span><span style=\"background-color: hsl(120, 100.00%, 95.95%); opacity: 0.81\" title=\"0.005\">tarzans</span><span style=\"opacity: 0.80\"> </span><span style=\"background-color: hsl(0, 100.00%, 98.82%); opacity: 0.80\" title=\"-0.001\">struggles</span><span style=\"opacity: 0.80\"> </span><span style=\"background-color: hsl(120, 100.00%, 95.72%); opacity: 0.81\" title=\"0.006\">adapting</span><span style=\"opacity: 0.80\"> </span><span style=\"background-color: hsl(120, 100.00%, 92.62%); opacity: 0.82\" title=\"0.012\">civilization</span><span style=\"opacity: 0.80\"> </span><span style=\"background-color: hsl(120, 100.00%, 95.24%); opacity: 0.81\" title=\"0.007\">inner</span><span style=\"opacity: 0.80\"> </span><span style=\"background-color: hsl(0, 100.00%, 86.90%); opacity: 0.84\" title=\"-0.028\">conflict</span><span style=\"opacity: 0.80\"> </span><span style=\"background-color: hsl(0, 100.00%, 95.31%); opacity: 0.81\" title=\"-0.006\">jungle</span><span style=\"opacity: 0.80\"> </span><span style=\"background-color: hsl(0, 100.00%, 94.37%); opacity: 0.81\" title=\"-0.008\">exploits</span><span style=\"opacity: 0.80\"> </span><span style=\"background-color: hsl(120, 100.00%, 80.50%); opacity: 0.87\" title=\"0.049\">unusual</span><span style=\"opacity: 0.80\"> </span><span style=\"background-color: hsl(120, 100.00%, 93.85%); opacity: 0.81\" title=\"0.009\">take</span><span style=\"opacity: 0.80\"> </span><span style=\"background-color: hsl(0, 100.00%, 94.52%); opacity: 0.81\" title=\"-0.008\">old</span><span style=\"opacity: 0.80\"> </span><span style=\"background-color: hsl(120, 100.00%, 69.65%); opacity: 0.93\" title=\"0.093\">classic</span><span style=\"opacity: 0.80\"> </span><span style=\"background-color: hsl(120, 100.00%, 73.47%); opacity: 0.91\" title=\"0.076\">makes</span><span style=\"opacity: 0.80\"> </span><span style=\"background-color: hsl(120, 100.00%, 90.53%); opacity: 0.83\" title=\"0.018\">typical</span><span style=\"opacity: 0.80\"> </span><span style=\"background-color: hsl(120, 100.00%, 94.20%); opacity: 0.81\" title=\"0.009\">dramatic</span><span style=\"opacity: 0.80\"> </span><span style=\"background-color: hsl(120, 100.00%, 77.16%); opacity: 0.89\" title=\"0.062\">adventure</span><span style=\"opacity: 0.80\"> </span><span style=\"background-color: hsl(120, 100.00%, 74.75%); opacity: 0.90\" title=\"0.071\">also</span><span style=\"opacity: 0.80\"> </span><span style=\"background-color: hsl(120, 100.00%, 68.56%); opacity: 0.94\" title=\"0.097\">moving</span><span style=\"opacity: 0.80\"> </span><span style=\"background-color: hsl(120, 100.00%, 86.51%); opacity: 0.84\" title=\"0.029\">personal</span><span style=\"opacity: 0.80\"> </span><span style=\"background-color: hsl(120, 100.00%, 89.01%); opacity: 0.83\" title=\"0.022\">story</span><span style=\"opacity: 0.80\"> </span><span style=\"background-color: hsl(0, 100.00%, 79.17%); opacity: 0.88\" title=\"-0.054\">wasnt</span><span style=\"opacity: 0.80\"> </span><span style=\"background-color: hsl(120, 100.00%, 69.01%); opacity: 0.94\" title=\"0.095\">surprised</span><span style=\"opacity: 0.80\"> </span><span style=\"background-color: hsl(120, 100.00%, 91.89%); opacity: 0.82\" title=\"0.014\">note</span><span style=\"opacity: 0.80\"> </span><span style=\"background-color: hsl(0, 100.00%, 77.88%); opacity: 0.89\" title=\"-0.059\">director</span><span style=\"opacity: 0.80\"> </span><span style=\"background-color: hsl(120, 100.00%, 93.80%); opacity: 0.81\" title=\"0.010\">individual</span><span style=\"opacity: 0.80\"> </span><span style=\"background-color: hsl(120, 100.00%, 91.37%); opacity: 0.82\" title=\"0.015\">hugh</span><span style=\"opacity: 0.80\"> </span><span style=\"background-color: hsl(120, 100.00%, 87.79%); opacity: 0.84\" title=\"0.025\">hudson</span><span style=\"opacity: 0.80\"> </span><span style=\"background-color: hsl(120, 100.00%, 74.75%); opacity: 0.90\" title=\"0.071\">also</span><span style=\"opacity: 0.80\"> </span><span style=\"background-color: hsl(0, 100.00%, 91.17%); opacity: 0.82\" title=\"-0.016\">directed</span><span style=\"opacity: 0.80\"> </span><span style=\"background-color: hsl(0, 100.00%, 95.97%); opacity: 0.81\" title=\"-0.005\">chariots</span><span style=\"opacity: 0.80\"> </span><span style=\"background-color: hsl(0, 100.00%, 88.78%); opacity: 0.83\" title=\"-0.022\">fire</span><span style=\"opacity: 0.80\"> </span><span style=\"background-color: hsl(0, 100.00%, 87.40%); opacity: 0.84\" title=\"-0.026\">another</span><span style=\"opacity: 0.80\"> </span><span style=\"background-color: hsl(120, 100.00%, 60.00%); opacity: 1.00\" title=\"0.137\">brilliant</span><span style=\"opacity: 0.80\"> </span><span style=\"background-color: hsl(0, 100.00%, 95.17%); opacity: 0.81\" title=\"-0.007\">movie</span>\n",
       "    </p>\n",
       "\n",
       "\n",
       "    \n",
       "\n",
       "    \n",
       "\n",
       "    \n",
       "\n",
       "    \n",
       "\n",
       "\n",
       "    \n",
       "\n",
       "    \n",
       "\n",
       "    \n",
       "\n",
       "    \n",
       "\n",
       "    \n",
       "\n",
       "    \n",
       "\n",
       "\n",
       "    \n",
       "\n",
       "    \n",
       "\n",
       "    \n",
       "\n",
       "    \n",
       "\n",
       "    \n",
       "\n",
       "    \n",
       "\n",
       "\n",
       "\n"
      ],
      "text/plain": [
       "<IPython.core.display.HTML object>"
      ]
     },
     "execution_count": 23,
     "metadata": {},
     "output_type": "execute_result"
    }
   ],
   "source": [
    "print('Positive' if test_df['is_positive'].iloc[1] else 'Negative')\n",
    "\n",
    "eli5.show_prediction(classifier, \n",
    "                     test_df['review'].iloc[1], \n",
    "                     vec=vectorizer, \n",
    "                     targets=['positive'], \n",
    "                     target_names=['negative', 'positive'])"
   ]
  },
  {
   "cell_type": "code",
   "execution_count": 24,
   "metadata": {
    "colab": {
     "base_uri": "https://localhost:8080/",
     "height": 312
    },
    "executionInfo": {
     "elapsed": 989,
     "status": "ok",
     "timestamp": 1674991213389,
     "user": {
      "displayName": "Maxim Gasilin",
      "userId": "15501735730920561422"
     },
     "user_tz": -180
    },
    "id": "-lBhU07bsblE",
    "outputId": "b6e5a69b-f067-4bf3-8c46-c0a5713a8de7"
   },
   "outputs": [
    {
     "name": "stdout",
     "output_type": "stream",
     "text": [
      "Negative\n"
     ]
    },
    {
     "data": {
      "text/html": [
       "\n",
       "    <style>\n",
       "    table.eli5-weights tr:hover {\n",
       "        filter: brightness(85%);\n",
       "    }\n",
       "</style>\n",
       "\n",
       "\n",
       "\n",
       "    \n",
       "\n",
       "    \n",
       "\n",
       "    \n",
       "\n",
       "    \n",
       "\n",
       "    \n",
       "\n",
       "    \n",
       "\n",
       "\n",
       "    \n",
       "\n",
       "    \n",
       "\n",
       "    \n",
       "\n",
       "    \n",
       "        \n",
       "\n",
       "    \n",
       "\n",
       "        \n",
       "\n",
       "        \n",
       "    \n",
       "        \n",
       "        \n",
       "    \n",
       "        <p style=\"margin-bottom: 0.5em; margin-top: 0em\">\n",
       "            <b>\n",
       "    \n",
       "        y=positive\n",
       "    \n",
       "</b>\n",
       "\n",
       "    \n",
       "    (probability <b>0.022</b>, score <b>-3.802</b>)\n",
       "\n",
       "top features\n",
       "        </p>\n",
       "    \n",
       "    <table class=\"eli5-weights\"\n",
       "           style=\"border-collapse: collapse; border: none; margin-top: 0em; table-layout: auto; margin-bottom: 2em;\">\n",
       "        <thead>\n",
       "        <tr style=\"border: none;\">\n",
       "            \n",
       "                <th style=\"padding: 0 1em 0 0.5em; text-align: right; border: none;\" title=\"Feature contribution already accounts for the feature value (for linear models, contribution = weight * feature value), and the sum of feature contributions is equal to the score or, for some classifiers, to the probability. Feature values are shown if &quot;show_feature_values&quot; is True.\">\n",
       "                    Contribution<sup>?</sup>\n",
       "                </th>\n",
       "            \n",
       "            <th style=\"padding: 0 0.5em 0 0.5em; text-align: left; border: none;\">Feature</th>\n",
       "            \n",
       "        </tr>\n",
       "        </thead>\n",
       "        <tbody>\n",
       "        \n",
       "        \n",
       "\n",
       "        \n",
       "        \n",
       "            <tr style=\"background-color: hsl(0, 100.00%, 99.09%); border: none;\">\n",
       "    <td style=\"padding: 0 1em 0 0.5em; text-align: right; border: none;\">\n",
       "        -0.045\n",
       "    </td>\n",
       "    <td style=\"padding: 0 0.5em 0 0.5em; text-align: left; border: none;\">\n",
       "        &lt;BIAS&gt;\n",
       "    </td>\n",
       "    \n",
       "</tr>\n",
       "        \n",
       "            <tr style=\"background-color: hsl(0, 100.00%, 80.00%); border: none;\">\n",
       "    <td style=\"padding: 0 1em 0 0.5em; text-align: right; border: none;\">\n",
       "        -3.757\n",
       "    </td>\n",
       "    <td style=\"padding: 0 0.5em 0 0.5em; text-align: left; border: none;\">\n",
       "        Highlighted in text (sum)\n",
       "    </td>\n",
       "    \n",
       "</tr>\n",
       "        \n",
       "\n",
       "        </tbody>\n",
       "    </table>\n",
       "\n",
       "    \n",
       "\n",
       "\n",
       "\n",
       "    <p style=\"margin-bottom: 2.5em; margin-top:-0.5em;\">\n",
       "        <span style=\"background-color: hsl(0, 100.00%, 96.09%); opacity: 0.81\" title=\"-0.017\">movie</span><span style=\"opacity: 0.80\"> </span><span style=\"background-color: hsl(0, 100.00%, 60.00%); opacity: 1.00\" title=\"-0.478\">terrible</span><span style=\"opacity: 0.80\"> </span><span style=\"background-color: hsl(0, 100.00%, 98.70%); opacity: 0.80\" title=\"-0.004\">difficult</span><span style=\"opacity: 0.80\"> </span><span style=\"background-color: hsl(0, 100.00%, 88.49%); opacity: 0.83\" title=\"-0.081\">believe</span><span style=\"opacity: 0.80\"> </span><span style=\"background-color: hsl(0, 100.00%, 95.04%); opacity: 0.81\" title=\"-0.024\">katie</span><span style=\"opacity: 0.80\"> </span><span style=\"background-color: hsl(120, 100.00%, 92.91%); opacity: 0.82\" title=\"0.040\">became</span><span style=\"opacity: 0.80\"> </span><span style=\"background-color: hsl(120, 100.00%, 85.11%); opacity: 0.85\" title=\"0.116\">heartfelt</span><span style=\"opacity: 0.80\"> </span><span style=\"background-color: hsl(120, 100.00%, 94.95%); opacity: 0.81\" title=\"0.025\">teenager</span><span style=\"opacity: 0.80\"> </span><span style=\"background-color: hsl(120, 100.00%, 98.65%); opacity: 0.80\" title=\"0.004\">power</span><span style=\"opacity: 0.80\"> </span><span style=\"background-color: hsl(0, 100.00%, 66.87%); opacity: 0.95\" title=\"-0.365\">save</span><span style=\"opacity: 0.80\"> </span><span style=\"background-color: hsl(0, 100.00%, 98.26%); opacity: 0.80\" title=\"-0.005\">pity</span><span style=\"opacity: 0.80\"> </span><span style=\"background-color: hsl(120, 100.00%, 89.16%); opacity: 0.83\" title=\"0.074\">chinese</span><span style=\"opacity: 0.80\"> </span><span style=\"background-color: hsl(120, 100.00%, 95.27%); opacity: 0.81\" title=\"0.023\">people</span><span style=\"opacity: 0.80\"> </span><span style=\"background-color: hsl(0, 100.00%, 96.09%); opacity: 0.81\" title=\"-0.017\">movie</span><span style=\"opacity: 0.80\"> </span><span style=\"background-color: hsl(0, 100.00%, 82.39%); opacity: 0.86\" title=\"-0.148\">didnt</span><span style=\"opacity: 0.80\"> </span><span style=\"background-color: hsl(120, 100.00%, 95.63%); opacity: 0.81\" title=\"0.020\">show</span><span style=\"opacity: 0.80\"> </span><span style=\"background-color: hsl(120, 100.00%, 98.71%); opacity: 0.80\" title=\"0.004\">convincing</span><span style=\"opacity: 0.80\"> </span><span style=\"background-color: hsl(0, 100.00%, 94.46%); opacity: 0.81\" title=\"-0.028\">argument</span><span style=\"opacity: 0.80\"> </span><span style=\"background-color: hsl(0, 100.00%, 90.91%); opacity: 0.82\" title=\"-0.058\">prove</span><span style=\"opacity: 0.80\"> </span><span style=\"background-color: hsl(0, 100.00%, 85.82%); opacity: 0.85\" title=\"-0.109\">rest</span><span style=\"opacity: 0.80\"> </span><span style=\"background-color: hsl(0, 100.00%, 79.66%); opacity: 0.88\" title=\"-0.182\">plot</span><span style=\"opacity: 0.80\"> </span><span style=\"background-color: hsl(0, 100.00%, 82.39%); opacity: 0.86\" title=\"-0.148\">didnt</span><span style=\"opacity: 0.80\"> </span><span style=\"background-color: hsl(0, 100.00%, 84.27%); opacity: 0.85\" title=\"-0.126\">make</span><span style=\"opacity: 0.80\"> </span><span style=\"background-color: hsl(0, 100.00%, 74.08%); opacity: 0.91\" title=\"-0.257\">effort</span><span style=\"opacity: 0.80\"> </span><span style=\"background-color: hsl(120, 100.00%, 95.63%); opacity: 0.81\" title=\"0.020\">show</span><span style=\"opacity: 0.80\"> </span><span style=\"background-color: hsl(120, 100.00%, 87.34%); opacity: 0.84\" title=\"0.092\">us</span><span style=\"opacity: 0.80\"> </span><span style=\"background-color: hsl(0, 100.00%, 74.96%); opacity: 0.90\" title=\"-0.245\">cheap</span><span style=\"opacity: 0.80\"> </span><span style=\"background-color: hsl(120, 100.00%, 99.80%); opacity: 0.80\" title=\"0.000\">common</span><span style=\"opacity: 0.80\"> </span><span style=\"background-color: hsl(0, 100.00%, 89.42%); opacity: 0.83\" title=\"-0.071\">sense</span><span style=\"opacity: 0.80\"> </span><span style=\"background-color: hsl(0, 100.00%, 79.66%); opacity: 0.88\" title=\"-0.182\">plot</span><span style=\"opacity: 0.80\"> </span><span style=\"background-color: hsl(0, 100.00%, 65.45%); opacity: 0.96\" title=\"-0.388\">ridiculous</span><span style=\"opacity: 0.80\"> </span><span style=\"background-color: hsl(0, 100.00%, 82.89%); opacity: 0.86\" title=\"-0.142\">thing</span><span style=\"opacity: 0.80\"> </span><span style=\"background-color: hsl(120, 100.00%, 95.25%); opacity: 0.81\" title=\"0.023\">extract</span><span style=\"opacity: 0.80\"> </span><span style=\"background-color: hsl(0, 100.00%, 95.56%); opacity: 0.81\" title=\"-0.021\">demonstrate</span><span style=\"opacity: 0.80\"> </span><span style=\"background-color: hsl(0, 100.00%, 88.94%); opacity: 0.83\" title=\"-0.076\">arrogant</span><span style=\"opacity: 0.80\"> </span><span style=\"background-color: hsl(120, 100.00%, 79.01%); opacity: 0.88\" title=\"0.190\">human</span><span style=\"opacity: 0.80\"> </span><span style=\"background-color: hsl(0, 100.00%, 95.04%); opacity: 0.81\" title=\"-0.024\">katie</span><span style=\"opacity: 0.80\"> </span><span style=\"background-color: hsl(120, 100.00%, 90.33%); opacity: 0.83\" title=\"0.063\">must</span><span style=\"opacity: 0.80\"> </span><span style=\"background-color: hsl(0, 100.00%, 94.61%); opacity: 0.81\" title=\"-0.027\">inherited</span><span style=\"opacity: 0.80\"> </span><span style=\"background-color: hsl(0, 100.00%, 97.67%); opacity: 0.80\" title=\"-0.008\">arrogance</span><span style=\"opacity: 0.80\"> </span><span style=\"background-color: hsl(0, 100.00%, 88.85%); opacity: 0.83\" title=\"-0.077\">mother</span><span style=\"opacity: 0.80\"> </span><span style=\"background-color: hsl(0, 100.00%, 63.47%); opacity: 0.98\" title=\"-0.420\">annoying</span><span style=\"opacity: 0.80\"> </span><span style=\"background-color: hsl(0, 100.00%, 94.92%); opacity: 0.81\" title=\"-0.025\">character</span><span style=\"opacity: 0.80\"> </span><span style=\"background-color: hsl(120, 100.00%, 84.12%); opacity: 0.85\" title=\"0.128\">seen</span><span style=\"opacity: 0.80\"> </span><span style=\"background-color: hsl(0, 100.00%, 96.09%); opacity: 0.81\" title=\"-0.017\">long</span><span style=\"opacity: 0.80\"> </span><span style=\"background-color: hsl(120, 100.00%, 92.86%); opacity: 0.82\" title=\"0.041\">time</span><span style=\"opacity: 0.80\"> </span><span style=\"background-color: hsl(0, 100.00%, 84.52%); opacity: 0.85\" title=\"-0.123\">acting</span><span style=\"opacity: 0.80\"> </span><span style=\"background-color: hsl(0, 100.00%, 91.84%); opacity: 0.82\" title=\"-0.049\">scenery</span><span style=\"opacity: 0.80\"> </span><span style=\"background-color: hsl(0, 100.00%, 77.74%); opacity: 0.89\" title=\"-0.207\">ok</span><span style=\"opacity: 0.80\"> </span><span style=\"background-color: hsl(0, 100.00%, 79.66%); opacity: 0.88\" title=\"-0.182\">plot</span><span style=\"opacity: 0.80\"> </span><span style=\"background-color: hsl(0, 100.00%, 87.06%); opacity: 0.84\" title=\"-0.095\">ruins</span><span style=\"opacity: 0.80\"> </span><span style=\"background-color: hsl(120, 100.00%, 91.27%); opacity: 0.82\" title=\"0.054\">everything</span><span style=\"opacity: 0.80\"> </span><span style=\"background-color: hsl(120, 100.00%, 91.20%); opacity: 0.82\" title=\"0.055\">full</span><span style=\"opacity: 0.80\"> </span><span style=\"background-color: hsl(0, 100.00%, 74.96%); opacity: 0.90\" title=\"-0.245\">cheap</span><span style=\"opacity: 0.80\"> </span><span style=\"background-color: hsl(0, 100.00%, 86.45%); opacity: 0.84\" title=\"-0.102\">clichés</span><span style=\"opacity: 0.80\"> </span><span style=\"background-color: hsl(0, 100.00%, 93.75%); opacity: 0.81\" title=\"-0.034\">hypocritical</span><span style=\"opacity: 0.80\"> </span><span style=\"background-color: hsl(0, 100.00%, 88.96%); opacity: 0.83\" title=\"-0.076\">scenes</span><span style=\"opacity: 0.80\"> </span><span style=\"background-color: hsl(120, 100.00%, 89.33%); opacity: 0.83\" title=\"0.072\">expect</span><span style=\"opacity: 0.80\"> </span><span style=\"background-color: hsl(120, 100.00%, 85.14%); opacity: 0.85\" title=\"0.116\">see</span><span style=\"opacity: 0.80\"> </span><span style=\"background-color: hsl(0, 100.00%, 96.09%); opacity: 0.81\" title=\"-0.017\">movie</span><span style=\"opacity: 0.80\"> </span><span style=\"background-color: hsl(120, 100.00%, 80.29%); opacity: 0.87\" title=\"0.174\">life</span><span style=\"opacity: 0.80\"> </span><span style=\"background-color: hsl(0, 100.00%, 78.63%); opacity: 0.88\" title=\"-0.195\">skip</span><span style=\"opacity: 0.80\"> </span><span style=\"background-color: hsl(120, 100.00%, 98.81%); opacity: 0.80\" title=\"0.003\">one</span>\n",
       "    </p>\n",
       "\n",
       "\n",
       "    \n",
       "\n",
       "    \n",
       "\n",
       "    \n",
       "\n",
       "    \n",
       "\n",
       "\n",
       "    \n",
       "\n",
       "    \n",
       "\n",
       "    \n",
       "\n",
       "    \n",
       "\n",
       "    \n",
       "\n",
       "    \n",
       "\n",
       "\n",
       "    \n",
       "\n",
       "    \n",
       "\n",
       "    \n",
       "\n",
       "    \n",
       "\n",
       "    \n",
       "\n",
       "    \n",
       "\n",
       "\n",
       "\n"
      ],
      "text/plain": [
       "<IPython.core.display.HTML object>"
      ]
     },
     "execution_count": 24,
     "metadata": {},
     "output_type": "execute_result"
    }
   ],
   "source": [
    "print('Positive' if test_df['is_positive'].iloc[6] else 'Negative')\n",
    "\n",
    "eli5.show_prediction(classifier, \n",
    "                     test_df['review'].iloc[6], \n",
    "                     vec=vectorizer, \n",
    "                     targets=['positive'], \n",
    "                     target_names=['negative', 'positive'])"
   ]
  },
  {
   "cell_type": "markdown",
   "metadata": {
    "id": "Xe_CJxQ0tFP9"
   },
   "source": [
    "### N-граммы слов\n",
    "\n",
    "До сих пор мы смотрели на тексты как на мешок слов - но очевидно, что есть разница между `good movie` и `not good movie`.\n",
    "\n",
    "Добавим информацию (хоть какую-то) о последовательностях слов - будем извлекать еще и биграммы слов.\n",
    "\n",
    "В Vectorizer'ах для этого есть параметр `ngram_range=(n_1, n_2)` - он говорит, что нужны n_1-...n_2-граммы.\n",
    "\n",
    "**Задание** Попробуйте увеличенный range и поинтерпретируйте полученный результат."
   ]
  },
  {
   "cell_type": "code",
   "execution_count": 25,
   "metadata": {
    "colab": {
     "base_uri": "https://localhost:8080/"
    },
    "executionInfo": {
     "elapsed": 49268,
     "status": "ok",
     "timestamp": 1674991265197,
     "user": {
      "displayName": "Maxim Gasilin",
      "userId": "15501735730920561422"
     },
     "user_tz": -180
    },
    "id": "RDpdrT0HuKYN",
    "outputId": "ef57e330-e608-4d68-82bc-063982b3b148"
   },
   "outputs": [
    {
     "name": "stdout",
     "output_type": "stream",
     "text": [
      "Test accuracy = 88.28%\n"
     ]
    }
   ],
   "source": [
    "vectorizer = TfidfVectorizer(ngram_range=(1, 2))\n",
    "classifier = LogisticRegression()\n",
    "\n",
    "model = Pipeline([\n",
    "    ('vectorizer', vectorizer),\n",
    "    ('classifier', classifier)\n",
    "])\n",
    "\n",
    "model.fit(train_df['review'], train_df['is_positive'])\n",
    "\n",
    "eval_model(model, test_df)"
   ]
  },
  {
   "cell_type": "code",
   "execution_count": 26,
   "metadata": {
    "colab": {
     "base_uri": "https://localhost:8080/"
    },
    "executionInfo": {
     "elapsed": 145112,
     "status": "ok",
     "timestamp": 1674991414966,
     "user": {
      "displayName": "Maxim Gasilin",
      "userId": "15501735730920561422"
     },
     "user_tz": -180
    },
    "id": "R2kPrQbbxQsy",
    "outputId": "71451d7c-8bfc-4461-8a8f-b9c6096a4dd3"
   },
   "outputs": [
    {
     "name": "stdout",
     "output_type": "stream",
     "text": [
      "Test accuracy = 87.55%\n"
     ]
    }
   ],
   "source": [
    "vectorizer = TfidfVectorizer(ngram_range=(1, 3))\n",
    "classifier = LogisticRegression()\n",
    "\n",
    "model = Pipeline([\n",
    "    ('vectorizer', vectorizer),\n",
    "    ('classifier', classifier)\n",
    "])\n",
    "\n",
    "model.fit(train_df['review'], train_df['is_positive'])\n",
    "\n",
    "eval_model(model, test_df)"
   ]
  },
  {
   "cell_type": "code",
   "execution_count": 27,
   "metadata": {
    "colab": {
     "base_uri": "https://localhost:8080/"
    },
    "executionInfo": {
     "elapsed": 240812,
     "status": "ok",
     "timestamp": 1674991656701,
     "user": {
      "displayName": "Maxim Gasilin",
      "userId": "15501735730920561422"
     },
     "user_tz": -180
    },
    "id": "D41_wPKHxcHy",
    "outputId": "45ef25d5-9559-40e6-f4f4-6d0016bece47"
   },
   "outputs": [
    {
     "name": "stdout",
     "output_type": "stream",
     "text": [
      "Test accuracy = 86.62%\n"
     ]
    }
   ],
   "source": [
    "vectorizer = TfidfVectorizer(ngram_range=(1, 5))\n",
    "classifier = LogisticRegression()\n",
    "\n",
    "model = Pipeline([\n",
    "    ('vectorizer', vectorizer),\n",
    "    ('classifier', classifier)\n",
    "])\n",
    "\n",
    "model.fit(train_df['review'], train_df['is_positive'])\n",
    "\n",
    "eval_model(model, test_df)"
   ]
  },
  {
   "cell_type": "markdown",
   "metadata": {
    "id": "YrBoThj6wl2F"
   },
   "source": [
    "### N-граммы символов\n",
    "\n",
    "Символьные n-граммы дают простой способ выучить полезные корни и суффиксы, не связываясь с этой вашей лингвистикой - только статистика, только хардкор.\n",
    "\n",
    "Например, слово `badass` мы можем представить в виде такой последовательности триграмм:\n",
    "\n",
    "`##b #ba bad ada das ass ss# s##`\n",
    "\n",
    "So interpretable, неправда ли?\n",
    "\n",
    "Реализовать это дело всё так же просто - нужно поставить `analyzer='char'` в вашем любимом Vectorizer'е и выбрать размер `ngram_range`.\n",
    "\n",
    "**Задание** Запилите классификатор на n-граммах символов и визуализируйте его."
   ]
  },
  {
   "cell_type": "code",
   "execution_count": 28,
   "metadata": {
    "colab": {
     "base_uri": "https://localhost:8080/"
    },
    "executionInfo": {
     "elapsed": 248359,
     "status": "ok",
     "timestamp": 1674991920303,
     "user": {
      "displayName": "Maxim Gasilin",
      "userId": "15501735730920561422"
     },
     "user_tz": -180
    },
    "id": "QFaWmUrGyY3n",
    "outputId": "d4163bfd-8c8e-4b33-e3b1-17054e2d1a2f"
   },
   "outputs": [
    {
     "name": "stdout",
     "output_type": "stream",
     "text": [
      "Test accuracy = 87.56%\n"
     ]
    }
   ],
   "source": [
    "vectorizer = TfidfVectorizer(ngram_range=(2, 6), max_features=20000, analyzer='char')\n",
    "classifier = LogisticRegression()\n",
    "\n",
    "model = Pipeline([\n",
    "    ('vectorizer', vectorizer),\n",
    "    ('classifier', classifier)\n",
    "])\n",
    "\n",
    "model.fit(train_df['review'], train_df['is_positive'])\n",
    "\n",
    "eval_model(model, test_df)"
   ]
  },
  {
   "cell_type": "code",
   "execution_count": 29,
   "metadata": {
    "colab": {
     "base_uri": "https://localhost:8080/",
     "height": 451
    },
    "executionInfo": {
     "elapsed": 524,
     "status": "ok",
     "timestamp": 1674991920809,
     "user": {
      "displayName": "Maxim Gasilin",
      "userId": "15501735730920561422"
     },
     "user_tz": -180
    },
    "id": "9E1E1Bn8yvhq",
    "outputId": "4ed12444-a571-477d-f11b-9d922d1558d1"
   },
   "outputs": [
    {
     "name": "stdout",
     "output_type": "stream",
     "text": [
      "Positive\n"
     ]
    },
    {
     "data": {
      "text/html": [
       "\n",
       "    <style>\n",
       "    table.eli5-weights tr:hover {\n",
       "        filter: brightness(85%);\n",
       "    }\n",
       "</style>\n",
       "\n",
       "\n",
       "\n",
       "    \n",
       "\n",
       "    \n",
       "\n",
       "    \n",
       "\n",
       "    \n",
       "\n",
       "    \n",
       "\n",
       "    \n",
       "\n",
       "\n",
       "    \n",
       "\n",
       "    \n",
       "\n",
       "    \n",
       "\n",
       "    \n",
       "        \n",
       "\n",
       "    \n",
       "\n",
       "        \n",
       "\n",
       "        \n",
       "    \n",
       "        \n",
       "        \n",
       "    \n",
       "        <p style=\"margin-bottom: 0.5em; margin-top: 0em\">\n",
       "            <b>\n",
       "    \n",
       "        y=positive\n",
       "    \n",
       "</b>\n",
       "\n",
       "    \n",
       "    (probability <b>0.967</b>, score <b>3.385</b>)\n",
       "\n",
       "top features\n",
       "        </p>\n",
       "    \n",
       "    <table class=\"eli5-weights\"\n",
       "           style=\"border-collapse: collapse; border: none; margin-top: 0em; table-layout: auto; margin-bottom: 2em;\">\n",
       "        <thead>\n",
       "        <tr style=\"border: none;\">\n",
       "            \n",
       "                <th style=\"padding: 0 1em 0 0.5em; text-align: right; border: none;\" title=\"Feature contribution already accounts for the feature value (for linear models, contribution = weight * feature value), and the sum of feature contributions is equal to the score or, for some classifiers, to the probability. Feature values are shown if &quot;show_feature_values&quot; is True.\">\n",
       "                    Contribution<sup>?</sup>\n",
       "                </th>\n",
       "            \n",
       "            <th style=\"padding: 0 0.5em 0 0.5em; text-align: left; border: none;\">Feature</th>\n",
       "            \n",
       "        </tr>\n",
       "        </thead>\n",
       "        <tbody>\n",
       "        \n",
       "            <tr style=\"background-color: hsl(120, 100.00%, 80.00%); border: none;\">\n",
       "    <td style=\"padding: 0 1em 0 0.5em; text-align: right; border: none;\">\n",
       "        +3.411\n",
       "    </td>\n",
       "    <td style=\"padding: 0 0.5em 0 0.5em; text-align: left; border: none;\">\n",
       "        Highlighted in text (sum)\n",
       "    </td>\n",
       "    \n",
       "</tr>\n",
       "        \n",
       "        \n",
       "\n",
       "        \n",
       "        \n",
       "            <tr style=\"background-color: hsl(0, 100.00%, 99.34%); border: none;\">\n",
       "    <td style=\"padding: 0 1em 0 0.5em; text-align: right; border: none;\">\n",
       "        -0.026\n",
       "    </td>\n",
       "    <td style=\"padding: 0 0.5em 0 0.5em; text-align: left; border: none;\">\n",
       "        &lt;BIAS&gt;\n",
       "    </td>\n",
       "    \n",
       "</tr>\n",
       "        \n",
       "\n",
       "        </tbody>\n",
       "    </table>\n",
       "\n",
       "    \n",
       "\n",
       "\n",
       "\n",
       "    <p style=\"margin-bottom: 2.5em; margin-top:-0.5em;\">\n",
       "        <span style=\"background-color: hsl(120, 100.00%, 90.13%); opacity: 0.83\" title=\"0.005\">e</span><span style=\"background-color: hsl(120, 100.00%, 86.47%); opacity: 0.84\" title=\"0.008\">n</span><span style=\"background-color: hsl(120, 100.00%, 86.63%); opacity: 0.84\" title=\"0.008\">t</span><span style=\"background-color: hsl(120, 100.00%, 81.02%); opacity: 0.87\" title=\"0.013\">e</span><span style=\"background-color: hsl(120, 100.00%, 73.29%); opacity: 0.91\" title=\"0.021\">r</span><span style=\"background-color: hsl(120, 100.00%, 70.39%); opacity: 0.93\" title=\"0.025\">t</span><span style=\"background-color: hsl(120, 100.00%, 74.19%); opacity: 0.91\" title=\"0.020\">a</span><span style=\"background-color: hsl(120, 100.00%, 78.33%); opacity: 0.88\" title=\"0.016\">i</span><span style=\"background-color: hsl(120, 100.00%, 81.49%); opacity: 0.87\" title=\"0.013\">n</span><span style=\"background-color: hsl(120, 100.00%, 87.94%); opacity: 0.84\" title=\"0.007\">i</span><span style=\"background-color: hsl(0, 100.00%, 98.41%); opacity: 0.80\" title=\"-0.000\">n</span><span style=\"background-color: hsl(0, 100.00%, 93.37%); opacity: 0.82\" title=\"-0.003\">g</span><span style=\"background-color: hsl(120, 100.00%, 87.19%); opacity: 0.84\" title=\"0.008\"> </span><span style=\"background-color: hsl(120, 100.00%, 74.91%); opacity: 0.90\" title=\"0.020\">t</span><span style=\"background-color: hsl(120, 100.00%, 68.90%); opacity: 0.94\" title=\"0.027\">o</span><span style=\"background-color: hsl(120, 100.00%, 71.12%); opacity: 0.93\" title=\"0.024\">u</span><span style=\"background-color: hsl(120, 100.00%, 77.24%); opacity: 0.89\" title=\"0.017\">c</span><span style=\"background-color: hsl(120, 100.00%, 85.57%); opacity: 0.85\" title=\"0.009\">h</span><span style=\"background-color: hsl(0, 100.00%, 94.03%); opacity: 0.81\" title=\"-0.003\">i</span><span style=\"background-color: hsl(0, 100.00%, 90.57%); opacity: 0.83\" title=\"-0.005\">n</span><span style=\"background-color: hsl(0, 100.00%, 89.17%); opacity: 0.83\" title=\"-0.006\">g</span><span style=\"background-color: hsl(0, 100.00%, 97.15%); opacity: 0.80\" title=\"-0.001\"> </span><span style=\"background-color: hsl(120, 100.00%, 90.33%); opacity: 0.83\" title=\"0.005\">v</span><span style=\"background-color: hsl(120, 100.00%, 88.76%); opacity: 0.83\" title=\"0.006\">e</span><span style=\"background-color: hsl(120, 100.00%, 99.02%); opacity: 0.80\" title=\"0.000\">r</span><span style=\"background-color: hsl(0, 100.00%, 94.58%); opacity: 0.81\" title=\"-0.002\">s</span><span style=\"background-color: hsl(0, 100.00%, 97.35%); opacity: 0.80\" title=\"-0.001\">i</span><span style=\"background-color: hsl(0, 100.00%, 97.78%); opacity: 0.80\" title=\"-0.001\">o</span><span style=\"background-color: hsl(0, 100.00%, 95.41%); opacity: 0.81\" title=\"-0.002\">n</span><span style=\"background-color: hsl(120, 100.00%, 99.49%); opacity: 0.80\" title=\"0.000\"> </span><span style=\"background-color: hsl(120, 100.00%, 90.74%); opacity: 0.82\" title=\"0.005\">c</span><span style=\"background-color: hsl(120, 100.00%, 81.84%); opacity: 0.86\" title=\"0.012\">l</span><span style=\"background-color: hsl(120, 100.00%, 77.63%); opacity: 0.89\" title=\"0.017\">a</span><span style=\"background-color: hsl(120, 100.00%, 74.99%); opacity: 0.90\" title=\"0.020\">s</span><span style=\"background-color: hsl(120, 100.00%, 74.35%); opacity: 0.91\" title=\"0.020\">s</span><span style=\"background-color: hsl(120, 100.00%, 75.08%); opacity: 0.90\" title=\"0.019\">i</span><span style=\"background-color: hsl(120, 100.00%, 78.74%); opacity: 0.88\" title=\"0.015\">c</span><span style=\"background-color: hsl(120, 100.00%, 83.83%); opacity: 0.85\" title=\"0.010\"> </span><span style=\"background-color: hsl(120, 100.00%, 91.79%); opacity: 0.82\" title=\"0.004\">t</span><span style=\"background-color: hsl(120, 100.00%, 97.01%); opacity: 0.80\" title=\"0.001\">a</span><span style=\"background-color: hsl(0, 100.00%, 96.30%); opacity: 0.81\" title=\"-0.001\">l</span><span style=\"background-color: hsl(120, 100.00%, 93.85%); opacity: 0.81\" title=\"0.003\">e</span><span style=\"background-color: hsl(120, 100.00%, 84.93%); opacity: 0.85\" title=\"0.009\"> </span><span style=\"background-color: hsl(120, 100.00%, 81.58%); opacity: 0.87\" title=\"0.013\">a</span><span style=\"background-color: hsl(120, 100.00%, 76.08%); opacity: 0.90\" title=\"0.018\">l</span><span style=\"background-color: hsl(120, 100.00%, 73.81%); opacity: 0.91\" title=\"0.021\">s</span><span style=\"background-color: hsl(120, 100.00%, 76.75%); opacity: 0.89\" title=\"0.018\">o</span><span style=\"background-color: hsl(120, 100.00%, 78.68%); opacity: 0.88\" title=\"0.016\"> </span><span style=\"background-color: hsl(120, 100.00%, 83.92%); opacity: 0.85\" title=\"0.010\">q</span><span style=\"background-color: hsl(120, 100.00%, 82.72%); opacity: 0.86\" title=\"0.012\">u</span><span style=\"background-color: hsl(120, 100.00%, 80.90%); opacity: 0.87\" title=\"0.013\">i</span><span style=\"background-color: hsl(120, 100.00%, 87.90%); opacity: 0.84\" title=\"0.007\">t</span><span style=\"background-color: hsl(120, 100.00%, 89.33%); opacity: 0.83\" title=\"0.006\">e</span><span style=\"background-color: hsl(120, 100.00%, 89.53%); opacity: 0.83\" title=\"0.006\"> </span><span style=\"background-color: hsl(120, 100.00%, 98.61%); opacity: 0.80\" title=\"0.000\">i</span><span style=\"background-color: hsl(0, 100.00%, 96.73%); opacity: 0.81\" title=\"-0.001\">n</span><span style=\"background-color: hsl(0, 100.00%, 93.37%); opacity: 0.82\" title=\"-0.003\">t</span><span style=\"background-color: hsl(120, 100.00%, 97.46%); opacity: 0.80\" title=\"0.001\">e</span><span style=\"background-color: hsl(120, 100.00%, 92.38%); opacity: 0.82\" title=\"0.004\">l</span><span style=\"background-color: hsl(120, 100.00%, 88.75%); opacity: 0.83\" title=\"0.006\">l</span><span style=\"background-color: hsl(120, 100.00%, 93.02%); opacity: 0.82\" title=\"0.003\">i</span><span style=\"background-color: hsl(120, 100.00%, 90.94%); opacity: 0.82\" title=\"0.005\">g</span><span style=\"background-color: hsl(120, 100.00%, 87.13%); opacity: 0.84\" title=\"0.008\">e</span><span style=\"background-color: hsl(120, 100.00%, 88.08%); opacity: 0.84\" title=\"0.007\">n</span><span style=\"background-color: hsl(120, 100.00%, 91.80%); opacity: 0.82\" title=\"0.004\">t</span><span style=\"background-color: hsl(120, 100.00%, 92.85%); opacity: 0.82\" title=\"0.003\"> </span><span style=\"background-color: hsl(120, 100.00%, 95.01%); opacity: 0.81\" title=\"0.002\">t</span><span style=\"background-color: hsl(120, 100.00%, 97.09%); opacity: 0.80\" title=\"0.001\">a</span><span style=\"background-color: hsl(120, 100.00%, 99.09%); opacity: 0.80\" title=\"0.000\">r</span><span style=\"background-color: hsl(120, 100.00%, 96.90%); opacity: 0.81\" title=\"0.001\">z</span><span style=\"background-color: hsl(120, 100.00%, 94.83%); opacity: 0.81\" title=\"0.002\">a</span><span style=\"background-color: hsl(120, 100.00%, 93.94%); opacity: 0.81\" title=\"0.003\">n</span><span style=\"background-color: hsl(120, 100.00%, 85.03%); opacity: 0.85\" title=\"0.009\"> </span><span style=\"background-color: hsl(120, 100.00%, 82.08%); opacity: 0.86\" title=\"0.012\">j</span><span style=\"background-color: hsl(120, 100.00%, 89.43%); opacity: 0.83\" title=\"0.006\">a</span><span style=\"background-color: hsl(120, 100.00%, 98.26%); opacity: 0.80\" title=\"0.000\">n</span><span style=\"background-color: hsl(0, 100.00%, 94.88%); opacity: 0.81\" title=\"-0.002\">e</span><span style=\"background-color: hsl(0, 100.00%, 89.88%); opacity: 0.83\" title=\"-0.005\"> </span><span style=\"background-color: hsl(0, 100.00%, 88.97%); opacity: 0.83\" title=\"-0.006\">s</span><span style=\"background-color: hsl(0, 100.00%, 90.59%); opacity: 0.83\" title=\"-0.005\">c</span><span style=\"background-color: hsl(0, 100.00%, 97.25%); opacity: 0.80\" title=\"-0.001\">h</span><span style=\"background-color: hsl(120, 100.00%, 97.15%); opacity: 0.80\" title=\"0.001\">o</span><span style=\"background-color: hsl(120, 100.00%, 92.62%); opacity: 0.82\" title=\"0.003\">o</span><span style=\"background-color: hsl(120, 100.00%, 89.81%); opacity: 0.83\" title=\"0.005\">l</span><span style=\"background-color: hsl(120, 100.00%, 86.55%); opacity: 0.84\" title=\"0.008\"> </span><span style=\"background-color: hsl(120, 100.00%, 86.00%); opacity: 0.84\" title=\"0.009\">f</span><span style=\"background-color: hsl(120, 100.00%, 83.32%); opacity: 0.86\" title=\"0.011\">a</span><span style=\"background-color: hsl(120, 100.00%, 79.67%); opacity: 0.88\" title=\"0.015\">m</span><span style=\"background-color: hsl(120, 100.00%, 84.33%); opacity: 0.85\" title=\"0.010\">o</span><span style=\"background-color: hsl(120, 100.00%, 90.30%); opacity: 0.83\" title=\"0.005\">u</span><span style=\"background-color: hsl(120, 100.00%, 94.11%); opacity: 0.81\" title=\"0.002\">s</span><span style=\"background-color: hsl(0, 100.00%, 98.67%); opacity: 0.80\" title=\"-0.000\"> </span><span style=\"background-color: hsl(0, 100.00%, 97.23%); opacity: 0.80\" title=\"-0.001\">s</span><span style=\"background-color: hsl(120, 100.00%, 90.33%); opacity: 0.83\" title=\"0.005\">t</span><span style=\"background-color: hsl(120, 100.00%, 87.64%); opacity: 0.84\" title=\"0.007\">o</span><span style=\"background-color: hsl(120, 100.00%, 87.64%); opacity: 0.84\" title=\"0.007\">r</span><span style=\"background-color: hsl(120, 100.00%, 88.98%); opacity: 0.83\" title=\"0.006\">y</span><span style=\"background-color: hsl(120, 100.00%, 95.71%); opacity: 0.81\" title=\"0.002\"> </span><span style=\"background-color: hsl(0, 100.00%, 96.62%); opacity: 0.81\" title=\"-0.001\">c</span><span style=\"background-color: hsl(120, 100.00%, 96.87%); opacity: 0.81\" title=\"0.001\">h</span><span style=\"background-color: hsl(120, 100.00%, 91.71%); opacity: 0.82\" title=\"0.004\">i</span><span style=\"background-color: hsl(120, 100.00%, 99.13%); opacity: 0.80\" title=\"0.000\">l</span><span style=\"background-color: hsl(0, 100.00%, 90.25%); opacity: 0.83\" title=\"-0.005\">d</span><span style=\"background-color: hsl(0, 100.00%, 91.97%); opacity: 0.82\" title=\"-0.004\"> </span><span style=\"background-color: hsl(120, 100.00%, 96.33%); opacity: 0.81\" title=\"0.001\">r</span><span style=\"background-color: hsl(120, 100.00%, 92.63%); opacity: 0.82\" title=\"0.003\">e</span><span style=\"background-color: hsl(120, 100.00%, 87.15%); opacity: 0.84\" title=\"0.008\">a</span><span style=\"background-color: hsl(120, 100.00%, 93.05%); opacity: 0.82\" title=\"0.003\">r</span><span style=\"background-color: hsl(0, 100.00%, 97.60%); opacity: 0.80\" title=\"-0.001\">e</span><span style=\"background-color: hsl(0, 100.00%, 93.47%); opacity: 0.82\" title=\"-0.003\">d</span><span style=\"background-color: hsl(0, 100.00%, 97.22%); opacity: 0.80\" title=\"-0.001\"> </span><span style=\"background-color: hsl(120, 100.00%, 91.96%); opacity: 0.82\" title=\"0.004\">m</span><span style=\"background-color: hsl(120, 100.00%, 88.45%); opacity: 0.83\" title=\"0.006\">a</span><span style=\"background-color: hsl(120, 100.00%, 91.26%); opacity: 0.82\" title=\"0.004\">n</span><span style=\"background-color: hsl(120, 100.00%, 91.31%); opacity: 0.82\" title=\"0.004\">h</span><span style=\"background-color: hsl(120, 100.00%, 91.30%); opacity: 0.82\" title=\"0.004\">o</span><span style=\"background-color: hsl(120, 100.00%, 89.74%); opacity: 0.83\" title=\"0.005\">o</span><span style=\"background-color: hsl(120, 100.00%, 91.99%); opacity: 0.82\" title=\"0.004\">d</span><span style=\"background-color: hsl(120, 100.00%, 95.12%); opacity: 0.81\" title=\"0.002\"> </span><span style=\"background-color: hsl(0, 100.00%, 98.21%); opacity: 0.80\" title=\"-0.000\">j</span><span style=\"background-color: hsl(0, 100.00%, 92.72%); opacity: 0.82\" title=\"-0.003\">u</span><span style=\"background-color: hsl(0, 100.00%, 89.73%); opacity: 0.83\" title=\"-0.005\">n</span><span style=\"background-color: hsl(120, 100.00%, 98.98%); opacity: 0.80\" title=\"0.000\">g</span><span style=\"background-color: hsl(0, 100.00%, 92.32%); opacity: 0.82\" title=\"-0.004\">l</span><span style=\"background-color: hsl(0, 100.00%, 89.20%); opacity: 0.83\" title=\"-0.006\">e</span><span style=\"background-color: hsl(0, 100.00%, 91.28%); opacity: 0.82\" title=\"-0.004\"> </span><span style=\"background-color: hsl(0, 100.00%, 86.73%); opacity: 0.84\" title=\"-0.008\">a</span><span style=\"background-color: hsl(0, 100.00%, 80.93%); opacity: 0.87\" title=\"-0.013\">p</span><span style=\"background-color: hsl(0, 100.00%, 90.14%); opacity: 0.83\" title=\"-0.005\">e</span><span style=\"background-color: hsl(120, 100.00%, 96.83%); opacity: 0.81\" title=\"0.001\">s</span><span style=\"background-color: hsl(120, 100.00%, 92.97%); opacity: 0.82\" title=\"0.003\"> </span><span style=\"background-color: hsl(120, 100.00%, 89.85%); opacity: 0.83\" title=\"0.005\">t</span><span style=\"background-color: hsl(120, 100.00%, 97.94%); opacity: 0.80\" title=\"0.001\">i</span><span style=\"background-color: hsl(0, 100.00%, 96.21%); opacity: 0.81\" title=\"-0.001\">t</span><span style=\"background-color: hsl(0, 100.00%, 90.10%); opacity: 0.83\" title=\"-0.005\">l</span><span style=\"background-color: hsl(0, 100.00%, 91.69%); opacity: 0.82\" title=\"-0.004\">e</span><span style=\"background-color: hsl(0, 100.00%, 90.52%); opacity: 0.83\" title=\"-0.005\">d</span><span style=\"background-color: hsl(0, 100.00%, 95.73%); opacity: 0.81\" title=\"-0.002\"> </span><span style=\"background-color: hsl(120, 100.00%, 89.10%); opacity: 0.83\" title=\"0.006\">b</span><span style=\"background-color: hsl(120, 100.00%, 86.16%); opacity: 0.84\" title=\"0.008\">r</span><span style=\"background-color: hsl(120, 100.00%, 93.49%); opacity: 0.81\" title=\"0.003\">i</span><span style=\"background-color: hsl(120, 100.00%, 96.79%); opacity: 0.81\" title=\"0.001\">t</span><span style=\"background-color: hsl(0, 100.00%, 95.86%); opacity: 0.81\" title=\"-0.001\">i</span><span style=\"background-color: hsl(0, 100.00%, 87.86%); opacity: 0.84\" title=\"-0.007\">s</span><span style=\"background-color: hsl(0, 100.00%, 89.03%); opacity: 0.83\" title=\"-0.006\">h</span><span style=\"background-color: hsl(0, 100.00%, 89.27%); opacity: 0.83\" title=\"-0.006\"> </span><span style=\"background-color: hsl(0, 100.00%, 91.80%); opacity: 0.82\" title=\"-0.004\">c</span><span style=\"background-color: hsl(0, 100.00%, 89.78%); opacity: 0.83\" title=\"-0.005\">o</span><span style=\"background-color: hsl(0, 100.00%, 84.91%); opacity: 0.85\" title=\"-0.009\">u</span><span style=\"background-color: hsl(0, 100.00%, 87.78%); opacity: 0.84\" title=\"-0.007\">p</span><span style=\"background-color: hsl(0, 100.00%, 89.74%); opacity: 0.83\" title=\"-0.005\">l</span><span style=\"background-color: hsl(0, 100.00%, 94.34%); opacity: 0.81\" title=\"-0.002\">e</span><span style=\"background-color: hsl(120, 100.00%, 97.44%); opacity: 0.80\" title=\"0.001\"> </span><span style=\"background-color: hsl(120, 100.00%, 91.83%); opacity: 0.82\" title=\"0.004\">w</span><span style=\"background-color: hsl(120, 100.00%, 85.34%); opacity: 0.85\" title=\"0.009\">i</span><span style=\"background-color: hsl(120, 100.00%, 90.36%); opacity: 0.83\" title=\"0.005\">f</span><span style=\"background-color: hsl(120, 100.00%, 97.24%); opacity: 0.80\" title=\"0.001\">e</span><span style=\"background-color: hsl(0, 100.00%, 91.29%); opacity: 0.82\" title=\"-0.004\"> </span><span style=\"background-color: hsl(0, 100.00%, 89.74%); opacity: 0.83\" title=\"-0.005\">p</span><span style=\"background-color: hsl(0, 100.00%, 90.23%); opacity: 0.83\" title=\"-0.005\">r</span><span style=\"background-color: hsl(0, 100.00%, 89.86%); opacity: 0.83\" title=\"-0.005\">e</span><span style=\"background-color: hsl(0, 100.00%, 91.67%); opacity: 0.82\" title=\"-0.004\">g</span><span style=\"background-color: hsl(120, 100.00%, 93.18%); opacity: 0.82\" title=\"0.003\">n</span><span style=\"background-color: hsl(120, 100.00%, 90.99%); opacity: 0.82\" title=\"0.005\">a</span><span style=\"background-color: hsl(120, 100.00%, 93.74%); opacity: 0.81\" title=\"0.003\">n</span><span style=\"background-color: hsl(120, 100.00%, 94.27%); opacity: 0.81\" title=\"0.002\">t</span><span style=\"background-color: hsl(0, 100.00%, 96.71%); opacity: 0.81\" title=\"-0.001\"> </span><span style=\"background-color: hsl(0, 100.00%, 97.52%); opacity: 0.80\" title=\"-0.001\">s</span><span style=\"background-color: hsl(120, 100.00%, 92.68%); opacity: 0.82\" title=\"0.003\">t</span><span style=\"background-color: hsl(120, 100.00%, 90.48%); opacity: 0.83\" title=\"0.005\">r</span><span style=\"background-color: hsl(0, 100.00%, 95.73%); opacity: 0.81\" title=\"-0.002\">a</span><span style=\"background-color: hsl(0, 100.00%, 93.66%); opacity: 0.81\" title=\"-0.003\">n</span><span style=\"background-color: hsl(0, 100.00%, 90.14%); opacity: 0.83\" title=\"-0.005\">d</span><span style=\"background-color: hsl(0, 100.00%, 87.53%); opacity: 0.84\" title=\"-0.007\">e</span><span style=\"background-color: hsl(0, 100.00%, 86.92%); opacity: 0.84\" title=\"-0.008\">d</span><span style=\"background-color: hsl(0, 100.00%, 88.52%); opacity: 0.83\" title=\"-0.006\"> </span><span style=\"background-color: hsl(120, 100.00%, 96.59%); opacity: 0.81\" title=\"0.001\">a</span><span style=\"background-color: hsl(120, 100.00%, 88.76%); opacity: 0.83\" title=\"0.006\">f</span><span style=\"background-color: hsl(120, 100.00%, 89.11%); opacity: 0.83\" title=\"0.006\">r</span><span style=\"background-color: hsl(120, 100.00%, 94.65%); opacity: 0.81\" title=\"0.002\">i</span><span style=\"background-color: hsl(0, 100.00%, 97.41%); opacity: 0.80\" title=\"-0.001\">c</span><span style=\"background-color: hsl(0, 100.00%, 96.39%); opacity: 0.81\" title=\"-0.001\">a</span><span style=\"background-color: hsl(0, 100.00%, 98.74%); opacity: 0.80\" title=\"-0.000\">n</span><span style=\"background-color: hsl(120, 100.00%, 92.52%); opacity: 0.82\" title=\"0.003\"> </span><span style=\"background-color: hsl(120, 100.00%, 88.54%); opacity: 0.83\" title=\"0.006\">w</span><span style=\"background-color: hsl(120, 100.00%, 83.88%); opacity: 0.85\" title=\"0.010\">i</span><span style=\"background-color: hsl(120, 100.00%, 88.47%); opacity: 0.83\" title=\"0.006\">l</span><span style=\"background-color: hsl(120, 100.00%, 85.57%); opacity: 0.85\" title=\"0.009\">d</span><span style=\"background-color: hsl(120, 100.00%, 87.00%); opacity: 0.84\" title=\"0.008\">s</span><span style=\"background-color: hsl(120, 100.00%, 94.96%); opacity: 0.81\" title=\"0.002\"> </span><span style=\"background-color: hsl(120, 100.00%, 92.24%); opacity: 0.82\" title=\"0.004\">s</span><span style=\"background-color: hsl(120, 100.00%, 85.94%); opacity: 0.84\" title=\"0.009\">h</span><span style=\"background-color: hsl(120, 100.00%, 88.43%); opacity: 0.83\" title=\"0.006\">i</span><span style=\"background-color: hsl(120, 100.00%, 96.55%); opacity: 0.81\" title=\"0.001\">p</span><span style=\"background-color: hsl(0, 100.00%, 84.30%); opacity: 0.85\" title=\"-0.010\">w</span><span style=\"background-color: hsl(0, 100.00%, 83.47%); opacity: 0.86\" title=\"-0.011\">r</span><span style=\"background-color: hsl(0, 100.00%, 91.59%); opacity: 0.82\" title=\"-0.004\">e</span><span style=\"background-color: hsl(0, 100.00%, 97.26%); opacity: 0.80\" title=\"-0.001\">c</span><span style=\"background-color: hsl(0, 100.00%, 93.49%); opacity: 0.81\" title=\"-0.003\">k</span><span style=\"background-color: hsl(0, 100.00%, 93.04%); opacity: 0.82\" title=\"-0.003\"> </span><span style=\"background-color: hsl(0, 100.00%, 98.52%); opacity: 0.80\" title=\"-0.000\">p</span><span style=\"background-color: hsl(120, 100.00%, 93.58%); opacity: 0.81\" title=\"0.003\">a</span><span style=\"background-color: hsl(120, 100.00%, 94.95%); opacity: 0.81\" title=\"0.002\">r</span><span style=\"background-color: hsl(120, 100.00%, 94.21%); opacity: 0.81\" title=\"0.002\">e</span><span style=\"background-color: hsl(120, 100.00%, 92.17%); opacity: 0.82\" title=\"0.004\">n</span><span style=\"background-color: hsl(120, 100.00%, 98.66%); opacity: 0.80\" title=\"0.000\">t</span><span style=\"background-color: hsl(120, 100.00%, 92.52%); opacity: 0.82\" title=\"0.003\">s</span><span style=\"background-color: hsl(120, 100.00%, 94.65%); opacity: 0.81\" title=\"0.002\"> </span><span style=\"background-color: hsl(0, 100.00%, 98.05%); opacity: 0.80\" title=\"-0.001\">d</span><span style=\"background-color: hsl(120, 100.00%, 89.71%); opacity: 0.83\" title=\"0.005\">e</span><span style=\"background-color: hsl(120, 100.00%, 89.57%); opacity: 0.83\" title=\"0.006\">a</span><span style=\"background-color: hsl(120, 100.00%, 87.42%); opacity: 0.84\" title=\"0.007\">t</span><span style=\"background-color: hsl(120, 100.00%, 88.67%); opacity: 0.83\" title=\"0.006\">h</span><span style=\"background-color: hsl(120, 100.00%, 89.89%); opacity: 0.83\" title=\"0.005\">s</span><span style=\"background-color: hsl(0, 100.00%, 96.05%); opacity: 0.81\" title=\"-0.001\"> </span><span style=\"background-color: hsl(0, 100.00%, 85.98%); opacity: 0.84\" title=\"-0.009\">b</span><span style=\"background-color: hsl(0, 100.00%, 84.03%); opacity: 0.85\" title=\"-0.010\">a</span><span style=\"background-color: hsl(0, 100.00%, 95.36%); opacity: 0.81\" title=\"-0.002\">b</span><span style=\"background-color: hsl(120, 100.00%, 99.30%); opacity: 0.80\" title=\"0.000\">y</span><span style=\"background-color: hsl(120, 100.00%, 91.47%); opacity: 0.82\" title=\"0.004\"> </span><span style=\"background-color: hsl(120, 100.00%, 89.85%); opacity: 0.83\" title=\"0.005\">r</span><span style=\"background-color: hsl(120, 100.00%, 88.69%); opacity: 0.83\" title=\"0.006\">a</span><span style=\"background-color: hsl(120, 100.00%, 92.58%); opacity: 0.82\" title=\"0.003\">i</span><span style=\"background-color: hsl(120, 100.00%, 92.80%); opacity: 0.82\" title=\"0.003\">s</span><span style=\"background-color: hsl(120, 100.00%, 96.90%); opacity: 0.81\" title=\"0.001\">e</span><span style=\"background-color: hsl(0, 100.00%, 93.32%); opacity: 0.82\" title=\"-0.003\">d</span><span style=\"background-color: hsl(0, 100.00%, 96.54%); opacity: 0.81\" title=\"-0.001\"> </span><span style=\"background-color: hsl(0, 100.00%, 98.64%); opacity: 0.80\" title=\"-0.000\">j</span><span style=\"background-color: hsl(0, 100.00%, 92.72%); opacity: 0.82\" title=\"-0.003\">u</span><span style=\"background-color: hsl(0, 100.00%, 89.73%); opacity: 0.83\" title=\"-0.005\">n</span><span style=\"background-color: hsl(120, 100.00%, 98.98%); opacity: 0.80\" title=\"0.000\">g</span><span style=\"background-color: hsl(0, 100.00%, 92.32%); opacity: 0.82\" title=\"-0.004\">l</span><span style=\"background-color: hsl(0, 100.00%, 89.20%); opacity: 0.83\" title=\"-0.006\">e</span><span style=\"background-color: hsl(0, 100.00%, 91.28%); opacity: 0.82\" title=\"-0.004\"> </span><span style=\"background-color: hsl(0, 100.00%, 86.73%); opacity: 0.84\" title=\"-0.008\">a</span><span style=\"background-color: hsl(0, 100.00%, 80.93%); opacity: 0.87\" title=\"-0.013\">p</span><span style=\"background-color: hsl(0, 100.00%, 89.45%); opacity: 0.83\" title=\"-0.006\">e</span><span style=\"background-color: hsl(0, 100.00%, 96.73%); opacity: 0.81\" title=\"-0.001\">s</span><span style=\"background-color: hsl(120, 100.00%, 92.89%); opacity: 0.82\" title=\"0.003\"> </span><span style=\"background-color: hsl(120, 100.00%, 90.56%); opacity: 0.83\" title=\"0.005\">t</span><span style=\"background-color: hsl(0, 100.00%, 96.68%); opacity: 0.81\" title=\"-0.001\">w</span><span style=\"background-color: hsl(120, 100.00%, 94.77%); opacity: 0.81\" title=\"0.002\">e</span><span style=\"background-color: hsl(120, 100.00%, 88.34%); opacity: 0.83\" title=\"0.007\">n</span><span style=\"background-color: hsl(120, 100.00%, 83.43%); opacity: 0.86\" title=\"0.011\">t</span><span style=\"background-color: hsl(120, 100.00%, 80.65%); opacity: 0.87\" title=\"0.014\">y</span><span style=\"background-color: hsl(120, 100.00%, 83.07%); opacity: 0.86\" title=\"0.011\"> </span><span style=\"background-color: hsl(120, 100.00%, 83.67%); opacity: 0.86\" title=\"0.011\">y</span><span style=\"background-color: hsl(120, 100.00%, 80.54%); opacity: 0.87\" title=\"0.014\">e</span><span style=\"background-color: hsl(120, 100.00%, 80.70%); opacity: 0.87\" title=\"0.013\">a</span><span style=\"background-color: hsl(120, 100.00%, 83.33%); opacity: 0.86\" title=\"0.011\">r</span><span style=\"background-color: hsl(120, 100.00%, 86.32%); opacity: 0.84\" title=\"0.008\">s</span><span style=\"background-color: hsl(120, 100.00%, 85.53%); opacity: 0.85\" title=\"0.009\"> </span><span style=\"background-color: hsl(120, 100.00%, 82.27%); opacity: 0.86\" title=\"0.012\">l</span><span style=\"background-color: hsl(120, 100.00%, 79.59%); opacity: 0.88\" title=\"0.015\">a</span><span style=\"background-color: hsl(120, 100.00%, 82.15%); opacity: 0.86\" title=\"0.012\">t</span><span style=\"background-color: hsl(120, 100.00%, 85.03%); opacity: 0.85\" title=\"0.009\">e</span><span style=\"background-color: hsl(120, 100.00%, 91.89%); opacity: 0.82\" title=\"0.004\">r</span><span style=\"background-color: hsl(120, 100.00%, 97.29%); opacity: 0.80\" title=\"0.001\"> </span><span style=\"background-color: hsl(120, 100.00%, 92.64%); opacity: 0.82\" title=\"0.003\">y</span><span style=\"background-color: hsl(120, 100.00%, 88.19%); opacity: 0.84\" title=\"0.007\">o</span><span style=\"background-color: hsl(120, 100.00%, 87.13%); opacity: 0.84\" title=\"0.008\">u</span><span style=\"background-color: hsl(120, 100.00%, 87.95%); opacity: 0.84\" title=\"0.007\">n</span><span style=\"background-color: hsl(120, 100.00%, 89.49%); opacity: 0.83\" title=\"0.006\">g</span><span style=\"background-color: hsl(120, 100.00%, 90.53%); opacity: 0.83\" title=\"0.005\"> </span><span style=\"background-color: hsl(120, 100.00%, 88.07%); opacity: 0.84\" title=\"0.007\">m</span><span style=\"background-color: hsl(120, 100.00%, 85.48%); opacity: 0.85\" title=\"0.009\">a</span><span style=\"background-color: hsl(120, 100.00%, 89.67%); opacity: 0.83\" title=\"0.006\">n</span><span style=\"background-color: hsl(120, 100.00%, 98.29%); opacity: 0.80\" title=\"0.000\"> </span><span style=\"background-color: hsl(0, 100.00%, 98.10%); opacity: 0.80\" title=\"-0.000\">i</span><span style=\"background-color: hsl(120, 100.00%, 99.29%); opacity: 0.80\" title=\"0.000\">e</span><span style=\"background-color: hsl(120, 100.00%, 98.86%); opacity: 0.80\" title=\"0.000\"> </span><span style=\"background-color: hsl(0, 100.00%, 97.07%); opacity: 0.80\" title=\"-0.001\">t</span><span style=\"background-color: hsl(120, 100.00%, 98.25%); opacity: 0.80\" title=\"0.000\">a</span><span style=\"background-color: hsl(120, 100.00%, 99.09%); opacity: 0.80\" title=\"0.000\">r</span><span style=\"background-color: hsl(120, 100.00%, 96.90%); opacity: 0.81\" title=\"0.001\">z</span><span style=\"background-color: hsl(0, 100.00%, 95.72%); opacity: 0.81\" title=\"-0.002\">a</span><span style=\"background-color: hsl(0, 100.00%, 91.64%); opacity: 0.82\" title=\"-0.004\">n</span><span style=\"background-color: hsl(0, 100.00%, 89.82%); opacity: 0.83\" title=\"-0.005\"> </span><span style=\"background-color: hsl(0, 100.00%, 88.24%); opacity: 0.83\" title=\"-0.007\">r</span><span style=\"background-color: hsl(0, 100.00%, 93.61%); opacity: 0.81\" title=\"-0.003\">e</span><span style=\"background-color: hsl(0, 100.00%, 97.00%); opacity: 0.80\" title=\"-0.001\">s</span><span style=\"background-color: hsl(0, 100.00%, 93.75%); opacity: 0.81\" title=\"-0.003\">c</span><span style=\"background-color: hsl(120, 100.00%, 98.05%); opacity: 0.80\" title=\"0.001\">u</span><span style=\"background-color: hsl(120, 100.00%, 89.76%); opacity: 0.83\" title=\"0.005\">e</span><span style=\"background-color: hsl(120, 100.00%, 90.69%); opacity: 0.82\" title=\"0.005\">s</span><span style=\"background-color: hsl(0, 100.00%, 96.40%); opacity: 0.81\" title=\"-0.001\"> </span><span style=\"background-color: hsl(0, 100.00%, 86.92%); opacity: 0.84\" title=\"-0.008\">w</span><span style=\"background-color: hsl(0, 100.00%, 90.55%); opacity: 0.83\" title=\"-0.005\">o</span><span style=\"background-color: hsl(0, 100.00%, 96.66%); opacity: 0.81\" title=\"-0.001\">u</span><span style=\"background-color: hsl(120, 100.00%, 97.06%); opacity: 0.80\" title=\"0.001\">n</span><span style=\"background-color: hsl(120, 100.00%, 98.91%); opacity: 0.80\" title=\"0.000\">d</span><span style=\"background-color: hsl(0, 100.00%, 94.45%); opacity: 0.81\" title=\"-0.002\">e</span><span style=\"background-color: hsl(0, 100.00%, 86.02%); opacity: 0.84\" title=\"-0.008\">d</span><span style=\"background-color: hsl(0, 100.00%, 88.64%); opacity: 0.83\" title=\"-0.006\"> </span><span style=\"background-color: hsl(0, 100.00%, 94.62%); opacity: 0.81\" title=\"-0.002\">b</span><span style=\"background-color: hsl(120, 100.00%, 97.26%); opacity: 0.80\" title=\"0.001\">e</span><span style=\"background-color: hsl(0, 100.00%, 92.48%); opacity: 0.82\" title=\"-0.004\">l</span><span style=\"background-color: hsl(0, 100.00%, 87.27%); opacity: 0.84\" title=\"-0.007\">g</span><span style=\"background-color: hsl(0, 100.00%, 87.84%); opacity: 0.84\" title=\"-0.007\">i</span><span style=\"background-color: hsl(0, 100.00%, 92.94%); opacity: 0.82\" title=\"-0.003\">a</span><span style=\"background-color: hsl(120, 100.00%, 97.92%); opacity: 0.80\" title=\"0.001\">n</span><span style=\"background-color: hsl(120, 100.00%, 93.31%); opacity: 0.82\" title=\"0.003\"> </span><span style=\"background-color: hsl(120, 100.00%, 91.92%); opacity: 0.82\" title=\"0.004\">e</span><span style=\"background-color: hsl(120, 100.00%, 94.07%); opacity: 0.81\" title=\"0.002\">x</span><span style=\"background-color: hsl(0, 100.00%, 96.58%); opacity: 0.81\" title=\"-0.001\">p</span><span style=\"background-color: hsl(0, 100.00%, 96.82%); opacity: 0.81\" title=\"-0.001\">l</span><span style=\"background-color: hsl(0, 100.00%, 93.44%); opacity: 0.82\" title=\"-0.003\">o</span><span style=\"background-color: hsl(0, 100.00%, 92.78%); opacity: 0.82\" title=\"-0.003\">r</span><span style=\"background-color: hsl(0, 100.00%, 96.49%); opacity: 0.81\" title=\"-0.001\">e</span><span style=\"background-color: hsl(0, 100.00%, 93.37%); opacity: 0.82\" title=\"-0.003\">r</span><span style=\"background-color: hsl(0, 100.00%, 88.47%); opacity: 0.83\" title=\"-0.006\"> </span><span style=\"background-color: hsl(0, 100.00%, 87.87%); opacity: 0.84\" title=\"-0.007\">n</span><span style=\"background-color: hsl(0, 100.00%, 93.73%); opacity: 0.81\" title=\"-0.003\">u</span><span style=\"background-color: hsl(120, 100.00%, 99.69%); opacity: 0.80\" title=\"0.000\">r</span><span style=\"background-color: hsl(0, 100.00%, 95.41%); opacity: 0.81\" title=\"-0.002\">s</span><span style=\"background-color: hsl(0, 100.00%, 91.83%); opacity: 0.82\" title=\"-0.004\">i</span><span style=\"background-color: hsl(0, 100.00%, 91.86%); opacity: 0.82\" title=\"-0.004\">n</span><span style=\"background-color: hsl(0, 100.00%, 94.26%); opacity: 0.81\" title=\"-0.002\">g</span><span style=\"background-color: hsl(0, 100.00%, 92.55%); opacity: 0.82\" title=\"-0.003\"> </span><span style=\"background-color: hsl(0, 100.00%, 93.84%); opacity: 0.81\" title=\"-0.003\">b</span><span style=\"background-color: hsl(0, 100.00%, 92.88%); opacity: 0.82\" title=\"-0.003\">a</span><span style=\"background-color: hsl(120, 100.00%, 91.00%); opacity: 0.82\" title=\"0.005\">c</span><span style=\"background-color: hsl(120, 100.00%, 97.01%); opacity: 0.80\" title=\"0.001\">k</span><span style=\"background-color: hsl(120, 100.00%, 94.62%); opacity: 0.81\" title=\"0.002\"> </span><span style=\"background-color: hsl(120, 100.00%, 94.76%); opacity: 0.81\" title=\"0.002\">h</span><span style=\"background-color: hsl(120, 100.00%, 90.85%); opacity: 0.82\" title=\"0.005\">e</span><span style=\"background-color: hsl(120, 100.00%, 90.71%); opacity: 0.82\" title=\"0.005\">a</span><span style=\"background-color: hsl(120, 100.00%, 93.22%); opacity: 0.82\" title=\"0.003\">l</span><span style=\"background-color: hsl(120, 100.00%, 92.60%); opacity: 0.82\" title=\"0.003\">t</span><span style=\"background-color: hsl(0, 100.00%, 98.60%); opacity: 0.80\" title=\"-0.000\">h</span><span style=\"background-color: hsl(0, 100.00%, 95.97%); opacity: 0.81\" title=\"-0.001\"> </span><span style=\"background-color: hsl(0, 100.00%, 92.80%); opacity: 0.82\" title=\"-0.003\">b</span><span style=\"background-color: hsl(120, 100.00%, 97.54%); opacity: 0.80\" title=\"0.001\">e</span><span style=\"background-color: hsl(0, 100.00%, 94.28%); opacity: 0.81\" title=\"-0.002\">l</span><span style=\"background-color: hsl(0, 100.00%, 87.27%); opacity: 0.84\" title=\"-0.007\">g</span><span style=\"background-color: hsl(0, 100.00%, 87.84%); opacity: 0.84\" title=\"-0.007\">i</span><span style=\"background-color: hsl(0, 100.00%, 90.11%); opacity: 0.83\" title=\"-0.005\">a</span><span style=\"background-color: hsl(0, 100.00%, 95.40%); opacity: 0.81\" title=\"-0.002\">n</span><span style=\"background-color: hsl(0, 100.00%, 97.61%); opacity: 0.80\" title=\"-0.001\"> </span><span style=\"background-color: hsl(120, 100.00%, 93.88%); opacity: 0.81\" title=\"0.003\">d</span><span style=\"background-color: hsl(120, 100.00%, 82.04%); opacity: 0.86\" title=\"0.012\">i</span><span style=\"background-color: hsl(120, 100.00%, 73.22%); opacity: 0.91\" title=\"0.022\">s</span><span style=\"background-color: hsl(120, 100.00%, 67.32%); opacity: 0.95\" title=\"0.029\">c</span><span style=\"background-color: hsl(120, 100.00%, 66.12%); opacity: 0.96\" title=\"0.030\">o</span><span style=\"background-color: hsl(120, 100.00%, 70.79%); opacity: 0.93\" title=\"0.024\">v</span><span style=\"background-color: hsl(120, 100.00%, 78.37%); opacity: 0.88\" title=\"0.016\">e</span><span style=\"background-color: hsl(120, 100.00%, 87.94%); opacity: 0.84\" title=\"0.007\">r</span><span style=\"background-color: hsl(120, 100.00%, 92.57%); opacity: 0.82\" title=\"0.003\">s</span><span style=\"background-color: hsl(120, 100.00%, 93.60%); opacity: 0.81\" title=\"0.003\"> </span><span style=\"background-color: hsl(0, 100.00%, 96.98%); opacity: 0.80\" title=\"-0.001\">e</span><span style=\"background-color: hsl(0, 100.00%, 92.87%); opacity: 0.82\" title=\"-0.003\">v</span><span style=\"background-color: hsl(0, 100.00%, 93.86%); opacity: 0.81\" title=\"-0.003\">i</span><span style=\"background-color: hsl(0, 100.00%, 99.91%); opacity: 0.80\" title=\"-0.000\">d</span><span style=\"background-color: hsl(120, 100.00%, 95.26%); opacity: 0.81\" title=\"0.002\">e</span><span style=\"background-color: hsl(120, 100.00%, 91.20%); opacity: 0.82\" title=\"0.004\">n</span><span style=\"background-color: hsl(120, 100.00%, 88.37%); opacity: 0.83\" title=\"0.007\">c</span><span style=\"background-color: hsl(120, 100.00%, 87.30%); opacity: 0.84\" title=\"0.007\">e</span><span style=\"background-color: hsl(120, 100.00%, 90.83%); opacity: 0.82\" title=\"0.005\"> </span><span style=\"background-color: hsl(120, 100.00%, 91.93%); opacity: 0.82\" title=\"0.004\">r</span><span style=\"background-color: hsl(120, 100.00%, 96.82%); opacity: 0.81\" title=\"0.001\">e</span><span style=\"background-color: hsl(0, 100.00%, 95.26%); opacity: 0.81\" title=\"-0.002\">s</span><span style=\"background-color: hsl(0, 100.00%, 93.75%); opacity: 0.81\" title=\"-0.003\">c</span><span style=\"background-color: hsl(0, 100.00%, 97.15%); opacity: 0.80\" title=\"-0.001\">u</span><span style=\"background-color: hsl(120, 100.00%, 94.75%); opacity: 0.81\" title=\"0.002\">e</span><span style=\"background-color: hsl(0, 100.00%, 95.24%); opacity: 0.81\" title=\"-0.002\">r</span><span style=\"background-color: hsl(0, 100.00%, 96.08%); opacity: 0.81\" title=\"-0.001\"> </span><span style=\"background-color: hsl(120, 100.00%, 92.64%); opacity: 0.82\" title=\"0.003\">y</span><span style=\"background-color: hsl(120, 100.00%, 88.19%); opacity: 0.84\" title=\"0.007\">o</span><span style=\"background-color: hsl(120, 100.00%, 87.13%); opacity: 0.84\" title=\"0.008\">u</span><span style=\"background-color: hsl(120, 100.00%, 87.80%); opacity: 0.84\" title=\"0.007\">n</span><span style=\"background-color: hsl(120, 100.00%, 89.37%); opacity: 0.83\" title=\"0.006\">g</span><span style=\"background-color: hsl(120, 100.00%, 96.00%); opacity: 0.81\" title=\"0.001\"> </span><span style=\"background-color: hsl(120, 100.00%, 97.98%); opacity: 0.80\" title=\"0.001\">l</span><span style=\"background-color: hsl(0, 100.00%, 97.22%); opacity: 0.80\" title=\"-0.001\">o</span><span style=\"background-color: hsl(0, 100.00%, 91.47%); opacity: 0.82\" title=\"-0.004\">r</span><span style=\"background-color: hsl(0, 100.00%, 87.87%); opacity: 0.84\" title=\"-0.007\">d</span><span style=\"background-color: hsl(0, 100.00%, 96.28%); opacity: 0.81\" title=\"-0.001\"> </span><span style=\"background-color: hsl(120, 100.00%, 86.20%); opacity: 0.84\" title=\"0.008\">g</span><span style=\"background-color: hsl(120, 100.00%, 84.63%); opacity: 0.85\" title=\"0.010\">r</span><span style=\"background-color: hsl(120, 100.00%, 87.90%); opacity: 0.84\" title=\"0.007\">e</span><span style=\"background-color: hsl(120, 100.00%, 89.83%); opacity: 0.83\" title=\"0.005\">y</span><span style=\"background-color: hsl(120, 100.00%, 91.05%); opacity: 0.82\" title=\"0.004\">s</span><span style=\"background-color: hsl(120, 100.00%, 98.64%); opacity: 0.80\" title=\"0.000\">t</span><span style=\"background-color: hsl(0, 100.00%, 91.25%); opacity: 0.82\" title=\"-0.004\">o</span><span style=\"background-color: hsl(0, 100.00%, 85.71%); opacity: 0.85\" title=\"-0.009\">k</span><span style=\"background-color: hsl(0, 100.00%, 91.27%); opacity: 0.82\" title=\"-0.004\">e</span><span style=\"background-color: hsl(120, 100.00%, 97.03%); opacity: 0.80\" title=\"0.001\"> </span><span style=\"background-color: hsl(120, 100.00%, 88.75%); opacity: 0.83\" title=\"0.006\">r</span><span style=\"background-color: hsl(120, 100.00%, 89.18%); opacity: 0.83\" title=\"0.006\">e</span><span style=\"background-color: hsl(120, 100.00%, 88.31%); opacity: 0.83\" title=\"0.007\">t</span><span style=\"background-color: hsl(120, 100.00%, 84.56%); opacity: 0.85\" title=\"0.010\">u</span><span style=\"background-color: hsl(120, 100.00%, 81.42%); opacity: 0.87\" title=\"0.013\">r</span><span style=\"background-color: hsl(120, 100.00%, 88.09%); opacity: 0.84\" title=\"0.007\">n</span><span style=\"background-color: hsl(120, 100.00%, 87.96%); opacity: 0.84\" title=\"0.007\">s</span><span style=\"background-color: hsl(120, 100.00%, 83.05%); opacity: 0.86\" title=\"0.011\"> </span><span style=\"background-color: hsl(120, 100.00%, 85.58%); opacity: 0.85\" title=\"0.009\">r</span><span style=\"background-color: hsl(120, 100.00%, 83.71%); opacity: 0.86\" title=\"0.011\">i</span><span style=\"background-color: hsl(120, 100.00%, 79.91%); opacity: 0.87\" title=\"0.014\">g</span><span style=\"background-color: hsl(120, 100.00%, 75.83%); opacity: 0.90\" title=\"0.019\">h</span><span style=\"background-color: hsl(120, 100.00%, 72.57%); opacity: 0.92\" title=\"0.022\">t</span><span style=\"background-color: hsl(120, 100.00%, 76.10%); opacity: 0.90\" title=\"0.018\">f</span><span style=\"background-color: hsl(120, 100.00%, 90.29%); opacity: 0.83\" title=\"0.005\">u</span><span style=\"background-color: hsl(120, 100.00%, 96.10%); opacity: 0.81\" title=\"0.001\">l</span><span style=\"background-color: hsl(120, 100.00%, 91.09%); opacity: 0.82\" title=\"0.004\"> </span><span style=\"background-color: hsl(120, 100.00%, 88.85%); opacity: 0.83\" title=\"0.006\">e</span><span style=\"background-color: hsl(120, 100.00%, 93.83%); opacity: 0.81\" title=\"0.003\">s</span><span style=\"background-color: hsl(0, 100.00%, 93.80%); opacity: 0.81\" title=\"-0.003\">t</span><span style=\"background-color: hsl(120, 100.00%, 98.48%); opacity: 0.80\" title=\"0.000\">a</span><span style=\"background-color: hsl(120, 100.00%, 96.80%); opacity: 0.81\" title=\"0.001\">t</span><span style=\"background-color: hsl(120, 100.00%, 97.96%); opacity: 0.80\" title=\"0.001\">e</span><span style=\"background-color: hsl(0, 100.00%, 96.06%); opacity: 0.81\" title=\"-0.001\"> </span><span style=\"background-color: hsl(0, 100.00%, 97.61%); opacity: 0.80\" title=\"-0.001\">s</span><span style=\"background-color: hsl(0, 100.00%, 92.64%); opacity: 0.82\" title=\"-0.003\">c</span><span style=\"background-color: hsl(0, 100.00%, 92.84%); opacity: 0.82\" title=\"-0.003\">o</span><span style=\"background-color: hsl(0, 100.00%, 89.09%); opacity: 0.83\" title=\"-0.006\">t</span><span style=\"background-color: hsl(120, 100.00%, 98.54%); opacity: 0.80\" title=\"0.000\">l</span><span style=\"background-color: hsl(120, 100.00%, 98.99%); opacity: 0.80\" title=\"0.000\">a</span><span style=\"background-color: hsl(120, 100.00%, 96.11%); opacity: 0.81\" title=\"0.001\">n</span><span style=\"background-color: hsl(0, 100.00%, 93.93%); opacity: 0.81\" title=\"-0.003\">d</span><span style=\"background-color: hsl(0, 100.00%, 94.24%); opacity: 0.81\" title=\"-0.002\"> </span><span style=\"background-color: hsl(120, 100.00%, 97.18%); opacity: 0.80\" title=\"0.001\">m</span><span style=\"background-color: hsl(120, 100.00%, 90.31%); opacity: 0.83\" title=\"0.005\">u</span><span style=\"background-color: hsl(120, 100.00%, 91.45%); opacity: 0.82\" title=\"0.004\">s</span><span style=\"background-color: hsl(120, 100.00%, 94.73%); opacity: 0.81\" title=\"0.002\">t</span><span style=\"background-color: hsl(120, 100.00%, 99.51%); opacity: 0.80\" title=\"0.000\"> </span><span style=\"background-color: hsl(0, 100.00%, 90.41%); opacity: 0.83\" title=\"-0.005\">a</span><span style=\"background-color: hsl(0, 100.00%, 94.07%); opacity: 0.81\" title=\"-0.002\">d</span><span style=\"background-color: hsl(120, 100.00%, 97.69%); opacity: 0.80\" title=\"0.001\">j</span><span style=\"background-color: hsl(120, 100.00%, 92.03%); opacity: 0.82\" title=\"0.004\">u</span><span style=\"background-color: hsl(120, 100.00%, 97.04%); opacity: 0.80\" title=\"0.001\">s</span><span style=\"background-color: hsl(120, 100.00%, 96.96%); opacity: 0.81\" title=\"0.001\">t</span><span style=\"background-color: hsl(120, 100.00%, 97.74%); opacity: 0.80\" title=\"0.001\"> </span><span style=\"background-color: hsl(120, 100.00%, 97.42%); opacity: 0.80\" title=\"0.001\">c</span><span style=\"background-color: hsl(120, 100.00%, 95.16%); opacity: 0.81\" title=\"0.002\">i</span><span style=\"background-color: hsl(0, 100.00%, 99.08%); opacity: 0.80\" title=\"-0.000\">v</span><span style=\"background-color: hsl(0, 100.00%, 97.51%); opacity: 0.80\" title=\"-0.001\">i</span><span style=\"background-color: hsl(120, 100.00%, 94.50%); opacity: 0.81\" title=\"0.002\">l</span><span style=\"background-color: hsl(120, 100.00%, 93.41%); opacity: 0.82\" title=\"0.003\">i</span><span style=\"background-color: hsl(120, 100.00%, 99.00%); opacity: 0.80\" title=\"0.000\">z</span><span style=\"background-color: hsl(0, 100.00%, 97.85%); opacity: 0.80\" title=\"-0.001\">e</span><span style=\"background-color: hsl(0, 100.00%, 95.78%); opacity: 0.81\" title=\"-0.002\">d</span><span style=\"background-color: hsl(0, 100.00%, 97.69%); opacity: 0.80\" title=\"-0.001\"> </span><span style=\"background-color: hsl(120, 100.00%, 88.69%); opacity: 0.83\" title=\"0.006\">s</span><span style=\"background-color: hsl(120, 100.00%, 83.98%); opacity: 0.85\" title=\"0.010\">o</span><span style=\"background-color: hsl(120, 100.00%, 82.74%); opacity: 0.86\" title=\"0.011\">c</span><span style=\"background-color: hsl(120, 100.00%, 78.16%); opacity: 0.88\" title=\"0.016\">i</span><span style=\"background-color: hsl(120, 100.00%, 78.73%); opacity: 0.88\" title=\"0.015\">e</span><span style=\"background-color: hsl(120, 100.00%, 80.24%); opacity: 0.87\" title=\"0.014\">t</span><span style=\"background-color: hsl(120, 100.00%, 87.13%); opacity: 0.84\" title=\"0.008\">y</span><span style=\"background-color: hsl(0, 100.00%, 98.87%); opacity: 0.80\" title=\"-0.000\"> </span><span style=\"background-color: hsl(0, 100.00%, 92.77%); opacity: 0.82\" title=\"-0.003\">m</span><span style=\"background-color: hsl(120, 100.00%, 95.45%); opacity: 0.81\" title=\"0.002\">o</span><span style=\"background-color: hsl(120, 100.00%, 97.05%); opacity: 0.80\" title=\"0.001\">v</span><span style=\"background-color: hsl(0, 100.00%, 96.76%); opacity: 0.81\" title=\"-0.001\">i</span><span style=\"background-color: hsl(0, 100.00%, 94.88%); opacity: 0.81\" title=\"-0.002\">e</span><span style=\"background-color: hsl(0, 100.00%, 88.45%); opacity: 0.83\" title=\"-0.006\"> </span><span style=\"background-color: hsl(0, 100.00%, 87.01%); opacity: 0.84\" title=\"-0.008\">s</span><span style=\"background-color: hsl(0, 100.00%, 85.28%); opacity: 0.85\" title=\"-0.009\">o</span><span style=\"background-color: hsl(0, 100.00%, 87.22%); opacity: 0.84\" title=\"-0.007\">r</span><span style=\"background-color: hsl(120, 100.00%, 95.76%); opacity: 0.81\" title=\"0.002\">t</span><span style=\"background-color: hsl(0, 100.00%, 99.29%); opacity: 0.80\" title=\"-0.000\"> </span><span style=\"background-color: hsl(120, 100.00%, 92.62%); opacity: 0.82\" title=\"0.003\">d</span><span style=\"background-color: hsl(120, 100.00%, 89.12%); opacity: 0.83\" title=\"0.006\">i</span><span style=\"background-color: hsl(120, 100.00%, 87.28%); opacity: 0.84\" title=\"0.007\">v</span><span style=\"background-color: hsl(120, 100.00%, 96.59%); opacity: 0.81\" title=\"0.001\">i</span><span style=\"background-color: hsl(0, 100.00%, 97.72%); opacity: 0.80\" title=\"-0.001\">d</span><span style=\"background-color: hsl(0, 100.00%, 93.39%); opacity: 0.82\" title=\"-0.003\">e</span><span style=\"background-color: hsl(0, 100.00%, 88.30%); opacity: 0.83\" title=\"-0.007\">d</span><span style=\"background-color: hsl(0, 100.00%, 94.15%); opacity: 0.81\" title=\"-0.002\"> </span><span style=\"background-color: hsl(120, 100.00%, 89.64%); opacity: 0.83\" title=\"0.006\">t</span><span style=\"background-color: hsl(120, 100.00%, 93.21%); opacity: 0.82\" title=\"0.003\">w</span><span style=\"background-color: hsl(120, 100.00%, 92.43%); opacity: 0.82\" title=\"0.004\">o</span><span style=\"background-color: hsl(120, 100.00%, 92.60%); opacity: 0.82\" title=\"0.003\"> </span><span style=\"background-color: hsl(120, 100.00%, 91.36%); opacity: 0.82\" title=\"0.004\">p</span><span style=\"background-color: hsl(120, 100.00%, 87.10%); opacity: 0.84\" title=\"0.008\">a</span><span style=\"background-color: hsl(120, 100.00%, 85.95%); opacity: 0.84\" title=\"0.009\">r</span><span style=\"background-color: hsl(120, 100.00%, 90.12%); opacity: 0.83\" title=\"0.005\">t</span><span style=\"background-color: hsl(120, 100.00%, 89.43%); opacity: 0.83\" title=\"0.006\">s</span><span style=\"background-color: hsl(120, 100.00%, 84.47%); opacity: 0.85\" title=\"0.010\"> </span><span style=\"background-color: hsl(120, 100.00%, 81.13%); opacity: 0.87\" title=\"0.013\">f</span><span style=\"background-color: hsl(120, 100.00%, 79.79%); opacity: 0.88\" title=\"0.014\">i</span><span style=\"background-color: hsl(120, 100.00%, 90.65%); opacity: 0.83\" title=\"0.005\">r</span><span style=\"background-color: hsl(0, 100.00%, 98.58%); opacity: 0.80\" title=\"-0.000\">s</span><span style=\"background-color: hsl(0, 100.00%, 93.72%); opacity: 0.81\" title=\"-0.003\">t</span><span style=\"background-color: hsl(0, 100.00%, 88.88%); opacity: 0.83\" title=\"-0.006\"> </span><span style=\"background-color: hsl(0, 100.00%, 82.46%); opacity: 0.86\" title=\"-0.012\">h</span><span style=\"background-color: hsl(0, 100.00%, 75.78%); opacity: 0.90\" title=\"-0.019\">a</span><span style=\"background-color: hsl(0, 100.00%, 70.20%); opacity: 0.93\" title=\"-0.025\">l</span><span style=\"background-color: hsl(0, 100.00%, 68.47%); opacity: 0.94\" title=\"-0.027\">f</span><span style=\"background-color: hsl(0, 100.00%, 82.13%); opacity: 0.86\" title=\"-0.012\"> </span><span style=\"background-color: hsl(120, 100.00%, 90.56%); opacity: 0.83\" title=\"0.005\">s</span><span style=\"background-color: hsl(120, 100.00%, 85.42%); opacity: 0.85\" title=\"0.009\">e</span><span style=\"background-color: hsl(120, 100.00%, 87.71%); opacity: 0.84\" title=\"0.007\">e</span><span style=\"background-color: hsl(120, 100.00%, 91.65%); opacity: 0.82\" title=\"0.004\"> </span><span style=\"background-color: hsl(0, 100.00%, 98.41%); opacity: 0.80\" title=\"-0.000\">t</span><span style=\"background-color: hsl(120, 100.00%, 98.25%); opacity: 0.80\" title=\"0.000\">a</span><span style=\"background-color: hsl(120, 100.00%, 99.09%); opacity: 0.80\" title=\"0.000\">r</span><span style=\"background-color: hsl(120, 100.00%, 96.90%); opacity: 0.81\" title=\"0.001\">z</span><span style=\"background-color: hsl(120, 100.00%, 94.83%); opacity: 0.81\" title=\"0.002\">a</span><span style=\"background-color: hsl(120, 100.00%, 93.94%); opacity: 0.81\" title=\"0.003\">n</span><span style=\"background-color: hsl(120, 100.00%, 93.03%); opacity: 0.82\" title=\"0.003\"> </span><span style=\"background-color: hsl(120, 100.00%, 98.22%); opacity: 0.80\" title=\"0.000\">j</span><span style=\"background-color: hsl(0, 100.00%, 92.72%); opacity: 0.82\" title=\"-0.003\">u</span><span style=\"background-color: hsl(0, 100.00%, 89.73%); opacity: 0.83\" title=\"-0.005\">n</span><span style=\"background-color: hsl(120, 100.00%, 98.98%); opacity: 0.80\" title=\"0.000\">g</span><span style=\"background-color: hsl(0, 100.00%, 91.99%); opacity: 0.82\" title=\"-0.004\">l</span><span style=\"background-color: hsl(0, 100.00%, 92.22%); opacity: 0.82\" title=\"-0.004\">e</span><span style=\"background-color: hsl(120, 100.00%, 96.61%); opacity: 0.81\" title=\"0.001\"> </span><span style=\"background-color: hsl(120, 100.00%, 91.00%); opacity: 0.82\" title=\"0.005\">e</span><span style=\"background-color: hsl(120, 100.00%, 96.66%); opacity: 0.81\" title=\"0.001\">n</span><span style=\"background-color: hsl(0, 100.00%, 94.51%); opacity: 0.81\" title=\"-0.002\">v</span><span style=\"background-color: hsl(120, 100.00%, 98.98%); opacity: 0.80\" title=\"0.000\">i</span><span style=\"background-color: hsl(120, 100.00%, 98.26%); opacity: 0.80\" title=\"0.000\">r</span><span style=\"background-color: hsl(120, 100.00%, 97.99%); opacity: 0.80\" title=\"0.001\">o</span><span style=\"background-color: hsl(0, 100.00%, 97.43%); opacity: 0.80\" title=\"-0.001\">n</span><span style=\"background-color: hsl(0, 100.00%, 93.82%); opacity: 0.81\" title=\"-0.003\">m</span><span style=\"background-color: hsl(120, 100.00%, 95.91%); opacity: 0.81\" title=\"0.001\">e</span><span style=\"background-color: hsl(120, 100.00%, 97.99%); opacity: 0.80\" title=\"0.001\">n</span><span style=\"background-color: hsl(0, 100.00%, 97.56%); opacity: 0.80\" title=\"-0.001\">t</span><span style=\"background-color: hsl(120, 100.00%, 96.49%); opacity: 0.81\" title=\"0.001\"> </span><span style=\"background-color: hsl(120, 100.00%, 92.60%); opacity: 0.82\" title=\"0.003\">e</span><span style=\"background-color: hsl(120, 100.00%, 90.22%); opacity: 0.83\" title=\"0.005\">x</span><span style=\"background-color: hsl(120, 100.00%, 87.59%); opacity: 0.84\" title=\"0.007\">p</span><span style=\"background-color: hsl(120, 100.00%, 87.30%); opacity: 0.84\" title=\"0.007\">e</span><span style=\"background-color: hsl(120, 100.00%, 88.10%); opacity: 0.84\" title=\"0.007\">r</span><span style=\"background-color: hsl(120, 100.00%, 92.95%); opacity: 0.82\" title=\"0.003\">t</span><span style=\"background-color: hsl(0, 100.00%, 90.11%); opacity: 0.83\" title=\"-0.005\"> </span><span style=\"background-color: hsl(0, 100.00%, 86.03%); opacity: 0.84\" title=\"-0.008\">u</span><span style=\"background-color: hsl(0, 100.00%, 89.09%); opacity: 0.83\" title=\"-0.006\">n</span><span style=\"background-color: hsl(120, 100.00%, 97.86%); opacity: 0.80\" title=\"0.001\">a</span><span style=\"background-color: hsl(120, 100.00%, 90.94%); opacity: 0.82\" title=\"0.005\">w</span><span style=\"background-color: hsl(120, 100.00%, 88.35%); opacity: 0.83\" title=\"0.007\">a</span><span style=\"background-color: hsl(120, 100.00%, 92.66%); opacity: 0.82\" title=\"0.003\">r</span><span style=\"background-color: hsl(120, 100.00%, 97.59%); opacity: 0.80\" title=\"0.001\">e</span><span style=\"background-color: hsl(120, 100.00%, 92.15%); opacity: 0.82\" title=\"0.004\"> </span><span style=\"background-color: hsl(120, 100.00%, 86.35%); opacity: 0.84\" title=\"0.008\">r</span><span style=\"background-color: hsl(120, 100.00%, 81.51%); opacity: 0.87\" title=\"0.013\">e</span><span style=\"background-color: hsl(120, 100.00%, 78.79%); opacity: 0.88\" title=\"0.015\">a</span><span style=\"background-color: hsl(120, 100.00%, 77.25%); opacity: 0.89\" title=\"0.017\">l</span><span style=\"background-color: hsl(120, 100.00%, 79.60%); opacity: 0.88\" title=\"0.015\">i</span><span style=\"background-color: hsl(120, 100.00%, 84.36%); opacity: 0.85\" title=\"0.010\">s</span><span style=\"background-color: hsl(120, 100.00%, 88.05%); opacity: 0.84\" title=\"0.007\">m</span><span style=\"background-color: hsl(120, 100.00%, 92.34%); opacity: 0.82\" title=\"0.004\"> </span><span style=\"background-color: hsl(120, 100.00%, 93.20%); opacity: 0.82\" title=\"0.003\">d</span><span style=\"background-color: hsl(120, 100.00%, 90.40%); opacity: 0.83\" title=\"0.005\">e</span><span style=\"background-color: hsl(120, 100.00%, 92.42%); opacity: 0.82\" title=\"0.004\">p</span><span style=\"background-color: hsl(120, 100.00%, 91.78%); opacity: 0.82\" title=\"0.004\">i</span><span style=\"background-color: hsl(120, 100.00%, 92.28%); opacity: 0.82\" title=\"0.004\">c</span><span style=\"background-color: hsl(120, 100.00%, 92.70%); opacity: 0.82\" title=\"0.003\">t</span><span style=\"background-color: hsl(120, 100.00%, 92.39%); opacity: 0.82\" title=\"0.004\">i</span><span style=\"background-color: hsl(120, 100.00%, 90.99%); opacity: 0.82\" title=\"0.005\">o</span><span style=\"background-color: hsl(120, 100.00%, 90.77%); opacity: 0.82\" title=\"0.005\">n</span><span style=\"background-color: hsl(120, 100.00%, 95.41%); opacity: 0.81\" title=\"0.002\"> </span><span style=\"background-color: hsl(0, 100.00%, 90.76%); opacity: 0.82\" title=\"-0.005\">a</span><span style=\"background-color: hsl(0, 100.00%, 92.02%); opacity: 0.82\" title=\"-0.004\">p</span><span style=\"background-color: hsl(120, 100.00%, 94.72%); opacity: 0.81\" title=\"0.002\">e</span><span style=\"background-color: hsl(120, 100.00%, 89.56%); opacity: 0.83\" title=\"0.006\"> </span><span style=\"background-color: hsl(120, 100.00%, 85.42%); opacity: 0.85\" title=\"0.009\">c</span><span style=\"background-color: hsl(120, 100.00%, 83.33%); opacity: 0.86\" title=\"0.011\">o</span><span style=\"background-color: hsl(120, 100.00%, 83.56%); opacity: 0.86\" title=\"0.011\">m</span><span style=\"background-color: hsl(120, 100.00%, 89.56%); opacity: 0.83\" title=\"0.006\">m</span><span style=\"background-color: hsl(0, 100.00%, 95.95%); opacity: 0.81\" title=\"-0.001\">u</span><span style=\"background-color: hsl(120, 100.00%, 95.36%); opacity: 0.81\" title=\"0.002\">n</span><span style=\"background-color: hsl(120, 100.00%, 94.80%); opacity: 0.81\" title=\"0.002\">i</span><span style=\"background-color: hsl(120, 100.00%, 91.41%); opacity: 0.82\" title=\"0.004\">t</span><span style=\"background-color: hsl(120, 100.00%, 94.61%); opacity: 0.81\" title=\"0.002\">y</span><span style=\"background-color: hsl(120, 100.00%, 88.85%); opacity: 0.83\" title=\"0.006\"> </span><span style=\"background-color: hsl(120, 100.00%, 80.30%); opacity: 0.87\" title=\"0.014\">l</span><span style=\"background-color: hsl(120, 100.00%, 75.77%); opacity: 0.90\" title=\"0.019\">i</span><span style=\"background-color: hsl(120, 100.00%, 77.61%); opacity: 0.89\" title=\"0.017\">f</span><span style=\"background-color: hsl(120, 100.00%, 83.01%); opacity: 0.86\" title=\"0.011\">e</span><span style=\"background-color: hsl(120, 100.00%, 84.75%); opacity: 0.85\" title=\"0.010\"> </span><span style=\"background-color: hsl(120, 100.00%, 84.64%); opacity: 0.85\" title=\"0.010\">c</span><span style=\"background-color: hsl(120, 100.00%, 79.29%); opacity: 0.88\" title=\"0.015\">e</span><span style=\"background-color: hsl(120, 100.00%, 77.97%); opacity: 0.89\" title=\"0.016\">r</span><span style=\"background-color: hsl(120, 100.00%, 76.49%); opacity: 0.89\" title=\"0.018\">t</span><span style=\"background-color: hsl(120, 100.00%, 80.34%); opacity: 0.87\" title=\"0.014\">a</span><span style=\"background-color: hsl(120, 100.00%, 85.55%); opacity: 0.85\" title=\"0.009\">i</span><span style=\"background-color: hsl(120, 100.00%, 92.94%); opacity: 0.82\" title=\"0.003\">n</span><span style=\"background-color: hsl(120, 100.00%, 96.39%); opacity: 0.81\" title=\"0.001\">l</span><span style=\"background-color: hsl(120, 100.00%, 93.45%); opacity: 0.82\" title=\"0.003\">y</span><span style=\"background-color: hsl(120, 100.00%, 86.94%); opacity: 0.84\" title=\"0.008\"> </span><span style=\"background-color: hsl(120, 100.00%, 80.78%); opacity: 0.87\" title=\"0.013\">e</span><span style=\"background-color: hsl(120, 100.00%, 81.40%); opacity: 0.87\" title=\"0.013\">n</span><span style=\"background-color: hsl(120, 100.00%, 84.60%); opacity: 0.85\" title=\"0.010\">t</span><span style=\"background-color: hsl(120, 100.00%, 79.28%); opacity: 0.88\" title=\"0.015\">e</span><span style=\"background-color: hsl(120, 100.00%, 72.60%); opacity: 0.92\" title=\"0.022\">r</span><span style=\"background-color: hsl(120, 100.00%, 70.39%); opacity: 0.93\" title=\"0.025\">t</span><span style=\"background-color: hsl(120, 100.00%, 74.19%); opacity: 0.91\" title=\"0.020\">a</span><span style=\"background-color: hsl(120, 100.00%, 78.33%); opacity: 0.88\" title=\"0.016\">i</span><span style=\"background-color: hsl(120, 100.00%, 79.98%); opacity: 0.87\" title=\"0.014\">n</span><span style=\"background-color: hsl(120, 100.00%, 86.86%); opacity: 0.84\" title=\"0.008\">i</span><span style=\"background-color: hsl(0, 100.00%, 99.62%); opacity: 0.80\" title=\"-0.000\">n</span><span style=\"background-color: hsl(0, 100.00%, 92.30%); opacity: 0.82\" title=\"-0.004\">g</span><span style=\"background-color: hsl(0, 100.00%, 91.17%); opacity: 0.82\" title=\"-0.004\"> </span><span style=\"background-color: hsl(120, 100.00%, 93.77%); opacity: 0.81\" title=\"0.003\">m</span><span style=\"background-color: hsl(120, 100.00%, 77.95%); opacity: 0.89\" title=\"0.016\">o</span><span style=\"background-color: hsl(120, 100.00%, 75.41%); opacity: 0.90\" title=\"0.019\">v</span><span style=\"background-color: hsl(120, 100.00%, 80.71%); opacity: 0.87\" title=\"0.013\">i</span><span style=\"background-color: hsl(120, 100.00%, 80.85%); opacity: 0.87\" title=\"0.013\">n</span><span style=\"background-color: hsl(120, 100.00%, 91.58%); opacity: 0.82\" title=\"0.004\">g</span><span style=\"background-color: hsl(0, 100.00%, 93.15%); opacity: 0.82\" title=\"-0.003\"> </span><span style=\"background-color: hsl(0, 100.00%, 92.24%); opacity: 0.82\" title=\"-0.004\">s</span><span style=\"background-color: hsl(120, 100.00%, 92.58%); opacity: 0.82\" title=\"0.003\">e</span><span style=\"background-color: hsl(120, 100.00%, 92.32%); opacity: 0.82\" title=\"0.004\">c</span><span style=\"background-color: hsl(120, 100.00%, 89.42%); opacity: 0.83\" title=\"0.006\">t</span><span style=\"background-color: hsl(120, 100.00%, 90.71%); opacity: 0.82\" title=\"0.005\">i</span><span style=\"background-color: hsl(120, 100.00%, 97.55%); opacity: 0.80\" title=\"0.001\">o</span><span style=\"background-color: hsl(0, 100.00%, 95.68%); opacity: 0.81\" title=\"-0.002\">n</span><span style=\"background-color: hsl(0, 100.00%, 88.41%); opacity: 0.83\" title=\"-0.007\"> </span><span style=\"background-color: hsl(0, 100.00%, 83.31%); opacity: 0.86\" title=\"-0.011\">s</span><span style=\"background-color: hsl(0, 100.00%, 89.05%); opacity: 0.83\" title=\"-0.006\">e</span><span style=\"background-color: hsl(0, 100.00%, 92.05%); opacity: 0.82\" title=\"-0.004\">c</span><span style=\"background-color: hsl(0, 100.00%, 93.85%); opacity: 0.81\" title=\"-0.003\">o</span><span style=\"background-color: hsl(0, 100.00%, 96.55%); opacity: 0.81\" title=\"-0.001\">n</span><span style=\"background-color: hsl(0, 100.00%, 95.30%); opacity: 0.81\" title=\"-0.002\">d</span><span style=\"background-color: hsl(0, 100.00%, 88.69%); opacity: 0.83\" title=\"-0.006\"> </span><span style=\"background-color: hsl(0, 100.00%, 80.79%); opacity: 0.87\" title=\"-0.013\">h</span><span style=\"background-color: hsl(0, 100.00%, 76.28%); opacity: 0.89\" title=\"-0.018\">a</span><span style=\"background-color: hsl(0, 100.00%, 70.20%); opacity: 0.93\" title=\"-0.025\">l</span><span style=\"background-color: hsl(0, 100.00%, 68.76%); opacity: 0.94\" title=\"-0.027\">f</span><span style=\"background-color: hsl(0, 100.00%, 82.13%); opacity: 0.86\" title=\"-0.012\"> </span><span style=\"background-color: hsl(120, 100.00%, 98.08%); opacity: 0.80\" title=\"0.000\">t</span><span style=\"background-color: hsl(120, 100.00%, 97.77%); opacity: 0.80\" title=\"0.001\">a</span><span style=\"background-color: hsl(120, 100.00%, 99.09%); opacity: 0.80\" title=\"0.000\">r</span><span style=\"background-color: hsl(120, 100.00%, 96.90%); opacity: 0.81\" title=\"0.001\">z</span><span style=\"background-color: hsl(120, 100.00%, 94.70%); opacity: 0.81\" title=\"0.002\">a</span><span style=\"background-color: hsl(120, 100.00%, 96.27%); opacity: 0.81\" title=\"0.001\">n</span><span style=\"background-color: hsl(120, 100.00%, 99.62%); opacity: 0.80\" title=\"0.000\"> </span><span style=\"background-color: hsl(0, 100.00%, 99.09%); opacity: 0.80\" title=\"-0.000\">m</span><span style=\"background-color: hsl(120, 100.00%, 92.48%); opacity: 0.82\" title=\"0.004\">u</span><span style=\"background-color: hsl(120, 100.00%, 92.87%); opacity: 0.82\" title=\"0.003\">s</span><span style=\"background-color: hsl(120, 100.00%, 97.05%); opacity: 0.80\" title=\"0.001\">t</span><span style=\"background-color: hsl(0, 100.00%, 96.46%); opacity: 0.81\" title=\"-0.001\"> </span><span style=\"background-color: hsl(0, 100.00%, 99.75%); opacity: 0.80\" title=\"-0.000\">m</span><span style=\"background-color: hsl(120, 100.00%, 84.16%); opacity: 0.85\" title=\"0.010\">e</span><span style=\"background-color: hsl(120, 100.00%, 80.93%); opacity: 0.87\" title=\"0.013\">e</span><span style=\"background-color: hsl(120, 100.00%, 86.71%); opacity: 0.84\" title=\"0.008\">t</span><span style=\"background-color: hsl(120, 100.00%, 92.13%); opacity: 0.82\" title=\"0.004\"> </span><span style=\"background-color: hsl(120, 100.00%, 94.94%); opacity: 0.81\" title=\"0.002\">r</span><span style=\"background-color: hsl(120, 100.00%, 91.85%); opacity: 0.82\" title=\"0.004\">e</span><span style=\"background-color: hsl(120, 100.00%, 90.02%); opacity: 0.83\" title=\"0.005\">a</span><span style=\"background-color: hsl(120, 100.00%, 94.03%); opacity: 0.81\" title=\"0.003\">l</span><span style=\"background-color: hsl(120, 100.00%, 91.26%); opacity: 0.82\" title=\"0.004\"> </span><span style=\"background-color: hsl(120, 100.00%, 85.39%); opacity: 0.85\" title=\"0.009\">f</span><span style=\"background-color: hsl(120, 100.00%, 85.91%); opacity: 0.85\" title=\"0.009\">a</span><span style=\"background-color: hsl(120, 100.00%, 83.88%); opacity: 0.85\" title=\"0.010\">m</span><span style=\"background-color: hsl(120, 100.00%, 83.94%); opacity: 0.85\" title=\"0.010\">i</span><span style=\"background-color: hsl(120, 100.00%, 87.51%); opacity: 0.84\" title=\"0.007\">l</span><span style=\"background-color: hsl(120, 100.00%, 95.97%); opacity: 0.81\" title=\"0.001\">y</span><span style=\"background-color: hsl(0, 100.00%, 98.37%); opacity: 0.80\" title=\"-0.000\"> </span><span style=\"background-color: hsl(0, 100.00%, 93.73%); opacity: 0.81\" title=\"-0.003\">d</span><span style=\"background-color: hsl(0, 100.00%, 98.36%); opacity: 0.80\" title=\"-0.000\">e</span><span style=\"background-color: hsl(0, 100.00%, 96.86%); opacity: 0.81\" title=\"-0.001\">v</span><span style=\"background-color: hsl(120, 100.00%, 94.72%); opacity: 0.81\" title=\"0.002\">e</span><span style=\"background-color: hsl(0, 100.00%, 98.09%); opacity: 0.80\" title=\"-0.000\">l</span><span style=\"background-color: hsl(0, 100.00%, 93.27%); opacity: 0.82\" title=\"-0.003\">o</span><span style=\"background-color: hsl(0, 100.00%, 90.52%); opacity: 0.83\" title=\"-0.005\">p</span><span style=\"background-color: hsl(0, 100.00%, 93.57%); opacity: 0.81\" title=\"-0.003\"> </span><span style=\"background-color: hsl(120, 100.00%, 97.61%); opacity: 0.80\" title=\"0.001\">l</span><span style=\"background-color: hsl(120, 100.00%, 88.97%); opacity: 0.83\" title=\"0.006\">a</span><span style=\"background-color: hsl(120, 100.00%, 85.81%); opacity: 0.85\" title=\"0.009\">n</span><span style=\"background-color: hsl(120, 100.00%, 86.25%); opacity: 0.84\" title=\"0.008\">g</span><span style=\"background-color: hsl(120, 100.00%, 92.53%); opacity: 0.82\" title=\"0.003\">u</span><span style=\"background-color: hsl(120, 100.00%, 92.40%); opacity: 0.82\" title=\"0.004\">a</span><span style=\"background-color: hsl(120, 100.00%, 95.26%); opacity: 0.81\" title=\"0.002\">g</span><span style=\"background-color: hsl(120, 100.00%, 97.59%); opacity: 0.80\" title=\"0.001\">e</span><span style=\"background-color: hsl(0, 100.00%, 89.97%); opacity: 0.83\" title=\"-0.005\"> </span><span style=\"background-color: hsl(0, 100.00%, 87.43%); opacity: 0.84\" title=\"-0.007\">s</span><span style=\"background-color: hsl(0, 100.00%, 84.04%); opacity: 0.85\" title=\"-0.010\">k</span><span style=\"background-color: hsl(0, 100.00%, 86.10%); opacity: 0.84\" title=\"-0.008\">i</span><span style=\"background-color: hsl(0, 100.00%, 94.58%); opacity: 0.81\" title=\"-0.002\">l</span><span style=\"background-color: hsl(0, 100.00%, 92.85%); opacity: 0.82\" title=\"-0.003\">l</span><span style=\"background-color: hsl(0, 100.00%, 94.96%); opacity: 0.81\" title=\"-0.002\">s</span><span style=\"background-color: hsl(0, 100.00%, 99.08%); opacity: 0.80\" title=\"-0.000\"> </span><span style=\"background-color: hsl(0, 100.00%, 93.66%); opacity: 0.81\" title=\"-0.003\">a</span><span style=\"background-color: hsl(0, 100.00%, 94.98%); opacity: 0.81\" title=\"-0.002\">d</span><span style=\"background-color: hsl(120, 100.00%, 97.69%); opacity: 0.80\" title=\"0.001\">j</span><span style=\"background-color: hsl(120, 100.00%, 92.03%); opacity: 0.82\" title=\"0.004\">u</span><span style=\"background-color: hsl(120, 100.00%, 97.50%); opacity: 0.80\" title=\"0.001\">s</span><span style=\"background-color: hsl(0, 100.00%, 97.28%); opacity: 0.80\" title=\"-0.001\">t</span><span style=\"background-color: hsl(0, 100.00%, 92.02%); opacity: 0.82\" title=\"-0.004\"> </span><span style=\"background-color: hsl(0, 100.00%, 97.86%); opacity: 0.80\" title=\"-0.001\">a</span><span style=\"background-color: hsl(120, 100.00%, 97.03%); opacity: 0.80\" title=\"0.001\">r</span><span style=\"background-color: hsl(0, 100.00%, 97.03%); opacity: 0.80\" title=\"-0.001\">i</span><span style=\"background-color: hsl(0, 100.00%, 91.65%); opacity: 0.82\" title=\"-0.004\">s</span><span style=\"background-color: hsl(0, 100.00%, 94.39%); opacity: 0.81\" title=\"-0.002\">t</span><span style=\"background-color: hsl(0, 100.00%, 95.37%); opacity: 0.81\" title=\"-0.002\">o</span><span style=\"background-color: hsl(0, 100.00%, 87.43%); opacity: 0.84\" title=\"-0.007\">c</span><span style=\"background-color: hsl(0, 100.00%, 87.64%); opacity: 0.84\" title=\"-0.007\">r</span><span style=\"background-color: hsl(0, 100.00%, 96.86%); opacity: 0.81\" title=\"-0.001\">a</span><span style=\"background-color: hsl(120, 100.00%, 96.22%); opacity: 0.81\" title=\"0.001\">t</span><span style=\"background-color: hsl(120, 100.00%, 95.32%); opacity: 0.81\" title=\"0.002\">i</span><span style=\"background-color: hsl(120, 100.00%, 99.44%); opacity: 0.80\" title=\"0.000\">c</span><span style=\"background-color: hsl(120, 100.00%, 95.88%); opacity: 0.81\" title=\"0.001\"> </span><span style=\"background-color: hsl(120, 100.00%, 91.67%); opacity: 0.82\" title=\"0.004\">b</span><span style=\"background-color: hsl(120, 100.00%, 87.29%); opacity: 0.84\" title=\"0.007\">r</span><span style=\"background-color: hsl(120, 100.00%, 93.76%); opacity: 0.81\" title=\"0.003\">i</span><span style=\"background-color: hsl(120, 100.00%, 96.79%); opacity: 0.81\" title=\"0.001\">t</span><span style=\"background-color: hsl(0, 100.00%, 98.76%); opacity: 0.80\" title=\"-0.000\">i</span><span style=\"background-color: hsl(0, 100.00%, 91.07%); opacity: 0.82\" title=\"-0.004\">s</span><span style=\"background-color: hsl(0, 100.00%, 91.86%); opacity: 0.82\" title=\"-0.004\">h</span><span style=\"background-color: hsl(0, 100.00%, 94.94%); opacity: 0.81\" title=\"-0.002\"> </span><span style=\"background-color: hsl(120, 100.00%, 89.65%); opacity: 0.83\" title=\"0.006\">s</span><span style=\"background-color: hsl(120, 100.00%, 85.80%); opacity: 0.85\" title=\"0.009\">o</span><span style=\"background-color: hsl(120, 100.00%, 82.74%); opacity: 0.86\" title=\"0.011\">c</span><span style=\"background-color: hsl(120, 100.00%, 78.16%); opacity: 0.88\" title=\"0.016\">i</span><span style=\"background-color: hsl(120, 100.00%, 78.73%); opacity: 0.88\" title=\"0.015\">e</span><span style=\"background-color: hsl(120, 100.00%, 77.65%); opacity: 0.89\" title=\"0.017\">t</span><span style=\"background-color: hsl(120, 100.00%, 83.21%); opacity: 0.86\" title=\"0.011\">y</span><span style=\"background-color: hsl(0, 100.00%, 98.07%); opacity: 0.80\" title=\"-0.001\"> </span><span style=\"background-color: hsl(0, 100.00%, 89.75%); opacity: 0.83\" title=\"-0.005\">w</span><span style=\"background-color: hsl(0, 100.00%, 86.72%); opacity: 0.84\" title=\"-0.008\">o</span><span style=\"background-color: hsl(0, 100.00%, 84.24%); opacity: 0.85\" title=\"-0.010\">o</span><span style=\"background-color: hsl(0, 100.00%, 86.12%); opacity: 0.84\" title=\"-0.008\">i</span><span style=\"background-color: hsl(0, 100.00%, 88.11%); opacity: 0.84\" title=\"-0.007\">n</span><span style=\"background-color: hsl(0, 100.00%, 90.85%); opacity: 0.82\" title=\"-0.005\">g</span><span style=\"background-color: hsl(120, 100.00%, 92.60%); opacity: 0.82\" title=\"0.003\"> </span><span style=\"background-color: hsl(120, 100.00%, 84.65%); opacity: 0.85\" title=\"0.010\">j</span><span style=\"background-color: hsl(120, 100.00%, 89.43%); opacity: 0.83\" title=\"0.006\">a</span><span style=\"background-color: hsl(120, 100.00%, 96.53%); opacity: 0.81\" title=\"0.001\">n</span><span style=\"background-color: hsl(0, 100.00%, 98.53%); opacity: 0.80\" title=\"-0.000\">e</span><span style=\"background-color: hsl(0, 100.00%, 97.28%); opacity: 0.80\" title=\"-0.001\"> </span><span style=\"background-color: hsl(120, 100.00%, 96.71%); opacity: 0.81\" title=\"0.001\">a</span><span style=\"background-color: hsl(120, 100.00%, 89.97%); opacity: 0.83\" title=\"0.005\">n</span><span style=\"background-color: hsl(120, 100.00%, 87.18%); opacity: 0.84\" title=\"0.008\">d</span><span style=\"background-color: hsl(120, 100.00%, 87.22%); opacity: 0.84\" title=\"0.007\">i</span><span style=\"background-color: hsl(120, 100.00%, 88.20%); opacity: 0.83\" title=\"0.007\">e</span><span style=\"background-color: hsl(120, 100.00%, 91.87%); opacity: 0.82\" title=\"0.004\"> </span><span style=\"background-color: hsl(120, 100.00%, 95.82%); opacity: 0.81\" title=\"0.002\">m</span><span style=\"background-color: hsl(120, 100.00%, 94.40%); opacity: 0.81\" title=\"0.002\">a</span><span style=\"background-color: hsl(0, 100.00%, 96.72%); opacity: 0.81\" title=\"-0.001\">c</span><span style=\"background-color: hsl(120, 100.00%, 98.82%); opacity: 0.80\" title=\"0.000\">d</span><span style=\"background-color: hsl(0, 100.00%, 97.87%); opacity: 0.80\" title=\"-0.001\">o</span><span style=\"background-color: hsl(120, 100.00%, 84.33%); opacity: 0.85\" title=\"0.010\">w</span><span style=\"background-color: hsl(120, 100.00%, 79.66%); opacity: 0.88\" title=\"0.015\">e</span><span style=\"background-color: hsl(120, 100.00%, 78.42%); opacity: 0.88\" title=\"0.016\">l</span><span style=\"background-color: hsl(120, 100.00%, 85.86%); opacity: 0.85\" title=\"0.009\">l</span><span style=\"background-color: hsl(120, 100.00%, 98.36%); opacity: 0.80\" title=\"0.000\"> </span><span style=\"background-color: hsl(0, 100.00%, 98.25%); opacity: 0.80\" title=\"-0.000\">p</span><span style=\"background-color: hsl(120, 100.00%, 92.48%); opacity: 0.82\" title=\"0.004\">o</span><span style=\"background-color: hsl(120, 100.00%, 78.95%); opacity: 0.88\" title=\"0.015\">r</span><span style=\"background-color: hsl(120, 100.00%, 77.30%); opacity: 0.89\" title=\"0.017\">t</span><span style=\"background-color: hsl(120, 100.00%, 87.40%); opacity: 0.84\" title=\"0.007\">r</span><span style=\"background-color: hsl(0, 100.00%, 99.85%); opacity: 0.80\" title=\"-0.000\">a</span><span style=\"background-color: hsl(0, 100.00%, 91.20%); opacity: 0.82\" title=\"-0.004\">y</span><span style=\"background-color: hsl(0, 100.00%, 87.23%); opacity: 0.84\" title=\"-0.007\">e</span><span style=\"background-color: hsl(0, 100.00%, 83.31%); opacity: 0.86\" title=\"-0.011\">d</span><span style=\"background-color: hsl(0, 100.00%, 81.87%); opacity: 0.86\" title=\"-0.012\"> </span><span style=\"background-color: hsl(0, 100.00%, 81.60%); opacity: 0.87\" title=\"-0.013\">n</span><span style=\"background-color: hsl(0, 100.00%, 80.76%); opacity: 0.87\" title=\"-0.013\">o</span><span style=\"background-color: hsl(0, 100.00%, 84.54%); opacity: 0.85\" title=\"-0.010\">b</span><span style=\"background-color: hsl(0, 100.00%, 86.85%); opacity: 0.84\" title=\"-0.008\">l</span><span style=\"background-color: hsl(0, 100.00%, 90.51%); opacity: 0.83\" title=\"-0.005\">e</span><span style=\"background-color: hsl(0, 100.00%, 84.07%); opacity: 0.85\" title=\"-0.010\"> </span><span style=\"background-color: hsl(0, 100.00%, 76.77%); opacity: 0.89\" title=\"-0.018\">s</span><span style=\"background-color: hsl(0, 100.00%, 84.52%); opacity: 0.85\" title=\"-0.010\">a</span><span style=\"background-color: hsl(0, 100.00%, 93.12%); opacity: 0.82\" title=\"-0.003\">v</span><span style=\"background-color: hsl(120, 100.00%, 84.97%); opacity: 0.85\" title=\"0.009\">a</span><span style=\"background-color: hsl(120, 100.00%, 96.01%); opacity: 0.81\" title=\"0.001\">g</span><span style=\"background-color: hsl(120, 100.00%, 98.43%); opacity: 0.80\" title=\"0.000\">e</span><span style=\"background-color: hsl(0, 100.00%, 93.10%); opacity: 0.82\" title=\"-0.003\"> </span><span style=\"background-color: hsl(0, 100.00%, 91.61%); opacity: 0.82\" title=\"-0.004\">w</span><span style=\"background-color: hsl(0, 100.00%, 96.57%); opacity: 0.81\" title=\"-0.001\">h</span><span style=\"background-color: hsl(120, 100.00%, 95.23%); opacity: 0.81\" title=\"0.002\">e</span><span style=\"background-color: hsl(120, 100.00%, 93.71%); opacity: 0.81\" title=\"0.003\">t</span><span style=\"background-color: hsl(120, 100.00%, 91.74%); opacity: 0.82\" title=\"0.004\">h</span><span style=\"background-color: hsl(120, 100.00%, 90.48%); opacity: 0.83\" title=\"0.005\">e</span><span style=\"background-color: hsl(120, 100.00%, 94.86%); opacity: 0.81\" title=\"0.002\">r</span><span style=\"background-color: hsl(120, 100.00%, 93.15%); opacity: 0.82\" title=\"0.003\"> </span><span style=\"background-color: hsl(120, 100.00%, 85.58%); opacity: 0.85\" title=\"0.009\">w</span><span style=\"background-color: hsl(120, 100.00%, 82.87%); opacity: 0.86\" title=\"0.011\">i</span><span style=\"background-color: hsl(120, 100.00%, 98.29%); opacity: 0.80\" title=\"0.000\">l</span><span style=\"background-color: hsl(0, 100.00%, 92.41%); opacity: 0.82\" title=\"-0.004\">d</span><span style=\"background-color: hsl(0, 100.00%, 94.18%); opacity: 0.81\" title=\"-0.002\"> </span><span style=\"background-color: hsl(120, 100.00%, 90.33%); opacity: 0.83\" title=\"0.005\">e</span><span style=\"background-color: hsl(120, 100.00%, 95.74%); opacity: 0.81\" title=\"0.002\">l</span><span style=\"background-color: hsl(0, 100.00%, 94.82%); opacity: 0.81\" title=\"-0.002\">e</span><span style=\"background-color: hsl(0, 100.00%, 87.32%); opacity: 0.84\" title=\"-0.007\">g</span><span style=\"background-color: hsl(0, 100.00%, 92.88%); opacity: 0.82\" title=\"-0.003\">a</span><span style=\"background-color: hsl(0, 100.00%, 94.78%); opacity: 0.81\" title=\"-0.002\">n</span><span style=\"background-color: hsl(0, 100.00%, 94.20%); opacity: 0.81\" title=\"-0.002\">t</span><span style=\"background-color: hsl(120, 100.00%, 97.40%); opacity: 0.80\" title=\"0.001\"> </span><span style=\"background-color: hsl(120, 100.00%, 97.40%); opacity: 0.80\" title=\"0.001\">e</span><span style=\"background-color: hsl(0, 100.00%, 96.37%); opacity: 0.81\" title=\"-0.001\">d</span><span style=\"background-color: hsl(120, 100.00%, 98.39%); opacity: 0.80\" title=\"0.000\">w</span><span style=\"background-color: hsl(120, 100.00%, 94.07%); opacity: 0.81\" title=\"0.002\">a</span><span style=\"background-color: hsl(120, 100.00%, 93.33%); opacity: 0.82\" title=\"0.003\">r</span><span style=\"background-color: hsl(0, 100.00%, 94.21%); opacity: 0.81\" title=\"-0.002\">d</span><span style=\"background-color: hsl(0, 100.00%, 94.71%); opacity: 0.81\" title=\"-0.002\">i</span><span style=\"background-color: hsl(120, 100.00%, 99.35%); opacity: 0.80\" title=\"0.000\">a</span><span style=\"background-color: hsl(120, 100.00%, 97.08%); opacity: 0.80\" title=\"0.001\">n</span><span style=\"background-color: hsl(120, 100.00%, 98.02%); opacity: 0.80\" title=\"0.001\"> </span><span style=\"background-color: hsl(120, 100.00%, 95.05%); opacity: 0.81\" title=\"0.002\">p</span><span style=\"background-color: hsl(120, 100.00%, 91.34%); opacity: 0.82\" title=\"0.004\">a</span><span style=\"background-color: hsl(120, 100.00%, 89.61%); opacity: 0.83\" title=\"0.006\">r</span><span style=\"background-color: hsl(120, 100.00%, 91.99%); opacity: 0.82\" title=\"0.004\">l</span><span style=\"background-color: hsl(0, 100.00%, 89.60%); opacity: 0.83\" title=\"-0.006\">o</span><span style=\"background-color: hsl(0, 100.00%, 85.70%); opacity: 0.85\" title=\"-0.009\">r</span><span style=\"background-color: hsl(0, 100.00%, 91.25%); opacity: 0.82\" title=\"-0.004\">s</span><span style=\"background-color: hsl(120, 100.00%, 94.41%); opacity: 0.81\" title=\"0.002\"> </span><span style=\"background-color: hsl(120, 100.00%, 95.08%); opacity: 0.81\" title=\"0.002\">c</span><span style=\"background-color: hsl(120, 100.00%, 92.53%); opacity: 0.82\" title=\"0.003\">o</span><span style=\"background-color: hsl(120, 100.00%, 91.64%); opacity: 0.82\" title=\"0.004\">n</span><span style=\"background-color: hsl(120, 100.00%, 86.11%); opacity: 0.84\" title=\"0.008\">t</span><span style=\"background-color: hsl(120, 100.00%, 87.64%); opacity: 0.84\" title=\"0.007\">r</span><span style=\"background-color: hsl(0, 100.00%, 99.40%); opacity: 0.80\" title=\"-0.000\">a</span><span style=\"background-color: hsl(0, 100.00%, 87.01%); opacity: 0.84\" title=\"-0.008\">s</span><span style=\"background-color: hsl(0, 100.00%, 93.65%); opacity: 0.81\" title=\"-0.003\">t</span><span style=\"background-color: hsl(0, 100.00%, 93.05%); opacity: 0.82\" title=\"-0.003\"> </span><span style=\"background-color: hsl(0, 100.00%, 89.98%); opacity: 0.83\" title=\"-0.005\">u</span><span style=\"background-color: hsl(0, 100.00%, 89.12%); opacity: 0.83\" title=\"-0.006\">p</span><span style=\"background-color: hsl(0, 100.00%, 93.97%); opacity: 0.81\" title=\"-0.003\">p</span><span style=\"background-color: hsl(120, 100.00%, 95.32%); opacity: 0.81\" title=\"0.002\">e</span><span style=\"background-color: hsl(120, 100.00%, 98.18%); opacity: 0.80\" title=\"0.000\">r</span><span style=\"background-color: hsl(0, 100.00%, 93.64%); opacity: 0.81\" title=\"-0.003\"> </span><span style=\"background-color: hsl(0, 100.00%, 90.91%); opacity: 0.82\" title=\"-0.005\">c</span><span style=\"background-color: hsl(0, 100.00%, 90.32%); opacity: 0.83\" title=\"-0.005\">r</span><span style=\"background-color: hsl(120, 100.00%, 95.92%); opacity: 0.81\" title=\"0.001\">u</span><span style=\"background-color: hsl(120, 100.00%, 98.39%); opacity: 0.80\" title=\"0.000\">s</span><span style=\"background-color: hsl(120, 100.00%, 92.98%); opacity: 0.82\" title=\"0.003\">t</span><span style=\"background-color: hsl(120, 100.00%, 92.14%); opacity: 0.82\" title=\"0.004\"> </span><span style=\"background-color: hsl(120, 100.00%, 91.52%); opacity: 0.82\" title=\"0.004\">d</span><span style=\"background-color: hsl(120, 100.00%, 89.35%); opacity: 0.83\" title=\"0.006\">e</span><span style=\"background-color: hsl(120, 100.00%, 92.42%); opacity: 0.82\" title=\"0.004\">p</span><span style=\"background-color: hsl(120, 100.00%, 90.53%); opacity: 0.83\" title=\"0.005\">i</span><span style=\"background-color: hsl(120, 100.00%, 91.75%); opacity: 0.82\" title=\"0.004\">c</span><span style=\"background-color: hsl(0, 100.00%, 99.55%); opacity: 0.80\" title=\"-0.000\">t</span><span style=\"background-color: hsl(0, 100.00%, 92.73%); opacity: 0.82\" title=\"-0.003\">e</span><span style=\"background-color: hsl(0, 100.00%, 89.68%); opacity: 0.83\" title=\"-0.006\">d</span><span style=\"background-color: hsl(0, 100.00%, 94.30%); opacity: 0.81\" title=\"-0.002\"> </span><span style=\"background-color: hsl(120, 100.00%, 90.97%); opacity: 0.82\" title=\"0.005\">o</span><span style=\"background-color: hsl(120, 100.00%, 78.76%); opacity: 0.88\" title=\"0.015\">f</span><span style=\"background-color: hsl(120, 100.00%, 78.86%); opacity: 0.88\" title=\"0.015\">t</span><span style=\"background-color: hsl(120, 100.00%, 81.34%); opacity: 0.87\" title=\"0.013\">e</span><span style=\"background-color: hsl(120, 100.00%, 84.49%); opacity: 0.85\" title=\"0.010\">n</span><span style=\"background-color: hsl(120, 100.00%, 96.33%); opacity: 0.81\" title=\"0.001\"> </span><span style=\"background-color: hsl(0, 100.00%, 89.95%); opacity: 0.83\" title=\"-0.005\">f</span><span style=\"background-color: hsl(0, 100.00%, 89.36%); opacity: 0.83\" title=\"-0.006\">a</span><span style=\"background-color: hsl(0, 100.00%, 85.53%); opacity: 0.85\" title=\"-0.009\">r</span><span style=\"background-color: hsl(0, 100.00%, 82.08%); opacity: 0.86\" title=\"-0.012\"> </span><span style=\"background-color: hsl(0, 100.00%, 81.07%); opacity: 0.87\" title=\"-0.013\">b</span><span style=\"background-color: hsl(0, 100.00%, 80.25%); opacity: 0.87\" title=\"-0.014\">a</span><span style=\"background-color: hsl(120, 100.00%, 97.55%); opacity: 0.80\" title=\"0.001\">r</span><span style=\"background-color: hsl(0, 100.00%, 91.10%); opacity: 0.82\" title=\"-0.004\">b</span><span style=\"background-color: hsl(0, 100.00%, 90.69%); opacity: 0.82\" title=\"-0.005\">a</span><span style=\"background-color: hsl(120, 100.00%, 94.21%); opacity: 0.81\" title=\"0.002\">r</span><span style=\"background-color: hsl(120, 100.00%, 90.29%); opacity: 0.83\" title=\"0.005\">i</span><span style=\"background-color: hsl(120, 100.00%, 92.59%); opacity: 0.82\" title=\"0.003\">c</span><span style=\"background-color: hsl(120, 100.00%, 92.86%); opacity: 0.82\" title=\"0.003\"> </span><span style=\"background-color: hsl(0, 100.00%, 97.32%); opacity: 0.80\" title=\"-0.001\">j</span><span style=\"background-color: hsl(0, 100.00%, 92.72%); opacity: 0.82\" title=\"-0.003\">u</span><span style=\"background-color: hsl(0, 100.00%, 89.73%); opacity: 0.83\" title=\"-0.005\">n</span><span style=\"background-color: hsl(120, 100.00%, 98.98%); opacity: 0.80\" title=\"0.000\">g</span><span style=\"background-color: hsl(0, 100.00%, 91.64%); opacity: 0.82\" title=\"-0.004\">l</span><span style=\"background-color: hsl(0, 100.00%, 88.29%); opacity: 0.83\" title=\"-0.007\">e</span><span style=\"background-color: hsl(0, 100.00%, 93.89%); opacity: 0.81\" title=\"-0.003\"> </span><span style=\"background-color: hsl(0, 100.00%, 95.71%); opacity: 0.81\" title=\"-0.002\">t</span><span style=\"background-color: hsl(120, 100.00%, 98.25%); opacity: 0.80\" title=\"0.000\">a</span><span style=\"background-color: hsl(120, 100.00%, 99.09%); opacity: 0.80\" title=\"0.000\">r</span><span style=\"background-color: hsl(120, 100.00%, 96.90%); opacity: 0.81\" title=\"0.001\">z</span><span style=\"background-color: hsl(120, 100.00%, 94.31%); opacity: 0.81\" title=\"0.002\">a</span><span style=\"background-color: hsl(0, 100.00%, 97.35%); opacity: 0.80\" title=\"-0.001\">n</span><span style=\"background-color: hsl(0, 100.00%, 86.79%); opacity: 0.84\" title=\"-0.008\"> </span><span style=\"background-color: hsl(0, 100.00%, 79.78%); opacity: 0.88\" title=\"-0.014\">l</span><span style=\"background-color: hsl(0, 100.00%, 78.50%); opacity: 0.88\" title=\"-0.016\">e</span><span style=\"background-color: hsl(0, 100.00%, 82.88%); opacity: 0.86\" title=\"-0.011\">f</span><span style=\"background-color: hsl(0, 100.00%, 85.93%); opacity: 0.84\" title=\"-0.009\">t</span><span style=\"background-color: hsl(0, 100.00%, 87.90%); opacity: 0.84\" title=\"-0.007\"> </span><span style=\"background-color: hsl(0, 100.00%, 86.41%); opacity: 0.84\" title=\"-0.008\">c</span><span style=\"background-color: hsl(0, 100.00%, 79.43%); opacity: 0.88\" title=\"-0.015\">h</span><span style=\"background-color: hsl(0, 100.00%, 78.77%); opacity: 0.88\" title=\"-0.015\">r</span><span style=\"background-color: hsl(0, 100.00%, 82.49%); opacity: 0.86\" title=\"-0.012\">i</span><span style=\"background-color: hsl(0, 100.00%, 84.74%); opacity: 0.85\" title=\"-0.010\">s</span><span style=\"background-color: hsl(0, 100.00%, 94.68%); opacity: 0.81\" title=\"-0.002\">t</span><span style=\"background-color: hsl(120, 100.00%, 92.23%); opacity: 0.82\" title=\"0.004\">o</span><span style=\"background-color: hsl(120, 100.00%, 88.92%); opacity: 0.83\" title=\"0.006\">p</span><span style=\"background-color: hsl(120, 100.00%, 91.98%); opacity: 0.82\" title=\"0.004\">h</span><span style=\"background-color: hsl(120, 100.00%, 90.57%); opacity: 0.83\" title=\"0.005\">e</span><span style=\"background-color: hsl(120, 100.00%, 98.32%); opacity: 0.80\" title=\"0.000\">r</span><span style=\"background-color: hsl(0, 100.00%, 86.58%); opacity: 0.84\" title=\"-0.008\"> </span><span style=\"background-color: hsl(0, 100.00%, 84.03%); opacity: 0.85\" title=\"-0.010\">l</span><span style=\"background-color: hsl(0, 100.00%, 84.28%); opacity: 0.85\" title=\"-0.010\">a</span><span style=\"background-color: hsl(0, 100.00%, 87.68%); opacity: 0.84\" title=\"-0.007\">m</span><span style=\"background-color: hsl(120, 100.00%, 95.96%); opacity: 0.81\" title=\"0.001\">b</span><span style=\"background-color: hsl(120, 100.00%, 91.26%); opacity: 0.82\" title=\"0.004\">e</span><span style=\"background-color: hsl(120, 100.00%, 91.96%); opacity: 0.82\" title=\"0.004\">r</span><span style=\"background-color: hsl(120, 100.00%, 98.31%); opacity: 0.80\" title=\"0.000\">t</span><span style=\"background-color: hsl(120, 100.00%, 90.31%); opacity: 0.83\" title=\"0.005\"> </span><span style=\"background-color: hsl(120, 100.00%, 81.16%); opacity: 0.87\" title=\"0.013\">f</span><span style=\"background-color: hsl(120, 100.00%, 77.47%); opacity: 0.89\" title=\"0.017\">a</span><span style=\"background-color: hsl(120, 100.00%, 70.40%); opacity: 0.93\" title=\"0.025\">n</span><span style=\"background-color: hsl(120, 100.00%, 67.01%); opacity: 0.95\" title=\"0.029\">t</span><span style=\"background-color: hsl(120, 100.00%, 70.19%); opacity: 0.93\" title=\"0.025\">a</span><span style=\"background-color: hsl(120, 100.00%, 75.00%); opacity: 0.90\" title=\"0.020\">s</span><span style=\"background-color: hsl(120, 100.00%, 77.10%); opacity: 0.89\" title=\"0.017\">t</span><span style=\"background-color: hsl(120, 100.00%, 80.24%); opacity: 0.87\" title=\"0.014\">i</span><span style=\"background-color: hsl(120, 100.00%, 86.12%); opacity: 0.84\" title=\"0.008\">c</span><span style=\"background-color: hsl(120, 100.00%, 90.84%); opacity: 0.82\" title=\"0.005\"> </span><span style=\"background-color: hsl(120, 100.00%, 91.78%); opacity: 0.82\" title=\"0.004\">s</span><span style=\"background-color: hsl(120, 100.00%, 88.25%); opacity: 0.83\" title=\"0.007\">y</span><span style=\"background-color: hsl(120, 100.00%, 88.71%); opacity: 0.83\" title=\"0.006\">m</span><span style=\"background-color: hsl(0, 100.00%, 91.79%); opacity: 0.82\" title=\"-0.004\">p</span><span style=\"background-color: hsl(0, 100.00%, 88.42%); opacity: 0.83\" title=\"-0.006\">a</span><span style=\"background-color: hsl(0, 100.00%, 80.97%); opacity: 0.87\" title=\"-0.013\">t</span><span style=\"background-color: hsl(0, 100.00%, 75.28%); opacity: 0.90\" title=\"-0.019\">h</span><span style=\"background-color: hsl(0, 100.00%, 74.26%); opacity: 0.91\" title=\"-0.020\">e</span><span style=\"background-color: hsl(0, 100.00%, 76.17%); opacity: 0.90\" title=\"-0.018\">t</span><span style=\"background-color: hsl(0, 100.00%, 84.38%); opacity: 0.85\" title=\"-0.010\">i</span><span style=\"background-color: hsl(0, 100.00%, 89.52%); opacity: 0.83\" title=\"-0.006\">c</span><span style=\"background-color: hsl(0, 100.00%, 92.86%); opacity: 0.82\" title=\"-0.003\"> </span><span style=\"background-color: hsl(120, 100.00%, 99.00%); opacity: 0.80\" title=\"0.000\">p</span><span style=\"background-color: hsl(120, 100.00%, 91.28%); opacity: 0.82\" title=\"0.004\">o</span><span style=\"background-color: hsl(120, 100.00%, 78.95%); opacity: 0.88\" title=\"0.015\">r</span><span style=\"background-color: hsl(120, 100.00%, 73.21%); opacity: 0.91\" title=\"0.022\">t</span><span style=\"background-color: hsl(120, 100.00%, 75.43%); opacity: 0.90\" title=\"0.019\">r</span><span style=\"background-color: hsl(120, 100.00%, 80.85%); opacity: 0.87\" title=\"0.013\">a</span><span style=\"background-color: hsl(120, 100.00%, 78.10%); opacity: 0.88\" title=\"0.016\">y</span><span style=\"background-color: hsl(120, 100.00%, 77.05%); opacity: 0.89\" title=\"0.017\">a</span><span style=\"background-color: hsl(120, 100.00%, 82.44%); opacity: 0.86\" title=\"0.012\">l</span><span style=\"background-color: hsl(120, 100.00%, 88.53%); opacity: 0.83\" title=\"0.006\"> </span><span style=\"background-color: hsl(120, 100.00%, 91.22%); opacity: 0.82\" title=\"0.004\">t</span><span style=\"background-color: hsl(120, 100.00%, 95.48%); opacity: 0.81\" title=\"0.002\">a</span><span style=\"background-color: hsl(120, 100.00%, 99.09%); opacity: 0.80\" title=\"0.000\">r</span><span style=\"background-color: hsl(120, 100.00%, 96.90%); opacity: 0.81\" title=\"0.001\">z</span><span style=\"background-color: hsl(120, 100.00%, 94.83%); opacity: 0.81\" title=\"0.002\">a</span><span style=\"background-color: hsl(120, 100.00%, 93.94%); opacity: 0.81\" title=\"0.003\">n</span><span style=\"background-color: hsl(120, 100.00%, 93.03%); opacity: 0.82\" title=\"0.003\"> </span><span style=\"background-color: hsl(120, 100.00%, 98.22%); opacity: 0.80\" title=\"0.000\">j</span><span style=\"background-color: hsl(0, 100.00%, 92.72%); opacity: 0.82\" title=\"-0.003\">u</span><span style=\"background-color: hsl(0, 100.00%, 89.73%); opacity: 0.83\" title=\"-0.005\">n</span><span style=\"background-color: hsl(120, 100.00%, 98.98%); opacity: 0.80\" title=\"0.000\">g</span><span style=\"background-color: hsl(0, 100.00%, 92.15%); opacity: 0.82\" title=\"-0.004\">l</span><span style=\"background-color: hsl(0, 100.00%, 92.54%); opacity: 0.82\" title=\"-0.003\">e</span><span style=\"background-color: hsl(0, 100.00%, 98.32%); opacity: 0.80\" title=\"-0.000\"> </span><span style=\"background-color: hsl(120, 100.00%, 94.54%); opacity: 0.81\" title=\"0.002\">c</span><span style=\"background-color: hsl(120, 100.00%, 93.18%); opacity: 0.82\" title=\"0.003\">i</span><span style=\"background-color: hsl(0, 100.00%, 99.08%); opacity: 0.80\" title=\"-0.000\">v</span><span style=\"background-color: hsl(0, 100.00%, 97.51%); opacity: 0.80\" title=\"-0.001\">i</span><span style=\"background-color: hsl(120, 100.00%, 94.50%); opacity: 0.81\" title=\"0.002\">l</span><span style=\"background-color: hsl(120, 100.00%, 93.41%); opacity: 0.82\" title=\"0.003\">i</span><span style=\"background-color: hsl(120, 100.00%, 99.00%); opacity: 0.80\" title=\"0.000\">z</span><span style=\"background-color: hsl(0, 100.00%, 97.64%); opacity: 0.80\" title=\"-0.001\">e</span><span style=\"background-color: hsl(0, 100.00%, 97.15%); opacity: 0.80\" title=\"-0.001\">d</span><span style=\"background-color: hsl(120, 100.00%, 96.35%); opacity: 0.81\" title=\"0.001\"> </span><span style=\"background-color: hsl(120, 100.00%, 89.93%); opacity: 0.83\" title=\"0.005\">e</span><span style=\"background-color: hsl(120, 100.00%, 95.21%); opacity: 0.81\" title=\"0.002\">n</span><span style=\"background-color: hsl(0, 100.00%, 94.51%); opacity: 0.81\" title=\"-0.002\">v</span><span style=\"background-color: hsl(120, 100.00%, 98.98%); opacity: 0.80\" title=\"0.000\">i</span><span style=\"background-color: hsl(120, 100.00%, 98.26%); opacity: 0.80\" title=\"0.000\">r</span><span style=\"background-color: hsl(120, 100.00%, 97.99%); opacity: 0.80\" title=\"0.001\">o</span><span style=\"background-color: hsl(0, 100.00%, 97.40%); opacity: 0.80\" title=\"-0.001\">n</span><span style=\"background-color: hsl(0, 100.00%, 96.05%); opacity: 0.81\" title=\"-0.001\">m</span><span style=\"background-color: hsl(120, 100.00%, 94.56%); opacity: 0.81\" title=\"0.002\">e</span><span style=\"background-color: hsl(120, 100.00%, 92.34%); opacity: 0.82\" title=\"0.004\">n</span><span style=\"background-color: hsl(120, 100.00%, 97.41%); opacity: 0.80\" title=\"0.001\">t</span><span style=\"background-color: hsl(120, 100.00%, 92.92%); opacity: 0.82\" title=\"0.003\">s</span><span style=\"background-color: hsl(120, 100.00%, 94.58%); opacity: 0.81\" title=\"0.002\"> </span><span style=\"background-color: hsl(0, 100.00%, 99.63%); opacity: 0.80\" title=\"-0.000\">c</span><span style=\"background-color: hsl(120, 100.00%, 98.60%); opacity: 0.80\" title=\"0.000\">o</span><span style=\"background-color: hsl(0, 100.00%, 95.84%); opacity: 0.81\" title=\"-0.002\">n</span><span style=\"background-color: hsl(120, 100.00%, 96.60%); opacity: 0.81\" title=\"0.001\">v</span><span style=\"background-color: hsl(120, 100.00%, 92.26%); opacity: 0.82\" title=\"0.004\">e</span><span style=\"background-color: hsl(120, 100.00%, 85.82%); opacity: 0.85\" title=\"0.009\">y</span><span style=\"background-color: hsl(120, 100.00%, 82.23%); opacity: 0.86\" title=\"0.012\">s</span><span style=\"background-color: hsl(120, 100.00%, 86.89%); opacity: 0.84\" title=\"0.008\"> </span><span style=\"background-color: hsl(120, 100.00%, 91.84%); opacity: 0.82\" title=\"0.004\">r</span><span style=\"background-color: hsl(120, 100.00%, 92.34%); opacity: 0.82\" title=\"0.004\">e</span><span style=\"background-color: hsl(120, 100.00%, 91.19%); opacity: 0.82\" title=\"0.004\">a</span><span style=\"background-color: hsl(120, 100.00%, 97.23%); opacity: 0.80\" title=\"0.001\">l</span><span style=\"background-color: hsl(0, 100.00%, 94.77%); opacity: 0.81\" title=\"-0.002\"> </span><span style=\"background-color: hsl(0, 100.00%, 91.74%); opacity: 0.82\" title=\"-0.004\">s</span><span style=\"background-color: hsl(0, 100.00%, 98.99%); opacity: 0.80\" title=\"-0.000\">e</span><span style=\"background-color: hsl(0, 100.00%, 97.83%); opacity: 0.80\" title=\"-0.001\">n</span><span style=\"background-color: hsl(0, 100.00%, 92.52%); opacity: 0.82\" title=\"-0.003\">s</span><span style=\"background-color: hsl(0, 100.00%, 93.85%); opacity: 0.81\" title=\"-0.003\">e</span><span style=\"background-color: hsl(0, 100.00%, 94.32%); opacity: 0.81\" title=\"-0.002\"> </span><span style=\"background-color: hsl(0, 100.00%, 94.43%); opacity: 0.81\" title=\"-0.002\">c</span><span style=\"background-color: hsl(0, 100.00%, 88.33%); opacity: 0.83\" title=\"-0.007\">o</span><span style=\"background-color: hsl(0, 100.00%, 75.31%); opacity: 0.90\" title=\"-0.019\">n</span><span style=\"background-color: hsl(0, 100.00%, 76.42%); opacity: 0.89\" title=\"-0.018\">f</span><span style=\"background-color: hsl(0, 100.00%, 79.21%); opacity: 0.88\" title=\"-0.015\">u</span><span style=\"background-color: hsl(0, 100.00%, 89.24%); opacity: 0.83\" title=\"-0.006\">s</span><span style=\"background-color: hsl(120, 100.00%, 98.36%); opacity: 0.80\" title=\"0.000\">i</span><span style=\"background-color: hsl(120, 100.00%, 97.28%); opacity: 0.80\" title=\"0.001\">o</span><span style=\"background-color: hsl(0, 100.00%, 98.37%); opacity: 0.80\" title=\"-0.000\">n</span><span style=\"background-color: hsl(0, 100.00%, 94.48%); opacity: 0.81\" title=\"-0.002\"> </span><span style=\"background-color: hsl(0, 100.00%, 93.70%); opacity: 0.81\" title=\"-0.003\">c</span><span style=\"background-color: hsl(0, 100.00%, 95.43%); opacity: 0.81\" title=\"-0.002\">o</span><span style=\"background-color: hsl(0, 100.00%, 92.51%); opacity: 0.82\" title=\"-0.003\">n</span><span style=\"background-color: hsl(0, 100.00%, 93.34%); opacity: 0.82\" title=\"-0.003\">f</span><span style=\"background-color: hsl(120, 100.00%, 96.08%); opacity: 0.81\" title=\"0.001\">l</span><span style=\"background-color: hsl(120, 100.00%, 96.96%); opacity: 0.81\" title=\"0.001\">i</span><span style=\"background-color: hsl(120, 100.00%, 95.97%); opacity: 0.81\" title=\"0.001\">c</span><span style=\"background-color: hsl(120, 100.00%, 91.34%); opacity: 0.82\" title=\"0.004\">t</span><span style=\"background-color: hsl(120, 100.00%, 86.79%); opacity: 0.84\" title=\"0.008\"> </span><span style=\"background-color: hsl(120, 100.00%, 87.18%); opacity: 0.84\" title=\"0.008\">t</span><span style=\"background-color: hsl(120, 100.00%, 94.81%); opacity: 0.81\" title=\"0.002\">o</span><span style=\"background-color: hsl(0, 100.00%, 96.12%); opacity: 0.81\" title=\"-0.001\">r</span><span style=\"background-color: hsl(120, 100.00%, 94.41%); opacity: 0.81\" title=\"0.002\">n</span><span style=\"background-color: hsl(120, 100.00%, 92.00%); opacity: 0.82\" title=\"0.004\"> </span><span style=\"background-color: hsl(120, 100.00%, 87.39%); opacity: 0.84\" title=\"0.007\">t</span><span style=\"background-color: hsl(120, 100.00%, 92.40%); opacity: 0.82\" title=\"0.004\">w</span><span style=\"background-color: hsl(120, 100.00%, 91.40%); opacity: 0.82\" title=\"0.004\">o</span><span style=\"background-color: hsl(120, 100.00%, 88.96%); opacity: 0.83\" title=\"0.006\"> </span><span style=\"background-color: hsl(120, 100.00%, 88.65%); opacity: 0.83\" title=\"0.006\">d</span><span style=\"background-color: hsl(120, 100.00%, 80.11%); opacity: 0.87\" title=\"0.014\">i</span><span style=\"background-color: hsl(120, 100.00%, 76.79%); opacity: 0.89\" title=\"0.018\">f</span><span style=\"background-color: hsl(120, 100.00%, 78.89%); opacity: 0.88\" title=\"0.015\">f</span><span style=\"background-color: hsl(120, 100.00%, 82.36%); opacity: 0.86\" title=\"0.012\">e</span><span style=\"background-color: hsl(120, 100.00%, 91.68%); opacity: 0.82\" title=\"0.004\">r</span><span style=\"background-color: hsl(120, 100.00%, 92.83%); opacity: 0.82\" title=\"0.003\">e</span><span style=\"background-color: hsl(0, 100.00%, 92.62%); opacity: 0.82\" title=\"-0.003\">n</span><span style=\"background-color: hsl(0, 100.00%, 83.83%); opacity: 0.85\" title=\"-0.010\">t</span><span style=\"background-color: hsl(0, 100.00%, 84.36%); opacity: 0.85\" title=\"-0.010\"> </span><span style=\"background-color: hsl(0, 100.00%, 89.48%); opacity: 0.83\" title=\"-0.006\">w</span><span style=\"background-color: hsl(0, 100.00%, 99.78%); opacity: 0.80\" title=\"-0.000\">o</span><span style=\"background-color: hsl(120, 100.00%, 82.19%); opacity: 0.86\" title=\"0.012\">r</span><span style=\"background-color: hsl(120, 100.00%, 71.49%); opacity: 0.92\" title=\"0.024\">l</span><span style=\"background-color: hsl(120, 100.00%, 75.69%); opacity: 0.90\" title=\"0.019\">d</span><span style=\"background-color: hsl(120, 100.00%, 87.08%); opacity: 0.84\" title=\"0.008\">s</span><span style=\"background-color: hsl(0, 100.00%, 93.09%); opacity: 0.82\" title=\"-0.003\"> </span><span style=\"background-color: hsl(0, 100.00%, 80.75%); opacity: 0.87\" title=\"-0.013\">o</span><span style=\"background-color: hsl(0, 100.00%, 81.46%); opacity: 0.87\" title=\"-0.013\">r</span><span style=\"background-color: hsl(0, 100.00%, 82.55%); opacity: 0.86\" title=\"-0.012\">i</span><span style=\"background-color: hsl(0, 100.00%, 78.35%); opacity: 0.88\" title=\"-0.016\">g</span><span style=\"background-color: hsl(0, 100.00%, 78.85%); opacity: 0.88\" title=\"-0.015\">i</span><span style=\"background-color: hsl(0, 100.00%, 84.78%); opacity: 0.85\" title=\"-0.010\">n</span><span style=\"background-color: hsl(0, 100.00%, 88.81%); opacity: 0.83\" title=\"-0.006\">a</span><span style=\"background-color: hsl(0, 100.00%, 91.85%); opacity: 0.82\" title=\"-0.004\">l</span><span style=\"background-color: hsl(0, 100.00%, 91.90%); opacity: 0.82\" title=\"-0.004\"> </span><span style=\"background-color: hsl(0, 100.00%, 86.91%); opacity: 0.84\" title=\"-0.008\">a</span><span style=\"background-color: hsl(0, 100.00%, 92.02%); opacity: 0.82\" title=\"-0.004\">p</span><span style=\"background-color: hsl(120, 100.00%, 97.55%); opacity: 0.80\" title=\"0.001\">e</span><span style=\"background-color: hsl(120, 100.00%, 88.15%); opacity: 0.84\" title=\"0.007\"> </span><span style=\"background-color: hsl(120, 100.00%, 83.44%); opacity: 0.86\" title=\"0.011\">f</span><span style=\"background-color: hsl(120, 100.00%, 83.69%); opacity: 0.86\" title=\"0.011\">a</span><span style=\"background-color: hsl(120, 100.00%, 82.77%); opacity: 0.86\" title=\"0.011\">m</span><span style=\"background-color: hsl(120, 100.00%, 83.37%); opacity: 0.86\" title=\"0.011\">i</span><span style=\"background-color: hsl(120, 100.00%, 87.95%); opacity: 0.84\" title=\"0.007\">l</span><span style=\"background-color: hsl(120, 100.00%, 93.39%); opacity: 0.82\" title=\"0.003\">y</span><span style=\"background-color: hsl(120, 100.00%, 98.45%); opacity: 0.80\" title=\"0.000\"> </span><span style=\"background-color: hsl(120, 100.00%, 99.44%); opacity: 0.80\" title=\"0.000\">n</span><span style=\"background-color: hsl(120, 100.00%, 89.98%); opacity: 0.83\" title=\"0.005\">e</span><span style=\"background-color: hsl(120, 100.00%, 89.98%); opacity: 0.83\" title=\"0.005\">w</span><span style=\"background-color: hsl(120, 100.00%, 84.94%); opacity: 0.85\" title=\"0.009\"> </span><span style=\"background-color: hsl(120, 100.00%, 80.77%); opacity: 0.87\" title=\"0.013\">h</span><span style=\"background-color: hsl(120, 100.00%, 78.41%); opacity: 0.88\" title=\"0.016\">u</span><span style=\"background-color: hsl(120, 100.00%, 75.83%); opacity: 0.90\" title=\"0.019\">m</span><span style=\"background-color: hsl(120, 100.00%, 78.90%); opacity: 0.88\" title=\"0.015\">a</span><span style=\"background-color: hsl(120, 100.00%, 83.37%); opacity: 0.86\" title=\"0.011\">n</span><span style=\"background-color: hsl(120, 100.00%, 93.55%); opacity: 0.81\" title=\"0.003\"> </span><span style=\"background-color: hsl(0, 100.00%, 95.69%); opacity: 0.81\" title=\"-0.002\">o</span><span style=\"background-color: hsl(0, 100.00%, 99.89%); opacity: 0.80\" title=\"-0.000\">n</span><span style=\"background-color: hsl(0, 100.00%, 98.34%); opacity: 0.80\" title=\"-0.000\">e</span><span style=\"background-color: hsl(0, 100.00%, 95.68%); opacity: 0.81\" title=\"-0.002\"> </span><span style=\"background-color: hsl(120, 100.00%, 99.29%); opacity: 0.80\" title=\"0.000\">s</span><span style=\"background-color: hsl(120, 100.00%, 89.18%); opacity: 0.83\" title=\"0.006\">i</span><span style=\"background-color: hsl(120, 100.00%, 92.68%); opacity: 0.82\" title=\"0.003\">r</span><span style=\"background-color: hsl(120, 100.00%, 95.59%); opacity: 0.81\" title=\"0.002\"> </span><span style=\"background-color: hsl(120, 100.00%, 92.75%); opacity: 0.82\" title=\"0.003\">r</span><span style=\"background-color: hsl(120, 100.00%, 92.78%); opacity: 0.82\" title=\"0.003\">a</span><span style=\"background-color: hsl(120, 100.00%, 88.58%); opacity: 0.83\" title=\"0.006\">l</span><span style=\"background-color: hsl(120, 100.00%, 87.37%); opacity: 0.84\" title=\"0.007\">p</span><span style=\"background-color: hsl(120, 100.00%, 98.98%); opacity: 0.80\" title=\"0.000\">h</span><span style=\"background-color: hsl(120, 100.00%, 92.97%); opacity: 0.82\" title=\"0.003\"> </span><span style=\"background-color: hsl(120, 100.00%, 91.78%); opacity: 0.82\" title=\"0.004\">r</span><span style=\"background-color: hsl(120, 100.00%, 88.63%); opacity: 0.83\" title=\"0.006\">i</span><span style=\"background-color: hsl(120, 100.00%, 90.69%); opacity: 0.82\" title=\"0.005\">c</span><span style=\"background-color: hsl(120, 100.00%, 93.71%); opacity: 0.81\" title=\"0.003\">h</span><span style=\"background-color: hsl(120, 100.00%, 93.71%); opacity: 0.81\" title=\"0.003\">a</span><span style=\"background-color: hsl(120, 100.00%, 97.24%); opacity: 0.80\" title=\"0.001\">r</span><span style=\"background-color: hsl(120, 100.00%, 97.96%); opacity: 0.80\" title=\"0.001\">d</span><span style=\"background-color: hsl(120, 100.00%, 93.51%); opacity: 0.81\" title=\"0.003\">s</span><span style=\"background-color: hsl(120, 100.00%, 94.63%); opacity: 0.81\" title=\"0.002\">o</span><span style=\"background-color: hsl(120, 100.00%, 94.48%); opacity: 0.81\" title=\"0.002\">n</span><span style=\"background-color: hsl(120, 100.00%, 97.75%); opacity: 0.80\" title=\"0.001\"> </span><span style=\"background-color: hsl(0, 100.00%, 98.54%); opacity: 0.80\" title=\"-0.000\">o</span><span style=\"background-color: hsl(0, 100.00%, 98.51%); opacity: 0.80\" title=\"-0.000\">n</span><span style=\"background-color: hsl(0, 100.00%, 94.59%); opacity: 0.81\" title=\"-0.002\">e</span><span style=\"background-color: hsl(0, 100.00%, 91.30%); opacity: 0.82\" title=\"-0.004\"> </span><span style=\"background-color: hsl(0, 100.00%, 90.39%); opacity: 0.83\" title=\"-0.005\">o</span><span style=\"background-color: hsl(0, 100.00%, 96.49%); opacity: 0.81\" title=\"-0.001\">l</span><span style=\"background-color: hsl(0, 100.00%, 89.72%); opacity: 0.83\" title=\"-0.005\">d</span><span style=\"background-color: hsl(0, 100.00%, 92.29%); opacity: 0.82\" title=\"-0.004\"> </span><span style=\"background-color: hsl(120, 100.00%, 90.70%); opacity: 0.82\" title=\"0.005\">b</span><span style=\"background-color: hsl(120, 100.00%, 86.64%); opacity: 0.84\" title=\"0.008\">r</span><span style=\"background-color: hsl(120, 100.00%, 93.49%); opacity: 0.81\" title=\"0.003\">i</span><span style=\"background-color: hsl(120, 100.00%, 96.79%); opacity: 0.81\" title=\"0.001\">t</span><span style=\"background-color: hsl(0, 100.00%, 97.51%); opacity: 0.80\" title=\"-0.001\">i</span><span style=\"background-color: hsl(0, 100.00%, 90.71%); opacity: 0.82\" title=\"-0.005\">s</span><span style=\"background-color: hsl(0, 100.00%, 91.37%); opacity: 0.82\" title=\"-0.004\">h</span><span style=\"background-color: hsl(0, 100.00%, 89.28%); opacity: 0.83\" title=\"-0.006\"> </span><span style=\"background-color: hsl(0, 100.00%, 87.02%); opacity: 0.84\" title=\"-0.008\">l</span><span style=\"background-color: hsl(0, 100.00%, 83.22%); opacity: 0.86\" title=\"-0.011\">e</span><span style=\"background-color: hsl(0, 100.00%, 90.49%); opacity: 0.83\" title=\"-0.005\">g</span><span style=\"background-color: hsl(120, 100.00%, 96.05%); opacity: 0.81\" title=\"0.001\">e</span><span style=\"background-color: hsl(120, 100.00%, 87.71%); opacity: 0.84\" title=\"0.007\">n</span><span style=\"background-color: hsl(120, 100.00%, 87.94%); opacity: 0.84\" title=\"0.007\">d</span><span style=\"background-color: hsl(120, 100.00%, 86.67%); opacity: 0.84\" title=\"0.008\">s</span><span style=\"background-color: hsl(120, 100.00%, 84.03%); opacity: 0.85\" title=\"0.010\"> </span><span style=\"background-color: hsl(120, 100.00%, 73.91%); opacity: 0.91\" title=\"0.021\">b</span><span style=\"background-color: hsl(120, 100.00%, 64.62%); opacity: 0.97\" title=\"0.032\">r</span><span style=\"background-color: hsl(120, 100.00%, 66.12%); opacity: 0.96\" title=\"0.030\">i</span><span style=\"background-color: hsl(120, 100.00%, 60.54%); opacity: 1.00\" title=\"0.037\">l</span><span style=\"background-color: hsl(120, 100.00%, 60.00%); opacity: 1.00\" title=\"0.038\">l</span><span style=\"background-color: hsl(120, 100.00%, 65.15%); opacity: 0.96\" title=\"0.031\">i</span><span style=\"background-color: hsl(120, 100.00%, 71.53%); opacity: 0.92\" title=\"0.023\">a</span><span style=\"background-color: hsl(120, 100.00%, 81.20%); opacity: 0.87\" title=\"0.013\">n</span><span style=\"background-color: hsl(120, 100.00%, 89.46%); opacity: 0.83\" title=\"0.006\">t</span><span style=\"background-color: hsl(120, 100.00%, 94.87%); opacity: 0.81\" title=\"0.002\"> </span><span style=\"background-color: hsl(120, 100.00%, 90.30%); opacity: 0.83\" title=\"0.005\">a</span><span style=\"background-color: hsl(120, 100.00%, 80.22%); opacity: 0.87\" title=\"0.014\">l</span><span style=\"background-color: hsl(120, 100.00%, 77.20%); opacity: 0.89\" title=\"0.017\">w</span><span style=\"background-color: hsl(120, 100.00%, 77.76%); opacity: 0.89\" title=\"0.016\">a</span><span style=\"background-color: hsl(120, 100.00%, 74.01%); opacity: 0.91\" title=\"0.021\">y</span><span style=\"background-color: hsl(120, 100.00%, 74.34%); opacity: 0.91\" title=\"0.020\">s</span><span style=\"background-color: hsl(120, 100.00%, 80.36%); opacity: 0.87\" title=\"0.014\"> </span><span style=\"background-color: hsl(120, 100.00%, 90.86%); opacity: 0.82\" title=\"0.005\">r</span><span style=\"background-color: hsl(120, 100.00%, 94.66%); opacity: 0.81\" title=\"0.002\">o</span><span style=\"background-color: hsl(0, 100.00%, 99.30%); opacity: 0.80\" title=\"-0.000\">l</span><span style=\"background-color: hsl(0, 100.00%, 91.65%); opacity: 0.82\" title=\"-0.004\">e</span><span style=\"background-color: hsl(0, 100.00%, 97.15%); opacity: 0.80\" title=\"-0.001\"> </span><span style=\"background-color: hsl(0, 100.00%, 94.90%); opacity: 0.81\" title=\"-0.002\">t</span><span style=\"background-color: hsl(120, 100.00%, 98.25%); opacity: 0.80\" title=\"0.000\">a</span><span style=\"background-color: hsl(120, 100.00%, 99.09%); opacity: 0.80\" title=\"0.000\">r</span><span style=\"background-color: hsl(120, 100.00%, 96.90%); opacity: 0.81\" title=\"0.001\">z</span><span style=\"background-color: hsl(120, 100.00%, 97.23%); opacity: 0.80\" title=\"0.001\">a</span><span style=\"background-color: hsl(0, 100.00%, 97.68%); opacity: 0.80\" title=\"-0.001\">n</span><span style=\"background-color: hsl(120, 100.00%, 96.02%); opacity: 0.81\" title=\"0.001\">s</span><span style=\"background-color: hsl(120, 100.00%, 88.92%); opacity: 0.83\" title=\"0.006\"> </span><span style=\"background-color: hsl(120, 100.00%, 87.17%); opacity: 0.84\" title=\"0.008\">g</span><span style=\"background-color: hsl(120, 100.00%, 89.63%); opacity: 0.83\" title=\"0.006\">r</span><span style=\"background-color: hsl(120, 100.00%, 96.54%); opacity: 0.81\" title=\"0.001\">a</span><span style=\"background-color: hsl(120, 100.00%, 89.57%); opacity: 0.83\" title=\"0.006\">n</span><span style=\"background-color: hsl(0, 100.00%, 93.28%); opacity: 0.82\" title=\"-0.003\">d</span><span style=\"background-color: hsl(0, 100.00%, 96.66%); opacity: 0.81\" title=\"-0.001\">f</span><span style=\"background-color: hsl(120, 100.00%, 87.62%); opacity: 0.84\" title=\"0.007\">a</span><span style=\"background-color: hsl(120, 100.00%, 90.24%); opacity: 0.83\" title=\"0.005\">t</span><span style=\"background-color: hsl(120, 100.00%, 94.20%); opacity: 0.81\" title=\"0.002\">h</span><span style=\"background-color: hsl(120, 100.00%, 96.61%); opacity: 0.81\" title=\"0.001\">e</span><span style=\"background-color: hsl(0, 100.00%, 97.13%); opacity: 0.80\" title=\"-0.001\">r</span><span style=\"background-color: hsl(0, 100.00%, 92.86%); opacity: 0.82\" title=\"-0.003\"> </span><span style=\"background-color: hsl(0, 100.00%, 95.75%); opacity: 0.81\" title=\"-0.002\">s</span><span style=\"background-color: hsl(120, 100.00%, 93.70%); opacity: 0.81\" title=\"0.003\">i</span><span style=\"background-color: hsl(120, 100.00%, 94.60%); opacity: 0.81\" title=\"0.002\">x</span><span style=\"background-color: hsl(120, 100.00%, 94.05%); opacity: 0.81\" title=\"0.003\">t</span><span style=\"background-color: hsl(120, 100.00%, 97.52%); opacity: 0.80\" title=\"0.001\">h</span><span style=\"background-color: hsl(120, 100.00%, 92.75%); opacity: 0.82\" title=\"0.003\"> </span><span style=\"background-color: hsl(120, 100.00%, 90.75%); opacity: 0.82\" title=\"0.005\">e</span><span style=\"background-color: hsl(120, 100.00%, 91.07%); opacity: 0.82\" title=\"0.004\">a</span><span style=\"background-color: hsl(120, 100.00%, 92.26%); opacity: 0.82\" title=\"0.004\">r</span><span style=\"background-color: hsl(120, 100.00%, 95.41%); opacity: 0.81\" title=\"0.002\">l</span><span style=\"background-color: hsl(120, 100.00%, 89.68%); opacity: 0.83\" title=\"0.006\"> </span><span style=\"background-color: hsl(120, 100.00%, 84.31%); opacity: 0.85\" title=\"0.010\">g</span><span style=\"background-color: hsl(120, 100.00%, 84.32%); opacity: 0.85\" title=\"0.010\">r</span><span style=\"background-color: hsl(120, 100.00%, 87.50%); opacity: 0.84\" title=\"0.007\">e</span><span style=\"background-color: hsl(120, 100.00%, 89.83%); opacity: 0.83\" title=\"0.005\">y</span><span style=\"background-color: hsl(120, 100.00%, 91.05%); opacity: 0.82\" title=\"0.004\">s</span><span style=\"background-color: hsl(120, 100.00%, 98.64%); opacity: 0.80\" title=\"0.000\">t</span><span style=\"background-color: hsl(0, 100.00%, 91.25%); opacity: 0.82\" title=\"-0.004\">o</span><span style=\"background-color: hsl(0, 100.00%, 88.69%); opacity: 0.83\" title=\"-0.006\">k</span><span style=\"background-color: hsl(0, 100.00%, 93.24%); opacity: 0.82\" title=\"-0.003\">e</span><span style=\"background-color: hsl(120, 100.00%, 94.59%); opacity: 0.81\" title=\"0.002\"> </span><span style=\"background-color: hsl(120, 100.00%, 87.92%); opacity: 0.84\" title=\"0.007\">f</span><span style=\"background-color: hsl(120, 100.00%, 90.47%); opacity: 0.83\" title=\"0.005\">i</span><span style=\"background-color: hsl(120, 100.00%, 94.70%); opacity: 0.81\" title=\"0.002\">l</span><span style=\"background-color: hsl(120, 100.00%, 96.37%); opacity: 0.81\" title=\"0.001\">m</span><span style=\"background-color: hsl(120, 100.00%, 92.24%); opacity: 0.82\" title=\"0.004\"> </span><span style=\"background-color: hsl(120, 100.00%, 91.35%); opacity: 0.82\" title=\"0.004\">f</span><span style=\"background-color: hsl(120, 100.00%, 88.31%); opacity: 0.83\" title=\"0.007\">o</span><span style=\"background-color: hsl(120, 100.00%, 90.63%); opacity: 0.83\" title=\"0.005\">c</span><span style=\"background-color: hsl(120, 100.00%, 93.35%); opacity: 0.82\" title=\"0.003\">u</span><span style=\"background-color: hsl(120, 100.00%, 94.95%); opacity: 0.81\" title=\"0.002\">s</span><span style=\"background-color: hsl(120, 100.00%, 92.43%); opacity: 0.82\" title=\"0.004\">e</span><span style=\"background-color: hsl(120, 100.00%, 85.06%); opacity: 0.85\" title=\"0.009\">s</span><span style=\"background-color: hsl(120, 100.00%, 87.38%); opacity: 0.84\" title=\"0.007\"> </span><span style=\"background-color: hsl(120, 100.00%, 93.97%); opacity: 0.81\" title=\"0.003\">t</span><span style=\"background-color: hsl(120, 100.00%, 97.95%); opacity: 0.80\" title=\"0.001\">a</span><span style=\"background-color: hsl(120, 100.00%, 99.09%); opacity: 0.80\" title=\"0.000\">r</span><span style=\"background-color: hsl(120, 100.00%, 96.90%); opacity: 0.81\" title=\"0.001\">z</span><span style=\"background-color: hsl(120, 100.00%, 97.92%); opacity: 0.80\" title=\"0.001\">a</span><span style=\"background-color: hsl(0, 100.00%, 95.97%); opacity: 0.81\" title=\"-0.001\">n</span><span style=\"background-color: hsl(0, 100.00%, 95.44%); opacity: 0.81\" title=\"-0.002\">s</span><span style=\"background-color: hsl(0, 100.00%, 94.27%); opacity: 0.81\" title=\"-0.002\"> </span><span style=\"background-color: hsl(0, 100.00%, 92.34%); opacity: 0.82\" title=\"-0.004\">s</span><span style=\"background-color: hsl(120, 100.00%, 93.03%); opacity: 0.82\" title=\"0.003\">t</span><span style=\"background-color: hsl(120, 100.00%, 89.44%); opacity: 0.83\" title=\"0.006\">r</span><span style=\"background-color: hsl(120, 100.00%, 93.42%); opacity: 0.82\" title=\"0.003\">u</span><span style=\"background-color: hsl(0, 100.00%, 92.20%); opacity: 0.82\" title=\"-0.004\">g</span><span style=\"background-color: hsl(0, 100.00%, 93.30%); opacity: 0.82\" title=\"-0.003\">g</span><span style=\"background-color: hsl(0, 100.00%, 92.60%); opacity: 0.82\" title=\"-0.003\">l</span><span style=\"background-color: hsl(0, 100.00%, 99.97%); opacity: 0.80\" title=\"-0.000\">e</span><span style=\"background-color: hsl(120, 100.00%, 92.09%); opacity: 0.82\" title=\"0.004\">s</span><span style=\"background-color: hsl(120, 100.00%, 90.30%); opacity: 0.83\" title=\"0.005\"> </span><span style=\"background-color: hsl(0, 100.00%, 94.92%); opacity: 0.81\" title=\"-0.002\">a</span><span style=\"background-color: hsl(0, 100.00%, 96.94%); opacity: 0.81\" title=\"-0.001\">d</span><span style=\"background-color: hsl(0, 100.00%, 96.99%); opacity: 0.80\" title=\"-0.001\">a</span><span style=\"background-color: hsl(0, 100.00%, 89.25%); opacity: 0.83\" title=\"-0.006\">p</span><span style=\"background-color: hsl(0, 100.00%, 92.92%); opacity: 0.82\" title=\"-0.003\">t</span><span style=\"background-color: hsl(0, 100.00%, 92.75%); opacity: 0.82\" title=\"-0.003\">i</span><span style=\"background-color: hsl(0, 100.00%, 89.68%); opacity: 0.83\" title=\"-0.006\">n</span><span style=\"background-color: hsl(0, 100.00%, 91.90%); opacity: 0.82\" title=\"-0.004\">g</span><span style=\"background-color: hsl(0, 100.00%, 94.31%); opacity: 0.81\" title=\"-0.002\"> </span><span style=\"background-color: hsl(120, 100.00%, 94.64%); opacity: 0.81\" title=\"0.002\">c</span><span style=\"background-color: hsl(120, 100.00%, 95.16%); opacity: 0.81\" title=\"0.002\">i</span><span style=\"background-color: hsl(0, 100.00%, 99.08%); opacity: 0.80\" title=\"-0.000\">v</span><span style=\"background-color: hsl(0, 100.00%, 97.51%); opacity: 0.80\" title=\"-0.001\">i</span><span style=\"background-color: hsl(120, 100.00%, 94.64%); opacity: 0.81\" title=\"0.002\">l</span><span style=\"background-color: hsl(0, 100.00%, 98.36%); opacity: 0.80\" title=\"-0.000\">i</span><span style=\"background-color: hsl(0, 100.00%, 96.93%); opacity: 0.81\" title=\"-0.001\">z</span><span style=\"background-color: hsl(0, 100.00%, 97.62%); opacity: 0.80\" title=\"-0.001\">a</span><span style=\"background-color: hsl(120, 100.00%, 92.27%); opacity: 0.82\" title=\"0.004\">t</span><span style=\"background-color: hsl(120, 100.00%, 90.56%); opacity: 0.83\" title=\"0.005\">i</span><span style=\"background-color: hsl(120, 100.00%, 90.67%); opacity: 0.82\" title=\"0.005\">o</span><span style=\"background-color: hsl(120, 100.00%, 92.62%); opacity: 0.82\" title=\"0.003\">n</span><span style=\"background-color: hsl(120, 100.00%, 92.07%); opacity: 0.82\" title=\"0.004\"> </span><span style=\"background-color: hsl(120, 100.00%, 92.76%); opacity: 0.82\" title=\"0.003\">i</span><span style=\"background-color: hsl(0, 100.00%, 94.78%); opacity: 0.81\" title=\"-0.002\">n</span><span style=\"background-color: hsl(0, 100.00%, 98.05%); opacity: 0.80\" title=\"-0.001\">n</span><span style=\"background-color: hsl(0, 100.00%, 93.71%); opacity: 0.81\" title=\"-0.003\">e</span><span style=\"background-color: hsl(0, 100.00%, 94.20%); opacity: 0.81\" title=\"-0.002\">r</span><span style=\"background-color: hsl(0, 100.00%, 93.80%); opacity: 0.81\" title=\"-0.003\"> </span><span style=\"background-color: hsl(0, 100.00%, 96.07%); opacity: 0.81\" title=\"-0.001\">c</span><span style=\"background-color: hsl(0, 100.00%, 95.20%); opacity: 0.81\" title=\"-0.002\">o</span><span style=\"background-color: hsl(0, 100.00%, 93.22%); opacity: 0.82\" title=\"-0.003\">n</span><span style=\"background-color: hsl(0, 100.00%, 93.34%); opacity: 0.82\" title=\"-0.003\">f</span><span style=\"background-color: hsl(120, 100.00%, 96.08%); opacity: 0.81\" title=\"0.001\">l</span><span style=\"background-color: hsl(120, 100.00%, 96.96%); opacity: 0.81\" title=\"0.001\">i</span><span style=\"background-color: hsl(120, 100.00%, 97.42%); opacity: 0.80\" title=\"0.001\">c</span><span style=\"background-color: hsl(120, 100.00%, 93.24%); opacity: 0.82\" title=\"0.003\">t</span><span style=\"background-color: hsl(120, 100.00%, 91.87%); opacity: 0.82\" title=\"0.004\"> </span><span style=\"background-color: hsl(120, 100.00%, 99.65%); opacity: 0.80\" title=\"0.000\">j</span><span style=\"background-color: hsl(0, 100.00%, 92.72%); opacity: 0.82\" title=\"-0.003\">u</span><span style=\"background-color: hsl(0, 100.00%, 89.73%); opacity: 0.83\" title=\"-0.005\">n</span><span style=\"background-color: hsl(120, 100.00%, 98.98%); opacity: 0.80\" title=\"0.000\">g</span><span style=\"background-color: hsl(0, 100.00%, 92.67%); opacity: 0.82\" title=\"-0.003\">l</span><span style=\"background-color: hsl(0, 100.00%, 92.07%); opacity: 0.82\" title=\"-0.004\">e</span><span style=\"background-color: hsl(120, 100.00%, 96.54%); opacity: 0.81\" title=\"0.001\"> </span><span style=\"background-color: hsl(120, 100.00%, 92.77%); opacity: 0.82\" title=\"0.003\">e</span><span style=\"background-color: hsl(120, 100.00%, 95.10%); opacity: 0.81\" title=\"0.002\">x</span><span style=\"background-color: hsl(0, 100.00%, 97.76%); opacity: 0.80\" title=\"-0.001\">p</span><span style=\"background-color: hsl(0, 100.00%, 89.81%); opacity: 0.83\" title=\"-0.005\">l</span><span style=\"background-color: hsl(0, 100.00%, 89.10%); opacity: 0.83\" title=\"-0.006\">o</span><span style=\"background-color: hsl(0, 100.00%, 91.07%); opacity: 0.82\" title=\"-0.004\">i</span><span style=\"background-color: hsl(0, 100.00%, 96.04%); opacity: 0.81\" title=\"-0.001\">t</span><span style=\"background-color: hsl(0, 100.00%, 92.64%); opacity: 0.82\" title=\"-0.003\">s</span><span style=\"background-color: hsl(0, 100.00%, 86.20%); opacity: 0.84\" title=\"-0.008\"> </span><span style=\"background-color: hsl(0, 100.00%, 83.83%); opacity: 0.85\" title=\"-0.010\">u</span><span style=\"background-color: hsl(0, 100.00%, 91.60%); opacity: 0.82\" title=\"-0.004\">n</span><span style=\"background-color: hsl(120, 100.00%, 93.37%); opacity: 0.82\" title=\"0.003\">u</span><span style=\"background-color: hsl(120, 100.00%, 86.56%); opacity: 0.84\" title=\"0.008\">s</span><span style=\"background-color: hsl(120, 100.00%, 89.68%); opacity: 0.83\" title=\"0.006\">u</span><span style=\"background-color: hsl(120, 100.00%, 88.26%); opacity: 0.83\" title=\"0.007\">a</span><span style=\"background-color: hsl(120, 100.00%, 87.43%); opacity: 0.84\" title=\"0.007\">l</span><span style=\"background-color: hsl(120, 100.00%, 86.57%); opacity: 0.84\" title=\"0.008\"> </span><span style=\"background-color: hsl(120, 100.00%, 85.61%); opacity: 0.85\" title=\"0.009\">t</span><span style=\"background-color: hsl(120, 100.00%, 97.19%); opacity: 0.80\" title=\"0.001\">a</span><span style=\"background-color: hsl(0, 100.00%, 91.96%); opacity: 0.82\" title=\"-0.004\">k</span><span style=\"background-color: hsl(0, 100.00%, 89.41%); opacity: 0.83\" title=\"-0.006\">e</span><span style=\"background-color: hsl(0, 100.00%, 88.02%); opacity: 0.84\" title=\"-0.007\"> </span><span style=\"background-color: hsl(0, 100.00%, 92.78%); opacity: 0.82\" title=\"-0.003\">o</span><span style=\"background-color: hsl(0, 100.00%, 99.64%); opacity: 0.80\" title=\"-0.000\">l</span><span style=\"background-color: hsl(0, 100.00%, 90.04%); opacity: 0.83\" title=\"-0.005\">d</span><span style=\"background-color: hsl(0, 100.00%, 94.58%); opacity: 0.81\" title=\"-0.002\"> </span><span style=\"background-color: hsl(120, 100.00%, 87.98%); opacity: 0.84\" title=\"0.007\">c</span><span style=\"background-color: hsl(120, 100.00%, 81.82%); opacity: 0.86\" title=\"0.012\">l</span><span style=\"background-color: hsl(120, 100.00%, 77.63%); opacity: 0.89\" title=\"0.017\">a</span><span style=\"background-color: hsl(120, 100.00%, 74.99%); opacity: 0.90\" title=\"0.020\">s</span><span style=\"background-color: hsl(120, 100.00%, 74.35%); opacity: 0.91\" title=\"0.020\">s</span><span style=\"background-color: hsl(120, 100.00%, 75.68%); opacity: 0.90\" title=\"0.019\">i</span><span style=\"background-color: hsl(120, 100.00%, 79.64%); opacity: 0.88\" title=\"0.015\">c</span><span style=\"background-color: hsl(120, 100.00%, 85.57%); opacity: 0.85\" title=\"0.009\"> </span><span style=\"background-color: hsl(120, 100.00%, 89.00%); opacity: 0.83\" title=\"0.006\">m</span><span style=\"background-color: hsl(120, 100.00%, 85.05%); opacity: 0.85\" title=\"0.009\">a</span><span style=\"background-color: hsl(120, 100.00%, 85.25%); opacity: 0.85\" title=\"0.009\">k</span><span style=\"background-color: hsl(120, 100.00%, 78.96%); opacity: 0.88\" title=\"0.015\">e</span><span style=\"background-color: hsl(120, 100.00%, 73.89%); opacity: 0.91\" title=\"0.021\">s</span><span style=\"background-color: hsl(120, 100.00%, 81.63%); opacity: 0.87\" title=\"0.013\"> </span><span style=\"background-color: hsl(120, 100.00%, 90.96%); opacity: 0.82\" title=\"0.005\">t</span><span style=\"background-color: hsl(0, 100.00%, 95.26%); opacity: 0.81\" title=\"-0.002\">y</span><span style=\"background-color: hsl(0, 100.00%, 95.43%); opacity: 0.81\" title=\"-0.002\">p</span><span style=\"background-color: hsl(120, 100.00%, 98.47%); opacity: 0.80\" title=\"0.000\">i</span><span style=\"background-color: hsl(120, 100.00%, 95.88%); opacity: 0.81\" title=\"0.001\">c</span><span style=\"background-color: hsl(0, 100.00%, 96.00%); opacity: 0.81\" title=\"-0.001\">a</span><span style=\"background-color: hsl(0, 100.00%, 98.77%); opacity: 0.80\" title=\"-0.000\">l</span><span style=\"background-color: hsl(0, 100.00%, 96.32%); opacity: 0.81\" title=\"-0.001\"> </span><span style=\"background-color: hsl(0, 100.00%, 96.39%); opacity: 0.81\" title=\"-0.001\">d</span><span style=\"background-color: hsl(120, 100.00%, 96.90%); opacity: 0.81\" title=\"0.001\">r</span><span style=\"background-color: hsl(0, 100.00%, 99.48%); opacity: 0.80\" title=\"-0.000\">a</span><span style=\"background-color: hsl(120, 100.00%, 99.48%); opacity: 0.80\" title=\"0.000\">m</span><span style=\"background-color: hsl(0, 100.00%, 96.70%); opacity: 0.81\" title=\"-0.001\">a</span><span style=\"background-color: hsl(0, 100.00%, 90.27%); opacity: 0.83\" title=\"-0.005\">t</span><span style=\"background-color: hsl(0, 100.00%, 97.57%); opacity: 0.80\" title=\"-0.001\">i</span><span style=\"background-color: hsl(0, 100.00%, 96.38%); opacity: 0.81\" title=\"-0.001\">c</span><span style=\"background-color: hsl(120, 100.00%, 95.69%); opacity: 0.81\" title=\"0.002\"> </span><span style=\"background-color: hsl(0, 100.00%, 97.21%); opacity: 0.80\" title=\"-0.001\">a</span><span style=\"background-color: hsl(120, 100.00%, 88.16%); opacity: 0.84\" title=\"0.007\">d</span><span style=\"background-color: hsl(120, 100.00%, 80.39%); opacity: 0.87\" title=\"0.014\">v</span><span style=\"background-color: hsl(120, 100.00%, 75.68%); opacity: 0.90\" title=\"0.019\">e</span><span style=\"background-color: hsl(120, 100.00%, 75.30%); opacity: 0.90\" title=\"0.019\">n</span><span style=\"background-color: hsl(120, 100.00%, 79.08%); opacity: 0.88\" title=\"0.015\">t</span><span style=\"background-color: hsl(120, 100.00%, 82.58%); opacity: 0.86\" title=\"0.012\">u</span><span style=\"background-color: hsl(120, 100.00%, 87.00%); opacity: 0.84\" title=\"0.008\">r</span><span style=\"background-color: hsl(120, 100.00%, 88.94%); opacity: 0.83\" title=\"0.006\">e</span><span style=\"background-color: hsl(120, 100.00%, 87.69%); opacity: 0.84\" title=\"0.007\"> </span><span style=\"background-color: hsl(120, 100.00%, 80.49%); opacity: 0.87\" title=\"0.014\">a</span><span style=\"background-color: hsl(120, 100.00%, 76.08%); opacity: 0.90\" title=\"0.018\">l</span><span style=\"background-color: hsl(120, 100.00%, 73.81%); opacity: 0.91\" title=\"0.021\">s</span><span style=\"background-color: hsl(120, 100.00%, 75.30%); opacity: 0.90\" title=\"0.019\">o</span><span style=\"background-color: hsl(120, 100.00%, 82.12%); opacity: 0.86\" title=\"0.012\"> </span><span style=\"background-color: hsl(120, 100.00%, 87.12%); opacity: 0.84\" title=\"0.008\">m</span><span style=\"background-color: hsl(120, 100.00%, 75.79%); opacity: 0.90\" title=\"0.019\">o</span><span style=\"background-color: hsl(120, 100.00%, 74.47%); opacity: 0.91\" title=\"0.020\">v</span><span style=\"background-color: hsl(120, 100.00%, 80.72%); opacity: 0.87\" title=\"0.013\">i</span><span style=\"background-color: hsl(120, 100.00%, 80.42%); opacity: 0.87\" title=\"0.014\">n</span><span style=\"background-color: hsl(120, 100.00%, 89.36%); opacity: 0.83\" title=\"0.006\">g</span><span style=\"background-color: hsl(120, 100.00%, 94.21%); opacity: 0.81\" title=\"0.002\"> </span><span style=\"background-color: hsl(120, 100.00%, 88.69%); opacity: 0.83\" title=\"0.006\">p</span><span style=\"background-color: hsl(120, 100.00%, 82.02%); opacity: 0.86\" title=\"0.012\">e</span><span style=\"background-color: hsl(120, 100.00%, 84.50%); opacity: 0.85\" title=\"0.010\">r</span><span style=\"background-color: hsl(120, 100.00%, 88.90%); opacity: 0.83\" title=\"0.006\">s</span><span style=\"background-color: hsl(120, 100.00%, 88.02%); opacity: 0.84\" title=\"0.007\">o</span><span style=\"background-color: hsl(120, 100.00%, 89.13%); opacity: 0.83\" title=\"0.006\">n</span><span style=\"background-color: hsl(120, 100.00%, 90.73%); opacity: 0.82\" title=\"0.005\">a</span><span style=\"background-color: hsl(120, 100.00%, 95.55%); opacity: 0.81\" title=\"0.002\">l</span><span style=\"background-color: hsl(0, 100.00%, 95.02%); opacity: 0.81\" title=\"-0.002\"> </span><span style=\"background-color: hsl(0, 100.00%, 95.18%); opacity: 0.81\" title=\"-0.002\">s</span><span style=\"background-color: hsl(120, 100.00%, 94.08%); opacity: 0.81\" title=\"0.002\">t</span><span style=\"background-color: hsl(120, 100.00%, 90.53%); opacity: 0.83\" title=\"0.005\">o</span><span style=\"background-color: hsl(120, 100.00%, 90.49%); opacity: 0.83\" title=\"0.005\">r</span><span style=\"background-color: hsl(120, 100.00%, 87.30%); opacity: 0.84\" title=\"0.007\">y</span><span style=\"background-color: hsl(0, 100.00%, 89.83%); opacity: 0.83\" title=\"-0.005\"> </span><span style=\"background-color: hsl(0, 100.00%, 78.65%); opacity: 0.88\" title=\"-0.016\">w</span><span style=\"background-color: hsl(0, 100.00%, 78.29%); opacity: 0.88\" title=\"-0.016\">a</span><span style=\"background-color: hsl(0, 100.00%, 76.07%); opacity: 0.90\" title=\"-0.018\">s</span><span style=\"background-color: hsl(0, 100.00%, 88.13%); opacity: 0.84\" title=\"-0.007\">n</span><span style=\"background-color: hsl(120, 100.00%, 96.87%); opacity: 0.81\" title=\"0.001\">t</span><span style=\"background-color: hsl(120, 100.00%, 88.28%); opacity: 0.83\" title=\"0.007\"> </span><span style=\"background-color: hsl(120, 100.00%, 79.02%); opacity: 0.88\" title=\"0.015\">s</span><span style=\"background-color: hsl(120, 100.00%, 71.93%); opacity: 0.92\" title=\"0.023\">u</span><span style=\"background-color: hsl(120, 100.00%, 63.41%); opacity: 0.98\" title=\"0.034\">r</span><span style=\"background-color: hsl(120, 100.00%, 61.27%); opacity: 0.99\" title=\"0.036\">p</span><span style=\"background-color: hsl(120, 100.00%, 66.49%); opacity: 0.96\" title=\"0.030\">r</span><span style=\"background-color: hsl(120, 100.00%, 74.17%); opacity: 0.91\" title=\"0.020\">i</span><span style=\"background-color: hsl(120, 100.00%, 82.98%); opacity: 0.86\" title=\"0.011\">s</span><span style=\"background-color: hsl(120, 100.00%, 90.51%); opacity: 0.83\" title=\"0.005\">e</span><span style=\"background-color: hsl(0, 100.00%, 92.18%); opacity: 0.82\" title=\"-0.004\">d</span><span style=\"background-color: hsl(0, 100.00%, 84.18%); opacity: 0.85\" title=\"-0.010\"> </span><span style=\"background-color: hsl(0, 100.00%, 82.02%); opacity: 0.86\" title=\"-0.012\">n</span><span style=\"background-color: hsl(0, 100.00%, 81.39%); opacity: 0.87\" title=\"-0.013\">o</span><span style=\"background-color: hsl(0, 100.00%, 89.14%); opacity: 0.83\" title=\"-0.006\">t</span><span style=\"background-color: hsl(0, 100.00%, 94.43%); opacity: 0.81\" title=\"-0.002\">e</span><span style=\"background-color: hsl(0, 100.00%, 91.86%); opacity: 0.82\" title=\"-0.004\"> </span><span style=\"background-color: hsl(0, 100.00%, 85.45%); opacity: 0.85\" title=\"-0.009\">d</span><span style=\"background-color: hsl(0, 100.00%, 82.81%); opacity: 0.86\" title=\"-0.011\">i</span><span style=\"background-color: hsl(0, 100.00%, 82.92%); opacity: 0.86\" title=\"-0.011\">r</span><span style=\"background-color: hsl(0, 100.00%, 85.10%); opacity: 0.85\" title=\"-0.009\">e</span><span style=\"background-color: hsl(0, 100.00%, 88.78%); opacity: 0.83\" title=\"-0.006\">c</span><span style=\"background-color: hsl(0, 100.00%, 89.80%); opacity: 0.83\" title=\"-0.005\">t</span><span style=\"background-color: hsl(0, 100.00%, 85.68%); opacity: 0.85\" title=\"-0.009\">o</span><span style=\"background-color: hsl(0, 100.00%, 83.54%); opacity: 0.86\" title=\"-0.011\">r</span><span style=\"background-color: hsl(0, 100.00%, 86.91%); opacity: 0.84\" title=\"-0.008\"> </span><span style=\"background-color: hsl(0, 100.00%, 92.81%); opacity: 0.82\" title=\"-0.003\">i</span><span style=\"background-color: hsl(120, 100.00%, 98.02%); opacity: 0.80\" title=\"0.001\">n</span><span style=\"background-color: hsl(120, 100.00%, 91.31%); opacity: 0.82\" title=\"0.004\">d</span><span style=\"background-color: hsl(120, 100.00%, 90.21%); opacity: 0.83\" title=\"0.005\">i</span><span style=\"background-color: hsl(120, 100.00%, 88.74%); opacity: 0.83\" title=\"0.006\">v</span><span style=\"background-color: hsl(120, 100.00%, 95.17%); opacity: 0.81\" title=\"0.002\">i</span><span style=\"background-color: hsl(0, 100.00%, 98.18%); opacity: 0.80\" title=\"-0.000\">d</span><span style=\"background-color: hsl(0, 100.00%, 95.86%); opacity: 0.81\" title=\"-0.001\">u</span><span style=\"background-color: hsl(120, 100.00%, 92.47%); opacity: 0.82\" title=\"0.004\">a</span><span style=\"background-color: hsl(120, 100.00%, 98.62%); opacity: 0.80\" title=\"0.000\">l</span><span style=\"background-color: hsl(120, 100.00%, 99.23%); opacity: 0.80\" title=\"0.000\"> </span><span style=\"background-color: hsl(0, 100.00%, 97.53%); opacity: 0.80\" title=\"-0.001\">h</span><span style=\"background-color: hsl(120, 100.00%, 99.40%); opacity: 0.80\" title=\"0.000\">u</span><span style=\"background-color: hsl(120, 100.00%, 97.52%); opacity: 0.80\" title=\"0.001\">g</span><span style=\"background-color: hsl(120, 100.00%, 98.28%); opacity: 0.80\" title=\"0.000\">h</span><span style=\"background-color: hsl(0, 100.00%, 98.71%); opacity: 0.80\" title=\"-0.000\"> </span><span style=\"background-color: hsl(0, 100.00%, 99.02%); opacity: 0.80\" title=\"-0.000\">h</span><span style=\"background-color: hsl(0, 100.00%, 99.42%); opacity: 0.80\" title=\"-0.000\">u</span><span style=\"background-color: hsl(120, 100.00%, 95.79%); opacity: 0.81\" title=\"0.002\">d</span><span style=\"background-color: hsl(120, 100.00%, 91.48%); opacity: 0.82\" title=\"0.004\">s</span><span style=\"background-color: hsl(120, 100.00%, 92.59%); opacity: 0.82\" title=\"0.003\">o</span><span style=\"background-color: hsl(120, 100.00%, 92.35%); opacity: 0.82\" title=\"0.004\">n</span><span style=\"background-color: hsl(120, 100.00%, 87.56%); opacity: 0.84\" title=\"0.007\"> </span><span style=\"background-color: hsl(120, 100.00%, 81.47%); opacity: 0.87\" title=\"0.013\">a</span><span style=\"background-color: hsl(120, 100.00%, 77.87%); opacity: 0.89\" title=\"0.016\">l</span><span style=\"background-color: hsl(120, 100.00%, 75.99%); opacity: 0.90\" title=\"0.018\">s</span><span style=\"background-color: hsl(120, 100.00%, 76.91%); opacity: 0.89\" title=\"0.017\">o</span><span style=\"background-color: hsl(120, 100.00%, 87.27%); opacity: 0.84\" title=\"0.007\"> </span><span style=\"background-color: hsl(0, 100.00%, 88.01%); opacity: 0.84\" title=\"-0.007\">d</span><span style=\"background-color: hsl(0, 100.00%, 85.32%); opacity: 0.85\" title=\"-0.009\">i</span><span style=\"background-color: hsl(0, 100.00%, 85.71%); opacity: 0.85\" title=\"-0.009\">r</span><span style=\"background-color: hsl(0, 100.00%, 91.36%); opacity: 0.82\" title=\"-0.004\">e</span><span style=\"background-color: hsl(120, 100.00%, 97.54%); opacity: 0.80\" title=\"0.001\">c</span><span style=\"background-color: hsl(0, 100.00%, 98.35%); opacity: 0.80\" title=\"-0.000\">t</span><span style=\"background-color: hsl(120, 100.00%, 96.11%); opacity: 0.81\" title=\"0.001\">e</span><span style=\"background-color: hsl(120, 100.00%, 95.45%); opacity: 0.81\" title=\"0.002\">d</span><span style=\"background-color: hsl(120, 100.00%, 95.11%); opacity: 0.81\" title=\"0.002\"> </span><span style=\"background-color: hsl(120, 100.00%, 90.31%); opacity: 0.83\" title=\"0.005\">c</span><span style=\"background-color: hsl(120, 100.00%, 92.61%); opacity: 0.82\" title=\"0.003\">h</span><span style=\"background-color: hsl(120, 100.00%, 87.03%); opacity: 0.84\" title=\"0.008\">a</span><span style=\"background-color: hsl(120, 100.00%, 86.33%); opacity: 0.84\" title=\"0.008\">r</span><span style=\"background-color: hsl(120, 100.00%, 90.29%); opacity: 0.83\" title=\"0.005\">i</span><span style=\"background-color: hsl(0, 100.00%, 98.32%); opacity: 0.80\" title=\"-0.000\">o</span><span style=\"background-color: hsl(0, 100.00%, 92.02%); opacity: 0.82\" title=\"-0.004\">t</span><span style=\"background-color: hsl(120, 100.00%, 94.98%); opacity: 0.81\" title=\"0.002\">s</span><span style=\"background-color: hsl(120, 100.00%, 87.95%); opacity: 0.84\" title=\"0.007\"> </span><span style=\"background-color: hsl(120, 100.00%, 87.35%); opacity: 0.84\" title=\"0.007\">f</span><span style=\"background-color: hsl(120, 100.00%, 92.53%); opacity: 0.82\" title=\"0.003\">i</span><span style=\"background-color: hsl(0, 100.00%, 99.87%); opacity: 0.80\" title=\"-0.000\">r</span><span style=\"background-color: hsl(0, 100.00%, 93.04%); opacity: 0.82\" title=\"-0.003\">e</span><span style=\"background-color: hsl(0, 100.00%, 92.75%); opacity: 0.82\" title=\"-0.003\"> </span><span style=\"background-color: hsl(0, 100.00%, 97.52%); opacity: 0.80\" title=\"-0.001\">a</span><span style=\"background-color: hsl(0, 100.00%, 88.46%); opacity: 0.83\" title=\"-0.006\">n</span><span style=\"background-color: hsl(0, 100.00%, 82.66%); opacity: 0.86\" title=\"-0.012\">o</span><span style=\"background-color: hsl(0, 100.00%, 84.35%); opacity: 0.85\" title=\"-0.010\">t</span><span style=\"background-color: hsl(0, 100.00%, 88.19%); opacity: 0.83\" title=\"-0.007\">h</span><span style=\"background-color: hsl(0, 100.00%, 95.76%); opacity: 0.81\" title=\"-0.002\">e</span><span style=\"background-color: hsl(0, 100.00%, 93.57%); opacity: 0.81\" title=\"-0.003\">r</span><span style=\"background-color: hsl(120, 100.00%, 92.42%); opacity: 0.82\" title=\"0.004\"> </span><span style=\"background-color: hsl(120, 100.00%, 75.84%); opacity: 0.90\" title=\"0.019\">b</span><span style=\"background-color: hsl(120, 100.00%, 65.35%); opacity: 0.96\" title=\"0.031\">r</span><span style=\"background-color: hsl(120, 100.00%, 66.26%); opacity: 0.96\" title=\"0.030\">i</span><span style=\"background-color: hsl(120, 100.00%, 60.54%); opacity: 1.00\" title=\"0.037\">l</span><span style=\"background-color: hsl(120, 100.00%, 60.00%); opacity: 1.00\" title=\"0.038\">l</span><span style=\"background-color: hsl(120, 100.00%, 65.15%); opacity: 0.96\" title=\"0.031\">i</span><span style=\"background-color: hsl(120, 100.00%, 71.03%); opacity: 0.93\" title=\"0.024\">a</span><span style=\"background-color: hsl(120, 100.00%, 80.16%); opacity: 0.87\" title=\"0.014\">n</span><span style=\"background-color: hsl(120, 100.00%, 87.64%); opacity: 0.84\" title=\"0.007\">t</span><span style=\"background-color: hsl(0, 100.00%, 98.47%); opacity: 0.80\" title=\"-0.000\"> </span><span style=\"background-color: hsl(0, 100.00%, 94.51%); opacity: 0.81\" title=\"-0.002\">m</span><span style=\"background-color: hsl(120, 100.00%, 95.26%); opacity: 0.81\" title=\"0.002\">o</span><span style=\"background-color: hsl(120, 100.00%, 94.36%); opacity: 0.81\" title=\"0.002\">v</span><span style=\"background-color: hsl(120, 100.00%, 99.21%); opacity: 0.80\" title=\"0.000\">i</span><span style=\"background-color: hsl(120, 100.00%, 99.80%); opacity: 0.80\" title=\"0.000\">e</span>\n",
       "    </p>\n",
       "\n",
       "\n",
       "    \n",
       "\n",
       "    \n",
       "\n",
       "    \n",
       "\n",
       "    \n",
       "\n",
       "\n",
       "    \n",
       "\n",
       "    \n",
       "\n",
       "    \n",
       "\n",
       "    \n",
       "\n",
       "    \n",
       "\n",
       "    \n",
       "\n",
       "\n",
       "    \n",
       "\n",
       "    \n",
       "\n",
       "    \n",
       "\n",
       "    \n",
       "\n",
       "    \n",
       "\n",
       "    \n",
       "\n",
       "\n",
       "\n"
      ],
      "text/plain": [
       "<IPython.core.display.HTML object>"
      ]
     },
     "execution_count": 29,
     "metadata": {},
     "output_type": "execute_result"
    }
   ],
   "source": [
    "print('Positive' if test_df['is_positive'].iloc[1] else 'Negative')\n",
    "\n",
    "eli5.show_prediction(classifier, \n",
    "                     test_df['review'].iloc[1], \n",
    "                     vec=vectorizer, \n",
    "                     targets=['positive'], \n",
    "                     target_names=['negative', 'positive'])"
   ]
  },
  {
   "cell_type": "code",
   "execution_count": 30,
   "metadata": {
    "colab": {
     "base_uri": "https://localhost:8080/"
    },
    "executionInfo": {
     "elapsed": 532096,
     "status": "ok",
     "timestamp": 1674992457612,
     "user": {
      "displayName": "Maxim Gasilin",
      "userId": "15501735730920561422"
     },
     "user_tz": -180
    },
    "id": "fXrLEKzlzsLv",
    "outputId": "60d0ac3c-ec9b-4d54-f76c-d7fc3ffaca09"
   },
   "outputs": [
    {
     "name": "stdout",
     "output_type": "stream",
     "text": [
      "Test accuracy = 88.33%\n"
     ]
    }
   ],
   "source": [
    "vectorizer = TfidfVectorizer(ngram_range=(3, 7), analyzer='char')\n",
    "classifier = LogisticRegression()\n",
    "\n",
    "model = Pipeline([\n",
    "    ('vectorizer', vectorizer),\n",
    "    ('classifier', classifier)\n",
    "])\n",
    "\n",
    "model.fit(train_df['review'], train_df['is_positive'])\n",
    "\n",
    "eval_model(model, test_df)"
   ]
  },
  {
   "cell_type": "code",
   "execution_count": 31,
   "metadata": {
    "colab": {
     "base_uri": "https://localhost:8080/",
     "height": 451
    },
    "executionInfo": {
     "elapsed": 9406,
     "status": "ok",
     "timestamp": 1674992467001,
     "user": {
      "displayName": "Maxim Gasilin",
      "userId": "15501735730920561422"
     },
     "user_tz": -180
    },
    "id": "dFkFOkBiz8yR",
    "outputId": "34d16af8-5218-494e-93e2-5a422428401d"
   },
   "outputs": [
    {
     "name": "stdout",
     "output_type": "stream",
     "text": [
      "Positive\n"
     ]
    },
    {
     "data": {
      "text/html": [
       "\n",
       "    <style>\n",
       "    table.eli5-weights tr:hover {\n",
       "        filter: brightness(85%);\n",
       "    }\n",
       "</style>\n",
       "\n",
       "\n",
       "\n",
       "    \n",
       "\n",
       "    \n",
       "\n",
       "    \n",
       "\n",
       "    \n",
       "\n",
       "    \n",
       "\n",
       "    \n",
       "\n",
       "\n",
       "    \n",
       "\n",
       "    \n",
       "\n",
       "    \n",
       "\n",
       "    \n",
       "        \n",
       "\n",
       "    \n",
       "\n",
       "        \n",
       "\n",
       "        \n",
       "    \n",
       "        \n",
       "        \n",
       "    \n",
       "        <p style=\"margin-bottom: 0.5em; margin-top: 0em\">\n",
       "            <b>\n",
       "    \n",
       "        y=positive\n",
       "    \n",
       "</b>\n",
       "\n",
       "    \n",
       "    (probability <b>0.933</b>, score <b>2.637</b>)\n",
       "\n",
       "top features\n",
       "        </p>\n",
       "    \n",
       "    <table class=\"eli5-weights\"\n",
       "           style=\"border-collapse: collapse; border: none; margin-top: 0em; table-layout: auto; margin-bottom: 2em;\">\n",
       "        <thead>\n",
       "        <tr style=\"border: none;\">\n",
       "            \n",
       "                <th style=\"padding: 0 1em 0 0.5em; text-align: right; border: none;\" title=\"Feature contribution already accounts for the feature value (for linear models, contribution = weight * feature value), and the sum of feature contributions is equal to the score or, for some classifiers, to the probability. Feature values are shown if &quot;show_feature_values&quot; is True.\">\n",
       "                    Contribution<sup>?</sup>\n",
       "                </th>\n",
       "            \n",
       "            <th style=\"padding: 0 0.5em 0 0.5em; text-align: left; border: none;\">Feature</th>\n",
       "            \n",
       "        </tr>\n",
       "        </thead>\n",
       "        <tbody>\n",
       "        \n",
       "            <tr style=\"background-color: hsl(120, 100.00%, 80.00%); border: none;\">\n",
       "    <td style=\"padding: 0 1em 0 0.5em; text-align: right; border: none;\">\n",
       "        +2.655\n",
       "    </td>\n",
       "    <td style=\"padding: 0 0.5em 0 0.5em; text-align: left; border: none;\">\n",
       "        Highlighted in text (sum)\n",
       "    </td>\n",
       "    \n",
       "</tr>\n",
       "        \n",
       "        \n",
       "\n",
       "        \n",
       "        \n",
       "            <tr style=\"background-color: hsl(0, 100.00%, 99.41%); border: none;\">\n",
       "    <td style=\"padding: 0 1em 0 0.5em; text-align: right; border: none;\">\n",
       "        -0.017\n",
       "    </td>\n",
       "    <td style=\"padding: 0 0.5em 0 0.5em; text-align: left; border: none;\">\n",
       "        &lt;BIAS&gt;\n",
       "    </td>\n",
       "    \n",
       "</tr>\n",
       "        \n",
       "\n",
       "        </tbody>\n",
       "    </table>\n",
       "\n",
       "    \n",
       "\n",
       "\n",
       "\n",
       "    <p style=\"margin-bottom: 2.5em; margin-top:-0.5em;\">\n",
       "        <span style=\"background-color: hsl(120, 100.00%, 92.28%); opacity: 0.82\" title=\"0.002\">e</span><span style=\"background-color: hsl(120, 100.00%, 88.41%); opacity: 0.83\" title=\"0.004\">n</span><span style=\"background-color: hsl(120, 100.00%, 84.79%); opacity: 0.85\" title=\"0.006\">t</span><span style=\"background-color: hsl(120, 100.00%, 80.08%); opacity: 0.87\" title=\"0.009\">e</span><span style=\"background-color: hsl(120, 100.00%, 75.28%); opacity: 0.90\" title=\"0.012\">r</span><span style=\"background-color: hsl(120, 100.00%, 71.17%); opacity: 0.93\" title=\"0.014\">t</span><span style=\"background-color: hsl(120, 100.00%, 72.33%); opacity: 0.92\" title=\"0.014\">a</span><span style=\"background-color: hsl(120, 100.00%, 73.92%); opacity: 0.91\" title=\"0.013\">i</span><span style=\"background-color: hsl(120, 100.00%, 78.16%); opacity: 0.88\" title=\"0.010\">n</span><span style=\"background-color: hsl(120, 100.00%, 84.90%); opacity: 0.85\" title=\"0.006\">i</span><span style=\"background-color: hsl(120, 100.00%, 93.61%); opacity: 0.81\" title=\"0.002\">n</span><span style=\"background-color: hsl(0, 100.00%, 98.28%); opacity: 0.80\" title=\"-0.000\">g</span><span style=\"background-color: hsl(120, 100.00%, 88.04%); opacity: 0.84\" title=\"0.004\"> </span><span style=\"background-color: hsl(120, 100.00%, 77.33%); opacity: 0.89\" title=\"0.010\">t</span><span style=\"background-color: hsl(120, 100.00%, 69.04%); opacity: 0.94\" title=\"0.016\">o</span><span style=\"background-color: hsl(120, 100.00%, 65.12%); opacity: 0.96\" title=\"0.019\">u</span><span style=\"background-color: hsl(120, 100.00%, 68.38%); opacity: 0.94\" title=\"0.016\">c</span><span style=\"background-color: hsl(120, 100.00%, 76.44%); opacity: 0.89\" title=\"0.011\">h</span><span style=\"background-color: hsl(120, 100.00%, 84.96%); opacity: 0.85\" title=\"0.006\">i</span><span style=\"background-color: hsl(120, 100.00%, 95.65%); opacity: 0.81\" title=\"0.001\">n</span><span style=\"background-color: hsl(0, 100.00%, 94.60%); opacity: 0.81\" title=\"-0.001\">g</span><span style=\"background-color: hsl(0, 100.00%, 97.66%); opacity: 0.80\" title=\"-0.000\"> </span><span style=\"background-color: hsl(120, 100.00%, 93.09%); opacity: 0.82\" title=\"0.002\">v</span><span style=\"background-color: hsl(120, 100.00%, 91.31%); opacity: 0.82\" title=\"0.003\">e</span><span style=\"background-color: hsl(120, 100.00%, 94.01%); opacity: 0.81\" title=\"0.002\">r</span><span style=\"background-color: hsl(120, 100.00%, 95.20%); opacity: 0.81\" title=\"0.001\">s</span><span style=\"background-color: hsl(120, 100.00%, 95.24%); opacity: 0.81\" title=\"0.001\">i</span><span style=\"background-color: hsl(120, 100.00%, 96.13%); opacity: 0.81\" title=\"0.001\">o</span><span style=\"background-color: hsl(120, 100.00%, 98.15%); opacity: 0.80\" title=\"0.000\">n</span><span style=\"background-color: hsl(120, 100.00%, 92.65%); opacity: 0.82\" title=\"0.002\"> </span><span style=\"background-color: hsl(120, 100.00%, 85.53%); opacity: 0.85\" title=\"0.005\">c</span><span style=\"background-color: hsl(120, 100.00%, 79.29%); opacity: 0.88\" title=\"0.009\">l</span><span style=\"background-color: hsl(120, 100.00%, 75.85%); opacity: 0.90\" title=\"0.011\">a</span><span style=\"background-color: hsl(120, 100.00%, 74.21%); opacity: 0.91\" title=\"0.012\">s</span><span style=\"background-color: hsl(120, 100.00%, 75.43%); opacity: 0.90\" title=\"0.011\">s</span><span style=\"background-color: hsl(120, 100.00%, 76.90%); opacity: 0.89\" title=\"0.011\">i</span><span style=\"background-color: hsl(120, 100.00%, 80.74%); opacity: 0.87\" title=\"0.008\">c</span><span style=\"background-color: hsl(120, 100.00%, 87.08%); opacity: 0.84\" title=\"0.005\"> </span><span style=\"background-color: hsl(120, 100.00%, 95.85%); opacity: 0.81\" title=\"0.001\">t</span><span style=\"background-color: hsl(0, 100.00%, 98.06%); opacity: 0.80\" title=\"-0.000\">a</span><span style=\"background-color: hsl(0, 100.00%, 96.48%); opacity: 0.81\" title=\"-0.001\">l</span><span style=\"background-color: hsl(120, 100.00%, 93.21%); opacity: 0.82\" title=\"0.002\">e</span><span style=\"background-color: hsl(120, 100.00%, 84.52%); opacity: 0.85\" title=\"0.006\"> </span><span style=\"background-color: hsl(120, 100.00%, 79.57%); opacity: 0.88\" title=\"0.009\">a</span><span style=\"background-color: hsl(120, 100.00%, 74.50%); opacity: 0.91\" title=\"0.012\">l</span><span style=\"background-color: hsl(120, 100.00%, 73.05%); opacity: 0.91\" title=\"0.013\">s</span><span style=\"background-color: hsl(120, 100.00%, 76.67%); opacity: 0.89\" title=\"0.011\">o</span><span style=\"background-color: hsl(120, 100.00%, 78.80%); opacity: 0.88\" title=\"0.009\"> </span><span style=\"background-color: hsl(120, 100.00%, 82.87%); opacity: 0.86\" title=\"0.007\">q</span><span style=\"background-color: hsl(120, 100.00%, 82.27%); opacity: 0.86\" title=\"0.007\">u</span><span style=\"background-color: hsl(120, 100.00%, 82.11%); opacity: 0.86\" title=\"0.007\">i</span><span style=\"background-color: hsl(120, 100.00%, 85.61%); opacity: 0.85\" title=\"0.005\">t</span><span style=\"background-color: hsl(120, 100.00%, 87.87%); opacity: 0.84\" title=\"0.004\">e</span><span style=\"background-color: hsl(120, 100.00%, 91.69%); opacity: 0.82\" title=\"0.002\"> </span><span style=\"background-color: hsl(0, 100.00%, 97.50%); opacity: 0.80\" title=\"-0.000\">i</span><span style=\"background-color: hsl(0, 100.00%, 97.43%); opacity: 0.80\" title=\"-0.000\">n</span><span style=\"background-color: hsl(0, 100.00%, 97.50%); opacity: 0.80\" title=\"-0.000\">t</span><span style=\"background-color: hsl(120, 100.00%, 92.82%); opacity: 0.82\" title=\"0.002\">e</span><span style=\"background-color: hsl(120, 100.00%, 90.09%); opacity: 0.83\" title=\"0.003\">l</span><span style=\"background-color: hsl(120, 100.00%, 86.89%); opacity: 0.84\" title=\"0.005\">l</span><span style=\"background-color: hsl(120, 100.00%, 88.08%); opacity: 0.84\" title=\"0.004\">i</span><span style=\"background-color: hsl(120, 100.00%, 87.10%); opacity: 0.84\" title=\"0.005\">g</span><span style=\"background-color: hsl(120, 100.00%, 86.41%); opacity: 0.84\" title=\"0.005\">e</span><span style=\"background-color: hsl(120, 100.00%, 88.20%); opacity: 0.83\" title=\"0.004\">n</span><span style=\"background-color: hsl(120, 100.00%, 89.01%); opacity: 0.83\" title=\"0.004\">t</span><span style=\"background-color: hsl(120, 100.00%, 93.06%); opacity: 0.82\" title=\"0.002\"> </span><span style=\"background-color: hsl(120, 100.00%, 93.38%); opacity: 0.82\" title=\"0.002\">t</span><span style=\"background-color: hsl(120, 100.00%, 92.55%); opacity: 0.82\" title=\"0.002\">a</span><span style=\"background-color: hsl(120, 100.00%, 90.74%); opacity: 0.82\" title=\"0.003\">r</span><span style=\"background-color: hsl(120, 100.00%, 87.54%); opacity: 0.84\" title=\"0.004\">z</span><span style=\"background-color: hsl(120, 100.00%, 87.87%); opacity: 0.84\" title=\"0.004\">a</span><span style=\"background-color: hsl(120, 100.00%, 89.10%); opacity: 0.83\" title=\"0.004\">n</span><span style=\"background-color: hsl(120, 100.00%, 87.38%); opacity: 0.84\" title=\"0.004\"> </span><span style=\"background-color: hsl(120, 100.00%, 87.37%); opacity: 0.84\" title=\"0.004\">j</span><span style=\"background-color: hsl(120, 100.00%, 90.49%); opacity: 0.83\" title=\"0.003\">a</span><span style=\"background-color: hsl(120, 100.00%, 94.43%); opacity: 0.81\" title=\"0.001\">n</span><span style=\"background-color: hsl(120, 100.00%, 96.58%); opacity: 0.81\" title=\"0.001\">e</span><span style=\"background-color: hsl(0, 100.00%, 96.22%); opacity: 0.81\" title=\"-0.001\"> </span><span style=\"background-color: hsl(0, 100.00%, 92.88%); opacity: 0.82\" title=\"-0.002\">s</span><span style=\"background-color: hsl(0, 100.00%, 92.25%); opacity: 0.82\" title=\"-0.002\">c</span><span style=\"background-color: hsl(0, 100.00%, 95.80%); opacity: 0.81\" title=\"-0.001\">h</span><span style=\"background-color: hsl(120, 100.00%, 98.56%); opacity: 0.80\" title=\"0.000\">o</span><span style=\"background-color: hsl(120, 100.00%, 96.19%); opacity: 0.81\" title=\"0.001\">o</span><span style=\"background-color: hsl(120, 100.00%, 94.40%); opacity: 0.81\" title=\"0.001\">l</span><span style=\"background-color: hsl(120, 100.00%, 89.77%); opacity: 0.83\" title=\"0.003\"> </span><span style=\"background-color: hsl(120, 100.00%, 87.65%); opacity: 0.84\" title=\"0.004\">f</span><span style=\"background-color: hsl(120, 100.00%, 85.55%); opacity: 0.85\" title=\"0.005\">a</span><span style=\"background-color: hsl(120, 100.00%, 83.52%); opacity: 0.86\" title=\"0.006\">m</span><span style=\"background-color: hsl(120, 100.00%, 89.25%); opacity: 0.83\" title=\"0.004\">o</span><span style=\"background-color: hsl(120, 100.00%, 93.56%); opacity: 0.81\" title=\"0.002\">u</span><span style=\"background-color: hsl(120, 100.00%, 96.49%); opacity: 0.81\" title=\"0.001\">s</span><span style=\"background-color: hsl(120, 100.00%, 95.76%); opacity: 0.81\" title=\"0.001\"> </span><span style=\"background-color: hsl(120, 100.00%, 92.10%); opacity: 0.82\" title=\"0.002\">s</span><span style=\"background-color: hsl(120, 100.00%, 88.91%); opacity: 0.83\" title=\"0.004\">t</span><span style=\"background-color: hsl(120, 100.00%, 85.76%); opacity: 0.85\" title=\"0.005\">o</span><span style=\"background-color: hsl(120, 100.00%, 85.81%); opacity: 0.85\" title=\"0.005\">r</span><span style=\"background-color: hsl(120, 100.00%, 88.82%); opacity: 0.83\" title=\"0.004\">y</span><span style=\"background-color: hsl(120, 100.00%, 92.19%); opacity: 0.82\" title=\"0.002\"> </span><span style=\"background-color: hsl(120, 100.00%, 96.29%); opacity: 0.81\" title=\"0.001\">c</span><span style=\"background-color: hsl(120, 100.00%, 95.85%); opacity: 0.81\" title=\"0.001\">h</span><span style=\"background-color: hsl(120, 100.00%, 94.68%); opacity: 0.81\" title=\"0.001\">i</span><span style=\"background-color: hsl(120, 100.00%, 98.95%); opacity: 0.80\" title=\"0.000\">l</span><span style=\"background-color: hsl(0, 100.00%, 95.00%); opacity: 0.81\" title=\"-0.001\">d</span><span style=\"background-color: hsl(0, 100.00%, 94.61%); opacity: 0.81\" title=\"-0.001\"> </span><span style=\"background-color: hsl(0, 100.00%, 98.15%); opacity: 0.80\" title=\"-0.000\">r</span><span style=\"background-color: hsl(120, 100.00%, 95.53%); opacity: 0.81\" title=\"0.001\">e</span><span style=\"background-color: hsl(120, 100.00%, 94.53%); opacity: 0.81\" title=\"0.001\">a</span><span style=\"background-color: hsl(0, 100.00%, 97.26%); opacity: 0.80\" title=\"-0.000\">r</span><span style=\"background-color: hsl(0, 100.00%, 94.58%); opacity: 0.81\" title=\"-0.001\">e</span><span style=\"background-color: hsl(0, 100.00%, 94.28%); opacity: 0.81\" title=\"-0.001\">d</span><span style=\"background-color: hsl(120, 100.00%, 97.66%); opacity: 0.80\" title=\"0.000\"> </span><span style=\"background-color: hsl(120, 100.00%, 91.69%); opacity: 0.82\" title=\"0.002\">m</span><span style=\"background-color: hsl(120, 100.00%, 88.59%); opacity: 0.83\" title=\"0.004\">a</span><span style=\"background-color: hsl(120, 100.00%, 86.84%); opacity: 0.84\" title=\"0.005\">n</span><span style=\"background-color: hsl(120, 100.00%, 88.35%); opacity: 0.83\" title=\"0.004\">h</span><span style=\"background-color: hsl(120, 100.00%, 86.25%); opacity: 0.84\" title=\"0.005\">o</span><span style=\"background-color: hsl(120, 100.00%, 86.63%); opacity: 0.84\" title=\"0.005\">o</span><span style=\"background-color: hsl(120, 100.00%, 87.51%); opacity: 0.84\" title=\"0.004\">d</span><span style=\"background-color: hsl(120, 100.00%, 92.73%); opacity: 0.82\" title=\"0.002\"> </span><span style=\"background-color: hsl(0, 100.00%, 95.87%); opacity: 0.81\" title=\"-0.001\">j</span><span style=\"background-color: hsl(0, 100.00%, 95.41%); opacity: 0.81\" title=\"-0.001\">u</span><span style=\"background-color: hsl(0, 100.00%, 92.66%); opacity: 0.82\" title=\"-0.002\">n</span><span style=\"background-color: hsl(0, 100.00%, 95.36%); opacity: 0.81\" title=\"-0.001\">g</span><span style=\"background-color: hsl(0, 100.00%, 91.94%); opacity: 0.82\" title=\"-0.002\">l</span><span style=\"background-color: hsl(0, 100.00%, 90.99%); opacity: 0.82\" title=\"-0.003\">e</span><span style=\"background-color: hsl(0, 100.00%, 89.37%); opacity: 0.83\" title=\"-0.003\"> </span><span style=\"background-color: hsl(0, 100.00%, 87.26%); opacity: 0.84\" title=\"-0.004\">a</span><span style=\"background-color: hsl(0, 100.00%, 83.43%); opacity: 0.86\" title=\"-0.007\">p</span><span style=\"background-color: hsl(0, 100.00%, 87.40%); opacity: 0.84\" title=\"-0.004\">e</span><span style=\"background-color: hsl(0, 100.00%, 93.54%); opacity: 0.81\" title=\"-0.002\">s</span><span style=\"background-color: hsl(0, 100.00%, 99.43%); opacity: 0.80\" title=\"-0.000\"> </span><span style=\"background-color: hsl(120, 100.00%, 98.59%); opacity: 0.80\" title=\"0.000\">t</span><span style=\"background-color: hsl(0, 100.00%, 92.41%); opacity: 0.82\" title=\"-0.002\">i</span><span style=\"background-color: hsl(0, 100.00%, 88.19%); opacity: 0.84\" title=\"-0.004\">t</span><span style=\"background-color: hsl(0, 100.00%, 86.94%); opacity: 0.84\" title=\"-0.005\">l</span><span style=\"background-color: hsl(0, 100.00%, 88.52%); opacity: 0.83\" title=\"-0.004\">e</span><span style=\"background-color: hsl(0, 100.00%, 88.74%); opacity: 0.83\" title=\"-0.004\">d</span><span style=\"background-color: hsl(0, 100.00%, 99.53%); opacity: 0.80\" title=\"-0.000\"> </span><span style=\"background-color: hsl(120, 100.00%, 91.15%); opacity: 0.82\" title=\"0.003\">b</span><span style=\"background-color: hsl(120, 100.00%, 88.48%); opacity: 0.83\" title=\"0.004\">r</span><span style=\"background-color: hsl(120, 100.00%, 91.52%); opacity: 0.82\" title=\"0.003\">i</span><span style=\"background-color: hsl(120, 100.00%, 96.72%); opacity: 0.81\" title=\"0.001\">t</span><span style=\"background-color: hsl(120, 100.00%, 97.58%); opacity: 0.80\" title=\"0.000\">i</span><span style=\"background-color: hsl(0, 100.00%, 94.82%); opacity: 0.81\" title=\"-0.001\">s</span><span style=\"background-color: hsl(0, 100.00%, 94.08%); opacity: 0.81\" title=\"-0.002\">h</span><span style=\"background-color: hsl(0, 100.00%, 92.26%); opacity: 0.82\" title=\"-0.002\"> </span><span style=\"background-color: hsl(0, 100.00%, 90.72%); opacity: 0.82\" title=\"-0.003\">c</span><span style=\"background-color: hsl(0, 100.00%, 88.36%); opacity: 0.83\" title=\"-0.004\">o</span><span style=\"background-color: hsl(0, 100.00%, 86.83%); opacity: 0.84\" title=\"-0.005\">u</span><span style=\"background-color: hsl(0, 100.00%, 90.73%); opacity: 0.82\" title=\"-0.003\">p</span><span style=\"background-color: hsl(0, 100.00%, 92.99%); opacity: 0.82\" title=\"-0.002\">l</span><span style=\"background-color: hsl(0, 100.00%, 95.43%); opacity: 0.81\" title=\"-0.001\">e</span><span style=\"background-color: hsl(120, 100.00%, 96.33%); opacity: 0.81\" title=\"0.001\"> </span><span style=\"background-color: hsl(120, 100.00%, 93.85%); opacity: 0.81\" title=\"0.002\">w</span><span style=\"background-color: hsl(120, 100.00%, 89.54%); opacity: 0.83\" title=\"0.003\">i</span><span style=\"background-color: hsl(120, 100.00%, 90.00%); opacity: 0.83\" title=\"0.003\">f</span><span style=\"background-color: hsl(120, 100.00%, 92.01%); opacity: 0.82\" title=\"0.002\">e</span><span style=\"background-color: hsl(0, 100.00%, 98.49%); opacity: 0.80\" title=\"-0.000\"> </span><span style=\"background-color: hsl(0, 100.00%, 90.43%); opacity: 0.83\" title=\"-0.003\">p</span><span style=\"background-color: hsl(0, 100.00%, 85.91%); opacity: 0.85\" title=\"-0.005\">r</span><span style=\"background-color: hsl(0, 100.00%, 84.98%); opacity: 0.85\" title=\"-0.006\">e</span><span style=\"background-color: hsl(0, 100.00%, 88.11%); opacity: 0.84\" title=\"-0.004\">g</span><span style=\"background-color: hsl(0, 100.00%, 94.33%); opacity: 0.81\" title=\"-0.001\">n</span><span style=\"background-color: hsl(0, 100.00%, 99.45%); opacity: 0.80\" title=\"-0.000\">a</span><span style=\"background-color: hsl(0, 100.00%, 99.71%); opacity: 0.80\" title=\"-0.000\">n</span><span style=\"background-color: hsl(120, 100.00%, 96.31%); opacity: 0.81\" title=\"0.001\">t</span><span style=\"background-color: hsl(120, 100.00%, 97.54%); opacity: 0.80\" title=\"0.000\"> </span><span style=\"background-color: hsl(120, 100.00%, 94.51%); opacity: 0.81\" title=\"0.001\">s</span><span style=\"background-color: hsl(120, 100.00%, 94.10%); opacity: 0.81\" title=\"0.001\">t</span><span style=\"background-color: hsl(120, 100.00%, 95.10%); opacity: 0.81\" title=\"0.001\">r</span><span style=\"background-color: hsl(0, 100.00%, 93.48%); opacity: 0.81\" title=\"-0.002\">a</span><span style=\"background-color: hsl(0, 100.00%, 92.00%); opacity: 0.82\" title=\"-0.002\">n</span><span style=\"background-color: hsl(0, 100.00%, 88.13%); opacity: 0.84\" title=\"-0.004\">d</span><span style=\"background-color: hsl(0, 100.00%, 87.58%); opacity: 0.84\" title=\"-0.004\">e</span><span style=\"background-color: hsl(0, 100.00%, 88.59%); opacity: 0.83\" title=\"-0.004\">d</span><span style=\"background-color: hsl(0, 100.00%, 93.01%); opacity: 0.82\" title=\"-0.002\"> </span><span style=\"background-color: hsl(120, 100.00%, 96.56%); opacity: 0.81\" title=\"0.001\">a</span><span style=\"background-color: hsl(120, 100.00%, 90.67%); opacity: 0.83\" title=\"0.003\">f</span><span style=\"background-color: hsl(120, 100.00%, 89.17%); opacity: 0.83\" title=\"0.004\">r</span><span style=\"background-color: hsl(120, 100.00%, 90.28%); opacity: 0.83\" title=\"0.003\">i</span><span style=\"background-color: hsl(120, 100.00%, 94.97%); opacity: 0.81\" title=\"0.001\">c</span><span style=\"background-color: hsl(120, 100.00%, 98.11%); opacity: 0.80\" title=\"0.000\">a</span><span style=\"background-color: hsl(0, 100.00%, 97.68%); opacity: 0.80\" title=\"-0.000\">n</span><span style=\"background-color: hsl(120, 100.00%, 94.21%); opacity: 0.81\" title=\"0.001\"> </span><span style=\"background-color: hsl(120, 100.00%, 94.91%); opacity: 0.81\" title=\"0.001\">w</span><span style=\"background-color: hsl(120, 100.00%, 89.25%); opacity: 0.83\" title=\"0.004\">i</span><span style=\"background-color: hsl(120, 100.00%, 88.24%); opacity: 0.83\" title=\"0.004\">l</span><span style=\"background-color: hsl(120, 100.00%, 88.57%); opacity: 0.83\" title=\"0.004\">d</span><span style=\"background-color: hsl(120, 100.00%, 91.33%); opacity: 0.82\" title=\"0.003\">s</span><span style=\"background-color: hsl(120, 100.00%, 95.41%); opacity: 0.81\" title=\"0.001\"> </span><span style=\"background-color: hsl(120, 100.00%, 94.20%); opacity: 0.81\" title=\"0.001\">s</span><span style=\"background-color: hsl(120, 100.00%, 93.46%); opacity: 0.82\" title=\"0.002\">h</span><span style=\"background-color: hsl(120, 100.00%, 94.20%); opacity: 0.81\" title=\"0.001\">i</span><span style=\"background-color: hsl(0, 100.00%, 98.65%); opacity: 0.80\" title=\"-0.000\">p</span><span style=\"background-color: hsl(0, 100.00%, 89.45%); opacity: 0.83\" title=\"-0.003\">w</span><span style=\"background-color: hsl(0, 100.00%, 87.11%); opacity: 0.84\" title=\"-0.005\">r</span><span style=\"background-color: hsl(0, 100.00%, 87.33%); opacity: 0.84\" title=\"-0.004\">e</span><span style=\"background-color: hsl(0, 100.00%, 88.13%); opacity: 0.84\" title=\"-0.004\">c</span><span style=\"background-color: hsl(0, 100.00%, 88.75%); opacity: 0.83\" title=\"-0.004\">k</span><span style=\"background-color: hsl(0, 100.00%, 93.65%); opacity: 0.81\" title=\"-0.002\"> </span><span style=\"background-color: hsl(120, 100.00%, 99.36%); opacity: 0.80\" title=\"0.000\">p</span><span style=\"background-color: hsl(0, 100.00%, 99.76%); opacity: 0.80\" title=\"-0.000\">a</span><span style=\"background-color: hsl(120, 100.00%, 99.55%); opacity: 0.80\" title=\"0.000\">r</span><span style=\"background-color: hsl(120, 100.00%, 96.92%); opacity: 0.81\" title=\"0.001\">e</span><span style=\"background-color: hsl(120, 100.00%, 95.31%); opacity: 0.81\" title=\"0.001\">n</span><span style=\"background-color: hsl(120, 100.00%, 95.57%); opacity: 0.81\" title=\"0.001\">t</span><span style=\"background-color: hsl(120, 100.00%, 93.15%); opacity: 0.82\" title=\"0.002\">s</span><span style=\"background-color: hsl(120, 100.00%, 96.21%); opacity: 0.81\" title=\"0.001\"> </span><span style=\"background-color: hsl(0, 100.00%, 95.90%); opacity: 0.81\" title=\"-0.001\">d</span><span style=\"background-color: hsl(120, 100.00%, 94.29%); opacity: 0.81\" title=\"0.001\">e</span><span style=\"background-color: hsl(120, 100.00%, 94.79%); opacity: 0.81\" title=\"0.001\">a</span><span style=\"background-color: hsl(120, 100.00%, 92.35%); opacity: 0.82\" title=\"0.002\">t</span><span style=\"background-color: hsl(120, 100.00%, 96.24%); opacity: 0.81\" title=\"0.001\">h</span><span style=\"background-color: hsl(0, 100.00%, 99.21%); opacity: 0.80\" title=\"-0.000\">s</span><span style=\"background-color: hsl(0, 100.00%, 92.15%); opacity: 0.82\" title=\"-0.002\"> </span><span style=\"background-color: hsl(0, 100.00%, 91.17%); opacity: 0.82\" title=\"-0.003\">b</span><span style=\"background-color: hsl(0, 100.00%, 89.68%); opacity: 0.83\" title=\"-0.003\">a</span><span style=\"background-color: hsl(0, 100.00%, 98.31%); opacity: 0.80\" title=\"-0.000\">b</span><span style=\"background-color: hsl(120, 100.00%, 97.71%); opacity: 0.80\" title=\"0.000\">y</span><span style=\"background-color: hsl(120, 100.00%, 94.84%); opacity: 0.81\" title=\"0.001\"> </span><span style=\"background-color: hsl(120, 100.00%, 94.26%); opacity: 0.81\" title=\"0.001\">r</span><span style=\"background-color: hsl(120, 100.00%, 92.89%); opacity: 0.82\" title=\"0.002\">a</span><span style=\"background-color: hsl(120, 100.00%, 93.15%); opacity: 0.82\" title=\"0.002\">i</span><span style=\"background-color: hsl(120, 100.00%, 94.48%); opacity: 0.81\" title=\"0.001\">s</span><span style=\"background-color: hsl(120, 100.00%, 99.61%); opacity: 0.80\" title=\"0.000\">e</span><span style=\"background-color: hsl(120, 100.00%, 99.20%); opacity: 0.80\" title=\"0.000\">d</span><span style=\"background-color: hsl(0, 100.00%, 97.14%); opacity: 0.80\" title=\"-0.001\"> </span><span style=\"background-color: hsl(0, 100.00%, 95.11%); opacity: 0.81\" title=\"-0.001\">j</span><span style=\"background-color: hsl(0, 100.00%, 95.42%); opacity: 0.81\" title=\"-0.001\">u</span><span style=\"background-color: hsl(0, 100.00%, 92.61%); opacity: 0.82\" title=\"-0.002\">n</span><span style=\"background-color: hsl(0, 100.00%, 95.34%); opacity: 0.81\" title=\"-0.001\">g</span><span style=\"background-color: hsl(0, 100.00%, 91.94%); opacity: 0.82\" title=\"-0.002\">l</span><span style=\"background-color: hsl(0, 100.00%, 90.99%); opacity: 0.82\" title=\"-0.003\">e</span><span style=\"background-color: hsl(0, 100.00%, 89.37%); opacity: 0.83\" title=\"-0.003\"> </span><span style=\"background-color: hsl(0, 100.00%, 87.24%); opacity: 0.84\" title=\"-0.005\">a</span><span style=\"background-color: hsl(0, 100.00%, 83.47%); opacity: 0.86\" title=\"-0.007\">p</span><span style=\"background-color: hsl(0, 100.00%, 87.58%); opacity: 0.84\" title=\"-0.004\">e</span><span style=\"background-color: hsl(0, 100.00%, 92.64%); opacity: 0.82\" title=\"-0.002\">s</span><span style=\"background-color: hsl(120, 100.00%, 98.43%); opacity: 0.80\" title=\"0.000\"> </span><span style=\"background-color: hsl(120, 100.00%, 95.89%); opacity: 0.81\" title=\"0.001\">t</span><span style=\"background-color: hsl(0, 100.00%, 96.50%); opacity: 0.81\" title=\"-0.001\">w</span><span style=\"background-color: hsl(120, 100.00%, 97.11%); opacity: 0.80\" title=\"0.001\">e</span><span style=\"background-color: hsl(120, 100.00%, 89.63%); opacity: 0.83\" title=\"0.003\">n</span><span style=\"background-color: hsl(120, 100.00%, 85.48%); opacity: 0.85\" title=\"0.005\">t</span><span style=\"background-color: hsl(120, 100.00%, 81.29%); opacity: 0.87\" title=\"0.008\">y</span><span style=\"background-color: hsl(120, 100.00%, 79.72%); opacity: 0.88\" title=\"0.009\"> </span><span style=\"background-color: hsl(120, 100.00%, 78.33%); opacity: 0.88\" title=\"0.010\">y</span><span style=\"background-color: hsl(120, 100.00%, 77.11%); opacity: 0.89\" title=\"0.010\">e</span><span style=\"background-color: hsl(120, 100.00%, 77.31%); opacity: 0.89\" title=\"0.010\">a</span><span style=\"background-color: hsl(120, 100.00%, 78.72%); opacity: 0.88\" title=\"0.009\">r</span><span style=\"background-color: hsl(120, 100.00%, 81.71%); opacity: 0.87\" title=\"0.008\">s</span><span style=\"background-color: hsl(120, 100.00%, 83.02%); opacity: 0.86\" title=\"0.007\"> </span><span style=\"background-color: hsl(120, 100.00%, 81.87%); opacity: 0.86\" title=\"0.007\">l</span><span style=\"background-color: hsl(120, 100.00%, 82.22%); opacity: 0.86\" title=\"0.007\">a</span><span style=\"background-color: hsl(120, 100.00%, 83.85%); opacity: 0.85\" title=\"0.006\">t</span><span style=\"background-color: hsl(120, 100.00%, 87.36%); opacity: 0.84\" title=\"0.004\">e</span><span style=\"background-color: hsl(120, 100.00%, 91.71%); opacity: 0.82\" title=\"0.002\">r</span><span style=\"background-color: hsl(120, 100.00%, 90.41%); opacity: 0.83\" title=\"0.003\"> </span><span style=\"background-color: hsl(120, 100.00%, 87.83%); opacity: 0.84\" title=\"0.004\">y</span><span style=\"background-color: hsl(120, 100.00%, 84.66%); opacity: 0.85\" title=\"0.006\">o</span><span style=\"background-color: hsl(120, 100.00%, 81.54%); opacity: 0.87\" title=\"0.008\">u</span><span style=\"background-color: hsl(120, 100.00%, 83.74%); opacity: 0.86\" title=\"0.006\">n</span><span style=\"background-color: hsl(120, 100.00%, 86.10%); opacity: 0.84\" title=\"0.005\">g</span><span style=\"background-color: hsl(120, 100.00%, 88.00%); opacity: 0.84\" title=\"0.004\"> </span><span style=\"background-color: hsl(120, 100.00%, 88.75%); opacity: 0.83\" title=\"0.004\">m</span><span style=\"background-color: hsl(120, 100.00%, 88.57%); opacity: 0.83\" title=\"0.004\">a</span><span style=\"background-color: hsl(120, 100.00%, 90.71%); opacity: 0.82\" title=\"0.003\">n</span><span style=\"background-color: hsl(120, 100.00%, 94.62%); opacity: 0.81\" title=\"0.001\"> </span><span style=\"background-color: hsl(0, 100.00%, 98.48%); opacity: 0.80\" title=\"-0.000\">i</span><span style=\"background-color: hsl(120, 100.00%, 98.00%); opacity: 0.80\" title=\"0.000\">e</span><span style=\"background-color: hsl(120, 100.00%, 97.81%); opacity: 0.80\" title=\"0.000\"> </span><span style=\"background-color: hsl(120, 100.00%, 97.26%); opacity: 0.80\" title=\"0.000\">t</span><span style=\"background-color: hsl(120, 100.00%, 93.83%); opacity: 0.81\" title=\"0.002\">a</span><span style=\"background-color: hsl(120, 100.00%, 91.92%); opacity: 0.82\" title=\"0.002\">r</span><span style=\"background-color: hsl(120, 100.00%, 87.98%); opacity: 0.84\" title=\"0.004\">z</span><span style=\"background-color: hsl(120, 100.00%, 90.80%); opacity: 0.82\" title=\"0.003\">a</span><span style=\"background-color: hsl(120, 100.00%, 95.03%); opacity: 0.81\" title=\"0.001\">n</span><span style=\"background-color: hsl(0, 100.00%, 93.53%); opacity: 0.81\" title=\"-0.002\"> </span><span style=\"background-color: hsl(0, 100.00%, 87.92%); opacity: 0.84\" title=\"-0.004\">r</span><span style=\"background-color: hsl(0, 100.00%, 87.04%); opacity: 0.84\" title=\"-0.005\">e</span><span style=\"background-color: hsl(0, 100.00%, 86.27%); opacity: 0.84\" title=\"-0.005\">s</span><span style=\"background-color: hsl(0, 100.00%, 85.72%); opacity: 0.85\" title=\"-0.005\">c</span><span style=\"background-color: hsl(0, 100.00%, 88.08%); opacity: 0.84\" title=\"-0.004\">u</span><span style=\"background-color: hsl(0, 100.00%, 93.20%); opacity: 0.82\" title=\"-0.002\">e</span><span style=\"background-color: hsl(0, 100.00%, 98.79%); opacity: 0.80\" title=\"-0.000\">s</span><span style=\"background-color: hsl(0, 100.00%, 94.83%); opacity: 0.81\" title=\"-0.001\"> </span><span style=\"background-color: hsl(0, 100.00%, 90.12%); opacity: 0.83\" title=\"-0.003\">w</span><span style=\"background-color: hsl(0, 100.00%, 89.94%); opacity: 0.83\" title=\"-0.003\">o</span><span style=\"background-color: hsl(0, 100.00%, 92.99%); opacity: 0.82\" title=\"-0.002\">u</span><span style=\"background-color: hsl(120, 100.00%, 97.70%); opacity: 0.80\" title=\"0.000\">n</span><span style=\"background-color: hsl(0, 100.00%, 97.71%); opacity: 0.80\" title=\"-0.000\">d</span><span style=\"background-color: hsl(0, 100.00%, 94.58%); opacity: 0.81\" title=\"-0.001\">e</span><span style=\"background-color: hsl(0, 100.00%, 89.80%); opacity: 0.83\" title=\"-0.003\">d</span><span style=\"background-color: hsl(0, 100.00%, 93.37%); opacity: 0.82\" title=\"-0.002\"> </span><span style=\"background-color: hsl(0, 100.00%, 96.01%); opacity: 0.81\" title=\"-0.001\">b</span><span style=\"background-color: hsl(0, 100.00%, 98.93%); opacity: 0.80\" title=\"-0.000\">e</span><span style=\"background-color: hsl(0, 100.00%, 94.82%); opacity: 0.81\" title=\"-0.001\">l</span><span style=\"background-color: hsl(0, 100.00%, 94.61%); opacity: 0.81\" title=\"-0.001\">g</span><span style=\"background-color: hsl(0, 100.00%, 92.90%); opacity: 0.82\" title=\"-0.002\">i</span><span style=\"background-color: hsl(0, 100.00%, 97.57%); opacity: 0.80\" title=\"-0.000\">a</span><span style=\"background-color: hsl(120, 100.00%, 96.52%); opacity: 0.81\" title=\"0.001\">n</span><span style=\"background-color: hsl(120, 100.00%, 94.00%); opacity: 0.81\" title=\"0.002\"> </span><span style=\"background-color: hsl(120, 100.00%, 92.62%); opacity: 0.82\" title=\"0.002\">e</span><span style=\"background-color: hsl(120, 100.00%, 92.62%); opacity: 0.82\" title=\"0.002\">x</span><span style=\"background-color: hsl(120, 100.00%, 96.73%); opacity: 0.81\" title=\"0.001\">p</span><span style=\"background-color: hsl(120, 100.00%, 95.67%); opacity: 0.81\" title=\"0.001\">l</span><span style=\"background-color: hsl(120, 100.00%, 95.42%); opacity: 0.81\" title=\"0.001\">o</span><span style=\"background-color: hsl(120, 100.00%, 92.84%); opacity: 0.82\" title=\"0.002\">r</span><span style=\"background-color: hsl(0, 100.00%, 97.54%); opacity: 0.80\" title=\"-0.000\">e</span><span style=\"background-color: hsl(0, 100.00%, 93.83%); opacity: 0.81\" title=\"-0.002\">r</span><span style=\"background-color: hsl(0, 100.00%, 92.52%); opacity: 0.82\" title=\"-0.002\"> </span><span style=\"background-color: hsl(0, 100.00%, 93.03%); opacity: 0.82\" title=\"-0.002\">n</span><span style=\"background-color: hsl(0, 100.00%, 94.75%); opacity: 0.81\" title=\"-0.001\">u</span><span style=\"background-color: hsl(120, 100.00%, 98.95%); opacity: 0.80\" title=\"0.000\">r</span><span style=\"background-color: hsl(0, 100.00%, 98.26%); opacity: 0.80\" title=\"-0.000\">s</span><span style=\"background-color: hsl(0, 100.00%, 92.62%); opacity: 0.82\" title=\"-0.002\">i</span><span style=\"background-color: hsl(0, 100.00%, 89.77%); opacity: 0.83\" title=\"-0.003\">n</span><span style=\"background-color: hsl(0, 100.00%, 89.93%); opacity: 0.83\" title=\"-0.003\">g</span><span style=\"background-color: hsl(0, 100.00%, 88.52%); opacity: 0.83\" title=\"-0.004\"> </span><span style=\"background-color: hsl(0, 100.00%, 94.13%); opacity: 0.81\" title=\"-0.001\">b</span><span style=\"background-color: hsl(0, 100.00%, 94.52%); opacity: 0.81\" title=\"-0.001\">a</span><span style=\"background-color: hsl(120, 100.00%, 93.92%); opacity: 0.81\" title=\"0.002\">c</span><span style=\"background-color: hsl(120, 100.00%, 98.20%); opacity: 0.80\" title=\"0.000\">k</span><span style=\"background-color: hsl(120, 100.00%, 94.51%); opacity: 0.81\" title=\"0.001\"> </span><span style=\"background-color: hsl(120, 100.00%, 93.29%); opacity: 0.82\" title=\"0.002\">h</span><span style=\"background-color: hsl(120, 100.00%, 89.74%); opacity: 0.83\" title=\"0.003\">e</span><span style=\"background-color: hsl(120, 100.00%, 87.70%); opacity: 0.84\" title=\"0.004\">a</span><span style=\"background-color: hsl(120, 100.00%, 88.10%); opacity: 0.84\" title=\"0.004\">l</span><span style=\"background-color: hsl(120, 100.00%, 87.87%); opacity: 0.84\" title=\"0.004\">t</span><span style=\"background-color: hsl(120, 100.00%, 93.28%); opacity: 0.82\" title=\"0.002\">h</span><span style=\"background-color: hsl(120, 100.00%, 94.82%); opacity: 0.81\" title=\"0.001\"> </span><span style=\"background-color: hsl(0, 100.00%, 96.44%); opacity: 0.81\" title=\"-0.001\">b</span><span style=\"background-color: hsl(120, 100.00%, 98.20%); opacity: 0.80\" title=\"0.000\">e</span><span style=\"background-color: hsl(0, 100.00%, 97.66%); opacity: 0.80\" title=\"-0.000\">l</span><span style=\"background-color: hsl(0, 100.00%, 94.71%); opacity: 0.81\" title=\"-0.001\">g</span><span style=\"background-color: hsl(0, 100.00%, 93.14%); opacity: 0.82\" title=\"-0.002\">i</span><span style=\"background-color: hsl(0, 100.00%, 95.15%); opacity: 0.81\" title=\"-0.001\">a</span><span style=\"background-color: hsl(0, 100.00%, 98.20%); opacity: 0.80\" title=\"-0.000\">n</span><span style=\"background-color: hsl(120, 100.00%, 98.31%); opacity: 0.80\" title=\"0.000\"> </span><span style=\"background-color: hsl(120, 100.00%, 93.47%); opacity: 0.82\" title=\"0.002\">d</span><span style=\"background-color: hsl(120, 100.00%, 85.30%); opacity: 0.85\" title=\"0.006\">i</span><span style=\"background-color: hsl(120, 100.00%, 78.94%); opacity: 0.88\" title=\"0.009\">s</span><span style=\"background-color: hsl(120, 100.00%, 74.00%); opacity: 0.91\" title=\"0.012\">c</span><span style=\"background-color: hsl(120, 100.00%, 73.53%); opacity: 0.91\" title=\"0.013\">o</span><span style=\"background-color: hsl(120, 100.00%, 76.16%); opacity: 0.90\" title=\"0.011\">v</span><span style=\"background-color: hsl(120, 100.00%, 80.78%); opacity: 0.87\" title=\"0.008\">e</span><span style=\"background-color: hsl(120, 100.00%, 87.53%); opacity: 0.84\" title=\"0.004\">r</span><span style=\"background-color: hsl(120, 100.00%, 90.82%); opacity: 0.82\" title=\"0.003\">s</span><span style=\"background-color: hsl(120, 100.00%, 99.00%); opacity: 0.80\" title=\"0.000\"> </span><span style=\"background-color: hsl(0, 100.00%, 93.33%); opacity: 0.82\" title=\"-0.002\">e</span><span style=\"background-color: hsl(0, 100.00%, 90.56%); opacity: 0.83\" title=\"-0.003\">v</span><span style=\"background-color: hsl(0, 100.00%, 91.73%); opacity: 0.82\" title=\"-0.002\">i</span><span style=\"background-color: hsl(0, 100.00%, 93.27%); opacity: 0.82\" title=\"-0.002\">d</span><span style=\"background-color: hsl(0, 100.00%, 94.68%); opacity: 0.81\" title=\"-0.001\">e</span><span style=\"background-color: hsl(120, 100.00%, 97.32%); opacity: 0.80\" title=\"0.000\">n</span><span style=\"background-color: hsl(120, 100.00%, 93.14%); opacity: 0.82\" title=\"0.002\">c</span><span style=\"background-color: hsl(120, 100.00%, 91.83%); opacity: 0.82\" title=\"0.002\">e</span><span style=\"background-color: hsl(120, 100.00%, 95.78%); opacity: 0.81\" title=\"0.001\"> </span><span style=\"background-color: hsl(0, 100.00%, 95.88%); opacity: 0.81\" title=\"-0.001\">r</span><span style=\"background-color: hsl(0, 100.00%, 89.69%); opacity: 0.83\" title=\"-0.003\">e</span><span style=\"background-color: hsl(0, 100.00%, 86.21%); opacity: 0.84\" title=\"-0.005\">s</span><span style=\"background-color: hsl(0, 100.00%, 86.64%); opacity: 0.84\" title=\"-0.005\">c</span><span style=\"background-color: hsl(0, 100.00%, 88.51%); opacity: 0.83\" title=\"-0.004\">u</span><span style=\"background-color: hsl(0, 100.00%, 92.43%); opacity: 0.82\" title=\"-0.002\">e</span><span style=\"background-color: hsl(120, 100.00%, 98.87%); opacity: 0.80\" title=\"0.000\">r</span><span style=\"background-color: hsl(120, 100.00%, 92.04%); opacity: 0.82\" title=\"0.002\"> </span><span style=\"background-color: hsl(120, 100.00%, 88.06%); opacity: 0.84\" title=\"0.004\">y</span><span style=\"background-color: hsl(120, 100.00%, 84.67%); opacity: 0.85\" title=\"0.006\">o</span><span style=\"background-color: hsl(120, 100.00%, 81.80%); opacity: 0.86\" title=\"0.007\">u</span><span style=\"background-color: hsl(120, 100.00%, 84.75%); opacity: 0.85\" title=\"0.006\">n</span><span style=\"background-color: hsl(120, 100.00%, 87.74%); opacity: 0.84\" title=\"0.004\">g</span><span style=\"background-color: hsl(120, 100.00%, 92.17%); opacity: 0.82\" title=\"0.002\"> </span><span style=\"background-color: hsl(120, 100.00%, 94.37%); opacity: 0.81\" title=\"0.001\">l</span><span style=\"background-color: hsl(120, 100.00%, 96.16%); opacity: 0.81\" title=\"0.001\">o</span><span style=\"background-color: hsl(0, 100.00%, 95.73%); opacity: 0.81\" title=\"-0.001\">r</span><span style=\"background-color: hsl(0, 100.00%, 92.57%); opacity: 0.82\" title=\"-0.002\">d</span><span style=\"background-color: hsl(120, 100.00%, 95.32%); opacity: 0.81\" title=\"0.001\"> </span><span style=\"background-color: hsl(120, 100.00%, 89.27%); opacity: 0.83\" title=\"0.004\">g</span><span style=\"background-color: hsl(120, 100.00%, 85.82%); opacity: 0.85\" title=\"0.005\">r</span><span style=\"background-color: hsl(120, 100.00%, 87.61%); opacity: 0.84\" title=\"0.004\">e</span><span style=\"background-color: hsl(0, 100.00%, 98.51%); opacity: 0.80\" title=\"-0.000\">y</span><span style=\"background-color: hsl(0, 100.00%, 98.83%); opacity: 0.80\" title=\"-0.000\">s</span><span style=\"background-color: hsl(0, 100.00%, 96.20%); opacity: 0.81\" title=\"-0.001\">t</span><span style=\"background-color: hsl(0, 100.00%, 91.03%); opacity: 0.82\" title=\"-0.003\">o</span><span style=\"background-color: hsl(0, 100.00%, 88.88%); opacity: 0.83\" title=\"-0.004\">k</span><span style=\"background-color: hsl(0, 100.00%, 92.48%); opacity: 0.82\" title=\"-0.002\">e</span><span style=\"background-color: hsl(120, 100.00%, 98.07%); opacity: 0.80\" title=\"0.000\"> </span><span style=\"background-color: hsl(120, 100.00%, 91.14%); opacity: 0.82\" title=\"0.003\">r</span><span style=\"background-color: hsl(120, 100.00%, 90.50%); opacity: 0.83\" title=\"0.003\">e</span><span style=\"background-color: hsl(120, 100.00%, 89.64%); opacity: 0.83\" title=\"0.003\">t</span><span style=\"background-color: hsl(120, 100.00%, 87.69%); opacity: 0.84\" title=\"0.004\">u</span><span style=\"background-color: hsl(120, 100.00%, 87.48%); opacity: 0.84\" title=\"0.004\">r</span><span style=\"background-color: hsl(120, 100.00%, 90.06%); opacity: 0.83\" title=\"0.003\">n</span><span style=\"background-color: hsl(120, 100.00%, 89.80%); opacity: 0.83\" title=\"0.003\">s</span><span style=\"background-color: hsl(120, 100.00%, 88.14%); opacity: 0.84\" title=\"0.004\"> </span><span style=\"background-color: hsl(120, 100.00%, 89.30%); opacity: 0.83\" title=\"0.004\">r</span><span style=\"background-color: hsl(120, 100.00%, 83.63%); opacity: 0.86\" title=\"0.006\">i</span><span style=\"background-color: hsl(120, 100.00%, 78.03%); opacity: 0.88\" title=\"0.010\">g</span><span style=\"background-color: hsl(120, 100.00%, 72.95%); opacity: 0.91\" title=\"0.013\">h</span><span style=\"background-color: hsl(120, 100.00%, 72.29%); opacity: 0.92\" title=\"0.014\">t</span><span style=\"background-color: hsl(120, 100.00%, 74.32%); opacity: 0.91\" title=\"0.012\">f</span><span style=\"background-color: hsl(120, 100.00%, 79.81%); opacity: 0.88\" title=\"0.009\">u</span><span style=\"background-color: hsl(120, 100.00%, 86.03%); opacity: 0.84\" title=\"0.005\">l</span><span style=\"background-color: hsl(120, 100.00%, 90.96%); opacity: 0.82\" title=\"0.003\"> </span><span style=\"background-color: hsl(120, 100.00%, 95.08%); opacity: 0.81\" title=\"0.001\">e</span><span style=\"background-color: hsl(120, 100.00%, 96.48%); opacity: 0.81\" title=\"0.001\">s</span><span style=\"background-color: hsl(0, 100.00%, 94.92%); opacity: 0.81\" title=\"-0.001\">t</span><span style=\"background-color: hsl(0, 100.00%, 94.26%); opacity: 0.81\" title=\"-0.001\">a</span><span style=\"background-color: hsl(0, 100.00%, 97.20%); opacity: 0.80\" title=\"-0.001\">t</span><span style=\"background-color: hsl(0, 100.00%, 99.66%); opacity: 0.80\" title=\"-0.000\">e</span><span style=\"background-color: hsl(0, 100.00%, 96.08%); opacity: 0.81\" title=\"-0.001\"> </span><span style=\"background-color: hsl(0, 100.00%, 96.86%); opacity: 0.81\" title=\"-0.001\">s</span><span style=\"background-color: hsl(0, 100.00%, 92.58%); opacity: 0.82\" title=\"-0.002\">c</span><span style=\"background-color: hsl(0, 100.00%, 95.87%); opacity: 0.81\" title=\"-0.001\">o</span><span style=\"background-color: hsl(0, 100.00%, 92.44%); opacity: 0.82\" title=\"-0.002\">t</span><span style=\"background-color: hsl(0, 100.00%, 94.13%); opacity: 0.81\" title=\"-0.001\">l</span><span style=\"background-color: hsl(0, 100.00%, 94.59%); opacity: 0.81\" title=\"-0.001\">a</span><span style=\"background-color: hsl(0, 100.00%, 96.07%); opacity: 0.81\" title=\"-0.001\">n</span><span style=\"background-color: hsl(0, 100.00%, 95.23%); opacity: 0.81\" title=\"-0.001\">d</span><span style=\"background-color: hsl(120, 100.00%, 99.76%); opacity: 0.80\" title=\"0.000\"> </span><span style=\"background-color: hsl(120, 100.00%, 95.57%); opacity: 0.81\" title=\"0.001\">m</span><span style=\"background-color: hsl(120, 100.00%, 90.98%); opacity: 0.82\" title=\"0.003\">u</span><span style=\"background-color: hsl(120, 100.00%, 91.22%); opacity: 0.82\" title=\"0.003\">s</span><span style=\"background-color: hsl(120, 100.00%, 94.10%); opacity: 0.81\" title=\"0.001\">t</span><span style=\"background-color: hsl(120, 100.00%, 94.16%); opacity: 0.81\" title=\"0.001\"> </span><span style=\"background-color: hsl(120, 100.00%, 92.37%); opacity: 0.82\" title=\"0.002\">a</span><span style=\"background-color: hsl(120, 100.00%, 88.95%); opacity: 0.83\" title=\"0.004\">d</span><span style=\"background-color: hsl(120, 100.00%, 89.93%); opacity: 0.83\" title=\"0.003\">j</span><span style=\"background-color: hsl(120, 100.00%, 89.39%); opacity: 0.83\" title=\"0.003\">u</span><span style=\"background-color: hsl(120, 100.00%, 92.19%); opacity: 0.82\" title=\"0.002\">s</span><span style=\"background-color: hsl(120, 100.00%, 94.91%); opacity: 0.81\" title=\"0.001\">t</span><span style=\"background-color: hsl(120, 100.00%, 96.55%); opacity: 0.81\" title=\"0.001\"> </span><span style=\"background-color: hsl(120, 100.00%, 97.33%); opacity: 0.80\" title=\"0.000\">c</span><span style=\"background-color: hsl(120, 100.00%, 94.88%); opacity: 0.81\" title=\"0.001\">i</span><span style=\"background-color: hsl(120, 100.00%, 94.82%); opacity: 0.81\" title=\"0.001\">v</span><span style=\"background-color: hsl(120, 100.00%, 96.23%); opacity: 0.81\" title=\"0.001\">i</span><span style=\"background-color: hsl(120, 100.00%, 95.52%); opacity: 0.81\" title=\"0.001\">l</span><span style=\"background-color: hsl(120, 100.00%, 94.17%); opacity: 0.81\" title=\"0.001\">i</span><span style=\"background-color: hsl(120, 100.00%, 93.29%); opacity: 0.82\" title=\"0.002\">z</span><span style=\"background-color: hsl(120, 100.00%, 95.34%); opacity: 0.81\" title=\"0.001\">e</span><span style=\"background-color: hsl(120, 100.00%, 94.51%); opacity: 0.81\" title=\"0.001\">d</span><span style=\"background-color: hsl(120, 100.00%, 92.25%); opacity: 0.82\" title=\"0.002\"> </span><span style=\"background-color: hsl(120, 100.00%, 87.62%); opacity: 0.84\" title=\"0.004\">s</span><span style=\"background-color: hsl(120, 100.00%, 84.39%); opacity: 0.85\" title=\"0.006\">o</span><span style=\"background-color: hsl(120, 100.00%, 81.79%); opacity: 0.86\" title=\"0.007\">c</span><span style=\"background-color: hsl(120, 100.00%, 80.21%); opacity: 0.87\" title=\"0.008\">i</span><span style=\"background-color: hsl(120, 100.00%, 80.96%); opacity: 0.87\" title=\"0.008\">e</span><span style=\"background-color: hsl(120, 100.00%, 84.19%); opacity: 0.85\" title=\"0.006\">t</span><span style=\"background-color: hsl(120, 100.00%, 89.64%); opacity: 0.83\" title=\"0.003\">y</span><span style=\"background-color: hsl(120, 100.00%, 96.87%); opacity: 0.81\" title=\"0.001\"> </span><span style=\"background-color: hsl(0, 100.00%, 93.53%); opacity: 0.81\" title=\"-0.002\">m</span><span style=\"background-color: hsl(0, 100.00%, 93.21%); opacity: 0.82\" title=\"-0.002\">o</span><span style=\"background-color: hsl(0, 100.00%, 92.98%); opacity: 0.82\" title=\"-0.002\">v</span><span style=\"background-color: hsl(0, 100.00%, 93.03%); opacity: 0.82\" title=\"-0.002\">i</span><span style=\"background-color: hsl(0, 100.00%, 92.55%); opacity: 0.82\" title=\"-0.002\">e</span><span style=\"background-color: hsl(0, 100.00%, 90.15%); opacity: 0.83\" title=\"-0.003\"> </span><span style=\"background-color: hsl(0, 100.00%, 88.04%); opacity: 0.84\" title=\"-0.004\">s</span><span style=\"background-color: hsl(0, 100.00%, 87.38%); opacity: 0.84\" title=\"-0.004\">o</span><span style=\"background-color: hsl(0, 100.00%, 89.50%); opacity: 0.83\" title=\"-0.003\">r</span><span style=\"background-color: hsl(0, 100.00%, 96.02%); opacity: 0.81\" title=\"-0.001\">t</span><span style=\"background-color: hsl(0, 100.00%, 97.04%); opacity: 0.80\" title=\"-0.001\"> </span><span style=\"background-color: hsl(120, 100.00%, 94.70%); opacity: 0.81\" title=\"0.001\">d</span><span style=\"background-color: hsl(120, 100.00%, 92.53%); opacity: 0.82\" title=\"0.002\">i</span><span style=\"background-color: hsl(120, 100.00%, 89.73%); opacity: 0.83\" title=\"0.003\">v</span><span style=\"background-color: hsl(120, 100.00%, 94.17%); opacity: 0.81\" title=\"0.001\">i</span><span style=\"background-color: hsl(0, 100.00%, 99.69%); opacity: 0.80\" title=\"-0.000\">d</span><span style=\"background-color: hsl(0, 100.00%, 93.83%); opacity: 0.81\" title=\"-0.002\">e</span><span style=\"background-color: hsl(0, 100.00%, 93.23%); opacity: 0.82\" title=\"-0.002\">d</span><span style=\"background-color: hsl(0, 100.00%, 96.46%); opacity: 0.81\" title=\"-0.001\"> </span><span style=\"background-color: hsl(120, 100.00%, 95.76%); opacity: 0.81\" title=\"0.001\">t</span><span style=\"background-color: hsl(120, 100.00%, 93.89%); opacity: 0.81\" title=\"0.002\">w</span><span style=\"background-color: hsl(120, 100.00%, 92.20%); opacity: 0.82\" title=\"0.002\">o</span><span style=\"background-color: hsl(120, 100.00%, 91.17%); opacity: 0.82\" title=\"0.003\"> </span><span style=\"background-color: hsl(120, 100.00%, 89.55%); opacity: 0.83\" title=\"0.003\">p</span><span style=\"background-color: hsl(120, 100.00%, 87.98%); opacity: 0.84\" title=\"0.004\">a</span><span style=\"background-color: hsl(120, 100.00%, 89.22%); opacity: 0.83\" title=\"0.004\">r</span><span style=\"background-color: hsl(120, 100.00%, 91.61%); opacity: 0.82\" title=\"0.002\">t</span><span style=\"background-color: hsl(120, 100.00%, 90.55%); opacity: 0.83\" title=\"0.003\">s</span><span style=\"background-color: hsl(120, 100.00%, 88.46%); opacity: 0.83\" title=\"0.004\"> </span><span style=\"background-color: hsl(120, 100.00%, 86.53%); opacity: 0.84\" title=\"0.005\">f</span><span style=\"background-color: hsl(120, 100.00%, 86.03%); opacity: 0.84\" title=\"0.005\">i</span><span style=\"background-color: hsl(120, 100.00%, 96.03%); opacity: 0.81\" title=\"0.001\">r</span><span style=\"background-color: hsl(0, 100.00%, 95.04%); opacity: 0.81\" title=\"-0.001\">s</span><span style=\"background-color: hsl(0, 100.00%, 88.35%); opacity: 0.83\" title=\"-0.004\">t</span><span style=\"background-color: hsl(0, 100.00%, 82.60%); opacity: 0.86\" title=\"-0.007\"> </span><span style=\"background-color: hsl(0, 100.00%, 78.34%); opacity: 0.88\" title=\"-0.010\">h</span><span style=\"background-color: hsl(0, 100.00%, 74.29%); opacity: 0.91\" title=\"-0.012\">a</span><span style=\"background-color: hsl(0, 100.00%, 73.04%); opacity: 0.91\" title=\"-0.013\">l</span><span style=\"background-color: hsl(0, 100.00%, 76.62%); opacity: 0.89\" title=\"-0.011\">f</span><span style=\"background-color: hsl(0, 100.00%, 87.17%); opacity: 0.84\" title=\"-0.005\"> </span><span style=\"background-color: hsl(120, 100.00%, 92.91%); opacity: 0.82\" title=\"0.002\">s</span><span style=\"background-color: hsl(120, 100.00%, 87.97%); opacity: 0.84\" title=\"0.004\">e</span><span style=\"background-color: hsl(120, 100.00%, 89.58%); opacity: 0.83\" title=\"0.003\">e</span><span style=\"background-color: hsl(120, 100.00%, 91.47%); opacity: 0.82\" title=\"0.003\"> </span><span style=\"background-color: hsl(120, 100.00%, 95.82%); opacity: 0.81\" title=\"0.001\">t</span><span style=\"background-color: hsl(120, 100.00%, 94.10%); opacity: 0.81\" title=\"0.001\">a</span><span style=\"background-color: hsl(120, 100.00%, 91.79%); opacity: 0.82\" title=\"0.002\">r</span><span style=\"background-color: hsl(120, 100.00%, 87.95%); opacity: 0.84\" title=\"0.004\">z</span><span style=\"background-color: hsl(120, 100.00%, 87.51%); opacity: 0.84\" title=\"0.004\">a</span><span style=\"background-color: hsl(120, 100.00%, 88.61%); opacity: 0.83\" title=\"0.004\">n</span><span style=\"background-color: hsl(120, 100.00%, 93.51%); opacity: 0.81\" title=\"0.002\"> </span><span style=\"background-color: hsl(0, 100.00%, 97.33%); opacity: 0.80\" title=\"-0.000\">j</span><span style=\"background-color: hsl(0, 100.00%, 97.09%); opacity: 0.80\" title=\"-0.001\">u</span><span style=\"background-color: hsl(0, 100.00%, 93.82%); opacity: 0.81\" title=\"-0.002\">n</span><span style=\"background-color: hsl(0, 100.00%, 95.92%); opacity: 0.81\" title=\"-0.001\">g</span><span style=\"background-color: hsl(0, 100.00%, 92.81%); opacity: 0.82\" title=\"-0.002\">l</span><span style=\"background-color: hsl(0, 100.00%, 97.51%); opacity: 0.80\" title=\"-0.000\">e</span><span style=\"background-color: hsl(120, 100.00%, 94.59%); opacity: 0.81\" title=\"0.001\"> </span><span style=\"background-color: hsl(120, 100.00%, 91.11%); opacity: 0.82\" title=\"0.003\">e</span><span style=\"background-color: hsl(120, 100.00%, 92.00%); opacity: 0.82\" title=\"0.002\">n</span><span style=\"background-color: hsl(120, 100.00%, 93.78%); opacity: 0.81\" title=\"0.002\">v</span><span style=\"background-color: hsl(120, 100.00%, 94.08%); opacity: 0.81\" title=\"0.002\">i</span><span style=\"background-color: hsl(120, 100.00%, 93.02%); opacity: 0.82\" title=\"0.002\">r</span><span style=\"background-color: hsl(120, 100.00%, 91.99%); opacity: 0.82\" title=\"0.002\">o</span><span style=\"background-color: hsl(120, 100.00%, 92.26%); opacity: 0.82\" title=\"0.002\">n</span><span style=\"background-color: hsl(120, 100.00%, 92.85%); opacity: 0.82\" title=\"0.002\">m</span><span style=\"background-color: hsl(120, 100.00%, 92.40%); opacity: 0.82\" title=\"0.002\">e</span><span style=\"background-color: hsl(120, 100.00%, 96.85%); opacity: 0.81\" title=\"0.001\">n</span><span style=\"background-color: hsl(120, 100.00%, 98.32%); opacity: 0.80\" title=\"0.000\">t</span><span style=\"background-color: hsl(120, 100.00%, 97.08%); opacity: 0.80\" title=\"0.001\"> </span><span style=\"background-color: hsl(120, 100.00%, 92.59%); opacity: 0.82\" title=\"0.002\">e</span><span style=\"background-color: hsl(120, 100.00%, 88.36%); opacity: 0.83\" title=\"0.004\">x</span><span style=\"background-color: hsl(120, 100.00%, 86.28%); opacity: 0.84\" title=\"0.005\">p</span><span style=\"background-color: hsl(120, 100.00%, 85.61%); opacity: 0.85\" title=\"0.005\">e</span><span style=\"background-color: hsl(120, 100.00%, 87.84%); opacity: 0.84\" title=\"0.004\">r</span><span style=\"background-color: hsl(120, 100.00%, 92.72%); opacity: 0.82\" title=\"0.002\">t</span><span style=\"background-color: hsl(0, 100.00%, 96.01%); opacity: 0.81\" title=\"-0.001\"> </span><span style=\"background-color: hsl(0, 100.00%, 91.27%); opacity: 0.82\" title=\"-0.003\">u</span><span style=\"background-color: hsl(0, 100.00%, 87.80%); opacity: 0.84\" title=\"-0.004\">n</span><span style=\"background-color: hsl(0, 100.00%, 93.07%); opacity: 0.82\" title=\"-0.002\">a</span><span style=\"background-color: hsl(120, 100.00%, 96.92%); opacity: 0.81\" title=\"0.001\">w</span><span style=\"background-color: hsl(120, 100.00%, 94.89%); opacity: 0.81\" title=\"0.001\">a</span><span style=\"background-color: hsl(120, 100.00%, 94.81%); opacity: 0.81\" title=\"0.001\">r</span><span style=\"background-color: hsl(120, 100.00%, 94.77%); opacity: 0.81\" title=\"0.001\">e</span><span style=\"background-color: hsl(120, 100.00%, 91.18%); opacity: 0.82\" title=\"0.003\"> </span><span style=\"background-color: hsl(120, 100.00%, 85.96%); opacity: 0.84\" title=\"0.005\">r</span><span style=\"background-color: hsl(120, 100.00%, 81.84%); opacity: 0.86\" title=\"0.007\">e</span><span style=\"background-color: hsl(120, 100.00%, 80.26%); opacity: 0.87\" title=\"0.008\">a</span><span style=\"background-color: hsl(120, 100.00%, 80.16%); opacity: 0.87\" title=\"0.008\">l</span><span style=\"background-color: hsl(120, 100.00%, 81.27%); opacity: 0.87\" title=\"0.008\">i</span><span style=\"background-color: hsl(120, 100.00%, 85.62%); opacity: 0.85\" title=\"0.005\">s</span><span style=\"background-color: hsl(120, 100.00%, 90.83%); opacity: 0.82\" title=\"0.003\">m</span><span style=\"background-color: hsl(120, 100.00%, 91.03%); opacity: 0.82\" title=\"0.003\"> </span><span style=\"background-color: hsl(120, 100.00%, 92.31%); opacity: 0.82\" title=\"0.002\">d</span><span style=\"background-color: hsl(120, 100.00%, 88.87%); opacity: 0.83\" title=\"0.004\">e</span><span style=\"background-color: hsl(120, 100.00%, 89.83%); opacity: 0.83\" title=\"0.003\">p</span><span style=\"background-color: hsl(120, 100.00%, 89.86%); opacity: 0.83\" title=\"0.003\">i</span><span style=\"background-color: hsl(120, 100.00%, 91.44%); opacity: 0.82\" title=\"0.003\">c</span><span style=\"background-color: hsl(120, 100.00%, 91.83%); opacity: 0.82\" title=\"0.002\">t</span><span style=\"background-color: hsl(120, 100.00%, 92.02%); opacity: 0.82\" title=\"0.002\">i</span><span style=\"background-color: hsl(120, 100.00%, 91.35%); opacity: 0.82\" title=\"0.003\">o</span><span style=\"background-color: hsl(120, 100.00%, 95.20%); opacity: 0.81\" title=\"0.001\">n</span><span style=\"background-color: hsl(0, 100.00%, 95.34%); opacity: 0.81\" title=\"-0.001\"> </span><span style=\"background-color: hsl(0, 100.00%, 91.30%); opacity: 0.82\" title=\"-0.003\">a</span><span style=\"background-color: hsl(0, 100.00%, 90.80%); opacity: 0.82\" title=\"-0.003\">p</span><span style=\"background-color: hsl(0, 100.00%, 96.86%); opacity: 0.81\" title=\"-0.001\">e</span><span style=\"background-color: hsl(120, 100.00%, 93.86%); opacity: 0.81\" title=\"0.002\"> </span><span style=\"background-color: hsl(120, 100.00%, 90.33%); opacity: 0.83\" title=\"0.003\">c</span><span style=\"background-color: hsl(120, 100.00%, 87.10%); opacity: 0.84\" title=\"0.005\">o</span><span style=\"background-color: hsl(120, 100.00%, 86.05%); opacity: 0.84\" title=\"0.005\">m</span><span style=\"background-color: hsl(120, 100.00%, 88.51%); opacity: 0.83\" title=\"0.004\">m</span><span style=\"background-color: hsl(120, 100.00%, 93.64%); opacity: 0.81\" title=\"0.002\">u</span><span style=\"background-color: hsl(120, 100.00%, 92.55%); opacity: 0.82\" title=\"0.002\">n</span><span style=\"background-color: hsl(120, 100.00%, 93.93%); opacity: 0.81\" title=\"0.002\">i</span><span style=\"background-color: hsl(120, 100.00%, 91.11%); opacity: 0.82\" title=\"0.003\">t</span><span style=\"background-color: hsl(120, 100.00%, 89.74%); opacity: 0.83\" title=\"0.003\">y</span><span style=\"background-color: hsl(120, 100.00%, 83.38%); opacity: 0.86\" title=\"0.007\"> </span><span style=\"background-color: hsl(120, 100.00%, 78.30%); opacity: 0.88\" title=\"0.010\">l</span><span style=\"background-color: hsl(120, 100.00%, 76.37%); opacity: 0.89\" title=\"0.011\">i</span><span style=\"background-color: hsl(120, 100.00%, 77.64%); opacity: 0.89\" title=\"0.010\">f</span><span style=\"background-color: hsl(120, 100.00%, 80.09%); opacity: 0.87\" title=\"0.009\">e</span><span style=\"background-color: hsl(120, 100.00%, 82.11%); opacity: 0.86\" title=\"0.007\"> </span><span style=\"background-color: hsl(120, 100.00%, 85.65%); opacity: 0.85\" title=\"0.005\">c</span><span style=\"background-color: hsl(120, 100.00%, 81.89%); opacity: 0.86\" title=\"0.007\">e</span><span style=\"background-color: hsl(120, 100.00%, 79.45%); opacity: 0.88\" title=\"0.009\">r</span><span style=\"background-color: hsl(120, 100.00%, 77.20%); opacity: 0.89\" title=\"0.010\">t</span><span style=\"background-color: hsl(120, 100.00%, 79.19%); opacity: 0.88\" title=\"0.009\">a</span><span style=\"background-color: hsl(120, 100.00%, 82.02%); opacity: 0.86\" title=\"0.007\">i</span><span style=\"background-color: hsl(120, 100.00%, 87.09%); opacity: 0.84\" title=\"0.005\">n</span><span style=\"background-color: hsl(120, 100.00%, 90.12%); opacity: 0.83\" title=\"0.003\">l</span><span style=\"background-color: hsl(120, 100.00%, 89.06%); opacity: 0.83\" title=\"0.004\">y</span><span style=\"background-color: hsl(120, 100.00%, 85.86%); opacity: 0.85\" title=\"0.005\"> </span><span style=\"background-color: hsl(120, 100.00%, 82.01%); opacity: 0.86\" title=\"0.007\">e</span><span style=\"background-color: hsl(120, 100.00%, 81.65%); opacity: 0.87\" title=\"0.008\">n</span><span style=\"background-color: hsl(120, 100.00%, 81.56%); opacity: 0.87\" title=\"0.008\">t</span><span style=\"background-color: hsl(120, 100.00%, 77.78%); opacity: 0.89\" title=\"0.010\">e</span><span style=\"background-color: hsl(120, 100.00%, 73.99%); opacity: 0.91\" title=\"0.012\">r</span><span style=\"background-color: hsl(120, 100.00%, 70.61%); opacity: 0.93\" title=\"0.015\">t</span><span style=\"background-color: hsl(120, 100.00%, 72.33%); opacity: 0.92\" title=\"0.014\">a</span><span style=\"background-color: hsl(120, 100.00%, 73.85%); opacity: 0.91\" title=\"0.013\">i</span><span style=\"background-color: hsl(120, 100.00%, 77.42%); opacity: 0.89\" title=\"0.010\">n</span><span style=\"background-color: hsl(120, 100.00%, 85.12%); opacity: 0.85\" title=\"0.006\">i</span><span style=\"background-color: hsl(120, 100.00%, 96.36%); opacity: 0.81\" title=\"0.001\">n</span><span style=\"background-color: hsl(0, 100.00%, 92.42%); opacity: 0.82\" title=\"-0.002\">g</span><span style=\"background-color: hsl(0, 100.00%, 93.80%); opacity: 0.81\" title=\"-0.002\"> </span><span style=\"background-color: hsl(120, 100.00%, 94.14%); opacity: 0.81\" title=\"0.001\">m</span><span style=\"background-color: hsl(120, 100.00%, 85.24%); opacity: 0.85\" title=\"0.006\">o</span><span style=\"background-color: hsl(120, 100.00%, 81.57%); opacity: 0.87\" title=\"0.008\">v</span><span style=\"background-color: hsl(120, 100.00%, 83.68%); opacity: 0.86\" title=\"0.006\">i</span><span style=\"background-color: hsl(120, 100.00%, 84.98%); opacity: 0.85\" title=\"0.006\">n</span><span style=\"background-color: hsl(120, 100.00%, 93.65%); opacity: 0.81\" title=\"0.002\">g</span><span style=\"background-color: hsl(0, 100.00%, 97.88%); opacity: 0.80\" title=\"-0.000\"> </span><span style=\"background-color: hsl(0, 100.00%, 97.19%); opacity: 0.80\" title=\"-0.001\">s</span><span style=\"background-color: hsl(120, 100.00%, 95.17%); opacity: 0.81\" title=\"0.001\">e</span><span style=\"background-color: hsl(120, 100.00%, 95.72%); opacity: 0.81\" title=\"0.001\">c</span><span style=\"background-color: hsl(120, 100.00%, 92.10%); opacity: 0.82\" title=\"0.002\">t</span><span style=\"background-color: hsl(120, 100.00%, 92.29%); opacity: 0.82\" title=\"0.002\">i</span><span style=\"background-color: hsl(120, 100.00%, 94.92%); opacity: 0.81\" title=\"0.001\">o</span><span style=\"background-color: hsl(120, 100.00%, 99.16%); opacity: 0.80\" title=\"0.000\">n</span><span style=\"background-color: hsl(0, 100.00%, 93.32%); opacity: 0.82\" title=\"-0.002\"> </span><span style=\"background-color: hsl(0, 100.00%, 89.49%); opacity: 0.83\" title=\"-0.003\">s</span><span style=\"background-color: hsl(0, 100.00%, 91.56%); opacity: 0.82\" title=\"-0.002\">e</span><span style=\"background-color: hsl(0, 100.00%, 90.93%); opacity: 0.82\" title=\"-0.003\">c</span><span style=\"background-color: hsl(0, 100.00%, 93.17%); opacity: 0.82\" title=\"-0.002\">o</span><span style=\"background-color: hsl(0, 100.00%, 92.40%); opacity: 0.82\" title=\"-0.002\">n</span><span style=\"background-color: hsl(0, 100.00%, 91.86%); opacity: 0.82\" title=\"-0.002\">d</span><span style=\"background-color: hsl(0, 100.00%, 86.76%); opacity: 0.84\" title=\"-0.005\"> </span><span style=\"background-color: hsl(0, 100.00%, 79.87%); opacity: 0.88\" title=\"-0.009\">h</span><span style=\"background-color: hsl(0, 100.00%, 76.48%); opacity: 0.89\" title=\"-0.011\">a</span><span style=\"background-color: hsl(0, 100.00%, 74.85%); opacity: 0.90\" title=\"-0.012\">l</span><span style=\"background-color: hsl(0, 100.00%, 77.26%); opacity: 0.89\" title=\"-0.010\">f</span><span style=\"background-color: hsl(0, 100.00%, 84.78%); opacity: 0.85\" title=\"-0.006\"> </span><span style=\"background-color: hsl(0, 100.00%, 95.74%); opacity: 0.81\" title=\"-0.001\">t</span><span style=\"background-color: hsl(120, 100.00%, 94.21%); opacity: 0.81\" title=\"0.001\">a</span><span style=\"background-color: hsl(120, 100.00%, 91.23%); opacity: 0.82\" title=\"0.003\">r</span><span style=\"background-color: hsl(120, 100.00%, 87.27%); opacity: 0.84\" title=\"0.004\">z</span><span style=\"background-color: hsl(120, 100.00%, 87.60%); opacity: 0.84\" title=\"0.004\">a</span><span style=\"background-color: hsl(120, 100.00%, 89.17%); opacity: 0.83\" title=\"0.004\">n</span><span style=\"background-color: hsl(120, 100.00%, 91.52%); opacity: 0.82\" title=\"0.003\"> </span><span style=\"background-color: hsl(120, 100.00%, 92.32%); opacity: 0.82\" title=\"0.002\">m</span><span style=\"background-color: hsl(120, 100.00%, 92.62%); opacity: 0.82\" title=\"0.002\">u</span><span style=\"background-color: hsl(120, 100.00%, 93.24%); opacity: 0.82\" title=\"0.002\">s</span><span style=\"background-color: hsl(120, 100.00%, 95.41%); opacity: 0.81\" title=\"0.001\">t</span><span style=\"background-color: hsl(120, 100.00%, 97.79%); opacity: 0.80\" title=\"0.000\"> </span><span style=\"background-color: hsl(120, 100.00%, 95.22%); opacity: 0.81\" title=\"0.001\">m</span><span style=\"background-color: hsl(120, 100.00%, 87.02%); opacity: 0.84\" title=\"0.005\">e</span><span style=\"background-color: hsl(120, 100.00%, 84.28%); opacity: 0.85\" title=\"0.006\">e</span><span style=\"background-color: hsl(120, 100.00%, 88.62%); opacity: 0.83\" title=\"0.004\">t</span><span style=\"background-color: hsl(120, 100.00%, 92.86%); opacity: 0.82\" title=\"0.002\"> </span><span style=\"background-color: hsl(120, 100.00%, 91.53%); opacity: 0.82\" title=\"0.003\">r</span><span style=\"background-color: hsl(120, 100.00%, 89.08%); opacity: 0.83\" title=\"0.004\">e</span><span style=\"background-color: hsl(120, 100.00%, 88.81%); opacity: 0.83\" title=\"0.004\">a</span><span style=\"background-color: hsl(120, 100.00%, 89.88%); opacity: 0.83\" title=\"0.003\">l</span><span style=\"background-color: hsl(120, 100.00%, 87.06%); opacity: 0.84\" title=\"0.005\"> </span><span style=\"background-color: hsl(120, 100.00%, 82.59%); opacity: 0.86\" title=\"0.007\">f</span><span style=\"background-color: hsl(120, 100.00%, 81.35%); opacity: 0.87\" title=\"0.008\">a</span><span style=\"background-color: hsl(120, 100.00%, 78.97%); opacity: 0.88\" title=\"0.009\">m</span><span style=\"background-color: hsl(120, 100.00%, 79.13%); opacity: 0.88\" title=\"0.009\">i</span><span style=\"background-color: hsl(120, 100.00%, 83.27%); opacity: 0.86\" title=\"0.007\">l</span><span style=\"background-color: hsl(120, 100.00%, 89.30%); opacity: 0.83\" title=\"0.004\">y</span><span style=\"background-color: hsl(120, 100.00%, 95.27%); opacity: 0.81\" title=\"0.001\"> </span><span style=\"background-color: hsl(0, 100.00%, 94.58%); opacity: 0.81\" title=\"-0.001\">d</span><span style=\"background-color: hsl(0, 100.00%, 96.48%); opacity: 0.81\" title=\"-0.001\">e</span><span style=\"background-color: hsl(0, 100.00%, 94.05%); opacity: 0.81\" title=\"-0.002\">v</span><span style=\"background-color: hsl(0, 100.00%, 94.96%); opacity: 0.81\" title=\"-0.001\">e</span><span style=\"background-color: hsl(0, 100.00%, 93.02%); opacity: 0.82\" title=\"-0.002\">l</span><span style=\"background-color: hsl(0, 100.00%, 92.84%); opacity: 0.82\" title=\"-0.002\">o</span><span style=\"background-color: hsl(0, 100.00%, 92.47%); opacity: 0.82\" title=\"-0.002\">p</span><span style=\"background-color: hsl(0, 100.00%, 96.75%); opacity: 0.81\" title=\"-0.001\"> </span><span style=\"background-color: hsl(120, 100.00%, 97.33%); opacity: 0.80\" title=\"0.000\">l</span><span style=\"background-color: hsl(120, 100.00%, 90.70%); opacity: 0.82\" title=\"0.003\">a</span><span style=\"background-color: hsl(120, 100.00%, 85.68%); opacity: 0.85\" title=\"0.005\">n</span><span style=\"background-color: hsl(120, 100.00%, 82.66%); opacity: 0.86\" title=\"0.007\">g</span><span style=\"background-color: hsl(120, 100.00%, 82.45%); opacity: 0.86\" title=\"0.007\">u</span><span style=\"background-color: hsl(120, 100.00%, 84.06%); opacity: 0.85\" title=\"0.006\">a</span><span style=\"background-color: hsl(120, 100.00%, 87.66%); opacity: 0.84\" title=\"0.004\">g</span><span style=\"background-color: hsl(120, 100.00%, 91.86%); opacity: 0.82\" title=\"0.002\">e</span><span style=\"background-color: hsl(0, 100.00%, 96.81%); opacity: 0.81\" title=\"-0.001\"> </span><span style=\"background-color: hsl(0, 100.00%, 93.01%); opacity: 0.82\" title=\"-0.002\">s</span><span style=\"background-color: hsl(0, 100.00%, 88.66%); opacity: 0.83\" title=\"-0.004\">k</span><span style=\"background-color: hsl(0, 100.00%, 89.66%); opacity: 0.83\" title=\"-0.003\">i</span><span style=\"background-color: hsl(0, 100.00%, 92.26%); opacity: 0.82\" title=\"-0.002\">l</span><span style=\"background-color: hsl(0, 100.00%, 92.29%); opacity: 0.82\" title=\"-0.002\">l</span><span style=\"background-color: hsl(0, 100.00%, 94.39%); opacity: 0.81\" title=\"-0.001\">s</span><span style=\"background-color: hsl(120, 100.00%, 97.41%); opacity: 0.80\" title=\"0.000\"> </span><span style=\"background-color: hsl(120, 100.00%, 91.34%); opacity: 0.82\" title=\"0.003\">a</span><span style=\"background-color: hsl(120, 100.00%, 88.19%); opacity: 0.83\" title=\"0.004\">d</span><span style=\"background-color: hsl(120, 100.00%, 88.89%); opacity: 0.83\" title=\"0.004\">j</span><span style=\"background-color: hsl(120, 100.00%, 88.25%); opacity: 0.83\" title=\"0.004\">u</span><span style=\"background-color: hsl(120, 100.00%, 90.77%); opacity: 0.82\" title=\"0.003\">s</span><span style=\"background-color: hsl(120, 100.00%, 94.99%); opacity: 0.81\" title=\"0.001\">t</span><span style=\"background-color: hsl(0, 100.00%, 99.31%); opacity: 0.80\" title=\"-0.000\"> </span><span style=\"background-color: hsl(120, 100.00%, 95.46%); opacity: 0.81\" title=\"0.001\">a</span><span style=\"background-color: hsl(120, 100.00%, 94.36%); opacity: 0.81\" title=\"0.001\">r</span><span style=\"background-color: hsl(120, 100.00%, 93.39%); opacity: 0.82\" title=\"0.002\">i</span><span style=\"background-color: hsl(120, 100.00%, 93.86%); opacity: 0.81\" title=\"0.002\">s</span><span style=\"background-color: hsl(120, 100.00%, 96.40%); opacity: 0.81\" title=\"0.001\">t</span><span style=\"background-color: hsl(120, 100.00%, 96.25%); opacity: 0.81\" title=\"0.001\">o</span><span style=\"background-color: hsl(0, 100.00%, 96.56%); opacity: 0.81\" title=\"-0.001\">c</span><span style=\"background-color: hsl(120, 100.00%, 99.10%); opacity: 0.80\" title=\"0.000\">r</span><span style=\"background-color: hsl(120, 100.00%, 96.56%); opacity: 0.81\" title=\"0.001\">a</span><span style=\"background-color: hsl(120, 100.00%, 94.82%); opacity: 0.81\" title=\"0.001\">t</span><span style=\"background-color: hsl(120, 100.00%, 94.39%); opacity: 0.81\" title=\"0.001\">i</span><span style=\"background-color: hsl(120, 100.00%, 96.73%); opacity: 0.81\" title=\"0.001\">c</span><span style=\"background-color: hsl(120, 100.00%, 91.89%); opacity: 0.82\" title=\"0.002\"> </span><span style=\"background-color: hsl(120, 100.00%, 91.23%); opacity: 0.82\" title=\"0.003\">b</span><span style=\"background-color: hsl(120, 100.00%, 89.32%); opacity: 0.83\" title=\"0.003\">r</span><span style=\"background-color: hsl(120, 100.00%, 91.99%); opacity: 0.82\" title=\"0.002\">i</span><span style=\"background-color: hsl(120, 100.00%, 96.99%); opacity: 0.80\" title=\"0.001\">t</span><span style=\"background-color: hsl(120, 100.00%, 97.31%); opacity: 0.80\" title=\"0.000\">i</span><span style=\"background-color: hsl(0, 100.00%, 96.92%); opacity: 0.81\" title=\"-0.001\">s</span><span style=\"background-color: hsl(0, 100.00%, 96.77%); opacity: 0.81\" title=\"-0.001\">h</span><span style=\"background-color: hsl(120, 100.00%, 95.80%); opacity: 0.81\" title=\"0.001\"> </span><span style=\"background-color: hsl(120, 100.00%, 88.93%); opacity: 0.83\" title=\"0.004\">s</span><span style=\"background-color: hsl(120, 100.00%, 86.24%); opacity: 0.84\" title=\"0.005\">o</span><span style=\"background-color: hsl(120, 100.00%, 84.08%); opacity: 0.85\" title=\"0.006\">c</span><span style=\"background-color: hsl(120, 100.00%, 81.47%); opacity: 0.87\" title=\"0.008\">i</span><span style=\"background-color: hsl(120, 100.00%, 81.19%); opacity: 0.87\" title=\"0.008\">e</span><span style=\"background-color: hsl(120, 100.00%, 81.52%); opacity: 0.87\" title=\"0.008\">t</span><span style=\"background-color: hsl(120, 100.00%, 87.17%); opacity: 0.84\" title=\"0.005\">y</span><span style=\"background-color: hsl(120, 100.00%, 97.47%); opacity: 0.80\" title=\"0.000\"> </span><span style=\"background-color: hsl(0, 100.00%, 92.97%); opacity: 0.82\" title=\"-0.002\">w</span><span style=\"background-color: hsl(0, 100.00%, 91.23%); opacity: 0.82\" title=\"-0.003\">o</span><span style=\"background-color: hsl(0, 100.00%, 89.24%); opacity: 0.83\" title=\"-0.004\">o</span><span style=\"background-color: hsl(0, 100.00%, 88.83%); opacity: 0.83\" title=\"-0.004\">i</span><span style=\"background-color: hsl(0, 100.00%, 86.94%); opacity: 0.84\" title=\"-0.005\">n</span><span style=\"background-color: hsl(0, 100.00%, 89.71%); opacity: 0.83\" title=\"-0.003\">g</span><span style=\"background-color: hsl(120, 100.00%, 99.68%); opacity: 0.80\" title=\"0.000\"> </span><span style=\"background-color: hsl(120, 100.00%, 90.62%); opacity: 0.83\" title=\"0.003\">j</span><span style=\"background-color: hsl(120, 100.00%, 91.80%); opacity: 0.82\" title=\"0.002\">a</span><span style=\"background-color: hsl(120, 100.00%, 93.90%); opacity: 0.81\" title=\"0.002\">n</span><span style=\"background-color: hsl(120, 100.00%, 95.26%); opacity: 0.81\" title=\"0.001\">e</span><span style=\"background-color: hsl(120, 100.00%, 97.01%); opacity: 0.80\" title=\"0.001\"> </span><span style=\"background-color: hsl(120, 100.00%, 98.66%); opacity: 0.80\" title=\"0.000\">a</span><span style=\"background-color: hsl(120, 100.00%, 94.55%); opacity: 0.81\" title=\"0.001\">n</span><span style=\"background-color: hsl(120, 100.00%, 90.62%); opacity: 0.83\" title=\"0.003\">d</span><span style=\"background-color: hsl(120, 100.00%, 90.97%); opacity: 0.82\" title=\"0.003\">i</span><span style=\"background-color: hsl(120, 100.00%, 93.32%); opacity: 0.82\" title=\"0.002\">e</span><span style=\"background-color: hsl(120, 100.00%, 94.12%); opacity: 0.81\" title=\"0.001\"> </span><span style=\"background-color: hsl(120, 100.00%, 99.59%); opacity: 0.80\" title=\"0.000\">m</span><span style=\"background-color: hsl(120, 100.00%, 99.23%); opacity: 0.80\" title=\"0.000\">a</span><span style=\"background-color: hsl(0, 100.00%, 90.02%); opacity: 0.83\" title=\"-0.003\">c</span><span style=\"background-color: hsl(0, 100.00%, 88.16%); opacity: 0.84\" title=\"-0.004\">d</span><span style=\"background-color: hsl(0, 100.00%, 89.50%); opacity: 0.83\" title=\"-0.003\">o</span><span style=\"background-color: hsl(120, 100.00%, 92.07%); opacity: 0.82\" title=\"0.002\">w</span><span style=\"background-color: hsl(120, 100.00%, 86.09%); opacity: 0.84\" title=\"0.005\">e</span><span style=\"background-color: hsl(120, 100.00%, 83.98%); opacity: 0.85\" title=\"0.006\">l</span><span style=\"background-color: hsl(120, 100.00%, 86.49%); opacity: 0.84\" title=\"0.005\">l</span><span style=\"background-color: hsl(120, 100.00%, 91.49%); opacity: 0.82\" title=\"0.003\"> </span><span style=\"background-color: hsl(120, 100.00%, 90.63%); opacity: 0.83\" title=\"0.003\">p</span><span style=\"background-color: hsl(120, 100.00%, 87.96%); opacity: 0.84\" title=\"0.004\">o</span><span style=\"background-color: hsl(120, 100.00%, 81.80%); opacity: 0.86\" title=\"0.007\">r</span><span style=\"background-color: hsl(120, 100.00%, 82.43%); opacity: 0.86\" title=\"0.007\">t</span><span style=\"background-color: hsl(120, 100.00%, 86.31%); opacity: 0.84\" title=\"0.005\">r</span><span style=\"background-color: hsl(120, 100.00%, 90.86%); opacity: 0.82\" title=\"0.003\">a</span><span style=\"background-color: hsl(120, 100.00%, 95.04%); opacity: 0.81\" title=\"0.001\">y</span><span style=\"background-color: hsl(0, 100.00%, 94.66%); opacity: 0.81\" title=\"-0.001\">e</span><span style=\"background-color: hsl(0, 100.00%, 94.14%); opacity: 0.81\" title=\"-0.001\">d</span><span style=\"background-color: hsl(0, 100.00%, 90.63%); opacity: 0.83\" title=\"-0.003\"> </span><span style=\"background-color: hsl(0, 100.00%, 90.78%); opacity: 0.82\" title=\"-0.003\">n</span><span style=\"background-color: hsl(0, 100.00%, 89.18%); opacity: 0.83\" title=\"-0.004\">o</span><span style=\"background-color: hsl(0, 100.00%, 89.78%); opacity: 0.83\" title=\"-0.003\">b</span><span style=\"background-color: hsl(0, 100.00%, 90.26%); opacity: 0.83\" title=\"-0.003\">l</span><span style=\"background-color: hsl(0, 100.00%, 89.17%); opacity: 0.83\" title=\"-0.004\">e</span><span style=\"background-color: hsl(0, 100.00%, 86.07%); opacity: 0.84\" title=\"-0.005\"> </span><span style=\"background-color: hsl(0, 100.00%, 83.89%); opacity: 0.85\" title=\"-0.006\">s</span><span style=\"background-color: hsl(0, 100.00%, 87.79%); opacity: 0.84\" title=\"-0.004\">a</span><span style=\"background-color: hsl(0, 100.00%, 90.03%); opacity: 0.83\" title=\"-0.003\">v</span><span style=\"background-color: hsl(120, 100.00%, 90.51%); opacity: 0.83\" title=\"0.003\">a</span><span style=\"background-color: hsl(120, 100.00%, 93.87%); opacity: 0.81\" title=\"0.002\">g</span><span style=\"background-color: hsl(120, 100.00%, 96.02%); opacity: 0.81\" title=\"0.001\">e</span><span style=\"background-color: hsl(0, 100.00%, 96.65%); opacity: 0.81\" title=\"-0.001\"> </span><span style=\"background-color: hsl(0, 100.00%, 94.51%); opacity: 0.81\" title=\"-0.001\">w</span><span style=\"background-color: hsl(0, 100.00%, 93.61%); opacity: 0.81\" title=\"-0.002\">h</span><span style=\"background-color: hsl(0, 100.00%, 98.51%); opacity: 0.80\" title=\"-0.000\">e</span><span style=\"background-color: hsl(120, 100.00%, 99.26%); opacity: 0.80\" title=\"0.000\">t</span><span style=\"background-color: hsl(120, 100.00%, 97.59%); opacity: 0.80\" title=\"0.000\">h</span><span style=\"background-color: hsl(120, 100.00%, 97.67%); opacity: 0.80\" title=\"0.000\">e</span><span style=\"background-color: hsl(120, 100.00%, 97.24%); opacity: 0.80\" title=\"0.001\">r</span><span style=\"background-color: hsl(120, 100.00%, 91.49%); opacity: 0.82\" title=\"0.003\"> </span><span style=\"background-color: hsl(120, 100.00%, 89.33%); opacity: 0.83\" title=\"0.003\">w</span><span style=\"background-color: hsl(120, 100.00%, 87.46%); opacity: 0.84\" title=\"0.004\">i</span><span style=\"background-color: hsl(120, 100.00%, 94.36%); opacity: 0.81\" title=\"0.001\">l</span><span style=\"background-color: hsl(120, 100.00%, 98.36%); opacity: 0.80\" title=\"0.000\">d</span><span style=\"background-color: hsl(120, 100.00%, 98.04%); opacity: 0.80\" title=\"0.000\"> </span><span style=\"background-color: hsl(120, 100.00%, 93.46%); opacity: 0.82\" title=\"0.002\">e</span><span style=\"background-color: hsl(120, 100.00%, 92.67%); opacity: 0.82\" title=\"0.002\">l</span><span style=\"background-color: hsl(120, 100.00%, 92.34%); opacity: 0.82\" title=\"0.002\">e</span><span style=\"background-color: hsl(120, 100.00%, 95.80%); opacity: 0.81\" title=\"0.001\">g</span><span style=\"background-color: hsl(120, 100.00%, 93.97%); opacity: 0.81\" title=\"0.002\">a</span><span style=\"background-color: hsl(120, 100.00%, 98.35%); opacity: 0.80\" title=\"0.000\">n</span><span style=\"background-color: hsl(120, 100.00%, 99.85%); opacity: 0.80\" title=\"0.000\">t</span><span style=\"background-color: hsl(120, 100.00%, 98.36%); opacity: 0.80\" title=\"0.000\"> </span><span style=\"background-color: hsl(120, 100.00%, 94.82%); opacity: 0.81\" title=\"0.001\">e</span><span style=\"background-color: hsl(120, 100.00%, 92.62%); opacity: 0.82\" title=\"0.002\">d</span><span style=\"background-color: hsl(120, 100.00%, 92.45%); opacity: 0.82\" title=\"0.002\">w</span><span style=\"background-color: hsl(120, 100.00%, 94.98%); opacity: 0.81\" title=\"0.001\">a</span><span style=\"background-color: hsl(120, 100.00%, 94.61%); opacity: 0.81\" title=\"0.001\">r</span><span style=\"background-color: hsl(0, 100.00%, 99.21%); opacity: 0.80\" title=\"-0.000\">d</span><span style=\"background-color: hsl(0, 100.00%, 99.27%); opacity: 0.80\" title=\"-0.000\">i</span><span style=\"background-color: hsl(120, 100.00%, 96.21%); opacity: 0.81\" title=\"0.001\">a</span><span style=\"background-color: hsl(120, 100.00%, 93.73%); opacity: 0.81\" title=\"0.002\">n</span><span style=\"background-color: hsl(120, 100.00%, 93.45%); opacity: 0.82\" title=\"0.002\"> </span><span style=\"background-color: hsl(120, 100.00%, 93.50%); opacity: 0.81\" title=\"0.002\">p</span><span style=\"background-color: hsl(120, 100.00%, 95.31%); opacity: 0.81\" title=\"0.001\">a</span><span style=\"background-color: hsl(120, 100.00%, 97.31%); opacity: 0.80\" title=\"0.000\">r</span><span style=\"background-color: hsl(120, 100.00%, 95.71%); opacity: 0.81\" title=\"0.001\">l</span><span style=\"background-color: hsl(0, 100.00%, 93.14%); opacity: 0.82\" title=\"-0.002\">o</span><span style=\"background-color: hsl(0, 100.00%, 91.55%); opacity: 0.82\" title=\"-0.002\">r</span><span style=\"background-color: hsl(0, 100.00%, 92.97%); opacity: 0.82\" title=\"-0.002\">s</span><span style=\"background-color: hsl(120, 100.00%, 96.31%); opacity: 0.81\" title=\"0.001\"> </span><span style=\"background-color: hsl(120, 100.00%, 95.26%); opacity: 0.81\" title=\"0.001\">c</span><span style=\"background-color: hsl(120, 100.00%, 92.64%); opacity: 0.82\" title=\"0.002\">o</span><span style=\"background-color: hsl(120, 100.00%, 88.73%); opacity: 0.83\" title=\"0.004\">n</span><span style=\"background-color: hsl(120, 100.00%, 85.37%); opacity: 0.85\" title=\"0.005\">t</span><span style=\"background-color: hsl(120, 100.00%, 84.76%); opacity: 0.85\" title=\"0.006\">r</span><span style=\"background-color: hsl(120, 100.00%, 88.96%); opacity: 0.83\" title=\"0.004\">a</span><span style=\"background-color: hsl(120, 100.00%, 94.79%); opacity: 0.81\" title=\"0.001\">s</span><span style=\"background-color: hsl(120, 100.00%, 93.92%); opacity: 0.81\" title=\"0.002\">t</span><span style=\"background-color: hsl(120, 100.00%, 98.72%); opacity: 0.80\" title=\"0.000\"> </span><span style=\"background-color: hsl(0, 100.00%, 93.73%); opacity: 0.81\" title=\"-0.002\">u</span><span style=\"background-color: hsl(0, 100.00%, 92.93%); opacity: 0.82\" title=\"-0.002\">p</span><span style=\"background-color: hsl(0, 100.00%, 96.28%); opacity: 0.81\" title=\"-0.001\">p</span><span style=\"background-color: hsl(0, 100.00%, 99.33%); opacity: 0.80\" title=\"-0.000\">e</span><span style=\"background-color: hsl(120, 100.00%, 98.37%); opacity: 0.80\" title=\"0.000\">r</span><span style=\"background-color: hsl(0, 100.00%, 95.40%); opacity: 0.81\" title=\"-0.001\"> </span><span style=\"background-color: hsl(0, 100.00%, 94.50%); opacity: 0.81\" title=\"-0.001\">c</span><span style=\"background-color: hsl(0, 100.00%, 94.58%); opacity: 0.81\" title=\"-0.001\">r</span><span style=\"background-color: hsl(120, 100.00%, 98.84%); opacity: 0.80\" title=\"0.000\">u</span><span style=\"background-color: hsl(120, 100.00%, 96.57%); opacity: 0.81\" title=\"0.001\">s</span><span style=\"background-color: hsl(120, 100.00%, 94.64%); opacity: 0.81\" title=\"0.001\">t</span><span style=\"background-color: hsl(120, 100.00%, 92.84%); opacity: 0.82\" title=\"0.002\"> </span><span style=\"background-color: hsl(120, 100.00%, 92.39%); opacity: 0.82\" title=\"0.002\">d</span><span style=\"background-color: hsl(120, 100.00%, 89.48%); opacity: 0.83\" title=\"0.003\">e</span><span style=\"background-color: hsl(120, 100.00%, 90.54%); opacity: 0.83\" title=\"0.003\">p</span><span style=\"background-color: hsl(120, 100.00%, 90.86%); opacity: 0.82\" title=\"0.003\">i</span><span style=\"background-color: hsl(120, 100.00%, 93.00%); opacity: 0.82\" title=\"0.002\">c</span><span style=\"background-color: hsl(120, 100.00%, 97.19%); opacity: 0.80\" title=\"0.001\">t</span><span style=\"background-color: hsl(0, 100.00%, 96.78%); opacity: 0.81\" title=\"-0.001\">e</span><span style=\"background-color: hsl(0, 100.00%, 96.17%); opacity: 0.81\" title=\"-0.001\">d</span><span style=\"background-color: hsl(120, 100.00%, 93.67%); opacity: 0.81\" title=\"0.002\"> </span><span style=\"background-color: hsl(120, 100.00%, 86.77%); opacity: 0.84\" title=\"0.005\">o</span><span style=\"background-color: hsl(120, 100.00%, 80.93%); opacity: 0.87\" title=\"0.008\">f</span><span style=\"background-color: hsl(120, 100.00%, 80.73%); opacity: 0.87\" title=\"0.008\">t</span><span style=\"background-color: hsl(120, 100.00%, 83.10%); opacity: 0.86\" title=\"0.007\">e</span><span style=\"background-color: hsl(120, 100.00%, 86.70%); opacity: 0.84\" title=\"0.005\">n</span><span style=\"background-color: hsl(120, 100.00%, 92.82%); opacity: 0.82\" title=\"0.002\"> </span><span style=\"background-color: hsl(0, 100.00%, 96.04%); opacity: 0.81\" title=\"-0.001\">f</span><span style=\"background-color: hsl(0, 100.00%, 93.19%); opacity: 0.82\" title=\"-0.002\">a</span><span style=\"background-color: hsl(0, 100.00%, 89.96%); opacity: 0.83\" title=\"-0.003\">r</span><span style=\"background-color: hsl(0, 100.00%, 88.85%); opacity: 0.83\" title=\"-0.004\"> </span><span style=\"background-color: hsl(0, 100.00%, 92.55%); opacity: 0.82\" title=\"-0.002\">b</span><span style=\"background-color: hsl(0, 100.00%, 90.81%); opacity: 0.82\" title=\"-0.003\">a</span><span style=\"background-color: hsl(120, 100.00%, 98.00%); opacity: 0.80\" title=\"0.000\">r</span><span style=\"background-color: hsl(120, 100.00%, 95.96%); opacity: 0.81\" title=\"0.001\">b</span><span style=\"background-color: hsl(120, 100.00%, 97.04%); opacity: 0.80\" title=\"0.001\">a</span><span style=\"background-color: hsl(120, 100.00%, 94.91%); opacity: 0.81\" title=\"0.001\">r</span><span style=\"background-color: hsl(120, 100.00%, 94.26%); opacity: 0.81\" title=\"0.001\">i</span><span style=\"background-color: hsl(120, 100.00%, 97.46%); opacity: 0.80\" title=\"0.000\">c</span><span style=\"background-color: hsl(120, 100.00%, 99.75%); opacity: 0.80\" title=\"0.000\"> </span><span style=\"background-color: hsl(0, 100.00%, 94.40%); opacity: 0.81\" title=\"-0.001\">j</span><span style=\"background-color: hsl(0, 100.00%, 95.01%); opacity: 0.81\" title=\"-0.001\">u</span><span style=\"background-color: hsl(0, 100.00%, 92.58%); opacity: 0.82\" title=\"-0.002\">n</span><span style=\"background-color: hsl(0, 100.00%, 94.73%); opacity: 0.81\" title=\"-0.001\">g</span><span style=\"background-color: hsl(0, 100.00%, 91.47%); opacity: 0.82\" title=\"-0.003\">l</span><span style=\"background-color: hsl(0, 100.00%, 90.94%); opacity: 0.82\" title=\"-0.003\">e</span><span style=\"background-color: hsl(0, 100.00%, 93.38%); opacity: 0.82\" title=\"-0.002\"> </span><span style=\"background-color: hsl(0, 100.00%, 96.54%); opacity: 0.81\" title=\"-0.001\">t</span><span style=\"background-color: hsl(120, 100.00%, 95.37%); opacity: 0.81\" title=\"0.001\">a</span><span style=\"background-color: hsl(120, 100.00%, 92.36%); opacity: 0.82\" title=\"0.002\">r</span><span style=\"background-color: hsl(120, 100.00%, 88.32%); opacity: 0.83\" title=\"0.004\">z</span><span style=\"background-color: hsl(120, 100.00%, 89.49%); opacity: 0.83\" title=\"0.003\">a</span><span style=\"background-color: hsl(120, 100.00%, 94.26%); opacity: 0.81\" title=\"0.001\">n</span><span style=\"background-color: hsl(0, 100.00%, 90.94%); opacity: 0.82\" title=\"-0.003\"> </span><span style=\"background-color: hsl(0, 100.00%, 84.14%); opacity: 0.85\" title=\"-0.006\">l</span><span style=\"background-color: hsl(0, 100.00%, 81.23%); opacity: 0.87\" title=\"-0.008\">e</span><span style=\"background-color: hsl(0, 100.00%, 81.64%); opacity: 0.87\" title=\"-0.008\">f</span><span style=\"background-color: hsl(0, 100.00%, 83.85%); opacity: 0.85\" title=\"-0.006\">t</span><span style=\"background-color: hsl(0, 100.00%, 85.05%); opacity: 0.85\" title=\"-0.006\"> </span><span style=\"background-color: hsl(0, 100.00%, 84.75%); opacity: 0.85\" title=\"-0.006\">c</span><span style=\"background-color: hsl(0, 100.00%, 84.59%); opacity: 0.85\" title=\"-0.006\">h</span><span style=\"background-color: hsl(0, 100.00%, 84.55%); opacity: 0.85\" title=\"-0.006\">r</span><span style=\"background-color: hsl(0, 100.00%, 86.82%); opacity: 0.84\" title=\"-0.005\">i</span><span style=\"background-color: hsl(0, 100.00%, 90.95%); opacity: 0.82\" title=\"-0.003\">s</span><span style=\"background-color: hsl(0, 100.00%, 97.31%); opacity: 0.80\" title=\"-0.000\">t</span><span style=\"background-color: hsl(120, 100.00%, 94.32%); opacity: 0.81\" title=\"0.001\">o</span><span style=\"background-color: hsl(120, 100.00%, 93.25%); opacity: 0.82\" title=\"0.002\">p</span><span style=\"background-color: hsl(120, 100.00%, 98.18%); opacity: 0.80\" title=\"0.000\">h</span><span style=\"background-color: hsl(0, 100.00%, 98.66%); opacity: 0.80\" title=\"-0.000\">e</span><span style=\"background-color: hsl(0, 100.00%, 94.27%); opacity: 0.81\" title=\"-0.001\">r</span><span style=\"background-color: hsl(0, 100.00%, 88.51%); opacity: 0.83\" title=\"-0.004\"> </span><span style=\"background-color: hsl(0, 100.00%, 85.90%); opacity: 0.85\" title=\"-0.005\">l</span><span style=\"background-color: hsl(0, 100.00%, 87.33%); opacity: 0.84\" title=\"-0.004\">a</span><span style=\"background-color: hsl(0, 100.00%, 92.32%); opacity: 0.82\" title=\"-0.002\">m</span><span style=\"background-color: hsl(120, 100.00%, 92.34%); opacity: 0.82\" title=\"0.002\">b</span><span style=\"background-color: hsl(120, 100.00%, 90.97%); opacity: 0.82\" title=\"0.003\">e</span><span style=\"background-color: hsl(120, 100.00%, 92.67%); opacity: 0.82\" title=\"0.002\">r</span><span style=\"background-color: hsl(120, 100.00%, 95.34%); opacity: 0.81\" title=\"0.001\">t</span><span style=\"background-color: hsl(120, 100.00%, 88.75%); opacity: 0.83\" title=\"0.004\"> </span><span style=\"background-color: hsl(120, 100.00%, 80.34%); opacity: 0.87\" title=\"0.008\">f</span><span style=\"background-color: hsl(120, 100.00%, 74.40%); opacity: 0.91\" title=\"0.012\">a</span><span style=\"background-color: hsl(120, 100.00%, 67.89%); opacity: 0.95\" title=\"0.017\">n</span><span style=\"background-color: hsl(120, 100.00%, 65.16%); opacity: 0.96\" title=\"0.019\">t</span><span style=\"background-color: hsl(120, 100.00%, 67.07%); opacity: 0.95\" title=\"0.017\">a</span><span style=\"background-color: hsl(120, 100.00%, 69.92%); opacity: 0.93\" title=\"0.015\">s</span><span style=\"background-color: hsl(120, 100.00%, 75.19%); opacity: 0.90\" title=\"0.012\">t</span><span style=\"background-color: hsl(120, 100.00%, 78.83%); opacity: 0.88\" title=\"0.009\">i</span><span style=\"background-color: hsl(120, 100.00%, 83.89%); opacity: 0.85\" title=\"0.006\">c</span><span style=\"background-color: hsl(120, 100.00%, 87.63%); opacity: 0.84\" title=\"0.004\"> </span><span style=\"background-color: hsl(120, 100.00%, 91.57%); opacity: 0.82\" title=\"0.002\">s</span><span style=\"background-color: hsl(120, 100.00%, 92.50%); opacity: 0.82\" title=\"0.002\">y</span><span style=\"background-color: hsl(120, 100.00%, 92.11%); opacity: 0.82\" title=\"0.002\">m</span><span style=\"background-color: hsl(0, 100.00%, 92.80%); opacity: 0.82\" title=\"-0.002\">p</span><span style=\"background-color: hsl(0, 100.00%, 87.66%); opacity: 0.84\" title=\"-0.004\">a</span><span style=\"background-color: hsl(0, 100.00%, 81.14%); opacity: 0.87\" title=\"-0.008\">t</span><span style=\"background-color: hsl(0, 100.00%, 77.21%); opacity: 0.89\" title=\"-0.010\">h</span><span style=\"background-color: hsl(0, 100.00%, 76.76%); opacity: 0.89\" title=\"-0.011\">e</span><span style=\"background-color: hsl(0, 100.00%, 78.23%); opacity: 0.88\" title=\"-0.010\">t</span><span style=\"background-color: hsl(0, 100.00%, 83.75%); opacity: 0.86\" title=\"-0.006\">i</span><span style=\"background-color: hsl(0, 100.00%, 88.65%); opacity: 0.83\" title=\"-0.004\">c</span><span style=\"background-color: hsl(0, 100.00%, 95.09%); opacity: 0.81\" title=\"-0.001\"> </span><span style=\"background-color: hsl(120, 100.00%, 91.86%); opacity: 0.82\" title=\"0.002\">p</span><span style=\"background-color: hsl(120, 100.00%, 86.69%); opacity: 0.84\" title=\"0.005\">o</span><span style=\"background-color: hsl(120, 100.00%, 79.16%); opacity: 0.88\" title=\"0.009\">r</span><span style=\"background-color: hsl(120, 100.00%, 76.76%); opacity: 0.89\" title=\"0.011\">t</span><span style=\"background-color: hsl(120, 100.00%, 75.95%); opacity: 0.90\" title=\"0.011\">r</span><span style=\"background-color: hsl(120, 100.00%, 77.71%); opacity: 0.89\" title=\"0.010\">a</span><span style=\"background-color: hsl(120, 100.00%, 79.84%); opacity: 0.88\" title=\"0.009\">y</span><span style=\"background-color: hsl(120, 100.00%, 80.43%); opacity: 0.87\" title=\"0.008\">a</span><span style=\"background-color: hsl(120, 100.00%, 82.69%); opacity: 0.86\" title=\"0.007\">l</span><span style=\"background-color: hsl(120, 100.00%, 87.58%); opacity: 0.84\" title=\"0.004\"> </span><span style=\"background-color: hsl(120, 100.00%, 90.62%); opacity: 0.83\" title=\"0.003\">t</span><span style=\"background-color: hsl(120, 100.00%, 91.99%); opacity: 0.82\" title=\"0.002\">a</span><span style=\"background-color: hsl(120, 100.00%, 91.19%); opacity: 0.82\" title=\"0.003\">r</span><span style=\"background-color: hsl(120, 100.00%, 87.69%); opacity: 0.84\" title=\"0.004\">z</span><span style=\"background-color: hsl(120, 100.00%, 87.38%); opacity: 0.84\" title=\"0.004\">a</span><span style=\"background-color: hsl(120, 100.00%, 88.61%); opacity: 0.83\" title=\"0.004\">n</span><span style=\"background-color: hsl(120, 100.00%, 93.51%); opacity: 0.81\" title=\"0.002\"> </span><span style=\"background-color: hsl(0, 100.00%, 97.33%); opacity: 0.80\" title=\"-0.000\">j</span><span style=\"background-color: hsl(0, 100.00%, 97.32%); opacity: 0.80\" title=\"-0.000\">u</span><span style=\"background-color: hsl(0, 100.00%, 93.95%); opacity: 0.81\" title=\"-0.002\">n</span><span style=\"background-color: hsl(0, 100.00%, 96.53%); opacity: 0.81\" title=\"-0.001\">g</span><span style=\"background-color: hsl(0, 100.00%, 93.53%); opacity: 0.81\" title=\"-0.002\">l</span><span style=\"background-color: hsl(0, 100.00%, 95.28%); opacity: 0.81\" title=\"-0.001\">e</span><span style=\"background-color: hsl(120, 100.00%, 97.19%); opacity: 0.80\" title=\"0.001\"> </span><span style=\"background-color: hsl(120, 100.00%, 94.08%); opacity: 0.81\" title=\"0.002\">c</span><span style=\"background-color: hsl(120, 100.00%, 93.13%); opacity: 0.82\" title=\"0.002\">i</span><span style=\"background-color: hsl(120, 100.00%, 95.16%); opacity: 0.81\" title=\"0.001\">v</span><span style=\"background-color: hsl(120, 100.00%, 96.50%); opacity: 0.81\" title=\"0.001\">i</span><span style=\"background-color: hsl(120, 100.00%, 95.66%); opacity: 0.81\" title=\"0.001\">l</span><span style=\"background-color: hsl(120, 100.00%, 94.43%); opacity: 0.81\" title=\"0.001\">i</span><span style=\"background-color: hsl(120, 100.00%, 93.83%); opacity: 0.81\" title=\"0.002\">z</span><span style=\"background-color: hsl(120, 100.00%, 96.13%); opacity: 0.81\" title=\"0.001\">e</span><span style=\"background-color: hsl(120, 100.00%, 95.45%); opacity: 0.81\" title=\"0.001\">d</span><span style=\"background-color: hsl(120, 100.00%, 93.82%); opacity: 0.81\" title=\"0.002\"> </span><span style=\"background-color: hsl(120, 100.00%, 92.01%); opacity: 0.82\" title=\"0.002\">e</span><span style=\"background-color: hsl(120, 100.00%, 92.69%); opacity: 0.82\" title=\"0.002\">n</span><span style=\"background-color: hsl(120, 100.00%, 94.77%); opacity: 0.81\" title=\"0.001\">v</span><span style=\"background-color: hsl(120, 100.00%, 94.66%); opacity: 0.81\" title=\"0.001\">i</span><span style=\"background-color: hsl(120, 100.00%, 93.27%); opacity: 0.82\" title=\"0.002\">r</span><span style=\"background-color: hsl(120, 100.00%, 92.28%); opacity: 0.82\" title=\"0.002\">o</span><span style=\"background-color: hsl(120, 100.00%, 92.24%); opacity: 0.82\" title=\"0.002\">n</span><span style=\"background-color: hsl(120, 100.00%, 91.00%); opacity: 0.82\" title=\"0.003\">m</span><span style=\"background-color: hsl(120, 100.00%, 90.22%); opacity: 0.83\" title=\"0.003\">e</span><span style=\"background-color: hsl(120, 100.00%, 90.45%); opacity: 0.83\" title=\"0.003\">n</span><span style=\"background-color: hsl(120, 100.00%, 92.30%); opacity: 0.82\" title=\"0.002\">t</span><span style=\"background-color: hsl(120, 100.00%, 91.34%); opacity: 0.82\" title=\"0.003\">s</span><span style=\"background-color: hsl(120, 100.00%, 94.60%); opacity: 0.81\" title=\"0.001\"> </span><span style=\"background-color: hsl(120, 100.00%, 97.70%); opacity: 0.80\" title=\"0.000\">c</span><span style=\"background-color: hsl(120, 100.00%, 97.88%); opacity: 0.80\" title=\"0.000\">o</span><span style=\"background-color: hsl(120, 100.00%, 94.86%); opacity: 0.81\" title=\"0.001\">n</span><span style=\"background-color: hsl(120, 100.00%, 92.34%); opacity: 0.82\" title=\"0.002\">v</span><span style=\"background-color: hsl(120, 100.00%, 89.16%); opacity: 0.83\" title=\"0.004\">e</span><span style=\"background-color: hsl(120, 100.00%, 87.01%); opacity: 0.84\" title=\"0.005\">y</span><span style=\"background-color: hsl(120, 100.00%, 85.32%); opacity: 0.85\" title=\"0.006\">s</span><span style=\"background-color: hsl(120, 100.00%, 87.24%); opacity: 0.84\" title=\"0.005\"> </span><span style=\"background-color: hsl(120, 100.00%, 89.44%); opacity: 0.83\" title=\"0.003\">r</span><span style=\"background-color: hsl(120, 100.00%, 89.81%); opacity: 0.83\" title=\"0.003\">e</span><span style=\"background-color: hsl(120, 100.00%, 90.19%); opacity: 0.83\" title=\"0.003\">a</span><span style=\"background-color: hsl(120, 100.00%, 91.37%); opacity: 0.82\" title=\"0.003\">l</span><span style=\"background-color: hsl(120, 100.00%, 94.97%); opacity: 0.81\" title=\"0.001\"> </span><span style=\"background-color: hsl(0, 100.00%, 97.68%); opacity: 0.80\" title=\"-0.000\">s</span><span style=\"background-color: hsl(0, 100.00%, 97.87%); opacity: 0.80\" title=\"-0.000\">e</span><span style=\"background-color: hsl(0, 100.00%, 97.29%); opacity: 0.80\" title=\"-0.000\">n</span><span style=\"background-color: hsl(0, 100.00%, 93.77%); opacity: 0.81\" title=\"-0.002\">s</span><span style=\"background-color: hsl(0, 100.00%, 93.55%); opacity: 0.81\" title=\"-0.002\">e</span><span style=\"background-color: hsl(0, 100.00%, 92.60%); opacity: 0.82\" title=\"-0.002\"> </span><span style=\"background-color: hsl(0, 100.00%, 91.72%); opacity: 0.82\" title=\"-0.002\">c</span><span style=\"background-color: hsl(0, 100.00%, 86.79%); opacity: 0.84\" title=\"-0.005\">o</span><span style=\"background-color: hsl(0, 100.00%, 79.92%); opacity: 0.87\" title=\"-0.009\">n</span><span style=\"background-color: hsl(0, 100.00%, 78.69%); opacity: 0.88\" title=\"-0.009\">f</span><span style=\"background-color: hsl(0, 100.00%, 78.51%); opacity: 0.88\" title=\"-0.009\">u</span><span style=\"background-color: hsl(0, 100.00%, 85.84%); opacity: 0.85\" title=\"-0.005\">s</span><span style=\"background-color: hsl(0, 100.00%, 92.29%); opacity: 0.82\" title=\"-0.002\">i</span><span style=\"background-color: hsl(0, 100.00%, 97.22%); opacity: 0.80\" title=\"-0.001\">o</span><span style=\"background-color: hsl(0, 100.00%, 96.51%); opacity: 0.81\" title=\"-0.001\">n</span><span style=\"background-color: hsl(0, 100.00%, 94.68%); opacity: 0.81\" title=\"-0.001\"> </span><span style=\"background-color: hsl(0, 100.00%, 93.47%); opacity: 0.82\" title=\"-0.002\">c</span><span style=\"background-color: hsl(0, 100.00%, 94.14%); opacity: 0.81\" title=\"-0.001\">o</span><span style=\"background-color: hsl(0, 100.00%, 96.13%); opacity: 0.81\" title=\"-0.001\">n</span><span style=\"background-color: hsl(0, 100.00%, 96.44%); opacity: 0.81\" title=\"-0.001\">f</span><span style=\"background-color: hsl(0, 100.00%, 95.20%); opacity: 0.81\" title=\"-0.001\">l</span><span style=\"background-color: hsl(0, 100.00%, 93.79%); opacity: 0.81\" title=\"-0.002\">i</span><span style=\"background-color: hsl(0, 100.00%, 96.91%); opacity: 0.81\" title=\"-0.001\">c</span><span style=\"background-color: hsl(120, 100.00%, 95.46%); opacity: 0.81\" title=\"0.001\">t</span><span style=\"background-color: hsl(120, 100.00%, 91.11%); opacity: 0.82\" title=\"0.003\"> </span><span style=\"background-color: hsl(120, 100.00%, 89.70%); opacity: 0.83\" title=\"0.003\">t</span><span style=\"background-color: hsl(120, 100.00%, 91.57%); opacity: 0.82\" title=\"0.002\">o</span><span style=\"background-color: hsl(120, 100.00%, 94.35%); opacity: 0.81\" title=\"0.001\">r</span><span style=\"background-color: hsl(120, 100.00%, 91.83%); opacity: 0.82\" title=\"0.002\">n</span><span style=\"background-color: hsl(120, 100.00%, 91.48%); opacity: 0.82\" title=\"0.003\"> </span><span style=\"background-color: hsl(120, 100.00%, 90.74%); opacity: 0.82\" title=\"0.003\">t</span><span style=\"background-color: hsl(120, 100.00%, 93.27%); opacity: 0.82\" title=\"0.002\">w</span><span style=\"background-color: hsl(120, 100.00%, 94.08%); opacity: 0.81\" title=\"0.002\">o</span><span style=\"background-color: hsl(120, 100.00%, 91.97%); opacity: 0.82\" title=\"0.002\"> </span><span style=\"background-color: hsl(120, 100.00%, 86.98%); opacity: 0.84\" title=\"0.005\">d</span><span style=\"background-color: hsl(120, 100.00%, 81.75%); opacity: 0.87\" title=\"0.008\">i</span><span style=\"background-color: hsl(120, 100.00%, 76.93%); opacity: 0.89\" title=\"0.010\">f</span><span style=\"background-color: hsl(120, 100.00%, 75.91%); opacity: 0.90\" title=\"0.011\">f</span><span style=\"background-color: hsl(120, 100.00%, 79.22%); opacity: 0.88\" title=\"0.009\">e</span><span style=\"background-color: hsl(120, 100.00%, 84.03%); opacity: 0.85\" title=\"0.006\">r</span><span style=\"background-color: hsl(120, 100.00%, 86.98%); opacity: 0.84\" title=\"0.005\">e</span><span style=\"background-color: hsl(120, 100.00%, 95.66%); opacity: 0.81\" title=\"0.001\">n</span><span style=\"background-color: hsl(0, 100.00%, 92.86%); opacity: 0.82\" title=\"-0.002\">t</span><span style=\"background-color: hsl(0, 100.00%, 92.13%); opacity: 0.82\" title=\"-0.002\"> </span><span style=\"background-color: hsl(120, 100.00%, 98.54%); opacity: 0.80\" title=\"0.000\">w</span><span style=\"background-color: hsl(120, 100.00%, 88.44%); opacity: 0.83\" title=\"0.004\">o</span><span style=\"background-color: hsl(120, 100.00%, 80.01%); opacity: 0.87\" title=\"0.009\">r</span><span style=\"background-color: hsl(120, 100.00%, 73.66%); opacity: 0.91\" title=\"0.013\">l</span><span style=\"background-color: hsl(120, 100.00%, 77.28%); opacity: 0.89\" title=\"0.010\">d</span><span style=\"background-color: hsl(120, 100.00%, 87.48%); opacity: 0.84\" title=\"0.004\">s</span><span style=\"background-color: hsl(0, 100.00%, 97.40%); opacity: 0.80\" title=\"-0.000\"> </span><span style=\"background-color: hsl(0, 100.00%, 85.86%); opacity: 0.85\" title=\"-0.005\">o</span><span style=\"background-color: hsl(0, 100.00%, 81.67%); opacity: 0.87\" title=\"-0.008\">r</span><span style=\"background-color: hsl(0, 100.00%, 78.21%); opacity: 0.88\" title=\"-0.010\">i</span><span style=\"background-color: hsl(0, 100.00%, 76.65%); opacity: 0.89\" title=\"-0.011\">g</span><span style=\"background-color: hsl(0, 100.00%, 77.98%); opacity: 0.89\" title=\"-0.010\">i</span><span style=\"background-color: hsl(0, 100.00%, 81.60%); opacity: 0.87\" title=\"-0.008\">n</span><span style=\"background-color: hsl(0, 100.00%, 85.22%); opacity: 0.85\" title=\"-0.006\">a</span><span style=\"background-color: hsl(0, 100.00%, 88.07%); opacity: 0.84\" title=\"-0.004\">l</span><span style=\"background-color: hsl(0, 100.00%, 89.11%); opacity: 0.83\" title=\"-0.004\"> </span><span style=\"background-color: hsl(0, 100.00%, 90.44%); opacity: 0.83\" title=\"-0.003\">a</span><span style=\"background-color: hsl(0, 100.00%, 91.71%); opacity: 0.82\" title=\"-0.002\">p</span><span style=\"background-color: hsl(120, 100.00%, 97.37%); opacity: 0.80\" title=\"0.000\">e</span><span style=\"background-color: hsl(120, 100.00%, 87.96%); opacity: 0.84\" title=\"0.004\"> </span><span style=\"background-color: hsl(120, 100.00%, 82.64%); opacity: 0.86\" title=\"0.007\">f</span><span style=\"background-color: hsl(120, 100.00%, 79.96%); opacity: 0.87\" title=\"0.009\">a</span><span style=\"background-color: hsl(120, 100.00%, 78.05%); opacity: 0.88\" title=\"0.010\">m</span><span style=\"background-color: hsl(120, 100.00%, 79.49%); opacity: 0.88\" title=\"0.009\">i</span><span style=\"background-color: hsl(120, 100.00%, 84.69%); opacity: 0.85\" title=\"0.006\">l</span><span style=\"background-color: hsl(120, 100.00%, 90.67%); opacity: 0.82\" title=\"0.003\">y</span><span style=\"background-color: hsl(120, 100.00%, 95.51%); opacity: 0.81\" title=\"0.001\"> </span><span style=\"background-color: hsl(120, 100.00%, 97.33%); opacity: 0.80\" title=\"0.000\">n</span><span style=\"background-color: hsl(120, 100.00%, 92.98%); opacity: 0.82\" title=\"0.002\">e</span><span style=\"background-color: hsl(120, 100.00%, 91.30%); opacity: 0.82\" title=\"0.003\">w</span><span style=\"background-color: hsl(120, 100.00%, 85.08%); opacity: 0.85\" title=\"0.006\"> </span><span style=\"background-color: hsl(120, 100.00%, 81.62%); opacity: 0.87\" title=\"0.008\">h</span><span style=\"background-color: hsl(120, 100.00%, 79.17%); opacity: 0.88\" title=\"0.009\">u</span><span style=\"background-color: hsl(120, 100.00%, 77.01%); opacity: 0.89\" title=\"0.010\">m</span><span style=\"background-color: hsl(120, 100.00%, 80.35%); opacity: 0.87\" title=\"0.008\">a</span><span style=\"background-color: hsl(120, 100.00%, 84.28%); opacity: 0.85\" title=\"0.006\">n</span><span style=\"background-color: hsl(120, 100.00%, 90.37%); opacity: 0.83\" title=\"0.003\"> </span><span style=\"background-color: hsl(120, 100.00%, 99.86%); opacity: 0.80\" title=\"0.000\">o</span><span style=\"background-color: hsl(0, 100.00%, 97.98%); opacity: 0.80\" title=\"-0.000\">n</span><span style=\"background-color: hsl(0, 100.00%, 97.97%); opacity: 0.80\" title=\"-0.000\">e</span><span style=\"background-color: hsl(120, 100.00%, 96.89%); opacity: 0.81\" title=\"0.001\"> </span><span style=\"background-color: hsl(120, 100.00%, 94.43%); opacity: 0.81\" title=\"0.001\">s</span><span style=\"background-color: hsl(120, 100.00%, 91.04%); opacity: 0.82\" title=\"0.003\">i</span><span style=\"background-color: hsl(120, 100.00%, 91.40%); opacity: 0.82\" title=\"0.003\">r</span><span style=\"background-color: hsl(120, 100.00%, 90.65%); opacity: 0.83\" title=\"0.003\"> </span><span style=\"background-color: hsl(120, 100.00%, 88.25%); opacity: 0.83\" title=\"0.004\">r</span><span style=\"background-color: hsl(120, 100.00%, 84.47%); opacity: 0.85\" title=\"0.006\">a</span><span style=\"background-color: hsl(120, 100.00%, 82.97%); opacity: 0.86\" title=\"0.007\">l</span><span style=\"background-color: hsl(120, 100.00%, 82.16%); opacity: 0.86\" title=\"0.007\">p</span><span style=\"background-color: hsl(120, 100.00%, 85.95%); opacity: 0.84\" title=\"0.005\">h</span><span style=\"background-color: hsl(120, 100.00%, 85.98%); opacity: 0.84\" title=\"0.005\"> </span><span style=\"background-color: hsl(120, 100.00%, 87.25%); opacity: 0.84\" title=\"0.004\">r</span><span style=\"background-color: hsl(120, 100.00%, 86.78%); opacity: 0.84\" title=\"0.005\">i</span><span style=\"background-color: hsl(120, 100.00%, 86.91%); opacity: 0.84\" title=\"0.005\">c</span><span style=\"background-color: hsl(120, 100.00%, 88.40%); opacity: 0.83\" title=\"0.004\">h</span><span style=\"background-color: hsl(120, 100.00%, 89.63%); opacity: 0.83\" title=\"0.003\">a</span><span style=\"background-color: hsl(120, 100.00%, 90.66%); opacity: 0.83\" title=\"0.003\">r</span><span style=\"background-color: hsl(120, 100.00%, 89.15%); opacity: 0.83\" title=\"0.004\">d</span><span style=\"background-color: hsl(120, 100.00%, 89.48%); opacity: 0.83\" title=\"0.003\">s</span><span style=\"background-color: hsl(120, 100.00%, 89.09%); opacity: 0.83\" title=\"0.004\">o</span><span style=\"background-color: hsl(120, 100.00%, 91.35%); opacity: 0.82\" title=\"0.003\">n</span><span style=\"background-color: hsl(120, 100.00%, 93.75%); opacity: 0.81\" title=\"0.002\"> </span><span style=\"background-color: hsl(120, 100.00%, 97.89%); opacity: 0.80\" title=\"0.000\">o</span><span style=\"background-color: hsl(0, 100.00%, 97.24%); opacity: 0.80\" title=\"-0.001\">n</span><span style=\"background-color: hsl(0, 100.00%, 96.65%); opacity: 0.81\" title=\"-0.001\">e</span><span style=\"background-color: hsl(0, 100.00%, 96.33%); opacity: 0.81\" title=\"-0.001\"> </span><span style=\"background-color: hsl(0, 100.00%, 95.02%); opacity: 0.81\" title=\"-0.001\">o</span><span style=\"background-color: hsl(0, 100.00%, 96.14%); opacity: 0.81\" title=\"-0.001\">l</span><span style=\"background-color: hsl(0, 100.00%, 95.25%); opacity: 0.81\" title=\"-0.001\">d</span><span style=\"background-color: hsl(120, 100.00%, 96.14%); opacity: 0.81\" title=\"0.001\"> </span><span style=\"background-color: hsl(120, 100.00%, 91.77%); opacity: 0.82\" title=\"0.002\">b</span><span style=\"background-color: hsl(120, 100.00%, 89.13%); opacity: 0.83\" title=\"0.004\">r</span><span style=\"background-color: hsl(120, 100.00%, 91.98%); opacity: 0.82\" title=\"0.002\">i</span><span style=\"background-color: hsl(120, 100.00%, 98.19%); opacity: 0.80\" title=\"0.000\">t</span><span style=\"background-color: hsl(0, 100.00%, 99.48%); opacity: 0.80\" title=\"-0.000\">i</span><span style=\"background-color: hsl(0, 100.00%, 93.91%); opacity: 0.81\" title=\"-0.002\">s</span><span style=\"background-color: hsl(0, 100.00%, 94.11%); opacity: 0.81\" title=\"-0.001\">h</span><span style=\"background-color: hsl(0, 100.00%, 93.46%); opacity: 0.82\" title=\"-0.002\"> </span><span style=\"background-color: hsl(0, 100.00%, 94.29%); opacity: 0.81\" title=\"-0.001\">l</span><span style=\"background-color: hsl(0, 100.00%, 94.37%); opacity: 0.81\" title=\"-0.001\">e</span><span style=\"background-color: hsl(120, 100.00%, 96.40%); opacity: 0.81\" title=\"0.001\">g</span><span style=\"background-color: hsl(120, 100.00%, 92.30%); opacity: 0.82\" title=\"0.002\">e</span><span style=\"background-color: hsl(120, 100.00%, 89.00%); opacity: 0.83\" title=\"0.004\">n</span><span style=\"background-color: hsl(120, 100.00%, 90.55%); opacity: 0.83\" title=\"0.003\">d</span><span style=\"background-color: hsl(120, 100.00%, 89.42%); opacity: 0.83\" title=\"0.003\">s</span><span style=\"background-color: hsl(120, 100.00%, 81.99%); opacity: 0.86\" title=\"0.007\"> </span><span style=\"background-color: hsl(120, 100.00%, 74.53%); opacity: 0.90\" title=\"0.012\">b</span><span style=\"background-color: hsl(120, 100.00%, 66.41%); opacity: 0.96\" title=\"0.018\">r</span><span style=\"background-color: hsl(120, 100.00%, 63.67%); opacity: 0.97\" title=\"0.020\">i</span><span style=\"background-color: hsl(120, 100.00%, 60.00%); opacity: 1.00\" title=\"0.023\">l</span><span style=\"background-color: hsl(120, 100.00%, 60.08%); opacity: 1.00\" title=\"0.023\">l</span><span style=\"background-color: hsl(120, 100.00%, 62.84%); opacity: 0.98\" title=\"0.021\">i</span><span style=\"background-color: hsl(120, 100.00%, 68.17%); opacity: 0.94\" title=\"0.017\">a</span><span style=\"background-color: hsl(120, 100.00%, 76.57%); opacity: 0.89\" title=\"0.011\">n</span><span style=\"background-color: hsl(120, 100.00%, 82.91%); opacity: 0.86\" title=\"0.007\">t</span><span style=\"background-color: hsl(120, 100.00%, 85.02%); opacity: 0.85\" title=\"0.006\"> </span><span style=\"background-color: hsl(120, 100.00%, 81.58%); opacity: 0.87\" title=\"0.008\">a</span><span style=\"background-color: hsl(120, 100.00%, 75.82%); opacity: 0.90\" title=\"0.011\">l</span><span style=\"background-color: hsl(120, 100.00%, 73.54%); opacity: 0.91\" title=\"0.013\">w</span><span style=\"background-color: hsl(120, 100.00%, 72.33%); opacity: 0.92\" title=\"0.014\">a</span><span style=\"background-color: hsl(120, 100.00%, 72.91%); opacity: 0.91\" title=\"0.013\">y</span><span style=\"background-color: hsl(120, 100.00%, 75.01%); opacity: 0.90\" title=\"0.012\">s</span><span style=\"background-color: hsl(120, 100.00%, 78.89%); opacity: 0.88\" title=\"0.009\"> </span><span style=\"background-color: hsl(120, 100.00%, 84.84%); opacity: 0.85\" title=\"0.006\">r</span><span style=\"background-color: hsl(120, 100.00%, 89.37%); opacity: 0.83\" title=\"0.003\">o</span><span style=\"background-color: hsl(120, 100.00%, 93.63%); opacity: 0.81\" title=\"0.002\">l</span><span style=\"background-color: hsl(0, 100.00%, 99.78%); opacity: 0.80\" title=\"-0.000\">e</span><span style=\"background-color: hsl(0, 100.00%, 96.97%); opacity: 0.81\" title=\"-0.001\"> </span><span style=\"background-color: hsl(0, 100.00%, 95.94%); opacity: 0.81\" title=\"-0.001\">t</span><span style=\"background-color: hsl(120, 100.00%, 96.35%); opacity: 0.81\" title=\"0.001\">a</span><span style=\"background-color: hsl(120, 100.00%, 92.81%); opacity: 0.82\" title=\"0.002\">r</span><span style=\"background-color: hsl(120, 100.00%, 88.70%); opacity: 0.83\" title=\"0.004\">z</span><span style=\"background-color: hsl(120, 100.00%, 89.92%); opacity: 0.83\" title=\"0.003\">a</span><span style=\"background-color: hsl(120, 100.00%, 91.10%); opacity: 0.82\" title=\"0.003\">n</span><span style=\"background-color: hsl(120, 100.00%, 90.54%); opacity: 0.83\" title=\"0.003\">s</span><span style=\"background-color: hsl(120, 100.00%, 86.87%); opacity: 0.84\" title=\"0.005\"> </span><span style=\"background-color: hsl(120, 100.00%, 86.37%); opacity: 0.84\" title=\"0.005\">g</span><span style=\"background-color: hsl(120, 100.00%, 86.98%); opacity: 0.84\" title=\"0.005\">r</span><span style=\"background-color: hsl(120, 100.00%, 92.26%); opacity: 0.82\" title=\"0.002\">a</span><span style=\"background-color: hsl(120, 100.00%, 90.24%); opacity: 0.83\" title=\"0.003\">n</span><span style=\"background-color: hsl(120, 100.00%, 92.04%); opacity: 0.82\" title=\"0.002\">d</span><span style=\"background-color: hsl(120, 100.00%, 88.46%); opacity: 0.83\" title=\"0.004\">f</span><span style=\"background-color: hsl(120, 100.00%, 87.49%); opacity: 0.84\" title=\"0.004\">a</span><span style=\"background-color: hsl(120, 100.00%, 90.79%); opacity: 0.82\" title=\"0.003\">t</span><span style=\"background-color: hsl(120, 100.00%, 94.99%); opacity: 0.81\" title=\"0.001\">h</span><span style=\"background-color: hsl(0, 100.00%, 99.31%); opacity: 0.80\" title=\"-0.000\">e</span><span style=\"background-color: hsl(0, 100.00%, 97.27%); opacity: 0.80\" title=\"-0.000\">r</span><span style=\"background-color: hsl(0, 100.00%, 96.45%); opacity: 0.81\" title=\"-0.001\"> </span><span style=\"background-color: hsl(0, 100.00%, 95.44%); opacity: 0.81\" title=\"-0.001\">s</span><span style=\"background-color: hsl(0, 100.00%, 97.13%); opacity: 0.80\" title=\"-0.001\">i</span><span style=\"background-color: hsl(0, 100.00%, 95.11%); opacity: 0.81\" title=\"-0.001\">x</span><span style=\"background-color: hsl(0, 100.00%, 97.66%); opacity: 0.80\" title=\"-0.000\">t</span><span style=\"background-color: hsl(0, 100.00%, 98.06%); opacity: 0.80\" title=\"-0.000\">h</span><span style=\"background-color: hsl(120, 100.00%, 94.80%); opacity: 0.81\" title=\"0.001\"> </span><span style=\"background-color: hsl(120, 100.00%, 94.40%); opacity: 0.81\" title=\"0.001\">e</span><span style=\"background-color: hsl(120, 100.00%, 93.56%); opacity: 0.81\" title=\"0.002\">a</span><span style=\"background-color: hsl(120, 100.00%, 94.17%); opacity: 0.81\" title=\"0.001\">r</span><span style=\"background-color: hsl(120, 100.00%, 93.87%); opacity: 0.81\" title=\"0.002\">l</span><span style=\"background-color: hsl(120, 100.00%, 87.69%); opacity: 0.84\" title=\"0.004\"> </span><span style=\"background-color: hsl(120, 100.00%, 84.74%); opacity: 0.85\" title=\"0.006\">g</span><span style=\"background-color: hsl(120, 100.00%, 84.77%); opacity: 0.85\" title=\"0.006\">r</span><span style=\"background-color: hsl(120, 100.00%, 87.56%); opacity: 0.84\" title=\"0.004\">e</span><span style=\"background-color: hsl(0, 100.00%, 98.39%); opacity: 0.80\" title=\"-0.000\">y</span><span style=\"background-color: hsl(0, 100.00%, 98.98%); opacity: 0.80\" title=\"-0.000\">s</span><span style=\"background-color: hsl(0, 100.00%, 96.04%); opacity: 0.81\" title=\"-0.001\">t</span><span style=\"background-color: hsl(0, 100.00%, 90.57%); opacity: 0.83\" title=\"-0.003\">o</span><span style=\"background-color: hsl(0, 100.00%, 89.27%); opacity: 0.83\" title=\"-0.004\">k</span><span style=\"background-color: hsl(0, 100.00%, 92.19%); opacity: 0.82\" title=\"-0.002\">e</span><span style=\"background-color: hsl(120, 100.00%, 98.92%); opacity: 0.80\" title=\"0.000\"> </span><span style=\"background-color: hsl(120, 100.00%, 91.74%); opacity: 0.82\" title=\"0.002\">f</span><span style=\"background-color: hsl(120, 100.00%, 91.29%); opacity: 0.82\" title=\"0.003\">i</span><span style=\"background-color: hsl(120, 100.00%, 92.19%); opacity: 0.82\" title=\"0.002\">l</span><span style=\"background-color: hsl(120, 100.00%, 91.91%); opacity: 0.82\" title=\"0.002\">m</span><span style=\"background-color: hsl(120, 100.00%, 91.39%); opacity: 0.82\" title=\"0.003\"> </span><span style=\"background-color: hsl(120, 100.00%, 90.12%); opacity: 0.83\" title=\"0.003\">f</span><span style=\"background-color: hsl(120, 100.00%, 87.08%); opacity: 0.84\" title=\"0.005\">o</span><span style=\"background-color: hsl(120, 100.00%, 87.65%); opacity: 0.84\" title=\"0.004\">c</span><span style=\"background-color: hsl(120, 100.00%, 89.20%); opacity: 0.83\" title=\"0.004\">u</span><span style=\"background-color: hsl(120, 100.00%, 90.83%); opacity: 0.82\" title=\"0.003\">s</span><span style=\"background-color: hsl(120, 100.00%, 89.21%); opacity: 0.83\" title=\"0.004\">e</span><span style=\"background-color: hsl(120, 100.00%, 87.34%); opacity: 0.84\" title=\"0.004\">s</span><span style=\"background-color: hsl(120, 100.00%, 90.04%); opacity: 0.83\" title=\"0.003\"> </span><span style=\"background-color: hsl(120, 100.00%, 94.31%); opacity: 0.81\" title=\"0.001\">t</span><span style=\"background-color: hsl(120, 100.00%, 94.38%); opacity: 0.81\" title=\"0.001\">a</span><span style=\"background-color: hsl(120, 100.00%, 92.16%); opacity: 0.82\" title=\"0.002\">r</span><span style=\"background-color: hsl(120, 100.00%, 88.47%); opacity: 0.83\" title=\"0.004\">z</span><span style=\"background-color: hsl(120, 100.00%, 90.49%); opacity: 0.83\" title=\"0.003\">a</span><span style=\"background-color: hsl(120, 100.00%, 92.48%); opacity: 0.82\" title=\"0.002\">n</span><span style=\"background-color: hsl(120, 100.00%, 97.61%); opacity: 0.80\" title=\"0.000\">s</span><span style=\"background-color: hsl(120, 100.00%, 98.76%); opacity: 0.80\" title=\"0.000\"> </span><span style=\"background-color: hsl(120, 100.00%, 97.99%); opacity: 0.80\" title=\"0.000\">s</span><span style=\"background-color: hsl(120, 100.00%, 92.56%); opacity: 0.82\" title=\"0.002\">t</span><span style=\"background-color: hsl(120, 100.00%, 92.22%); opacity: 0.82\" title=\"0.002\">r</span><span style=\"background-color: hsl(120, 100.00%, 93.89%); opacity: 0.81\" title=\"0.002\">u</span><span style=\"background-color: hsl(0, 100.00%, 99.86%); opacity: 0.80\" title=\"-0.000\">g</span><span style=\"background-color: hsl(0, 100.00%, 97.94%); opacity: 0.80\" title=\"-0.000\">g</span><span style=\"background-color: hsl(0, 100.00%, 95.87%); opacity: 0.81\" title=\"-0.001\">l</span><span style=\"background-color: hsl(120, 100.00%, 97.12%); opacity: 0.80\" title=\"0.001\">e</span><span style=\"background-color: hsl(120, 100.00%, 98.55%); opacity: 0.80\" title=\"0.000\">s</span><span style=\"background-color: hsl(120, 100.00%, 94.29%); opacity: 0.81\" title=\"0.001\"> </span><span style=\"background-color: hsl(0, 100.00%, 99.15%); opacity: 0.80\" title=\"-0.000\">a</span><span style=\"background-color: hsl(0, 100.00%, 95.49%); opacity: 0.81\" title=\"-0.001\">d</span><span style=\"background-color: hsl(0, 100.00%, 95.32%); opacity: 0.81\" title=\"-0.001\">a</span><span style=\"background-color: hsl(0, 100.00%, 96.92%); opacity: 0.81\" title=\"-0.001\">p</span><span style=\"background-color: hsl(0, 100.00%, 93.83%); opacity: 0.81\" title=\"-0.002\">t</span><span style=\"background-color: hsl(0, 100.00%, 89.42%); opacity: 0.83\" title=\"-0.003\">i</span><span style=\"background-color: hsl(0, 100.00%, 88.17%); opacity: 0.84\" title=\"-0.004\">n</span><span style=\"background-color: hsl(0, 100.00%, 90.02%); opacity: 0.83\" title=\"-0.003\">g</span><span style=\"background-color: hsl(0, 100.00%, 95.58%); opacity: 0.81\" title=\"-0.001\"> </span><span style=\"background-color: hsl(120, 100.00%, 94.69%); opacity: 0.81\" title=\"0.001\">c</span><span style=\"background-color: hsl(120, 100.00%, 93.44%); opacity: 0.82\" title=\"0.002\">i</span><span style=\"background-color: hsl(120, 100.00%, 94.48%); opacity: 0.81\" title=\"0.001\">v</span><span style=\"background-color: hsl(120, 100.00%, 94.89%); opacity: 0.81\" title=\"0.001\">i</span><span style=\"background-color: hsl(120, 100.00%, 93.15%); opacity: 0.82\" title=\"0.002\">l</span><span style=\"background-color: hsl(120, 100.00%, 95.50%); opacity: 0.81\" title=\"0.001\">i</span><span style=\"background-color: hsl(120, 100.00%, 97.08%); opacity: 0.80\" title=\"0.001\">z</span><span style=\"background-color: hsl(120, 100.00%, 95.93%); opacity: 0.81\" title=\"0.001\">a</span><span style=\"background-color: hsl(120, 100.00%, 92.10%); opacity: 0.82\" title=\"0.002\">t</span><span style=\"background-color: hsl(120, 100.00%, 89.54%); opacity: 0.83\" title=\"0.003\">i</span><span style=\"background-color: hsl(120, 100.00%, 89.91%); opacity: 0.83\" title=\"0.003\">o</span><span style=\"background-color: hsl(120, 100.00%, 92.81%); opacity: 0.82\" title=\"0.002\">n</span><span style=\"background-color: hsl(120, 100.00%, 93.61%); opacity: 0.81\" title=\"0.002\"> </span><span style=\"background-color: hsl(120, 100.00%, 92.36%); opacity: 0.82\" title=\"0.002\">i</span><span style=\"background-color: hsl(120, 100.00%, 95.56%); opacity: 0.81\" title=\"0.001\">n</span><span style=\"background-color: hsl(120, 100.00%, 96.70%); opacity: 0.81\" title=\"0.001\">n</span><span style=\"background-color: hsl(0, 100.00%, 95.10%); opacity: 0.81\" title=\"-0.001\">e</span><span style=\"background-color: hsl(0, 100.00%, 95.05%); opacity: 0.81\" title=\"-0.001\">r</span><span style=\"background-color: hsl(0, 100.00%, 94.39%); opacity: 0.81\" title=\"-0.001\"> </span><span style=\"background-color: hsl(0, 100.00%, 92.97%); opacity: 0.82\" title=\"-0.002\">c</span><span style=\"background-color: hsl(0, 100.00%, 93.26%); opacity: 0.82\" title=\"-0.002\">o</span><span style=\"background-color: hsl(0, 100.00%, 95.79%); opacity: 0.81\" title=\"-0.001\">n</span><span style=\"background-color: hsl(0, 100.00%, 95.80%); opacity: 0.81\" title=\"-0.001\">f</span><span style=\"background-color: hsl(0, 100.00%, 95.14%); opacity: 0.81\" title=\"-0.001\">l</span><span style=\"background-color: hsl(0, 100.00%, 93.56%); opacity: 0.81\" title=\"-0.002\">i</span><span style=\"background-color: hsl(0, 100.00%, 95.16%); opacity: 0.81\" title=\"-0.001\">c</span><span style=\"background-color: hsl(0, 100.00%, 99.48%); opacity: 0.80\" title=\"-0.000\">t</span><span style=\"background-color: hsl(0, 100.00%, 97.12%); opacity: 0.80\" title=\"-0.001\"> </span><span style=\"background-color: hsl(0, 100.00%, 93.71%); opacity: 0.81\" title=\"-0.002\">j</span><span style=\"background-color: hsl(0, 100.00%, 94.27%); opacity: 0.81\" title=\"-0.001\">u</span><span style=\"background-color: hsl(0, 100.00%, 92.59%); opacity: 0.82\" title=\"-0.002\">n</span><span style=\"background-color: hsl(0, 100.00%, 94.98%); opacity: 0.81\" title=\"-0.001\">g</span><span style=\"background-color: hsl(0, 100.00%, 92.34%); opacity: 0.82\" title=\"-0.002\">l</span><span style=\"background-color: hsl(0, 100.00%, 93.94%); opacity: 0.81\" title=\"-0.002\">e</span><span style=\"background-color: hsl(0, 100.00%, 96.56%); opacity: 0.81\" title=\"-0.001\"> </span><span style=\"background-color: hsl(0, 100.00%, 97.55%); opacity: 0.80\" title=\"-0.000\">e</span><span style=\"background-color: hsl(0, 100.00%, 93.99%); opacity: 0.81\" title=\"-0.002\">x</span><span style=\"background-color: hsl(0, 100.00%, 89.26%); opacity: 0.83\" title=\"-0.004\">p</span><span style=\"background-color: hsl(0, 100.00%, 85.53%); opacity: 0.85\" title=\"-0.005\">l</span><span style=\"background-color: hsl(0, 100.00%, 87.12%); opacity: 0.84\" title=\"-0.005\">o</span><span style=\"background-color: hsl(0, 100.00%, 88.71%); opacity: 0.83\" title=\"-0.004\">i</span><span style=\"background-color: hsl(0, 100.00%, 91.69%); opacity: 0.82\" title=\"-0.002\">t</span><span style=\"background-color: hsl(0, 100.00%, 93.10%); opacity: 0.82\" title=\"-0.002\">s</span><span style=\"background-color: hsl(0, 100.00%, 96.71%); opacity: 0.81\" title=\"-0.001\"> </span><span style=\"background-color: hsl(120, 100.00%, 90.80%); opacity: 0.82\" title=\"0.003\">u</span><span style=\"background-color: hsl(120, 100.00%, 83.65%); opacity: 0.86\" title=\"0.006\">n</span><span style=\"background-color: hsl(120, 100.00%, 79.15%); opacity: 0.88\" title=\"0.009\">u</span><span style=\"background-color: hsl(120, 100.00%, 79.87%); opacity: 0.87\" title=\"0.009\">s</span><span style=\"background-color: hsl(120, 100.00%, 83.54%); opacity: 0.86\" title=\"0.006\">u</span><span style=\"background-color: hsl(120, 100.00%, 85.68%); opacity: 0.85\" title=\"0.005\">a</span><span style=\"background-color: hsl(120, 100.00%, 88.35%); opacity: 0.83\" title=\"0.004\">l</span><span style=\"background-color: hsl(120, 100.00%, 90.86%); opacity: 0.82\" title=\"0.003\"> </span><span style=\"background-color: hsl(120, 100.00%, 92.18%); opacity: 0.82\" title=\"0.002\">t</span><span style=\"background-color: hsl(0, 100.00%, 98.51%); opacity: 0.80\" title=\"-0.000\">a</span><span style=\"background-color: hsl(0, 100.00%, 93.57%); opacity: 0.81\" title=\"-0.002\">k</span><span style=\"background-color: hsl(0, 100.00%, 92.30%); opacity: 0.82\" title=\"-0.002\">e</span><span style=\"background-color: hsl(0, 100.00%, 92.66%); opacity: 0.82\" title=\"-0.002\"> </span><span style=\"background-color: hsl(0, 100.00%, 97.98%); opacity: 0.80\" title=\"-0.000\">o</span><span style=\"background-color: hsl(120, 100.00%, 99.96%); opacity: 0.80\" title=\"0.000\">l</span><span style=\"background-color: hsl(0, 100.00%, 96.04%); opacity: 0.81\" title=\"-0.001\">d</span><span style=\"background-color: hsl(120, 100.00%, 94.73%); opacity: 0.81\" title=\"0.001\"> </span><span style=\"background-color: hsl(120, 100.00%, 85.63%); opacity: 0.85\" title=\"0.005\">c</span><span style=\"background-color: hsl(120, 100.00%, 79.59%); opacity: 0.88\" title=\"0.009\">l</span><span style=\"background-color: hsl(120, 100.00%, 75.80%); opacity: 0.90\" title=\"0.011\">a</span><span style=\"background-color: hsl(120, 100.00%, 73.65%); opacity: 0.91\" title=\"0.013\">s</span><span style=\"background-color: hsl(120, 100.00%, 73.92%); opacity: 0.91\" title=\"0.013\">s</span><span style=\"background-color: hsl(120, 100.00%, 75.59%); opacity: 0.90\" title=\"0.011\">i</span><span style=\"background-color: hsl(120, 100.00%, 79.06%); opacity: 0.88\" title=\"0.009\">c</span><span style=\"background-color: hsl(120, 100.00%, 82.68%); opacity: 0.86\" title=\"0.007\"> </span><span style=\"background-color: hsl(120, 100.00%, 88.04%); opacity: 0.84\" title=\"0.004\">m</span><span style=\"background-color: hsl(120, 100.00%, 87.84%); opacity: 0.84\" title=\"0.004\">a</span><span style=\"background-color: hsl(120, 100.00%, 86.24%); opacity: 0.84\" title=\"0.005\">k</span><span style=\"background-color: hsl(120, 100.00%, 82.76%); opacity: 0.86\" title=\"0.007\">e</span><span style=\"background-color: hsl(120, 100.00%, 80.84%); opacity: 0.87\" title=\"0.008\">s</span><span style=\"background-color: hsl(120, 100.00%, 85.83%); opacity: 0.85\" title=\"0.005\"> </span><span style=\"background-color: hsl(120, 100.00%, 95.07%); opacity: 0.81\" title=\"0.001\">t</span><span style=\"background-color: hsl(0, 100.00%, 96.59%); opacity: 0.81\" title=\"-0.001\">y</span><span style=\"background-color: hsl(120, 100.00%, 97.40%); opacity: 0.80\" title=\"0.000\">p</span><span style=\"background-color: hsl(120, 100.00%, 96.14%); opacity: 0.81\" title=\"0.001\">i</span><span style=\"background-color: hsl(120, 100.00%, 95.28%); opacity: 0.81\" title=\"0.001\">c</span><span style=\"background-color: hsl(120, 100.00%, 98.83%); opacity: 0.80\" title=\"0.000\">a</span><span style=\"background-color: hsl(120, 100.00%, 98.26%); opacity: 0.80\" title=\"0.000\">l</span><span style=\"background-color: hsl(120, 100.00%, 96.44%); opacity: 0.81\" title=\"0.001\"> </span><span style=\"background-color: hsl(120, 100.00%, 95.85%); opacity: 0.81\" title=\"0.001\">d</span><span style=\"background-color: hsl(120, 100.00%, 95.56%); opacity: 0.81\" title=\"0.001\">r</span><span style=\"background-color: hsl(120, 100.00%, 93.84%); opacity: 0.81\" title=\"0.002\">a</span><span style=\"background-color: hsl(120, 100.00%, 94.15%); opacity: 0.81\" title=\"0.001\">m</span><span style=\"background-color: hsl(120, 100.00%, 98.22%); opacity: 0.80\" title=\"0.000\">a</span><span style=\"background-color: hsl(0, 100.00%, 93.65%); opacity: 0.81\" title=\"-0.002\">t</span><span style=\"background-color: hsl(0, 100.00%, 99.24%); opacity: 0.80\" title=\"-0.000\">i</span><span style=\"background-color: hsl(0, 100.00%, 97.64%); opacity: 0.80\" title=\"-0.000\">c</span><span style=\"background-color: hsl(120, 100.00%, 92.80%); opacity: 0.82\" title=\"0.002\"> </span><span style=\"background-color: hsl(120, 100.00%, 89.09%); opacity: 0.83\" title=\"0.004\">a</span><span style=\"background-color: hsl(120, 100.00%, 83.18%); opacity: 0.86\" title=\"0.007\">d</span><span style=\"background-color: hsl(120, 100.00%, 80.66%); opacity: 0.87\" title=\"0.008\">v</span><span style=\"background-color: hsl(120, 100.00%, 77.49%); opacity: 0.89\" title=\"0.010\">e</span><span style=\"background-color: hsl(120, 100.00%, 76.34%); opacity: 0.89\" title=\"0.011\">n</span><span style=\"background-color: hsl(120, 100.00%, 76.01%); opacity: 0.90\" title=\"0.011\">t</span><span style=\"background-color: hsl(120, 100.00%, 79.64%); opacity: 0.88\" title=\"0.009\">u</span><span style=\"background-color: hsl(120, 100.00%, 83.83%); opacity: 0.85\" title=\"0.006\">r</span><span style=\"background-color: hsl(120, 100.00%, 85.27%); opacity: 0.85\" title=\"0.006\">e</span><span style=\"background-color: hsl(120, 100.00%, 83.42%); opacity: 0.86\" title=\"0.007\"> </span><span style=\"background-color: hsl(120, 100.00%, 79.24%); opacity: 0.88\" title=\"0.009\">a</span><span style=\"background-color: hsl(120, 100.00%, 75.65%); opacity: 0.90\" title=\"0.011\">l</span><span style=\"background-color: hsl(120, 100.00%, 74.55%); opacity: 0.90\" title=\"0.012\">s</span><span style=\"background-color: hsl(120, 100.00%, 77.22%); opacity: 0.89\" title=\"0.010\">o</span><span style=\"background-color: hsl(120, 100.00%, 81.25%); opacity: 0.87\" title=\"0.008\"> </span><span style=\"background-color: hsl(120, 100.00%, 85.08%); opacity: 0.85\" title=\"0.006\">m</span><span style=\"background-color: hsl(120, 100.00%, 81.36%); opacity: 0.87\" title=\"0.008\">o</span><span style=\"background-color: hsl(120, 100.00%, 80.01%); opacity: 0.87\" title=\"0.009\">v</span><span style=\"background-color: hsl(120, 100.00%, 83.12%); opacity: 0.86\" title=\"0.007\">i</span><span style=\"background-color: hsl(120, 100.00%, 84.20%); opacity: 0.85\" title=\"0.006\">n</span><span style=\"background-color: hsl(120, 100.00%, 89.91%); opacity: 0.83\" title=\"0.003\">g</span><span style=\"background-color: hsl(120, 100.00%, 88.83%); opacity: 0.83\" title=\"0.004\"> </span><span style=\"background-color: hsl(120, 100.00%, 84.66%); opacity: 0.85\" title=\"0.006\">p</span><span style=\"background-color: hsl(120, 100.00%, 81.02%); opacity: 0.87\" title=\"0.008\">e</span><span style=\"background-color: hsl(120, 100.00%, 80.97%); opacity: 0.87\" title=\"0.008\">r</span><span style=\"background-color: hsl(120, 100.00%, 84.92%); opacity: 0.85\" title=\"0.006\">s</span><span style=\"background-color: hsl(120, 100.00%, 85.46%); opacity: 0.85\" title=\"0.005\">o</span><span style=\"background-color: hsl(120, 100.00%, 87.43%); opacity: 0.84\" title=\"0.004\">n</span><span style=\"background-color: hsl(120, 100.00%, 89.64%); opacity: 0.83\" title=\"0.003\">a</span><span style=\"background-color: hsl(120, 100.00%, 93.77%); opacity: 0.81\" title=\"0.002\">l</span><span style=\"background-color: hsl(120, 100.00%, 95.52%); opacity: 0.81\" title=\"0.001\"> </span><span style=\"background-color: hsl(120, 100.00%, 93.40%); opacity: 0.82\" title=\"0.002\">s</span><span style=\"background-color: hsl(120, 100.00%, 91.75%); opacity: 0.82\" title=\"0.002\">t</span><span style=\"background-color: hsl(120, 100.00%, 88.52%); opacity: 0.83\" title=\"0.004\">o</span><span style=\"background-color: hsl(120, 100.00%, 89.21%); opacity: 0.83\" title=\"0.004\">r</span><span style=\"background-color: hsl(120, 100.00%, 90.85%); opacity: 0.82\" title=\"0.003\">y</span><span style=\"background-color: hsl(0, 100.00%, 90.56%); opacity: 0.83\" title=\"-0.003\"> </span><span style=\"background-color: hsl(0, 100.00%, 79.28%); opacity: 0.88\" title=\"-0.009\">w</span><span style=\"background-color: hsl(0, 100.00%, 78.21%); opacity: 0.88\" title=\"-0.010\">a</span><span style=\"background-color: hsl(0, 100.00%, 77.73%); opacity: 0.89\" title=\"-0.010\">s</span><span style=\"background-color: hsl(0, 100.00%, 87.60%); opacity: 0.84\" title=\"-0.004\">n</span><span style=\"background-color: hsl(0, 100.00%, 96.34%); opacity: 0.81\" title=\"-0.001\">t</span><span style=\"background-color: hsl(120, 100.00%, 87.59%); opacity: 0.84\" title=\"0.004\"> </span><span style=\"background-color: hsl(120, 100.00%, 76.29%); opacity: 0.89\" title=\"0.011\">s</span><span style=\"background-color: hsl(120, 100.00%, 71.03%); opacity: 0.93\" title=\"0.015\">u</span><span style=\"background-color: hsl(120, 100.00%, 66.75%); opacity: 0.95\" title=\"0.018\">r</span><span style=\"background-color: hsl(120, 100.00%, 64.29%); opacity: 0.97\" title=\"0.020\">p</span><span style=\"background-color: hsl(120, 100.00%, 66.35%); opacity: 0.96\" title=\"0.018\">r</span><span style=\"background-color: hsl(120, 100.00%, 72.08%); opacity: 0.92\" title=\"0.014\">i</span><span style=\"background-color: hsl(120, 100.00%, 80.34%); opacity: 0.87\" title=\"0.008\">s</span><span style=\"background-color: hsl(120, 100.00%, 89.78%); opacity: 0.83\" title=\"0.003\">e</span><span style=\"background-color: hsl(0, 100.00%, 98.01%); opacity: 0.80\" title=\"-0.000\">d</span><span style=\"background-color: hsl(0, 100.00%, 88.68%); opacity: 0.83\" title=\"-0.004\"> </span><span style=\"background-color: hsl(0, 100.00%, 85.66%); opacity: 0.85\" title=\"-0.005\">n</span><span style=\"background-color: hsl(0, 100.00%, 84.40%); opacity: 0.85\" title=\"-0.006\">o</span><span style=\"background-color: hsl(0, 100.00%, 87.93%); opacity: 0.84\" title=\"-0.004\">t</span><span style=\"background-color: hsl(0, 100.00%, 92.20%); opacity: 0.82\" title=\"-0.002\">e</span><span style=\"background-color: hsl(0, 100.00%, 88.11%); opacity: 0.84\" title=\"-0.004\"> </span><span style=\"background-color: hsl(0, 100.00%, 83.53%); opacity: 0.86\" title=\"-0.006\">d</span><span style=\"background-color: hsl(0, 100.00%, 79.45%); opacity: 0.88\" title=\"-0.009\">i</span><span style=\"background-color: hsl(0, 100.00%, 79.98%); opacity: 0.87\" title=\"-0.009\">r</span><span style=\"background-color: hsl(0, 100.00%, 81.60%); opacity: 0.87\" title=\"-0.008\">e</span><span style=\"background-color: hsl(0, 100.00%, 82.81%); opacity: 0.86\" title=\"-0.007\">c</span><span style=\"background-color: hsl(0, 100.00%, 83.37%); opacity: 0.86\" title=\"-0.007\">t</span><span style=\"background-color: hsl(0, 100.00%, 82.47%); opacity: 0.86\" title=\"-0.007\">o</span><span style=\"background-color: hsl(0, 100.00%, 84.47%); opacity: 0.85\" title=\"-0.006\">r</span><span style=\"background-color: hsl(0, 100.00%, 86.69%); opacity: 0.84\" title=\"-0.005\"> </span><span style=\"background-color: hsl(0, 100.00%, 94.30%); opacity: 0.81\" title=\"-0.001\">i</span><span style=\"background-color: hsl(120, 100.00%, 95.98%); opacity: 0.81\" title=\"0.001\">n</span><span style=\"background-color: hsl(120, 100.00%, 90.24%); opacity: 0.83\" title=\"0.003\">d</span><span style=\"background-color: hsl(120, 100.00%, 88.31%); opacity: 0.83\" title=\"0.004\">i</span><span style=\"background-color: hsl(120, 100.00%, 87.44%); opacity: 0.84\" title=\"0.004\">v</span><span style=\"background-color: hsl(120, 100.00%, 87.98%); opacity: 0.84\" title=\"0.004\">i</span><span style=\"background-color: hsl(120, 100.00%, 87.31%); opacity: 0.84\" title=\"0.004\">d</span><span style=\"background-color: hsl(120, 100.00%, 89.30%); opacity: 0.83\" title=\"0.004\">u</span><span style=\"background-color: hsl(120, 100.00%, 91.07%); opacity: 0.82\" title=\"0.003\">a</span><span style=\"background-color: hsl(120, 100.00%, 94.39%); opacity: 0.81\" title=\"0.001\">l</span><span style=\"background-color: hsl(120, 100.00%, 94.76%); opacity: 0.81\" title=\"0.001\"> </span><span style=\"background-color: hsl(120, 100.00%, 96.12%); opacity: 0.81\" title=\"0.001\">h</span><span style=\"background-color: hsl(120, 100.00%, 96.36%); opacity: 0.81\" title=\"0.001\">u</span><span style=\"background-color: hsl(120, 100.00%, 98.86%); opacity: 0.80\" title=\"0.000\">g</span><span style=\"background-color: hsl(0, 100.00%, 99.19%); opacity: 0.80\" title=\"-0.000\">h</span><span style=\"background-color: hsl(120, 100.00%, 97.16%); opacity: 0.80\" title=\"0.001\"> </span><span style=\"background-color: hsl(120, 100.00%, 95.94%); opacity: 0.81\" title=\"0.001\">h</span><span style=\"background-color: hsl(120, 100.00%, 89.25%); opacity: 0.83\" title=\"0.004\">u</span><span style=\"background-color: hsl(120, 100.00%, 87.49%); opacity: 0.84\" title=\"0.004\">d</span><span style=\"background-color: hsl(120, 100.00%, 87.49%); opacity: 0.84\" title=\"0.004\">s</span><span style=\"background-color: hsl(120, 100.00%, 88.63%); opacity: 0.83\" title=\"0.004\">o</span><span style=\"background-color: hsl(120, 100.00%, 89.82%); opacity: 0.83\" title=\"0.003\">n</span><span style=\"background-color: hsl(120, 100.00%, 85.22%); opacity: 0.85\" title=\"0.006\"> </span><span style=\"background-color: hsl(120, 100.00%, 81.29%); opacity: 0.87\" title=\"0.008\">a</span><span style=\"background-color: hsl(120, 100.00%, 77.93%); opacity: 0.89\" title=\"0.010\">l</span><span style=\"background-color: hsl(120, 100.00%, 77.73%); opacity: 0.89\" title=\"0.010\">s</span><span style=\"background-color: hsl(120, 100.00%, 80.71%); opacity: 0.87\" title=\"0.008\">o</span><span style=\"background-color: hsl(120, 100.00%, 91.23%); opacity: 0.82\" title=\"0.003\"> </span><span style=\"background-color: hsl(0, 100.00%, 89.20%); opacity: 0.83\" title=\"-0.004\">d</span><span style=\"background-color: hsl(0, 100.00%, 85.00%); opacity: 0.85\" title=\"-0.006\">i</span><span style=\"background-color: hsl(0, 100.00%, 85.96%); opacity: 0.84\" title=\"-0.005\">r</span><span style=\"background-color: hsl(0, 100.00%, 89.86%); opacity: 0.83\" title=\"-0.003\">e</span><span style=\"background-color: hsl(0, 100.00%, 94.77%); opacity: 0.81\" title=\"-0.001\">c</span><span style=\"background-color: hsl(0, 100.00%, 96.35%); opacity: 0.81\" title=\"-0.001\">t</span><span style=\"background-color: hsl(120, 100.00%, 98.79%); opacity: 0.80\" title=\"0.000\">e</span><span style=\"background-color: hsl(120, 100.00%, 99.24%); opacity: 0.80\" title=\"0.000\">d</span><span style=\"background-color: hsl(120, 100.00%, 98.65%); opacity: 0.80\" title=\"0.000\"> </span><span style=\"background-color: hsl(120, 100.00%, 95.43%); opacity: 0.81\" title=\"0.001\">c</span><span style=\"background-color: hsl(120, 100.00%, 94.02%); opacity: 0.81\" title=\"0.002\">h</span><span style=\"background-color: hsl(120, 100.00%, 89.96%); opacity: 0.83\" title=\"0.003\">a</span><span style=\"background-color: hsl(120, 100.00%, 89.31%); opacity: 0.83\" title=\"0.003\">r</span><span style=\"background-color: hsl(120, 100.00%, 91.82%); opacity: 0.82\" title=\"0.002\">i</span><span style=\"background-color: hsl(120, 100.00%, 94.81%); opacity: 0.81\" title=\"0.001\">o</span><span style=\"background-color: hsl(0, 100.00%, 99.44%); opacity: 0.80\" title=\"-0.000\">t</span><span style=\"background-color: hsl(120, 100.00%, 95.31%); opacity: 0.81\" title=\"0.001\">s</span><span style=\"background-color: hsl(120, 100.00%, 92.77%); opacity: 0.82\" title=\"0.002\"> </span><span style=\"background-color: hsl(120, 100.00%, 92.19%); opacity: 0.82\" title=\"0.002\">f</span><span style=\"background-color: hsl(0, 100.00%, 98.92%); opacity: 0.80\" title=\"-0.000\">i</span><span style=\"background-color: hsl(0, 100.00%, 95.28%); opacity: 0.81\" title=\"-0.001\">r</span><span style=\"background-color: hsl(0, 100.00%, 92.30%); opacity: 0.82\" title=\"-0.002\">e</span><span style=\"background-color: hsl(0, 100.00%, 91.79%); opacity: 0.82\" title=\"-0.002\"> </span><span style=\"background-color: hsl(0, 100.00%, 92.94%); opacity: 0.82\" title=\"-0.002\">a</span><span style=\"background-color: hsl(0, 100.00%, 87.76%); opacity: 0.84\" title=\"-0.004\">n</span><span style=\"background-color: hsl(0, 100.00%, 85.60%); opacity: 0.85\" title=\"-0.005\">o</span><span style=\"background-color: hsl(0, 100.00%, 85.05%); opacity: 0.85\" title=\"-0.006\">t</span><span style=\"background-color: hsl(0, 100.00%, 87.22%); opacity: 0.84\" title=\"-0.005\">h</span><span style=\"background-color: hsl(0, 100.00%, 92.51%); opacity: 0.82\" title=\"-0.002\">e</span><span style=\"background-color: hsl(0, 100.00%, 94.81%); opacity: 0.81\" title=\"-0.001\">r</span><span style=\"background-color: hsl(120, 100.00%, 86.97%); opacity: 0.84\" title=\"0.005\"> </span><span style=\"background-color: hsl(120, 100.00%, 76.05%); opacity: 0.90\" title=\"0.011\">b</span><span style=\"background-color: hsl(120, 100.00%, 67.26%); opacity: 0.95\" title=\"0.017\">r</span><span style=\"background-color: hsl(120, 100.00%, 64.52%); opacity: 0.97\" title=\"0.019\">i</span><span style=\"background-color: hsl(120, 100.00%, 60.54%); opacity: 1.00\" title=\"0.023\">l</span><span style=\"background-color: hsl(120, 100.00%, 60.29%); opacity: 1.00\" title=\"0.023\">l</span><span style=\"background-color: hsl(120, 100.00%, 62.55%); opacity: 0.98\" title=\"0.021\">i</span><span style=\"background-color: hsl(120, 100.00%, 67.80%); opacity: 0.95\" title=\"0.017\">a</span><span style=\"background-color: hsl(120, 100.00%, 76.49%); opacity: 0.89\" title=\"0.011\">n</span><span style=\"background-color: hsl(120, 100.00%, 84.54%); opacity: 0.85\" title=\"0.006\">t</span><span style=\"background-color: hsl(120, 100.00%, 94.55%); opacity: 0.81\" title=\"0.001\"> </span><span style=\"background-color: hsl(0, 100.00%, 97.87%); opacity: 0.80\" title=\"-0.000\">m</span><span style=\"background-color: hsl(0, 100.00%, 96.73%); opacity: 0.81\" title=\"-0.001\">o</span><span style=\"background-color: hsl(0, 100.00%, 97.84%); opacity: 0.80\" title=\"-0.000\">v</span><span style=\"background-color: hsl(0, 100.00%, 97.41%); opacity: 0.80\" title=\"-0.000\">i</span><span style=\"background-color: hsl(0, 100.00%, 97.10%); opacity: 0.80\" title=\"-0.001\">e</span>\n",
       "    </p>\n",
       "\n",
       "\n",
       "    \n",
       "\n",
       "    \n",
       "\n",
       "    \n",
       "\n",
       "    \n",
       "\n",
       "\n",
       "    \n",
       "\n",
       "    \n",
       "\n",
       "    \n",
       "\n",
       "    \n",
       "\n",
       "    \n",
       "\n",
       "    \n",
       "\n",
       "\n",
       "    \n",
       "\n",
       "    \n",
       "\n",
       "    \n",
       "\n",
       "    \n",
       "\n",
       "    \n",
       "\n",
       "    \n",
       "\n",
       "\n",
       "\n"
      ],
      "text/plain": [
       "<IPython.core.display.HTML object>"
      ]
     },
     "execution_count": 31,
     "metadata": {},
     "output_type": "execute_result"
    }
   ],
   "source": [
    "print('Positive' if test_df['is_positive'].iloc[1] else 'Negative')\n",
    "\n",
    "eli5.show_prediction(classifier, \n",
    "                     test_df['review'].iloc[1], \n",
    "                     vec=vectorizer, \n",
    "                     targets=['positive'], \n",
    "                     target_names=['negative', 'positive'])"
   ]
  },
  {
   "cell_type": "markdown",
   "metadata": {
    "id": "9fZ6I8mN0VPU"
   },
   "source": [
    "## Подключаем лингвистику"
   ]
  },
  {
   "cell_type": "markdown",
   "metadata": {
    "id": "YkywIvbp4N-L"
   },
   "source": [
    "### Лемматизация и стемминг\n",
    "\n",
    "Если присмотреться, можно найти формы одного слова с разной семантической окраской по мнению классификатора. Или нет?\n",
    "\n",
    "**Задание** Найти формы слова с разной семантической окраской.\n",
    "\n",
    "Поверя, что они есть, попробуем что-нибудь с этим сделать.\n",
    "\n",
    "Например, лемматизируем - сведем к начальной форме все слова. Поможет в этом библиотека spacy."
   ]
  },
  {
   "cell_type": "code",
   "execution_count": 32,
   "metadata": {
    "executionInfo": {
     "elapsed": 3182,
     "status": "ok",
     "timestamp": 1674992521227,
     "user": {
      "displayName": "Maxim Gasilin",
      "userId": "15501735730920561422"
     },
     "user_tz": -180
    },
    "id": "2SJs-rSkRuvk"
   },
   "outputs": [],
   "source": [
    "import spacy\n",
    "from spacy import displacy\n",
    "\n",
    "nlp = spacy.load('en_core_web_sm', disable=['parser'])\n",
    "\n",
    "docs = [doc for doc in nlp.pipe(train_df.review.values[:50])]"
   ]
  },
  {
   "cell_type": "code",
   "execution_count": 33,
   "metadata": {
    "colab": {
     "base_uri": "https://localhost:8080/"
    },
    "executionInfo": {
     "elapsed": 1098,
     "status": "ok",
     "timestamp": 1674992525750,
     "user": {
      "displayName": "Maxim Gasilin",
      "userId": "15501735730920561422"
     },
     "user_tz": -180
    },
    "id": "xoxdm8JrR0wG",
    "outputId": "c16f9f09-c0ca-45a3-f73c-84e43c0eecdf"
   },
   "outputs": [
    {
     "name": "stdout",
     "output_type": "stream",
     "text": [
      "dreamgirls dreamgirl B ORG\n",
      "despite despite O \n",
      "fistful fistful O \n",
      "tony tony O \n",
      "wins win O \n",
      "incredibly incredibly O \n",
      "weak weak O \n",
      "year year B DATE\n",
      "broadway broadway O \n",
      "never never O \n",
      "one one O \n",
      "would would O \n",
      "call call O \n",
      "jewel jewel B PERSON\n",
      "crown crown I PERSON\n",
      "stage stage O \n",
      "musicals musical O \n",
      "however however O \n",
      "say say O \n",
      "right right O \n",
      "cinematic cinematic O \n",
      "hands hand O \n",
      "could could O \n",
      "fleshed fleshed O \n",
      "polished polished O \n",
      "something something O \n",
      "worthwhile worthwhile O \n",
      "onscreen onscreen O \n",
      "unfortunately unfortunately O \n",
      "transfers transfer O \n",
      "screen screen O \n",
      "basically basically O \n",
      "slavishly slavishly O \n",
      "faithful faithful O \n",
      "version version O \n",
      "stage stage O \n",
      "hit hit O \n",
      "inherent inherent O \n",
      "weaknesses weakness O \n",
      "intact intact O \n",
      "first first B ORDINAL\n",
      "score score O \n",
      "never never O \n",
      "one one O \n",
      "strong strong O \n",
      "points point O \n",
      "production production O \n",
      "film film O \n",
      "change change O \n",
      "factor factor O \n",
      "lots lot O \n",
      "songs song O \n",
      "perhaps perhaps O \n",
      "many many O \n",
      "especially especially O \n",
      "memorable memorable O \n",
      "closest close O \n",
      "come come O \n",
      "catchy catchy O \n",
      "tunes tune O \n",
      "title title O \n",
      "song song O \n",
      "one one B TIME\n",
      "night night I TIME\n",
      "much much O \n",
      "acclaimed acclaimed O \n",
      "telling telling O \n",
      "going go O \n",
      "less less O \n",
      "great great O \n",
      "song song O \n",
      "dramatic dramatic O \n",
      "set set O \n",
      "piece piece O \n",
      "character character O \n",
      "effie effie O \n",
      "jennifer jennifer B PERSON\n",
      "hudson hudson I PERSON\n",
      "film film O \n",
      "slick slick O \n",
      "technically technically O \n",
      "wellproduced wellproduced O \n",
      "story story O \n",
      "characters character O \n",
      "surprisingly surprisingly O \n",
      "thin thin O \n",
      "lacking lack O \n",
      "resonance resonance O \n",
      "interest interest O \n",
      "opening opening O \n",
      "moments moment O \n",
      "watching watch O \n",
      "jamie jamie B PERSON\n",
      "foxxs foxxs I PERSON\n",
      "svengalilike svengalilike O \n",
      "manager manager O \n",
      "manipulate manipulate O \n",
      "acts act O \n",
      "top top O \n",
      "takes take O \n"
     ]
    }
   ],
   "source": [
    "for token in docs[0][:100]:\n",
    "    print(token.text, token.lemma_, token.ent_iob_, token.ent_type_)"
   ]
  },
  {
   "cell_type": "markdown",
   "metadata": {
    "id": "2Pfup3O5r30m"
   },
   "source": [
    "**Задание** Сделайте классификатор на лемматизированных текстах.\n",
    "\n",
    "Более простой способ нормализации слов - использовать стемминг. Он немного тупой, не учитывает контекст, но иногда оказывается даже эффективнее лемматизации - а, главное, быстрее.\n",
    "\n",
    "По сути это просто набор правил, как обрезать слово, чтобы получить основу (stem):"
   ]
  },
  {
   "cell_type": "code",
   "execution_count": 34,
   "metadata": {
    "colab": {
     "base_uri": "https://localhost:8080/"
    },
    "executionInfo": {
     "elapsed": 227,
     "status": "ok",
     "timestamp": 1674992570025,
     "user": {
      "displayName": "Maxim Gasilin",
      "userId": "15501735730920561422"
     },
     "user_tz": -180
    },
    "id": "YvZt4TiS4LmQ",
    "outputId": "f4c51d4f-596f-4cb2-cf98-740d2b0ea3a1"
   },
   "outputs": [
    {
     "data": {
      "text/plain": [
       "True"
      ]
     },
     "execution_count": 34,
     "metadata": {},
     "output_type": "execute_result"
    }
   ],
   "source": [
    "from nltk.stem import WordNetLemmatizer\n",
    "lemmatizer = WordNetLemmatizer()\n",
    "\n",
    "nltk.download('wordnet', quiet=True)"
   ]
  },
  {
   "cell_type": "code",
   "execution_count": 35,
   "metadata": {
    "executionInfo": {
     "elapsed": 285,
     "status": "ok",
     "timestamp": 1674992572534,
     "user": {
      "displayName": "Maxim Gasilin",
      "userId": "15501735730920561422"
     },
     "user_tz": -180
    },
    "id": "zKDIVgmm4NZ6"
   },
   "outputs": [],
   "source": [
    "def lemmatized_words(text):\n",
    "    text_lem = [lemmatizer.lemmatize(word) for word in tokenizer.tokenize(text)]\n",
    "    return ' '.join(word for word in text_lem)"
   ]
  },
  {
   "cell_type": "code",
   "execution_count": 36,
   "metadata": {
    "colab": {
     "base_uri": "https://localhost:8080/"
    },
    "executionInfo": {
     "elapsed": 240,
     "status": "ok",
     "timestamp": 1674992575305,
     "user": {
      "displayName": "Maxim Gasilin",
      "userId": "15501735730920561422"
     },
     "user_tz": -180
    },
    "id": "M3RRrABrSBex",
    "outputId": "de3b7239-738e-4c49-d455-e2b42b9a11bf"
   },
   "outputs": [
    {
     "data": {
      "text/plain": [
       "True"
      ]
     },
     "execution_count": 36,
     "metadata": {},
     "output_type": "execute_result"
    }
   ],
   "source": [
    "import nltk\n",
    "nltk.download('omw-1.4', quiet=True)"
   ]
  },
  {
   "cell_type": "code",
   "execution_count": 37,
   "metadata": {
    "executionInfo": {
     "elapsed": 47061,
     "status": "ok",
     "timestamp": 1674992624536,
     "user": {
      "displayName": "Maxim Gasilin",
      "userId": "15501735730920561422"
     },
     "user_tz": -180
    },
    "id": "fmVv55l94ZQw"
   },
   "outputs": [],
   "source": [
    "train_df['lemmatized'] = train_df['review'].apply(lemmatized_words)\n",
    "test_df['lemmatized'] = test_df['review'].apply(lemmatized_words)"
   ]
  },
  {
   "cell_type": "code",
   "execution_count": 38,
   "metadata": {
    "colab": {
     "base_uri": "https://localhost:8080/"
    },
    "executionInfo": {
     "elapsed": 47368,
     "status": "ok",
     "timestamp": 1674992706088,
     "user": {
      "displayName": "Maxim Gasilin",
      "userId": "15501735730920561422"
     },
     "user_tz": -180
    },
    "id": "Mp8wW47-4a-I",
    "outputId": "cb3162c7-ef4a-48c6-fa19-b01c872329a6"
   },
   "outputs": [
    {
     "name": "stdout",
     "output_type": "stream",
     "text": [
      "Test accuracy = 87.97%\n"
     ]
    }
   ],
   "source": [
    "vectorizer = TfidfVectorizer(ngram_range=(1, 2))\n",
    "classifier = LogisticRegression()\n",
    "\n",
    "model = Pipeline([\n",
    "    ('vectorizer', vectorizer),\n",
    "    ('classifier', classifier)\n",
    "])\n",
    "\n",
    "model.fit(train_df['lemmatized'], train_df['is_positive'])\n",
    "\n",
    "eval_model(model, test_df)"
   ]
  },
  {
   "cell_type": "markdown",
   "metadata": {
    "id": "NxGSEqHNsfHy"
   },
   "source": [
    "**Задание** Попробуйте вместо лемм классифицировать основы."
   ]
  },
  {
   "cell_type": "code",
   "execution_count": 39,
   "metadata": {
    "executionInfo": {
     "elapsed": 229,
     "status": "ok",
     "timestamp": 1674992708719,
     "user": {
      "displayName": "Maxim Gasilin",
      "userId": "15501735730920561422"
     },
     "user_tz": -180
    },
    "id": "kNKdYgNj5rxP"
   },
   "outputs": [],
   "source": [
    "from nltk.stem import PorterStemmer\n",
    "\n",
    "stemmer = PorterStemmer()"
   ]
  },
  {
   "cell_type": "code",
   "execution_count": 40,
   "metadata": {
    "executionInfo": {
     "elapsed": 369,
     "status": "ok",
     "timestamp": 1674992710994,
     "user": {
      "displayName": "Maxim Gasilin",
      "userId": "15501735730920561422"
     },
     "user_tz": -180
    },
    "id": "kU_MbnqR5tff"
   },
   "outputs": [],
   "source": [
    "def stemmed_words(text):\n",
    "    text_stem = [stemmer.stem(word) for word in tokenizer.tokenize(text)]\n",
    "    return ' '.join(word for word in text_stem)"
   ]
  },
  {
   "cell_type": "code",
   "execution_count": 41,
   "metadata": {
    "executionInfo": {
     "elapsed": 172774,
     "status": "ok",
     "timestamp": 1674992884809,
     "user": {
      "displayName": "Maxim Gasilin",
      "userId": "15501735730920561422"
     },
     "user_tz": -180
    },
    "id": "3NPLFnJl55jH"
   },
   "outputs": [],
   "source": [
    "train_df['stemmed'] = train_df['review'].apply(stemmed_words)\n",
    "test_df['stemmed'] = test_df['review'].apply(stemmed_words)"
   ]
  },
  {
   "cell_type": "code",
   "execution_count": 42,
   "metadata": {
    "colab": {
     "base_uri": "https://localhost:8080/"
    },
    "executionInfo": {
     "elapsed": 38448,
     "status": "ok",
     "timestamp": 1674992923249,
     "user": {
      "displayName": "Maxim Gasilin",
      "userId": "15501735730920561422"
     },
     "user_tz": -180
    },
    "id": "aslrzDhz568T",
    "outputId": "ddedb363-441b-46a8-b4f8-a3fcb392bda8"
   },
   "outputs": [
    {
     "name": "stdout",
     "output_type": "stream",
     "text": [
      "Test accuracy = 82.37%\n"
     ]
    }
   ],
   "source": [
    "model = Pipeline([\n",
    "    ('vectorizer', vectorizer),\n",
    "    ('classifier', classifier)\n",
    "])\n",
    "\n",
    "model.fit(train_df['stemmed'], train_df['is_positive'])\n",
    "\n",
    "eval_model(model, test_df)"
   ]
  },
  {
   "cell_type": "markdown",
   "metadata": {
    "id": "FYTPNoBN_bGu"
   },
   "source": [
    "Score выше при использовании лемм"
   ]
  },
  {
   "cell_type": "markdown",
   "metadata": {
    "id": "k2fHA70b0zEZ"
   },
   "source": [
    "## Deep learning"
   ]
  },
  {
   "cell_type": "markdown",
   "metadata": {
    "id": "y1VCrM671XO5"
   },
   "source": [
    "Попробуем запустить относительно стандартную модель для классификации текстов - сверточная сеть поверх словных эмбеддингов.\n",
    "\n",
    "Разбираться, что это за зверь, будем на следующих занятиях, а пока будем просто им пользоваться :)\n",
    "\n",
    "Каждое предложение нужно представлять набором слов - и сразу же начинаются проблемы. Во-первых, как ограничить длину предложения?\n",
    "\n",
    "Прикинем по гистограмме, какая длина нам подходит:"
   ]
  },
  {
   "cell_type": "code",
   "execution_count": 43,
   "metadata": {
    "colab": {
     "base_uri": "https://localhost:8080/"
    },
    "executionInfo": {
     "elapsed": 20,
     "status": "ok",
     "timestamp": 1674992923250,
     "user": {
      "displayName": "Maxim Gasilin",
      "userId": "15501735730920561422"
     },
     "user_tz": -180
    },
    "id": "02Kv8YUPbhzG",
    "outputId": "78fdc2aa-9e2e-406a-8a41-e722a563fa39"
   },
   "outputs": [
    {
     "data": {
      "text/plain": [
       "0        dreamgirls despite fistful tony wins incredibl...\n",
       "1        show comes interesting locations fast travel c...\n",
       "2        simply love movie also love ramones sorta bias...\n",
       "3        spoilers ahead want call would almost recommen...\n",
       "4        alltime favorite movie seen many movies one be...\n",
       "                               ...                        \n",
       "24995    big fan movie usual reasons think travolta win...\n",
       "24996    im going bother plot synopsis since know movie...\n",
       "24997    movie dont know would take indellible characte...\n",
       "24998    saw film dvd yesterday gobsmacked flabbergaste...\n",
       "24999    disappointment none nuance original brits seem...\n",
       "Name: review, Length: 25000, dtype: object"
      ]
     },
     "execution_count": 43,
     "metadata": {},
     "output_type": "execute_result"
    }
   ],
   "source": [
    "train_df['review']"
   ]
  },
  {
   "cell_type": "code",
   "execution_count": 44,
   "metadata": {
    "colab": {
     "base_uri": "https://localhost:8080/",
     "height": 282
    },
    "executionInfo": {
     "elapsed": 899,
     "status": "ok",
     "timestamp": 1674992924132,
     "user": {
      "displayName": "Maxim Gasilin",
      "userId": "15501735730920561422"
     },
     "user_tz": -180
    },
    "id": "O477ZV1t1WIO",
    "outputId": "7ff12cf2-58d3-4ca0-9278-94dcd77a8d5f"
   },
   "outputs": [
    {
     "data": {
      "text/plain": [
       "<BarContainer object of 253 artists>"
      ]
     },
     "execution_count": 44,
     "metadata": {},
     "output_type": "execute_result"
    },
    {
     "data": {
      "image/png": "[encoded data removed]",
      "text/plain": [
       "<Figure size 640x480 with 1 Axes>"
      ]
     },
     "metadata": {},
     "output_type": "display_data"
    }
   ],
   "source": [
    "%matplotlib inline\n",
    "import matplotlib.pyplot as plt\n",
    "\n",
    "_, _, hist = plt.hist(train_df.review.apply(lambda text: len(text.split())), bins='auto')\n",
    "hist"
   ]
  },
  {
   "cell_type": "markdown",
   "metadata": {
    "id": "UXO4xi0u5m8l"
   },
   "source": [
    "Кроме этого, нужно перенумеровать как-то слова."
   ]
  },
  {
   "cell_type": "code",
   "execution_count": 45,
   "metadata": {
    "colab": {
     "base_uri": "https://localhost:8080/"
    },
    "executionInfo": {
     "elapsed": 1221,
     "status": "ok",
     "timestamp": 1674992925348,
     "user": {
      "displayName": "Maxim Gasilin",
      "userId": "15501735730920561422"
     },
     "user_tz": -180
    },
    "id": "mIMGE7L-55fs",
    "outputId": "8e2c5a32-d5c5-48cf-fb5f-eae15a8f91a3"
   },
   "outputs": [
    {
     "name": "stdout",
     "output_type": "stream",
     "text": [
      "Words count 20441\n"
     ]
    }
   ],
   "source": [
    "from collections import Counter\n",
    "\n",
    "words_counter = Counter((word for text in train_df.review for word in text.lower().split()))\n",
    "\n",
    "word2idx = {\n",
    "    '': 0,\n",
    "    '<unk>': 1\n",
    "}\n",
    "for word, count in words_counter.most_common():\n",
    "    if count < 10:\n",
    "        break\n",
    "        \n",
    "    word2idx[word] = len(word2idx)\n",
    "    \n",
    "print('Words count', len(word2idx))"
   ]
  },
  {
   "cell_type": "markdown",
   "metadata": {
    "id": "oTptlmd1yD3J"
   },
   "source": [
    "**Задание** Сконвертируйте данные"
   ]
  },
  {
   "cell_type": "code",
   "execution_count": 46,
   "metadata": {
    "colab": {
     "base_uri": "https://localhost:8080/"
    },
    "executionInfo": {
     "elapsed": 6194,
     "status": "ok",
     "timestamp": 1674992931540,
     "user": {
      "displayName": "Maxim Gasilin",
      "userId": "15501735730920561422"
     },
     "user_tz": -180
    },
    "id": "ZPP0cYdJ5VkE",
    "outputId": "b82dd8ac-9aa7-44f1-f991-0d65fd06a396"
   },
   "outputs": [],
   "source": [
    "def convert(texts, word2idx, max_text_len):\n",
    "    data = np.zeros((len(texts), max_text_len), dtype=np.int)\n",
    "    \n",
    "    for inx, text in enumerate(texts):\n",
    "        result = []\n",
    "        for word in text.split():\n",
    "            if word in word2idx:\n",
    "                result.append(word2idx[word])\n",
    "        padding = [0]*(max_text_len - len(result))\n",
    "        data[inx] = np.array(padding + result[-max_text_len:], dtype=np.int)\n",
    "    return data\n",
    "\n",
    "X_train = convert(train_df.review, word2idx, 1000)\n",
    "X_test = convert(test_df.review, word2idx, 1000)"
   ]
  },
  {
   "cell_type": "markdown",
   "metadata": {
    "id": "AYb-p5ioyLUZ"
   },
   "source": [
    "Поставим учиться модельку на keras.\n",
    "\n",
    "*Напоминание*: на keras, чтобы обучить модель, нужно\n",
    "1. Определить модель, например:\n",
    "```python \n",
    "model = Sequential()\n",
    "model.add(Dense(1, activation='sigmoid', input_dim=NUM_WORDS))\n",
    "```\n",
    "2. Задать функцию потерь и оптимизатор:\n",
    "```python\n",
    "model.compile(loss='binary_crossentropy', optimizer='adam', metrics=['accuracy'])\n",
    "```\n",
    "\n",
    "3. Запустить обучение:\n",
    "```python\n",
    "model.fit(X_train, y_train, \n",
    "          batch_size=32,\n",
    "          epochs=3,\n",
    "          validation_data=(X_test, y_test))\n",
    "```\n",
    "\n",
    "В NLP чаще всего ставятся задачи классификации, поэтому нужно запомнить такие функции потерь:\n",
    "\n",
    "*   **categorical_crossentropy** - для многоклассовой классификации, в качестве меток должны передаваться one-hot-encoding вектора\n",
    "*   **sparse_categorical_crossentropy** - аналогично предыдущему, но в качестве меток нужно передавать просто индексы соответствующих классов\n",
    "*   **binary_crossentropy** - для бинарной классификации\n",
    "\n",
    "\n",
    "В качестве оптимизатора обычно используют `sgd` или `adam`.\n"
   ]
  },
  {
   "cell_type": "code",
   "execution_count": 47,
   "metadata": {
    "colab": {
     "base_uri": "https://localhost:8080/",
     "height": 35
    },
    "executionInfo": {
     "elapsed": 22,
     "status": "ok",
     "timestamp": 1674992931542,
     "user": {
      "displayName": "Maxim Gasilin",
      "userId": "15501735730920561422"
     },
     "user_tz": -180
    },
    "id": "Ncrq09zRxEvN",
    "outputId": "db306c67-f0df-4072-c666-55fe53b81373"
   },
   "outputs": [
    {
     "data": {
      "text/plain": [
       "'2.13.0'"
      ]
     },
     "execution_count": 47,
     "metadata": {},
     "output_type": "execute_result"
    }
   ],
   "source": [
    "import tensorflow as tf\n",
    "tf.__version__"
   ]
  },
  {
   "cell_type": "code",
   "execution_count": 48,
   "metadata": {
    "executionInfo": {
     "elapsed": 22,
     "status": "ok",
     "timestamp": 1674992931544,
     "user": {
      "displayName": "Maxim Gasilin",
      "userId": "15501735730920561422"
     },
     "user_tz": -180
    },
    "id": "KddjCCo-w50h"
   },
   "outputs": [],
   "source": [
    "from tensorflow.keras import Sequential\n",
    "from tensorflow.keras.layers import Dense, Embedding, GlobalMaxPooling1D, Dropout"
   ]
  },
  {
   "cell_type": "code",
   "execution_count": 49,
   "metadata": {
    "colab": {
     "base_uri": "https://localhost:8080/"
    },
    "executionInfo": {
     "elapsed": 410,
     "status": "ok",
     "timestamp": 1674992931933,
     "user": {
      "displayName": "Maxim Gasilin",
      "userId": "15501735730920561422"
     },
     "user_tz": -180
    },
    "id": "dDjri3167vFf",
    "outputId": "6abd1386-acc9-4231-c0bd-cdafd88ec6da"
   },
   "outputs": [
    {
     "name": "stdout",
     "output_type": "stream",
     "text": [
      "Model: \"sequential\"\n",
      "_________________________________________________________________\n",
      " Layer (type)                Output Shape              Param #   \n",
      "=================================================================\n",
      " embedding (Embedding)       (None, 1000, 64)          1308224   \n",
      "                                                                 \n",
      " global_max_pooling1d (Glob  (None, 64)                0         \n",
      " alMaxPooling1D)                                                 \n",
      "                                                                 \n",
      " dense (Dense)               (None, 10)                650       \n",
      "                                                                 \n",
      " dense_1 (Dense)             (None, 10)                110       \n",
      "                                                                 \n",
      " dense_2 (Dense)             (None, 1)                 11        \n",
      "                                                                 \n",
      "=================================================================\n",
      "Total params: 1308995 (4.99 MB)\n",
      "Trainable params: 1308995 (4.99 MB)\n",
      "Non-trainable params: 0 (0.00 Byte)\n",
      "_________________________________________________________________\n"
     ]
    }
   ],
   "source": [
    "model = Sequential([\n",
    "    Embedding(input_dim=len(word2idx), output_dim=64, input_shape=(X_train.shape[1],)),\n",
    "    GlobalMaxPooling1D(),\n",
    "    Dense(units=10, activation='relu'),\n",
    "    Dense(units=10, activation='relu'),\n",
    "    \n",
    "    Dense(units=1, activation='sigmoid')\n",
    "])\n",
    "\n",
    "model.summary()\n",
    "model.compile(loss='binary_crossentropy',\n",
    "              optimizer='adam',\n",
    "              metrics=['accuracy'])"
   ]
  },
  {
   "cell_type": "code",
   "execution_count": 50,
   "metadata": {
    "colab": {
     "base_uri": "https://localhost:8080/"
    },
    "executionInfo": {
     "elapsed": 41816,
     "status": "ok",
     "timestamp": 1674992973747,
     "user": {
      "displayName": "Maxim Gasilin",
      "userId": "15501735730920561422"
     },
     "user_tz": -180
    },
    "id": "lw93gTmq8gZl",
    "outputId": "9581487a-0d88-4ed9-8766-f81155ea8ac9"
   },
   "outputs": [
    {
     "name": "stdout",
     "output_type": "stream",
     "text": [
      "Epoch 1/10\n",
      "196/196 [==============================] - 21s 104ms/step - loss: 0.5912 - accuracy: 0.7884 - val_loss: 0.3904 - val_accuracy: 0.8451\n",
      "Epoch 2/10\n",
      "196/196 [==============================] - 21s 106ms/step - loss: 0.2863 - accuracy: 0.8858 - val_loss: 0.2876 - val_accuracy: 0.8788\n",
      "Epoch 3/10\n",
      "196/196 [==============================] - 21s 106ms/step - loss: 0.1812 - accuracy: 0.9331 - val_loss: 0.2801 - val_accuracy: 0.8835\n",
      "Epoch 4/10\n",
      "196/196 [==============================] - 21s 107ms/step - loss: 0.1102 - accuracy: 0.9644 - val_loss: 0.2982 - val_accuracy: 0.8806\n",
      "Epoch 5/10\n",
      "196/196 [==============================] - 21s 107ms/step - loss: 0.0598 - accuracy: 0.9845 - val_loss: 0.3343 - val_accuracy: 0.8740\n",
      "Epoch 6/10\n",
      "196/196 [==============================] - 21s 107ms/step - loss: 0.0286 - accuracy: 0.9948 - val_loss: 0.3720 - val_accuracy: 0.8742\n",
      "Epoch 7/10\n",
      "196/196 [==============================] - 21s 108ms/step - loss: 0.0125 - accuracy: 0.9988 - val_loss: 0.4086 - val_accuracy: 0.8716\n",
      "Epoch 8/10\n",
      "196/196 [==============================] - 21s 107ms/step - loss: 0.0057 - accuracy: 0.9997 - val_loss: 0.4394 - val_accuracy: 0.8703\n",
      "Epoch 9/10\n",
      "196/196 [==============================] - 21s 108ms/step - loss: 0.0030 - accuracy: 0.9999 - val_loss: 0.4643 - val_accuracy: 0.8700\n",
      "Epoch 10/10\n",
      "196/196 [==============================] - 21s 107ms/step - loss: 0.0018 - accuracy: 1.0000 - val_loss: 0.4854 - val_accuracy: 0.8694\n"
     ]
    },
    {
     "data": {
      "text/plain": [
       "<keras.src.callbacks.History at 0x57aac0a0>"
      ]
     },
     "execution_count": 50,
     "metadata": {},
     "output_type": "execute_result"
    }
   ],
   "source": [
    "model.fit(X_train, \n",
    "          train_df.is_positive, \n",
    "          batch_size=128, \n",
    "          epochs=10, \n",
    "          validation_data=(X_test, test_df.is_positive))"
   ]
  },
  {
   "cell_type": "markdown",
   "metadata": {
    "id": "yBGdVRQTyynD"
   },
   "source": [
    "**Задание** Подсчитайте качество модели на тесте"
   ]
  },
  {
   "cell_type": "code",
   "execution_count": 51,
   "metadata": {
    "colab": {
     "base_uri": "https://localhost:8080/"
    },
    "executionInfo": {
     "elapsed": 2791,
     "status": "ok",
     "timestamp": 1674992976515,
     "user": {
      "displayName": "Maxim Gasilin",
      "userId": "15501735730920561422"
     },
     "user_tz": -180
    },
    "id": "iX7m5OPLBVRk",
    "outputId": "eaa843db-6504-4ee4-c5f7-a6ac97fa5670"
   },
   "outputs": [
    {
     "name": "stdout",
     "output_type": "stream",
     "text": [
      "782/782 [==============================] - 5s 6ms/step - loss: 0.4854 - accuracy: 0.8694\n"
     ]
    },
    {
     "data": {
      "text/plain": [
       "[0.4853789210319519, 0.8694000244140625]"
      ]
     },
     "execution_count": 51,
     "metadata": {},
     "output_type": "execute_result"
    }
   ],
   "source": [
    "model.evaluate(X_test, test_df.is_positive)"
   ]
  },
  {
   "cell_type": "code",
   "execution_count": 52,
   "metadata": {
    "colab": {
     "base_uri": "https://localhost:8080/"
    },
    "executionInfo": {
     "elapsed": 6606,
     "status": "ok",
     "timestamp": 1674992983110,
     "user": {
      "displayName": "Maxim Gasilin",
      "userId": "15501735730920561422"
     },
     "user_tz": -180
    },
    "id": "HTtgLEE6BqlF",
    "outputId": "934e182b-1bb0-4a3c-8dbb-8372d733d5ba"
   },
   "outputs": [],
   "source": [
    "X_train = convert(train_df.lemmatized, word2idx, 1000)\n",
    "X_test = convert(test_df.lemmatized, word2idx, 1000)"
   ]
  },
  {
   "cell_type": "code",
   "execution_count": 53,
   "metadata": {
    "colab": {
     "base_uri": "https://localhost:8080/"
    },
    "executionInfo": {
     "elapsed": 41083,
     "status": "ok",
     "timestamp": 1674993024174,
     "user": {
      "displayName": "Maxim Gasilin",
      "userId": "15501735730920561422"
     },
     "user_tz": -180
    },
    "id": "DX4Jw5JABuTs",
    "outputId": "a28444a1-7cf2-46c4-da0f-116961ea8046"
   },
   "outputs": [
    {
     "name": "stdout",
     "output_type": "stream",
     "text": [
      "Epoch 1/10\n",
      "196/196 [==============================] - 21s 107ms/step - loss: 0.0282 - accuracy: 0.9909 - val_loss: 0.5164 - val_accuracy: 0.8618\n",
      "Epoch 2/10\n",
      "196/196 [==============================] - 21s 106ms/step - loss: 0.0046 - accuracy: 0.9997 - val_loss: 0.5469 - val_accuracy: 0.8625\n",
      "Epoch 3/10\n",
      "196/196 [==============================] - 21s 107ms/step - loss: 0.0012 - accuracy: 1.0000 - val_loss: 0.5686 - val_accuracy: 0.8624\n",
      "Epoch 4/10\n",
      "196/196 [==============================] - 21s 106ms/step - loss: 7.1594e-04 - accuracy: 1.0000 - val_loss: 0.5848 - val_accuracy: 0.8626\n",
      "Epoch 5/10\n",
      "196/196 [==============================] - 21s 107ms/step - loss: 5.1235e-04 - accuracy: 1.0000 - val_loss: 0.5987 - val_accuracy: 0.8626\n",
      "Epoch 6/10\n",
      "196/196 [==============================] - 20s 103ms/step - loss: 3.9093e-04 - accuracy: 1.0000 - val_loss: 0.6112 - val_accuracy: 0.8622\n",
      "Epoch 7/10\n",
      "196/196 [==============================] - 20s 103ms/step - loss: 3.0959e-04 - accuracy: 1.0000 - val_loss: 0.6233 - val_accuracy: 0.8620\n",
      "Epoch 8/10\n",
      "196/196 [==============================] - 20s 103ms/step - loss: 2.5090e-04 - accuracy: 1.0000 - val_loss: 0.6344 - val_accuracy: 0.8622\n",
      "Epoch 9/10\n",
      "196/196 [==============================] - 20s 103ms/step - loss: 2.0562e-04 - accuracy: 1.0000 - val_loss: 0.6446 - val_accuracy: 0.8621\n",
      "Epoch 10/10\n",
      "196/196 [==============================] - 20s 103ms/step - loss: 1.7144e-04 - accuracy: 1.0000 - val_loss: 0.6549 - val_accuracy: 0.8620\n"
     ]
    },
    {
     "data": {
      "text/plain": [
       "<keras.src.callbacks.History at 0x54f4fa30>"
      ]
     },
     "execution_count": 53,
     "metadata": {},
     "output_type": "execute_result"
    }
   ],
   "source": [
    "model.fit(X_train, \n",
    "          train_df.is_positive, \n",
    "          batch_size=128,\n",
    "          epochs=10, \n",
    "          validation_data=(X_test, test_df.is_positive))"
   ]
  },
  {
   "cell_type": "code",
   "execution_count": 54,
   "metadata": {
    "colab": {
     "base_uri": "https://localhost:8080/"
    },
    "executionInfo": {
     "elapsed": 2668,
     "status": "ok",
     "timestamp": 1674993026825,
     "user": {
      "displayName": "Maxim Gasilin",
      "userId": "15501735730920561422"
     },
     "user_tz": -180
    },
    "id": "ciPeuedJCEgF",
    "outputId": "71227e46-57e0-4d73-da7d-dd182ded247f"
   },
   "outputs": [
    {
     "name": "stdout",
     "output_type": "stream",
     "text": [
      "782/782 [==============================] - 4s 6ms/step - loss: 0.6549 - accuracy: 0.8620\n"
     ]
    },
    {
     "data": {
      "text/plain": [
       "[0.654854416847229, 0.8620399832725525]"
      ]
     },
     "execution_count": 54,
     "metadata": {},
     "output_type": "execute_result"
    }
   ],
   "source": [
    "model.evaluate(X_test, test_df.is_positive)"
   ]
  },
  {
   "cell_type": "code",
   "execution_count": 55,
   "metadata": {
    "colab": {
     "base_uri": "https://localhost:8080/"
    },
    "executionInfo": {
     "elapsed": 6462,
     "status": "ok",
     "timestamp": 1674993033270,
     "user": {
      "displayName": "Maxim Gasilin",
      "userId": "15501735730920561422"
     },
     "user_tz": -180
    },
    "id": "ZLq-gijTCGjW",
    "outputId": "4decb51b-b980-45de-ba2e-99abb55921cf"
   },
   "outputs": [],
   "source": [
    "X_train = convert(train_df.stemmed, word2idx, 1000)\n",
    "X_test = convert(test_df.stemmed, word2idx, 1000)"
   ]
  },
  {
   "cell_type": "code",
   "execution_count": 56,
   "metadata": {
    "colab": {
     "base_uri": "https://localhost:8080/"
    },
    "executionInfo": {
     "elapsed": 20886,
     "status": "ok",
     "timestamp": 1674993054140,
     "user": {
      "displayName": "Maxim Gasilin",
      "userId": "15501735730920561422"
     },
     "user_tz": -180
    },
    "id": "J9Qcdc6TCHwl",
    "outputId": "461aba02-414d-4305-edcc-ae0b3a18f46d"
   },
   "outputs": [
    {
     "name": "stdout",
     "output_type": "stream",
     "text": [
      "Epoch 1/10\n",
      "196/196 [==============================] - 20s 100ms/step - loss: 0.2724 - accuracy: 0.9001 - val_loss: 0.4578 - val_accuracy: 0.8214\n",
      "Epoch 2/10\n",
      "196/196 [==============================] - 20s 102ms/step - loss: 0.1068 - accuracy: 0.9644 - val_loss: 0.5245 - val_accuracy: 0.8180\n",
      "Epoch 3/10\n",
      "196/196 [==============================] - 21s 105ms/step - loss: 0.0551 - accuracy: 0.9856 - val_loss: 0.6081 - val_accuracy: 0.8145\n",
      "Epoch 4/10\n",
      "196/196 [==============================] - 21s 107ms/step - loss: 0.0267 - accuracy: 0.9957 - val_loss: 0.6951 - val_accuracy: 0.8110\n",
      "Epoch 5/10\n",
      "196/196 [==============================] - 21s 107ms/step - loss: 0.0120 - accuracy: 0.9988 - val_loss: 0.7708 - val_accuracy: 0.8088\n",
      "Epoch 6/10\n",
      "196/196 [==============================] - 20s 103ms/step - loss: 0.0055 - accuracy: 0.9998 - val_loss: 0.8293 - val_accuracy: 0.8084\n",
      "Epoch 7/10\n",
      "196/196 [==============================] - 20s 103ms/step - loss: 0.0029 - accuracy: 1.0000 - val_loss: 0.8799 - val_accuracy: 0.8075\n",
      "Epoch 8/10\n",
      "196/196 [==============================] - 20s 104ms/step - loss: 0.0018 - accuracy: 1.0000 - val_loss: 0.9186 - val_accuracy: 0.8084\n",
      "Epoch 9/10\n",
      "196/196 [==============================] - 21s 107ms/step - loss: 0.0013 - accuracy: 1.0000 - val_loss: 0.9557 - val_accuracy: 0.8076\n",
      "Epoch 10/10\n",
      "196/196 [==============================] - 20s 104ms/step - loss: 9.6216e-04 - accuracy: 1.0000 - val_loss: 0.9896 - val_accuracy: 0.8075\n"
     ]
    },
    {
     "data": {
      "text/plain": [
       "<keras.src.callbacks.History at 0x53550310>"
      ]
     },
     "execution_count": 56,
     "metadata": {},
     "output_type": "execute_result"
    }
   ],
   "source": [
    "model.fit(X_train, \n",
    "          train_df.is_positive, \n",
    "          batch_size=128, \n",
    "          epochs=10, \n",
    "          validation_data=(X_test, test_df.is_positive))"
   ]
  },
  {
   "cell_type": "code",
   "execution_count": 57,
   "metadata": {
    "colab": {
     "base_uri": "https://localhost:8080/"
    },
    "executionInfo": {
     "elapsed": 2497,
     "status": "ok",
     "timestamp": 1674993056625,
     "user": {
      "displayName": "Maxim Gasilin",
      "userId": "15501735730920561422"
     },
     "user_tz": -180
    },
    "id": "-kTE8RuACLQN",
    "outputId": "3915553d-d471-49e8-86a7-bc0e1f0de953"
   },
   "outputs": [
    {
     "name": "stdout",
     "output_type": "stream",
     "text": [
      "782/782 [==============================] - 5s 6ms/step - loss: 0.9896 - accuracy: 0.8075\n"
     ]
    },
    {
     "data": {
      "text/plain": [
       "[0.9895623922348022, 0.8075199723243713]"
      ]
     },
     "execution_count": 57,
     "metadata": {},
     "output_type": "execute_result"
    }
   ],
   "source": [
    "model.evaluate(X_test, test_df.is_positive)"
   ]
  },
  {
   "cell_type": "markdown",
   "metadata": {
    "id": "aCq2UPzlEqIm"
   },
   "source": [
    "Лучший score у сети на лемматизированных текстах"
   ]
  }
 ],
 "metadata": {
  "accelerator": "GPU",
  "colab": {
   "provenance": []
  },
  "gpuClass": "standard",
  "kernelspec": {
   "display_name": "myenv",
   "language": "python",
   "name": "myenv"
  },
  "language_info": {
   "codemirror_mode": {
    "name": "ipython",
    "version": 3
   },
   "file_extension": ".py",
   "mimetype": "text/x-python",
   "name": "python",
   "nbconvert_exporter": "python",
   "pygments_lexer": "ipython3",
   "version": "3.8.10"
  }
 },
 "nbformat": 4,
 "nbformat_minor": 4
}
