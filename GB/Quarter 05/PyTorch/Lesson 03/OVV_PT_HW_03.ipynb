{
 "cells": [
  {
   "cell_type": "markdown",
   "metadata": {},
   "source": [
    "# Фреймворк PyTorch для разработки искусственных нейронных сетей"
   ]
  },
  {
   "cell_type": "markdown",
   "metadata": {},
   "source": [
    "## Урок 3. Dataset, Dataloader, BatchNorm, Dropout, Оптимизация"
   ]
  },
  {
   "cell_type": "markdown",
   "metadata": {
    "id": "1ZKi7kOce9Gy"
   },
   "source": [
    "1. Создать Dataset для загрузки данных\n",
    "2. Обернуть его в Dataloader\n",
    "3. Написать архитектуру сети, которая предсказывает стоимость недвижимости. Сеть должна включать BatchNorm слои и Dropout (или НЕ включать, но нужно обосновать)\n",
    "4. Сравните сходимость Adam, RMSProp и SGD, сделайте вывод по качеству работы модели train-test разделение нужно сделать с помощью sklearn random_state=13, test_size = 0.25"
   ]
  },
  {
   "cell_type": "code",
   "execution_count": 1,
   "metadata": {
    "id": "OLObm_RBe7y2"
   },
   "outputs": [],
   "source": [
    "import numpy as np\n",
    "import pandas as pd\n",
    "\n",
    "import torch\n",
    "from torch import nn\n",
    "from torch.optim import Adam, RMSprop, SGD\n",
    "from torch.utils.data import DataLoader, Dataset\n",
    "\n",
    "from sklearn.datasets import fetch_california_housing\n",
    "from sklearn.model_selection import train_test_split\n",
    "from sklearn.preprocessing import StandardScaler"
   ]
  },
  {
   "cell_type": "code",
   "execution_count": 2,
   "metadata": {
    "id": "zJzTVylQfM1a"
   },
   "outputs": [],
   "source": [
    "DEVICE = torch.device(\"cuda\" if torch.cuda.is_available() else \"cpu\")\n",
    "EPOCHES = 50\n",
    "LR = 0.001"
   ]
  },
  {
   "cell_type": "code",
   "execution_count": 3,
   "metadata": {
    "id": "kActSTTJfRVq"
   },
   "outputs": [],
   "source": [
    "class CHDataset(Dataset):\n",
    "    def __init__(self, *init_datasets):\n",
    "        assert all(init_datasets[0].size(0) == init_dataset.size(0) for init_dataset in init_datasets), \"Не соотвутствует размерность среди dataset\"\n",
    "        self._base_datasets = init_datasets\n",
    "  \n",
    "    def __len__(self):\n",
    "        return self._base_datasets[0].size(0)\n",
    "  \n",
    "    def __getitem__(self, idx):\n",
    "        return tuple(base_dataset[idx] for base_dataset in self._base_datasets)"
   ]
  },
  {
   "cell_type": "code",
   "execution_count": 4,
   "metadata": {
    "id": "_5Ra-ppnfVYv"
   },
   "outputs": [],
   "source": [
    "class CHNet(nn.Module):\n",
    "    def __init__(self) -> None:\n",
    "        super(CHNet, self).__init__()\n",
    "        self.block_1 = nn.Sequential(\n",
    "            nn.Linear(in_features=8, out_features=100, bias=True),\n",
    "            nn.Dropout(0.1),\n",
    "            nn.BatchNorm1d(100),\n",
    "            nn.ReLU())\n",
    "        self.block_2 = nn.Sequential(\n",
    "            nn.Linear(in_features=100, out_features=100, bias=True),\n",
    "            nn.Dropout(0.2),\n",
    "            nn.BatchNorm1d(100),\n",
    "            nn.ReLU())\n",
    "        self.block_3 = nn.Sequential(\n",
    "            nn.Linear(in_features=100, out_features=60, bias=True),\n",
    "            nn.Dropout(0.2),\n",
    "            nn.BatchNorm1d(60),\n",
    "            nn.ReLU())\n",
    "        self.block_4 = nn.Sequential(\n",
    "            nn.Linear(in_features=60, out_features=30),\n",
    "            nn.Dropout(0.2),\n",
    "            nn.BatchNorm1d(30),\n",
    "            nn.ReLU())\n",
    "        self.predict = nn.Sequential(\n",
    "            nn.Linear(in_features=30, out_features=1, bias=True),\n",
    "            nn.BatchNorm1d(1),\n",
    "            nn.ReLU())\n",
    "  \n",
    "    def forward(self, inp):\n",
    "        out = self.block_1(inp)\n",
    "        out = self.block_2(out)\n",
    "        out = self.block_3(out)\n",
    "        out = self.block_4(out)\n",
    "        out = self.predict(out)\n",
    "        return out[:, 0]"
   ]
  },
  {
   "cell_type": "code",
   "execution_count": 5,
   "metadata": {
    "id": "IoYfdBPyfcWQ"
   },
   "outputs": [],
   "source": [
    "def train_loop(train_loader, test_loader, net, optimizer):\n",
    "    loss_fn = nn.MSELoss()\n",
    "    best_acc = {'train': None, 'test': None}\n",
    "    train_loss_all=[]\n",
    "    net.train()\n",
    "    for epoch in range(EPOCHES):\n",
    "        train_loss=0\n",
    "        train_num=0\n",
    "        running_loss, running_items, running_right = 0.0, 0.0, 0.0\n",
    "        for i, (inputs, labels) in enumerate(train_loader):\n",
    "            \n",
    "            # обнуляем градиент\n",
    "            optimizer.zero_grad()\n",
    "            \n",
    "            # делаем предсказание\n",
    "            outputs = net(inputs)\n",
    "            \n",
    "            # считаем ошибку\n",
    "            loss = loss_fn(outputs, labels)\n",
    "\n",
    "            # меняем веса\n",
    "            loss.backward()\n",
    "            optimizer.step()\n",
    "\n",
    "            # выводим статистику о процессе обучения\n",
    "            train_loss+=loss.item()*inputs.size(0)\n",
    "            train_num+=inputs.size(0)\n",
    "            if i + 1 == len(train_loader) and epoch % 5 == 0:\n",
    "                print(f'Epoch [{epoch + 1}/{EPOCHES}]. ' \\\n",
    "                      f'Step [{i + 1}/{len(train_loader)}]. ' \\\n",
    "                      f'Loss: {train_loss / train_num:.3f}')\n",
    "        train_loss_all.append(train_loss / train_num)\n",
    "    \n",
    "    return train_loss_all"
   ]
  },
  {
   "cell_type": "code",
   "execution_count": 6,
   "metadata": {},
   "outputs": [],
   "source": [
    "class MLPregression(nn.Module):\n",
    "    def __init__(self):\n",
    "        super(MLPregression,self).__init__()\n",
    "        #Определить первый скрытый слой\n",
    "        self.hidden1=nn.Linear(in_features=8,out_features=100,bias=True)#8*100 8 Особенности атрибута\n",
    "        #Определить второй скрытый слой\n",
    "        self.hidden2=nn.Linear(100,100)#100*100\n",
    "        #Определить третий скрытый слой\n",
    "        self.hidden3=nn.Linear(100,50)#100*50\n",
    "        # -Регрессия прогноз слой\n",
    "        self.predict=nn.Linear(50,1)#50*1 Прогноз только на одну цену дома\n",
    "    def forward(self,x):\n",
    "        x=F.relu(self.hidden1(x))\n",
    "        x=F.relu(self.hidden2(x))\n",
    "        x=F.relu(self.hidden3(x))\n",
    "        output=self.predict(x)\n",
    "        return output[:,0]\n",
    "mlpreg=MLPregression()"
   ]
  },
  {
   "cell_type": "code",
   "execution_count": 7,
   "metadata": {
    "tags": []
   },
   "outputs": [],
   "source": [
    "import torch.nn.functional as F\n",
    "from sklearn.metrics import mean_squared_error, mean_absolute_error\n",
    "import matplotlib.pyplot as plt"
   ]
  },
  {
   "cell_type": "code",
   "execution_count": 8,
   "metadata": {
    "id": "u9yhhfYFfjwd"
   },
   "outputs": [],
   "source": [
    "california_housing = fetch_california_housing()\n",
    "# Разделим на тестовые и тренеровочные данные\n",
    "X_train, X_test, y_train, y_test = train_test_split(california_housing.data, california_housing.target, test_size=0.25, random_state=13)"
   ]
  },
  {
   "cell_type": "code",
   "execution_count": 9,
   "metadata": {
    "id": "MYOmWW1LfoDT"
   },
   "outputs": [],
   "source": [
    "# Нормализуем данные и подготовим их для дальнейшего использования в нашем dstaset\n",
    "scale = StandardScaler()\n",
    "X_train_s = scale.fit_transform(X_train)\n",
    "X_test_s = scale.transform(X_test)"
   ]
  },
  {
   "cell_type": "code",
   "execution_count": 10,
   "metadata": {
    "id": "dbRkP4hCfr6d"
   },
   "outputs": [],
   "source": [
    "train_xt = torch.from_numpy(X_train_s.astype(np.float32)).to(DEVICE)\n",
    "train_yt = torch.from_numpy(y_train.astype(np.float32)).to(DEVICE)\n",
    "\n",
    "test_xt = torch.from_numpy(X_test_s.astype(np.float32)).to(DEVICE)\n",
    "test_yt = torch.from_numpy(y_test.astype(np.float32)).to(DEVICE)"
   ]
  },
  {
   "cell_type": "code",
   "execution_count": 11,
   "metadata": {
    "id": "ac9dO76RfuEd"
   },
   "outputs": [],
   "source": [
    "train_dataset = CHDataset(train_xt, train_yt)\n",
    "test_dataset = CHDataset(test_xt, test_yt)"
   ]
  },
  {
   "cell_type": "code",
   "execution_count": 12,
   "metadata": {
    "id": "bQ4XBSBlfwf5"
   },
   "outputs": [],
   "source": [
    "train_loader = DataLoader(train_dataset, batch_size=64, shuffle=True, num_workers=0, drop_last=False)\n",
    "test_loader = DataLoader(test_dataset, batch_size=64, shuffle=True, num_workers=0, drop_last=False)"
   ]
  },
  {
   "cell_type": "code",
   "execution_count": 13,
   "metadata": {
    "tags": []
   },
   "outputs": [],
   "source": [
    "result = {}"
   ]
  },
  {
   "cell_type": "markdown",
   "metadata": {
    "id": "6FrPKCfQf3eu"
   },
   "source": [
    "# Adam"
   ]
  },
  {
   "cell_type": "code",
   "execution_count": 14,
   "metadata": {
    "id": "IFyL3bvUfyxi"
   },
   "outputs": [],
   "source": [
    "net = CHNet().to(DEVICE)\n",
    "optimizer = Adam(net.parameters(), lr=LR)"
   ]
  },
  {
   "cell_type": "code",
   "execution_count": 15,
   "metadata": {
    "colab": {
     "base_uri": "https://localhost:8080/"
    },
    "id": "jWUR_DVLf9Gc",
    "outputId": "bd3716d5-7a71-44a2-b39e-c72fe1bec841"
   },
   "outputs": [
    {
     "name": "stdout",
     "output_type": "stream",
     "text": [
      "Epoch [1/50]. Step [242/242]. Loss: 3.074\n",
      "Epoch [6/50]. Step [242/242]. Loss: 0.767\n",
      "Epoch [11/50]. Step [242/242]. Loss: 0.477\n",
      "Epoch [16/50]. Step [242/242]. Loss: 0.425\n",
      "Epoch [21/50]. Step [242/242]. Loss: 0.412\n",
      "Epoch [26/50]. Step [242/242]. Loss: 0.396\n",
      "Epoch [31/50]. Step [242/242]. Loss: 0.384\n",
      "Epoch [36/50]. Step [242/242]. Loss: 0.377\n",
      "Epoch [41/50]. Step [242/242]. Loss: 0.371\n",
      "Epoch [46/50]. Step [242/242]. Loss: 0.365\n",
      "CPU times: total: 6min 29s\n",
      "Wall time: 1min 5s\n"
     ]
    }
   ],
   "source": [
    "%%time\n",
    "result['adam'] = train_loop(train_loader, test_loader, net, optimizer)"
   ]
  },
  {
   "cell_type": "markdown",
   "metadata": {
    "id": "izB6uyPhgSqx"
   },
   "source": [
    "# RMSProp"
   ]
  },
  {
   "cell_type": "code",
   "execution_count": 16,
   "metadata": {
    "id": "ME_AOY8FgHZU"
   },
   "outputs": [],
   "source": [
    "net = CHNet().to(DEVICE)\n",
    "optimizer = RMSprop(net.parameters(), lr=LR)"
   ]
  },
  {
   "cell_type": "code",
   "execution_count": 17,
   "metadata": {
    "colab": {
     "base_uri": "https://localhost:8080/"
    },
    "id": "FY-9plsvgWBH",
    "outputId": "d7347eed-99b7-4427-ab9b-9b1378bdfb69"
   },
   "outputs": [
    {
     "name": "stdout",
     "output_type": "stream",
     "text": [
      "Epoch [1/50]. Step [242/242]. Loss: 2.670\n",
      "Epoch [6/50]. Step [242/242]. Loss: 0.607\n",
      "Epoch [11/50]. Step [242/242]. Loss: 0.451\n",
      "Epoch [16/50]. Step [242/242]. Loss: 0.413\n",
      "Epoch [21/50]. Step [242/242]. Loss: 0.398\n",
      "Epoch [26/50]. Step [242/242]. Loss: 0.397\n",
      "Epoch [31/50]. Step [242/242]. Loss: 0.380\n",
      "Epoch [36/50]. Step [242/242]. Loss: 0.378\n",
      "Epoch [41/50]. Step [242/242]. Loss: 0.364\n",
      "Epoch [46/50]. Step [242/242]. Loss: 0.360\n",
      "CPU times: total: 5min 52s\n",
      "Wall time: 59 s\n"
     ]
    }
   ],
   "source": [
    "%%time\n",
    "result['rms'] = train_loop(train_loader, test_loader, net, optimizer)"
   ]
  },
  {
   "cell_type": "markdown",
   "metadata": {
    "id": "4AV5F-mTga7e"
   },
   "source": [
    "# SGD"
   ]
  },
  {
   "cell_type": "code",
   "execution_count": 18,
   "metadata": {
    "id": "JfFxD8dmgYRj"
   },
   "outputs": [],
   "source": [
    "net = CHNet().to(DEVICE)\n",
    "optimizer = SGD(net.parameters(), lr=LR)"
   ]
  },
  {
   "cell_type": "code",
   "execution_count": 19,
   "metadata": {
    "colab": {
     "base_uri": "https://localhost:8080/"
    },
    "id": "dStNVUeJgftt",
    "outputId": "5e860d4f-6243-47f9-91cb-b577ff386618"
   },
   "outputs": [
    {
     "name": "stdout",
     "output_type": "stream",
     "text": [
      "Epoch [1/50]. Step [242/242]. Loss: 3.389\n",
      "Epoch [6/50]. Step [242/242]. Loss: 0.819\n",
      "Epoch [11/50]. Step [242/242]. Loss: 0.699\n",
      "Epoch [16/50]. Step [242/242]. Loss: 0.649\n",
      "Epoch [21/50]. Step [242/242]. Loss: 0.615\n",
      "Epoch [26/50]. Step [242/242]. Loss: 0.581\n",
      "Epoch [31/50]. Step [242/242]. Loss: 0.534\n",
      "Epoch [36/50]. Step [242/242]. Loss: 0.509\n",
      "Epoch [41/50]. Step [242/242]. Loss: 0.495\n",
      "Epoch [46/50]. Step [242/242]. Loss: 0.499\n",
      "CPU times: total: 5min 25s\n",
      "Wall time: 54.7 s\n"
     ]
    }
   ],
   "source": [
    "%%time\n",
    "result['sgd'] = train_loop(train_loader, test_loader, net, optimizer)"
   ]
  },
  {
   "cell_type": "markdown",
   "metadata": {
    "id": "T14lK3gagnv6"
   },
   "source": [
    "# SGD + Momentum"
   ]
  },
  {
   "cell_type": "code",
   "execution_count": 20,
   "metadata": {
    "id": "mE_IzdewgiOb"
   },
   "outputs": [],
   "source": [
    "net = CHNet().to(DEVICE)\n",
    "optimizer = SGD(net.parameters(), lr=LR, momentum=0.8)"
   ]
  },
  {
   "cell_type": "code",
   "execution_count": 21,
   "metadata": {
    "colab": {
     "base_uri": "https://localhost:8080/"
    },
    "id": "v2P04bd3gsHK",
    "outputId": "52e80ae6-3b99-49e9-ac20-39b1e144bc01"
   },
   "outputs": [
    {
     "name": "stdout",
     "output_type": "stream",
     "text": [
      "Epoch [1/50]. Step [242/242]. Loss: 1.876\n",
      "Epoch [6/50]. Step [242/242]. Loss: 0.554\n",
      "Epoch [11/50]. Step [242/242]. Loss: 0.476\n",
      "Epoch [16/50]. Step [242/242]. Loss: 0.452\n",
      "Epoch [21/50]. Step [242/242]. Loss: 0.426\n",
      "Epoch [26/50]. Step [242/242]. Loss: 0.408\n",
      "Epoch [31/50]. Step [242/242]. Loss: 0.409\n",
      "Epoch [36/50]. Step [242/242]. Loss: 0.403\n",
      "Epoch [41/50]. Step [242/242]. Loss: 0.402\n",
      "Epoch [46/50]. Step [242/242]. Loss: 0.399\n",
      "CPU times: total: 5min 29s\n",
      "Wall time: 55.1 s\n"
     ]
    }
   ],
   "source": [
    "%%time\n",
    "result['sgdm'] = train_loop(train_loader, test_loader, net, optimizer)"
   ]
  },
  {
   "cell_type": "code",
   "execution_count": 22,
   "metadata": {
    "tags": []
   },
   "outputs": [
    {
     "data": {
      "image/png": "[encoded data removed]",
      "text/plain": [
       "<Figure size 1000x600 with 1 Axes>"
      ]
     },
     "metadata": {},
     "output_type": "display_data"
    }
   ],
   "source": [
    "plt.figure(figsize=(10, 6))\n",
    "plt.plot(result['adam'], \"ro-\", label=\"adam\")\n",
    "plt.plot(result['rms'], \"go-\", label=\"rms\")\n",
    "plt.plot(result['sgd'], \"bo-\", label=\"sgd\")\n",
    "plt.plot(result['sgdm'], \"yo-\", label=\"sgdm\")\n",
    "plt.legend()\n",
    "plt.grid()\n",
    "plt.xlabel(\"epoch\")\n",
    "plt.ylabel(\"loss\")\n",
    "plt.show()"
   ]
  },
  {
   "cell_type": "markdown",
   "metadata": {
    "id": "ix6CfsxJguTK"
   },
   "source": [
    "*Быстрее обучилась модель с оптимизатором SGD + Momentum, но меньший loss получился у модели с оптимизатором Adam*"
   ]
  },
  {
   "cell_type": "code",
   "execution_count": null,
   "metadata": {},
   "outputs": [],
   "source": []
  }
 ],
 "metadata": {
  "colab": {
   "provenance": []
  },
  "kernelspec": {
   "display_name": "myenv",
   "language": "python",
   "name": "myenv"
  },
  "language_info": {
   "codemirror_mode": {
    "name": "ipython",
    "version": 3
   },
   "file_extension": ".py",
   "mimetype": "text/x-python",
   "name": "python",
   "nbconvert_exporter": "python",
   "pygments_lexer": "ipython3",
   "version": "3.8.10"
  }
 },
 "nbformat": 4,
 "nbformat_minor": 4
}
