{
 "cells": [
  {
   "cell_type": "markdown",
   "id": "7b3b0ba8-5238-4982-855b-c18d6743981c",
   "metadata": {},
   "source": [
    "# Фреймворк PyTorch для разработки искусственных нейронных сетей"
   ]
  },
  {
   "cell_type": "markdown",
   "id": "193dd11e-1083-4f59-b5af-92879d01ea95",
   "metadata": {},
   "source": [
    "## Урок 6. Нейросети в обработке текста"
   ]
  },
  {
   "cell_type": "markdown",
   "id": "8b3b295a",
   "metadata": {
    "papermill": {
     "duration": 0.012138,
     "end_time": "2022-07-11T11:38:15.395395",
     "exception": false,
     "start_time": "2022-07-11T11:38:15.383257",
     "status": "completed"
    },
    "tags": []
   },
   "source": [
    "1. Попробуйте обучить нейронную сеть с применением одномерных сверток для предсказания сентимента сообщений с твитера на примере [dataset](https://www.kaggle.com/datasets/arkhoshghalb/twitter-sentiment-analysis-hatred-speech)\n",
    "\n",
    "2. Опишите, какой результат вы получили? Что помогло вам улучшить ее точность?"
   ]
  },
  {
   "cell_type": "code",
   "execution_count": 1,
   "id": "a20d7ada",
   "metadata": {
    "papermill": {
     "duration": 11.850993,
     "end_time": "2022-07-11T11:38:27.257283",
     "exception": false,
     "start_time": "2022-07-11T11:38:15.406290",
     "status": "completed"
    },
    "tags": []
   },
   "outputs": [],
   "source": [
    "%%capture\n",
    "!pip install stop-words pymorphy2"
   ]
  },
  {
   "cell_type": "code",
   "execution_count": 2,
   "id": "28644687",
   "metadata": {
    "_cell_guid": "b1076dfc-b9ad-4769-8c92-a6c4dae69d19",
    "_uuid": "8f2839f25d086af736a60e9eeb907d3b93b6e0e5",
    "papermill": {
     "duration": 0.02261,
     "end_time": "2022-07-11T11:38:27.288134",
     "exception": false,
     "start_time": "2022-07-11T11:38:27.265524",
     "status": "completed"
    },
    "tags": []
   },
   "outputs": [],
   "source": [
    "import numpy as np \n",
    "import pandas as pd\n",
    "import os\n",
    "import torch\n",
    "from torch import nn\n",
    "from torch.nn import functional as F\n",
    "from torchvision import transforms, datasets\n",
    "import matplotlib.pyplot as plt\n",
    "import seaborn as sns\n",
    "\n",
    "from sklearn.model_selection import train_test_split\n",
    "\n",
    "from string import punctuation\n",
    "from stop_words import get_stop_words\n",
    "from pymorphy2 import MorphAnalyzer\n",
    "import re\n",
    "\n",
    "from tqdm import tqdm \n",
    "tqdm.pandas()\n",
    "\n",
    "from torch.utils.data import DataLoader, Dataset\n",
    "\n",
    "import warnings\n",
    "warnings.filterwarnings('ignore')\n",
    "warnings.simplefilter('ignore')"
   ]
  },
  {
   "cell_type": "code",
   "execution_count": 3,
   "id": "2717cc06-38c0-4b49-9d48-fb08127cea21",
   "metadata": {
    "tags": []
   },
   "outputs": [],
   "source": [
    "%%capture\n",
    "import nltk\n",
    "from nltk.tokenize import word_tokenize\n",
    "nltk.download(\"punkt\")\n",
    "from nltk.probability import FreqDist"
   ]
  },
  {
   "cell_type": "code",
   "execution_count": 4,
   "id": "fb8d10bb-8288-4a5b-912a-d5b3dca5dfdd",
   "metadata": {},
   "outputs": [
    {
     "data": {
      "text/plain": [
       "<torch._C.Generator at 0x9e92b50>"
      ]
     },
     "execution_count": 4,
     "metadata": {},
     "output_type": "execute_result"
    }
   ],
   "source": [
    "torch.manual_seed(18)"
   ]
  },
  {
   "cell_type": "code",
   "execution_count": 5,
   "id": "c3f640d1",
   "metadata": {
    "papermill": {
     "duration": 0.238951,
     "end_time": "2022-07-11T11:38:29.043926",
     "exception": false,
     "start_time": "2022-07-11T11:38:28.804975",
     "status": "completed"
    },
    "tags": []
   },
   "outputs": [],
   "source": [
    "morpher = MorphAnalyzer()\n",
    "def preprocess_text(txt):\n",
    "    txt = str(txt)\n",
    "    txt = \"\".join(c for c in txt if c not in puncts)\n",
    "    txt = txt.lower()\n",
    "    txt = re.sub(\"no\\s\", \"no\", txt)\n",
    "    txt = [morpher.parse(word)[0].normal_form for word in txt.split() if word not in sw]\n",
    "    return \" \".join(txt)"
   ]
  },
  {
   "cell_type": "code",
   "execution_count": 6,
   "id": "4ba5e30b",
   "metadata": {
    "papermill": {
     "duration": 0.01734,
     "end_time": "2022-07-11T11:38:29.069274",
     "exception": false,
     "start_time": "2022-07-11T11:38:29.051934",
     "status": "completed"
    },
    "tags": []
   },
   "outputs": [],
   "source": [
    "def text_to_sequence(text, maxlen):\n",
    "    result = []\n",
    "    tokens = word_tokenize(text.lower())\n",
    "    tokens_filtered = [word for word in tokens if word.isalnum()]\n",
    "    for word in tokens_filtered:\n",
    "        if word in vocabulary:\n",
    "            result.append(vocabulary[word])\n",
    "\n",
    "    padding = [0] * (maxlen-len(result))\n",
    "    return result[-maxlen:] + padding"
   ]
  },
  {
   "cell_type": "code",
   "execution_count": 7,
   "id": "3c8e5020",
   "metadata": {
    "papermill": {
     "duration": 0.150488,
     "end_time": "2022-07-11T11:38:29.227709",
     "exception": false,
     "start_time": "2022-07-11T11:38:29.077221",
     "status": "completed"
    },
    "tags": []
   },
   "outputs": [],
   "source": [
    "train = pd.read_csv('data/train.csv')\n",
    "test = pd.read_csv('data/test.csv')"
   ]
  },
  {
   "cell_type": "code",
   "execution_count": 8,
   "id": "1d534d54",
   "metadata": {
    "papermill": {
     "duration": 0.028565,
     "end_time": "2022-07-11T11:38:29.264666",
     "exception": false,
     "start_time": "2022-07-11T11:38:29.236101",
     "status": "completed"
    },
    "tags": []
   },
   "outputs": [
    {
     "data": {
      "text/html": [
       "<div>\n",
       "<style scoped>\n",
       "    .dataframe tbody tr th:only-of-type {\n",
       "        vertical-align: middle;\n",
       "    }\n",
       "\n",
       "    .dataframe tbody tr th {\n",
       "        vertical-align: top;\n",
       "    }\n",
       "\n",
       "    .dataframe thead th {\n",
       "        text-align: right;\n",
       "    }\n",
       "</style>\n",
       "<table border=\"1\" class=\"dataframe\">\n",
       "  <thead>\n",
       "    <tr style=\"text-align: right;\">\n",
       "      <th></th>\n",
       "      <th>id</th>\n",
       "      <th>label</th>\n",
       "      <th>tweet</th>\n",
       "    </tr>\n",
       "  </thead>\n",
       "  <tbody>\n",
       "    <tr>\n",
       "      <th>0</th>\n",
       "      <td>1</td>\n",
       "      <td>0</td>\n",
       "      <td>@user when a father is dysfunctional and is s...</td>\n",
       "    </tr>\n",
       "    <tr>\n",
       "      <th>1</th>\n",
       "      <td>2</td>\n",
       "      <td>0</td>\n",
       "      <td>@user @user thanks for #lyft credit i can't us...</td>\n",
       "    </tr>\n",
       "    <tr>\n",
       "      <th>2</th>\n",
       "      <td>3</td>\n",
       "      <td>0</td>\n",
       "      <td>bihday your majesty</td>\n",
       "    </tr>\n",
       "    <tr>\n",
       "      <th>3</th>\n",
       "      <td>4</td>\n",
       "      <td>0</td>\n",
       "      <td>#model   i love u take with u all the time in ...</td>\n",
       "    </tr>\n",
       "    <tr>\n",
       "      <th>4</th>\n",
       "      <td>5</td>\n",
       "      <td>0</td>\n",
       "      <td>factsguide: society now    #motivation</td>\n",
       "    </tr>\n",
       "  </tbody>\n",
       "</table>\n",
       "</div>"
      ],
      "text/plain": [
       "   id  label                                              tweet\n",
       "0   1      0   @user when a father is dysfunctional and is s...\n",
       "1   2      0  @user @user thanks for #lyft credit i can't us...\n",
       "2   3      0                                bihday your majesty\n",
       "3   4      0  #model   i love u take with u all the time in ...\n",
       "4   5      0             factsguide: society now    #motivation"
      ]
     },
     "execution_count": 8,
     "metadata": {},
     "output_type": "execute_result"
    }
   ],
   "source": [
    "train.head()"
   ]
  },
  {
   "cell_type": "code",
   "execution_count": 9,
   "id": "391429b4",
   "metadata": {
    "papermill": {
     "duration": 0.016153,
     "end_time": "2022-07-11T11:38:29.289271",
     "exception": false,
     "start_time": "2022-07-11T11:38:29.273118",
     "status": "completed"
    },
    "tags": []
   },
   "outputs": [
    {
     "data": {
      "text/plain": [
       "(31962, 3)"
      ]
     },
     "execution_count": 9,
     "metadata": {},
     "output_type": "execute_result"
    }
   ],
   "source": [
    "train.shape"
   ]
  },
  {
   "cell_type": "code",
   "execution_count": 10,
   "id": "ba3cac6e",
   "metadata": {
    "papermill": {
     "duration": 0.023496,
     "end_time": "2022-07-11T11:38:29.320854",
     "exception": false,
     "start_time": "2022-07-11T11:38:29.297358",
     "status": "completed"
    },
    "tags": []
   },
   "outputs": [
    {
     "data": {
      "text/plain": [
       "0    29720\n",
       "1     2242\n",
       "Name: label, dtype: int64"
      ]
     },
     "execution_count": 10,
     "metadata": {},
     "output_type": "execute_result"
    }
   ],
   "source": [
    "train['label'].value_counts()"
   ]
  },
  {
   "cell_type": "code",
   "execution_count": 11,
   "id": "9ce99fa1",
   "metadata": {
    "papermill": {
     "duration": 0.019222,
     "end_time": "2022-07-11T11:38:29.348503",
     "exception": false,
     "start_time": "2022-07-11T11:38:29.329281",
     "status": "completed"
    },
    "tags": []
   },
   "outputs": [],
   "source": [
    "X = train.drop('label', axis = 1)\n",
    "y = train['label']"
   ]
  },
  {
   "cell_type": "code",
   "execution_count": 12,
   "id": "26d47fb2",
   "metadata": {
    "papermill": {
     "duration": 0.021507,
     "end_time": "2022-07-11T11:38:29.378296",
     "exception": false,
     "start_time": "2022-07-11T11:38:29.356789",
     "status": "completed"
    },
    "tags": []
   },
   "outputs": [],
   "source": [
    "X_train, X_val, y_train, y_val = train_test_split(X, y, test_size=0.1, random_state=13)"
   ]
  },
  {
   "cell_type": "code",
   "execution_count": 13,
   "id": "c0a19207",
   "metadata": {
    "papermill": {
     "duration": 0.015254,
     "end_time": "2022-07-11T11:38:29.401561",
     "exception": false,
     "start_time": "2022-07-11T11:38:29.386307",
     "status": "completed"
    },
    "tags": []
   },
   "outputs": [],
   "source": [
    "max_words = 2000\n",
    "max_len = 20\n",
    "num_classes = 1\n",
    "\n",
    "# Training\n",
    "epochs = 15\n",
    "batch_size = 512\n",
    "print_batch_n = 100"
   ]
  },
  {
   "cell_type": "code",
   "execution_count": 14,
   "id": "be33407f",
   "metadata": {
    "papermill": {
     "duration": 0.015862,
     "end_time": "2022-07-11T11:38:29.425539",
     "exception": false,
     "start_time": "2022-07-11T11:38:29.409677",
     "status": "completed"
    },
    "tags": []
   },
   "outputs": [],
   "source": [
    "sw = set(get_stop_words(\"english\"))\n",
    "puncts = set(punctuation)"
   ]
  },
  {
   "cell_type": "code",
   "execution_count": 15,
   "id": "2fde58c3",
   "metadata": {
    "papermill": {
     "duration": 8.006499,
     "end_time": "2022-07-11T11:38:37.440673",
     "exception": false,
     "start_time": "2022-07-11T11:38:29.434174",
     "status": "completed"
    },
    "tags": []
   },
   "outputs": [],
   "source": [
    "%%capture\n",
    "tqdm.pandas()\n",
    "X_train['tweet'] = X_train['tweet'].progress_apply(preprocess_text)\n",
    "X_val['tweet'] = X_val['tweet'].progress_apply(preprocess_text)"
   ]
  },
  {
   "cell_type": "code",
   "execution_count": 16,
   "id": "da248a91",
   "metadata": {
    "papermill": {
     "duration": 0.035425,
     "end_time": "2022-07-11T11:38:37.490298",
     "exception": false,
     "start_time": "2022-07-11T11:38:37.454873",
     "status": "completed"
    },
    "tags": []
   },
   "outputs": [],
   "source": [
    "train_corpus = \" \".join(X_train['tweet'])\n",
    "train_corpus = train_corpus.lower()"
   ]
  },
  {
   "cell_type": "code",
   "execution_count": 17,
   "id": "51f5eaef",
   "metadata": {
    "papermill": {
     "duration": 2.59244,
     "end_time": "2022-07-11T11:38:40.095532",
     "exception": false,
     "start_time": "2022-07-11T11:38:37.503092",
     "status": "completed"
    },
    "tags": []
   },
   "outputs": [],
   "source": [
    "tokens = word_tokenize(train_corpus)"
   ]
  },
  {
   "cell_type": "code",
   "execution_count": 18,
   "id": "9c383a75",
   "metadata": {
    "papermill": {
     "duration": 0.046099,
     "end_time": "2022-07-11T11:38:40.155405",
     "exception": false,
     "start_time": "2022-07-11T11:38:40.109306",
     "status": "completed"
    },
    "tags": []
   },
   "outputs": [],
   "source": [
    "tokens_filtered = [word for word in tokens if word.isalnum()]"
   ]
  },
  {
   "cell_type": "code",
   "execution_count": 19,
   "id": "89f6f9d7",
   "metadata": {
    "papermill": {
     "duration": 0.197776,
     "end_time": "2022-07-11T11:38:40.366076",
     "exception": false,
     "start_time": "2022-07-11T11:38:40.168300",
     "status": "completed"
    },
    "tags": []
   },
   "outputs": [
    {
     "data": {
      "text/plain": [
       "1999"
      ]
     },
     "execution_count": 19,
     "metadata": {},
     "output_type": "execute_result"
    }
   ],
   "source": [
    "dist = FreqDist(tokens_filtered)\n",
    "tokens_filtered_top = [pair[0] for pair in dist.most_common(max_words-1)]  # вычитание 1 для padding\n",
    "len(tokens_filtered_top)"
   ]
  },
  {
   "cell_type": "code",
   "execution_count": 20,
   "id": "5540e937",
   "metadata": {
    "papermill": {
     "duration": 0.023469,
     "end_time": "2022-07-11T11:38:40.402755",
     "exception": false,
     "start_time": "2022-07-11T11:38:40.379286",
     "status": "completed"
    },
    "tags": []
   },
   "outputs": [
    {
     "data": {
      "text/plain": [
       "1999"
      ]
     },
     "execution_count": 20,
     "metadata": {},
     "output_type": "execute_result"
    }
   ],
   "source": [
    "vocabulary = {v: k for k, v in dict(enumerate(tokens_filtered_top, 1)).items()}\n",
    "len(vocabulary)"
   ]
  },
  {
   "cell_type": "code",
   "execution_count": 21,
   "id": "994d7a9d",
   "metadata": {
    "papermill": {
     "duration": 5.606021,
     "end_time": "2022-07-11T11:38:46.022276",
     "exception": false,
     "start_time": "2022-07-11T11:38:40.416255",
     "status": "completed"
    },
    "tags": []
   },
   "outputs": [
    {
     "name": "stdout",
     "output_type": "stream",
     "text": [
      "CPU times: total: 3.17 s\n",
      "Wall time: 3.19 s\n"
     ]
    }
   ],
   "source": [
    "%%time\n",
    "X_train = np.asarray([text_to_sequence(text, max_len) for text in X_train['tweet']])\n",
    "X_val = np.asarray([text_to_sequence(text, max_len) for text in X_val['tweet']])"
   ]
  },
  {
   "cell_type": "code",
   "execution_count": 22,
   "id": "a3a09e11",
   "metadata": {
    "papermill": {
     "duration": 1.612248,
     "end_time": "2022-07-11T11:38:47.647943",
     "exception": false,
     "start_time": "2022-07-11T11:38:46.035695",
     "status": "completed"
    },
    "tags": []
   },
   "outputs": [],
   "source": [
    "class Net(nn.Module):\n",
    "    def __init__(self, vocab_size=2000, embedding_dim=128, out_channel=128, num_classes=1):\n",
    "        super().__init__()\n",
    "        self.embedding = nn.Embedding(vocab_size, embedding_dim)\n",
    "        self.conv_1 = nn.Conv1d(embedding_dim, out_channel, kernel_size=2)\n",
    "        self.conv_2 = nn.Conv1d(embedding_dim, out_channel, kernel_size=3)\n",
    "        self.pool = nn.MaxPool1d(2)\n",
    "        self.relu = nn.ReLU()\n",
    "        self.linear_1 = nn.Linear(out_channel, out_channel // 2)\n",
    "        self.linear_2 = nn.Linear(out_channel // 2, num_classes)\n",
    "        \n",
    "    def forward(self, x):        \n",
    "        output = self.embedding(x) # B, L, E\n",
    "        #                       B  E  L         \n",
    "        output = output.permute(0, 2, 1)\n",
    "        output = self.conv_1(output)\n",
    "        output = self.relu(output)\n",
    "        output = self.pool(output)\n",
    "\n",
    "        output = self.conv_2(output)\n",
    "        output = self.relu(output)\n",
    "        output = self.pool(output)\n",
    "        output = torch.max(output, axis=2).values\n",
    "        output = self.linear_1(output)\n",
    "        output = self.relu(output)\n",
    "        output = self.linear_2(output)\n",
    "        output = F.sigmoid(output)\n",
    "        return output"
   ]
  },
  {
   "cell_type": "code",
   "execution_count": 23,
   "id": "b4256d19",
   "metadata": {
    "papermill": {
     "duration": 0.023716,
     "end_time": "2022-07-11T11:38:47.686274",
     "exception": false,
     "start_time": "2022-07-11T11:38:47.662558",
     "status": "completed"
    },
    "tags": []
   },
   "outputs": [],
   "source": [
    "class DataWrapper(Dataset):\n",
    "    def __init__(self, data, target, transform=None):\n",
    "        self.data = torch.from_numpy(data).long()\n",
    "        self.target = torch.from_numpy(target).long()\n",
    "        self.transform = transform\n",
    "        \n",
    "    def __getitem__(self, index):\n",
    "        x = self.data[index]\n",
    "        y = self.target[index]\n",
    "        \n",
    "        if self.transform:\n",
    "            x = self.transform(x)\n",
    "            \n",
    "        return x, y\n",
    "    \n",
    "    def __len__(self):\n",
    "        return len(self.data)"
   ]
  },
  {
   "cell_type": "code",
   "execution_count": 24,
   "id": "624cb749",
   "metadata": {
    "papermill": {
     "duration": 0.022191,
     "end_time": "2022-07-11T11:38:47.721562",
     "exception": false,
     "start_time": "2022-07-11T11:38:47.699371",
     "status": "completed"
    },
    "tags": []
   },
   "outputs": [],
   "source": [
    "train_dataset = DataWrapper(X_train, y_train.values)\n",
    "train_loader = DataLoader(train_dataset, batch_size=batch_size, shuffle=True)\n",
    "\n",
    "val_dataset = DataWrapper(X_val, y_val.values)\n",
    "val_loader = DataLoader(val_dataset, batch_size=8, shuffle=True)"
   ]
  },
  {
   "cell_type": "code",
   "execution_count": 25,
   "id": "e94e0c3c",
   "metadata": {
    "papermill": {
     "duration": 0.085262,
     "end_time": "2022-07-11T11:38:47.820392",
     "exception": false,
     "start_time": "2022-07-11T11:38:47.735130",
     "status": "completed"
    },
    "tags": []
   },
   "outputs": [
    {
     "data": {
      "text/plain": [
       "'cpu'"
      ]
     },
     "execution_count": 25,
     "metadata": {},
     "output_type": "execute_result"
    }
   ],
   "source": [
    "model = Net(vocab_size=max_words)\n",
    "\n",
    "device = 'cuda' if torch.cuda.is_available() else 'cpu'\n",
    "device"
   ]
  },
  {
   "cell_type": "code",
   "execution_count": 26,
   "id": "9382c737",
   "metadata": {
    "papermill": {
     "duration": 0.021524,
     "end_time": "2022-07-11T11:38:47.855707",
     "exception": false,
     "start_time": "2022-07-11T11:38:47.834183",
     "status": "completed"
    },
    "tags": []
   },
   "outputs": [],
   "source": [
    "optimizer = torch.optim.Adam(model.parameters(), lr=0.01)\n",
    "criterion = nn.BCELoss()"
   ]
  },
  {
   "cell_type": "code",
   "execution_count": 27,
   "id": "1d674304",
   "metadata": {
    "papermill": {
     "duration": 13.515138,
     "end_time": "2022-07-11T11:39:01.383832",
     "exception": false,
     "start_time": "2022-07-11T11:38:47.868694",
     "status": "completed"
    },
    "tags": []
   },
   "outputs": [
    {
     "name": "stdout",
     "output_type": "stream",
     "text": [
      "Epoch [1/15]. Step [57/57]. Loss: 0.243. Acc: 0.918. Test loss: 0.205. Test acc: 0.942\n",
      "Epoch [2/15]. Step [57/57]. Loss: 0.096. Acc: 0.954. Test loss: 0.204. Test acc: 0.953\n",
      "Epoch [3/15]. Step [57/57]. Loss: 0.138. Acc: 0.966. Test loss: 0.123. Test acc: 0.948\n",
      "Epoch [4/15]. Step [57/57]. Loss: 0.038. Acc: 0.976. Test loss: 0.002. Test acc: 0.951\n",
      "Epoch [5/15]. Step [57/57]. Loss: 0.023. Acc: 0.982. Test loss: 0.000. Test acc: 0.953\n",
      "Epoch [6/15]. Step [57/57]. Loss: 0.048. Acc: 0.987. Test loss: 0.006. Test acc: 0.952\n",
      "Epoch [7/15]. Step [57/57]. Loss: 0.085. Acc: 0.991. Test loss: 0.000. Test acc: 0.949\n",
      "Epoch [8/15]. Step [57/57]. Loss: 0.001. Acc: 0.994. Test loss: 0.000. Test acc: 0.954\n",
      "Epoch [9/15]. Step [57/57]. Loss: 0.002. Acc: 0.994. Test loss: 0.000. Test acc: 0.951\n",
      "Epoch [10/15]. Step [57/57]. Loss: 0.019. Acc: 0.993. Test loss: 0.013. Test acc: 0.940\n",
      "Epoch [11/15]. Step [57/57]. Loss: 0.020. Acc: 0.992. Test loss: 0.004. Test acc: 0.950\n",
      "Epoch [12/15]. Step [57/57]. Loss: 0.010. Acc: 0.994. Test loss: 0.016. Test acc: 0.951\n",
      "Epoch [13/15]. Step [57/57]. Loss: 0.003. Acc: 0.996. Test loss: 0.007. Test acc: 0.951\n",
      "Epoch [14/15]. Step [57/57]. Loss: 0.003. Acc: 0.996. Test loss: 0.001. Test acc: 0.949\n",
      "Epoch [15/15]. Step [57/57]. Loss: 0.008. Acc: 0.997. Test loss: 0.000. Test acc: 0.950\n",
      "Training is finished!\n"
     ]
    }
   ],
   "source": [
    "model = model.to(device)\n",
    "model.train()\n",
    "th = 0.5\n",
    "\n",
    "train_loss_history = []\n",
    "test_loss_history = []\n",
    "\n",
    "\n",
    "for epoch in range(epochs):  \n",
    "    running_items, running_right = 0.0, 0.0\n",
    "    for i, data in enumerate(train_loader, 0):\n",
    "        inputs, labels = data[0].to(device), data[1].to(device)\n",
    "        \n",
    "        # обнуляем градиент\n",
    "        optimizer.zero_grad()\n",
    "        outputs = model(inputs)\n",
    "        \n",
    "        loss = criterion(outputs, labels.float().view(-1, 1))\n",
    "        loss.backward()\n",
    "        optimizer.step()\n",
    "\n",
    "        # подсчет ошибки на обучении\n",
    "        loss = loss.item()\n",
    "        running_items += len(labels)\n",
    "        # подсчет метрики на обучении\n",
    "        pred_labels = torch.squeeze((outputs > th).int())\n",
    "        running_right += (labels == pred_labels).sum()\n",
    "        \n",
    "    # выводим статистику о процессе обучения\n",
    "    model.eval()\n",
    "    \n",
    "    print(f'Epoch [{epoch + 1}/{epochs}]. ' \\\n",
    "            f'Step [{i + 1}/{len(train_loader)}]. ' \\\n",
    "            f'Loss: {loss:.3f}. ' \\\n",
    "            f'Acc: {running_right / running_items:.3f}', end='. ')\n",
    "    running_loss, running_items, running_right = 0.0, 0.0, 0.0\n",
    "    train_loss_history.append(loss)\n",
    "\n",
    "        # выводим статистику на тестовых данных\n",
    "    test_running_right, test_running_total, test_loss = 0.0, 0.0, 0.0\n",
    "    for j, data in enumerate(val_loader):\n",
    "        test_labels = data[1].to(device)\n",
    "        test_outputs = model(data[0].to(device))\n",
    "        \n",
    "        # подсчет ошибки на тесте\n",
    "        test_loss = criterion(test_outputs, test_labels.float().view(-1, 1))\n",
    "        # подсчет метрики на тесте\n",
    "        test_running_total += len(data[1])\n",
    "        pred_test_labels = torch.squeeze((test_outputs > th).int())\n",
    "        test_running_right += (test_labels == pred_test_labels).sum()\n",
    "    \n",
    "    test_loss_history.append(test_loss.item())\n",
    "    print(f'Test loss: {test_loss:.3f}. Test acc: {test_running_right / test_running_total:.3f}')\n",
    "    \n",
    "    model.train()\n",
    "        \n",
    "print('Training is finished!')"
   ]
  },
  {
   "cell_type": "code",
   "execution_count": 28,
   "id": "749aaf4e",
   "metadata": {
    "papermill": {
     "duration": 0.342286,
     "end_time": "2022-07-11T11:39:01.796165",
     "exception": false,
     "start_time": "2022-07-11T11:39:01.453879",
     "status": "completed"
    },
    "tags": []
   },
   "outputs": [
    {
     "data": {
      "image/png": "[encoded data removed]",
      "text/plain": [
       "<Figure size 640x480 with 1 Axes>"
      ]
     },
     "metadata": {},
     "output_type": "display_data"
    }
   ],
   "source": [
    "import matplotlib.pyplot as plt\n",
    "\n",
    "plt.title('Loss history')\n",
    "plt.grid(True)\n",
    "plt.ylabel('Loss')\n",
    "plt.xlabel('Epoch')\n",
    "plt.plot(train_loss_history, label='train')\n",
    "plt.plot(test_loss_history, label='test')\n",
    "plt.legend();"
   ]
  },
  {
   "cell_type": "code",
   "execution_count": null,
   "id": "9c3b3f69-e173-427e-8ee0-53eacd7e68ca",
   "metadata": {},
   "outputs": [],
   "source": []
  }
 ],
 "metadata": {
  "kernelspec": {
   "display_name": "myenv",
   "language": "python",
   "name": "myenv"
  },
  "language_info": {
   "codemirror_mode": {
    "name": "ipython",
    "version": 3
   },
   "file_extension": ".py",
   "mimetype": "text/x-python",
   "name": "python",
   "nbconvert_exporter": "python",
   "pygments_lexer": "ipython3",
   "version": "3.8.10"
  },
  "papermill": {
   "default_parameters": {},
   "duration": 56.303636,
   "end_time": "2022-07-11T11:39:03.335456",
   "environment_variables": {},
   "exception": null,
   "input_path": "__notebook__.ipynb",
   "output_path": "__notebook__.ipynb",
   "parameters": {},
   "start_time": "2022-07-11T11:38:07.031820",
   "version": "2.3.4"
  }
 },
 "nbformat": 4,
 "nbformat_minor": 5
}
